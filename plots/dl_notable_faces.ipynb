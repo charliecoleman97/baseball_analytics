{
 "cells": [
  {
   "cell_type": "code",
   "execution_count": 1,
   "metadata": {},
   "outputs": [],
   "source": [
    "import pybaseball as pb\n",
    "from bs4 import BeautifulSoup\n",
    "from urllib.request import urlretrieve, urlopen\n",
    "import os"
   ]
  },
  {
   "cell_type": "code",
   "execution_count": 5,
   "metadata": {},
   "outputs": [],
   "source": [
    "NOTABLES = \"\"\"Byron Buxton\n",
    "Sean Murphy\n",
    "Gregory Polanco\n",
    "Mike Zunino\n",
    "Jackie Bradley Jr\n",
    "Miguel Sano\n",
    "Jarred Kelenic\n",
    "Bryce Harper\n",
    "Shohei Ohtani\"\"\".split(\"\\n\")"
   ]
  },
  {
   "cell_type": "code",
   "execution_count": 6,
   "metadata": {},
   "outputs": [
    {
     "name": "stdout",
     "output_type": "stream",
     "text": [
      "getting Byron Buxton face\n",
      "buxtoby01\n",
      "done\n",
      "getting Sean Murphy face\n",
      "murphse01\n",
      "done\n",
      "getting Gregory Polanco face\n",
      "polangr01\n",
      "done\n",
      "getting Mike Zunino face\n",
      "zuninmi01\n",
      "done\n",
      "getting Jackie Bradley Jr face\n",
      "bradlja02\n",
      "done\n",
      "getting Miguel Sano face\n",
      "sanomi01\n",
      "done\n",
      "getting Jarred Kelenic face\n",
      "kelenja01\n",
      "done\n",
      "getting Bryce Harper face\n",
      "harpebr03\n",
      "done\n",
      "getting Shohei Ohtani face\n",
      "ohtansh01\n",
      "done\n"
     ]
    }
   ],
   "source": [
    "for player in NOTABLES:\n",
    "    print(\"getting\", player, \"face\")\n",
    "    first, last  = player.split(\" \")[:2]\n",
    "    bref_id = pb.playerid_lookup(last, first, fuzzy=True)[\"key_bbref\"].iloc[0]\n",
    "    print(bref_id)\n",
    "    bref_url = f\"https://www.baseball-reference.com/players/{bref_id[0]}/{bref_id}.shtml\"\n",
    "    soup = BeautifulSoup(urlopen(bref_url).read())\n",
    "    img = soup.select('#meta img')[0][\"src\"]\n",
    "    file_path = f\"notable_faces/{player}.jpg\"\n",
    "    if not os.path.exists(file_path):\n",
    "        urlretrieve(img, file_path)\n",
    "    print(\"done\")"
   ]
  },
  {
   "cell_type": "code",
   "execution_count": null,
   "metadata": {},
   "outputs": [],
   "source": []
  }
 ],
 "metadata": {
  "kernelspec": {
   "display_name": "Python 3",
   "language": "python",
   "name": "python3"
  },
  "language_info": {
   "codemirror_mode": {
    "name": "ipython",
    "version": 3
   },
   "file_extension": ".py",
   "mimetype": "text/x-python",
   "name": "python",
   "nbconvert_exporter": "python",
   "pygments_lexer": "ipython3",
   "version": "3.9.7"
  }
 },
 "nbformat": 4,
 "nbformat_minor": 4
}
