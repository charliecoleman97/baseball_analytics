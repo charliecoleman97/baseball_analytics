{
 "cells": [
  {
   "cell_type": "markdown",
   "metadata": {},
   "source": [
    "## Sunburst plot allowing for quick look up of player stats\n",
    "\n",
    "#### Goal is to start with divisions --> teams --> player  --> shows percentile stats"
   ]
  },
  {
   "cell_type": "code",
   "execution_count": 2,
   "metadata": {},
   "outputs": [],
   "source": [
    "import pybaseball as pb\n",
    "import pandas as pd\n",
    "import plotly.express as px\n",
    "import plotly.graph_objects as go \n",
    "import numpy as np"
   ]
  },
  {
   "cell_type": "code",
   "execution_count": 3,
   "metadata": {},
   "outputs": [],
   "source": [
    "pd.set_option('display.max_columns', None)"
   ]
  },
  {
   "cell_type": "markdown",
   "metadata": {},
   "source": [
    "### Preparing table \n",
    "#### Using the baseball savant table and going to add a League column and Division Column based on team"
   ]
  },
  {
   "cell_type": "code",
   "execution_count": 4,
   "metadata": {},
   "outputs": [],
   "source": [
    "savant_df = pd.read_csv('/Users/charliecoleman/Desktop/Git/Repositories/baseball_analytics/csv_files/baseball_savant.csv')"
   ]
  },
  {
   "cell_type": "code",
   "execution_count": 7,
   "metadata": {},
   "outputs": [],
   "source": [
    "al = ['BOS','TOR', 'NYY', 'TBR', 'BAL', 'CLE', 'DET', 'CHW', 'MIN', 'KCR', 'LAA', 'SEA', 'OAK', 'HOU', 'TEX']\n",
    "nl = list(savant_df['Team'][~savant_df['Team'].isin(al)].unique()[1:])"
   ]
  },
  {
   "cell_type": "code",
   "execution_count": 11,
   "metadata": {},
   "outputs": [],
   "source": [
    "# Creating the League column\n",
    "conditions =[\n",
    "    (savant_df['Team'].isin(al)),\n",
    "    (savant_df['Team'].isin(nl)),\n",
    "    (savant_df['Team'] == '- - -')\n",
    "]\n",
    "values = ['AL', 'NL', '- - -']\n",
    "savant_df['League'] = np.select(conditions, values)"
   ]
  },
  {
   "cell_type": "code",
   "execution_count": 13,
   "metadata": {},
   "outputs": [],
   "source": [
    "# List of AL division Team\n",
    "ale = al[:5]\n",
    "alc = al[5:10]\n",
    "alw = al[10:]\n",
    "\n",
    "# List of AL division Team\n",
    "nle = ['PHI', 'WSN', 'ATL', 'NYM', 'MIA']\n",
    "nlc = ['PIT', 'STL', 'CIN', 'MIL', 'CHC'] \n",
    "nlw = ['LAD', 'ARI', 'COL', 'SFG', 'SDP']"
   ]
  },
  {
   "cell_type": "code",
   "execution_count": 16,
   "metadata": {},
   "outputs": [],
   "source": [
    "conditions = [\n",
    "    (savant_df['Team'].isin(ale)),\n",
    "    (savant_df['Team'].isin(alc)),\n",
    "    (savant_df['Team'].isin(alw)),\n",
    "    (savant_df['Team'].isin(nle)),\n",
    "    (savant_df['Team'].isin(nlc)),\n",
    "    (savant_df['Team'].isin(nlw)),\n",
    "    (savant_df['Team'] == '- - -')\n",
    "]\n",
    "values = ['AL East', 'AL Central',' AL West', 'NL East', 'NL Central', 'NL West', '- - -']\n",
    "savant_df['Division'] = np.select(conditions, values)"
   ]
  },
  {
   "cell_type": "code",
   "execution_count": 18,
   "metadata": {},
   "outputs": [
    {
     "data": {
      "text/html": [
       "<div>\n",
       "<style scoped>\n",
       "    .dataframe tbody tr th:only-of-type {\n",
       "        vertical-align: middle;\n",
       "    }\n",
       "\n",
       "    .dataframe tbody tr th {\n",
       "        vertical-align: top;\n",
       "    }\n",
       "\n",
       "    .dataframe thead th {\n",
       "        text-align: right;\n",
       "    }\n",
       "</style>\n",
       "<table border=\"1\" class=\"dataframe\">\n",
       "  <thead>\n",
       "    <tr style=\"text-align: right;\">\n",
       "      <th></th>\n",
       "      <th>Name</th>\n",
       "      <th>Team</th>\n",
       "      <th>League</th>\n",
       "      <th>Division</th>\n",
       "    </tr>\n",
       "  </thead>\n",
       "  <tbody>\n",
       "    <tr>\n",
       "      <th>0</th>\n",
       "      <td>Trea Turner</td>\n",
       "      <td>- - -</td>\n",
       "      <td>- - -</td>\n",
       "      <td>- - -</td>\n",
       "    </tr>\n",
       "    <tr>\n",
       "      <th>1</th>\n",
       "      <td>Vladimir Guerrero Jr.</td>\n",
       "      <td>TOR</td>\n",
       "      <td>AL</td>\n",
       "      <td>AL East</td>\n",
       "    </tr>\n",
       "    <tr>\n",
       "      <th>2</th>\n",
       "      <td>Marcus Semien</td>\n",
       "      <td>TOR</td>\n",
       "      <td>AL</td>\n",
       "      <td>AL East</td>\n",
       "    </tr>\n",
       "    <tr>\n",
       "      <th>3</th>\n",
       "      <td>Juan Soto</td>\n",
       "      <td>WSN</td>\n",
       "      <td>NL</td>\n",
       "      <td>NL East</td>\n",
       "    </tr>\n",
       "    <tr>\n",
       "      <th>4</th>\n",
       "      <td>Bryce Harper</td>\n",
       "      <td>PHI</td>\n",
       "      <td>NL</td>\n",
       "      <td>NL East</td>\n",
       "    </tr>\n",
       "    <tr>\n",
       "      <th>...</th>\n",
       "      <td>...</td>\n",
       "      <td>...</td>\n",
       "      <td>...</td>\n",
       "      <td>...</td>\n",
       "    </tr>\n",
       "    <tr>\n",
       "      <th>227</th>\n",
       "      <td>Jurickson Profar</td>\n",
       "      <td>SDP</td>\n",
       "      <td>NL</td>\n",
       "      <td>NL West</td>\n",
       "    </tr>\n",
       "    <tr>\n",
       "      <th>228</th>\n",
       "      <td>Jarred Kelenic</td>\n",
       "      <td>SEA</td>\n",
       "      <td>AL</td>\n",
       "      <td>AL West</td>\n",
       "    </tr>\n",
       "    <tr>\n",
       "      <th>229</th>\n",
       "      <td>Jackie Bradley Jr.</td>\n",
       "      <td>MIL</td>\n",
       "      <td>NL</td>\n",
       "      <td>NL Central</td>\n",
       "    </tr>\n",
       "    <tr>\n",
       "      <th>230</th>\n",
       "      <td>Cody Bellinger</td>\n",
       "      <td>LAD</td>\n",
       "      <td>NL</td>\n",
       "      <td>NL West</td>\n",
       "    </tr>\n",
       "    <tr>\n",
       "      <th>231</th>\n",
       "      <td>Gregory Polanco</td>\n",
       "      <td>PIT</td>\n",
       "      <td>NL</td>\n",
       "      <td>NL Central</td>\n",
       "    </tr>\n",
       "  </tbody>\n",
       "</table>\n",
       "<p>232 rows × 4 columns</p>\n",
       "</div>"
      ],
      "text/plain": [
       "                      Name   Team League    Division\n",
       "0              Trea Turner  - - -  - - -       - - -\n",
       "1    Vladimir Guerrero Jr.    TOR     AL     AL East\n",
       "2            Marcus Semien    TOR     AL     AL East\n",
       "3                Juan Soto    WSN     NL     NL East\n",
       "4             Bryce Harper    PHI     NL     NL East\n",
       "..                     ...    ...    ...         ...\n",
       "227       Jurickson Profar    SDP     NL     NL West\n",
       "228         Jarred Kelenic    SEA     AL     AL West\n",
       "229     Jackie Bradley Jr.    MIL     NL  NL Central\n",
       "230         Cody Bellinger    LAD     NL     NL West\n",
       "231        Gregory Polanco    PIT     NL  NL Central\n",
       "\n",
       "[232 rows x 4 columns]"
      ]
     },
     "execution_count": 18,
     "metadata": {},
     "output_type": "execute_result"
    }
   ],
   "source": [
    "# League and Division added\n",
    "savant_df[['Name', 'Team', 'League', 'Division']]"
   ]
  },
  {
   "cell_type": "code",
   "execution_count": null,
   "metadata": {},
   "outputs": [],
   "source": [
    "# Adding Barrels to the savant_df\n",
    "fg_df = fg_df = pb.batting_stats(2021, qual=200)\n",
    "savant_df = pd.merge(savant_df, fg_df[[\"Name\", \"Barrels\"]], on=\"Name\", how=\"left\" )"
   ]
  },
  {
   "cell_type": "code",
   "execution_count": 22,
   "metadata": {},
   "outputs": [],
   "source": [
    "# Removing players that played for more than one team this year - will come back to plotting them \n",
    "one_team = savant_df[savant_df[\"Team\"] != '- - -' ]\n",
    "two_team = savant_df[savant_df[\"Team\"] == '- - -' ]"
   ]
  },
  {
   "cell_type": "markdown",
   "metadata": {},
   "source": [
    "### Tables are ready - time to plot\n",
    "#### First plot is just players that didn't change team\n",
    "#### Plotting Barrels - quite a good way of seeing which league, division and team have the best offense - then can see which player contributed the most"
   ]
  },
  {
   "cell_type": "code",
   "execution_count": 104,
   "metadata": {},
   "outputs": [
    {
     "data": {
      "application/vnd.plotly.v1+json": {
       "config": {
        "plotlyServerURL": "https://plot.ly"
       },
       "data": [
        {
         "branchvalues": "total",
         "customdata": [
          [
           "LAD",
           74,
           0
          ],
          [
           "NYY",
           96,
           70
          ],
          [
           "TEX",
           77,
           45
          ],
          [
           "DET",
           55,
           26
          ],
          [
           "WSN",
           9,
           8
          ],
          [
           "PHI",
           32,
           18
          ],
          [
           "HOU",
           28,
           19
          ],
          [
           "BOS",
           33,
           33
          ],
          [
           "CLE",
           8,
           12
          ],
          [
           "MIN",
           1,
           2
          ],
          [
           "KCR",
           53,
           36
          ],
          [
           "PHI",
           58,
           32
          ],
          [
           "CHW",
           72,
           35
          ],
          [
           "BAL",
           49,
           26
          ],
          [
           "BAL",
           59,
           35
          ],
          [
           "TBR",
           53,
           35
          ],
          [
           "ATL",
           83,
           57
          ],
          [
           "MIL",
           80,
           42
          ],
          [
           "TOR",
           64,
           50
          ],
          [
           "BOS",
           98,
           53
          ],
          [
           "PHI",
           81,
           27
          ],
          [
           "CLE",
           55,
           17
          ],
          [
           "SFG",
           95,
           38
          ],
          [
           "SFG",
           77,
           44
          ],
          [
           "TBR",
           87,
           52
          ],
          [
           "NYM",
           13,
           9
          ],
          [
           "COL",
           29,
           19
          ],
          [
           "NYY",
           10,
           10
          ],
          [
           "PIT",
           67,
           46
          ],
          [
           "PHI",
           97,
           65
          ],
          [
           "SFG",
           47,
           25
          ],
          [
           "COL",
           77,
           41
          ],
          [
           "HOU",
           60,
           42
          ],
          [
           "KCR",
           33,
           32
          ],
          [
           "ARI",
           51,
           20
          ],
          [
           "BAL",
           47,
           0
          ],
          [
           "COL",
           36,
           30
          ],
          [
           "LAD",
           65,
           35
          ],
          [
           "BOS",
           6,
           10
          ],
          [
           "ARI",
           30,
           19
          ],
          [
           "MIL",
           39,
           22
          ],
          [
           "LAD",
           38,
           16
          ],
          [
           "PIT",
           43,
           19
          ],
          [
           "LAD",
           82,
           36
          ],
          [
           "NYY",
           12,
           19
          ],
          [
           "ATL",
           76,
           49
          ],
          [
           "LAA",
           0,
           0
          ],
          [
           "ARI",
           20,
           20
          ],
          [
           "PHI",
           5,
           7
          ],
          [
           "NYM",
           31,
           22
          ],
          [
           "SFG",
           41,
           19
          ],
          [
           "STL",
           33,
           28
          ],
          [
           "SEA",
           52,
           19
          ],
          [
           "COL",
           45,
           22
          ],
          [
           "OAK",
           4,
           9
          ],
          [
           "BOS",
           49,
           34
          ],
          [
           "DET",
           87,
           32
          ],
          [
           "SDP",
           26,
           24
          ],
          [
           "CIN",
           90,
           51
          ],
          [
           "SDP",
           99,
           70
          ],
          [
           "NYM",
           48,
           30
          ],
          [
           "CLE",
           94,
           46
          ],
          [
           "ATL",
           77,
           57
          ],
          [
           "COL",
           18,
           17
          ],
          [
           "NYY",
           87,
           36
          ],
          [
           "LAD",
           12,
           10
          ],
          [
           "TOR",
           90,
           34
          ],
          [
           "NYY",
           91,
           56
          ],
          [
           "NYY",
           46,
           25
          ],
          [
           "NYY",
           44,
           28
          ],
          [
           "PIT",
           62,
           23
          ],
          [
           "ATL",
           13,
           9
          ],
          [
           "CLE",
           29,
           18
          ],
          [
           "STL",
           36,
           20
          ],
          [
           "KCR",
           55,
           30
          ],
          [
           "BOS",
           84,
           57
          ],
          [
           "CHC",
           72,
           35
          ],
          [
           "TEX",
           3,
           10
          ],
          [
           "BOS",
           80,
           53
          ],
          [
           "SEA",
           6,
           12
          ],
          [
           "PHI",
           52,
           30
          ],
          [
           "MIL",
           20,
           13
          ],
          [
           "PIT",
           17,
           13
          ],
          [
           "SDP",
           36,
           35
          ],
          [
           "NYM",
           29,
           16
          ],
          [
           "LAA",
           75,
           43
          ],
          [
           "SEA",
           65,
           23
          ],
          [
           "CHC",
           18,
           12
          ],
          [
           "MIA",
           58,
           28
          ],
          [
           "PHI",
           27,
           26
          ],
          [
           "OAK",
           61,
           33
          ],
          [
           "NYM",
           15,
           14
          ],
          [
           "DET",
           55,
           38
          ],
          [
           "CIN",
           74,
           39
          ],
          [
           "MIA",
           51,
           31
          ],
          [
           "CIN",
           94,
           56
          ],
          [
           "TBR",
           17,
           15
          ],
          [
           "CIN",
           62,
           38
          ],
          [
           "DET",
           32,
           34
          ],
          [
           "NYM",
           40,
           23
          ],
          [
           "MIN",
           65,
           48
          ],
          [
           "CHW",
           65,
           44
          ],
          [
           "HOU",
           30,
           33
          ],
          [
           "CLE",
           72,
           52
          ],
          [
           "WSN",
           55,
           35
          ],
          [
           "MIN",
           96,
           61
          ],
          [
           "ARI",
           15,
           17
          ],
          [
           "WSN",
           84,
           55
          ],
          [
           "SDP",
           7,
           8
          ],
          [
           "LAD",
           45,
           35
          ],
          [
           "LAA",
           79,
           25
          ],
          [
           "PIT",
           21,
           14
          ],
          [
           "ARI",
           57,
           25
          ],
          [
           "TBR",
           13,
           10
          ],
          [
           "PIT",
           3,
           8
          ],
          [
           "NYM",
           39,
           18
          ],
          [
           "MIL",
           25,
           20
          ],
          [
           "CIN",
           15,
           17
          ],
          [
           "SEA",
           81,
           55
          ],
          [
           "HOU",
           76,
           49
          ],
          [
           "SFG",
           70,
           27
          ],
          [
           "CHW",
           10,
           11
          ],
          [
           "TOR",
           62,
           39
          ],
          [
           "MIN",
           5,
           9
          ],
          [
           "SEA",
           68,
           26
          ],
          [
           "MIL",
           58,
           35
          ],
          [
           "BAL",
           21,
           16
          ],
          [
           "SDP",
           84,
           63
          ],
          [
           "TBR",
           21,
           18
          ],
          [
           "TOR",
           65,
           50
          ],
          [
           "OAK",
           38,
           28
          ],
          [
           "HOU",
           26,
           14
          ],
          [
           "OAK",
           87,
           46
          ],
          [
           "OAK",
           83,
           59
          ],
          [
           "MIN",
           70,
           36
          ],
          [
           "LAD",
           91,
           61
          ],
          [
           "KCR",
           32,
           23
          ],
          [
           "HOU",
           26,
           24
          ],
          [
           "NYM",
           60,
           28
          ],
          [
           "DET",
           46,
           30
          ],
          [
           "MIA",
           8,
           12
          ],
          [
           "MIN",
           96,
           51
          ],
          [
           "SFG",
           68,
           35
          ],
          [
           "TBR",
           100,
           49
          ],
          [
           "SEA",
           82,
           58
          ],
          [
           "LAD",
           44,
           30
          ],
          [
           "TEX",
           61,
           38
          ],
          [
           "ARI",
           6,
           8
          ],
          [
           "CIN",
           70,
           44
          ],
          [
           "TEX",
           31,
           23
          ],
          [
           "KCR",
           1,
           3
          ],
          [
           "STL",
           33,
           34
          ],
          [
           "PHI",
           18,
           18
          ],
          [
           "MIL",
           21,
           16
          ],
          [
           "ATL",
           59,
           47
          ],
          [
           "CHC",
           91,
           30
          ],
          [
           "STL",
           70,
           27
          ],
          [
           "STL",
           86,
           64
          ],
          [
           "ARI",
           19,
           20
          ],
          [
           "BAL",
           42,
           21
          ],
          [
           "NYM",
           89,
           65
          ],
          [
           "LAA",
           10,
           9
          ],
          [
           "BOS",
           89,
           68
          ],
          [
           "COL",
           4,
           9
          ],
          [
           "OAK",
           71,
           26
          ],
          [
           "TOR",
           51,
           34
          ],
          [
           "TBR",
           48,
           30
          ],
          [
           "PHI",
           94,
           48
          ],
          [
           "DET",
           42,
           31
          ],
          [
           "ATL",
           99,
           44
          ],
          [
           "PHI",
           0,
           1
          ],
          [
           "NYY",
           51,
           20
          ],
          [
           "COL",
           39,
           28
          ],
          [
           "BAL",
           79,
           45
          ],
          [
           "KCR",
           93,
           74
          ],
          [
           "OAK",
           75,
           32
          ],
          [
           "LAA",
           100,
           78
          ],
          [
           "WSN",
           24,
           14
          ],
          [
           "TOR",
           86,
           56
          ],
          [
           "CHW",
           44,
           32
          ],
          [
           "STL",
           15,
           24
          ],
          [
           "SDP",
           67,
           35
          ],
          [
           "OAK",
           2,
           3
          ],
          [
           "SDP",
           23,
           18
          ],
          [
           "COL",
           64,
           39
          ],
          [
           "BAL",
           68,
           43
          ],
          [
           "CIN",
           13,
           10
          ],
          [
           "SEA",
           33,
           32
          ],
          [
           "CIN",
           68,
           32
          ],
          [
           "STL",
           97,
           57
          ],
          [
           "CIN",
           24,
           15
          ],
          [
           "SDP",
           33,
           16
          ],
          [
           "WSN",
           7,
           6
          ],
          [
           "TOR",
           90,
           75
          ],
          [
           "KCR",
           12,
           20
          ],
          [
           "SDP",
           41,
           23
          ],
          [
           "LAD",
           72,
           35
          ],
          [
           "DET",
           23,
           16
          ],
          [
           "CHC",
           74,
           31
          ],
          [
           "SFG",
           28,
           20
          ],
          [
           "BOS",
           60,
           41
          ],
          [
           "STL",
           19,
           19
          ],
          [
           "TBR",
           36,
           27
          ],
          [
           "CHW",
           84,
           27
          ],
          [
           "CHW",
           48,
           30
          ],
          [
           "HOU",
           93,
           63
          ],
          [
           "HOU",
           10,
           16
          ],
          [
           "ARI",
           "(?)",
           129
          ],
          [
           "ATL",
           "(?)",
           263
          ],
          [
           "BAL",
           "(?)",
           186
          ],
          [
           "BOS",
           "(?)",
           349
          ],
          [
           "CHC",
           "(?)",
           108
          ],
          [
           "CHW",
           "(?)",
           179
          ],
          [
           "CIN",
           "(?)",
           302
          ],
          [
           "CLE",
           "(?)",
           145
          ],
          [
           "COL",
           "(?)",
           205
          ],
          [
           "DET",
           "(?)",
           207
          ],
          [
           "HOU",
           "(?)",
           260
          ],
          [
           "KCR",
           "(?)",
           218
          ],
          [
           "LAA",
           "(?)",
           155
          ],
          [
           "LAD",
           "(?)",
           258
          ],
          [
           "MIA",
           "(?)",
           71
          ],
          [
           "MIL",
           "(?)",
           148
          ],
          [
           "MIN",
           "(?)",
           207
          ],
          [
           "NYM",
           "(?)",
           225
          ],
          [
           "NYY",
           "(?)",
           264
          ],
          [
           "OAK",
           "(?)",
           236
          ],
          [
           "PHI",
           "(?)",
           272
          ],
          [
           "PIT",
           "(?)",
           123
          ],
          [
           "SDP",
           "(?)",
           292
          ],
          [
           "SEA",
           "(?)",
           225
          ],
          [
           "SFG",
           "(?)",
           208
          ],
          [
           "STL",
           "(?)",
           273
          ],
          [
           "TBR",
           "(?)",
           236
          ],
          [
           "TEX",
           "(?)",
           116
          ],
          [
           "TOR",
           "(?)",
           338
          ],
          [
           "WSN",
           "(?)",
           118
          ],
          [
           "(?)",
           "(?)",
           992
          ],
          [
           "(?)",
           "(?)",
           956
          ],
          [
           "(?)",
           "(?)",
           1373
          ],
          [
           "(?)",
           "(?)",
           954
          ],
          [
           "(?)",
           "(?)",
           949
          ],
          [
           "(?)",
           "(?)",
           1092
          ],
          [
           "(?)",
           "(?)",
           3321
          ],
          [
           "(?)",
           "(?)",
           2995
          ]
         ],
         "domain": {
          "x": [
           0,
           1
          ],
          "y": [
           0,
           1
          ]
         },
         "hovertemplate": "<b>%{hovertext}</b><br><br>labels=%{label}<br>Barrels=%{customdata[2]}<br>parent=%{parent}<br>id=%{id}<br>Barrel%_percentile=%{customdata[1]}<extra></extra>",
         "hovertext": [
          "NL",
          "AL",
          "AL",
          "AL",
          "NL",
          "NL",
          "AL",
          "AL",
          "AL",
          "AL",
          "AL",
          "NL",
          "AL",
          "AL",
          "AL",
          "AL",
          "NL",
          "NL",
          "AL",
          "AL",
          "NL",
          "AL",
          "NL",
          "NL",
          "AL",
          "NL",
          "NL",
          "AL",
          "NL",
          "NL",
          "NL",
          "NL",
          "AL",
          "AL",
          "NL",
          "AL",
          "NL",
          "NL",
          "AL",
          "NL",
          "NL",
          "NL",
          "NL",
          "NL",
          "AL",
          "NL",
          "AL",
          "NL",
          "NL",
          "NL",
          "NL",
          "NL",
          "AL",
          "NL",
          "AL",
          "AL",
          "AL",
          "NL",
          "NL",
          "NL",
          "NL",
          "AL",
          "NL",
          "NL",
          "AL",
          "NL",
          "AL",
          "AL",
          "AL",
          "AL",
          "NL",
          "NL",
          "AL",
          "NL",
          "AL",
          "AL",
          "NL",
          "AL",
          "AL",
          "AL",
          "NL",
          "NL",
          "NL",
          "NL",
          "NL",
          "AL",
          "AL",
          "NL",
          "NL",
          "NL",
          "AL",
          "NL",
          "AL",
          "NL",
          "NL",
          "NL",
          "AL",
          "NL",
          "AL",
          "NL",
          "AL",
          "AL",
          "AL",
          "AL",
          "NL",
          "AL",
          "NL",
          "NL",
          "NL",
          "NL",
          "AL",
          "NL",
          "NL",
          "AL",
          "NL",
          "NL",
          "NL",
          "NL",
          "AL",
          "AL",
          "NL",
          "AL",
          "AL",
          "AL",
          "AL",
          "NL",
          "AL",
          "NL",
          "AL",
          "AL",
          "AL",
          "AL",
          "AL",
          "AL",
          "AL",
          "NL",
          "AL",
          "AL",
          "NL",
          "AL",
          "NL",
          "AL",
          "NL",
          "AL",
          "AL",
          "NL",
          "AL",
          "NL",
          "NL",
          "AL",
          "AL",
          "NL",
          "NL",
          "NL",
          "NL",
          "NL",
          "NL",
          "NL",
          "NL",
          "AL",
          "NL",
          "AL",
          "AL",
          "NL",
          "AL",
          "AL",
          "AL",
          "NL",
          "AL",
          "NL",
          "NL",
          "AL",
          "NL",
          "AL",
          "AL",
          "AL",
          "AL",
          "NL",
          "AL",
          "AL",
          "NL",
          "NL",
          "AL",
          "NL",
          "NL",
          "AL",
          "NL",
          "AL",
          "NL",
          "NL",
          "NL",
          "NL",
          "NL",
          "AL",
          "AL",
          "NL",
          "NL",
          "AL",
          "NL",
          "NL",
          "AL",
          "NL",
          "AL",
          "AL",
          "AL",
          "AL",
          "AL",
          "NL",
          "NL",
          "AL",
          "AL",
          "NL",
          "AL",
          "NL",
          "AL",
          "NL",
          "AL",
          "AL",
          "AL",
          "AL",
          "NL",
          "NL",
          "NL",
          "AL",
          "NL",
          "AL",
          "AL",
          "NL",
          "NL",
          "NL",
          "AL",
          "NL",
          "NL",
          "AL",
          "AL",
          "AL",
          "NL",
          "AL",
          "AL",
          "AL",
          "NL",
          "NL",
          "NL",
          "AL",
          "NL"
         ],
         "ids": [
          "NL/NL West/LAD/AJ Pollock",
          "AL/AL East/NYY/Aaron Judge",
          "AL/ AL West/TEX/Adolis Garcia",
          "AL/AL Central/DET/Akil Baddoo",
          "NL/NL East/WSN/Alcides Escobar",
          "NL/NL East/PHI/Alec Bohm",
          "AL/ AL West/HOU/Alex Bregman",
          "AL/AL East/BOS/Alex Verdugo",
          "AL/AL Central/CLE/Amed Rosario",
          "AL/AL Central/MIN/Andrelton Simmons",
          "AL/AL Central/KCR/Andrew Benintendi",
          "NL/NL East/PHI/Andrew McCutchen",
          "AL/AL Central/CHW/Andrew Vaughn",
          "AL/AL East/BAL/Anthony Santander",
          "AL/AL East/BAL/Austin Hays",
          "AL/AL East/TBR/Austin Meadows",
          "NL/NL East/ATL/Austin Riley",
          "NL/NL Central/MIL/Avisail Garcia",
          "AL/AL East/TOR/Bo Bichette",
          "AL/AL East/BOS/Bobby Dalbec",
          "NL/NL East/PHI/Brad Miller",
          "AL/AL Central/CLE/Bradley Zimmer",
          "NL/NL West/SFG/Brandon Belt",
          "NL/NL West/SFG/Brandon Crawford",
          "AL/AL East/TBR/Brandon Lowe",
          "NL/NL East/NYM/Brandon Nimmo",
          "NL/NL West/COL/Brendan Rodgers",
          "AL/AL East/NYY/Brett Gardner",
          "NL/NL Central/PIT/Bryan Reynolds",
          "NL/NL East/PHI/Bryce Harper",
          "NL/NL West/SFG/Buster Posey",
          "NL/NL West/COL/C.J. Cron",
          "AL/ AL West/HOU/Carlos Correa",
          "AL/AL Central/KCR/Carlos Santana",
          "NL/NL West/ARI/Carson Kelly",
          "AL/AL East/BAL/Cedric Mullins",
          "NL/NL West/COL/Charlie Blackmon",
          "NL/NL West/LAD/Chris Taylor",
          "AL/AL East/BOS/Christian Vazquez",
          "NL/NL West/ARI/Christian Walker",
          "NL/NL Central/MIL/Christian Yelich",
          "NL/NL West/LAD/Cody Bellinger",
          "NL/NL Central/PIT/Colin Moran",
          "NL/NL West/LAD/Corey Seager",
          "AL/AL East/NYY/DJ LeMahieu",
          "NL/NL East/ATL/Dansby Swanson",
          "AL/ AL West/LAA/David Fletcher",
          "NL/NL West/ARI/David Peralta",
          "NL/NL East/PHI/Didi Gregorius",
          "NL/NL East/NYM/Dominic Smith",
          "NL/NL West/SFG/Donovan Solano",
          "NL/NL Central/STL/Dylan Carlson",
          "AL/ AL West/SEA/Dylan Moore",
          "NL/NL West/COL/Elias Diaz",
          "AL/ AL West/OAK/Elvis Andrus",
          "AL/AL East/BOS/Enrique Hernandez",
          "AL/AL Central/DET/Eric Haase",
          "NL/NL West/SDP/Eric Hosmer",
          "NL/NL Central/CIN/Eugenio Suarez",
          "NL/NL West/SDP/Fernando Tatis Jr.",
          "NL/NL East/NYM/Francisco Lindor",
          "AL/AL Central/CLE/Franmil Reyes",
          "NL/NL East/ATL/Freddie Freeman",
          "NL/NL West/COL/Garrett Hampson",
          "AL/AL East/NYY/Gary Sanchez",
          "NL/NL West/LAD/Gavin Lux",
          "AL/AL East/TOR/George Springer",
          "AL/AL East/NYY/Giancarlo Stanton",
          "AL/AL East/NYY/Gio Urshela",
          "AL/AL East/NYY/Gleyber Torres",
          "NL/NL Central/PIT/Gregory Polanco",
          "NL/NL East/ATL/Guillermo Heredia",
          "AL/AL Central/CLE/Harold Ramirez",
          "NL/NL Central/STL/Harrison Bader",
          "AL/AL Central/KCR/Hunter Dozier",
          "AL/AL East/BOS/Hunter Renfroe",
          "NL/NL Central/CHC/Ian Happ",
          "AL/ AL West/TEX/Isiah Kiner-Falefa",
          "AL/AL East/BOS/J.D. Martinez",
          "AL/ AL West/SEA/J.P. Crawford",
          "NL/NL East/PHI/J.T. Realmuto",
          "NL/NL Central/MIL/Jackie Bradley Jr.",
          "NL/NL Central/PIT/Jacob Stallings",
          "NL/NL West/SDP/Jake Cronenworth",
          "NL/NL East/NYM/James McCann",
          "AL/ AL West/LAA/Jared Walsh",
          "AL/ AL West/SEA/Jarred Kelenic",
          "NL/NL Central/CHC/Jason Heyward",
          "NL/NL East/MIA/Jazz Chisholm Jr.",
          "NL/NL East/PHI/Jean Segura",
          "AL/ AL West/OAK/Jed Lowrie",
          "NL/NL East/NYM/Jeff McNeil",
          "AL/AL Central/DET/Jeimer Candelario",
          "NL/NL Central/CIN/Jesse Winker",
          "NL/NL East/MIA/Jesus Aguilar",
          "NL/NL Central/CIN/Joey Votto",
          "AL/AL East/TBR/Joey Wendle",
          "NL/NL Central/CIN/Jonathan India",
          "AL/AL Central/DET/Jonathan Schoop",
          "NL/NL East/NYM/Jonathan Villar",
          "AL/AL Central/MIN/Jorge Polanco",
          "AL/AL Central/CHW/Jose Abreu",
          "AL/ AL West/HOU/Jose Altuve",
          "AL/AL Central/CLE/Jose Ramirez",
          "NL/NL East/WSN/Josh Bell",
          "AL/AL Central/MIN/Josh Donaldson",
          "NL/NL West/ARI/Josh Rojas",
          "NL/NL East/WSN/Juan Soto",
          "NL/NL West/SDP/Jurickson Profar",
          "NL/NL West/LAD/Justin Turner",
          "AL/ AL West/LAA/Justin Upton",
          "NL/NL Central/PIT/Ke'Bryan Hayes",
          "NL/NL West/ARI/Ketel Marte",
          "AL/AL East/TBR/Kevin Kiermaier",
          "NL/NL Central/PIT/Kevin Newman",
          "NL/NL East/NYM/Kevin Pillar",
          "NL/NL Central/MIL/Kolten Wong",
          "NL/NL Central/CIN/Kyle Farmer",
          "AL/ AL West/SEA/Kyle Seager",
          "AL/ AL West/HOU/Kyle Tucker",
          "NL/NL West/SFG/LaMonte Wade Jr.",
          "AL/AL Central/CHW/Leury Garcia",
          "AL/AL East/TOR/Lourdes Gurriel Jr.",
          "AL/AL Central/MIN/Luis Arraez",
          "AL/ AL West/SEA/Luis Torrens",
          "NL/NL Central/MIL/Luis Urias",
          "AL/AL East/BAL/Maikel Franco",
          "NL/NL West/SDP/Manny Machado",
          "AL/AL East/TBR/Manuel Margot",
          "AL/AL East/TOR/Marcus Semien",
          "AL/ AL West/OAK/Mark Canha",
          "AL/ AL West/HOU/Martin Maldonado",
          "AL/ AL West/OAK/Matt Chapman",
          "AL/ AL West/OAK/Matt Olson",
          "AL/AL Central/MIN/Max Kepler",
          "NL/NL West/LAD/Max Muncy",
          "AL/AL Central/KCR/Michael A. Taylor",
          "AL/ AL West/HOU/Michael Brantley",
          "NL/NL East/NYM/Michael Conforto",
          "AL/AL Central/DET/Miguel Cabrera",
          "NL/NL East/MIA/Miguel Rojas",
          "AL/AL Central/MIN/Miguel Sano",
          "NL/NL West/SFG/Mike Yastrzemski",
          "AL/AL East/TBR/Mike Zunino",
          "AL/ AL West/SEA/Mitch Haniger",
          "NL/NL West/LAD/Mookie Betts",
          "AL/ AL West/TEX/Nathaniel Lowe",
          "NL/NL West/ARI/Nick Ahmed",
          "NL/NL Central/CIN/Nick Castellanos",
          "AL/ AL West/TEX/Nick Solak",
          "AL/AL Central/KCR/Nicky Lopez",
          "NL/NL Central/STL/Nolan Arenado",
          "NL/NL East/PHI/Odubel Herrera",
          "NL/NL Central/MIL/Omar Narvaez",
          "NL/NL East/ATL/Ozzie Albies",
          "NL/NL Central/CHC/Patrick Wisdom",
          "NL/NL Central/STL/Paul DeJong",
          "NL/NL Central/STL/Paul Goldschmidt",
          "NL/NL West/ARI/Pavin Smith",
          "AL/AL East/BAL/Pedro Severino",
          "NL/NL East/NYM/Pete Alonso",
          "AL/ AL West/LAA/Phil Gosselin",
          "AL/AL East/BOS/Rafael Devers",
          "NL/NL West/COL/Raimel Tapia",
          "AL/ AL West/OAK/Ramon Laureano",
          "AL/AL East/TOR/Randal Grichuk",
          "AL/AL East/TBR/Randy Arozarena",
          "NL/NL East/PHI/Rhys Hoskins",
          "AL/AL Central/DET/Robbie Grossman",
          "NL/NL East/ATL/Ronald Acuna Jr.",
          "NL/NL East/PHI/Ronald Torreyes",
          "AL/AL East/NYY/Rougned Odor",
          "NL/NL West/COL/Ryan McMahon",
          "AL/AL East/BAL/Ryan Mountcastle",
          "AL/AL Central/KCR/Salvador Perez",
          "AL/ AL West/OAK/Sean Murphy",
          "AL/ AL West/LAA/Shohei Ohtani",
          "NL/NL East/WSN/Starlin Castro",
          "AL/AL East/TOR/Teoscar Hernandez",
          "AL/AL Central/CHW/Tim Anderson",
          "NL/NL Central/STL/Tommy Edman",
          "NL/NL West/SDP/Tommy Pham",
          "AL/ AL West/OAK/Tony Kemp",
          "NL/NL West/SDP/Trent Grisham",
          "NL/NL West/COL/Trevor Story",
          "AL/AL East/BAL/Trey Mancini",
          "NL/NL Central/CIN/Tucker Barnhart",
          "AL/ AL West/SEA/Ty France",
          "NL/NL Central/CIN/Tyler Naquin",
          "NL/NL Central/STL/Tyler O'Neill",
          "NL/NL Central/CIN/Tyler Stephenson",
          "NL/NL West/SDP/Victor Caratini",
          "NL/NL East/WSN/Victor Robles",
          "AL/AL East/TOR/Vladimir Guerrero Jr.",
          "AL/AL Central/KCR/Whit Merrifield",
          "NL/NL West/SDP/Wil Myers",
          "NL/NL West/LAD/Will Smith",
          "AL/AL Central/DET/Willi Castro",
          "NL/NL Central/CHC/Willson Contreras",
          "NL/NL West/SFG/Wilmer Flores",
          "AL/AL East/BOS/Xander Bogaerts",
          "NL/NL Central/STL/Yadier Molina",
          "AL/AL East/TBR/Yandy Diaz",
          "AL/AL Central/CHW/Yasmani Grandal",
          "AL/AL Central/CHW/Yoan Moncada",
          "AL/ AL West/HOU/Yordan Alvarez",
          "AL/ AL West/HOU/Yuli Gurriel",
          "NL/NL West/ARI",
          "NL/NL East/ATL",
          "AL/AL East/BAL",
          "AL/AL East/BOS",
          "NL/NL Central/CHC",
          "AL/AL Central/CHW",
          "NL/NL Central/CIN",
          "AL/AL Central/CLE",
          "NL/NL West/COL",
          "AL/AL Central/DET",
          "AL/ AL West/HOU",
          "AL/AL Central/KCR",
          "AL/ AL West/LAA",
          "NL/NL West/LAD",
          "NL/NL East/MIA",
          "NL/NL Central/MIL",
          "AL/AL Central/MIN",
          "NL/NL East/NYM",
          "AL/AL East/NYY",
          "AL/ AL West/OAK",
          "NL/NL East/PHI",
          "NL/NL Central/PIT",
          "NL/NL West/SDP",
          "AL/ AL West/SEA",
          "NL/NL West/SFG",
          "NL/NL Central/STL",
          "AL/AL East/TBR",
          "AL/ AL West/TEX",
          "AL/AL East/TOR",
          "NL/NL East/WSN",
          "AL/ AL West",
          "AL/AL Central",
          "AL/AL East",
          "NL/NL Central",
          "NL/NL East",
          "NL/NL West",
          "AL",
          "NL"
         ],
         "labels": [
          "AJ Pollock",
          "Aaron Judge",
          "Adolis Garcia",
          "Akil Baddoo",
          "Alcides Escobar",
          "Alec Bohm",
          "Alex Bregman",
          "Alex Verdugo",
          "Amed Rosario",
          "Andrelton Simmons",
          "Andrew Benintendi",
          "Andrew McCutchen",
          "Andrew Vaughn",
          "Anthony Santander",
          "Austin Hays",
          "Austin Meadows",
          "Austin Riley",
          "Avisail Garcia",
          "Bo Bichette",
          "Bobby Dalbec",
          "Brad Miller",
          "Bradley Zimmer",
          "Brandon Belt",
          "Brandon Crawford",
          "Brandon Lowe",
          "Brandon Nimmo",
          "Brendan Rodgers",
          "Brett Gardner",
          "Bryan Reynolds",
          "Bryce Harper",
          "Buster Posey",
          "C.J. Cron",
          "Carlos Correa",
          "Carlos Santana",
          "Carson Kelly",
          "Cedric Mullins",
          "Charlie Blackmon",
          "Chris Taylor",
          "Christian Vazquez",
          "Christian Walker",
          "Christian Yelich",
          "Cody Bellinger",
          "Colin Moran",
          "Corey Seager",
          "DJ LeMahieu",
          "Dansby Swanson",
          "David Fletcher",
          "David Peralta",
          "Didi Gregorius",
          "Dominic Smith",
          "Donovan Solano",
          "Dylan Carlson",
          "Dylan Moore",
          "Elias Diaz",
          "Elvis Andrus",
          "Enrique Hernandez",
          "Eric Haase",
          "Eric Hosmer",
          "Eugenio Suarez",
          "Fernando Tatis Jr.",
          "Francisco Lindor",
          "Franmil Reyes",
          "Freddie Freeman",
          "Garrett Hampson",
          "Gary Sanchez",
          "Gavin Lux",
          "George Springer",
          "Giancarlo Stanton",
          "Gio Urshela",
          "Gleyber Torres",
          "Gregory Polanco",
          "Guillermo Heredia",
          "Harold Ramirez",
          "Harrison Bader",
          "Hunter Dozier",
          "Hunter Renfroe",
          "Ian Happ",
          "Isiah Kiner-Falefa",
          "J.D. Martinez",
          "J.P. Crawford",
          "J.T. Realmuto",
          "Jackie Bradley Jr.",
          "Jacob Stallings",
          "Jake Cronenworth",
          "James McCann",
          "Jared Walsh",
          "Jarred Kelenic",
          "Jason Heyward",
          "Jazz Chisholm Jr.",
          "Jean Segura",
          "Jed Lowrie",
          "Jeff McNeil",
          "Jeimer Candelario",
          "Jesse Winker",
          "Jesus Aguilar",
          "Joey Votto",
          "Joey Wendle",
          "Jonathan India",
          "Jonathan Schoop",
          "Jonathan Villar",
          "Jorge Polanco",
          "Jose Abreu",
          "Jose Altuve",
          "Jose Ramirez",
          "Josh Bell",
          "Josh Donaldson",
          "Josh Rojas",
          "Juan Soto",
          "Jurickson Profar",
          "Justin Turner",
          "Justin Upton",
          "Ke'Bryan Hayes",
          "Ketel Marte",
          "Kevin Kiermaier",
          "Kevin Newman",
          "Kevin Pillar",
          "Kolten Wong",
          "Kyle Farmer",
          "Kyle Seager",
          "Kyle Tucker",
          "LaMonte Wade Jr.",
          "Leury Garcia",
          "Lourdes Gurriel Jr.",
          "Luis Arraez",
          "Luis Torrens",
          "Luis Urias",
          "Maikel Franco",
          "Manny Machado",
          "Manuel Margot",
          "Marcus Semien",
          "Mark Canha",
          "Martin Maldonado",
          "Matt Chapman",
          "Matt Olson",
          "Max Kepler",
          "Max Muncy",
          "Michael A. Taylor",
          "Michael Brantley",
          "Michael Conforto",
          "Miguel Cabrera",
          "Miguel Rojas",
          "Miguel Sano",
          "Mike Yastrzemski",
          "Mike Zunino",
          "Mitch Haniger",
          "Mookie Betts",
          "Nathaniel Lowe",
          "Nick Ahmed",
          "Nick Castellanos",
          "Nick Solak",
          "Nicky Lopez",
          "Nolan Arenado",
          "Odubel Herrera",
          "Omar Narvaez",
          "Ozzie Albies",
          "Patrick Wisdom",
          "Paul DeJong",
          "Paul Goldschmidt",
          "Pavin Smith",
          "Pedro Severino",
          "Pete Alonso",
          "Phil Gosselin",
          "Rafael Devers",
          "Raimel Tapia",
          "Ramon Laureano",
          "Randal Grichuk",
          "Randy Arozarena",
          "Rhys Hoskins",
          "Robbie Grossman",
          "Ronald Acuna Jr.",
          "Ronald Torreyes",
          "Rougned Odor",
          "Ryan McMahon",
          "Ryan Mountcastle",
          "Salvador Perez",
          "Sean Murphy",
          "Shohei Ohtani",
          "Starlin Castro",
          "Teoscar Hernandez",
          "Tim Anderson",
          "Tommy Edman",
          "Tommy Pham",
          "Tony Kemp",
          "Trent Grisham",
          "Trevor Story",
          "Trey Mancini",
          "Tucker Barnhart",
          "Ty France",
          "Tyler Naquin",
          "Tyler O'Neill",
          "Tyler Stephenson",
          "Victor Caratini",
          "Victor Robles",
          "Vladimir Guerrero Jr.",
          "Whit Merrifield",
          "Wil Myers",
          "Will Smith",
          "Willi Castro",
          "Willson Contreras",
          "Wilmer Flores",
          "Xander Bogaerts",
          "Yadier Molina",
          "Yandy Diaz",
          "Yasmani Grandal",
          "Yoan Moncada",
          "Yordan Alvarez",
          "Yuli Gurriel",
          "ARI",
          "ATL",
          "BAL",
          "BOS",
          "CHC",
          "CHW",
          "CIN",
          "CLE",
          "COL",
          "DET",
          "HOU",
          "KCR",
          "LAA",
          "LAD",
          "MIA",
          "MIL",
          "MIN",
          "NYM",
          "NYY",
          "OAK",
          "PHI",
          "PIT",
          "SDP",
          "SEA",
          "SFG",
          "STL",
          "TBR",
          "TEX",
          "TOR",
          "WSN",
          " AL West",
          "AL Central",
          "AL East",
          "NL Central",
          "NL East",
          "NL West",
          "AL",
          "NL"
         ],
         "maxdepth": 2,
         "name": "",
         "parents": [
          "NL/NL West/LAD",
          "AL/AL East/NYY",
          "AL/ AL West/TEX",
          "AL/AL Central/DET",
          "NL/NL East/WSN",
          "NL/NL East/PHI",
          "AL/ AL West/HOU",
          "AL/AL East/BOS",
          "AL/AL Central/CLE",
          "AL/AL Central/MIN",
          "AL/AL Central/KCR",
          "NL/NL East/PHI",
          "AL/AL Central/CHW",
          "AL/AL East/BAL",
          "AL/AL East/BAL",
          "AL/AL East/TBR",
          "NL/NL East/ATL",
          "NL/NL Central/MIL",
          "AL/AL East/TOR",
          "AL/AL East/BOS",
          "NL/NL East/PHI",
          "AL/AL Central/CLE",
          "NL/NL West/SFG",
          "NL/NL West/SFG",
          "AL/AL East/TBR",
          "NL/NL East/NYM",
          "NL/NL West/COL",
          "AL/AL East/NYY",
          "NL/NL Central/PIT",
          "NL/NL East/PHI",
          "NL/NL West/SFG",
          "NL/NL West/COL",
          "AL/ AL West/HOU",
          "AL/AL Central/KCR",
          "NL/NL West/ARI",
          "AL/AL East/BAL",
          "NL/NL West/COL",
          "NL/NL West/LAD",
          "AL/AL East/BOS",
          "NL/NL West/ARI",
          "NL/NL Central/MIL",
          "NL/NL West/LAD",
          "NL/NL Central/PIT",
          "NL/NL West/LAD",
          "AL/AL East/NYY",
          "NL/NL East/ATL",
          "AL/ AL West/LAA",
          "NL/NL West/ARI",
          "NL/NL East/PHI",
          "NL/NL East/NYM",
          "NL/NL West/SFG",
          "NL/NL Central/STL",
          "AL/ AL West/SEA",
          "NL/NL West/COL",
          "AL/ AL West/OAK",
          "AL/AL East/BOS",
          "AL/AL Central/DET",
          "NL/NL West/SDP",
          "NL/NL Central/CIN",
          "NL/NL West/SDP",
          "NL/NL East/NYM",
          "AL/AL Central/CLE",
          "NL/NL East/ATL",
          "NL/NL West/COL",
          "AL/AL East/NYY",
          "NL/NL West/LAD",
          "AL/AL East/TOR",
          "AL/AL East/NYY",
          "AL/AL East/NYY",
          "AL/AL East/NYY",
          "NL/NL Central/PIT",
          "NL/NL East/ATL",
          "AL/AL Central/CLE",
          "NL/NL Central/STL",
          "AL/AL Central/KCR",
          "AL/AL East/BOS",
          "NL/NL Central/CHC",
          "AL/ AL West/TEX",
          "AL/AL East/BOS",
          "AL/ AL West/SEA",
          "NL/NL East/PHI",
          "NL/NL Central/MIL",
          "NL/NL Central/PIT",
          "NL/NL West/SDP",
          "NL/NL East/NYM",
          "AL/ AL West/LAA",
          "AL/ AL West/SEA",
          "NL/NL Central/CHC",
          "NL/NL East/MIA",
          "NL/NL East/PHI",
          "AL/ AL West/OAK",
          "NL/NL East/NYM",
          "AL/AL Central/DET",
          "NL/NL Central/CIN",
          "NL/NL East/MIA",
          "NL/NL Central/CIN",
          "AL/AL East/TBR",
          "NL/NL Central/CIN",
          "AL/AL Central/DET",
          "NL/NL East/NYM",
          "AL/AL Central/MIN",
          "AL/AL Central/CHW",
          "AL/ AL West/HOU",
          "AL/AL Central/CLE",
          "NL/NL East/WSN",
          "AL/AL Central/MIN",
          "NL/NL West/ARI",
          "NL/NL East/WSN",
          "NL/NL West/SDP",
          "NL/NL West/LAD",
          "AL/ AL West/LAA",
          "NL/NL Central/PIT",
          "NL/NL West/ARI",
          "AL/AL East/TBR",
          "NL/NL Central/PIT",
          "NL/NL East/NYM",
          "NL/NL Central/MIL",
          "NL/NL Central/CIN",
          "AL/ AL West/SEA",
          "AL/ AL West/HOU",
          "NL/NL West/SFG",
          "AL/AL Central/CHW",
          "AL/AL East/TOR",
          "AL/AL Central/MIN",
          "AL/ AL West/SEA",
          "NL/NL Central/MIL",
          "AL/AL East/BAL",
          "NL/NL West/SDP",
          "AL/AL East/TBR",
          "AL/AL East/TOR",
          "AL/ AL West/OAK",
          "AL/ AL West/HOU",
          "AL/ AL West/OAK",
          "AL/ AL West/OAK",
          "AL/AL Central/MIN",
          "NL/NL West/LAD",
          "AL/AL Central/KCR",
          "AL/ AL West/HOU",
          "NL/NL East/NYM",
          "AL/AL Central/DET",
          "NL/NL East/MIA",
          "AL/AL Central/MIN",
          "NL/NL West/SFG",
          "AL/AL East/TBR",
          "AL/ AL West/SEA",
          "NL/NL West/LAD",
          "AL/ AL West/TEX",
          "NL/NL West/ARI",
          "NL/NL Central/CIN",
          "AL/ AL West/TEX",
          "AL/AL Central/KCR",
          "NL/NL Central/STL",
          "NL/NL East/PHI",
          "NL/NL Central/MIL",
          "NL/NL East/ATL",
          "NL/NL Central/CHC",
          "NL/NL Central/STL",
          "NL/NL Central/STL",
          "NL/NL West/ARI",
          "AL/AL East/BAL",
          "NL/NL East/NYM",
          "AL/ AL West/LAA",
          "AL/AL East/BOS",
          "NL/NL West/COL",
          "AL/ AL West/OAK",
          "AL/AL East/TOR",
          "AL/AL East/TBR",
          "NL/NL East/PHI",
          "AL/AL Central/DET",
          "NL/NL East/ATL",
          "NL/NL East/PHI",
          "AL/AL East/NYY",
          "NL/NL West/COL",
          "AL/AL East/BAL",
          "AL/AL Central/KCR",
          "AL/ AL West/OAK",
          "AL/ AL West/LAA",
          "NL/NL East/WSN",
          "AL/AL East/TOR",
          "AL/AL Central/CHW",
          "NL/NL Central/STL",
          "NL/NL West/SDP",
          "AL/ AL West/OAK",
          "NL/NL West/SDP",
          "NL/NL West/COL",
          "AL/AL East/BAL",
          "NL/NL Central/CIN",
          "AL/ AL West/SEA",
          "NL/NL Central/CIN",
          "NL/NL Central/STL",
          "NL/NL Central/CIN",
          "NL/NL West/SDP",
          "NL/NL East/WSN",
          "AL/AL East/TOR",
          "AL/AL Central/KCR",
          "NL/NL West/SDP",
          "NL/NL West/LAD",
          "AL/AL Central/DET",
          "NL/NL Central/CHC",
          "NL/NL West/SFG",
          "AL/AL East/BOS",
          "NL/NL Central/STL",
          "AL/AL East/TBR",
          "AL/AL Central/CHW",
          "AL/AL Central/CHW",
          "AL/ AL West/HOU",
          "AL/ AL West/HOU",
          "NL/NL West",
          "NL/NL East",
          "AL/AL East",
          "AL/AL East",
          "NL/NL Central",
          "AL/AL Central",
          "NL/NL Central",
          "AL/AL Central",
          "NL/NL West",
          "AL/AL Central",
          "AL/ AL West",
          "AL/AL Central",
          "AL/ AL West",
          "NL/NL West",
          "NL/NL East",
          "NL/NL Central",
          "AL/AL Central",
          "NL/NL East",
          "AL/AL East",
          "AL/ AL West",
          "NL/NL East",
          "NL/NL Central",
          "NL/NL West",
          "AL/ AL West",
          "NL/NL West",
          "NL/NL Central",
          "AL/AL East",
          "AL/ AL West",
          "AL/AL East",
          "NL/NL East",
          "AL",
          "AL",
          "AL",
          "NL",
          "NL",
          "NL",
          "",
          ""
         ],
         "textinfo": "label+value",
         "type": "sunburst",
         "values": [
          0,
          70,
          45,
          26,
          8,
          18,
          19,
          33,
          12,
          2,
          36,
          32,
          35,
          26,
          35,
          35,
          57,
          42,
          50,
          53,
          27,
          17,
          38,
          44,
          52,
          9,
          19,
          10,
          46,
          65,
          25,
          41,
          42,
          32,
          20,
          0,
          30,
          35,
          10,
          19,
          22,
          16,
          19,
          36,
          19,
          49,
          0,
          20,
          7,
          22,
          19,
          28,
          19,
          22,
          9,
          34,
          32,
          24,
          51,
          70,
          30,
          46,
          57,
          17,
          36,
          10,
          34,
          56,
          25,
          28,
          23,
          9,
          18,
          20,
          30,
          57,
          35,
          10,
          53,
          12,
          30,
          13,
          13,
          35,
          16,
          43,
          23,
          12,
          28,
          26,
          33,
          14,
          38,
          39,
          31,
          56,
          15,
          38,
          34,
          23,
          48,
          44,
          33,
          52,
          35,
          61,
          17,
          55,
          8,
          35,
          25,
          14,
          25,
          10,
          8,
          18,
          20,
          17,
          55,
          49,
          27,
          11,
          39,
          9,
          26,
          35,
          16,
          63,
          18,
          50,
          28,
          14,
          46,
          59,
          36,
          61,
          23,
          24,
          28,
          30,
          12,
          51,
          35,
          49,
          58,
          30,
          38,
          8,
          44,
          23,
          3,
          34,
          18,
          16,
          47,
          30,
          27,
          64,
          20,
          21,
          65,
          9,
          68,
          9,
          26,
          34,
          30,
          48,
          31,
          44,
          1,
          20,
          28,
          45,
          74,
          32,
          78,
          14,
          56,
          32,
          24,
          35,
          3,
          18,
          39,
          43,
          10,
          32,
          32,
          57,
          15,
          16,
          6,
          75,
          20,
          23,
          35,
          16,
          31,
          20,
          41,
          19,
          27,
          27,
          30,
          63,
          16,
          129,
          263,
          186,
          349,
          108,
          179,
          302,
          145,
          205,
          207,
          260,
          218,
          155,
          258,
          71,
          148,
          207,
          225,
          264,
          236,
          272,
          123,
          292,
          225,
          208,
          273,
          236,
          116,
          338,
          118,
          992,
          956,
          1373,
          954,
          949,
          1092,
          3321,
          2995
         ]
        }
       ],
       "layout": {
        "legend": {
         "tracegroupgap": 0
        },
        "template": {
         "data": {
          "bar": [
           {
            "error_x": {
             "color": "rgb(36,36,36)"
            },
            "error_y": {
             "color": "rgb(36,36,36)"
            },
            "marker": {
             "line": {
              "color": "rgb(234,234,242)",
              "width": 0.5
             },
             "pattern": {
              "fillmode": "overlay",
              "size": 10,
              "solidity": 0.2
             }
            },
            "type": "bar"
           }
          ],
          "barpolar": [
           {
            "marker": {
             "line": {
              "color": "rgb(234,234,242)",
              "width": 0.5
             },
             "pattern": {
              "fillmode": "overlay",
              "size": 10,
              "solidity": 0.2
             }
            },
            "type": "barpolar"
           }
          ],
          "carpet": [
           {
            "aaxis": {
             "endlinecolor": "rgb(36,36,36)",
             "gridcolor": "white",
             "linecolor": "white",
             "minorgridcolor": "white",
             "startlinecolor": "rgb(36,36,36)"
            },
            "baxis": {
             "endlinecolor": "rgb(36,36,36)",
             "gridcolor": "white",
             "linecolor": "white",
             "minorgridcolor": "white",
             "startlinecolor": "rgb(36,36,36)"
            },
            "type": "carpet"
           }
          ],
          "choropleth": [
           {
            "colorbar": {
             "outlinewidth": 0,
             "tickcolor": "rgb(36,36,36)",
             "ticklen": 8,
             "ticks": "outside",
             "tickwidth": 2
            },
            "type": "choropleth"
           }
          ],
          "contour": [
           {
            "colorbar": {
             "outlinewidth": 0,
             "tickcolor": "rgb(36,36,36)",
             "ticklen": 8,
             "ticks": "outside",
             "tickwidth": 2
            },
            "colorscale": [
             [
              0,
              "rgb(2,4,25)"
             ],
             [
              0.06274509803921569,
              "rgb(24,15,41)"
             ],
             [
              0.12549019607843137,
              "rgb(47,23,57)"
             ],
             [
              0.18823529411764706,
              "rgb(71,28,72)"
             ],
             [
              0.25098039215686274,
              "rgb(97,30,82)"
             ],
             [
              0.3137254901960784,
              "rgb(123,30,89)"
             ],
             [
              0.3764705882352941,
              "rgb(150,27,91)"
             ],
             [
              0.4392156862745098,
              "rgb(177,22,88)"
             ],
             [
              0.5019607843137255,
              "rgb(203,26,79)"
             ],
             [
              0.5647058823529412,
              "rgb(223,47,67)"
             ],
             [
              0.6274509803921569,
              "rgb(236,76,61)"
             ],
             [
              0.6901960784313725,
              "rgb(242,107,73)"
             ],
             [
              0.7529411764705882,
              "rgb(244,135,95)"
             ],
             [
              0.8156862745098039,
              "rgb(245,162,122)"
             ],
             [
              0.8784313725490196,
              "rgb(246,188,153)"
             ],
             [
              0.9411764705882353,
              "rgb(247,212,187)"
             ],
             [
              1,
              "rgb(250,234,220)"
             ]
            ],
            "type": "contour"
           }
          ],
          "contourcarpet": [
           {
            "colorbar": {
             "outlinewidth": 0,
             "tickcolor": "rgb(36,36,36)",
             "ticklen": 8,
             "ticks": "outside",
             "tickwidth": 2
            },
            "type": "contourcarpet"
           }
          ],
          "heatmap": [
           {
            "colorbar": {
             "outlinewidth": 0,
             "tickcolor": "rgb(36,36,36)",
             "ticklen": 8,
             "ticks": "outside",
             "tickwidth": 2
            },
            "colorscale": [
             [
              0,
              "rgb(2,4,25)"
             ],
             [
              0.06274509803921569,
              "rgb(24,15,41)"
             ],
             [
              0.12549019607843137,
              "rgb(47,23,57)"
             ],
             [
              0.18823529411764706,
              "rgb(71,28,72)"
             ],
             [
              0.25098039215686274,
              "rgb(97,30,82)"
             ],
             [
              0.3137254901960784,
              "rgb(123,30,89)"
             ],
             [
              0.3764705882352941,
              "rgb(150,27,91)"
             ],
             [
              0.4392156862745098,
              "rgb(177,22,88)"
             ],
             [
              0.5019607843137255,
              "rgb(203,26,79)"
             ],
             [
              0.5647058823529412,
              "rgb(223,47,67)"
             ],
             [
              0.6274509803921569,
              "rgb(236,76,61)"
             ],
             [
              0.6901960784313725,
              "rgb(242,107,73)"
             ],
             [
              0.7529411764705882,
              "rgb(244,135,95)"
             ],
             [
              0.8156862745098039,
              "rgb(245,162,122)"
             ],
             [
              0.8784313725490196,
              "rgb(246,188,153)"
             ],
             [
              0.9411764705882353,
              "rgb(247,212,187)"
             ],
             [
              1,
              "rgb(250,234,220)"
             ]
            ],
            "type": "heatmap"
           }
          ],
          "heatmapgl": [
           {
            "colorbar": {
             "outlinewidth": 0,
             "tickcolor": "rgb(36,36,36)",
             "ticklen": 8,
             "ticks": "outside",
             "tickwidth": 2
            },
            "colorscale": [
             [
              0,
              "rgb(2,4,25)"
             ],
             [
              0.06274509803921569,
              "rgb(24,15,41)"
             ],
             [
              0.12549019607843137,
              "rgb(47,23,57)"
             ],
             [
              0.18823529411764706,
              "rgb(71,28,72)"
             ],
             [
              0.25098039215686274,
              "rgb(97,30,82)"
             ],
             [
              0.3137254901960784,
              "rgb(123,30,89)"
             ],
             [
              0.3764705882352941,
              "rgb(150,27,91)"
             ],
             [
              0.4392156862745098,
              "rgb(177,22,88)"
             ],
             [
              0.5019607843137255,
              "rgb(203,26,79)"
             ],
             [
              0.5647058823529412,
              "rgb(223,47,67)"
             ],
             [
              0.6274509803921569,
              "rgb(236,76,61)"
             ],
             [
              0.6901960784313725,
              "rgb(242,107,73)"
             ],
             [
              0.7529411764705882,
              "rgb(244,135,95)"
             ],
             [
              0.8156862745098039,
              "rgb(245,162,122)"
             ],
             [
              0.8784313725490196,
              "rgb(246,188,153)"
             ],
             [
              0.9411764705882353,
              "rgb(247,212,187)"
             ],
             [
              1,
              "rgb(250,234,220)"
             ]
            ],
            "type": "heatmapgl"
           }
          ],
          "histogram": [
           {
            "marker": {
             "pattern": {
              "fillmode": "overlay",
              "size": 10,
              "solidity": 0.2
             }
            },
            "type": "histogram"
           }
          ],
          "histogram2d": [
           {
            "colorbar": {
             "outlinewidth": 0,
             "tickcolor": "rgb(36,36,36)",
             "ticklen": 8,
             "ticks": "outside",
             "tickwidth": 2
            },
            "colorscale": [
             [
              0,
              "rgb(2,4,25)"
             ],
             [
              0.06274509803921569,
              "rgb(24,15,41)"
             ],
             [
              0.12549019607843137,
              "rgb(47,23,57)"
             ],
             [
              0.18823529411764706,
              "rgb(71,28,72)"
             ],
             [
              0.25098039215686274,
              "rgb(97,30,82)"
             ],
             [
              0.3137254901960784,
              "rgb(123,30,89)"
             ],
             [
              0.3764705882352941,
              "rgb(150,27,91)"
             ],
             [
              0.4392156862745098,
              "rgb(177,22,88)"
             ],
             [
              0.5019607843137255,
              "rgb(203,26,79)"
             ],
             [
              0.5647058823529412,
              "rgb(223,47,67)"
             ],
             [
              0.6274509803921569,
              "rgb(236,76,61)"
             ],
             [
              0.6901960784313725,
              "rgb(242,107,73)"
             ],
             [
              0.7529411764705882,
              "rgb(244,135,95)"
             ],
             [
              0.8156862745098039,
              "rgb(245,162,122)"
             ],
             [
              0.8784313725490196,
              "rgb(246,188,153)"
             ],
             [
              0.9411764705882353,
              "rgb(247,212,187)"
             ],
             [
              1,
              "rgb(250,234,220)"
             ]
            ],
            "type": "histogram2d"
           }
          ],
          "histogram2dcontour": [
           {
            "colorbar": {
             "outlinewidth": 0,
             "tickcolor": "rgb(36,36,36)",
             "ticklen": 8,
             "ticks": "outside",
             "tickwidth": 2
            },
            "colorscale": [
             [
              0,
              "rgb(2,4,25)"
             ],
             [
              0.06274509803921569,
              "rgb(24,15,41)"
             ],
             [
              0.12549019607843137,
              "rgb(47,23,57)"
             ],
             [
              0.18823529411764706,
              "rgb(71,28,72)"
             ],
             [
              0.25098039215686274,
              "rgb(97,30,82)"
             ],
             [
              0.3137254901960784,
              "rgb(123,30,89)"
             ],
             [
              0.3764705882352941,
              "rgb(150,27,91)"
             ],
             [
              0.4392156862745098,
              "rgb(177,22,88)"
             ],
             [
              0.5019607843137255,
              "rgb(203,26,79)"
             ],
             [
              0.5647058823529412,
              "rgb(223,47,67)"
             ],
             [
              0.6274509803921569,
              "rgb(236,76,61)"
             ],
             [
              0.6901960784313725,
              "rgb(242,107,73)"
             ],
             [
              0.7529411764705882,
              "rgb(244,135,95)"
             ],
             [
              0.8156862745098039,
              "rgb(245,162,122)"
             ],
             [
              0.8784313725490196,
              "rgb(246,188,153)"
             ],
             [
              0.9411764705882353,
              "rgb(247,212,187)"
             ],
             [
              1,
              "rgb(250,234,220)"
             ]
            ],
            "type": "histogram2dcontour"
           }
          ],
          "mesh3d": [
           {
            "colorbar": {
             "outlinewidth": 0,
             "tickcolor": "rgb(36,36,36)",
             "ticklen": 8,
             "ticks": "outside",
             "tickwidth": 2
            },
            "type": "mesh3d"
           }
          ],
          "parcoords": [
           {
            "line": {
             "colorbar": {
              "outlinewidth": 0,
              "tickcolor": "rgb(36,36,36)",
              "ticklen": 8,
              "ticks": "outside",
              "tickwidth": 2
             }
            },
            "type": "parcoords"
           }
          ],
          "pie": [
           {
            "automargin": true,
            "type": "pie"
           }
          ],
          "scatter": [
           {
            "marker": {
             "colorbar": {
              "outlinewidth": 0,
              "tickcolor": "rgb(36,36,36)",
              "ticklen": 8,
              "ticks": "outside",
              "tickwidth": 2
             }
            },
            "type": "scatter"
           }
          ],
          "scatter3d": [
           {
            "line": {
             "colorbar": {
              "outlinewidth": 0,
              "tickcolor": "rgb(36,36,36)",
              "ticklen": 8,
              "ticks": "outside",
              "tickwidth": 2
             }
            },
            "marker": {
             "colorbar": {
              "outlinewidth": 0,
              "tickcolor": "rgb(36,36,36)",
              "ticklen": 8,
              "ticks": "outside",
              "tickwidth": 2
             }
            },
            "type": "scatter3d"
           }
          ],
          "scattercarpet": [
           {
            "marker": {
             "colorbar": {
              "outlinewidth": 0,
              "tickcolor": "rgb(36,36,36)",
              "ticklen": 8,
              "ticks": "outside",
              "tickwidth": 2
             }
            },
            "type": "scattercarpet"
           }
          ],
          "scattergeo": [
           {
            "marker": {
             "colorbar": {
              "outlinewidth": 0,
              "tickcolor": "rgb(36,36,36)",
              "ticklen": 8,
              "ticks": "outside",
              "tickwidth": 2
             }
            },
            "type": "scattergeo"
           }
          ],
          "scattergl": [
           {
            "marker": {
             "colorbar": {
              "outlinewidth": 0,
              "tickcolor": "rgb(36,36,36)",
              "ticklen": 8,
              "ticks": "outside",
              "tickwidth": 2
             }
            },
            "type": "scattergl"
           }
          ],
          "scattermapbox": [
           {
            "marker": {
             "colorbar": {
              "outlinewidth": 0,
              "tickcolor": "rgb(36,36,36)",
              "ticklen": 8,
              "ticks": "outside",
              "tickwidth": 2
             }
            },
            "type": "scattermapbox"
           }
          ],
          "scatterpolar": [
           {
            "marker": {
             "colorbar": {
              "outlinewidth": 0,
              "tickcolor": "rgb(36,36,36)",
              "ticklen": 8,
              "ticks": "outside",
              "tickwidth": 2
             }
            },
            "type": "scatterpolar"
           }
          ],
          "scatterpolargl": [
           {
            "marker": {
             "colorbar": {
              "outlinewidth": 0,
              "tickcolor": "rgb(36,36,36)",
              "ticklen": 8,
              "ticks": "outside",
              "tickwidth": 2
             }
            },
            "type": "scatterpolargl"
           }
          ],
          "scatterternary": [
           {
            "marker": {
             "colorbar": {
              "outlinewidth": 0,
              "tickcolor": "rgb(36,36,36)",
              "ticklen": 8,
              "ticks": "outside",
              "tickwidth": 2
             }
            },
            "type": "scatterternary"
           }
          ],
          "surface": [
           {
            "colorbar": {
             "outlinewidth": 0,
             "tickcolor": "rgb(36,36,36)",
             "ticklen": 8,
             "ticks": "outside",
             "tickwidth": 2
            },
            "colorscale": [
             [
              0,
              "rgb(2,4,25)"
             ],
             [
              0.06274509803921569,
              "rgb(24,15,41)"
             ],
             [
              0.12549019607843137,
              "rgb(47,23,57)"
             ],
             [
              0.18823529411764706,
              "rgb(71,28,72)"
             ],
             [
              0.25098039215686274,
              "rgb(97,30,82)"
             ],
             [
              0.3137254901960784,
              "rgb(123,30,89)"
             ],
             [
              0.3764705882352941,
              "rgb(150,27,91)"
             ],
             [
              0.4392156862745098,
              "rgb(177,22,88)"
             ],
             [
              0.5019607843137255,
              "rgb(203,26,79)"
             ],
             [
              0.5647058823529412,
              "rgb(223,47,67)"
             ],
             [
              0.6274509803921569,
              "rgb(236,76,61)"
             ],
             [
              0.6901960784313725,
              "rgb(242,107,73)"
             ],
             [
              0.7529411764705882,
              "rgb(244,135,95)"
             ],
             [
              0.8156862745098039,
              "rgb(245,162,122)"
             ],
             [
              0.8784313725490196,
              "rgb(246,188,153)"
             ],
             [
              0.9411764705882353,
              "rgb(247,212,187)"
             ],
             [
              1,
              "rgb(250,234,220)"
             ]
            ],
            "type": "surface"
           }
          ],
          "table": [
           {
            "cells": {
             "fill": {
              "color": "rgb(231,231,240)"
             },
             "line": {
              "color": "white"
             }
            },
            "header": {
             "fill": {
              "color": "rgb(183,183,191)"
             },
             "line": {
              "color": "white"
             }
            },
            "type": "table"
           }
          ]
         },
         "layout": {
          "annotationdefaults": {
           "arrowcolor": "rgb(67,103,167)"
          },
          "autotypenumbers": "strict",
          "coloraxis": {
           "colorbar": {
            "outlinewidth": 0,
            "tickcolor": "rgb(36,36,36)",
            "ticklen": 8,
            "ticks": "outside",
            "tickwidth": 2
           }
          },
          "colorscale": {
           "sequential": [
            [
             0,
             "rgb(2,4,25)"
            ],
            [
             0.06274509803921569,
             "rgb(24,15,41)"
            ],
            [
             0.12549019607843137,
             "rgb(47,23,57)"
            ],
            [
             0.18823529411764706,
             "rgb(71,28,72)"
            ],
            [
             0.25098039215686274,
             "rgb(97,30,82)"
            ],
            [
             0.3137254901960784,
             "rgb(123,30,89)"
            ],
            [
             0.3764705882352941,
             "rgb(150,27,91)"
            ],
            [
             0.4392156862745098,
             "rgb(177,22,88)"
            ],
            [
             0.5019607843137255,
             "rgb(203,26,79)"
            ],
            [
             0.5647058823529412,
             "rgb(223,47,67)"
            ],
            [
             0.6274509803921569,
             "rgb(236,76,61)"
            ],
            [
             0.6901960784313725,
             "rgb(242,107,73)"
            ],
            [
             0.7529411764705882,
             "rgb(244,135,95)"
            ],
            [
             0.8156862745098039,
             "rgb(245,162,122)"
            ],
            [
             0.8784313725490196,
             "rgb(246,188,153)"
            ],
            [
             0.9411764705882353,
             "rgb(247,212,187)"
            ],
            [
             1,
             "rgb(250,234,220)"
            ]
           ],
           "sequentialminus": [
            [
             0,
             "rgb(2,4,25)"
            ],
            [
             0.06274509803921569,
             "rgb(24,15,41)"
            ],
            [
             0.12549019607843137,
             "rgb(47,23,57)"
            ],
            [
             0.18823529411764706,
             "rgb(71,28,72)"
            ],
            [
             0.25098039215686274,
             "rgb(97,30,82)"
            ],
            [
             0.3137254901960784,
             "rgb(123,30,89)"
            ],
            [
             0.3764705882352941,
             "rgb(150,27,91)"
            ],
            [
             0.4392156862745098,
             "rgb(177,22,88)"
            ],
            [
             0.5019607843137255,
             "rgb(203,26,79)"
            ],
            [
             0.5647058823529412,
             "rgb(223,47,67)"
            ],
            [
             0.6274509803921569,
             "rgb(236,76,61)"
            ],
            [
             0.6901960784313725,
             "rgb(242,107,73)"
            ],
            [
             0.7529411764705882,
             "rgb(244,135,95)"
            ],
            [
             0.8156862745098039,
             "rgb(245,162,122)"
            ],
            [
             0.8784313725490196,
             "rgb(246,188,153)"
            ],
            [
             0.9411764705882353,
             "rgb(247,212,187)"
            ],
            [
             1,
             "rgb(250,234,220)"
            ]
           ]
          },
          "colorway": [
           "rgb(76,114,176)",
           "rgb(221,132,82)",
           "rgb(85,168,104)",
           "rgb(196,78,82)",
           "rgb(129,114,179)",
           "rgb(147,120,96)",
           "rgb(218,139,195)",
           "rgb(140,140,140)",
           "rgb(204,185,116)",
           "rgb(100,181,205)"
          ],
          "font": {
           "color": "rgb(36,36,36)"
          },
          "geo": {
           "bgcolor": "white",
           "lakecolor": "white",
           "landcolor": "rgb(234,234,242)",
           "showlakes": true,
           "showland": true,
           "subunitcolor": "white"
          },
          "hoverlabel": {
           "align": "left"
          },
          "hovermode": "closest",
          "paper_bgcolor": "white",
          "plot_bgcolor": "rgb(234,234,242)",
          "polar": {
           "angularaxis": {
            "gridcolor": "white",
            "linecolor": "white",
            "showgrid": true,
            "ticks": ""
           },
           "bgcolor": "rgb(234,234,242)",
           "radialaxis": {
            "gridcolor": "white",
            "linecolor": "white",
            "showgrid": true,
            "ticks": ""
           }
          },
          "scene": {
           "xaxis": {
            "backgroundcolor": "rgb(234,234,242)",
            "gridcolor": "white",
            "gridwidth": 2,
            "linecolor": "white",
            "showbackground": true,
            "showgrid": true,
            "ticks": "",
            "zerolinecolor": "white"
           },
           "yaxis": {
            "backgroundcolor": "rgb(234,234,242)",
            "gridcolor": "white",
            "gridwidth": 2,
            "linecolor": "white",
            "showbackground": true,
            "showgrid": true,
            "ticks": "",
            "zerolinecolor": "white"
           },
           "zaxis": {
            "backgroundcolor": "rgb(234,234,242)",
            "gridcolor": "white",
            "gridwidth": 2,
            "linecolor": "white",
            "showbackground": true,
            "showgrid": true,
            "ticks": "",
            "zerolinecolor": "white"
           }
          },
          "shapedefaults": {
           "fillcolor": "rgb(67,103,167)",
           "line": {
            "width": 0
           },
           "opacity": 0.5
          },
          "ternary": {
           "aaxis": {
            "gridcolor": "white",
            "linecolor": "white",
            "showgrid": true,
            "ticks": ""
           },
           "baxis": {
            "gridcolor": "white",
            "linecolor": "white",
            "showgrid": true,
            "ticks": ""
           },
           "bgcolor": "rgb(234,234,242)",
           "caxis": {
            "gridcolor": "white",
            "linecolor": "white",
            "showgrid": true,
            "ticks": ""
           }
          },
          "xaxis": {
           "automargin": true,
           "gridcolor": "white",
           "linecolor": "white",
           "showgrid": true,
           "ticks": "",
           "title": {
            "standoff": 15
           },
           "zerolinecolor": "white"
          },
          "yaxis": {
           "automargin": true,
           "gridcolor": "white",
           "linecolor": "white",
           "showgrid": true,
           "ticks": "",
           "title": {
            "standoff": 15
           },
           "zerolinecolor": "white"
          }
         }
        },
        "title": {
         "text": "Number of Barrels broken down for each League, Division, Team and Player"
        }
       }
      }
     },
     "metadata": {},
     "output_type": "display_data"
    }
   ],
   "source": [
    "fig = px.sunburst(\n",
    "    data_frame=one_team,\n",
    "    path=[\"League\", \"Division\", \"Team\", \"Name\"],\n",
    "    values=\"Barrels\",\n",
    "    maxdepth=2,\n",
    "    hover_name=\"League\",\n",
    "    hover_data={\"Team\":False, \"Barrel%_percentile\":True, \"Barrels\":True},\n",
    "    template=\"seaborn\",\n",
    "    title=\"Number of Barrels broken down for each League, Division, Team and Player\"\n",
    ")\n",
    "fig.update_traces(textinfo='label+value')\n",
    "# fig.update_layout(margin=dict(t=0, l=0, r=0, b=0))"
   ]
  },
  {
   "cell_type": "markdown",
   "metadata": {},
   "source": [
    "#### This plot is finished - a bit dissappointed that can't really plot percentiles as it sums the percentages which looks bad "
   ]
  },
  {
   "cell_type": "code",
   "execution_count": 103,
   "metadata": {},
   "outputs": [
    {
     "data": {
      "text/html": [
       "<div>\n",
       "<style scoped>\n",
       "    .dataframe tbody tr th:only-of-type {\n",
       "        vertical-align: middle;\n",
       "    }\n",
       "\n",
       "    .dataframe tbody tr th {\n",
       "        vertical-align: top;\n",
       "    }\n",
       "\n",
       "    .dataframe thead th {\n",
       "        text-align: right;\n",
       "    }\n",
       "</style>\n",
       "<table border=\"1\" class=\"dataframe\">\n",
       "  <thead>\n",
       "    <tr style=\"text-align: right;\">\n",
       "      <th></th>\n",
       "      <th>Unnamed: 0</th>\n",
       "      <th>Name</th>\n",
       "      <th>ID</th>\n",
       "      <th>Year</th>\n",
       "      <th>Team</th>\n",
       "      <th>PA</th>\n",
       "      <th>POS</th>\n",
       "      <th>xwOBA_percentile</th>\n",
       "      <th>xBA_percentile</th>\n",
       "      <th>xSLG_percentile</th>\n",
       "      <th>xISO_percentile</th>\n",
       "      <th>xOBP_percentile</th>\n",
       "      <th>Barrel_percentile</th>\n",
       "      <th>Barrel%_percentile</th>\n",
       "      <th>ExitVelocity_percentile</th>\n",
       "      <th>HardHit%_percentile</th>\n",
       "      <th>K%_percentile</th>\n",
       "      <th>BB%_percentile</th>\n",
       "      <th>Whiff%_percentile</th>\n",
       "      <th>SprintSpeed_percentile</th>\n",
       "      <th>OAA_percentile</th>\n",
       "      <th>wOBA</th>\n",
       "      <th>xwOBA</th>\n",
       "      <th>xwOBA_minus_wOBA</th>\n",
       "      <th>BA</th>\n",
       "      <th>xBA</th>\n",
       "      <th>xBA_minus_BA</th>\n",
       "      <th>SLG</th>\n",
       "      <th>xSLG</th>\n",
       "      <th>xSLG_minus_SLG</th>\n",
       "      <th>K%</th>\n",
       "      <th>BB%</th>\n",
       "      <th>SwStr%</th>\n",
       "      <th>HardHit%</th>\n",
       "      <th>Barrel%</th>\n",
       "      <th>AvgExitVelo</th>\n",
       "      <th>MaxExitVelo</th>\n",
       "      <th>OAA</th>\n",
       "      <th>Spd</th>\n",
       "      <th>wRC+</th>\n",
       "      <th>WAR</th>\n",
       "      <th>League</th>\n",
       "      <th>Division</th>\n",
       "    </tr>\n",
       "  </thead>\n",
       "  <tbody>\n",
       "    <tr>\n",
       "      <th>0</th>\n",
       "      <td>0</td>\n",
       "      <td>Trea Turner</td>\n",
       "      <td>607208</td>\n",
       "      <td>2021</td>\n",
       "      <td>- - -</td>\n",
       "      <td>646.0</td>\n",
       "      <td>SS</td>\n",
       "      <td>85.0</td>\n",
       "      <td>98.0</td>\n",
       "      <td>80.0</td>\n",
       "      <td>55.0</td>\n",
       "      <td>81.0</td>\n",
       "      <td>69.0</td>\n",
       "      <td>40.0</td>\n",
       "      <td>54.0</td>\n",
       "      <td>77.0</td>\n",
       "      <td>74.0</td>\n",
       "      <td>15.0</td>\n",
       "      <td>64.0</td>\n",
       "      <td>100.0</td>\n",
       "      <td>82.0</td>\n",
       "      <td>0.386</td>\n",
       "      <td>0.362</td>\n",
       "      <td>0.024</td>\n",
       "      <td>0.328</td>\n",
       "      <td>0.303</td>\n",
       "      <td>0.025</td>\n",
       "      <td>0.536</td>\n",
       "      <td>0.484</td>\n",
       "      <td>0.052</td>\n",
       "      <td>0.170</td>\n",
       "      <td>0.063</td>\n",
       "      <td>0.102</td>\n",
       "      <td>0.460</td>\n",
       "      <td>7.4</td>\n",
       "      <td>89.6</td>\n",
       "      <td>112.2</td>\n",
       "      <td>3.0</td>\n",
       "      <td>6.4</td>\n",
       "      <td>142</td>\n",
       "      <td>6.9</td>\n",
       "      <td>- - -</td>\n",
       "      <td>- - -</td>\n",
       "    </tr>\n",
       "    <tr>\n",
       "      <th>1</th>\n",
       "      <td>1</td>\n",
       "      <td>Vladimir Guerrero Jr.</td>\n",
       "      <td>665489</td>\n",
       "      <td>2021</td>\n",
       "      <td>TOR</td>\n",
       "      <td>698.0</td>\n",
       "      <td>1B</td>\n",
       "      <td>99.0</td>\n",
       "      <td>98.0</td>\n",
       "      <td>98.0</td>\n",
       "      <td>95.0</td>\n",
       "      <td>98.0</td>\n",
       "      <td>100.0</td>\n",
       "      <td>90.0</td>\n",
       "      <td>99.0</td>\n",
       "      <td>98.0</td>\n",
       "      <td>82.0</td>\n",
       "      <td>87.0</td>\n",
       "      <td>28.0</td>\n",
       "      <td>45.0</td>\n",
       "      <td>17.0</td>\n",
       "      <td>0.419</td>\n",
       "      <td>0.416</td>\n",
       "      <td>0.003</td>\n",
       "      <td>0.311</td>\n",
       "      <td>0.306</td>\n",
       "      <td>0.005</td>\n",
       "      <td>0.601</td>\n",
       "      <td>0.591</td>\n",
       "      <td>0.010</td>\n",
       "      <td>0.158</td>\n",
       "      <td>0.123</td>\n",
       "      <td>0.124</td>\n",
       "      <td>0.552</td>\n",
       "      <td>15.1</td>\n",
       "      <td>95.1</td>\n",
       "      <td>117.4</td>\n",
       "      <td>-3.0</td>\n",
       "      <td>3.1</td>\n",
       "      <td>166</td>\n",
       "      <td>6.7</td>\n",
       "      <td>AL</td>\n",
       "      <td>AL East</td>\n",
       "    </tr>\n",
       "    <tr>\n",
       "      <th>2</th>\n",
       "      <td>2</td>\n",
       "      <td>Marcus Semien</td>\n",
       "      <td>543760</td>\n",
       "      <td>2021</td>\n",
       "      <td>TOR</td>\n",
       "      <td>724.0</td>\n",
       "      <td>SS</td>\n",
       "      <td>55.0</td>\n",
       "      <td>35.0</td>\n",
       "      <td>66.0</td>\n",
       "      <td>72.0</td>\n",
       "      <td>38.0</td>\n",
       "      <td>86.0</td>\n",
       "      <td>65.0</td>\n",
       "      <td>60.0</td>\n",
       "      <td>52.0</td>\n",
       "      <td>58.0</td>\n",
       "      <td>54.0</td>\n",
       "      <td>72.0</td>\n",
       "      <td>87.0</td>\n",
       "      <td>89.0</td>\n",
       "      <td>0.368</td>\n",
       "      <td>0.331</td>\n",
       "      <td>0.037</td>\n",
       "      <td>0.265</td>\n",
       "      <td>0.244</td>\n",
       "      <td>0.021</td>\n",
       "      <td>0.538</td>\n",
       "      <td>0.453</td>\n",
       "      <td>0.085</td>\n",
       "      <td>0.202</td>\n",
       "      <td>0.091</td>\n",
       "      <td>0.087</td>\n",
       "      <td>0.413</td>\n",
       "      <td>9.8</td>\n",
       "      <td>89.7</td>\n",
       "      <td>109.5</td>\n",
       "      <td>5.0</td>\n",
       "      <td>5.3</td>\n",
       "      <td>131</td>\n",
       "      <td>6.6</td>\n",
       "      <td>AL</td>\n",
       "      <td>AL East</td>\n",
       "    </tr>\n",
       "    <tr>\n",
       "      <th>3</th>\n",
       "      <td>3</td>\n",
       "      <td>Juan Soto</td>\n",
       "      <td>665742</td>\n",
       "      <td>2021</td>\n",
       "      <td>WSN</td>\n",
       "      <td>654.0</td>\n",
       "      <td>LF</td>\n",
       "      <td>100.0</td>\n",
       "      <td>97.0</td>\n",
       "      <td>92.0</td>\n",
       "      <td>85.0</td>\n",
       "      <td>100.0</td>\n",
       "      <td>90.0</td>\n",
       "      <td>84.0</td>\n",
       "      <td>94.0</td>\n",
       "      <td>94.0</td>\n",
       "      <td>90.0</td>\n",
       "      <td>100.0</td>\n",
       "      <td>80.0</td>\n",
       "      <td>52.0</td>\n",
       "      <td>86.0</td>\n",
       "      <td>0.420</td>\n",
       "      <td>0.430</td>\n",
       "      <td>-0.010</td>\n",
       "      <td>0.313</td>\n",
       "      <td>0.304</td>\n",
       "      <td>0.009</td>\n",
       "      <td>0.534</td>\n",
       "      <td>0.544</td>\n",
       "      <td>-0.010</td>\n",
       "      <td>0.142</td>\n",
       "      <td>0.222</td>\n",
       "      <td>0.063</td>\n",
       "      <td>0.524</td>\n",
       "      <td>13.3</td>\n",
       "      <td>93.0</td>\n",
       "      <td>116.6</td>\n",
       "      <td>4.0</td>\n",
       "      <td>3.5</td>\n",
       "      <td>163</td>\n",
       "      <td>6.6</td>\n",
       "      <td>NL</td>\n",
       "      <td>NL East</td>\n",
       "    </tr>\n",
       "    <tr>\n",
       "      <th>4</th>\n",
       "      <td>4</td>\n",
       "      <td>Bryce Harper</td>\n",
       "      <td>547180</td>\n",
       "      <td>2021</td>\n",
       "      <td>PHI</td>\n",
       "      <td>599.0</td>\n",
       "      <td>RF</td>\n",
       "      <td>99.0</td>\n",
       "      <td>97.0</td>\n",
       "      <td>99.0</td>\n",
       "      <td>97.0</td>\n",
       "      <td>99.0</td>\n",
       "      <td>97.0</td>\n",
       "      <td>97.0</td>\n",
       "      <td>90.0</td>\n",
       "      <td>91.0</td>\n",
       "      <td>43.0</td>\n",
       "      <td>99.0</td>\n",
       "      <td>11.0</td>\n",
       "      <td>69.0</td>\n",
       "      <td>9.0</td>\n",
       "      <td>0.431</td>\n",
       "      <td>0.430</td>\n",
       "      <td>0.001</td>\n",
       "      <td>0.309</td>\n",
       "      <td>0.301</td>\n",
       "      <td>0.008</td>\n",
       "      <td>0.615</td>\n",
       "      <td>0.610</td>\n",
       "      <td>0.005</td>\n",
       "      <td>0.224</td>\n",
       "      <td>0.167</td>\n",
       "      <td>0.144</td>\n",
       "      <td>0.492</td>\n",
       "      <td>18.1</td>\n",
       "      <td>92.5</td>\n",
       "      <td>116.3</td>\n",
       "      <td>-5.0</td>\n",
       "      <td>4.3</td>\n",
       "      <td>170</td>\n",
       "      <td>6.6</td>\n",
       "      <td>NL</td>\n",
       "      <td>NL East</td>\n",
       "    </tr>\n",
       "    <tr>\n",
       "      <th>...</th>\n",
       "      <td>...</td>\n",
       "      <td>...</td>\n",
       "      <td>...</td>\n",
       "      <td>...</td>\n",
       "      <td>...</td>\n",
       "      <td>...</td>\n",
       "      <td>...</td>\n",
       "      <td>...</td>\n",
       "      <td>...</td>\n",
       "      <td>...</td>\n",
       "      <td>...</td>\n",
       "      <td>...</td>\n",
       "      <td>...</td>\n",
       "      <td>...</td>\n",
       "      <td>...</td>\n",
       "      <td>...</td>\n",
       "      <td>...</td>\n",
       "      <td>...</td>\n",
       "      <td>...</td>\n",
       "      <td>...</td>\n",
       "      <td>...</td>\n",
       "      <td>...</td>\n",
       "      <td>...</td>\n",
       "      <td>...</td>\n",
       "      <td>...</td>\n",
       "      <td>...</td>\n",
       "      <td>...</td>\n",
       "      <td>...</td>\n",
       "      <td>...</td>\n",
       "      <td>...</td>\n",
       "      <td>...</td>\n",
       "      <td>...</td>\n",
       "      <td>...</td>\n",
       "      <td>...</td>\n",
       "      <td>...</td>\n",
       "      <td>...</td>\n",
       "      <td>...</td>\n",
       "      <td>...</td>\n",
       "      <td>...</td>\n",
       "      <td>...</td>\n",
       "      <td>...</td>\n",
       "      <td>...</td>\n",
       "      <td>...</td>\n",
       "    </tr>\n",
       "    <tr>\n",
       "      <th>227</th>\n",
       "      <td>227</td>\n",
       "      <td>Jurickson Profar</td>\n",
       "      <td>595777</td>\n",
       "      <td>2021</td>\n",
       "      <td>SDP</td>\n",
       "      <td>412.0</td>\n",
       "      <td>2B</td>\n",
       "      <td>22.0</td>\n",
       "      <td>25.0</td>\n",
       "      <td>5.0</td>\n",
       "      <td>4.0</td>\n",
       "      <td>65.0</td>\n",
       "      <td>4.0</td>\n",
       "      <td>7.0</td>\n",
       "      <td>4.0</td>\n",
       "      <td>9.0</td>\n",
       "      <td>82.0</td>\n",
       "      <td>86.0</td>\n",
       "      <td>87.0</td>\n",
       "      <td>35.0</td>\n",
       "      <td>4.0</td>\n",
       "      <td>0.292</td>\n",
       "      <td>0.302</td>\n",
       "      <td>-0.010</td>\n",
       "      <td>0.227</td>\n",
       "      <td>0.238</td>\n",
       "      <td>-0.011</td>\n",
       "      <td>0.320</td>\n",
       "      <td>0.323</td>\n",
       "      <td>-0.003</td>\n",
       "      <td>0.158</td>\n",
       "      <td>0.119</td>\n",
       "      <td>0.074</td>\n",
       "      <td>0.295</td>\n",
       "      <td>2.7</td>\n",
       "      <td>85.3</td>\n",
       "      <td>107.6</td>\n",
       "      <td>-7.0</td>\n",
       "      <td>4.9</td>\n",
       "      <td>85</td>\n",
       "      <td>-0.7</td>\n",
       "      <td>NL</td>\n",
       "      <td>NL West</td>\n",
       "    </tr>\n",
       "    <tr>\n",
       "      <th>228</th>\n",
       "      <td>228</td>\n",
       "      <td>Jarred Kelenic</td>\n",
       "      <td>672284</td>\n",
       "      <td>2021</td>\n",
       "      <td>SEA</td>\n",
       "      <td>377.0</td>\n",
       "      <td>CF</td>\n",
       "      <td>31.0</td>\n",
       "      <td>8.0</td>\n",
       "      <td>41.0</td>\n",
       "      <td>62.0</td>\n",
       "      <td>18.0</td>\n",
       "      <td>36.0</td>\n",
       "      <td>65.0</td>\n",
       "      <td>19.0</td>\n",
       "      <td>38.0</td>\n",
       "      <td>11.0</td>\n",
       "      <td>61.0</td>\n",
       "      <td>35.0</td>\n",
       "      <td>54.0</td>\n",
       "      <td>22.0</td>\n",
       "      <td>0.270</td>\n",
       "      <td>0.310</td>\n",
       "      <td>-0.040</td>\n",
       "      <td>0.181</td>\n",
       "      <td>0.218</td>\n",
       "      <td>-0.037</td>\n",
       "      <td>0.350</td>\n",
       "      <td>0.408</td>\n",
       "      <td>-0.058</td>\n",
       "      <td>0.281</td>\n",
       "      <td>0.095</td>\n",
       "      <td>0.118</td>\n",
       "      <td>0.392</td>\n",
       "      <td>9.9</td>\n",
       "      <td>87.5</td>\n",
       "      <td>110.9</td>\n",
       "      <td>-2.0</td>\n",
       "      <td>4.3</td>\n",
       "      <td>73</td>\n",
       "      <td>-0.7</td>\n",
       "      <td>AL</td>\n",
       "      <td>AL West</td>\n",
       "    </tr>\n",
       "    <tr>\n",
       "      <th>229</th>\n",
       "      <td>229</td>\n",
       "      <td>Jackie Bradley Jr.</td>\n",
       "      <td>598265</td>\n",
       "      <td>2021</td>\n",
       "      <td>MIL</td>\n",
       "      <td>428.0</td>\n",
       "      <td>CF</td>\n",
       "      <td>0.0</td>\n",
       "      <td>1.0</td>\n",
       "      <td>1.0</td>\n",
       "      <td>6.0</td>\n",
       "      <td>1.0</td>\n",
       "      <td>13.0</td>\n",
       "      <td>20.0</td>\n",
       "      <td>60.0</td>\n",
       "      <td>49.0</td>\n",
       "      <td>6.0</td>\n",
       "      <td>18.0</td>\n",
       "      <td>5.0</td>\n",
       "      <td>55.0</td>\n",
       "      <td>86.0</td>\n",
       "      <td>0.224</td>\n",
       "      <td>0.257</td>\n",
       "      <td>-0.033</td>\n",
       "      <td>0.163</td>\n",
       "      <td>0.198</td>\n",
       "      <td>-0.035</td>\n",
       "      <td>0.261</td>\n",
       "      <td>0.294</td>\n",
       "      <td>-0.033</td>\n",
       "      <td>0.308</td>\n",
       "      <td>0.065</td>\n",
       "      <td>0.155</td>\n",
       "      <td>0.403</td>\n",
       "      <td>5.0</td>\n",
       "      <td>89.7</td>\n",
       "      <td>108.4</td>\n",
       "      <td>4.0</td>\n",
       "      <td>6.0</td>\n",
       "      <td>35</td>\n",
       "      <td>-0.8</td>\n",
       "      <td>NL</td>\n",
       "      <td>NL Central</td>\n",
       "    </tr>\n",
       "    <tr>\n",
       "      <th>230</th>\n",
       "      <td>230</td>\n",
       "      <td>Cody Bellinger</td>\n",
       "      <td>641355</td>\n",
       "      <td>2021</td>\n",
       "      <td>LAD</td>\n",
       "      <td>350.0</td>\n",
       "      <td>CF</td>\n",
       "      <td>5.0</td>\n",
       "      <td>3.0</td>\n",
       "      <td>14.0</td>\n",
       "      <td>35.0</td>\n",
       "      <td>4.0</td>\n",
       "      <td>18.0</td>\n",
       "      <td>38.0</td>\n",
       "      <td>50.0</td>\n",
       "      <td>20.0</td>\n",
       "      <td>17.0</td>\n",
       "      <td>50.0</td>\n",
       "      <td>17.0</td>\n",
       "      <td>74.0</td>\n",
       "      <td>74.0</td>\n",
       "      <td>0.237</td>\n",
       "      <td>0.281</td>\n",
       "      <td>-0.044</td>\n",
       "      <td>0.165</td>\n",
       "      <td>0.208</td>\n",
       "      <td>-0.043</td>\n",
       "      <td>0.302</td>\n",
       "      <td>0.357</td>\n",
       "      <td>-0.055</td>\n",
       "      <td>0.269</td>\n",
       "      <td>0.089</td>\n",
       "      <td>0.142</td>\n",
       "      <td>0.344</td>\n",
       "      <td>7.1</td>\n",
       "      <td>89.3</td>\n",
       "      <td>107.4</td>\n",
       "      <td>2.0</td>\n",
       "      <td>5.0</td>\n",
       "      <td>48</td>\n",
       "      <td>-0.8</td>\n",
       "      <td>NL</td>\n",
       "      <td>NL West</td>\n",
       "    </tr>\n",
       "    <tr>\n",
       "      <th>231</th>\n",
       "      <td>231</td>\n",
       "      <td>Gregory Polanco</td>\n",
       "      <td>570256</td>\n",
       "      <td>2021</td>\n",
       "      <td>PIT</td>\n",
       "      <td>382.0</td>\n",
       "      <td>RF</td>\n",
       "      <td>34.0</td>\n",
       "      <td>19.0</td>\n",
       "      <td>42.0</td>\n",
       "      <td>53.0</td>\n",
       "      <td>29.0</td>\n",
       "      <td>36.0</td>\n",
       "      <td>62.0</td>\n",
       "      <td>64.0</td>\n",
       "      <td>84.0</td>\n",
       "      <td>15.0</td>\n",
       "      <td>59.0</td>\n",
       "      <td>15.0</td>\n",
       "      <td>56.0</td>\n",
       "      <td>22.0</td>\n",
       "      <td>0.275</td>\n",
       "      <td>0.315</td>\n",
       "      <td>-0.040</td>\n",
       "      <td>0.208</td>\n",
       "      <td>0.231</td>\n",
       "      <td>-0.023</td>\n",
       "      <td>0.354</td>\n",
       "      <td>0.409</td>\n",
       "      <td>-0.055</td>\n",
       "      <td>0.272</td>\n",
       "      <td>0.094</td>\n",
       "      <td>0.132</td>\n",
       "      <td>0.479</td>\n",
       "      <td>9.6</td>\n",
       "      <td>89.9</td>\n",
       "      <td>116.2</td>\n",
       "      <td>-2.0</td>\n",
       "      <td>6.0</td>\n",
       "      <td>71</td>\n",
       "      <td>-1.2</td>\n",
       "      <td>NL</td>\n",
       "      <td>NL Central</td>\n",
       "    </tr>\n",
       "  </tbody>\n",
       "</table>\n",
       "<p>232 rows × 43 columns</p>\n",
       "</div>"
      ],
      "text/plain": [
       "     Unnamed: 0                   Name      ID  Year   Team     PA POS  \\\n",
       "0             0            Trea Turner  607208  2021  - - -  646.0  SS   \n",
       "1             1  Vladimir Guerrero Jr.  665489  2021    TOR  698.0  1B   \n",
       "2             2          Marcus Semien  543760  2021    TOR  724.0  SS   \n",
       "3             3              Juan Soto  665742  2021    WSN  654.0  LF   \n",
       "4             4           Bryce Harper  547180  2021    PHI  599.0  RF   \n",
       "..          ...                    ...     ...   ...    ...    ...  ..   \n",
       "227         227       Jurickson Profar  595777  2021    SDP  412.0  2B   \n",
       "228         228         Jarred Kelenic  672284  2021    SEA  377.0  CF   \n",
       "229         229     Jackie Bradley Jr.  598265  2021    MIL  428.0  CF   \n",
       "230         230         Cody Bellinger  641355  2021    LAD  350.0  CF   \n",
       "231         231        Gregory Polanco  570256  2021    PIT  382.0  RF   \n",
       "\n",
       "     xwOBA_percentile  xBA_percentile  xSLG_percentile  xISO_percentile  \\\n",
       "0                85.0            98.0             80.0             55.0   \n",
       "1                99.0            98.0             98.0             95.0   \n",
       "2                55.0            35.0             66.0             72.0   \n",
       "3               100.0            97.0             92.0             85.0   \n",
       "4                99.0            97.0             99.0             97.0   \n",
       "..                ...             ...              ...              ...   \n",
       "227              22.0            25.0              5.0              4.0   \n",
       "228              31.0             8.0             41.0             62.0   \n",
       "229               0.0             1.0              1.0              6.0   \n",
       "230               5.0             3.0             14.0             35.0   \n",
       "231              34.0            19.0             42.0             53.0   \n",
       "\n",
       "     xOBP_percentile  Barrel_percentile  Barrel%_percentile  \\\n",
       "0               81.0               69.0                40.0   \n",
       "1               98.0              100.0                90.0   \n",
       "2               38.0               86.0                65.0   \n",
       "3              100.0               90.0                84.0   \n",
       "4               99.0               97.0                97.0   \n",
       "..               ...                ...                 ...   \n",
       "227             65.0                4.0                 7.0   \n",
       "228             18.0               36.0                65.0   \n",
       "229              1.0               13.0                20.0   \n",
       "230              4.0               18.0                38.0   \n",
       "231             29.0               36.0                62.0   \n",
       "\n",
       "     ExitVelocity_percentile  HardHit%_percentile  K%_percentile  \\\n",
       "0                       54.0                 77.0           74.0   \n",
       "1                       99.0                 98.0           82.0   \n",
       "2                       60.0                 52.0           58.0   \n",
       "3                       94.0                 94.0           90.0   \n",
       "4                       90.0                 91.0           43.0   \n",
       "..                       ...                  ...            ...   \n",
       "227                      4.0                  9.0           82.0   \n",
       "228                     19.0                 38.0           11.0   \n",
       "229                     60.0                 49.0            6.0   \n",
       "230                     50.0                 20.0           17.0   \n",
       "231                     64.0                 84.0           15.0   \n",
       "\n",
       "     BB%_percentile  Whiff%_percentile  SprintSpeed_percentile  \\\n",
       "0              15.0               64.0                   100.0   \n",
       "1              87.0               28.0                    45.0   \n",
       "2              54.0               72.0                    87.0   \n",
       "3             100.0               80.0                    52.0   \n",
       "4              99.0               11.0                    69.0   \n",
       "..              ...                ...                     ...   \n",
       "227            86.0               87.0                    35.0   \n",
       "228            61.0               35.0                    54.0   \n",
       "229            18.0                5.0                    55.0   \n",
       "230            50.0               17.0                    74.0   \n",
       "231            59.0               15.0                    56.0   \n",
       "\n",
       "     OAA_percentile   wOBA  xwOBA  xwOBA_minus_wOBA     BA    xBA  \\\n",
       "0              82.0  0.386  0.362             0.024  0.328  0.303   \n",
       "1              17.0  0.419  0.416             0.003  0.311  0.306   \n",
       "2              89.0  0.368  0.331             0.037  0.265  0.244   \n",
       "3              86.0  0.420  0.430            -0.010  0.313  0.304   \n",
       "4               9.0  0.431  0.430             0.001  0.309  0.301   \n",
       "..              ...    ...    ...               ...    ...    ...   \n",
       "227             4.0  0.292  0.302            -0.010  0.227  0.238   \n",
       "228            22.0  0.270  0.310            -0.040  0.181  0.218   \n",
       "229            86.0  0.224  0.257            -0.033  0.163  0.198   \n",
       "230            74.0  0.237  0.281            -0.044  0.165  0.208   \n",
       "231            22.0  0.275  0.315            -0.040  0.208  0.231   \n",
       "\n",
       "     xBA_minus_BA    SLG   xSLG  xSLG_minus_SLG     K%    BB%  SwStr%  \\\n",
       "0           0.025  0.536  0.484           0.052  0.170  0.063   0.102   \n",
       "1           0.005  0.601  0.591           0.010  0.158  0.123   0.124   \n",
       "2           0.021  0.538  0.453           0.085  0.202  0.091   0.087   \n",
       "3           0.009  0.534  0.544          -0.010  0.142  0.222   0.063   \n",
       "4           0.008  0.615  0.610           0.005  0.224  0.167   0.144   \n",
       "..            ...    ...    ...             ...    ...    ...     ...   \n",
       "227        -0.011  0.320  0.323          -0.003  0.158  0.119   0.074   \n",
       "228        -0.037  0.350  0.408          -0.058  0.281  0.095   0.118   \n",
       "229        -0.035  0.261  0.294          -0.033  0.308  0.065   0.155   \n",
       "230        -0.043  0.302  0.357          -0.055  0.269  0.089   0.142   \n",
       "231        -0.023  0.354  0.409          -0.055  0.272  0.094   0.132   \n",
       "\n",
       "     HardHit%  Barrel%  AvgExitVelo  MaxExitVelo  OAA  Spd  wRC+  WAR League  \\\n",
       "0       0.460      7.4         89.6        112.2  3.0  6.4   142  6.9  - - -   \n",
       "1       0.552     15.1         95.1        117.4 -3.0  3.1   166  6.7     AL   \n",
       "2       0.413      9.8         89.7        109.5  5.0  5.3   131  6.6     AL   \n",
       "3       0.524     13.3         93.0        116.6  4.0  3.5   163  6.6     NL   \n",
       "4       0.492     18.1         92.5        116.3 -5.0  4.3   170  6.6     NL   \n",
       "..        ...      ...          ...          ...  ...  ...   ...  ...    ...   \n",
       "227     0.295      2.7         85.3        107.6 -7.0  4.9    85 -0.7     NL   \n",
       "228     0.392      9.9         87.5        110.9 -2.0  4.3    73 -0.7     AL   \n",
       "229     0.403      5.0         89.7        108.4  4.0  6.0    35 -0.8     NL   \n",
       "230     0.344      7.1         89.3        107.4  2.0  5.0    48 -0.8     NL   \n",
       "231     0.479      9.6         89.9        116.2 -2.0  6.0    71 -1.2     NL   \n",
       "\n",
       "       Division  \n",
       "0         - - -  \n",
       "1       AL East  \n",
       "2       AL East  \n",
       "3       NL East  \n",
       "4       NL East  \n",
       "..          ...  \n",
       "227     NL West  \n",
       "228     AL West  \n",
       "229  NL Central  \n",
       "230     NL West  \n",
       "231  NL Central  \n",
       "\n",
       "[232 rows x 43 columns]"
      ]
     },
     "execution_count": 103,
     "metadata": {},
     "output_type": "execute_result"
    }
   ],
   "source": [
    "savant_df"
   ]
  },
  {
   "cell_type": "markdown",
   "metadata": {},
   "source": [
    "### Just going to plot some percentile values even though it sums the percentages but still helpful"
   ]
  },
  {
   "cell_type": "markdown",
   "metadata": {},
   "source": [
    "#### Speed Percentile Sunburst"
   ]
  },
  {
   "cell_type": "code",
   "execution_count": 111,
   "metadata": {},
   "outputs": [
    {
     "data": {
      "application/vnd.plotly.v1+json": {
       "config": {
        "plotlyServerURL": "https://plot.ly"
       },
       "data": [
        {
         "branchvalues": "total",
         "customdata": [
          [
           "LAD",
           4.4
          ],
          [
           "NYY",
           2.9
          ],
          [
           "TEX",
           5.1
          ],
          [
           "DET",
           7.3
          ],
          [
           "WSN",
           5.3
          ],
          [
           "PHI",
           3.6
          ],
          [
           "HOU",
           2.4
          ],
          [
           "BOS",
           4.3
          ],
          [
           "CLE",
           6.6
          ],
          [
           "MIN",
           2.1
          ],
          [
           "KCR",
           3.6
          ],
          [
           "PHI",
           3.9
          ],
          [
           "CHW",
           2.2
          ],
          [
           "BAL",
           2.4
          ],
          [
           "BAL",
           4.8
          ],
          [
           "TBR",
           4.1
          ],
          [
           "ATL",
           2
          ],
          [
           "MIL",
           3.4
          ],
          [
           "TOR",
           6
          ],
          [
           "BOS",
           4.6
          ],
          [
           "PHI",
           5.1
          ],
          [
           "CLE",
           6.4
          ],
          [
           "SFG",
           4.1
          ],
          [
           "SFG",
           5.1
          ],
          [
           "TBR",
           3.8
          ],
          [
           "NYM",
           4.3
          ],
          [
           "COL",
           2.6
          ],
          [
           "NYY",
           4.9
          ],
          [
           "PIT",
           5.1
          ],
          [
           "PHI",
           4.3
          ],
          [
           "SFG",
           1.5
          ],
          [
           "COL",
           2.3
          ],
          [
           "HOU",
           2.4
          ],
          [
           "KCR",
           2.1
          ],
          [
           "ARI",
           2
          ],
          [
           "BAL",
           6.1
          ],
          [
           "COL",
           4.3
          ],
          [
           "LAD",
           6.4
          ],
          [
           "BOS",
           3.9
          ],
          [
           "ARI",
           2.3
          ],
          [
           "MIL",
           5
          ],
          [
           "LAD",
           5
          ],
          [
           "PIT",
           1.5
          ],
          [
           "LAD",
           3.3
          ],
          [
           "NYY",
           3
          ],
          [
           "ATL",
           4.2
          ],
          [
           "LAA",
           5.2
          ],
          [
           "ARI",
           4.6
          ],
          [
           "PHI",
           3.9
          ],
          [
           "NYM",
           2.1
          ],
          [
           "SFG",
           2.7
          ],
          [
           "STL",
           4
          ],
          [
           "SEA",
           6.6
          ],
          [
           "COL",
           2.3
          ],
          [
           "OAK",
           5.3
          ],
          [
           "BOS",
           3.6
          ],
          [
           "DET",
           3.7
          ],
          [
           "SDP",
           2.3
          ],
          [
           "CIN",
           1.7
          ],
          [
           "SDP",
           5.3
          ],
          [
           "NYM",
           5.3
          ],
          [
           "CLE",
           3.9
          ],
          [
           "ATL",
           4.3
          ],
          [
           "COL",
           7.2
          ],
          [
           "NYY",
           2.1
          ],
          [
           "LAD",
           5.6
          ],
          [
           "TOR",
           4.7
          ],
          [
           "NYY",
           0.6
          ],
          [
           "NYY",
           2.8
          ],
          [
           "NYY",
           3.5
          ],
          [
           "PIT",
           6
          ],
          [
           "ATL",
           2.2
          ],
          [
           "CLE",
           3.3
          ],
          [
           "STL",
           4
          ],
          [
           "KCR",
           5.1
          ],
          [
           "BOS",
           2.4
          ],
          [
           "CHC",
           4
          ],
          [
           "TEX",
           5.2
          ],
          [
           "BOS",
           2.6
          ],
          [
           "SEA",
           2.5
          ],
          [
           "PHI",
           5.5
          ],
          [
           "MIL",
           6
          ],
          [
           "PIT",
           1.4
          ],
          [
           "SDP",
           4.9
          ],
          [
           "NYM",
           1.8
          ],
          [
           "LAA",
           2.5
          ],
          [
           "SEA",
           4.3
          ],
          [
           "CHC",
           4.9
          ],
          [
           "MIA",
           7
          ],
          [
           "PHI",
           4.8
          ],
          [
           "OAK",
           1.3
          ],
          [
           "NYM",
           3.9
          ],
          [
           "DET",
           2.4
          ],
          [
           "CIN",
           2.9
          ],
          [
           "MIA",
           0.7
          ],
          [
           "CIN",
           2.2
          ],
          [
           "TBR",
           5.6
          ],
          [
           "CIN",
           5.1
          ],
          [
           "DET",
           2.8
          ],
          [
           "NYM",
           4.9
          ],
          [
           "MIN",
           4.7
          ],
          [
           "CHW",
           2.8
          ],
          [
           "HOU",
           3.7
          ],
          [
           "CLE",
           7
          ],
          [
           "WSN",
           1.8
          ],
          [
           "MIN",
           1.3
          ],
          [
           "ARI",
           4.8
          ],
          [
           "WSN",
           3.5
          ],
          [
           "SDP",
           4.9
          ],
          [
           "LAD",
           2.9
          ],
          [
           "LAA",
           3.5
          ],
          [
           "PIT",
           5.6
          ],
          [
           "ARI",
           3.3
          ],
          [
           "TBR",
           6.8
          ],
          [
           "PIT",
           4.5
          ],
          [
           "NYM",
           4.7
          ],
          [
           "MIL",
           5.3
          ],
          [
           "CIN",
           3
          ],
          [
           "SEA",
           2.8
          ],
          [
           "HOU",
           5.3
          ],
          [
           "SFG",
           5.8
          ],
          [
           "CHW",
           5.2
          ],
          [
           "TOR",
           2.5
          ],
          [
           "MIN",
           4.4
          ],
          [
           "SEA",
           2.3
          ],
          [
           "MIL",
           3.8
          ],
          [
           "BAL",
           0.9
          ],
          [
           "SDP",
           4.7
          ],
          [
           "TBR",
           5.2
          ],
          [
           "TOR",
           5.3
          ],
          [
           "OAK",
           6.1
          ],
          [
           "HOU",
           2
          ],
          [
           "OAK",
           3.6
          ],
          [
           "OAK",
           2.8
          ],
          [
           "MIN",
           6.1
          ],
          [
           "LAD",
           3.6
          ],
          [
           "KCR",
           4.5
          ],
          [
           "HOU",
           3.4
          ],
          [
           "NYM",
           2
          ],
          [
           "DET",
           0.9
          ],
          [
           "MIA",
           5.4
          ],
          [
           "MIN",
           2.3
          ],
          [
           "SFG",
           5
          ],
          [
           "TBR",
           3.7
          ],
          [
           "SEA",
           3.5
          ],
          [
           "LAD",
           5.4
          ],
          [
           "TEX",
           4.4
          ],
          [
           "ARI",
           5
          ],
          [
           "CIN",
           3.5
          ],
          [
           "TEX",
           4.3
          ],
          [
           "KCR",
           7.1
          ],
          [
           "STL",
           3.3
          ],
          [
           "PHI",
           4.5
          ],
          [
           "MIL",
           1.5
          ],
          [
           "ATL",
           6.8
          ],
          [
           "CHC",
           3.5
          ],
          [
           "STL",
           4
          ],
          [
           "STL",
           5
          ],
          [
           "ARI",
           3.6
          ],
          [
           "BAL",
           0.6
          ],
          [
           "NYM",
           3.5
          ],
          [
           "LAA",
           3
          ],
          [
           "BOS",
           3.2
          ],
          [
           "COL",
           5.5
          ],
          [
           "OAK",
           5.4
          ],
          [
           "TOR",
           2.3
          ],
          [
           "TBR",
           5.9
          ],
          [
           "PHI",
           2.8
          ],
          [
           "DET",
           5.2
          ],
          [
           "ATL",
           6.1
          ],
          [
           "PHI",
           2.8
          ],
          [
           "NYY",
           2
          ],
          [
           "COL",
           3.8
          ],
          [
           "BAL",
           3.2
          ],
          [
           "KCR",
           1.8
          ],
          [
           "OAK",
           1.3
          ],
          [
           "LAA",
           6.9
          ],
          [
           "WSN",
           1
          ],
          [
           "TOR",
           4.1
          ],
          [
           "CHW",
           5.8
          ],
          [
           "STL",
           6.3
          ],
          [
           "SDP",
           5
          ],
          [
           "OAK",
           5.4
          ],
          [
           "SDP",
           5.1
          ],
          [
           "COL",
           6.7
          ],
          [
           "BAL",
           2.1
          ],
          [
           "CIN",
           1.5
          ],
          [
           "SEA",
           1.9
          ],
          [
           "CIN",
           3.7
          ],
          [
           "STL",
           5.8
          ],
          [
           "CIN",
           1.7
          ],
          [
           "SDP",
           2.6
          ],
          [
           "WSN",
           4.7
          ],
          [
           "TOR",
           3.1
          ],
          [
           "KCR",
           6.6
          ],
          [
           "SDP",
           3.9
          ],
          [
           "LAD",
           4.1
          ],
          [
           "DET",
           6.9
          ],
          [
           "CHC",
           2.9
          ],
          [
           "SFG",
           2.8
          ],
          [
           "BOS",
           3.8
          ],
          [
           "STL",
           2.8
          ],
          [
           "TBR",
           2.3
          ],
          [
           "CHW",
           1.3
          ],
          [
           "CHW",
           2.8
          ],
          [
           "HOU",
           2.9
          ],
          [
           "HOU",
           2
          ],
          [
           "ARI",
           "(?)"
          ],
          [
           "ATL",
           "(?)"
          ],
          [
           "BAL",
           "(?)"
          ],
          [
           "BOS",
           "(?)"
          ],
          [
           "CHC",
           "(?)"
          ],
          [
           "CHW",
           "(?)"
          ],
          [
           "CIN",
           "(?)"
          ],
          [
           "CLE",
           "(?)"
          ],
          [
           "COL",
           "(?)"
          ],
          [
           "DET",
           "(?)"
          ],
          [
           "HOU",
           "(?)"
          ],
          [
           "KCR",
           "(?)"
          ],
          [
           "LAA",
           "(?)"
          ],
          [
           "LAD",
           "(?)"
          ],
          [
           "MIA",
           "(?)"
          ],
          [
           "MIL",
           "(?)"
          ],
          [
           "MIN",
           "(?)"
          ],
          [
           "NYM",
           "(?)"
          ],
          [
           "NYY",
           "(?)"
          ],
          [
           "OAK",
           "(?)"
          ],
          [
           "PHI",
           "(?)"
          ],
          [
           "PIT",
           "(?)"
          ],
          [
           "SDP",
           "(?)"
          ],
          [
           "SEA",
           "(?)"
          ],
          [
           "SFG",
           "(?)"
          ],
          [
           "STL",
           "(?)"
          ],
          [
           "TBR",
           "(?)"
          ],
          [
           "TEX",
           "(?)"
          ],
          [
           "TOR",
           "(?)"
          ],
          [
           "WSN",
           "(?)"
          ],
          [
           "(?)",
           "(?)"
          ],
          [
           "(?)",
           "(?)"
          ],
          [
           "(?)",
           "(?)"
          ],
          [
           "(?)",
           "(?)"
          ],
          [
           "(?)",
           "(?)"
          ],
          [
           "(?)",
           "(?)"
          ],
          [
           "(?)",
           "(?)"
          ],
          [
           "(?)",
           "(?)"
          ]
         ],
         "domain": {
          "x": [
           0,
           1
          ],
          "y": [
           0,
           1
          ]
         },
         "hovertemplate": "<b>%{hovertext}</b><br><br>labels=%{label}<br>SprintSpeed_percentile=%{value}<br>parent=%{parent}<br>id=%{id}<br>Spd=%{customdata[1]}<extra></extra>",
         "hovertext": [
          "NL",
          "AL",
          "AL",
          "AL",
          "NL",
          "NL",
          "AL",
          "AL",
          "AL",
          "AL",
          "AL",
          "NL",
          "AL",
          "AL",
          "AL",
          "AL",
          "NL",
          "NL",
          "AL",
          "AL",
          "NL",
          "AL",
          "NL",
          "NL",
          "AL",
          "NL",
          "NL",
          "AL",
          "NL",
          "NL",
          "NL",
          "NL",
          "AL",
          "AL",
          "NL",
          "AL",
          "NL",
          "NL",
          "AL",
          "NL",
          "NL",
          "NL",
          "NL",
          "NL",
          "AL",
          "NL",
          "AL",
          "NL",
          "NL",
          "NL",
          "NL",
          "NL",
          "AL",
          "NL",
          "AL",
          "AL",
          "AL",
          "NL",
          "NL",
          "NL",
          "NL",
          "AL",
          "NL",
          "NL",
          "AL",
          "NL",
          "AL",
          "AL",
          "AL",
          "AL",
          "NL",
          "NL",
          "AL",
          "NL",
          "AL",
          "AL",
          "NL",
          "AL",
          "AL",
          "AL",
          "NL",
          "NL",
          "NL",
          "NL",
          "NL",
          "AL",
          "AL",
          "NL",
          "NL",
          "NL",
          "AL",
          "NL",
          "AL",
          "NL",
          "NL",
          "NL",
          "AL",
          "NL",
          "AL",
          "NL",
          "AL",
          "AL",
          "AL",
          "AL",
          "NL",
          "AL",
          "NL",
          "NL",
          "NL",
          "NL",
          "AL",
          "NL",
          "NL",
          "AL",
          "NL",
          "NL",
          "NL",
          "NL",
          "AL",
          "AL",
          "NL",
          "AL",
          "AL",
          "AL",
          "AL",
          "NL",
          "AL",
          "NL",
          "AL",
          "AL",
          "AL",
          "AL",
          "AL",
          "AL",
          "AL",
          "NL",
          "AL",
          "AL",
          "NL",
          "AL",
          "NL",
          "AL",
          "NL",
          "AL",
          "AL",
          "NL",
          "AL",
          "NL",
          "NL",
          "AL",
          "AL",
          "NL",
          "NL",
          "NL",
          "NL",
          "NL",
          "NL",
          "NL",
          "NL",
          "AL",
          "NL",
          "AL",
          "AL",
          "NL",
          "AL",
          "AL",
          "AL",
          "NL",
          "AL",
          "NL",
          "NL",
          "AL",
          "NL",
          "AL",
          "AL",
          "AL",
          "AL",
          "NL",
          "AL",
          "AL",
          "NL",
          "NL",
          "AL",
          "NL",
          "NL",
          "AL",
          "NL",
          "AL",
          "NL",
          "NL",
          "NL",
          "NL",
          "NL",
          "AL",
          "AL",
          "NL",
          "NL",
          "AL",
          "NL",
          "NL",
          "AL",
          "NL",
          "AL",
          "AL",
          "AL",
          "AL",
          "AL",
          "NL",
          "NL",
          "AL",
          "AL",
          "NL",
          "AL",
          "NL",
          "AL",
          "NL",
          "AL",
          "AL",
          "AL",
          "AL",
          "NL",
          "NL",
          "NL",
          "AL",
          "NL",
          "AL",
          "AL",
          "NL",
          "NL",
          "NL",
          "AL",
          "NL",
          "NL",
          "AL",
          "AL",
          "AL",
          "NL",
          "AL",
          "AL",
          "AL",
          "NL",
          "NL",
          "NL",
          "AL",
          "NL"
         ],
         "ids": [
          "NL/NL West/LAD/AJ Pollock",
          "AL/AL East/NYY/Aaron Judge",
          "AL/ AL West/TEX/Adolis Garcia",
          "AL/AL Central/DET/Akil Baddoo",
          "NL/NL East/WSN/Alcides Escobar",
          "NL/NL East/PHI/Alec Bohm",
          "AL/ AL West/HOU/Alex Bregman",
          "AL/AL East/BOS/Alex Verdugo",
          "AL/AL Central/CLE/Amed Rosario",
          "AL/AL Central/MIN/Andrelton Simmons",
          "AL/AL Central/KCR/Andrew Benintendi",
          "NL/NL East/PHI/Andrew McCutchen",
          "AL/AL Central/CHW/Andrew Vaughn",
          "AL/AL East/BAL/Anthony Santander",
          "AL/AL East/BAL/Austin Hays",
          "AL/AL East/TBR/Austin Meadows",
          "NL/NL East/ATL/Austin Riley",
          "NL/NL Central/MIL/Avisail Garcia",
          "AL/AL East/TOR/Bo Bichette",
          "AL/AL East/BOS/Bobby Dalbec",
          "NL/NL East/PHI/Brad Miller",
          "AL/AL Central/CLE/Bradley Zimmer",
          "NL/NL West/SFG/Brandon Belt",
          "NL/NL West/SFG/Brandon Crawford",
          "AL/AL East/TBR/Brandon Lowe",
          "NL/NL East/NYM/Brandon Nimmo",
          "NL/NL West/COL/Brendan Rodgers",
          "AL/AL East/NYY/Brett Gardner",
          "NL/NL Central/PIT/Bryan Reynolds",
          "NL/NL East/PHI/Bryce Harper",
          "NL/NL West/SFG/Buster Posey",
          "NL/NL West/COL/C.J. Cron",
          "AL/ AL West/HOU/Carlos Correa",
          "AL/AL Central/KCR/Carlos Santana",
          "NL/NL West/ARI/Carson Kelly",
          "AL/AL East/BAL/Cedric Mullins",
          "NL/NL West/COL/Charlie Blackmon",
          "NL/NL West/LAD/Chris Taylor",
          "AL/AL East/BOS/Christian Vazquez",
          "NL/NL West/ARI/Christian Walker",
          "NL/NL Central/MIL/Christian Yelich",
          "NL/NL West/LAD/Cody Bellinger",
          "NL/NL Central/PIT/Colin Moran",
          "NL/NL West/LAD/Corey Seager",
          "AL/AL East/NYY/DJ LeMahieu",
          "NL/NL East/ATL/Dansby Swanson",
          "AL/ AL West/LAA/David Fletcher",
          "NL/NL West/ARI/David Peralta",
          "NL/NL East/PHI/Didi Gregorius",
          "NL/NL East/NYM/Dominic Smith",
          "NL/NL West/SFG/Donovan Solano",
          "NL/NL Central/STL/Dylan Carlson",
          "AL/ AL West/SEA/Dylan Moore",
          "NL/NL West/COL/Elias Diaz",
          "AL/ AL West/OAK/Elvis Andrus",
          "AL/AL East/BOS/Enrique Hernandez",
          "AL/AL Central/DET/Eric Haase",
          "NL/NL West/SDP/Eric Hosmer",
          "NL/NL Central/CIN/Eugenio Suarez",
          "NL/NL West/SDP/Fernando Tatis Jr.",
          "NL/NL East/NYM/Francisco Lindor",
          "AL/AL Central/CLE/Franmil Reyes",
          "NL/NL East/ATL/Freddie Freeman",
          "NL/NL West/COL/Garrett Hampson",
          "AL/AL East/NYY/Gary Sanchez",
          "NL/NL West/LAD/Gavin Lux",
          "AL/AL East/TOR/George Springer",
          "AL/AL East/NYY/Giancarlo Stanton",
          "AL/AL East/NYY/Gio Urshela",
          "AL/AL East/NYY/Gleyber Torres",
          "NL/NL Central/PIT/Gregory Polanco",
          "NL/NL East/ATL/Guillermo Heredia",
          "AL/AL Central/CLE/Harold Ramirez",
          "NL/NL Central/STL/Harrison Bader",
          "AL/AL Central/KCR/Hunter Dozier",
          "AL/AL East/BOS/Hunter Renfroe",
          "NL/NL Central/CHC/Ian Happ",
          "AL/ AL West/TEX/Isiah Kiner-Falefa",
          "AL/AL East/BOS/J.D. Martinez",
          "AL/ AL West/SEA/J.P. Crawford",
          "NL/NL East/PHI/J.T. Realmuto",
          "NL/NL Central/MIL/Jackie Bradley Jr.",
          "NL/NL Central/PIT/Jacob Stallings",
          "NL/NL West/SDP/Jake Cronenworth",
          "NL/NL East/NYM/James McCann",
          "AL/ AL West/LAA/Jared Walsh",
          "AL/ AL West/SEA/Jarred Kelenic",
          "NL/NL Central/CHC/Jason Heyward",
          "NL/NL East/MIA/Jazz Chisholm Jr.",
          "NL/NL East/PHI/Jean Segura",
          "AL/ AL West/OAK/Jed Lowrie",
          "NL/NL East/NYM/Jeff McNeil",
          "AL/AL Central/DET/Jeimer Candelario",
          "NL/NL Central/CIN/Jesse Winker",
          "NL/NL East/MIA/Jesus Aguilar",
          "NL/NL Central/CIN/Joey Votto",
          "AL/AL East/TBR/Joey Wendle",
          "NL/NL Central/CIN/Jonathan India",
          "AL/AL Central/DET/Jonathan Schoop",
          "NL/NL East/NYM/Jonathan Villar",
          "AL/AL Central/MIN/Jorge Polanco",
          "AL/AL Central/CHW/Jose Abreu",
          "AL/ AL West/HOU/Jose Altuve",
          "AL/AL Central/CLE/Jose Ramirez",
          "NL/NL East/WSN/Josh Bell",
          "AL/AL Central/MIN/Josh Donaldson",
          "NL/NL West/ARI/Josh Rojas",
          "NL/NL East/WSN/Juan Soto",
          "NL/NL West/SDP/Jurickson Profar",
          "NL/NL West/LAD/Justin Turner",
          "AL/ AL West/LAA/Justin Upton",
          "NL/NL Central/PIT/Ke'Bryan Hayes",
          "NL/NL West/ARI/Ketel Marte",
          "AL/AL East/TBR/Kevin Kiermaier",
          "NL/NL Central/PIT/Kevin Newman",
          "NL/NL East/NYM/Kevin Pillar",
          "NL/NL Central/MIL/Kolten Wong",
          "NL/NL Central/CIN/Kyle Farmer",
          "AL/ AL West/SEA/Kyle Seager",
          "AL/ AL West/HOU/Kyle Tucker",
          "NL/NL West/SFG/LaMonte Wade Jr.",
          "AL/AL Central/CHW/Leury Garcia",
          "AL/AL East/TOR/Lourdes Gurriel Jr.",
          "AL/AL Central/MIN/Luis Arraez",
          "AL/ AL West/SEA/Luis Torrens",
          "NL/NL Central/MIL/Luis Urias",
          "AL/AL East/BAL/Maikel Franco",
          "NL/NL West/SDP/Manny Machado",
          "AL/AL East/TBR/Manuel Margot",
          "AL/AL East/TOR/Marcus Semien",
          "AL/ AL West/OAK/Mark Canha",
          "AL/ AL West/HOU/Martin Maldonado",
          "AL/ AL West/OAK/Matt Chapman",
          "AL/ AL West/OAK/Matt Olson",
          "AL/AL Central/MIN/Max Kepler",
          "NL/NL West/LAD/Max Muncy",
          "AL/AL Central/KCR/Michael A. Taylor",
          "AL/ AL West/HOU/Michael Brantley",
          "NL/NL East/NYM/Michael Conforto",
          "AL/AL Central/DET/Miguel Cabrera",
          "NL/NL East/MIA/Miguel Rojas",
          "AL/AL Central/MIN/Miguel Sano",
          "NL/NL West/SFG/Mike Yastrzemski",
          "AL/AL East/TBR/Mike Zunino",
          "AL/ AL West/SEA/Mitch Haniger",
          "NL/NL West/LAD/Mookie Betts",
          "AL/ AL West/TEX/Nathaniel Lowe",
          "NL/NL West/ARI/Nick Ahmed",
          "NL/NL Central/CIN/Nick Castellanos",
          "AL/ AL West/TEX/Nick Solak",
          "AL/AL Central/KCR/Nicky Lopez",
          "NL/NL Central/STL/Nolan Arenado",
          "NL/NL East/PHI/Odubel Herrera",
          "NL/NL Central/MIL/Omar Narvaez",
          "NL/NL East/ATL/Ozzie Albies",
          "NL/NL Central/CHC/Patrick Wisdom",
          "NL/NL Central/STL/Paul DeJong",
          "NL/NL Central/STL/Paul Goldschmidt",
          "NL/NL West/ARI/Pavin Smith",
          "AL/AL East/BAL/Pedro Severino",
          "NL/NL East/NYM/Pete Alonso",
          "AL/ AL West/LAA/Phil Gosselin",
          "AL/AL East/BOS/Rafael Devers",
          "NL/NL West/COL/Raimel Tapia",
          "AL/ AL West/OAK/Ramon Laureano",
          "AL/AL East/TOR/Randal Grichuk",
          "AL/AL East/TBR/Randy Arozarena",
          "NL/NL East/PHI/Rhys Hoskins",
          "AL/AL Central/DET/Robbie Grossman",
          "NL/NL East/ATL/Ronald Acuna Jr.",
          "NL/NL East/PHI/Ronald Torreyes",
          "AL/AL East/NYY/Rougned Odor",
          "NL/NL West/COL/Ryan McMahon",
          "AL/AL East/BAL/Ryan Mountcastle",
          "AL/AL Central/KCR/Salvador Perez",
          "AL/ AL West/OAK/Sean Murphy",
          "AL/ AL West/LAA/Shohei Ohtani",
          "NL/NL East/WSN/Starlin Castro",
          "AL/AL East/TOR/Teoscar Hernandez",
          "AL/AL Central/CHW/Tim Anderson",
          "NL/NL Central/STL/Tommy Edman",
          "NL/NL West/SDP/Tommy Pham",
          "AL/ AL West/OAK/Tony Kemp",
          "NL/NL West/SDP/Trent Grisham",
          "NL/NL West/COL/Trevor Story",
          "AL/AL East/BAL/Trey Mancini",
          "NL/NL Central/CIN/Tucker Barnhart",
          "AL/ AL West/SEA/Ty France",
          "NL/NL Central/CIN/Tyler Naquin",
          "NL/NL Central/STL/Tyler O'Neill",
          "NL/NL Central/CIN/Tyler Stephenson",
          "NL/NL West/SDP/Victor Caratini",
          "NL/NL East/WSN/Victor Robles",
          "AL/AL East/TOR/Vladimir Guerrero Jr.",
          "AL/AL Central/KCR/Whit Merrifield",
          "NL/NL West/SDP/Wil Myers",
          "NL/NL West/LAD/Will Smith",
          "AL/AL Central/DET/Willi Castro",
          "NL/NL Central/CHC/Willson Contreras",
          "NL/NL West/SFG/Wilmer Flores",
          "AL/AL East/BOS/Xander Bogaerts",
          "NL/NL Central/STL/Yadier Molina",
          "AL/AL East/TBR/Yandy Diaz",
          "AL/AL Central/CHW/Yasmani Grandal",
          "AL/AL Central/CHW/Yoan Moncada",
          "AL/ AL West/HOU/Yordan Alvarez",
          "AL/ AL West/HOU/Yuli Gurriel",
          "NL/NL West/ARI",
          "NL/NL East/ATL",
          "AL/AL East/BAL",
          "AL/AL East/BOS",
          "NL/NL Central/CHC",
          "AL/AL Central/CHW",
          "NL/NL Central/CIN",
          "AL/AL Central/CLE",
          "NL/NL West/COL",
          "AL/AL Central/DET",
          "AL/ AL West/HOU",
          "AL/AL Central/KCR",
          "AL/ AL West/LAA",
          "NL/NL West/LAD",
          "NL/NL East/MIA",
          "NL/NL Central/MIL",
          "AL/AL Central/MIN",
          "NL/NL East/NYM",
          "AL/AL East/NYY",
          "AL/ AL West/OAK",
          "NL/NL East/PHI",
          "NL/NL Central/PIT",
          "NL/NL West/SDP",
          "AL/ AL West/SEA",
          "NL/NL West/SFG",
          "NL/NL Central/STL",
          "AL/AL East/TBR",
          "AL/ AL West/TEX",
          "AL/AL East/TOR",
          "NL/NL East/WSN",
          "AL/ AL West",
          "AL/AL Central",
          "AL/AL East",
          "NL/NL Central",
          "NL/NL East",
          "NL/NL West",
          "AL",
          "NL"
         ],
         "labels": [
          "AJ Pollock",
          "Aaron Judge",
          "Adolis Garcia",
          "Akil Baddoo",
          "Alcides Escobar",
          "Alec Bohm",
          "Alex Bregman",
          "Alex Verdugo",
          "Amed Rosario",
          "Andrelton Simmons",
          "Andrew Benintendi",
          "Andrew McCutchen",
          "Andrew Vaughn",
          "Anthony Santander",
          "Austin Hays",
          "Austin Meadows",
          "Austin Riley",
          "Avisail Garcia",
          "Bo Bichette",
          "Bobby Dalbec",
          "Brad Miller",
          "Bradley Zimmer",
          "Brandon Belt",
          "Brandon Crawford",
          "Brandon Lowe",
          "Brandon Nimmo",
          "Brendan Rodgers",
          "Brett Gardner",
          "Bryan Reynolds",
          "Bryce Harper",
          "Buster Posey",
          "C.J. Cron",
          "Carlos Correa",
          "Carlos Santana",
          "Carson Kelly",
          "Cedric Mullins",
          "Charlie Blackmon",
          "Chris Taylor",
          "Christian Vazquez",
          "Christian Walker",
          "Christian Yelich",
          "Cody Bellinger",
          "Colin Moran",
          "Corey Seager",
          "DJ LeMahieu",
          "Dansby Swanson",
          "David Fletcher",
          "David Peralta",
          "Didi Gregorius",
          "Dominic Smith",
          "Donovan Solano",
          "Dylan Carlson",
          "Dylan Moore",
          "Elias Diaz",
          "Elvis Andrus",
          "Enrique Hernandez",
          "Eric Haase",
          "Eric Hosmer",
          "Eugenio Suarez",
          "Fernando Tatis Jr.",
          "Francisco Lindor",
          "Franmil Reyes",
          "Freddie Freeman",
          "Garrett Hampson",
          "Gary Sanchez",
          "Gavin Lux",
          "George Springer",
          "Giancarlo Stanton",
          "Gio Urshela",
          "Gleyber Torres",
          "Gregory Polanco",
          "Guillermo Heredia",
          "Harold Ramirez",
          "Harrison Bader",
          "Hunter Dozier",
          "Hunter Renfroe",
          "Ian Happ",
          "Isiah Kiner-Falefa",
          "J.D. Martinez",
          "J.P. Crawford",
          "J.T. Realmuto",
          "Jackie Bradley Jr.",
          "Jacob Stallings",
          "Jake Cronenworth",
          "James McCann",
          "Jared Walsh",
          "Jarred Kelenic",
          "Jason Heyward",
          "Jazz Chisholm Jr.",
          "Jean Segura",
          "Jed Lowrie",
          "Jeff McNeil",
          "Jeimer Candelario",
          "Jesse Winker",
          "Jesus Aguilar",
          "Joey Votto",
          "Joey Wendle",
          "Jonathan India",
          "Jonathan Schoop",
          "Jonathan Villar",
          "Jorge Polanco",
          "Jose Abreu",
          "Jose Altuve",
          "Jose Ramirez",
          "Josh Bell",
          "Josh Donaldson",
          "Josh Rojas",
          "Juan Soto",
          "Jurickson Profar",
          "Justin Turner",
          "Justin Upton",
          "Ke'Bryan Hayes",
          "Ketel Marte",
          "Kevin Kiermaier",
          "Kevin Newman",
          "Kevin Pillar",
          "Kolten Wong",
          "Kyle Farmer",
          "Kyle Seager",
          "Kyle Tucker",
          "LaMonte Wade Jr.",
          "Leury Garcia",
          "Lourdes Gurriel Jr.",
          "Luis Arraez",
          "Luis Torrens",
          "Luis Urias",
          "Maikel Franco",
          "Manny Machado",
          "Manuel Margot",
          "Marcus Semien",
          "Mark Canha",
          "Martin Maldonado",
          "Matt Chapman",
          "Matt Olson",
          "Max Kepler",
          "Max Muncy",
          "Michael A. Taylor",
          "Michael Brantley",
          "Michael Conforto",
          "Miguel Cabrera",
          "Miguel Rojas",
          "Miguel Sano",
          "Mike Yastrzemski",
          "Mike Zunino",
          "Mitch Haniger",
          "Mookie Betts",
          "Nathaniel Lowe",
          "Nick Ahmed",
          "Nick Castellanos",
          "Nick Solak",
          "Nicky Lopez",
          "Nolan Arenado",
          "Odubel Herrera",
          "Omar Narvaez",
          "Ozzie Albies",
          "Patrick Wisdom",
          "Paul DeJong",
          "Paul Goldschmidt",
          "Pavin Smith",
          "Pedro Severino",
          "Pete Alonso",
          "Phil Gosselin",
          "Rafael Devers",
          "Raimel Tapia",
          "Ramon Laureano",
          "Randal Grichuk",
          "Randy Arozarena",
          "Rhys Hoskins",
          "Robbie Grossman",
          "Ronald Acuna Jr.",
          "Ronald Torreyes",
          "Rougned Odor",
          "Ryan McMahon",
          "Ryan Mountcastle",
          "Salvador Perez",
          "Sean Murphy",
          "Shohei Ohtani",
          "Starlin Castro",
          "Teoscar Hernandez",
          "Tim Anderson",
          "Tommy Edman",
          "Tommy Pham",
          "Tony Kemp",
          "Trent Grisham",
          "Trevor Story",
          "Trey Mancini",
          "Tucker Barnhart",
          "Ty France",
          "Tyler Naquin",
          "Tyler O'Neill",
          "Tyler Stephenson",
          "Victor Caratini",
          "Victor Robles",
          "Vladimir Guerrero Jr.",
          "Whit Merrifield",
          "Wil Myers",
          "Will Smith",
          "Willi Castro",
          "Willson Contreras",
          "Wilmer Flores",
          "Xander Bogaerts",
          "Yadier Molina",
          "Yandy Diaz",
          "Yasmani Grandal",
          "Yoan Moncada",
          "Yordan Alvarez",
          "Yuli Gurriel",
          "ARI",
          "ATL",
          "BAL",
          "BOS",
          "CHC",
          "CHW",
          "CIN",
          "CLE",
          "COL",
          "DET",
          "HOU",
          "KCR",
          "LAA",
          "LAD",
          "MIA",
          "MIL",
          "MIN",
          "NYM",
          "NYY",
          "OAK",
          "PHI",
          "PIT",
          "SDP",
          "SEA",
          "SFG",
          "STL",
          "TBR",
          "TEX",
          "TOR",
          "WSN",
          " AL West",
          "AL Central",
          "AL East",
          "NL Central",
          "NL East",
          "NL West",
          "AL",
          "NL"
         ],
         "maxdepth": 2,
         "name": "",
         "parents": [
          "NL/NL West/LAD",
          "AL/AL East/NYY",
          "AL/ AL West/TEX",
          "AL/AL Central/DET",
          "NL/NL East/WSN",
          "NL/NL East/PHI",
          "AL/ AL West/HOU",
          "AL/AL East/BOS",
          "AL/AL Central/CLE",
          "AL/AL Central/MIN",
          "AL/AL Central/KCR",
          "NL/NL East/PHI",
          "AL/AL Central/CHW",
          "AL/AL East/BAL",
          "AL/AL East/BAL",
          "AL/AL East/TBR",
          "NL/NL East/ATL",
          "NL/NL Central/MIL",
          "AL/AL East/TOR",
          "AL/AL East/BOS",
          "NL/NL East/PHI",
          "AL/AL Central/CLE",
          "NL/NL West/SFG",
          "NL/NL West/SFG",
          "AL/AL East/TBR",
          "NL/NL East/NYM",
          "NL/NL West/COL",
          "AL/AL East/NYY",
          "NL/NL Central/PIT",
          "NL/NL East/PHI",
          "NL/NL West/SFG",
          "NL/NL West/COL",
          "AL/ AL West/HOU",
          "AL/AL Central/KCR",
          "NL/NL West/ARI",
          "AL/AL East/BAL",
          "NL/NL West/COL",
          "NL/NL West/LAD",
          "AL/AL East/BOS",
          "NL/NL West/ARI",
          "NL/NL Central/MIL",
          "NL/NL West/LAD",
          "NL/NL Central/PIT",
          "NL/NL West/LAD",
          "AL/AL East/NYY",
          "NL/NL East/ATL",
          "AL/ AL West/LAA",
          "NL/NL West/ARI",
          "NL/NL East/PHI",
          "NL/NL East/NYM",
          "NL/NL West/SFG",
          "NL/NL Central/STL",
          "AL/ AL West/SEA",
          "NL/NL West/COL",
          "AL/ AL West/OAK",
          "AL/AL East/BOS",
          "AL/AL Central/DET",
          "NL/NL West/SDP",
          "NL/NL Central/CIN",
          "NL/NL West/SDP",
          "NL/NL East/NYM",
          "AL/AL Central/CLE",
          "NL/NL East/ATL",
          "NL/NL West/COL",
          "AL/AL East/NYY",
          "NL/NL West/LAD",
          "AL/AL East/TOR",
          "AL/AL East/NYY",
          "AL/AL East/NYY",
          "AL/AL East/NYY",
          "NL/NL Central/PIT",
          "NL/NL East/ATL",
          "AL/AL Central/CLE",
          "NL/NL Central/STL",
          "AL/AL Central/KCR",
          "AL/AL East/BOS",
          "NL/NL Central/CHC",
          "AL/ AL West/TEX",
          "AL/AL East/BOS",
          "AL/ AL West/SEA",
          "NL/NL East/PHI",
          "NL/NL Central/MIL",
          "NL/NL Central/PIT",
          "NL/NL West/SDP",
          "NL/NL East/NYM",
          "AL/ AL West/LAA",
          "AL/ AL West/SEA",
          "NL/NL Central/CHC",
          "NL/NL East/MIA",
          "NL/NL East/PHI",
          "AL/ AL West/OAK",
          "NL/NL East/NYM",
          "AL/AL Central/DET",
          "NL/NL Central/CIN",
          "NL/NL East/MIA",
          "NL/NL Central/CIN",
          "AL/AL East/TBR",
          "NL/NL Central/CIN",
          "AL/AL Central/DET",
          "NL/NL East/NYM",
          "AL/AL Central/MIN",
          "AL/AL Central/CHW",
          "AL/ AL West/HOU",
          "AL/AL Central/CLE",
          "NL/NL East/WSN",
          "AL/AL Central/MIN",
          "NL/NL West/ARI",
          "NL/NL East/WSN",
          "NL/NL West/SDP",
          "NL/NL West/LAD",
          "AL/ AL West/LAA",
          "NL/NL Central/PIT",
          "NL/NL West/ARI",
          "AL/AL East/TBR",
          "NL/NL Central/PIT",
          "NL/NL East/NYM",
          "NL/NL Central/MIL",
          "NL/NL Central/CIN",
          "AL/ AL West/SEA",
          "AL/ AL West/HOU",
          "NL/NL West/SFG",
          "AL/AL Central/CHW",
          "AL/AL East/TOR",
          "AL/AL Central/MIN",
          "AL/ AL West/SEA",
          "NL/NL Central/MIL",
          "AL/AL East/BAL",
          "NL/NL West/SDP",
          "AL/AL East/TBR",
          "AL/AL East/TOR",
          "AL/ AL West/OAK",
          "AL/ AL West/HOU",
          "AL/ AL West/OAK",
          "AL/ AL West/OAK",
          "AL/AL Central/MIN",
          "NL/NL West/LAD",
          "AL/AL Central/KCR",
          "AL/ AL West/HOU",
          "NL/NL East/NYM",
          "AL/AL Central/DET",
          "NL/NL East/MIA",
          "AL/AL Central/MIN",
          "NL/NL West/SFG",
          "AL/AL East/TBR",
          "AL/ AL West/SEA",
          "NL/NL West/LAD",
          "AL/ AL West/TEX",
          "NL/NL West/ARI",
          "NL/NL Central/CIN",
          "AL/ AL West/TEX",
          "AL/AL Central/KCR",
          "NL/NL Central/STL",
          "NL/NL East/PHI",
          "NL/NL Central/MIL",
          "NL/NL East/ATL",
          "NL/NL Central/CHC",
          "NL/NL Central/STL",
          "NL/NL Central/STL",
          "NL/NL West/ARI",
          "AL/AL East/BAL",
          "NL/NL East/NYM",
          "AL/ AL West/LAA",
          "AL/AL East/BOS",
          "NL/NL West/COL",
          "AL/ AL West/OAK",
          "AL/AL East/TOR",
          "AL/AL East/TBR",
          "NL/NL East/PHI",
          "AL/AL Central/DET",
          "NL/NL East/ATL",
          "NL/NL East/PHI",
          "AL/AL East/NYY",
          "NL/NL West/COL",
          "AL/AL East/BAL",
          "AL/AL Central/KCR",
          "AL/ AL West/OAK",
          "AL/ AL West/LAA",
          "NL/NL East/WSN",
          "AL/AL East/TOR",
          "AL/AL Central/CHW",
          "NL/NL Central/STL",
          "NL/NL West/SDP",
          "AL/ AL West/OAK",
          "NL/NL West/SDP",
          "NL/NL West/COL",
          "AL/AL East/BAL",
          "NL/NL Central/CIN",
          "AL/ AL West/SEA",
          "NL/NL Central/CIN",
          "NL/NL Central/STL",
          "NL/NL Central/CIN",
          "NL/NL West/SDP",
          "NL/NL East/WSN",
          "AL/AL East/TOR",
          "AL/AL Central/KCR",
          "NL/NL West/SDP",
          "NL/NL West/LAD",
          "AL/AL Central/DET",
          "NL/NL Central/CHC",
          "NL/NL West/SFG",
          "AL/AL East/BOS",
          "NL/NL Central/STL",
          "AL/AL East/TBR",
          "AL/AL Central/CHW",
          "AL/AL Central/CHW",
          "AL/ AL West/HOU",
          "AL/ AL West/HOU",
          "NL/NL West",
          "NL/NL East",
          "AL/AL East",
          "AL/AL East",
          "NL/NL Central",
          "AL/AL Central",
          "NL/NL Central",
          "AL/AL Central",
          "NL/NL West",
          "AL/AL Central",
          "AL/ AL West",
          "AL/AL Central",
          "AL/ AL West",
          "NL/NL West",
          "NL/NL East",
          "NL/NL Central",
          "AL/AL Central",
          "NL/NL East",
          "AL/AL East",
          "AL/ AL West",
          "NL/NL East",
          "NL/NL Central",
          "NL/NL West",
          "AL/ AL West",
          "NL/NL West",
          "NL/NL Central",
          "AL/AL East",
          "AL/ AL West",
          "AL/AL East",
          "NL/NL East",
          "AL",
          "AL",
          "AL",
          "NL",
          "NL",
          "NL",
          "",
          ""
         ],
         "textinfo": "label+value",
         "type": "sunburst",
         "values": [
          69,
          63,
          83,
          91,
          59,
          68,
          23,
          50,
          97,
          32,
          63,
          89,
          37,
          30,
          58,
          61,
          69,
          88,
          74,
          79,
          62,
          97,
          23,
          25,
          64,
          92,
          44,
          87,
          88,
          69,
          10,
          28,
          48,
          16,
          23,
          86,
          66,
          91,
          19,
          59,
          81,
          74,
          8,
          39,
          40,
          83,
          66,
          63,
          66,
          33,
          31,
          73,
          83,
          26,
          43,
          60,
          71,
          29,
          44,
          96,
          68,
          32,
          49,
          98,
          20,
          94,
          82,
          13,
          24,
          52,
          56,
          67,
          88,
          97,
          77,
          57,
          67,
          75,
          31,
          61,
          91,
          55,
          9,
          86,
          43,
          52,
          54,
          45,
          94,
          57,
          20,
          49,
          56,
          27,
          11,
          19,
          71,
          86,
          51,
          57,
          73,
          38,
          73,
          77,
          33,
          12,
          63,
          52,
          35,
          22,
          60,
          70,
          44,
          95,
          82,
          63,
          43,
          50,
          22,
          60,
          39,
          83,
          42,
          45,
          45,
          40,
          17,
          37,
          87,
          87,
          68,
          7,
          76,
          27,
          61,
          42,
          78,
          25,
          52,
          9,
          41,
          39,
          58,
          29,
          55,
          53,
          57,
          70,
          64,
          93,
          79,
          22,
          57,
          19,
          83,
          77,
          62,
          33,
          38,
          29,
          30,
          95,
          48,
          81,
          65,
          76,
          90,
          38,
          69,
          97,
          47,
          42,
          33,
          75,
          31,
          27,
          91,
          30,
          85,
          74,
          92,
          70,
          42,
          91,
          89,
          40,
          11,
          21,
          66,
          98,
          46,
          16,
          82,
          45,
          87,
          80,
          68,
          89,
          64,
          12,
          67,
          3,
          39,
          7,
          68,
          34,
          50,
          360,
          448,
          335,
          411,
          253,
          307,
          413,
          391,
          465,
          436,
          320,
          431,
          364,
          552,
          146,
          326,
          262,
          487,
          341,
          368,
          644,
          313,
          540,
          341,
          198,
          480,
          536,
          308,
          491,
          256,
          1701,
          1827,
          2114,
          1785,
          1981,
          2115,
          5642,
          5881
         ]
        }
       ],
       "layout": {
        "legend": {
         "tracegroupgap": 0
        },
        "template": {
         "data": {
          "bar": [
           {
            "error_x": {
             "color": "rgb(36,36,36)"
            },
            "error_y": {
             "color": "rgb(36,36,36)"
            },
            "marker": {
             "line": {
              "color": "rgb(234,234,242)",
              "width": 0.5
             },
             "pattern": {
              "fillmode": "overlay",
              "size": 10,
              "solidity": 0.2
             }
            },
            "type": "bar"
           }
          ],
          "barpolar": [
           {
            "marker": {
             "line": {
              "color": "rgb(234,234,242)",
              "width": 0.5
             },
             "pattern": {
              "fillmode": "overlay",
              "size": 10,
              "solidity": 0.2
             }
            },
            "type": "barpolar"
           }
          ],
          "carpet": [
           {
            "aaxis": {
             "endlinecolor": "rgb(36,36,36)",
             "gridcolor": "white",
             "linecolor": "white",
             "minorgridcolor": "white",
             "startlinecolor": "rgb(36,36,36)"
            },
            "baxis": {
             "endlinecolor": "rgb(36,36,36)",
             "gridcolor": "white",
             "linecolor": "white",
             "minorgridcolor": "white",
             "startlinecolor": "rgb(36,36,36)"
            },
            "type": "carpet"
           }
          ],
          "choropleth": [
           {
            "colorbar": {
             "outlinewidth": 0,
             "tickcolor": "rgb(36,36,36)",
             "ticklen": 8,
             "ticks": "outside",
             "tickwidth": 2
            },
            "type": "choropleth"
           }
          ],
          "contour": [
           {
            "colorbar": {
             "outlinewidth": 0,
             "tickcolor": "rgb(36,36,36)",
             "ticklen": 8,
             "ticks": "outside",
             "tickwidth": 2
            },
            "colorscale": [
             [
              0,
              "rgb(2,4,25)"
             ],
             [
              0.06274509803921569,
              "rgb(24,15,41)"
             ],
             [
              0.12549019607843137,
              "rgb(47,23,57)"
             ],
             [
              0.18823529411764706,
              "rgb(71,28,72)"
             ],
             [
              0.25098039215686274,
              "rgb(97,30,82)"
             ],
             [
              0.3137254901960784,
              "rgb(123,30,89)"
             ],
             [
              0.3764705882352941,
              "rgb(150,27,91)"
             ],
             [
              0.4392156862745098,
              "rgb(177,22,88)"
             ],
             [
              0.5019607843137255,
              "rgb(203,26,79)"
             ],
             [
              0.5647058823529412,
              "rgb(223,47,67)"
             ],
             [
              0.6274509803921569,
              "rgb(236,76,61)"
             ],
             [
              0.6901960784313725,
              "rgb(242,107,73)"
             ],
             [
              0.7529411764705882,
              "rgb(244,135,95)"
             ],
             [
              0.8156862745098039,
              "rgb(245,162,122)"
             ],
             [
              0.8784313725490196,
              "rgb(246,188,153)"
             ],
             [
              0.9411764705882353,
              "rgb(247,212,187)"
             ],
             [
              1,
              "rgb(250,234,220)"
             ]
            ],
            "type": "contour"
           }
          ],
          "contourcarpet": [
           {
            "colorbar": {
             "outlinewidth": 0,
             "tickcolor": "rgb(36,36,36)",
             "ticklen": 8,
             "ticks": "outside",
             "tickwidth": 2
            },
            "type": "contourcarpet"
           }
          ],
          "heatmap": [
           {
            "colorbar": {
             "outlinewidth": 0,
             "tickcolor": "rgb(36,36,36)",
             "ticklen": 8,
             "ticks": "outside",
             "tickwidth": 2
            },
            "colorscale": [
             [
              0,
              "rgb(2,4,25)"
             ],
             [
              0.06274509803921569,
              "rgb(24,15,41)"
             ],
             [
              0.12549019607843137,
              "rgb(47,23,57)"
             ],
             [
              0.18823529411764706,
              "rgb(71,28,72)"
             ],
             [
              0.25098039215686274,
              "rgb(97,30,82)"
             ],
             [
              0.3137254901960784,
              "rgb(123,30,89)"
             ],
             [
              0.3764705882352941,
              "rgb(150,27,91)"
             ],
             [
              0.4392156862745098,
              "rgb(177,22,88)"
             ],
             [
              0.5019607843137255,
              "rgb(203,26,79)"
             ],
             [
              0.5647058823529412,
              "rgb(223,47,67)"
             ],
             [
              0.6274509803921569,
              "rgb(236,76,61)"
             ],
             [
              0.6901960784313725,
              "rgb(242,107,73)"
             ],
             [
              0.7529411764705882,
              "rgb(244,135,95)"
             ],
             [
              0.8156862745098039,
              "rgb(245,162,122)"
             ],
             [
              0.8784313725490196,
              "rgb(246,188,153)"
             ],
             [
              0.9411764705882353,
              "rgb(247,212,187)"
             ],
             [
              1,
              "rgb(250,234,220)"
             ]
            ],
            "type": "heatmap"
           }
          ],
          "heatmapgl": [
           {
            "colorbar": {
             "outlinewidth": 0,
             "tickcolor": "rgb(36,36,36)",
             "ticklen": 8,
             "ticks": "outside",
             "tickwidth": 2
            },
            "colorscale": [
             [
              0,
              "rgb(2,4,25)"
             ],
             [
              0.06274509803921569,
              "rgb(24,15,41)"
             ],
             [
              0.12549019607843137,
              "rgb(47,23,57)"
             ],
             [
              0.18823529411764706,
              "rgb(71,28,72)"
             ],
             [
              0.25098039215686274,
              "rgb(97,30,82)"
             ],
             [
              0.3137254901960784,
              "rgb(123,30,89)"
             ],
             [
              0.3764705882352941,
              "rgb(150,27,91)"
             ],
             [
              0.4392156862745098,
              "rgb(177,22,88)"
             ],
             [
              0.5019607843137255,
              "rgb(203,26,79)"
             ],
             [
              0.5647058823529412,
              "rgb(223,47,67)"
             ],
             [
              0.6274509803921569,
              "rgb(236,76,61)"
             ],
             [
              0.6901960784313725,
              "rgb(242,107,73)"
             ],
             [
              0.7529411764705882,
              "rgb(244,135,95)"
             ],
             [
              0.8156862745098039,
              "rgb(245,162,122)"
             ],
             [
              0.8784313725490196,
              "rgb(246,188,153)"
             ],
             [
              0.9411764705882353,
              "rgb(247,212,187)"
             ],
             [
              1,
              "rgb(250,234,220)"
             ]
            ],
            "type": "heatmapgl"
           }
          ],
          "histogram": [
           {
            "marker": {
             "pattern": {
              "fillmode": "overlay",
              "size": 10,
              "solidity": 0.2
             }
            },
            "type": "histogram"
           }
          ],
          "histogram2d": [
           {
            "colorbar": {
             "outlinewidth": 0,
             "tickcolor": "rgb(36,36,36)",
             "ticklen": 8,
             "ticks": "outside",
             "tickwidth": 2
            },
            "colorscale": [
             [
              0,
              "rgb(2,4,25)"
             ],
             [
              0.06274509803921569,
              "rgb(24,15,41)"
             ],
             [
              0.12549019607843137,
              "rgb(47,23,57)"
             ],
             [
              0.18823529411764706,
              "rgb(71,28,72)"
             ],
             [
              0.25098039215686274,
              "rgb(97,30,82)"
             ],
             [
              0.3137254901960784,
              "rgb(123,30,89)"
             ],
             [
              0.3764705882352941,
              "rgb(150,27,91)"
             ],
             [
              0.4392156862745098,
              "rgb(177,22,88)"
             ],
             [
              0.5019607843137255,
              "rgb(203,26,79)"
             ],
             [
              0.5647058823529412,
              "rgb(223,47,67)"
             ],
             [
              0.6274509803921569,
              "rgb(236,76,61)"
             ],
             [
              0.6901960784313725,
              "rgb(242,107,73)"
             ],
             [
              0.7529411764705882,
              "rgb(244,135,95)"
             ],
             [
              0.8156862745098039,
              "rgb(245,162,122)"
             ],
             [
              0.8784313725490196,
              "rgb(246,188,153)"
             ],
             [
              0.9411764705882353,
              "rgb(247,212,187)"
             ],
             [
              1,
              "rgb(250,234,220)"
             ]
            ],
            "type": "histogram2d"
           }
          ],
          "histogram2dcontour": [
           {
            "colorbar": {
             "outlinewidth": 0,
             "tickcolor": "rgb(36,36,36)",
             "ticklen": 8,
             "ticks": "outside",
             "tickwidth": 2
            },
            "colorscale": [
             [
              0,
              "rgb(2,4,25)"
             ],
             [
              0.06274509803921569,
              "rgb(24,15,41)"
             ],
             [
              0.12549019607843137,
              "rgb(47,23,57)"
             ],
             [
              0.18823529411764706,
              "rgb(71,28,72)"
             ],
             [
              0.25098039215686274,
              "rgb(97,30,82)"
             ],
             [
              0.3137254901960784,
              "rgb(123,30,89)"
             ],
             [
              0.3764705882352941,
              "rgb(150,27,91)"
             ],
             [
              0.4392156862745098,
              "rgb(177,22,88)"
             ],
             [
              0.5019607843137255,
              "rgb(203,26,79)"
             ],
             [
              0.5647058823529412,
              "rgb(223,47,67)"
             ],
             [
              0.6274509803921569,
              "rgb(236,76,61)"
             ],
             [
              0.6901960784313725,
              "rgb(242,107,73)"
             ],
             [
              0.7529411764705882,
              "rgb(244,135,95)"
             ],
             [
              0.8156862745098039,
              "rgb(245,162,122)"
             ],
             [
              0.8784313725490196,
              "rgb(246,188,153)"
             ],
             [
              0.9411764705882353,
              "rgb(247,212,187)"
             ],
             [
              1,
              "rgb(250,234,220)"
             ]
            ],
            "type": "histogram2dcontour"
           }
          ],
          "mesh3d": [
           {
            "colorbar": {
             "outlinewidth": 0,
             "tickcolor": "rgb(36,36,36)",
             "ticklen": 8,
             "ticks": "outside",
             "tickwidth": 2
            },
            "type": "mesh3d"
           }
          ],
          "parcoords": [
           {
            "line": {
             "colorbar": {
              "outlinewidth": 0,
              "tickcolor": "rgb(36,36,36)",
              "ticklen": 8,
              "ticks": "outside",
              "tickwidth": 2
             }
            },
            "type": "parcoords"
           }
          ],
          "pie": [
           {
            "automargin": true,
            "type": "pie"
           }
          ],
          "scatter": [
           {
            "marker": {
             "colorbar": {
              "outlinewidth": 0,
              "tickcolor": "rgb(36,36,36)",
              "ticklen": 8,
              "ticks": "outside",
              "tickwidth": 2
             }
            },
            "type": "scatter"
           }
          ],
          "scatter3d": [
           {
            "line": {
             "colorbar": {
              "outlinewidth": 0,
              "tickcolor": "rgb(36,36,36)",
              "ticklen": 8,
              "ticks": "outside",
              "tickwidth": 2
             }
            },
            "marker": {
             "colorbar": {
              "outlinewidth": 0,
              "tickcolor": "rgb(36,36,36)",
              "ticklen": 8,
              "ticks": "outside",
              "tickwidth": 2
             }
            },
            "type": "scatter3d"
           }
          ],
          "scattercarpet": [
           {
            "marker": {
             "colorbar": {
              "outlinewidth": 0,
              "tickcolor": "rgb(36,36,36)",
              "ticklen": 8,
              "ticks": "outside",
              "tickwidth": 2
             }
            },
            "type": "scattercarpet"
           }
          ],
          "scattergeo": [
           {
            "marker": {
             "colorbar": {
              "outlinewidth": 0,
              "tickcolor": "rgb(36,36,36)",
              "ticklen": 8,
              "ticks": "outside",
              "tickwidth": 2
             }
            },
            "type": "scattergeo"
           }
          ],
          "scattergl": [
           {
            "marker": {
             "colorbar": {
              "outlinewidth": 0,
              "tickcolor": "rgb(36,36,36)",
              "ticklen": 8,
              "ticks": "outside",
              "tickwidth": 2
             }
            },
            "type": "scattergl"
           }
          ],
          "scattermapbox": [
           {
            "marker": {
             "colorbar": {
              "outlinewidth": 0,
              "tickcolor": "rgb(36,36,36)",
              "ticklen": 8,
              "ticks": "outside",
              "tickwidth": 2
             }
            },
            "type": "scattermapbox"
           }
          ],
          "scatterpolar": [
           {
            "marker": {
             "colorbar": {
              "outlinewidth": 0,
              "tickcolor": "rgb(36,36,36)",
              "ticklen": 8,
              "ticks": "outside",
              "tickwidth": 2
             }
            },
            "type": "scatterpolar"
           }
          ],
          "scatterpolargl": [
           {
            "marker": {
             "colorbar": {
              "outlinewidth": 0,
              "tickcolor": "rgb(36,36,36)",
              "ticklen": 8,
              "ticks": "outside",
              "tickwidth": 2
             }
            },
            "type": "scatterpolargl"
           }
          ],
          "scatterternary": [
           {
            "marker": {
             "colorbar": {
              "outlinewidth": 0,
              "tickcolor": "rgb(36,36,36)",
              "ticklen": 8,
              "ticks": "outside",
              "tickwidth": 2
             }
            },
            "type": "scatterternary"
           }
          ],
          "surface": [
           {
            "colorbar": {
             "outlinewidth": 0,
             "tickcolor": "rgb(36,36,36)",
             "ticklen": 8,
             "ticks": "outside",
             "tickwidth": 2
            },
            "colorscale": [
             [
              0,
              "rgb(2,4,25)"
             ],
             [
              0.06274509803921569,
              "rgb(24,15,41)"
             ],
             [
              0.12549019607843137,
              "rgb(47,23,57)"
             ],
             [
              0.18823529411764706,
              "rgb(71,28,72)"
             ],
             [
              0.25098039215686274,
              "rgb(97,30,82)"
             ],
             [
              0.3137254901960784,
              "rgb(123,30,89)"
             ],
             [
              0.3764705882352941,
              "rgb(150,27,91)"
             ],
             [
              0.4392156862745098,
              "rgb(177,22,88)"
             ],
             [
              0.5019607843137255,
              "rgb(203,26,79)"
             ],
             [
              0.5647058823529412,
              "rgb(223,47,67)"
             ],
             [
              0.6274509803921569,
              "rgb(236,76,61)"
             ],
             [
              0.6901960784313725,
              "rgb(242,107,73)"
             ],
             [
              0.7529411764705882,
              "rgb(244,135,95)"
             ],
             [
              0.8156862745098039,
              "rgb(245,162,122)"
             ],
             [
              0.8784313725490196,
              "rgb(246,188,153)"
             ],
             [
              0.9411764705882353,
              "rgb(247,212,187)"
             ],
             [
              1,
              "rgb(250,234,220)"
             ]
            ],
            "type": "surface"
           }
          ],
          "table": [
           {
            "cells": {
             "fill": {
              "color": "rgb(231,231,240)"
             },
             "line": {
              "color": "white"
             }
            },
            "header": {
             "fill": {
              "color": "rgb(183,183,191)"
             },
             "line": {
              "color": "white"
             }
            },
            "type": "table"
           }
          ]
         },
         "layout": {
          "annotationdefaults": {
           "arrowcolor": "rgb(67,103,167)"
          },
          "autotypenumbers": "strict",
          "coloraxis": {
           "colorbar": {
            "outlinewidth": 0,
            "tickcolor": "rgb(36,36,36)",
            "ticklen": 8,
            "ticks": "outside",
            "tickwidth": 2
           }
          },
          "colorscale": {
           "sequential": [
            [
             0,
             "rgb(2,4,25)"
            ],
            [
             0.06274509803921569,
             "rgb(24,15,41)"
            ],
            [
             0.12549019607843137,
             "rgb(47,23,57)"
            ],
            [
             0.18823529411764706,
             "rgb(71,28,72)"
            ],
            [
             0.25098039215686274,
             "rgb(97,30,82)"
            ],
            [
             0.3137254901960784,
             "rgb(123,30,89)"
            ],
            [
             0.3764705882352941,
             "rgb(150,27,91)"
            ],
            [
             0.4392156862745098,
             "rgb(177,22,88)"
            ],
            [
             0.5019607843137255,
             "rgb(203,26,79)"
            ],
            [
             0.5647058823529412,
             "rgb(223,47,67)"
            ],
            [
             0.6274509803921569,
             "rgb(236,76,61)"
            ],
            [
             0.6901960784313725,
             "rgb(242,107,73)"
            ],
            [
             0.7529411764705882,
             "rgb(244,135,95)"
            ],
            [
             0.8156862745098039,
             "rgb(245,162,122)"
            ],
            [
             0.8784313725490196,
             "rgb(246,188,153)"
            ],
            [
             0.9411764705882353,
             "rgb(247,212,187)"
            ],
            [
             1,
             "rgb(250,234,220)"
            ]
           ],
           "sequentialminus": [
            [
             0,
             "rgb(2,4,25)"
            ],
            [
             0.06274509803921569,
             "rgb(24,15,41)"
            ],
            [
             0.12549019607843137,
             "rgb(47,23,57)"
            ],
            [
             0.18823529411764706,
             "rgb(71,28,72)"
            ],
            [
             0.25098039215686274,
             "rgb(97,30,82)"
            ],
            [
             0.3137254901960784,
             "rgb(123,30,89)"
            ],
            [
             0.3764705882352941,
             "rgb(150,27,91)"
            ],
            [
             0.4392156862745098,
             "rgb(177,22,88)"
            ],
            [
             0.5019607843137255,
             "rgb(203,26,79)"
            ],
            [
             0.5647058823529412,
             "rgb(223,47,67)"
            ],
            [
             0.6274509803921569,
             "rgb(236,76,61)"
            ],
            [
             0.6901960784313725,
             "rgb(242,107,73)"
            ],
            [
             0.7529411764705882,
             "rgb(244,135,95)"
            ],
            [
             0.8156862745098039,
             "rgb(245,162,122)"
            ],
            [
             0.8784313725490196,
             "rgb(246,188,153)"
            ],
            [
             0.9411764705882353,
             "rgb(247,212,187)"
            ],
            [
             1,
             "rgb(250,234,220)"
            ]
           ]
          },
          "colorway": [
           "rgb(76,114,176)",
           "rgb(221,132,82)",
           "rgb(85,168,104)",
           "rgb(196,78,82)",
           "rgb(129,114,179)",
           "rgb(147,120,96)",
           "rgb(218,139,195)",
           "rgb(140,140,140)",
           "rgb(204,185,116)",
           "rgb(100,181,205)"
          ],
          "font": {
           "color": "rgb(36,36,36)"
          },
          "geo": {
           "bgcolor": "white",
           "lakecolor": "white",
           "landcolor": "rgb(234,234,242)",
           "showlakes": true,
           "showland": true,
           "subunitcolor": "white"
          },
          "hoverlabel": {
           "align": "left"
          },
          "hovermode": "closest",
          "paper_bgcolor": "white",
          "plot_bgcolor": "rgb(234,234,242)",
          "polar": {
           "angularaxis": {
            "gridcolor": "white",
            "linecolor": "white",
            "showgrid": true,
            "ticks": ""
           },
           "bgcolor": "rgb(234,234,242)",
           "radialaxis": {
            "gridcolor": "white",
            "linecolor": "white",
            "showgrid": true,
            "ticks": ""
           }
          },
          "scene": {
           "xaxis": {
            "backgroundcolor": "rgb(234,234,242)",
            "gridcolor": "white",
            "gridwidth": 2,
            "linecolor": "white",
            "showbackground": true,
            "showgrid": true,
            "ticks": "",
            "zerolinecolor": "white"
           },
           "yaxis": {
            "backgroundcolor": "rgb(234,234,242)",
            "gridcolor": "white",
            "gridwidth": 2,
            "linecolor": "white",
            "showbackground": true,
            "showgrid": true,
            "ticks": "",
            "zerolinecolor": "white"
           },
           "zaxis": {
            "backgroundcolor": "rgb(234,234,242)",
            "gridcolor": "white",
            "gridwidth": 2,
            "linecolor": "white",
            "showbackground": true,
            "showgrid": true,
            "ticks": "",
            "zerolinecolor": "white"
           }
          },
          "shapedefaults": {
           "fillcolor": "rgb(67,103,167)",
           "line": {
            "width": 0
           },
           "opacity": 0.5
          },
          "ternary": {
           "aaxis": {
            "gridcolor": "white",
            "linecolor": "white",
            "showgrid": true,
            "ticks": ""
           },
           "baxis": {
            "gridcolor": "white",
            "linecolor": "white",
            "showgrid": true,
            "ticks": ""
           },
           "bgcolor": "rgb(234,234,242)",
           "caxis": {
            "gridcolor": "white",
            "linecolor": "white",
            "showgrid": true,
            "ticks": ""
           }
          },
          "xaxis": {
           "automargin": true,
           "gridcolor": "white",
           "linecolor": "white",
           "showgrid": true,
           "ticks": "",
           "title": {
            "standoff": 15
           },
           "zerolinecolor": "white"
          },
          "yaxis": {
           "automargin": true,
           "gridcolor": "white",
           "linecolor": "white",
           "showgrid": true,
           "ticks": "",
           "title": {
            "standoff": 15
           },
           "zerolinecolor": "white"
          }
         }
        },
        "title": {
         "text": "Number of Barrels broken down for each League, Division, Team and Player"
        }
       }
      }
     },
     "metadata": {},
     "output_type": "display_data"
    }
   ],
   "source": [
    "fig = px.sunburst(\n",
    "    data_frame=one_team,\n",
    "    path=[\"League\", \"Division\", \"Team\", \"Name\"],\n",
    "    values=\"SprintSpeed_percentile\",\n",
    "    maxdepth=2,\n",
    "    hover_name=\"League\",\n",
    "    hover_data={\"Team\":False, \"Spd\":True},\n",
    "    template=\"seaborn\",\n",
    "    title=\"Number of Barrels broken down for each League, Division, Team and Player\"\n",
    ")\n",
    "fig.update_traces(textinfo='label+value')"
   ]
  },
  {
   "cell_type": "markdown",
   "metadata": {},
   "source": [
    "#### OAA percentile "
   ]
  },
  {
   "cell_type": "code",
   "execution_count": 120,
   "metadata": {},
   "outputs": [
    {
     "data": {
      "application/vnd.plotly.v1+json": {
       "config": {
        "plotlyServerURL": "https://plot.ly"
       },
       "data": [
        {
         "branchvalues": "total",
         "customdata": [
          [
           "LAD",
           1
          ],
          [
           "NYY",
           -1
          ],
          [
           "TEX",
           11
          ],
          [
           "DET",
           -1
          ],
          [
           "WSN",
           -4
          ],
          [
           "PHI",
           -3
          ],
          [
           "HOU",
           -1
          ],
          [
           "BOS",
           -6
          ],
          [
           "CLE",
           -4
          ],
          [
           "MIN",
           16
          ],
          [
           "KCR",
           0
          ],
          [
           "PHI",
           -3
          ],
          [
           "CHW",
           -6
          ],
          [
           "BAL",
           -6
          ],
          [
           "BAL",
           0
          ],
          [
           "TBR",
           -4
          ],
          [
           "ATL",
           -5
          ],
          [
           "MIL",
           -2
          ],
          [
           "TOR",
           -6
          ],
          [
           "BOS",
           -8
          ],
          [
           "PHI",
           -4
          ],
          [
           "CLE",
           8
          ],
          [
           "SFG",
           2
          ],
          [
           "SFG",
           15
          ],
          [
           "TBR",
           -6
          ],
          [
           "NYM",
           4
          ],
          [
           "COL",
           -4
          ],
          [
           "NYY",
           0
          ],
          [
           "PIT",
           10
          ],
          [
           "PHI",
           -5
          ],
          [
           "SFG",
           null
          ],
          [
           "COL",
           -1
          ],
          [
           "HOU",
           12
          ],
          [
           "KCR",
           1
          ],
          [
           "ARI",
           null
          ],
          [
           "BAL",
           10
          ],
          [
           "COL",
           -8
          ],
          [
           "LAD",
           -3
          ],
          [
           "BOS",
           null
          ],
          [
           "ARI",
           4
          ],
          [
           "MIL",
           2
          ],
          [
           "LAD",
           2
          ],
          [
           "PIT",
           -3
          ],
          [
           "LAD",
           -6
          ],
          [
           "NYY",
           1
          ],
          [
           "ATL",
           3
          ],
          [
           "LAA",
           8
          ],
          [
           "ARI",
           2
          ],
          [
           "PHI",
           -18
          ],
          [
           "NYM",
           -10
          ],
          [
           "SFG",
           0
          ],
          [
           "STL",
           -5
          ],
          [
           "SEA",
           11
          ],
          [
           "COL",
           null
          ],
          [
           "OAK",
           6
          ],
          [
           "BOS",
           7
          ],
          [
           "DET",
           null
          ],
          [
           "SDP",
           0
          ],
          [
           "CIN",
           -10
          ],
          [
           "SDP",
           1
          ],
          [
           "NYM",
           20
          ],
          [
           "CLE",
           null
          ],
          [
           "ATL",
           3
          ],
          [
           "COL",
           8
          ],
          [
           "NYY",
           null
          ],
          [
           "LAD",
           -4
          ],
          [
           "TOR",
           1
          ],
          [
           "NYY",
           -1
          ],
          [
           "NYY",
           -4
          ],
          [
           "NYY",
           -10
          ],
          [
           "PIT",
           -2
          ],
          [
           "ATL",
           5
          ],
          [
           "CLE",
           -4
          ],
          [
           "STL",
           13
          ],
          [
           "KCR",
           -13
          ],
          [
           "BOS",
           -3
          ],
          [
           "CHC",
           -6
          ],
          [
           "TEX",
           -7
          ],
          [
           "BOS",
           -2
          ],
          [
           "SEA",
           0
          ],
          [
           "PHI",
           null
          ],
          [
           "MIL",
           4
          ],
          [
           "PIT",
           null
          ],
          [
           "SDP",
           1
          ],
          [
           "NYM",
           null
          ],
          [
           "LAA",
           -5
          ],
          [
           "SEA",
           -2
          ],
          [
           "CHC",
           2
          ],
          [
           "MIA",
           -4
          ],
          [
           "PHI",
           8
          ],
          [
           "OAK",
           -2
          ],
          [
           "NYM",
           5
          ],
          [
           "DET",
           -1
          ],
          [
           "CIN",
           -6
          ],
          [
           "MIA",
           1
          ],
          [
           "CIN",
           0
          ],
          [
           "TBR",
           8
          ],
          [
           "CIN",
           -7
          ],
          [
           "DET",
           5
          ],
          [
           "NYM",
           -2
          ],
          [
           "MIN",
           -4
          ],
          [
           "CHW",
           0
          ],
          [
           "HOU",
           5
          ],
          [
           "CLE",
           7
          ],
          [
           "WSN",
           2
          ],
          [
           "MIN",
           1
          ],
          [
           "ARI",
           -6
          ],
          [
           "WSN",
           4
          ],
          [
           "SDP",
           -7
          ],
          [
           "LAD",
           0
          ],
          [
           "LAA",
           -6
          ],
          [
           "PIT",
           13
          ],
          [
           "ARI",
           -6
          ],
          [
           "TBR",
           11
          ],
          [
           "PIT",
           3
          ],
          [
           "NYM",
           -1
          ],
          [
           "MIL",
           1
          ],
          [
           "CIN",
           5
          ],
          [
           "SEA",
           4
          ],
          [
           "HOU",
           5
          ],
          [
           "SFG",
           0
          ],
          [
           "CHW",
           -2
          ],
          [
           "TOR",
           -6
          ],
          [
           "MIN",
           -5
          ],
          [
           "SEA",
           null
          ],
          [
           "MIL",
           -12
          ],
          [
           "BAL",
           -2
          ],
          [
           "SDP",
           2
          ],
          [
           "TBR",
           16
          ],
          [
           "TOR",
           5
          ],
          [
           "OAK",
           2
          ],
          [
           "HOU",
           null
          ],
          [
           "OAK",
           17
          ],
          [
           "OAK",
           1
          ],
          [
           "MIN",
           8
          ],
          [
           "LAD",
           5
          ],
          [
           "KCR",
           14
          ],
          [
           "HOU",
           -3
          ],
          [
           "NYM",
           1
          ],
          [
           "DET",
           -1
          ],
          [
           "MIA",
           -4
          ],
          [
           "MIN",
           -7
          ],
          [
           "SFG",
           6
          ],
          [
           "TBR",
           null
          ],
          [
           "SEA",
           -7
          ],
          [
           "LAD",
           -2
          ],
          [
           "TEX",
           -3
          ],
          [
           "ARI",
           18
          ],
          [
           "CIN",
           -6
          ],
          [
           "TEX",
           4
          ],
          [
           "KCR",
           25
          ],
          [
           "STL",
           10
          ],
          [
           "PHI",
           6
          ],
          [
           "MIL",
           null
          ],
          [
           "ATL",
           0
          ],
          [
           "CHC",
           3
          ],
          [
           "STL",
           5
          ],
          [
           "STL",
           6
          ],
          [
           "ARI",
           -4
          ],
          [
           "BAL",
           null
          ],
          [
           "NYM",
           1
          ],
          [
           "LAA",
           -5
          ],
          [
           "BOS",
           -13
          ],
          [
           "COL",
           3
          ],
          [
           "OAK",
           -2
          ],
          [
           "TOR",
           -1
          ],
          [
           "TBR",
           1
          ],
          [
           "PHI",
           -2
          ],
          [
           "DET",
           -2
          ],
          [
           "ATL",
           0
          ],
          [
           "PHI",
           4
          ],
          [
           "NYY",
           9
          ],
          [
           "COL",
           11
          ],
          [
           "BAL",
           -10
          ],
          [
           "KCR",
           null
          ],
          [
           "OAK",
           null
          ],
          [
           "LAA",
           null
          ],
          [
           "WSN",
           1
          ],
          [
           "TOR",
           0
          ],
          [
           "CHW",
           3
          ],
          [
           "STL",
           13
          ],
          [
           "SDP",
           -5
          ],
          [
           "OAK",
           2
          ],
          [
           "SDP",
           6
          ],
          [
           "COL",
           -6
          ],
          [
           "BAL",
           0
          ],
          [
           "CIN",
           null
          ],
          [
           "SEA",
           -3
          ],
          [
           "CIN",
           -6
          ],
          [
           "STL",
           3
          ],
          [
           "CIN",
           null
          ],
          [
           "SDP",
           null
          ],
          [
           "WSN",
           1
          ],
          [
           "TOR",
           -3
          ],
          [
           "KCR",
           6
          ],
          [
           "SDP",
           1
          ],
          [
           "LAD",
           null
          ],
          [
           "DET",
           0
          ],
          [
           "CHC",
           null
          ],
          [
           "SFG",
           0
          ],
          [
           "BOS",
           -10
          ],
          [
           "STL",
           null
          ],
          [
           "TBR",
           -2
          ],
          [
           "CHW",
           null
          ],
          [
           "CHW",
           -2
          ],
          [
           "HOU",
           -1
          ],
          [
           "HOU",
           0
          ],
          [
           "ARI",
           "(?)"
          ],
          [
           "ATL",
           "(?)"
          ],
          [
           "BAL",
           "(?)"
          ],
          [
           "BOS",
           "(?)"
          ],
          [
           "CHC",
           "(?)"
          ],
          [
           "CHW",
           "(?)"
          ],
          [
           "CIN",
           "(?)"
          ],
          [
           "CLE",
           "(?)"
          ],
          [
           "COL",
           "(?)"
          ],
          [
           "DET",
           "(?)"
          ],
          [
           "HOU",
           "(?)"
          ],
          [
           "KCR",
           "(?)"
          ],
          [
           "LAA",
           "(?)"
          ],
          [
           "LAD",
           "(?)"
          ],
          [
           "MIA",
           "(?)"
          ],
          [
           "MIL",
           "(?)"
          ],
          [
           "MIN",
           "(?)"
          ],
          [
           "NYM",
           "(?)"
          ],
          [
           "NYY",
           "(?)"
          ],
          [
           "OAK",
           "(?)"
          ],
          [
           "PHI",
           "(?)"
          ],
          [
           "PIT",
           "(?)"
          ],
          [
           "SDP",
           "(?)"
          ],
          [
           "SEA",
           "(?)"
          ],
          [
           "SFG",
           "(?)"
          ],
          [
           "STL",
           "(?)"
          ],
          [
           "TBR",
           "(?)"
          ],
          [
           "TEX",
           "(?)"
          ],
          [
           "TOR",
           "(?)"
          ],
          [
           "WSN",
           "(?)"
          ],
          [
           "(?)",
           "(?)"
          ],
          [
           "(?)",
           "(?)"
          ],
          [
           "(?)",
           "(?)"
          ],
          [
           "(?)",
           "(?)"
          ],
          [
           "(?)",
           "(?)"
          ],
          [
           "(?)",
           "(?)"
          ],
          [
           "(?)",
           "(?)"
          ],
          [
           "(?)",
           "(?)"
          ]
         ],
         "domain": {
          "x": [
           0,
           1
          ],
          "y": [
           0,
           1
          ]
         },
         "hovertemplate": "<b>%{hovertext}</b><br><br>labels=%{label}<br>OAA_percentile=%{value}<br>parent=%{parent}<br>id=%{id}<br>OAA=%{customdata[1]}<extra></extra>",
         "hovertext": [
          "NL",
          "AL",
          "AL",
          "AL",
          "NL",
          "NL",
          "AL",
          "AL",
          "AL",
          "AL",
          "AL",
          "NL",
          "AL",
          "AL",
          "AL",
          "AL",
          "NL",
          "NL",
          "AL",
          "AL",
          "NL",
          "AL",
          "NL",
          "NL",
          "AL",
          "NL",
          "NL",
          "AL",
          "NL",
          "NL",
          "NL",
          "NL",
          "AL",
          "AL",
          "NL",
          "AL",
          "NL",
          "NL",
          "AL",
          "NL",
          "NL",
          "NL",
          "NL",
          "NL",
          "AL",
          "NL",
          "AL",
          "NL",
          "NL",
          "NL",
          "NL",
          "NL",
          "AL",
          "NL",
          "AL",
          "AL",
          "AL",
          "NL",
          "NL",
          "NL",
          "NL",
          "AL",
          "NL",
          "NL",
          "AL",
          "NL",
          "AL",
          "AL",
          "AL",
          "AL",
          "NL",
          "NL",
          "AL",
          "NL",
          "AL",
          "AL",
          "NL",
          "AL",
          "AL",
          "AL",
          "NL",
          "NL",
          "NL",
          "NL",
          "NL",
          "AL",
          "AL",
          "NL",
          "NL",
          "NL",
          "AL",
          "NL",
          "AL",
          "NL",
          "NL",
          "NL",
          "AL",
          "NL",
          "AL",
          "NL",
          "AL",
          "AL",
          "AL",
          "AL",
          "NL",
          "AL",
          "NL",
          "NL",
          "NL",
          "NL",
          "AL",
          "NL",
          "NL",
          "AL",
          "NL",
          "NL",
          "NL",
          "NL",
          "AL",
          "AL",
          "NL",
          "AL",
          "AL",
          "AL",
          "AL",
          "NL",
          "AL",
          "NL",
          "AL",
          "AL",
          "AL",
          "AL",
          "AL",
          "AL",
          "AL",
          "NL",
          "AL",
          "AL",
          "NL",
          "AL",
          "NL",
          "AL",
          "NL",
          "AL",
          "AL",
          "NL",
          "AL",
          "NL",
          "NL",
          "AL",
          "AL",
          "NL",
          "NL",
          "NL",
          "NL",
          "NL",
          "NL",
          "NL",
          "NL",
          "AL",
          "NL",
          "AL",
          "AL",
          "NL",
          "AL",
          "AL",
          "AL",
          "NL",
          "AL",
          "NL",
          "NL",
          "AL",
          "NL",
          "AL",
          "AL",
          "AL",
          "AL",
          "NL",
          "AL",
          "AL",
          "NL",
          "NL",
          "AL",
          "NL",
          "NL",
          "AL",
          "NL",
          "AL",
          "NL",
          "NL",
          "NL",
          "NL",
          "NL",
          "AL",
          "AL",
          "NL",
          "NL",
          "AL",
          "NL",
          "NL",
          "AL",
          "NL",
          "AL",
          "AL",
          "AL",
          "AL",
          "AL",
          "NL",
          "NL",
          "AL",
          "AL",
          "NL",
          "AL",
          "NL",
          "AL",
          "NL",
          "AL",
          "AL",
          "AL",
          "AL",
          "NL",
          "NL",
          "NL",
          "AL",
          "NL",
          "AL",
          "AL",
          "NL",
          "NL",
          "NL",
          "AL",
          "NL",
          "NL",
          "AL",
          "AL",
          "AL",
          "NL",
          "AL",
          "AL",
          "AL",
          "NL",
          "NL",
          "NL",
          "AL",
          "NL"
         ],
         "ids": [
          "NL/NL West/LAD/AJ Pollock",
          "AL/AL East/NYY/Aaron Judge",
          "AL/ AL West/TEX/Adolis Garcia",
          "AL/AL Central/DET/Akil Baddoo",
          "NL/NL East/WSN/Alcides Escobar",
          "NL/NL East/PHI/Alec Bohm",
          "AL/ AL West/HOU/Alex Bregman",
          "AL/AL East/BOS/Alex Verdugo",
          "AL/AL Central/CLE/Amed Rosario",
          "AL/AL Central/MIN/Andrelton Simmons",
          "AL/AL Central/KCR/Andrew Benintendi",
          "NL/NL East/PHI/Andrew McCutchen",
          "AL/AL Central/CHW/Andrew Vaughn",
          "AL/AL East/BAL/Anthony Santander",
          "AL/AL East/BAL/Austin Hays",
          "AL/AL East/TBR/Austin Meadows",
          "NL/NL East/ATL/Austin Riley",
          "NL/NL Central/MIL/Avisail Garcia",
          "AL/AL East/TOR/Bo Bichette",
          "AL/AL East/BOS/Bobby Dalbec",
          "NL/NL East/PHI/Brad Miller",
          "AL/AL Central/CLE/Bradley Zimmer",
          "NL/NL West/SFG/Brandon Belt",
          "NL/NL West/SFG/Brandon Crawford",
          "AL/AL East/TBR/Brandon Lowe",
          "NL/NL East/NYM/Brandon Nimmo",
          "NL/NL West/COL/Brendan Rodgers",
          "AL/AL East/NYY/Brett Gardner",
          "NL/NL Central/PIT/Bryan Reynolds",
          "NL/NL East/PHI/Bryce Harper",
          "NL/NL West/SFG/Buster Posey",
          "NL/NL West/COL/C.J. Cron",
          "AL/ AL West/HOU/Carlos Correa",
          "AL/AL Central/KCR/Carlos Santana",
          "NL/NL West/ARI/Carson Kelly",
          "AL/AL East/BAL/Cedric Mullins",
          "NL/NL West/COL/Charlie Blackmon",
          "NL/NL West/LAD/Chris Taylor",
          "AL/AL East/BOS/Christian Vazquez",
          "NL/NL West/ARI/Christian Walker",
          "NL/NL Central/MIL/Christian Yelich",
          "NL/NL West/LAD/Cody Bellinger",
          "NL/NL Central/PIT/Colin Moran",
          "NL/NL West/LAD/Corey Seager",
          "AL/AL East/NYY/DJ LeMahieu",
          "NL/NL East/ATL/Dansby Swanson",
          "AL/ AL West/LAA/David Fletcher",
          "NL/NL West/ARI/David Peralta",
          "NL/NL East/PHI/Didi Gregorius",
          "NL/NL East/NYM/Dominic Smith",
          "NL/NL West/SFG/Donovan Solano",
          "NL/NL Central/STL/Dylan Carlson",
          "AL/ AL West/SEA/Dylan Moore",
          "NL/NL West/COL/Elias Diaz",
          "AL/ AL West/OAK/Elvis Andrus",
          "AL/AL East/BOS/Enrique Hernandez",
          "AL/AL Central/DET/Eric Haase",
          "NL/NL West/SDP/Eric Hosmer",
          "NL/NL Central/CIN/Eugenio Suarez",
          "NL/NL West/SDP/Fernando Tatis Jr.",
          "NL/NL East/NYM/Francisco Lindor",
          "AL/AL Central/CLE/Franmil Reyes",
          "NL/NL East/ATL/Freddie Freeman",
          "NL/NL West/COL/Garrett Hampson",
          "AL/AL East/NYY/Gary Sanchez",
          "NL/NL West/LAD/Gavin Lux",
          "AL/AL East/TOR/George Springer",
          "AL/AL East/NYY/Giancarlo Stanton",
          "AL/AL East/NYY/Gio Urshela",
          "AL/AL East/NYY/Gleyber Torres",
          "NL/NL Central/PIT/Gregory Polanco",
          "NL/NL East/ATL/Guillermo Heredia",
          "AL/AL Central/CLE/Harold Ramirez",
          "NL/NL Central/STL/Harrison Bader",
          "AL/AL Central/KCR/Hunter Dozier",
          "AL/AL East/BOS/Hunter Renfroe",
          "NL/NL Central/CHC/Ian Happ",
          "AL/ AL West/TEX/Isiah Kiner-Falefa",
          "AL/AL East/BOS/J.D. Martinez",
          "AL/ AL West/SEA/J.P. Crawford",
          "NL/NL East/PHI/J.T. Realmuto",
          "NL/NL Central/MIL/Jackie Bradley Jr.",
          "NL/NL Central/PIT/Jacob Stallings",
          "NL/NL West/SDP/Jake Cronenworth",
          "NL/NL East/NYM/James McCann",
          "AL/ AL West/LAA/Jared Walsh",
          "AL/ AL West/SEA/Jarred Kelenic",
          "NL/NL Central/CHC/Jason Heyward",
          "NL/NL East/MIA/Jazz Chisholm Jr.",
          "NL/NL East/PHI/Jean Segura",
          "AL/ AL West/OAK/Jed Lowrie",
          "NL/NL East/NYM/Jeff McNeil",
          "AL/AL Central/DET/Jeimer Candelario",
          "NL/NL Central/CIN/Jesse Winker",
          "NL/NL East/MIA/Jesus Aguilar",
          "NL/NL Central/CIN/Joey Votto",
          "AL/AL East/TBR/Joey Wendle",
          "NL/NL Central/CIN/Jonathan India",
          "AL/AL Central/DET/Jonathan Schoop",
          "NL/NL East/NYM/Jonathan Villar",
          "AL/AL Central/MIN/Jorge Polanco",
          "AL/AL Central/CHW/Jose Abreu",
          "AL/ AL West/HOU/Jose Altuve",
          "AL/AL Central/CLE/Jose Ramirez",
          "NL/NL East/WSN/Josh Bell",
          "AL/AL Central/MIN/Josh Donaldson",
          "NL/NL West/ARI/Josh Rojas",
          "NL/NL East/WSN/Juan Soto",
          "NL/NL West/SDP/Jurickson Profar",
          "NL/NL West/LAD/Justin Turner",
          "AL/ AL West/LAA/Justin Upton",
          "NL/NL Central/PIT/Ke'Bryan Hayes",
          "NL/NL West/ARI/Ketel Marte",
          "AL/AL East/TBR/Kevin Kiermaier",
          "NL/NL Central/PIT/Kevin Newman",
          "NL/NL East/NYM/Kevin Pillar",
          "NL/NL Central/MIL/Kolten Wong",
          "NL/NL Central/CIN/Kyle Farmer",
          "AL/ AL West/SEA/Kyle Seager",
          "AL/ AL West/HOU/Kyle Tucker",
          "NL/NL West/SFG/LaMonte Wade Jr.",
          "AL/AL Central/CHW/Leury Garcia",
          "AL/AL East/TOR/Lourdes Gurriel Jr.",
          "AL/AL Central/MIN/Luis Arraez",
          "AL/ AL West/SEA/Luis Torrens",
          "NL/NL Central/MIL/Luis Urias",
          "AL/AL East/BAL/Maikel Franco",
          "NL/NL West/SDP/Manny Machado",
          "AL/AL East/TBR/Manuel Margot",
          "AL/AL East/TOR/Marcus Semien",
          "AL/ AL West/OAK/Mark Canha",
          "AL/ AL West/HOU/Martin Maldonado",
          "AL/ AL West/OAK/Matt Chapman",
          "AL/ AL West/OAK/Matt Olson",
          "AL/AL Central/MIN/Max Kepler",
          "NL/NL West/LAD/Max Muncy",
          "AL/AL Central/KCR/Michael A. Taylor",
          "AL/ AL West/HOU/Michael Brantley",
          "NL/NL East/NYM/Michael Conforto",
          "AL/AL Central/DET/Miguel Cabrera",
          "NL/NL East/MIA/Miguel Rojas",
          "AL/AL Central/MIN/Miguel Sano",
          "NL/NL West/SFG/Mike Yastrzemski",
          "AL/AL East/TBR/Mike Zunino",
          "AL/ AL West/SEA/Mitch Haniger",
          "NL/NL West/LAD/Mookie Betts",
          "AL/ AL West/TEX/Nathaniel Lowe",
          "NL/NL West/ARI/Nick Ahmed",
          "NL/NL Central/CIN/Nick Castellanos",
          "AL/ AL West/TEX/Nick Solak",
          "AL/AL Central/KCR/Nicky Lopez",
          "NL/NL Central/STL/Nolan Arenado",
          "NL/NL East/PHI/Odubel Herrera",
          "NL/NL Central/MIL/Omar Narvaez",
          "NL/NL East/ATL/Ozzie Albies",
          "NL/NL Central/CHC/Patrick Wisdom",
          "NL/NL Central/STL/Paul DeJong",
          "NL/NL Central/STL/Paul Goldschmidt",
          "NL/NL West/ARI/Pavin Smith",
          "AL/AL East/BAL/Pedro Severino",
          "NL/NL East/NYM/Pete Alonso",
          "AL/ AL West/LAA/Phil Gosselin",
          "AL/AL East/BOS/Rafael Devers",
          "NL/NL West/COL/Raimel Tapia",
          "AL/ AL West/OAK/Ramon Laureano",
          "AL/AL East/TOR/Randal Grichuk",
          "AL/AL East/TBR/Randy Arozarena",
          "NL/NL East/PHI/Rhys Hoskins",
          "AL/AL Central/DET/Robbie Grossman",
          "NL/NL East/ATL/Ronald Acuna Jr.",
          "NL/NL East/PHI/Ronald Torreyes",
          "AL/AL East/NYY/Rougned Odor",
          "NL/NL West/COL/Ryan McMahon",
          "AL/AL East/BAL/Ryan Mountcastle",
          "AL/AL Central/KCR/Salvador Perez",
          "AL/ AL West/OAK/Sean Murphy",
          "AL/ AL West/LAA/Shohei Ohtani",
          "NL/NL East/WSN/Starlin Castro",
          "AL/AL East/TOR/Teoscar Hernandez",
          "AL/AL Central/CHW/Tim Anderson",
          "NL/NL Central/STL/Tommy Edman",
          "NL/NL West/SDP/Tommy Pham",
          "AL/ AL West/OAK/Tony Kemp",
          "NL/NL West/SDP/Trent Grisham",
          "NL/NL West/COL/Trevor Story",
          "AL/AL East/BAL/Trey Mancini",
          "NL/NL Central/CIN/Tucker Barnhart",
          "AL/ AL West/SEA/Ty France",
          "NL/NL Central/CIN/Tyler Naquin",
          "NL/NL Central/STL/Tyler O'Neill",
          "NL/NL Central/CIN/Tyler Stephenson",
          "NL/NL West/SDP/Victor Caratini",
          "NL/NL East/WSN/Victor Robles",
          "AL/AL East/TOR/Vladimir Guerrero Jr.",
          "AL/AL Central/KCR/Whit Merrifield",
          "NL/NL West/SDP/Wil Myers",
          "NL/NL West/LAD/Will Smith",
          "AL/AL Central/DET/Willi Castro",
          "NL/NL Central/CHC/Willson Contreras",
          "NL/NL West/SFG/Wilmer Flores",
          "AL/AL East/BOS/Xander Bogaerts",
          "NL/NL Central/STL/Yadier Molina",
          "AL/AL East/TBR/Yandy Diaz",
          "AL/AL Central/CHW/Yasmani Grandal",
          "AL/AL Central/CHW/Yoan Moncada",
          "AL/ AL West/HOU/Yordan Alvarez",
          "AL/ AL West/HOU/Yuli Gurriel",
          "NL/NL West/ARI",
          "NL/NL East/ATL",
          "AL/AL East/BAL",
          "AL/AL East/BOS",
          "NL/NL Central/CHC",
          "AL/AL Central/CHW",
          "NL/NL Central/CIN",
          "AL/AL Central/CLE",
          "NL/NL West/COL",
          "AL/AL Central/DET",
          "AL/ AL West/HOU",
          "AL/AL Central/KCR",
          "AL/ AL West/LAA",
          "NL/NL West/LAD",
          "NL/NL East/MIA",
          "NL/NL Central/MIL",
          "AL/AL Central/MIN",
          "NL/NL East/NYM",
          "AL/AL East/NYY",
          "AL/ AL West/OAK",
          "NL/NL East/PHI",
          "NL/NL Central/PIT",
          "NL/NL West/SDP",
          "AL/ AL West/SEA",
          "NL/NL West/SFG",
          "NL/NL Central/STL",
          "AL/AL East/TBR",
          "AL/ AL West/TEX",
          "AL/AL East/TOR",
          "NL/NL East/WSN",
          "AL/ AL West",
          "AL/AL Central",
          "AL/AL East",
          "NL/NL Central",
          "NL/NL East",
          "NL/NL West",
          "AL",
          "NL"
         ],
         "labels": [
          "AJ Pollock",
          "Aaron Judge",
          "Adolis Garcia",
          "Akil Baddoo",
          "Alcides Escobar",
          "Alec Bohm",
          "Alex Bregman",
          "Alex Verdugo",
          "Amed Rosario",
          "Andrelton Simmons",
          "Andrew Benintendi",
          "Andrew McCutchen",
          "Andrew Vaughn",
          "Anthony Santander",
          "Austin Hays",
          "Austin Meadows",
          "Austin Riley",
          "Avisail Garcia",
          "Bo Bichette",
          "Bobby Dalbec",
          "Brad Miller",
          "Bradley Zimmer",
          "Brandon Belt",
          "Brandon Crawford",
          "Brandon Lowe",
          "Brandon Nimmo",
          "Brendan Rodgers",
          "Brett Gardner",
          "Bryan Reynolds",
          "Bryce Harper",
          "Buster Posey",
          "C.J. Cron",
          "Carlos Correa",
          "Carlos Santana",
          "Carson Kelly",
          "Cedric Mullins",
          "Charlie Blackmon",
          "Chris Taylor",
          "Christian Vazquez",
          "Christian Walker",
          "Christian Yelich",
          "Cody Bellinger",
          "Colin Moran",
          "Corey Seager",
          "DJ LeMahieu",
          "Dansby Swanson",
          "David Fletcher",
          "David Peralta",
          "Didi Gregorius",
          "Dominic Smith",
          "Donovan Solano",
          "Dylan Carlson",
          "Dylan Moore",
          "Elias Diaz",
          "Elvis Andrus",
          "Enrique Hernandez",
          "Eric Haase",
          "Eric Hosmer",
          "Eugenio Suarez",
          "Fernando Tatis Jr.",
          "Francisco Lindor",
          "Franmil Reyes",
          "Freddie Freeman",
          "Garrett Hampson",
          "Gary Sanchez",
          "Gavin Lux",
          "George Springer",
          "Giancarlo Stanton",
          "Gio Urshela",
          "Gleyber Torres",
          "Gregory Polanco",
          "Guillermo Heredia",
          "Harold Ramirez",
          "Harrison Bader",
          "Hunter Dozier",
          "Hunter Renfroe",
          "Ian Happ",
          "Isiah Kiner-Falefa",
          "J.D. Martinez",
          "J.P. Crawford",
          "J.T. Realmuto",
          "Jackie Bradley Jr.",
          "Jacob Stallings",
          "Jake Cronenworth",
          "James McCann",
          "Jared Walsh",
          "Jarred Kelenic",
          "Jason Heyward",
          "Jazz Chisholm Jr.",
          "Jean Segura",
          "Jed Lowrie",
          "Jeff McNeil",
          "Jeimer Candelario",
          "Jesse Winker",
          "Jesus Aguilar",
          "Joey Votto",
          "Joey Wendle",
          "Jonathan India",
          "Jonathan Schoop",
          "Jonathan Villar",
          "Jorge Polanco",
          "Jose Abreu",
          "Jose Altuve",
          "Jose Ramirez",
          "Josh Bell",
          "Josh Donaldson",
          "Josh Rojas",
          "Juan Soto",
          "Jurickson Profar",
          "Justin Turner",
          "Justin Upton",
          "Ke'Bryan Hayes",
          "Ketel Marte",
          "Kevin Kiermaier",
          "Kevin Newman",
          "Kevin Pillar",
          "Kolten Wong",
          "Kyle Farmer",
          "Kyle Seager",
          "Kyle Tucker",
          "LaMonte Wade Jr.",
          "Leury Garcia",
          "Lourdes Gurriel Jr.",
          "Luis Arraez",
          "Luis Torrens",
          "Luis Urias",
          "Maikel Franco",
          "Manny Machado",
          "Manuel Margot",
          "Marcus Semien",
          "Mark Canha",
          "Martin Maldonado",
          "Matt Chapman",
          "Matt Olson",
          "Max Kepler",
          "Max Muncy",
          "Michael A. Taylor",
          "Michael Brantley",
          "Michael Conforto",
          "Miguel Cabrera",
          "Miguel Rojas",
          "Miguel Sano",
          "Mike Yastrzemski",
          "Mike Zunino",
          "Mitch Haniger",
          "Mookie Betts",
          "Nathaniel Lowe",
          "Nick Ahmed",
          "Nick Castellanos",
          "Nick Solak",
          "Nicky Lopez",
          "Nolan Arenado",
          "Odubel Herrera",
          "Omar Narvaez",
          "Ozzie Albies",
          "Patrick Wisdom",
          "Paul DeJong",
          "Paul Goldschmidt",
          "Pavin Smith",
          "Pedro Severino",
          "Pete Alonso",
          "Phil Gosselin",
          "Rafael Devers",
          "Raimel Tapia",
          "Ramon Laureano",
          "Randal Grichuk",
          "Randy Arozarena",
          "Rhys Hoskins",
          "Robbie Grossman",
          "Ronald Acuna Jr.",
          "Ronald Torreyes",
          "Rougned Odor",
          "Ryan McMahon",
          "Ryan Mountcastle",
          "Salvador Perez",
          "Sean Murphy",
          "Shohei Ohtani",
          "Starlin Castro",
          "Teoscar Hernandez",
          "Tim Anderson",
          "Tommy Edman",
          "Tommy Pham",
          "Tony Kemp",
          "Trent Grisham",
          "Trevor Story",
          "Trey Mancini",
          "Tucker Barnhart",
          "Ty France",
          "Tyler Naquin",
          "Tyler O'Neill",
          "Tyler Stephenson",
          "Victor Caratini",
          "Victor Robles",
          "Vladimir Guerrero Jr.",
          "Whit Merrifield",
          "Wil Myers",
          "Will Smith",
          "Willi Castro",
          "Willson Contreras",
          "Wilmer Flores",
          "Xander Bogaerts",
          "Yadier Molina",
          "Yandy Diaz",
          "Yasmani Grandal",
          "Yoan Moncada",
          "Yordan Alvarez",
          "Yuli Gurriel",
          "ARI",
          "ATL",
          "BAL",
          "BOS",
          "CHC",
          "CHW",
          "CIN",
          "CLE",
          "COL",
          "DET",
          "HOU",
          "KCR",
          "LAA",
          "LAD",
          "MIA",
          "MIL",
          "MIN",
          "NYM",
          "NYY",
          "OAK",
          "PHI",
          "PIT",
          "SDP",
          "SEA",
          "SFG",
          "STL",
          "TBR",
          "TEX",
          "TOR",
          "WSN",
          " AL West",
          "AL Central",
          "AL East",
          "NL Central",
          "NL East",
          "NL West",
          "AL",
          "NL"
         ],
         "maxdepth": 2,
         "name": "",
         "parents": [
          "NL/NL West/LAD",
          "AL/AL East/NYY",
          "AL/ AL West/TEX",
          "AL/AL Central/DET",
          "NL/NL East/WSN",
          "NL/NL East/PHI",
          "AL/ AL West/HOU",
          "AL/AL East/BOS",
          "AL/AL Central/CLE",
          "AL/AL Central/MIN",
          "AL/AL Central/KCR",
          "NL/NL East/PHI",
          "AL/AL Central/CHW",
          "AL/AL East/BAL",
          "AL/AL East/BAL",
          "AL/AL East/TBR",
          "NL/NL East/ATL",
          "NL/NL Central/MIL",
          "AL/AL East/TOR",
          "AL/AL East/BOS",
          "NL/NL East/PHI",
          "AL/AL Central/CLE",
          "NL/NL West/SFG",
          "NL/NL West/SFG",
          "AL/AL East/TBR",
          "NL/NL East/NYM",
          "NL/NL West/COL",
          "AL/AL East/NYY",
          "NL/NL Central/PIT",
          "NL/NL East/PHI",
          "NL/NL West/SFG",
          "NL/NL West/COL",
          "AL/ AL West/HOU",
          "AL/AL Central/KCR",
          "NL/NL West/ARI",
          "AL/AL East/BAL",
          "NL/NL West/COL",
          "NL/NL West/LAD",
          "AL/AL East/BOS",
          "NL/NL West/ARI",
          "NL/NL Central/MIL",
          "NL/NL West/LAD",
          "NL/NL Central/PIT",
          "NL/NL West/LAD",
          "AL/AL East/NYY",
          "NL/NL East/ATL",
          "AL/ AL West/LAA",
          "NL/NL West/ARI",
          "NL/NL East/PHI",
          "NL/NL East/NYM",
          "NL/NL West/SFG",
          "NL/NL Central/STL",
          "AL/ AL West/SEA",
          "NL/NL West/COL",
          "AL/ AL West/OAK",
          "AL/AL East/BOS",
          "AL/AL Central/DET",
          "NL/NL West/SDP",
          "NL/NL Central/CIN",
          "NL/NL West/SDP",
          "NL/NL East/NYM",
          "AL/AL Central/CLE",
          "NL/NL East/ATL",
          "NL/NL West/COL",
          "AL/AL East/NYY",
          "NL/NL West/LAD",
          "AL/AL East/TOR",
          "AL/AL East/NYY",
          "AL/AL East/NYY",
          "AL/AL East/NYY",
          "NL/NL Central/PIT",
          "NL/NL East/ATL",
          "AL/AL Central/CLE",
          "NL/NL Central/STL",
          "AL/AL Central/KCR",
          "AL/AL East/BOS",
          "NL/NL Central/CHC",
          "AL/ AL West/TEX",
          "AL/AL East/BOS",
          "AL/ AL West/SEA",
          "NL/NL East/PHI",
          "NL/NL Central/MIL",
          "NL/NL Central/PIT",
          "NL/NL West/SDP",
          "NL/NL East/NYM",
          "AL/ AL West/LAA",
          "AL/ AL West/SEA",
          "NL/NL Central/CHC",
          "NL/NL East/MIA",
          "NL/NL East/PHI",
          "AL/ AL West/OAK",
          "NL/NL East/NYM",
          "AL/AL Central/DET",
          "NL/NL Central/CIN",
          "NL/NL East/MIA",
          "NL/NL Central/CIN",
          "AL/AL East/TBR",
          "NL/NL Central/CIN",
          "AL/AL Central/DET",
          "NL/NL East/NYM",
          "AL/AL Central/MIN",
          "AL/AL Central/CHW",
          "AL/ AL West/HOU",
          "AL/AL Central/CLE",
          "NL/NL East/WSN",
          "AL/AL Central/MIN",
          "NL/NL West/ARI",
          "NL/NL East/WSN",
          "NL/NL West/SDP",
          "NL/NL West/LAD",
          "AL/ AL West/LAA",
          "NL/NL Central/PIT",
          "NL/NL West/ARI",
          "AL/AL East/TBR",
          "NL/NL Central/PIT",
          "NL/NL East/NYM",
          "NL/NL Central/MIL",
          "NL/NL Central/CIN",
          "AL/ AL West/SEA",
          "AL/ AL West/HOU",
          "NL/NL West/SFG",
          "AL/AL Central/CHW",
          "AL/AL East/TOR",
          "AL/AL Central/MIN",
          "AL/ AL West/SEA",
          "NL/NL Central/MIL",
          "AL/AL East/BAL",
          "NL/NL West/SDP",
          "AL/AL East/TBR",
          "AL/AL East/TOR",
          "AL/ AL West/OAK",
          "AL/ AL West/HOU",
          "AL/ AL West/OAK",
          "AL/ AL West/OAK",
          "AL/AL Central/MIN",
          "NL/NL West/LAD",
          "AL/AL Central/KCR",
          "AL/ AL West/HOU",
          "NL/NL East/NYM",
          "AL/AL Central/DET",
          "NL/NL East/MIA",
          "AL/AL Central/MIN",
          "NL/NL West/SFG",
          "AL/AL East/TBR",
          "AL/ AL West/SEA",
          "NL/NL West/LAD",
          "AL/ AL West/TEX",
          "NL/NL West/ARI",
          "NL/NL Central/CIN",
          "AL/ AL West/TEX",
          "AL/AL Central/KCR",
          "NL/NL Central/STL",
          "NL/NL East/PHI",
          "NL/NL Central/MIL",
          "NL/NL East/ATL",
          "NL/NL Central/CHC",
          "NL/NL Central/STL",
          "NL/NL Central/STL",
          "NL/NL West/ARI",
          "AL/AL East/BAL",
          "NL/NL East/NYM",
          "AL/ AL West/LAA",
          "AL/AL East/BOS",
          "NL/NL West/COL",
          "AL/ AL West/OAK",
          "AL/AL East/TOR",
          "AL/AL East/TBR",
          "NL/NL East/PHI",
          "AL/AL Central/DET",
          "NL/NL East/ATL",
          "NL/NL East/PHI",
          "AL/AL East/NYY",
          "NL/NL West/COL",
          "AL/AL East/BAL",
          "AL/AL Central/KCR",
          "AL/ AL West/OAK",
          "AL/ AL West/LAA",
          "NL/NL East/WSN",
          "AL/AL East/TOR",
          "AL/AL Central/CHW",
          "NL/NL Central/STL",
          "NL/NL West/SDP",
          "AL/ AL West/OAK",
          "NL/NL West/SDP",
          "NL/NL West/COL",
          "AL/AL East/BAL",
          "NL/NL Central/CIN",
          "AL/ AL West/SEA",
          "NL/NL Central/CIN",
          "NL/NL Central/STL",
          "NL/NL Central/CIN",
          "NL/NL West/SDP",
          "NL/NL East/WSN",
          "AL/AL East/TOR",
          "AL/AL Central/KCR",
          "NL/NL West/SDP",
          "NL/NL West/LAD",
          "AL/AL Central/DET",
          "NL/NL Central/CHC",
          "NL/NL West/SFG",
          "AL/AL East/BOS",
          "NL/NL Central/STL",
          "AL/AL East/TBR",
          "AL/AL Central/CHW",
          "AL/AL Central/CHW",
          "AL/ AL West/HOU",
          "AL/ AL West/HOU",
          "NL/NL West",
          "NL/NL East",
          "AL/AL East",
          "AL/AL East",
          "NL/NL Central",
          "AL/AL Central",
          "NL/NL Central",
          "AL/AL Central",
          "NL/NL West",
          "AL/AL Central",
          "AL/ AL West",
          "AL/AL Central",
          "AL/ AL West",
          "NL/NL West",
          "NL/NL East",
          "NL/NL Central",
          "AL/AL Central",
          "NL/NL East",
          "AL/AL East",
          "AL/ AL West",
          "NL/NL East",
          "NL/NL Central",
          "NL/NL West",
          "AL/ AL West",
          "NL/NL West",
          "NL/NL Central",
          "AL/AL East",
          "AL/ AL West",
          "AL/AL East",
          "NL/NL East",
          "AL",
          "AL",
          "AL",
          "NL",
          "NL",
          "NL",
          "",
          ""
         ],
         "textinfo": "label+value",
         "type": "sunburst",
         "values": [
          63,
          41,
          97,
          29,
          13,
          17,
          29,
          5,
          13,
          99,
          41,
          17,
          5,
          5,
          41,
          0,
          9,
          22,
          5,
          3,
          9,
          95,
          74,
          99,
          5,
          86,
          13,
          41,
          96,
          9,
          0,
          29,
          98,
          63,
          0,
          96,
          3,
          17,
          0,
          86,
          74,
          74,
          0,
          5,
          63,
          82,
          95,
          74,
          0,
          1,
          41,
          9,
          97,
          0,
          92,
          94,
          0,
          41,
          1,
          63,
          100,
          0,
          86,
          95,
          0,
          13,
          0,
          0,
          13,
          1,
          22,
          89,
          13,
          98,
          0,
          17,
          5,
          4,
          0,
          41,
          0,
          86,
          0,
          63,
          0,
          9,
          22,
          74,
          13,
          95,
          22,
          89,
          29,
          5,
          74,
          41,
          95,
          4,
          89,
          22,
          13,
          29,
          89,
          94,
          74,
          63,
          5,
          86,
          4,
          41,
          0,
          98,
          5,
          97,
          82,
          29,
          63,
          89,
          86,
          89,
          41,
          22,
          5,
          9,
          0,
          1,
          22,
          74,
          99,
          89,
          74,
          0,
          99,
          63,
          95,
          89,
          99,
          17,
          63,
          0,
          13,
          4,
          92,
          0,
          4,
          22,
          17,
          100,
          5,
          86,
          100,
          96,
          92,
          0,
          41,
          82,
          89,
          92,
          13,
          0,
          74,
          9,
          0,
          82,
          22,
          41,
          63,
          22,
          22,
          0,
          86,
          96,
          97,
          1,
          0,
          0,
          0,
          63,
          41,
          82,
          98,
          9,
          74,
          92,
          5,
          41,
          0,
          17,
          5,
          82,
          0,
          0,
          63,
          17,
          92,
          63,
          0,
          41,
          0,
          41,
          1,
          0,
          29,
          0,
          22,
          0,
          29,
          283,
          307,
          206,
          120,
          161,
          160,
          150,
          215,
          324,
          210,
          351,
          395,
          113,
          324,
          100,
          246,
          283,
          464,
          255,
          446,
          347,
          298,
          409,
          267,
          388,
          564,
          388,
          204,
          198,
          299,
          1381,
          1263,
          1167,
          1419,
          1517,
          1728,
          3811,
          4664
         ]
        }
       ],
       "layout": {
        "legend": {
         "tracegroupgap": 0
        },
        "template": {
         "data": {
          "bar": [
           {
            "error_x": {
             "color": "rgb(36,36,36)"
            },
            "error_y": {
             "color": "rgb(36,36,36)"
            },
            "marker": {
             "line": {
              "color": "rgb(234,234,242)",
              "width": 0.5
             },
             "pattern": {
              "fillmode": "overlay",
              "size": 10,
              "solidity": 0.2
             }
            },
            "type": "bar"
           }
          ],
          "barpolar": [
           {
            "marker": {
             "line": {
              "color": "rgb(234,234,242)",
              "width": 0.5
             },
             "pattern": {
              "fillmode": "overlay",
              "size": 10,
              "solidity": 0.2
             }
            },
            "type": "barpolar"
           }
          ],
          "carpet": [
           {
            "aaxis": {
             "endlinecolor": "rgb(36,36,36)",
             "gridcolor": "white",
             "linecolor": "white",
             "minorgridcolor": "white",
             "startlinecolor": "rgb(36,36,36)"
            },
            "baxis": {
             "endlinecolor": "rgb(36,36,36)",
             "gridcolor": "white",
             "linecolor": "white",
             "minorgridcolor": "white",
             "startlinecolor": "rgb(36,36,36)"
            },
            "type": "carpet"
           }
          ],
          "choropleth": [
           {
            "colorbar": {
             "outlinewidth": 0,
             "tickcolor": "rgb(36,36,36)",
             "ticklen": 8,
             "ticks": "outside",
             "tickwidth": 2
            },
            "type": "choropleth"
           }
          ],
          "contour": [
           {
            "colorbar": {
             "outlinewidth": 0,
             "tickcolor": "rgb(36,36,36)",
             "ticklen": 8,
             "ticks": "outside",
             "tickwidth": 2
            },
            "colorscale": [
             [
              0,
              "rgb(2,4,25)"
             ],
             [
              0.06274509803921569,
              "rgb(24,15,41)"
             ],
             [
              0.12549019607843137,
              "rgb(47,23,57)"
             ],
             [
              0.18823529411764706,
              "rgb(71,28,72)"
             ],
             [
              0.25098039215686274,
              "rgb(97,30,82)"
             ],
             [
              0.3137254901960784,
              "rgb(123,30,89)"
             ],
             [
              0.3764705882352941,
              "rgb(150,27,91)"
             ],
             [
              0.4392156862745098,
              "rgb(177,22,88)"
             ],
             [
              0.5019607843137255,
              "rgb(203,26,79)"
             ],
             [
              0.5647058823529412,
              "rgb(223,47,67)"
             ],
             [
              0.6274509803921569,
              "rgb(236,76,61)"
             ],
             [
              0.6901960784313725,
              "rgb(242,107,73)"
             ],
             [
              0.7529411764705882,
              "rgb(244,135,95)"
             ],
             [
              0.8156862745098039,
              "rgb(245,162,122)"
             ],
             [
              0.8784313725490196,
              "rgb(246,188,153)"
             ],
             [
              0.9411764705882353,
              "rgb(247,212,187)"
             ],
             [
              1,
              "rgb(250,234,220)"
             ]
            ],
            "type": "contour"
           }
          ],
          "contourcarpet": [
           {
            "colorbar": {
             "outlinewidth": 0,
             "tickcolor": "rgb(36,36,36)",
             "ticklen": 8,
             "ticks": "outside",
             "tickwidth": 2
            },
            "type": "contourcarpet"
           }
          ],
          "heatmap": [
           {
            "colorbar": {
             "outlinewidth": 0,
             "tickcolor": "rgb(36,36,36)",
             "ticklen": 8,
             "ticks": "outside",
             "tickwidth": 2
            },
            "colorscale": [
             [
              0,
              "rgb(2,4,25)"
             ],
             [
              0.06274509803921569,
              "rgb(24,15,41)"
             ],
             [
              0.12549019607843137,
              "rgb(47,23,57)"
             ],
             [
              0.18823529411764706,
              "rgb(71,28,72)"
             ],
             [
              0.25098039215686274,
              "rgb(97,30,82)"
             ],
             [
              0.3137254901960784,
              "rgb(123,30,89)"
             ],
             [
              0.3764705882352941,
              "rgb(150,27,91)"
             ],
             [
              0.4392156862745098,
              "rgb(177,22,88)"
             ],
             [
              0.5019607843137255,
              "rgb(203,26,79)"
             ],
             [
              0.5647058823529412,
              "rgb(223,47,67)"
             ],
             [
              0.6274509803921569,
              "rgb(236,76,61)"
             ],
             [
              0.6901960784313725,
              "rgb(242,107,73)"
             ],
             [
              0.7529411764705882,
              "rgb(244,135,95)"
             ],
             [
              0.8156862745098039,
              "rgb(245,162,122)"
             ],
             [
              0.8784313725490196,
              "rgb(246,188,153)"
             ],
             [
              0.9411764705882353,
              "rgb(247,212,187)"
             ],
             [
              1,
              "rgb(250,234,220)"
             ]
            ],
            "type": "heatmap"
           }
          ],
          "heatmapgl": [
           {
            "colorbar": {
             "outlinewidth": 0,
             "tickcolor": "rgb(36,36,36)",
             "ticklen": 8,
             "ticks": "outside",
             "tickwidth": 2
            },
            "colorscale": [
             [
              0,
              "rgb(2,4,25)"
             ],
             [
              0.06274509803921569,
              "rgb(24,15,41)"
             ],
             [
              0.12549019607843137,
              "rgb(47,23,57)"
             ],
             [
              0.18823529411764706,
              "rgb(71,28,72)"
             ],
             [
              0.25098039215686274,
              "rgb(97,30,82)"
             ],
             [
              0.3137254901960784,
              "rgb(123,30,89)"
             ],
             [
              0.3764705882352941,
              "rgb(150,27,91)"
             ],
             [
              0.4392156862745098,
              "rgb(177,22,88)"
             ],
             [
              0.5019607843137255,
              "rgb(203,26,79)"
             ],
             [
              0.5647058823529412,
              "rgb(223,47,67)"
             ],
             [
              0.6274509803921569,
              "rgb(236,76,61)"
             ],
             [
              0.6901960784313725,
              "rgb(242,107,73)"
             ],
             [
              0.7529411764705882,
              "rgb(244,135,95)"
             ],
             [
              0.8156862745098039,
              "rgb(245,162,122)"
             ],
             [
              0.8784313725490196,
              "rgb(246,188,153)"
             ],
             [
              0.9411764705882353,
              "rgb(247,212,187)"
             ],
             [
              1,
              "rgb(250,234,220)"
             ]
            ],
            "type": "heatmapgl"
           }
          ],
          "histogram": [
           {
            "marker": {
             "pattern": {
              "fillmode": "overlay",
              "size": 10,
              "solidity": 0.2
             }
            },
            "type": "histogram"
           }
          ],
          "histogram2d": [
           {
            "colorbar": {
             "outlinewidth": 0,
             "tickcolor": "rgb(36,36,36)",
             "ticklen": 8,
             "ticks": "outside",
             "tickwidth": 2
            },
            "colorscale": [
             [
              0,
              "rgb(2,4,25)"
             ],
             [
              0.06274509803921569,
              "rgb(24,15,41)"
             ],
             [
              0.12549019607843137,
              "rgb(47,23,57)"
             ],
             [
              0.18823529411764706,
              "rgb(71,28,72)"
             ],
             [
              0.25098039215686274,
              "rgb(97,30,82)"
             ],
             [
              0.3137254901960784,
              "rgb(123,30,89)"
             ],
             [
              0.3764705882352941,
              "rgb(150,27,91)"
             ],
             [
              0.4392156862745098,
              "rgb(177,22,88)"
             ],
             [
              0.5019607843137255,
              "rgb(203,26,79)"
             ],
             [
              0.5647058823529412,
              "rgb(223,47,67)"
             ],
             [
              0.6274509803921569,
              "rgb(236,76,61)"
             ],
             [
              0.6901960784313725,
              "rgb(242,107,73)"
             ],
             [
              0.7529411764705882,
              "rgb(244,135,95)"
             ],
             [
              0.8156862745098039,
              "rgb(245,162,122)"
             ],
             [
              0.8784313725490196,
              "rgb(246,188,153)"
             ],
             [
              0.9411764705882353,
              "rgb(247,212,187)"
             ],
             [
              1,
              "rgb(250,234,220)"
             ]
            ],
            "type": "histogram2d"
           }
          ],
          "histogram2dcontour": [
           {
            "colorbar": {
             "outlinewidth": 0,
             "tickcolor": "rgb(36,36,36)",
             "ticklen": 8,
             "ticks": "outside",
             "tickwidth": 2
            },
            "colorscale": [
             [
              0,
              "rgb(2,4,25)"
             ],
             [
              0.06274509803921569,
              "rgb(24,15,41)"
             ],
             [
              0.12549019607843137,
              "rgb(47,23,57)"
             ],
             [
              0.18823529411764706,
              "rgb(71,28,72)"
             ],
             [
              0.25098039215686274,
              "rgb(97,30,82)"
             ],
             [
              0.3137254901960784,
              "rgb(123,30,89)"
             ],
             [
              0.3764705882352941,
              "rgb(150,27,91)"
             ],
             [
              0.4392156862745098,
              "rgb(177,22,88)"
             ],
             [
              0.5019607843137255,
              "rgb(203,26,79)"
             ],
             [
              0.5647058823529412,
              "rgb(223,47,67)"
             ],
             [
              0.6274509803921569,
              "rgb(236,76,61)"
             ],
             [
              0.6901960784313725,
              "rgb(242,107,73)"
             ],
             [
              0.7529411764705882,
              "rgb(244,135,95)"
             ],
             [
              0.8156862745098039,
              "rgb(245,162,122)"
             ],
             [
              0.8784313725490196,
              "rgb(246,188,153)"
             ],
             [
              0.9411764705882353,
              "rgb(247,212,187)"
             ],
             [
              1,
              "rgb(250,234,220)"
             ]
            ],
            "type": "histogram2dcontour"
           }
          ],
          "mesh3d": [
           {
            "colorbar": {
             "outlinewidth": 0,
             "tickcolor": "rgb(36,36,36)",
             "ticklen": 8,
             "ticks": "outside",
             "tickwidth": 2
            },
            "type": "mesh3d"
           }
          ],
          "parcoords": [
           {
            "line": {
             "colorbar": {
              "outlinewidth": 0,
              "tickcolor": "rgb(36,36,36)",
              "ticklen": 8,
              "ticks": "outside",
              "tickwidth": 2
             }
            },
            "type": "parcoords"
           }
          ],
          "pie": [
           {
            "automargin": true,
            "type": "pie"
           }
          ],
          "scatter": [
           {
            "marker": {
             "colorbar": {
              "outlinewidth": 0,
              "tickcolor": "rgb(36,36,36)",
              "ticklen": 8,
              "ticks": "outside",
              "tickwidth": 2
             }
            },
            "type": "scatter"
           }
          ],
          "scatter3d": [
           {
            "line": {
             "colorbar": {
              "outlinewidth": 0,
              "tickcolor": "rgb(36,36,36)",
              "ticklen": 8,
              "ticks": "outside",
              "tickwidth": 2
             }
            },
            "marker": {
             "colorbar": {
              "outlinewidth": 0,
              "tickcolor": "rgb(36,36,36)",
              "ticklen": 8,
              "ticks": "outside",
              "tickwidth": 2
             }
            },
            "type": "scatter3d"
           }
          ],
          "scattercarpet": [
           {
            "marker": {
             "colorbar": {
              "outlinewidth": 0,
              "tickcolor": "rgb(36,36,36)",
              "ticklen": 8,
              "ticks": "outside",
              "tickwidth": 2
             }
            },
            "type": "scattercarpet"
           }
          ],
          "scattergeo": [
           {
            "marker": {
             "colorbar": {
              "outlinewidth": 0,
              "tickcolor": "rgb(36,36,36)",
              "ticklen": 8,
              "ticks": "outside",
              "tickwidth": 2
             }
            },
            "type": "scattergeo"
           }
          ],
          "scattergl": [
           {
            "marker": {
             "colorbar": {
              "outlinewidth": 0,
              "tickcolor": "rgb(36,36,36)",
              "ticklen": 8,
              "ticks": "outside",
              "tickwidth": 2
             }
            },
            "type": "scattergl"
           }
          ],
          "scattermapbox": [
           {
            "marker": {
             "colorbar": {
              "outlinewidth": 0,
              "tickcolor": "rgb(36,36,36)",
              "ticklen": 8,
              "ticks": "outside",
              "tickwidth": 2
             }
            },
            "type": "scattermapbox"
           }
          ],
          "scatterpolar": [
           {
            "marker": {
             "colorbar": {
              "outlinewidth": 0,
              "tickcolor": "rgb(36,36,36)",
              "ticklen": 8,
              "ticks": "outside",
              "tickwidth": 2
             }
            },
            "type": "scatterpolar"
           }
          ],
          "scatterpolargl": [
           {
            "marker": {
             "colorbar": {
              "outlinewidth": 0,
              "tickcolor": "rgb(36,36,36)",
              "ticklen": 8,
              "ticks": "outside",
              "tickwidth": 2
             }
            },
            "type": "scatterpolargl"
           }
          ],
          "scatterternary": [
           {
            "marker": {
             "colorbar": {
              "outlinewidth": 0,
              "tickcolor": "rgb(36,36,36)",
              "ticklen": 8,
              "ticks": "outside",
              "tickwidth": 2
             }
            },
            "type": "scatterternary"
           }
          ],
          "surface": [
           {
            "colorbar": {
             "outlinewidth": 0,
             "tickcolor": "rgb(36,36,36)",
             "ticklen": 8,
             "ticks": "outside",
             "tickwidth": 2
            },
            "colorscale": [
             [
              0,
              "rgb(2,4,25)"
             ],
             [
              0.06274509803921569,
              "rgb(24,15,41)"
             ],
             [
              0.12549019607843137,
              "rgb(47,23,57)"
             ],
             [
              0.18823529411764706,
              "rgb(71,28,72)"
             ],
             [
              0.25098039215686274,
              "rgb(97,30,82)"
             ],
             [
              0.3137254901960784,
              "rgb(123,30,89)"
             ],
             [
              0.3764705882352941,
              "rgb(150,27,91)"
             ],
             [
              0.4392156862745098,
              "rgb(177,22,88)"
             ],
             [
              0.5019607843137255,
              "rgb(203,26,79)"
             ],
             [
              0.5647058823529412,
              "rgb(223,47,67)"
             ],
             [
              0.6274509803921569,
              "rgb(236,76,61)"
             ],
             [
              0.6901960784313725,
              "rgb(242,107,73)"
             ],
             [
              0.7529411764705882,
              "rgb(244,135,95)"
             ],
             [
              0.8156862745098039,
              "rgb(245,162,122)"
             ],
             [
              0.8784313725490196,
              "rgb(246,188,153)"
             ],
             [
              0.9411764705882353,
              "rgb(247,212,187)"
             ],
             [
              1,
              "rgb(250,234,220)"
             ]
            ],
            "type": "surface"
           }
          ],
          "table": [
           {
            "cells": {
             "fill": {
              "color": "rgb(231,231,240)"
             },
             "line": {
              "color": "white"
             }
            },
            "header": {
             "fill": {
              "color": "rgb(183,183,191)"
             },
             "line": {
              "color": "white"
             }
            },
            "type": "table"
           }
          ]
         },
         "layout": {
          "annotationdefaults": {
           "arrowcolor": "rgb(67,103,167)"
          },
          "autotypenumbers": "strict",
          "coloraxis": {
           "colorbar": {
            "outlinewidth": 0,
            "tickcolor": "rgb(36,36,36)",
            "ticklen": 8,
            "ticks": "outside",
            "tickwidth": 2
           }
          },
          "colorscale": {
           "sequential": [
            [
             0,
             "rgb(2,4,25)"
            ],
            [
             0.06274509803921569,
             "rgb(24,15,41)"
            ],
            [
             0.12549019607843137,
             "rgb(47,23,57)"
            ],
            [
             0.18823529411764706,
             "rgb(71,28,72)"
            ],
            [
             0.25098039215686274,
             "rgb(97,30,82)"
            ],
            [
             0.3137254901960784,
             "rgb(123,30,89)"
            ],
            [
             0.3764705882352941,
             "rgb(150,27,91)"
            ],
            [
             0.4392156862745098,
             "rgb(177,22,88)"
            ],
            [
             0.5019607843137255,
             "rgb(203,26,79)"
            ],
            [
             0.5647058823529412,
             "rgb(223,47,67)"
            ],
            [
             0.6274509803921569,
             "rgb(236,76,61)"
            ],
            [
             0.6901960784313725,
             "rgb(242,107,73)"
            ],
            [
             0.7529411764705882,
             "rgb(244,135,95)"
            ],
            [
             0.8156862745098039,
             "rgb(245,162,122)"
            ],
            [
             0.8784313725490196,
             "rgb(246,188,153)"
            ],
            [
             0.9411764705882353,
             "rgb(247,212,187)"
            ],
            [
             1,
             "rgb(250,234,220)"
            ]
           ],
           "sequentialminus": [
            [
             0,
             "rgb(2,4,25)"
            ],
            [
             0.06274509803921569,
             "rgb(24,15,41)"
            ],
            [
             0.12549019607843137,
             "rgb(47,23,57)"
            ],
            [
             0.18823529411764706,
             "rgb(71,28,72)"
            ],
            [
             0.25098039215686274,
             "rgb(97,30,82)"
            ],
            [
             0.3137254901960784,
             "rgb(123,30,89)"
            ],
            [
             0.3764705882352941,
             "rgb(150,27,91)"
            ],
            [
             0.4392156862745098,
             "rgb(177,22,88)"
            ],
            [
             0.5019607843137255,
             "rgb(203,26,79)"
            ],
            [
             0.5647058823529412,
             "rgb(223,47,67)"
            ],
            [
             0.6274509803921569,
             "rgb(236,76,61)"
            ],
            [
             0.6901960784313725,
             "rgb(242,107,73)"
            ],
            [
             0.7529411764705882,
             "rgb(244,135,95)"
            ],
            [
             0.8156862745098039,
             "rgb(245,162,122)"
            ],
            [
             0.8784313725490196,
             "rgb(246,188,153)"
            ],
            [
             0.9411764705882353,
             "rgb(247,212,187)"
            ],
            [
             1,
             "rgb(250,234,220)"
            ]
           ]
          },
          "colorway": [
           "rgb(76,114,176)",
           "rgb(221,132,82)",
           "rgb(85,168,104)",
           "rgb(196,78,82)",
           "rgb(129,114,179)",
           "rgb(147,120,96)",
           "rgb(218,139,195)",
           "rgb(140,140,140)",
           "rgb(204,185,116)",
           "rgb(100,181,205)"
          ],
          "font": {
           "color": "rgb(36,36,36)"
          },
          "geo": {
           "bgcolor": "white",
           "lakecolor": "white",
           "landcolor": "rgb(234,234,242)",
           "showlakes": true,
           "showland": true,
           "subunitcolor": "white"
          },
          "hoverlabel": {
           "align": "left"
          },
          "hovermode": "closest",
          "paper_bgcolor": "white",
          "plot_bgcolor": "rgb(234,234,242)",
          "polar": {
           "angularaxis": {
            "gridcolor": "white",
            "linecolor": "white",
            "showgrid": true,
            "ticks": ""
           },
           "bgcolor": "rgb(234,234,242)",
           "radialaxis": {
            "gridcolor": "white",
            "linecolor": "white",
            "showgrid": true,
            "ticks": ""
           }
          },
          "scene": {
           "xaxis": {
            "backgroundcolor": "rgb(234,234,242)",
            "gridcolor": "white",
            "gridwidth": 2,
            "linecolor": "white",
            "showbackground": true,
            "showgrid": true,
            "ticks": "",
            "zerolinecolor": "white"
           },
           "yaxis": {
            "backgroundcolor": "rgb(234,234,242)",
            "gridcolor": "white",
            "gridwidth": 2,
            "linecolor": "white",
            "showbackground": true,
            "showgrid": true,
            "ticks": "",
            "zerolinecolor": "white"
           },
           "zaxis": {
            "backgroundcolor": "rgb(234,234,242)",
            "gridcolor": "white",
            "gridwidth": 2,
            "linecolor": "white",
            "showbackground": true,
            "showgrid": true,
            "ticks": "",
            "zerolinecolor": "white"
           }
          },
          "shapedefaults": {
           "fillcolor": "rgb(67,103,167)",
           "line": {
            "width": 0
           },
           "opacity": 0.5
          },
          "ternary": {
           "aaxis": {
            "gridcolor": "white",
            "linecolor": "white",
            "showgrid": true,
            "ticks": ""
           },
           "baxis": {
            "gridcolor": "white",
            "linecolor": "white",
            "showgrid": true,
            "ticks": ""
           },
           "bgcolor": "rgb(234,234,242)",
           "caxis": {
            "gridcolor": "white",
            "linecolor": "white",
            "showgrid": true,
            "ticks": ""
           }
          },
          "xaxis": {
           "automargin": true,
           "gridcolor": "white",
           "linecolor": "white",
           "showgrid": true,
           "ticks": "",
           "title": {
            "standoff": 15
           },
           "zerolinecolor": "white"
          },
          "yaxis": {
           "automargin": true,
           "gridcolor": "white",
           "linecolor": "white",
           "showgrid": true,
           "ticks": "",
           "title": {
            "standoff": 15
           },
           "zerolinecolor": "white"
          }
         }
        },
        "title": {
         "text": "OAA percentile for each League, Division, Team and Player"
        }
       }
      }
     },
     "metadata": {},
     "output_type": "display_data"
    }
   ],
   "source": [
    "fig = px.sunburst(\n",
    "    data_frame=one_team,\n",
    "    path=[\"League\", \"Division\", \"Team\", \"Name\"],\n",
    "    values=\"OAA_percentile\",\n",
    "    maxdepth=2,\n",
    "    hover_name=\"League\",\n",
    "    hover_data={\"Team\":False, \"OAA\":True},\n",
    "    template=\"seaborn\",\n",
    "    title=\"OAA percentile for each League, Division, Team and Player\"\n",
    ")\n",
    "fig.update_traces(textinfo='label+value')"
   ]
  },
  {
   "cell_type": "markdown",
   "metadata": {},
   "source": [
    "#### Looking at these plots it's a good way of seeing the differences in the Leagues where AL is more offence focused whereas NL has a higher proportion of spped good defenders"
   ]
  },
  {
   "cell_type": "markdown",
   "metadata": {},
   "source": [
    "#### To make these graphs a bit fairer we want to look at the same amount of players for each team\n",
    "#### First we need to find the minimum number of players a team has and limit the rest of the teams to that number and sort players by WAR"
   ]
  },
  {
   "cell_type": "code",
   "execution_count": 118,
   "metadata": {},
   "outputs": [],
   "source": [
    "unique_names = savant_df['Team'].unique()\n",
    "dict = {}\n",
    "for i in range(0, len(unique_names)):\n",
    "    count = savant_df['Name'][savant_df[\"Team\"] == unique_names[i]].nunique()\n",
    "    dict[unique_names[i]] = count"
   ]
  },
  {
   "cell_type": "code",
   "execution_count": 119,
   "metadata": {},
   "outputs": [
    {
     "data": {
      "text/plain": [
       "{'- - -': 25,\n",
       " 'TOR': 7,\n",
       " 'WSN': 5,\n",
       " 'PHI': 10,\n",
       " 'CLE': 5,\n",
       " 'SDP': 9,\n",
       " 'HOU': 8,\n",
       " 'NYY': 8,\n",
       " 'PIT': 6,\n",
       " 'SFG': 7,\n",
       " 'STL': 8,\n",
       " 'BAL': 7,\n",
       " 'TBR': 8,\n",
       " 'BOS': 8,\n",
       " 'LAA': 5,\n",
       " 'OAK': 8,\n",
       " 'LAD': 9,\n",
       " 'ATL': 6,\n",
       " 'CHW': 6,\n",
       " 'KCR': 7,\n",
       " 'CIN': 9,\n",
       " 'MIN': 6,\n",
       " 'SEA': 7,\n",
       " 'NYM': 9,\n",
       " 'COL': 8,\n",
       " 'DET': 7,\n",
       " 'ARI': 7,\n",
       " 'MIL': 6,\n",
       " 'TEX': 4,\n",
       " 'MIA': 3,\n",
       " 'CHC': 4}"
      ]
     },
     "execution_count": 119,
     "metadata": {},
     "output_type": "execute_result"
    }
   ],
   "source": [
    "dict"
   ]
  },
  {
   "cell_type": "markdown",
   "metadata": {},
   "source": [
    "### Turns out the minimum is 3 so not really worth doing since the sample size will be too small"
   ]
  }
 ],
 "metadata": {
  "interpreter": {
   "hash": "e6b428eeda3673c7e49e56af820d0902d8cb06ad67f7949d7ea2ec9ed66f2e23"
  },
  "kernelspec": {
   "display_name": "Python 3.9.7 64-bit ('baseball_analytics_env': conda)",
   "language": "python",
   "name": "python3"
  },
  "language_info": {
   "codemirror_mode": {
    "name": "ipython",
    "version": 3
   },
   "file_extension": ".py",
   "mimetype": "text/x-python",
   "name": "python",
   "nbconvert_exporter": "python",
   "pygments_lexer": "ipython3",
   "version": "3.9.7"
  },
  "orig_nbformat": 4
 },
 "nbformat": 4,
 "nbformat_minor": 2
}
