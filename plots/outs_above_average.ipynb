{
 "cells": [
  {
   "cell_type": "code",
   "execution_count": 238,
   "metadata": {},
   "outputs": [],
   "source": [
    "import pybaseball as pb\n",
    "from pybaseball import statcast_fielding\n",
    "import pandas as pd\n",
    "import plotly.express as px\n",
    "import plotly.io as pio\n",
    "import numpy as np\n",
    "from PIL import Image"
   ]
  },
  {
   "cell_type": "markdown",
   "metadata": {},
   "source": [
    "### Looking at the statcast fielding data - mainly Outs Above Average OAA"
   ]
  },
  {
   "cell_type": "code",
   "execution_count": 239,
   "metadata": {},
   "outputs": [
    {
     "data": {
      "text/html": [
       "<div>\n",
       "<style scoped>\n",
       "    .dataframe tbody tr th:only-of-type {\n",
       "        vertical-align: middle;\n",
       "    }\n",
       "\n",
       "    .dataframe tbody tr th {\n",
       "        vertical-align: top;\n",
       "    }\n",
       "\n",
       "    .dataframe thead th {\n",
       "        text-align: right;\n",
       "    }\n",
       "</style>\n",
       "<table border=\"1\" class=\"dataframe\">\n",
       "  <thead>\n",
       "    <tr style=\"text-align: right;\">\n",
       "      <th></th>\n",
       "      <th>last_name</th>\n",
       "      <th>first_name</th>\n",
       "      <th>player_id</th>\n",
       "      <th>display_team_name</th>\n",
       "      <th>year</th>\n",
       "      <th>primary_pos_formatted</th>\n",
       "      <th>fielding_runs_prevented</th>\n",
       "      <th>outs_above_average</th>\n",
       "      <th>outs_above_average_infront</th>\n",
       "      <th>outs_above_average_lateral_toward3bline</th>\n",
       "      <th>outs_above_average_lateral_toward1bline</th>\n",
       "      <th>outs_above_average_behind</th>\n",
       "      <th>outs_above_average_rhh</th>\n",
       "      <th>outs_above_average_lhh</th>\n",
       "      <th>actual_success_rate_formatted</th>\n",
       "      <th>adj_estimated_success_rate_formatted</th>\n",
       "      <th>diff_success_rate_formatted</th>\n",
       "    </tr>\n",
       "  </thead>\n",
       "  <tbody>\n",
       "    <tr>\n",
       "      <th>0</th>\n",
       "      <td>Abreu</td>\n",
       "      <td>José</td>\n",
       "      <td>547989</td>\n",
       "      <td>White Sox</td>\n",
       "      <td>NaN</td>\n",
       "      <td>1B</td>\n",
       "      <td>0</td>\n",
       "      <td>0</td>\n",
       "      <td>1</td>\n",
       "      <td>-2</td>\n",
       "      <td>0</td>\n",
       "      <td>1</td>\n",
       "      <td>2</td>\n",
       "      <td>-2</td>\n",
       "      <td>73%</td>\n",
       "      <td>73%</td>\n",
       "      <td>0%</td>\n",
       "    </tr>\n",
       "    <tr>\n",
       "      <th>1</th>\n",
       "      <td>Acuña Jr.</td>\n",
       "      <td>Ronald</td>\n",
       "      <td>660670</td>\n",
       "      <td>Braves</td>\n",
       "      <td>NaN</td>\n",
       "      <td>CF</td>\n",
       "      <td>0</td>\n",
       "      <td>0</td>\n",
       "      <td>1</td>\n",
       "      <td>0</td>\n",
       "      <td>-2</td>\n",
       "      <td>2</td>\n",
       "      <td>1</td>\n",
       "      <td>-1</td>\n",
       "      <td>89%</td>\n",
       "      <td>88%</td>\n",
       "      <td>1%</td>\n",
       "    </tr>\n",
       "    <tr>\n",
       "      <th>2</th>\n",
       "      <td>Adames</td>\n",
       "      <td>Willy</td>\n",
       "      <td>642715</td>\n",
       "      <td>---</td>\n",
       "      <td>NaN</td>\n",
       "      <td>SS</td>\n",
       "      <td>-6</td>\n",
       "      <td>-9</td>\n",
       "      <td>-1</td>\n",
       "      <td>1</td>\n",
       "      <td>-7</td>\n",
       "      <td>0</td>\n",
       "      <td>-3</td>\n",
       "      <td>-6</td>\n",
       "      <td>75%</td>\n",
       "      <td>76%</td>\n",
       "      <td>-1%</td>\n",
       "    </tr>\n",
       "    <tr>\n",
       "      <th>3</th>\n",
       "      <td>Adell</td>\n",
       "      <td>Jo</td>\n",
       "      <td>666176</td>\n",
       "      <td>Angels</td>\n",
       "      <td>NaN</td>\n",
       "      <td>RF</td>\n",
       "      <td>-1</td>\n",
       "      <td>-1</td>\n",
       "      <td>-1</td>\n",
       "      <td>1</td>\n",
       "      <td>-1</td>\n",
       "      <td>0</td>\n",
       "      <td>0</td>\n",
       "      <td>-1</td>\n",
       "      <td>83%</td>\n",
       "      <td>84%</td>\n",
       "      <td>-1%</td>\n",
       "    </tr>\n",
       "    <tr>\n",
       "      <th>4</th>\n",
       "      <td>Adrianza</td>\n",
       "      <td>Ehire</td>\n",
       "      <td>501303</td>\n",
       "      <td>Braves</td>\n",
       "      <td>NaN</td>\n",
       "      <td>SS</td>\n",
       "      <td>1</td>\n",
       "      <td>2</td>\n",
       "      <td>1</td>\n",
       "      <td>1</td>\n",
       "      <td>-1</td>\n",
       "      <td>0</td>\n",
       "      <td>0</td>\n",
       "      <td>2</td>\n",
       "      <td>75%</td>\n",
       "      <td>74%</td>\n",
       "      <td>1%</td>\n",
       "    </tr>\n",
       "    <tr>\n",
       "      <th>...</th>\n",
       "      <td>...</td>\n",
       "      <td>...</td>\n",
       "      <td>...</td>\n",
       "      <td>...</td>\n",
       "      <td>...</td>\n",
       "      <td>...</td>\n",
       "      <td>...</td>\n",
       "      <td>...</td>\n",
       "      <td>...</td>\n",
       "      <td>...</td>\n",
       "      <td>...</td>\n",
       "      <td>...</td>\n",
       "      <td>...</td>\n",
       "      <td>...</td>\n",
       "      <td>...</td>\n",
       "      <td>...</td>\n",
       "      <td>...</td>\n",
       "    </tr>\n",
       "    <tr>\n",
       "      <th>402</th>\n",
       "      <td>Yastrzemski</td>\n",
       "      <td>Mike</td>\n",
       "      <td>573262</td>\n",
       "      <td>Giants</td>\n",
       "      <td>NaN</td>\n",
       "      <td>RF</td>\n",
       "      <td>6</td>\n",
       "      <td>6</td>\n",
       "      <td>2</td>\n",
       "      <td>3</td>\n",
       "      <td>2</td>\n",
       "      <td>-1</td>\n",
       "      <td>5</td>\n",
       "      <td>2</td>\n",
       "      <td>92%</td>\n",
       "      <td>90%</td>\n",
       "      <td>2%</td>\n",
       "    </tr>\n",
       "    <tr>\n",
       "      <th>403</th>\n",
       "      <td>Yelich</td>\n",
       "      <td>Christian</td>\n",
       "      <td>592885</td>\n",
       "      <td>Brewers</td>\n",
       "      <td>NaN</td>\n",
       "      <td>LF</td>\n",
       "      <td>2</td>\n",
       "      <td>2</td>\n",
       "      <td>0</td>\n",
       "      <td>0</td>\n",
       "      <td>1</td>\n",
       "      <td>1</td>\n",
       "      <td>1</td>\n",
       "      <td>1</td>\n",
       "      <td>91%</td>\n",
       "      <td>90%</td>\n",
       "      <td>1%</td>\n",
       "    </tr>\n",
       "    <tr>\n",
       "      <th>404</th>\n",
       "      <td>Young</td>\n",
       "      <td>Andrew</td>\n",
       "      <td>670370</td>\n",
       "      <td>D-backs</td>\n",
       "      <td>NaN</td>\n",
       "      <td>2B</td>\n",
       "      <td>-7</td>\n",
       "      <td>-9</td>\n",
       "      <td>-2</td>\n",
       "      <td>-2</td>\n",
       "      <td>-3</td>\n",
       "      <td>-2</td>\n",
       "      <td>-6</td>\n",
       "      <td>-3</td>\n",
       "      <td>57%</td>\n",
       "      <td>70%</td>\n",
       "      <td>-13%</td>\n",
       "    </tr>\n",
       "    <tr>\n",
       "      <th>405</th>\n",
       "      <td>Zimmer</td>\n",
       "      <td>Bradley</td>\n",
       "      <td>605548</td>\n",
       "      <td>Indians</td>\n",
       "      <td>NaN</td>\n",
       "      <td>CF</td>\n",
       "      <td>7</td>\n",
       "      <td>8</td>\n",
       "      <td>1</td>\n",
       "      <td>2</td>\n",
       "      <td>3</td>\n",
       "      <td>1</td>\n",
       "      <td>6</td>\n",
       "      <td>2</td>\n",
       "      <td>93%</td>\n",
       "      <td>90%</td>\n",
       "      <td>3%</td>\n",
       "    </tr>\n",
       "    <tr>\n",
       "      <th>406</th>\n",
       "      <td>Zimmerman</td>\n",
       "      <td>Ryan</td>\n",
       "      <td>475582</td>\n",
       "      <td>Nationals</td>\n",
       "      <td>NaN</td>\n",
       "      <td>1B</td>\n",
       "      <td>0</td>\n",
       "      <td>-1</td>\n",
       "      <td>1</td>\n",
       "      <td>-1</td>\n",
       "      <td>-1</td>\n",
       "      <td>0</td>\n",
       "      <td>0</td>\n",
       "      <td>0</td>\n",
       "      <td>66%</td>\n",
       "      <td>66%</td>\n",
       "      <td>0%</td>\n",
       "    </tr>\n",
       "  </tbody>\n",
       "</table>\n",
       "<p>407 rows × 17 columns</p>\n",
       "</div>"
      ],
      "text/plain": [
       "       last_name  first_name  player_id display_team_name  year  \\\n",
       "0          Abreu        José     547989         White Sox   NaN   \n",
       "1      Acuña Jr.      Ronald     660670            Braves   NaN   \n",
       "2         Adames       Willy     642715               ---   NaN   \n",
       "3          Adell          Jo     666176            Angels   NaN   \n",
       "4       Adrianza       Ehire     501303            Braves   NaN   \n",
       "..           ...         ...        ...               ...   ...   \n",
       "402  Yastrzemski        Mike     573262            Giants   NaN   \n",
       "403       Yelich   Christian     592885           Brewers   NaN   \n",
       "404        Young      Andrew     670370           D-backs   NaN   \n",
       "405       Zimmer     Bradley     605548           Indians   NaN   \n",
       "406    Zimmerman        Ryan     475582         Nationals   NaN   \n",
       "\n",
       "    primary_pos_formatted  fielding_runs_prevented  outs_above_average  \\\n",
       "0                      1B                        0                   0   \n",
       "1                      CF                        0                   0   \n",
       "2                      SS                       -6                  -9   \n",
       "3                      RF                       -1                  -1   \n",
       "4                      SS                        1                   2   \n",
       "..                    ...                      ...                 ...   \n",
       "402                    RF                        6                   6   \n",
       "403                    LF                        2                   2   \n",
       "404                    2B                       -7                  -9   \n",
       "405                    CF                        7                   8   \n",
       "406                    1B                        0                  -1   \n",
       "\n",
       "     outs_above_average_infront  outs_above_average_lateral_toward3bline  \\\n",
       "0                             1                                       -2   \n",
       "1                             1                                        0   \n",
       "2                            -1                                        1   \n",
       "3                            -1                                        1   \n",
       "4                             1                                        1   \n",
       "..                          ...                                      ...   \n",
       "402                           2                                        3   \n",
       "403                           0                                        0   \n",
       "404                          -2                                       -2   \n",
       "405                           1                                        2   \n",
       "406                           1                                       -1   \n",
       "\n",
       "     outs_above_average_lateral_toward1bline  outs_above_average_behind  \\\n",
       "0                                          0                          1   \n",
       "1                                         -2                          2   \n",
       "2                                         -7                          0   \n",
       "3                                         -1                          0   \n",
       "4                                         -1                          0   \n",
       "..                                       ...                        ...   \n",
       "402                                        2                         -1   \n",
       "403                                        1                          1   \n",
       "404                                       -3                         -2   \n",
       "405                                        3                          1   \n",
       "406                                       -1                          0   \n",
       "\n",
       "     outs_above_average_rhh  outs_above_average_lhh  \\\n",
       "0                         2                      -2   \n",
       "1                         1                      -1   \n",
       "2                        -3                      -6   \n",
       "3                         0                      -1   \n",
       "4                         0                       2   \n",
       "..                      ...                     ...   \n",
       "402                       5                       2   \n",
       "403                       1                       1   \n",
       "404                      -6                      -3   \n",
       "405                       6                       2   \n",
       "406                       0                       0   \n",
       "\n",
       "    actual_success_rate_formatted adj_estimated_success_rate_formatted  \\\n",
       "0                             73%                                  73%   \n",
       "1                             89%                                  88%   \n",
       "2                             75%                                  76%   \n",
       "3                             83%                                  84%   \n",
       "4                             75%                                  74%   \n",
       "..                            ...                                  ...   \n",
       "402                           92%                                  90%   \n",
       "403                           91%                                  90%   \n",
       "404                           57%                                  70%   \n",
       "405                           93%                                  90%   \n",
       "406                           66%                                  66%   \n",
       "\n",
       "    diff_success_rate_formatted  \n",
       "0                            0%  \n",
       "1                            1%  \n",
       "2                           -1%  \n",
       "3                           -1%  \n",
       "4                            1%  \n",
       "..                          ...  \n",
       "402                          2%  \n",
       "403                          1%  \n",
       "404                        -13%  \n",
       "405                          3%  \n",
       "406                          0%  \n",
       "\n",
       "[407 rows x 17 columns]"
      ]
     },
     "execution_count": 239,
     "metadata": {},
     "output_type": "execute_result"
    }
   ],
   "source": [
    "df = statcast_fielding.statcast_outs_above_average(2021, \"all\", 50)\n",
    "df"
   ]
  },
  {
   "cell_type": "code",
   "execution_count": 240,
   "metadata": {},
   "outputs": [],
   "source": [
    "df.rename(columns={\" first_name\": \"first_name\"},inplace=True)\n",
    "df[\"Name\"] = df[\"first_name\"] + ' ' + df[\"last_name\"]"
   ]
  },
  {
   "cell_type": "code",
   "execution_count": 241,
   "metadata": {},
   "outputs": [
    {
     "data": {
      "text/html": [
       "<div>\n",
       "<style scoped>\n",
       "    .dataframe tbody tr th:only-of-type {\n",
       "        vertical-align: middle;\n",
       "    }\n",
       "\n",
       "    .dataframe tbody tr th {\n",
       "        vertical-align: top;\n",
       "    }\n",
       "\n",
       "    .dataframe thead th {\n",
       "        text-align: right;\n",
       "    }\n",
       "</style>\n",
       "<table border=\"1\" class=\"dataframe\">\n",
       "  <thead>\n",
       "    <tr style=\"text-align: right;\">\n",
       "      <th></th>\n",
       "      <th>player_id</th>\n",
       "      <th>Name</th>\n",
       "      <th>display_team_name</th>\n",
       "      <th>primary_pos_formatted</th>\n",
       "      <th>outs_above_average</th>\n",
       "    </tr>\n",
       "  </thead>\n",
       "  <tbody>\n",
       "    <tr>\n",
       "      <th>0</th>\n",
       "      <td>547989</td>\n",
       "      <td>José Abreu</td>\n",
       "      <td>White Sox</td>\n",
       "      <td>1B</td>\n",
       "      <td>0</td>\n",
       "    </tr>\n",
       "    <tr>\n",
       "      <th>1</th>\n",
       "      <td>660670</td>\n",
       "      <td>Ronald Acuña Jr.</td>\n",
       "      <td>Braves</td>\n",
       "      <td>CF</td>\n",
       "      <td>0</td>\n",
       "    </tr>\n",
       "    <tr>\n",
       "      <th>2</th>\n",
       "      <td>642715</td>\n",
       "      <td>Willy Adames</td>\n",
       "      <td>---</td>\n",
       "      <td>SS</td>\n",
       "      <td>-9</td>\n",
       "    </tr>\n",
       "    <tr>\n",
       "      <th>3</th>\n",
       "      <td>666176</td>\n",
       "      <td>Jo Adell</td>\n",
       "      <td>Angels</td>\n",
       "      <td>RF</td>\n",
       "      <td>-1</td>\n",
       "    </tr>\n",
       "    <tr>\n",
       "      <th>4</th>\n",
       "      <td>501303</td>\n",
       "      <td>Ehire Adrianza</td>\n",
       "      <td>Braves</td>\n",
       "      <td>SS</td>\n",
       "      <td>2</td>\n",
       "    </tr>\n",
       "    <tr>\n",
       "      <th>...</th>\n",
       "      <td>...</td>\n",
       "      <td>...</td>\n",
       "      <td>...</td>\n",
       "      <td>...</td>\n",
       "      <td>...</td>\n",
       "    </tr>\n",
       "    <tr>\n",
       "      <th>402</th>\n",
       "      <td>573262</td>\n",
       "      <td>Mike Yastrzemski</td>\n",
       "      <td>Giants</td>\n",
       "      <td>RF</td>\n",
       "      <td>6</td>\n",
       "    </tr>\n",
       "    <tr>\n",
       "      <th>403</th>\n",
       "      <td>592885</td>\n",
       "      <td>Christian Yelich</td>\n",
       "      <td>Brewers</td>\n",
       "      <td>LF</td>\n",
       "      <td>2</td>\n",
       "    </tr>\n",
       "    <tr>\n",
       "      <th>404</th>\n",
       "      <td>670370</td>\n",
       "      <td>Andrew Young</td>\n",
       "      <td>D-backs</td>\n",
       "      <td>2B</td>\n",
       "      <td>-9</td>\n",
       "    </tr>\n",
       "    <tr>\n",
       "      <th>405</th>\n",
       "      <td>605548</td>\n",
       "      <td>Bradley Zimmer</td>\n",
       "      <td>Indians</td>\n",
       "      <td>CF</td>\n",
       "      <td>8</td>\n",
       "    </tr>\n",
       "    <tr>\n",
       "      <th>406</th>\n",
       "      <td>475582</td>\n",
       "      <td>Ryan Zimmerman</td>\n",
       "      <td>Nationals</td>\n",
       "      <td>1B</td>\n",
       "      <td>-1</td>\n",
       "    </tr>\n",
       "  </tbody>\n",
       "</table>\n",
       "<p>407 rows × 5 columns</p>\n",
       "</div>"
      ],
      "text/plain": [
       "     player_id               Name display_team_name primary_pos_formatted  \\\n",
       "0       547989         José Abreu         White Sox                    1B   \n",
       "1       660670   Ronald Acuña Jr.            Braves                    CF   \n",
       "2       642715       Willy Adames               ---                    SS   \n",
       "3       666176           Jo Adell            Angels                    RF   \n",
       "4       501303     Ehire Adrianza            Braves                    SS   \n",
       "..         ...                ...               ...                   ...   \n",
       "402     573262   Mike Yastrzemski            Giants                    RF   \n",
       "403     592885   Christian Yelich           Brewers                    LF   \n",
       "404     670370       Andrew Young           D-backs                    2B   \n",
       "405     605548     Bradley Zimmer           Indians                    CF   \n",
       "406     475582     Ryan Zimmerman         Nationals                    1B   \n",
       "\n",
       "     outs_above_average  \n",
       "0                     0  \n",
       "1                     0  \n",
       "2                    -9  \n",
       "3                    -1  \n",
       "4                     2  \n",
       "..                  ...  \n",
       "402                   6  \n",
       "403                   2  \n",
       "404                  -9  \n",
       "405                   8  \n",
       "406                  -1  \n",
       "\n",
       "[407 rows x 5 columns]"
      ]
     },
     "execution_count": 241,
     "metadata": {},
     "output_type": "execute_result"
    }
   ],
   "source": [
    "oaa = (\n",
    "    df\n",
    "     .pipe(lambda df: df[['player_id', 'Name', 'display_team_name', 'primary_pos_formatted', 'outs_above_average']]) # just getting the columns we need\n",
    ")\n",
    "oaa\n"
   ]
  },
  {
   "cell_type": "code",
   "execution_count": 242,
   "metadata": {},
   "outputs": [
    {
     "name": "stderr",
     "output_type": "stream",
     "text": [
      "/opt/anaconda3/envs/baseball_analytics_env/lib/python3.9/site-packages/pandas/util/_decorators.py:311: SettingWithCopyWarning:\n",
      "\n",
      "\n",
      "A value is trying to be set on a copy of a slice from a DataFrame\n",
      "\n",
      "See the caveats in the documentation: https://pandas.pydata.org/pandas-docs/stable/user_guide/indexing.html#returning-a-view-versus-a-copy\n",
      "\n"
     ]
    },
    {
     "data": {
      "text/html": [
       "<div>\n",
       "<style scoped>\n",
       "    .dataframe tbody tr th:only-of-type {\n",
       "        vertical-align: middle;\n",
       "    }\n",
       "\n",
       "    .dataframe tbody tr th {\n",
       "        vertical-align: top;\n",
       "    }\n",
       "\n",
       "    .dataframe thead th {\n",
       "        text-align: right;\n",
       "    }\n",
       "</style>\n",
       "<table border=\"1\" class=\"dataframe\">\n",
       "  <thead>\n",
       "    <tr style=\"text-align: right;\">\n",
       "      <th></th>\n",
       "      <th>player_id</th>\n",
       "      <th>Name</th>\n",
       "      <th>display_team_name</th>\n",
       "      <th>primary_pos_formatted</th>\n",
       "      <th>outs_above_average</th>\n",
       "    </tr>\n",
       "  </thead>\n",
       "  <tbody>\n",
       "    <tr>\n",
       "      <th>0</th>\n",
       "      <td>670032</td>\n",
       "      <td>Nicky Lopez</td>\n",
       "      <td>Royals</td>\n",
       "      <td>SS</td>\n",
       "      <td>25</td>\n",
       "    </tr>\n",
       "    <tr>\n",
       "      <th>1</th>\n",
       "      <td>596019</td>\n",
       "      <td>Francisco Lindor</td>\n",
       "      <td>Mets</td>\n",
       "      <td>SS</td>\n",
       "      <td>20</td>\n",
       "    </tr>\n",
       "    <tr>\n",
       "      <th>2</th>\n",
       "      <td>605113</td>\n",
       "      <td>Nick Ahmed</td>\n",
       "      <td>D-backs</td>\n",
       "      <td>SS</td>\n",
       "      <td>18</td>\n",
       "    </tr>\n",
       "    <tr>\n",
       "      <th>3</th>\n",
       "      <td>656305</td>\n",
       "      <td>Matt Chapman</td>\n",
       "      <td>Athletics</td>\n",
       "      <td>3B</td>\n",
       "      <td>17</td>\n",
       "    </tr>\n",
       "    <tr>\n",
       "      <th>4</th>\n",
       "      <td>622534</td>\n",
       "      <td>Manuel Margot</td>\n",
       "      <td>Rays</td>\n",
       "      <td>CF</td>\n",
       "      <td>16</td>\n",
       "    </tr>\n",
       "    <tr>\n",
       "      <th>...</th>\n",
       "      <td>...</td>\n",
       "      <td>...</td>\n",
       "      <td>...</td>\n",
       "      <td>...</td>\n",
       "      <td>...</td>\n",
       "    </tr>\n",
       "    <tr>\n",
       "      <th>402</th>\n",
       "      <td>649966</td>\n",
       "      <td>Luis Urías</td>\n",
       "      <td>Brewers</td>\n",
       "      <td>SS</td>\n",
       "      <td>-12</td>\n",
       "    </tr>\n",
       "    <tr>\n",
       "      <th>403</th>\n",
       "      <td>646240</td>\n",
       "      <td>Rafael Devers</td>\n",
       "      <td>Red Sox</td>\n",
       "      <td>3B</td>\n",
       "      <td>-13</td>\n",
       "    </tr>\n",
       "    <tr>\n",
       "      <th>404</th>\n",
       "      <td>641531</td>\n",
       "      <td>Hunter Dozier</td>\n",
       "      <td>Royals</td>\n",
       "      <td>3B</td>\n",
       "      <td>-13</td>\n",
       "    </tr>\n",
       "    <tr>\n",
       "      <th>405</th>\n",
       "      <td>666198</td>\n",
       "      <td>Carter Kieboom</td>\n",
       "      <td>Nationals</td>\n",
       "      <td>3B</td>\n",
       "      <td>-13</td>\n",
       "    </tr>\n",
       "    <tr>\n",
       "      <th>406</th>\n",
       "      <td>544369</td>\n",
       "      <td>Didi Gregorius</td>\n",
       "      <td>Phillies</td>\n",
       "      <td>SS</td>\n",
       "      <td>-18</td>\n",
       "    </tr>\n",
       "  </tbody>\n",
       "</table>\n",
       "<p>407 rows × 5 columns</p>\n",
       "</div>"
      ],
      "text/plain": [
       "     player_id               Name display_team_name primary_pos_formatted  \\\n",
       "0       670032        Nicky Lopez            Royals                    SS   \n",
       "1       596019   Francisco Lindor              Mets                    SS   \n",
       "2       605113         Nick Ahmed           D-backs                    SS   \n",
       "3       656305       Matt Chapman         Athletics                    3B   \n",
       "4       622534      Manuel Margot              Rays                    CF   \n",
       "..         ...                ...               ...                   ...   \n",
       "402     649966         Luis Urías           Brewers                    SS   \n",
       "403     646240      Rafael Devers           Red Sox                    3B   \n",
       "404     641531      Hunter Dozier            Royals                    3B   \n",
       "405     666198     Carter Kieboom         Nationals                    3B   \n",
       "406     544369     Didi Gregorius          Phillies                    SS   \n",
       "\n",
       "     outs_above_average  \n",
       "0                    25  \n",
       "1                    20  \n",
       "2                    18  \n",
       "3                    17  \n",
       "4                    16  \n",
       "..                  ...  \n",
       "402                 -12  \n",
       "403                 -13  \n",
       "404                 -13  \n",
       "405                 -13  \n",
       "406                 -18  \n",
       "\n",
       "[407 rows x 5 columns]"
      ]
     },
     "execution_count": 242,
     "metadata": {},
     "output_type": "execute_result"
    }
   ],
   "source": [
    "oaa.sort_values(by=['outs_above_average'], ascending=False, ignore_index=True, inplace=True)\n",
    "oaa\n"
   ]
  },
  {
   "cell_type": "code",
   "execution_count": 243,
   "metadata": {},
   "outputs": [
    {
     "data": {
      "text/html": [
       "<div>\n",
       "<style scoped>\n",
       "    .dataframe tbody tr th:only-of-type {\n",
       "        vertical-align: middle;\n",
       "    }\n",
       "\n",
       "    .dataframe tbody tr th {\n",
       "        vertical-align: top;\n",
       "    }\n",
       "\n",
       "    .dataframe thead th {\n",
       "        text-align: right;\n",
       "    }\n",
       "</style>\n",
       "<table border=\"1\" class=\"dataframe\">\n",
       "  <thead>\n",
       "    <tr style=\"text-align: right;\">\n",
       "      <th></th>\n",
       "      <th>Unnamed: 0</th>\n",
       "      <th>IDfg</th>\n",
       "      <th>Name</th>\n",
       "      <th>Team</th>\n",
       "      <th>G</th>\n",
       "      <th>PA</th>\n",
       "      <th>OPS</th>\n",
       "      <th>Dol</th>\n",
       "      <th>Spd</th>\n",
       "      <th>Off</th>\n",
       "      <th>WAR</th>\n",
       "      <th>wRC+</th>\n",
       "      <th>Def</th>\n",
       "      <th>BsR</th>\n",
       "    </tr>\n",
       "  </thead>\n",
       "  <tbody>\n",
       "    <tr>\n",
       "      <th>0</th>\n",
       "      <td>17</td>\n",
       "      <td>16252</td>\n",
       "      <td>Trea Turner</td>\n",
       "      <td>- - -</td>\n",
       "      <td>148</td>\n",
       "      <td>646</td>\n",
       "      <td>0.911</td>\n",
       "      <td>$54.9</td>\n",
       "      <td>6.4</td>\n",
       "      <td>39.5</td>\n",
       "      <td>6.9</td>\n",
       "      <td>142</td>\n",
       "      <td>7.6</td>\n",
       "      <td>5.0</td>\n",
       "    </tr>\n",
       "    <tr>\n",
       "      <th>1</th>\n",
       "      <td>2</td>\n",
       "      <td>19611</td>\n",
       "      <td>Vladimir Guerrero Jr.</td>\n",
       "      <td>TOR</td>\n",
       "      <td>161</td>\n",
       "      <td>698</td>\n",
       "      <td>1.002</td>\n",
       "      <td>$53.5</td>\n",
       "      <td>3.1</td>\n",
       "      <td>54.1</td>\n",
       "      <td>6.7</td>\n",
       "      <td>166</td>\n",
       "      <td>-11.1</td>\n",
       "      <td>-2.1</td>\n",
       "    </tr>\n",
       "    <tr>\n",
       "      <th>2</th>\n",
       "      <td>0</td>\n",
       "      <td>11579</td>\n",
       "      <td>Bryce Harper</td>\n",
       "      <td>PHI</td>\n",
       "      <td>141</td>\n",
       "      <td>599</td>\n",
       "      <td>1.044</td>\n",
       "      <td>$53.0</td>\n",
       "      <td>4.3</td>\n",
       "      <td>50.7</td>\n",
       "      <td>6.6</td>\n",
       "      <td>170</td>\n",
       "      <td>-4.4</td>\n",
       "      <td>-2.5</td>\n",
       "    </tr>\n",
       "    <tr>\n",
       "      <th>3</th>\n",
       "      <td>1</td>\n",
       "      <td>20123</td>\n",
       "      <td>Juan Soto</td>\n",
       "      <td>WSN</td>\n",
       "      <td>151</td>\n",
       "      <td>654</td>\n",
       "      <td>0.999</td>\n",
       "      <td>$53.0</td>\n",
       "      <td>3.5</td>\n",
       "      <td>48.8</td>\n",
       "      <td>6.6</td>\n",
       "      <td>163</td>\n",
       "      <td>-4.3</td>\n",
       "      <td>-3.3</td>\n",
       "    </tr>\n",
       "    <tr>\n",
       "      <th>4</th>\n",
       "      <td>42</td>\n",
       "      <td>12533</td>\n",
       "      <td>Marcus Semien</td>\n",
       "      <td>TOR</td>\n",
       "      <td>162</td>\n",
       "      <td>724</td>\n",
       "      <td>0.873</td>\n",
       "      <td>$53.0</td>\n",
       "      <td>5.3</td>\n",
       "      <td>31.5</td>\n",
       "      <td>6.6</td>\n",
       "      <td>131</td>\n",
       "      <td>10.0</td>\n",
       "      <td>4.0</td>\n",
       "    </tr>\n",
       "    <tr>\n",
       "      <th>...</th>\n",
       "      <td>...</td>\n",
       "      <td>...</td>\n",
       "      <td>...</td>\n",
       "      <td>...</td>\n",
       "      <td>...</td>\n",
       "      <td>...</td>\n",
       "      <td>...</td>\n",
       "      <td>...</td>\n",
       "      <td>...</td>\n",
       "      <td>...</td>\n",
       "      <td>...</td>\n",
       "      <td>...</td>\n",
       "      <td>...</td>\n",
       "      <td>...</td>\n",
       "    </tr>\n",
       "    <tr>\n",
       "      <th>357</th>\n",
       "      <td>360</td>\n",
       "      <td>12977</td>\n",
       "      <td>Michael Perez</td>\n",
       "      <td>PIT</td>\n",
       "      <td>70</td>\n",
       "      <td>231</td>\n",
       "      <td>0.511</td>\n",
       "      <td>($6.9)</td>\n",
       "      <td>2.8</td>\n",
       "      <td>-18.7</td>\n",
       "      <td>-0.9</td>\n",
       "      <td>38</td>\n",
       "      <td>2.5</td>\n",
       "      <td>-0.5</td>\n",
       "    </tr>\n",
       "    <tr>\n",
       "      <th>358</th>\n",
       "      <td>356</td>\n",
       "      <td>14885</td>\n",
       "      <td>Pat Valaika</td>\n",
       "      <td>BAL</td>\n",
       "      <td>91</td>\n",
       "      <td>281</td>\n",
       "      <td>0.540</td>\n",
       "      <td>($7.7)</td>\n",
       "      <td>1.5</td>\n",
       "      <td>-19.9</td>\n",
       "      <td>-1.0</td>\n",
       "      <td>46</td>\n",
       "      <td>0.8</td>\n",
       "      <td>-1.2</td>\n",
       "    </tr>\n",
       "    <tr>\n",
       "      <th>359</th>\n",
       "      <td>354</td>\n",
       "      <td>24655</td>\n",
       "      <td>Owen Miller</td>\n",
       "      <td>CLE</td>\n",
       "      <td>60</td>\n",
       "      <td>202</td>\n",
       "      <td>0.551</td>\n",
       "      <td>($8.8)</td>\n",
       "      <td>3.5</td>\n",
       "      <td>-15.0</td>\n",
       "      <td>-1.1</td>\n",
       "      <td>49</td>\n",
       "      <td>-2.8</td>\n",
       "      <td>-2.3</td>\n",
       "    </tr>\n",
       "    <tr>\n",
       "      <th>360</th>\n",
       "      <td>314</td>\n",
       "      <td>12907</td>\n",
       "      <td>Gregory Polanco</td>\n",
       "      <td>PIT</td>\n",
       "      <td>107</td>\n",
       "      <td>382</td>\n",
       "      <td>0.637</td>\n",
       "      <td>($9.3)</td>\n",
       "      <td>6.0</td>\n",
       "      <td>-12.3</td>\n",
       "      <td>-1.2</td>\n",
       "      <td>71</td>\n",
       "      <td>-11.9</td>\n",
       "      <td>1.9</td>\n",
       "    </tr>\n",
       "    <tr>\n",
       "      <th>361</th>\n",
       "      <td>352</td>\n",
       "      <td>11936</td>\n",
       "      <td>Joe Panik</td>\n",
       "      <td>- - -</td>\n",
       "      <td>95</td>\n",
       "      <td>257</td>\n",
       "      <td>0.550</td>\n",
       "      <td>($9.4)</td>\n",
       "      <td>2.7</td>\n",
       "      <td>-17.8</td>\n",
       "      <td>-1.2</td>\n",
       "      <td>51</td>\n",
       "      <td>-2.4</td>\n",
       "      <td>-2.0</td>\n",
       "    </tr>\n",
       "  </tbody>\n",
       "</table>\n",
       "<p>362 rows × 14 columns</p>\n",
       "</div>"
      ],
      "text/plain": [
       "     Unnamed: 0   IDfg                   Name   Team    G   PA    OPS     Dol  \\\n",
       "0            17  16252            Trea Turner  - - -  148  646  0.911   $54.9   \n",
       "1             2  19611  Vladimir Guerrero Jr.    TOR  161  698  1.002   $53.5   \n",
       "2             0  11579           Bryce Harper    PHI  141  599  1.044   $53.0   \n",
       "3             1  20123              Juan Soto    WSN  151  654  0.999   $53.0   \n",
       "4            42  12533          Marcus Semien    TOR  162  724  0.873   $53.0   \n",
       "..          ...    ...                    ...    ...  ...  ...    ...     ...   \n",
       "357         360  12977          Michael Perez    PIT   70  231  0.511  ($6.9)   \n",
       "358         356  14885            Pat Valaika    BAL   91  281  0.540  ($7.7)   \n",
       "359         354  24655            Owen Miller    CLE   60  202  0.551  ($8.8)   \n",
       "360         314  12907        Gregory Polanco    PIT  107  382  0.637  ($9.3)   \n",
       "361         352  11936              Joe Panik  - - -   95  257  0.550  ($9.4)   \n",
       "\n",
       "     Spd   Off  WAR  wRC+   Def  BsR  \n",
       "0    6.4  39.5  6.9   142   7.6  5.0  \n",
       "1    3.1  54.1  6.7   166 -11.1 -2.1  \n",
       "2    4.3  50.7  6.6   170  -4.4 -2.5  \n",
       "3    3.5  48.8  6.6   163  -4.3 -3.3  \n",
       "4    5.3  31.5  6.6   131  10.0  4.0  \n",
       "..   ...   ...  ...   ...   ...  ...  \n",
       "357  2.8 -18.7 -0.9    38   2.5 -0.5  \n",
       "358  1.5 -19.9 -1.0    46   0.8 -1.2  \n",
       "359  3.5 -15.0 -1.1    49  -2.8 -2.3  \n",
       "360  6.0 -12.3 -1.2    71 -11.9  1.9  \n",
       "361  2.7 -17.8 -1.2    51  -2.4 -2.0  \n",
       "\n",
       "[362 rows x 14 columns]"
      ]
     },
     "execution_count": 243,
     "metadata": {},
     "output_type": "execute_result"
    }
   ],
   "source": [
    "hitting_df = pd.read_csv('hitting_vs_defense.csv')\n",
    "hitting_df"
   ]
  },
  {
   "cell_type": "code",
   "execution_count": 244,
   "metadata": {},
   "outputs": [
    {
     "data": {
      "text/html": [
       "<div>\n",
       "<style scoped>\n",
       "    .dataframe tbody tr th:only-of-type {\n",
       "        vertical-align: middle;\n",
       "    }\n",
       "\n",
       "    .dataframe tbody tr th {\n",
       "        vertical-align: top;\n",
       "    }\n",
       "\n",
       "    .dataframe thead th {\n",
       "        text-align: right;\n",
       "    }\n",
       "</style>\n",
       "<table border=\"1\" class=\"dataframe\">\n",
       "  <thead>\n",
       "    <tr style=\"text-align: right;\">\n",
       "      <th></th>\n",
       "      <th>player_id</th>\n",
       "      <th>Name</th>\n",
       "      <th>display_team_name</th>\n",
       "      <th>primary_pos_formatted</th>\n",
       "      <th>outs_above_average</th>\n",
       "    </tr>\n",
       "  </thead>\n",
       "  <tbody>\n",
       "    <tr>\n",
       "      <th>95</th>\n",
       "      <td>607208</td>\n",
       "      <td>Trea Turner</td>\n",
       "      <td>---</td>\n",
       "      <td>SS</td>\n",
       "      <td>3</td>\n",
       "    </tr>\n",
       "  </tbody>\n",
       "</table>\n",
       "</div>"
      ],
      "text/plain": [
       "    player_id          Name display_team_name primary_pos_formatted  \\\n",
       "95     607208   Trea Turner               ---                    SS   \n",
       "\n",
       "    outs_above_average  \n",
       "95                   3  "
      ]
     },
     "execution_count": 244,
     "metadata": {},
     "output_type": "execute_result"
    }
   ],
   "source": [
    "# All names in the oaa df have a space before them so need to remove that \n",
    "oaa[oaa[\"Name\"] == \" Trea Turner\"]"
   ]
  },
  {
   "cell_type": "code",
   "execution_count": 245,
   "metadata": {},
   "outputs": [
    {
     "name": "stderr",
     "output_type": "stream",
     "text": [
      "/var/folders/6y/ylm_09j57zscgtclh5kxdx1h0000gn/T/ipykernel_52780/4272506922.py:1: SettingWithCopyWarning:\n",
      "\n",
      "\n",
      "A value is trying to be set on a copy of a slice from a DataFrame.\n",
      "Try using .loc[row_indexer,col_indexer] = value instead\n",
      "\n",
      "See the caveats in the documentation: https://pandas.pydata.org/pandas-docs/stable/user_guide/indexing.html#returning-a-view-versus-a-copy\n",
      "\n"
     ]
    },
    {
     "data": {
      "text/html": [
       "<div>\n",
       "<style scoped>\n",
       "    .dataframe tbody tr th:only-of-type {\n",
       "        vertical-align: middle;\n",
       "    }\n",
       "\n",
       "    .dataframe tbody tr th {\n",
       "        vertical-align: top;\n",
       "    }\n",
       "\n",
       "    .dataframe thead th {\n",
       "        text-align: right;\n",
       "    }\n",
       "</style>\n",
       "<table border=\"1\" class=\"dataframe\">\n",
       "  <thead>\n",
       "    <tr style=\"text-align: right;\">\n",
       "      <th></th>\n",
       "      <th>player_id</th>\n",
       "      <th>Name</th>\n",
       "      <th>display_team_name</th>\n",
       "      <th>primary_pos_formatted</th>\n",
       "      <th>outs_above_average</th>\n",
       "    </tr>\n",
       "  </thead>\n",
       "  <tbody>\n",
       "    <tr>\n",
       "      <th>95</th>\n",
       "      <td>607208</td>\n",
       "      <td>Trea Turner</td>\n",
       "      <td>---</td>\n",
       "      <td>SS</td>\n",
       "      <td>3</td>\n",
       "    </tr>\n",
       "  </tbody>\n",
       "</table>\n",
       "</div>"
      ],
      "text/plain": [
       "    player_id         Name display_team_name primary_pos_formatted  \\\n",
       "95     607208  Trea Turner               ---                    SS   \n",
       "\n",
       "    outs_above_average  \n",
       "95                   3  "
      ]
     },
     "execution_count": 245,
     "metadata": {},
     "output_type": "execute_result"
    }
   ],
   "source": [
    "oaa[\"Name\"] = oaa[\"Name\"].str.lstrip()\n",
    "oaa[oaa[\"Name\"] == \"Trea Turner\"]"
   ]
  },
  {
   "cell_type": "markdown",
   "metadata": {},
   "source": [
    "### To properly join the fangraphs table and the statcast table I need to remove the accents from the names in the statcast table"
   ]
  },
  {
   "cell_type": "code",
   "execution_count": 246,
   "metadata": {},
   "outputs": [
    {
     "data": {
      "text/html": [
       "<div>\n",
       "<style scoped>\n",
       "    .dataframe tbody tr th:only-of-type {\n",
       "        vertical-align: middle;\n",
       "    }\n",
       "\n",
       "    .dataframe tbody tr th {\n",
       "        vertical-align: top;\n",
       "    }\n",
       "\n",
       "    .dataframe thead th {\n",
       "        text-align: right;\n",
       "    }\n",
       "</style>\n",
       "<table border=\"1\" class=\"dataframe\">\n",
       "  <thead>\n",
       "    <tr style=\"text-align: right;\">\n",
       "      <th></th>\n",
       "      <th>player_id</th>\n",
       "      <th>Name</th>\n",
       "      <th>display_team_name</th>\n",
       "      <th>primary_pos_formatted</th>\n",
       "      <th>outs_above_average</th>\n",
       "    </tr>\n",
       "  </thead>\n",
       "  <tbody>\n",
       "    <tr>\n",
       "      <th>34</th>\n",
       "      <td>571771</td>\n",
       "      <td>Enrique Hernández</td>\n",
       "      <td>Red Sox</td>\n",
       "      <td>2B</td>\n",
       "      <td>7</td>\n",
       "    </tr>\n",
       "  </tbody>\n",
       "</table>\n",
       "</div>"
      ],
      "text/plain": [
       "    player_id               Name display_team_name primary_pos_formatted  \\\n",
       "34     571771  Enrique Hernández           Red Sox                    2B   \n",
       "\n",
       "    outs_above_average  \n",
       "34                   7  "
      ]
     },
     "execution_count": 246,
     "metadata": {},
     "output_type": "execute_result"
    }
   ],
   "source": [
    "oaa[oaa[\"Name\"] == 'Enrique Hernández']"
   ]
  },
  {
   "cell_type": "code",
   "execution_count": 247,
   "metadata": {},
   "outputs": [
    {
     "name": "stderr",
     "output_type": "stream",
     "text": [
      "/var/folders/6y/ylm_09j57zscgtclh5kxdx1h0000gn/T/ipykernel_52780/931964793.py:1: SettingWithCopyWarning:\n",
      "\n",
      "\n",
      "A value is trying to be set on a copy of a slice from a DataFrame.\n",
      "Try using .loc[row_indexer,col_indexer] = value instead\n",
      "\n",
      "See the caveats in the documentation: https://pandas.pydata.org/pandas-docs/stable/user_guide/indexing.html#returning-a-view-versus-a-copy\n",
      "\n"
     ]
    }
   ],
   "source": [
    "oaa[\"Name\"] = oaa[\"Name\"].str.normalize('NFKD').str.encode('ascii', errors='ignore').str.decode('utf-8')\n"
   ]
  },
  {
   "cell_type": "code",
   "execution_count": 248,
   "metadata": {},
   "outputs": [
    {
     "data": {
      "text/html": [
       "<div>\n",
       "<style scoped>\n",
       "    .dataframe tbody tr th:only-of-type {\n",
       "        vertical-align: middle;\n",
       "    }\n",
       "\n",
       "    .dataframe tbody tr th {\n",
       "        vertical-align: top;\n",
       "    }\n",
       "\n",
       "    .dataframe thead th {\n",
       "        text-align: right;\n",
       "    }\n",
       "</style>\n",
       "<table border=\"1\" class=\"dataframe\">\n",
       "  <thead>\n",
       "    <tr style=\"text-align: right;\">\n",
       "      <th></th>\n",
       "      <th>player_id</th>\n",
       "      <th>Name</th>\n",
       "      <th>display_team_name</th>\n",
       "      <th>primary_pos_formatted</th>\n",
       "      <th>outs_above_average</th>\n",
       "    </tr>\n",
       "  </thead>\n",
       "  <tbody>\n",
       "    <tr>\n",
       "      <th>34</th>\n",
       "      <td>571771</td>\n",
       "      <td>Enrique Hernandez</td>\n",
       "      <td>Red Sox</td>\n",
       "      <td>2B</td>\n",
       "      <td>7</td>\n",
       "    </tr>\n",
       "  </tbody>\n",
       "</table>\n",
       "</div>"
      ],
      "text/plain": [
       "    player_id               Name display_team_name primary_pos_formatted  \\\n",
       "34     571771  Enrique Hernandez           Red Sox                    2B   \n",
       "\n",
       "    outs_above_average  \n",
       "34                   7  "
      ]
     },
     "execution_count": 248,
     "metadata": {},
     "output_type": "execute_result"
    }
   ],
   "source": [
    "oaa[oaa[\"Name\"] == 'Enrique Hernandez']"
   ]
  },
  {
   "cell_type": "code",
   "execution_count": 249,
   "metadata": {},
   "outputs": [],
   "source": [
    "merged_df = pd.merge(hitting_df, oaa[['Name', 'primary_pos_formatted', 'outs_above_average']], on='Name', how='left')"
   ]
  },
  {
   "cell_type": "code",
   "execution_count": 250,
   "metadata": {},
   "outputs": [],
   "source": [
    "# Sort by outs above average\n",
    "merged_df.sort_values(by=['outs_above_average'], ascending=False, ignore_index=True, inplace=True)\n",
    "merged_df.rename(columns={\"primary_pos_formatted\": \"POS\", \"outs_above_average\": 'OAA'},inplace=True)\n",
    "\n"
   ]
  },
  {
   "cell_type": "code",
   "execution_count": 251,
   "metadata": {},
   "outputs": [
    {
     "data": {
      "text/plain": [
       "' MERGED TABLE NOW READY FOR PLOTTING'"
      ]
     },
     "execution_count": 251,
     "metadata": {},
     "output_type": "execute_result"
    }
   ],
   "source": [
    "merged_df.drop(columns=['Unnamed: 0'])\n",
    "\n",
    "''' MERGED TABLE NOW READY FOR PLOTTING'''"
   ]
  },
  {
   "cell_type": "markdown",
   "metadata": {},
   "source": [
    "## Plotting wRC+ against OAA to see how it differs from the previous hitting vs defence graph"
   ]
  },
  {
   "cell_type": "code",
   "execution_count": 252,
   "metadata": {},
   "outputs": [
    {
     "data": {
      "application/vnd.plotly.v1+json": {
       "config": {
        "plotlyServerURL": "https://plot.ly"
       },
       "data": [
        {
         "customdata": [
          [
           565
          ],
          [
           524
          ],
          [
           473
          ],
          [
           622
          ],
          [
           451
          ],
          [
           464
          ],
          [
           549
          ],
          [
           528
          ],
          [
           396
          ],
          [
           691
          ],
          [
           401
          ],
          [
           640
          ],
          [
           377
          ],
          [
           638
          ],
          [
           320
          ],
          [
           390
          ],
          [
           622
          ],
          [
           596
          ],
          [
           292
          ],
          [
           646
          ],
          [
           653
          ],
          [
           255
          ],
          [
           361
          ],
          [
           665
          ],
          [
           494
          ],
          [
           567
          ],
          [
           490
          ],
          [
           501
          ],
          [
           348
          ],
          [
           254
          ],
          [
           636
          ],
          [
           319
          ],
          [
           585
          ],
          [
           720
          ],
          [
           679
          ],
          [
           220
          ],
          [
           492
          ],
          [
           527
          ],
          [
           532
          ],
          [
           541
          ],
          [
           616
          ],
          [
           576
          ],
          [
           347
          ],
          [
           286
          ],
          [
           678
          ],
          [
           246
          ],
          [
           724
          ],
          [
           426
          ],
          [
           592
          ],
          [
           558
          ],
          [
           325
          ],
          [
           326
          ],
          [
           529
          ],
          [
           402
          ],
          [
           307
          ],
          [
           674
          ],
          [
           567
          ],
          [
           312
          ],
          [
           654
          ],
          [
           511
          ],
          [
           670
          ],
          [
           344
          ],
          [
           272
          ],
          [
           386
          ],
          [
           315
          ],
          [
           296
          ],
          [
           251
          ],
          [
           428
          ],
          [
           445
          ],
          [
           240
          ],
          [
           533
          ],
          [
           331
          ],
          [
           375
          ],
          [
           555
          ],
          [
           554
          ],
          [
           210
          ],
          [
           271
          ],
          [
           646
          ],
          [
           315
          ],
          [
           526
          ],
          [
           547
          ],
          [
           229
          ],
          [
           551
          ],
          [
           653
          ],
          [
           307
          ],
          [
           537
          ],
          [
           695
          ],
          [
           290
          ],
          [
           327
          ],
          [
           568
          ],
          [
           209
          ],
          [
           397
          ],
          [
           231
          ],
          [
           353
          ],
          [
           381
          ],
          [
           538
          ],
          [
           306
          ],
          [
           640
          ],
          [
           625
          ],
          [
           225
          ],
          [
           350
          ],
          [
           365
          ],
          [
           475
          ],
          [
           238
          ],
          [
           271
          ],
          [
           281
          ],
          [
           251
          ],
          [
           479
          ],
          [
           492
          ],
          [
           342
          ],
          [
           215
          ],
          [
           264
          ],
          [
           510
          ],
          [
           238
          ],
          [
           546
          ],
          [
           301
          ],
          [
           639
          ],
          [
           679
          ],
          [
           346
          ],
          [
           604
          ],
          [
           659
          ],
          [
           265
          ],
          [
           637
          ],
          [
           297
          ],
          [
           673
          ],
          [
           260
          ],
          [
           543
          ],
          [
           511
          ],
          [
           500
          ],
          [
           231
          ],
          [
           290
          ],
          [
           369
          ],
          [
           643
          ],
          [
           242
          ],
          [
           595
          ],
          [
           271
          ],
          [
           612
          ],
          [
           344
          ],
          [
           461
          ],
          [
           436
          ],
          [
           686
          ],
          [
           616
          ],
          [
           360
          ],
          [
           279
          ],
          [
           300
          ],
          [
           538
          ],
          [
           250
          ],
          [
           659
          ],
          [
           291
          ],
          [
           605
          ],
          [
           687
          ],
          [
           295
          ],
          [
           381
          ],
          [
           327
          ],
          [
           529
          ],
          [
           296
          ],
          [
           533
          ],
          [
           565
          ],
          [
           208
          ],
          [
           450
          ],
          [
           260
          ],
          [
           284
          ],
          [
           347
          ],
          [
           219
          ],
          [
           302
          ],
          [
           599
          ],
          [
           637
          ],
          [
           305
          ],
          [
           202
          ],
          [
           547
          ],
          [
           545
          ],
          [
           412
          ],
          [
           633
          ],
          [
           288
          ],
          [
           273
          ],
          [
           579
          ],
          [
           255
          ],
          [
           249
          ],
          [
           461
          ],
          [
           330
          ],
          [
           526
          ],
          [
           254
          ],
          [
           598
          ],
          [
           211
          ],
          [
           626
          ],
          [
           213
          ],
          [
           400
          ],
          [
           204
          ],
          [
           377
          ],
          [
           258
          ],
          [
           382
          ],
          [
           237
          ],
          [
           209
          ],
          [
           515
          ],
          [
           352
          ],
          [
           241
          ],
          [
           284
          ],
          [
           671
          ],
          [
           378
          ],
          [
           220
          ],
          [
           550
          ],
          [
           505
          ],
          [
           512
          ],
          [
           616
          ],
          [
           474
          ],
          [
           403
          ],
          [
           541
          ],
          [
           220
          ],
          [
           634
          ],
          [
           443
          ],
          [
           216
          ],
          [
           417
          ],
          [
           216
          ],
          [
           310
          ],
          [
           359
          ],
          [
           257
          ],
          [
           572
          ],
          [
           211
          ],
          [
           582
          ],
          [
           574
          ],
          [
           250
          ],
          [
           642
          ],
          [
           650
          ],
          [
           698
          ],
          [
           259
          ],
          [
           264
          ],
          [
           508
          ],
          [
           308
          ],
          [
           588
          ],
          [
           415
          ],
          [
           312
          ],
          [
           206
          ],
          [
           349
          ],
          [
           361
          ],
          [
           507
          ],
          [
           394
          ],
          [
           247
          ],
          [
           591
          ],
          [
           539
          ],
          [
           262
          ],
          [
           644
          ],
          [
           545
          ],
          [
           377
          ],
          [
           442
          ],
          [
           381
          ],
          [
           271
          ],
          [
           250
          ],
          [
           240
          ],
          [
           213
          ],
          [
           479
          ],
          [
           599
          ],
          [
           249
          ],
          [
           662
          ],
          [
           585
          ],
          [
           373
          ],
          [
           619
          ],
          [
           322
          ],
          [
           561
          ],
          [
           325
          ],
          [
           409
          ],
          [
           595
          ],
          [
           585
          ],
          [
           690
          ],
          [
           615
          ],
          [
           485
          ],
          [
           604
          ],
          [
           374
          ],
          [
           550
          ],
          [
           454
          ],
          [
           375
          ],
          [
           535
          ],
          [
           602
          ],
          [
           438
          ],
          [
           481
          ],
          [
           469
          ],
          [
           362
          ],
          [
           541
          ],
          [
           234
          ],
          [
           289
          ],
          [
           233
          ],
          [
           631
          ],
          [
           277
          ],
          [
           412
          ],
          [
           532
          ],
          [
           691
          ],
          [
           294
          ],
          [
           677
          ],
          [
           453
          ],
          [
           582
          ],
          [
           296
          ],
          [
           218
          ],
          [
           555
          ],
          [
           574
          ],
          [
           516
          ],
          [
           586
          ],
          [
           586
          ],
          [
           493
          ],
          [
           400
          ],
          [
           471
          ],
          [
           603
          ],
          [
           339
          ],
          [
           570
          ],
          [
           247
          ],
          [
           664
          ],
          [
           249
          ],
          [
           543
          ],
          [
           408
          ],
          [
           675
          ],
          [
           639
          ],
          [
           454
          ],
          [
           501
          ],
          [
           375
          ],
          [
           537
          ],
          [
           375
          ],
          [
           665
          ],
          [
           448
          ],
          [
           422
          ],
          [
           319
          ],
          [
           445
          ],
          [
           427
          ],
          [
           243
          ],
          [
           483
          ],
          [
           584
          ],
          [
           402
          ],
          [
           359
          ],
          [
           371
          ],
          [
           375
          ],
          [
           208
          ],
          [
           440
          ],
          [
           205
          ],
          [
           277
          ],
          [
           466
          ],
          [
           217
          ],
          [
           388
          ],
          [
           285
          ],
          [
           381
          ],
          [
           473
          ],
          [
           325
          ],
          [
           225
          ],
          [
           229
          ],
          [
           293
          ],
          [
           211
          ],
          [
           311
          ],
          [
           298
          ],
          [
           302
          ],
          [
           263
          ],
          [
           231
          ],
          [
           498
          ],
          [
           412
          ],
          [
           318
          ],
          [
           378
          ],
          [
           426
          ],
          [
           262
          ],
          [
           238
          ],
          [
           312
          ],
          [
           419
          ],
          [
           252
          ],
          [
           247
          ],
          [
           220
          ],
          [
           231
          ],
          [
           356
          ],
          [
           231
          ]
         ],
         "hovertemplate": "<b>%{hovertext}</b><br><br>OAA=%{x}<br>wRC+=%{y}<br>PA=%{customdata[0]}<br>WAR=%{marker.color}<extra></extra>",
         "hovertext": [
          "Nicky Lopez",
          "Francisco Lindor",
          "Nick Ahmed",
          "Matt Chapman",
          "Andrelton Simmons",
          "Manuel Margot",
          "Brandon Crawford",
          "Michael A. Taylor",
          "Ke'Bryan Hayes",
          "Tommy Edman",
          "Harrison Bader",
          "Carlos Correa",
          "Dylan Moore",
          "Myles Straw",
          "Chas McCormick",
          "Kevin Kiermaier",
          "Adolis Garcia",
          "Ryan McMahon",
          "Brett Phillips",
          "Bryan Reynolds",
          "Nolan Arenado",
          "Sergio Alcantara",
          "Rougned Odor",
          "David Fletcher",
          "Garrett Hampson",
          "Jean Segura",
          "Max Kepler",
          "Joey Wendle",
          "Bradley Zimmer",
          "Byron Buxton",
          "Jose Ramirez",
          "Aledmys Diaz",
          "Enrique Hernandez",
          "Whit Merrifield",
          "Paul Goldschmidt",
          "Eli White",
          "Odubel Herrera",
          "Trent Grisham",
          "Mike Yastrzemski",
          "Elvis Andrus",
          "Joey Gallo",
          "Anthony Rizzo",
          "Guillermo Heredia",
          "Lorenzo Cain",
          "Jose Altuve",
          "Santiago Espinal",
          "Marcus Semien",
          "Jeff McNeil",
          "Max Muncy",
          "Josh Harrison",
          "Niko Goodrum",
          "Edmundo Sosa",
          "Kyle Farmer",
          "Paul DeJong",
          "Seth Brown",
          "Jonathan Schoop",
          "Kyle Tucker",
          "Darin Ruf",
          "Juan Soto",
          "Nick Solak",
          "Kyle Seager",
          "Ronald Torreyes",
          "Andy Ibanez",
          "Brandon Nimmo",
          "Daulton Varsho",
          "Luis Robert",
          "Yu Chang",
          "Jackie Bradley Jr.",
          "Christian Walker",
          "DJ Peters",
          "Raimel Tapia",
          "Yonathan Daza",
          "Patrick Wisdom",
          "Adam Duvall",
          "Kevin Newman",
          "Andres Gimenez",
          "Tyrone Taylor",
          "Trea Turner",
          "Jake Bauers",
          "Starling Marte",
          "Javier Baez",
          "Erik Gonzalez",
          "Tim Anderson",
          "Dansby Swanson",
          "Marwin Gonzalez",
          "Tyler O'Neill",
          "Freddie Freeman",
          "Jack Mayfield",
          "Juan Lagares",
          "Josh Bell",
          "Ehire Adrianza",
          "Tony Kemp",
          "Eloy Jimenez",
          "Jason Heyward",
          "Brandon Belt",
          "David Peralta",
          "Austin Slater",
          "Manny Machado",
          "Mark Canha",
          "Magneuris Sierra",
          "Cody Bellinger",
          "Corey Dickerson",
          "Christian Yelich",
          "Oscar Mercado",
          "Charlie Culberson",
          "Pat Valaika",
          "Jesus Sanchez",
          "Michael Conforto",
          "Kolten Wong",
          "George Springer",
          "Nick Madrigal",
          "Brian Anderson",
          "Jesus Aguilar",
          "Sam Hilliard",
          "Fernando Tatis Jr.",
          "Trevor Larnach",
          "Adam Frazier",
          "DJ LeMahieu",
          "Starlin Castro",
          "Randy Arozarena",
          "Carlos Santana",
          "Jake Fraley",
          "Pete Alonso",
          "Steven Duggar",
          "Matt Olson",
          "Brandon Marsh",
          "Josh Donaldson",
          "Jose Iglesias",
          "Wil Myers",
          "Alex Kirilloff",
          "Lewis Brinson",
          "Victor Robles",
          "Jake Cronenworth",
          "Tommy La Stella",
          "Teoscar Hernandez",
          "Jon Berti",
          "Justin Turner",
          "Donovan Solano",
          "Brett Gardner",
          "Wilmer Flores",
          "Ozzie Albies",
          "Trey Mancini",
          "Ronald Acuna Jr.",
          "Bobby Bradley",
          "Billy McKinney",
          "Andrew Benintendi",
          "Josh Naylor",
          "Jose Abreu",
          "Evan Longoria",
          "Yuli Gurriel",
          "J.P. Crawford",
          "Kelvin Gutierrez",
          "LaMonte Wade Jr.",
          "David Bote",
          "Austin Hays",
          "Albert Pujols",
          "Joey Votto",
          "Eric Hosmer",
          "Marcell Ozuna",
          "Willi Castro",
          "Brock Holt",
          "Joshua Fuentes",
          "Kevin Pillar",
          "Bryan De La Cruz",
          "Jace Peterson",
          "Eduardo Escobar",
          "Cesar Hernandez",
          "Ji-Man Choi",
          "Owen Miller",
          "C.J. Cron",
          "Randal Grichuk",
          "Eddie Rosario",
          "Aaron Judge",
          "Adam Eaton",
          "Ryan Zimmerman",
          "Giancarlo Stanton",
          "Hanser Alberto",
          "Matt Carpenter",
          "Akil Baddoo",
          "Rafael Ortega",
          "Miguel Cabrera",
          "Ryan O'Hearn",
          "Yordan Alvarez",
          "Connor Joe",
          "Jeimer Candelario",
          "Andrew Stevenson",
          "Alex Bregman",
          "Aristides Aquino",
          "Jarred Kelenic",
          "Daniel Vogelbach",
          "Gregory Polanco",
          "Taylor Ward",
          "Jorge Mateo",
          "Avisail Garcia",
          "Asdrubal Cabrera",
          "Luke Voit",
          "Willie Calhoun",
          "Robbie Grossman",
          "Ramon Laureano",
          "Victor Reyes",
          "Mookie Betts",
          "Jonathan Villar",
          "Jed Lowrie",
          "Yoan Moncada",
          "Leury Garcia",
          "Maikel Franco",
          "Yandy Diaz",
          "David Dahl",
          "J.D. Martinez",
          "Rhys Hoskins",
          "Willians Astudillo",
          "Alec Bohm",
          "Nick Gordon",
          "Josh VanMeter",
          "Colin Moran",
          "Joe Panik",
          "Hunter Renfroe",
          "J.D. Davis",
          "Chris Taylor",
          "Andrew McCutchen",
          "Garrett Cooper",
          "Nathaniel Lowe",
          "Ty France",
          "Vladimir Guerrero Jr.",
          "Frank Schwindel",
          "Lane Thomas",
          "Michael Brantley",
          "Wander Franco",
          "Amed Rosario",
          "Brendan Rodgers",
          "Alex Dickerson",
          "Mike Moustakas",
          "Alcides Escobar",
          "Harold Ramirez",
          "Jazz Chisholm Jr.",
          "Freddy Galvis",
          "Phillip Evans",
          "Austin Meadows",
          "Miguel Rojas",
          "Yoshi Tsutsugo",
          "Jorge Polanco",
          "Pavin Smith",
          "Brad Miller",
          "Gio Urshela",
          "Gavin Lux",
          "Brian Goodwin",
          "Travis Shaw",
          "Wilmer Difo",
          "Brent Rooker",
          "Luis Arraez",
          "Bryce Harper",
          "Anthony Rendon",
          "Austin Riley",
          "Jared Walsh",
          "Phil Gosselin",
          "Dylan Carlson",
          "Matt Duffy",
          "Tommy Pham",
          "Rowdy Tellez",
          "Corey Seager",
          "Trevor Story",
          "Nick Castellanos",
          "Bo Bichette",
          "Brandon Lowe",
          "Jesse Winker",
          "Alex Verdugo",
          "Ketel Marte",
          "Josh Rojas",
          "Tyler Naquin",
          "Abraham Toro",
          "Ian Happ",
          "Jorge Soler",
          "Anthony Santander",
          "Joc Pederson",
          "Andrew Vaughn",
          "Justin Upton",
          "Lourdes Gurriel Jr.",
          "Matt Beaty",
          "Yadiel Hernandez",
          "Chad Pinder",
          "Jonathan India",
          "Isan Diaz",
          "Jurickson Profar",
          "Miguel Sano",
          "Mitch Haniger",
          "Cavan Biggio",
          "Isiah Kiner-Falefa",
          "Bobby Dalbec",
          "Charlie Blackmon",
          "Ramon Urias",
          "Clint Frazier",
          "Willy Adames",
          "Eugenio Suarez",
          "Gleyber Torres",
          "Ryan Mountcastle",
          "Kris Bryant",
          "Dominic Smith",
          "Ben Gamel",
          "Kyle Schwarber",
          "Xander Bogaerts",
          "Harold Castro",
          "Luis Urias",
          "Luis Garcia",
          "Rafael Devers",
          "Carter Kieboom",
          "Hunter Dozier",
          "Didi Gregorius",
          "Cedric Mullins II",
          "Shohei Ohtani",
          "Buster Posey",
          "Will Smith",
          "Mike Zunino",
          "J.T. Realmuto",
          "Yasmani Grandal",
          "Salvador Perez",
          "Sean Murphy",
          "A.J. Pollock",
          "Max Stassi",
          "Omar Narvaez",
          "Jacob Stallings",
          "Mitch Garver",
          "Willson Contreras",
          "Nelson Cruz",
          "Tyler Stephenson",
          "Carson Kelly",
          "Elias Diaz",
          "Yan Gomes",
          "Manny Pina",
          "Gary Sanchez",
          "Danny Jansen",
          "Francisco Mejia",
          "Franmil Reyes",
          "Reese McGuire",
          "Tucker Barnhart",
          "Jonah Heim",
          "Eric Haase",
          "Yadier Molina",
          "Tom Murphy",
          "Austin Barnes",
          "Travis d'Arnaud",
          "Ryan Jeffers",
          "Kyle Higashioka",
          "Jorge Alfaro",
          "Ha-seong Kim",
          "Jose Trevino",
          "Dom Nunez",
          "Curt Casali",
          "Christian Vazquez",
          "James McCann",
          "D.J. Stewart",
          "Luis Torrens",
          "Martin Maldonado",
          "Yermin Mercedes",
          "Stephen Vogt",
          "Austin Hedges",
          "Pedro Severino",
          "Mitch Moreland",
          "Kurt Suzuki",
          "Sandy Leon",
          "Zack Collins",
          "Victor Caratini",
          "Michael Perez"
         ],
         "legendgroup": "",
         "marker": {
          "color": [
           4.4,
           2.7,
           0,
           3.4,
           -0.5,
           1.4,
           5.5,
           1.9,
           1.5,
           2.3,
           3.4,
           5.8,
           0.2,
           3.7,
           1.9,
           2.5,
           2.9,
           2.5,
           1.8,
           5.5,
           4,
           0.3,
           0.6,
           0.3,
           0.5,
           2.5,
           1.9,
           2.6,
           1.1,
           4.2,
           6.3,
           0.9,
           3.9,
           3.2,
           4.9,
           -0.1,
           1.1,
           2.1,
           2.2,
           1.1,
           3.5,
           1.6,
           0.5,
           1.8,
           5.2,
           2.2,
           6.6,
           0.5,
           4.9,
           1.5,
           0,
           1.6,
           1.6,
           1.6,
           1.1,
           1.5,
           4.8,
           2.5,
           6.6,
           1.1,
           2.5,
           0.6,
           1,
           3.5,
           2,
           3.2,
           0.4,
           -0.8,
           0.3,
           0.3,
           0.4,
           0.5,
           2.3,
           2.4,
           0.3,
           0.8,
           1.5,
           6.9,
           -0.7,
           5.5,
           3.6,
           -0.7,
           4.3,
           3.2,
           -0.7,
           5.4,
           4.5,
           0.6,
           -0.3,
           1.4,
           0.2,
           2.7,
           0.2,
           0.3,
           3.3,
           1.1,
           1.8,
           4.4,
           2.6,
           -0.2,
           -0.8,
           0.8,
           1.5,
           0.6,
           0.6,
           -1,
           0.6,
           0.8,
           2.9,
           2.4,
           1.3,
           1.3,
           1.2,
           0.5,
           6.1,
           0.2,
           3.4,
           2.4,
           0.4,
           3.3,
           -0.3,
           0.5,
           3,
           2.1,
           5,
           1,
           2.2,
           1,
           1.4,
           0.3,
           -0.2,
           -0.5,
           4.4,
           0.5,
           3.9,
           0.2,
           4,
           1.1,
           1.4,
           1.2,
           4.2,
           0.6,
           4.2,
           0.3,
           0.3,
           2.1,
           -0.6,
           2.9,
           1.7,
           3.4,
           3.1,
           -0.6,
           1.6,
           -0.6,
           2.4,
           -0.2,
           3.6,
           0,
           -0.3,
           -0.4,
           -0.3,
           -0.3,
           0.7,
           0.8,
           0.9,
           3,
           2.2,
           0.9,
           -1.1,
           2.3,
           0.4,
           0.9,
           5.5,
           -0.3,
           0.4,
           2.6,
           0.6,
           -0.3,
           1.9,
           1.6,
           -0.7,
           -0.7,
           3.7,
           1.4,
           3.2,
           -0.1,
           2,
           0.1,
           -0.7,
           0.1,
           -1.2,
           0.5,
           0.5,
           2.9,
           0,
           0.4,
           -0.6,
           2.7,
           2.1,
           0.3,
           3.9,
           2.1,
           0.9,
           4.5,
           2,
           -0.3,
           1.8,
           -0.8,
           2.9,
           2.3,
           -0.8,
           -0.2,
           0.1,
           -0.5,
           -0.2,
           -1.2,
           1.8,
           1.6,
           3.1,
           1.2,
           1.1,
           1.6,
           3.5,
           6.7,
           2.1,
           0.5,
           2.1,
           2.5,
           2.7,
           1.6,
           0.2,
           -0.4,
           1.7,
           0,
           1.6,
           1.6,
           -0.5,
           2,
           2.8,
           0.2,
           3.9,
           0.3,
           1,
           1,
           1,
           0.2,
           -0.2,
           0.5,
           -0.2,
           1.8,
           6.6,
           0.7,
           4.2,
           2.8,
           0.1,
           2.8,
           1.5,
           1.5,
           -0.2,
           3.7,
           3.5,
           4.2,
           4.9,
           5.2,
           3.2,
           2,
           2.9,
           2,
           1.4,
           1.2,
           1.3,
           -0.2,
           0.6,
           0.6,
           0.3,
           0.3,
           1.5,
           0.8,
           0.2,
           0.4,
           3.9,
           -0.7,
           -0.7,
           0.4,
           2.8,
           -0.1,
           2.3,
           0.7,
           1.5,
           1.6,
           -0.9,
           4.1,
           0.6,
           1.7,
           1.4,
           3.6,
           -0.5,
           1.2,
           3.1,
           5.2,
           0.5,
           2.7,
           -0.2,
           4.7,
           -0.7,
           -0.2,
           0,
           5.3,
           5.1,
           4.9,
           4.6,
           4.5,
           4.4,
           3.7,
           3.4,
           3.3,
           3,
           2.9,
           2.8,
           2.6,
           2.1,
           2.1,
           2,
           2,
           1.7,
           1.6,
           1.6,
           1.5,
           1.5,
           1.4,
           1.4,
           1.3,
           1.3,
           1.2,
           1.1,
           1,
           1,
           1,
           0.8,
           0.6,
           0.6,
           0.6,
           0.6,
           0.6,
           0.6,
           0.5,
           0.5,
           0.5,
           0.5,
           0.4,
           0.3,
           0.2,
           0.1,
           0.1,
           0.1,
           -0.1,
           -0.2,
           -0.4,
           -0.6,
           -0.7,
           -0.7,
           -0.9
          ],
          "coloraxis": "coloraxis",
          "line": {
           "width": 2
          },
          "size": 10,
          "symbol": "circle"
         },
         "mode": "markers",
         "name": "",
         "orientation": "v",
         "showlegend": false,
         "type": "scatter",
         "x": [
          25,
          20,
          18,
          17,
          16,
          16,
          15,
          14,
          13,
          13,
          13,
          12,
          11,
          11,
          11,
          11,
          11,
          11,
          10,
          10,
          10,
          9,
          9,
          8,
          8,
          8,
          8,
          8,
          8,
          7,
          7,
          7,
          7,
          6,
          6,
          6,
          6,
          6,
          6,
          6,
          6,
          5,
          5,
          5,
          5,
          5,
          5,
          5,
          5,
          5,
          5,
          5,
          5,
          5,
          5,
          5,
          5,
          4,
          4,
          4,
          4,
          4,
          4,
          4,
          4,
          4,
          4,
          4,
          4,
          3,
          3,
          3,
          3,
          3,
          3,
          3,
          3,
          3,
          3,
          3,
          3,
          3,
          3,
          3,
          3,
          3,
          3,
          2,
          2,
          2,
          2,
          2,
          2,
          2,
          2,
          2,
          2,
          2,
          2,
          2,
          2,
          2,
          2,
          2,
          2,
          2,
          2,
          1,
          1,
          1,
          1,
          1,
          1,
          1,
          1,
          1,
          1,
          1,
          1,
          1,
          1,
          1,
          1,
          1,
          1,
          1,
          1,
          1,
          1,
          1,
          1,
          1,
          1,
          1,
          0,
          0,
          0,
          0,
          0,
          0,
          0,
          0,
          0,
          0,
          0,
          0,
          0,
          0,
          0,
          0,
          0,
          0,
          0,
          0,
          0,
          0,
          0,
          0,
          0,
          0,
          0,
          0,
          -1,
          -1,
          -1,
          -1,
          -1,
          -1,
          -1,
          -1,
          -1,
          -1,
          -1,
          -1,
          -1,
          -1,
          -1,
          -1,
          -1,
          -1,
          -1,
          -1,
          -1,
          -1,
          -1,
          -1,
          -1,
          -2,
          -2,
          -2,
          -2,
          -2,
          -2,
          -2,
          -2,
          -2,
          -2,
          -2,
          -2,
          -2,
          -2,
          -2,
          -2,
          -2,
          -2,
          -2,
          -2,
          -2,
          -2,
          -2,
          -3,
          -3,
          -3,
          -3,
          -3,
          -3,
          -3,
          -3,
          -3,
          -3,
          -3,
          -3,
          -3,
          -3,
          -3,
          -3,
          -3,
          -4,
          -4,
          -4,
          -4,
          -4,
          -4,
          -4,
          -4,
          -4,
          -4,
          -4,
          -4,
          -4,
          -4,
          -4,
          -4,
          -4,
          -4,
          -5,
          -5,
          -5,
          -5,
          -5,
          -5,
          -5,
          -5,
          -5,
          -5,
          -5,
          -5,
          -5,
          -5,
          -6,
          -6,
          -6,
          -6,
          -6,
          -6,
          -6,
          -6,
          -6,
          -6,
          -6,
          -6,
          -6,
          -6,
          -6,
          -6,
          -6,
          -6,
          -6,
          -6,
          -7,
          -7,
          -7,
          -7,
          -7,
          -7,
          -7,
          -7,
          -8,
          -8,
          -8,
          -9,
          -9,
          -10,
          -10,
          -10,
          -10,
          -10,
          -10,
          -10,
          -10,
          -12,
          -12,
          -12,
          -13,
          -13,
          -13,
          -18,
          null,
          null,
          null,
          null,
          null,
          null,
          null,
          null,
          null,
          null,
          null,
          null,
          null,
          null,
          null,
          null,
          null,
          null,
          null,
          null,
          null,
          null,
          null,
          null,
          null,
          null,
          null,
          null,
          null,
          null,
          null,
          null,
          null,
          null,
          null,
          null,
          null,
          null,
          null,
          null,
          null,
          null,
          null,
          null,
          null,
          null,
          null,
          null,
          null,
          null,
          null,
          null,
          null,
          null,
          null
         ],
         "xaxis": "x",
         "y": [
          106,
          103,
          64,
          101,
          56,
          95,
          139,
          77,
          88,
          91,
          110,
          134,
          74,
          98,
          109,
          101,
          100,
          95,
          103,
          142,
          113,
          71,
          83,
          70,
          65,
          109,
          95,
          106,
          89,
          169,
          137,
          99,
          110,
          91,
          138,
          58,
          93,
          103,
          106,
          72,
          123,
          112,
          79,
          97,
          130,
          115,
          131,
          93,
          140,
          103,
          79,
          104,
          91,
          86,
          103,
          105,
          147,
          144,
          163,
          89,
          99,
          68,
          107,
          137,
          98,
          157,
          85,
          35,
          87,
          71,
          76,
          75,
          115,
          103,
          54,
          73,
          106,
          142,
          63,
          134,
          116,
          50,
          120,
          98,
          58,
          145,
          135,
          79,
          71,
          118,
          94,
          127,
          101,
          68,
          158,
          93,
          103,
          122,
          115,
          51,
          48,
          100,
          101,
          85,
          85,
          46,
          116,
          106,
          109,
          140,
          113,
          99,
          112,
          85,
          156,
          89,
          114,
          100,
          90,
          128,
          83,
          109,
          133,
          107,
          146,
          86,
          124,
          91,
          109,
          93,
          74,
          67,
          116,
          94,
          132,
          79,
          127,
          105,
          93,
          113,
          107,
          105,
          157,
          99,
          73,
          106,
          90,
          126,
          123,
          134,
          103,
          67,
          117,
          64,
          106,
          90,
          140,
          102,
          73,
          69,
          62,
          48,
          90,
          115,
          97,
          107,
          90,
          117,
          49,
          127,
          85,
          98,
          148,
          70,
          97,
          137,
          84,
          70,
          108,
          120,
          92,
          70,
          138,
          116,
          119,
          69,
          115,
          83,
          73,
          101,
          71,
          111,
          83,
          115,
          82,
          111,
          91,
          114,
          111,
          88,
          131,
          105,
          100,
          122,
          98,
          62,
          111,
          54,
          128,
          127,
          70,
          75,
          77,
          75,
          98,
          51,
          114,
          130,
          113,
          107,
          134,
          115,
          129,
          166,
          152,
          103,
          123,
          127,
          99,
          100,
          97,
          70,
          100,
          90,
          98,
          90,
          73,
          113,
          97,
          90,
          122,
          96,
          105,
          96,
          91,
          94,
          78,
          95,
          89,
          103,
          170,
          95,
          135,
          127,
          87,
          113,
          102,
          102,
          89,
          147,
          100,
          140,
          122,
          137,
          148,
          107,
          139,
          102,
          110,
          95,
          103,
          101,
          92,
          94,
          94,
          92,
          107,
          114,
          98,
          97,
          122,
          60,
          85,
          110,
          120,
          84,
          85,
          107,
          94,
          115,
          83,
          119,
          85,
          94,
          111,
          123,
          86,
          101,
          145,
          130,
          83,
          111,
          79,
          134,
          68,
          82,
          68,
          136,
          152,
          140,
          130,
          134,
          108,
          159,
          127,
          99,
          137,
          107,
          99,
          95,
          137,
          109,
          122,
          111,
          103,
          92,
          93,
          95,
          99,
          105,
          108,
          125,
          78,
          81,
          60,
          100,
          83,
          87,
          79,
          78,
          82,
          71,
          73,
          70,
          64,
          69,
          82,
          77,
          80,
          94,
          101,
          63,
          102,
          64,
          40,
          87,
          93,
          76,
          42,
          90,
          72,
          38
         ],
         "yaxis": "y"
        }
       ],
       "layout": {
        "annotations": [
         {
          "font": {
           "color": "black",
           "family": "arial",
           "size": 18
          },
          "showarrow": false,
          "text": "Great Hitting and Defense",
          "x": 16.939999999999998,
          "y": 160.55999999999995
         },
         {
          "font": {
           "color": "black",
           "family": "arial",
           "size": 18
          },
          "showarrow": false,
          "text": "Terrible Hitting and Defense",
          "x": -12.94,
          "y": 44.44
         },
         {
          "showarrow": false,
          "text": "Median wRC+",
          "x": 1,
          "xanchor": "right",
          "xref": "x domain",
          "y": 100.70165745856353,
          "yanchor": "top",
          "yref": "y"
         },
         {
          "showarrow": false,
          "text": "Median OAA",
          "x": 0.0781758957654723,
          "xanchor": "left",
          "xref": "x",
          "y": 0,
          "yanchor": "bottom",
          "yref": "y domain"
         }
        ],
        "coloraxis": {
         "colorbar": {
          "title": {
           "text": "WAR"
          }
         },
         "colorscale": [
          [
           0,
           "rgb(0, 155, 158)"
          ],
          [
           0.16666666666666666,
           "rgb(66, 183, 185)"
          ],
          [
           0.3333333333333333,
           "rgb(167, 211, 212)"
          ],
          [
           0.5,
           "rgb(241, 241, 241)"
          ],
          [
           0.6666666666666666,
           "rgb(228, 193, 217)"
          ],
          [
           0.8333333333333334,
           "rgb(214, 145, 193)"
          ],
          [
           1,
           "rgb(199, 93, 171)"
          ]
         ]
        },
        "height": 750,
        "legend": {
         "tracegroupgap": 0
        },
        "margin": {
         "t": 60
        },
        "shapes": [
         {
          "line": {
           "color": "LightSeaGreen",
           "dash": "dot",
           "width": 2
          },
          "x0": 4,
          "x1": 25,
          "y0": 122,
          "y1": 170
         },
         {
          "line": {
           "color": "#EF553B",
           "dash": "dot",
           "width": 2
          },
          "x0": -18,
          "x1": -4.799999999999997,
          "y0": 35,
          "y1": 79
         },
         {
          "line": {
           "dash": "dot"
          },
          "type": "line",
          "x0": 0,
          "x1": 1,
          "xref": "x domain",
          "y0": 100.70165745856353,
          "y1": 100.70165745856353,
          "yref": "y"
         },
         {
          "line": {
           "dash": "dot"
          },
          "type": "line",
          "x0": 0.0781758957654723,
          "x1": 0.0781758957654723,
          "xref": "x",
          "y0": 0,
          "y1": 1,
          "yref": "y domain"
         }
        ],
        "template": {
         "data": {
          "bar": [
           {
            "error_x": {
             "color": "#2a3f5f"
            },
            "error_y": {
             "color": "#2a3f5f"
            },
            "marker": {
             "line": {
              "color": "#E5ECF6",
              "width": 0.5
             },
             "pattern": {
              "fillmode": "overlay",
              "size": 10,
              "solidity": 0.2
             }
            },
            "type": "bar"
           }
          ],
          "barpolar": [
           {
            "marker": {
             "line": {
              "color": "#E5ECF6",
              "width": 0.5
             },
             "pattern": {
              "fillmode": "overlay",
              "size": 10,
              "solidity": 0.2
             }
            },
            "type": "barpolar"
           }
          ],
          "carpet": [
           {
            "aaxis": {
             "endlinecolor": "#2a3f5f",
             "gridcolor": "white",
             "linecolor": "white",
             "minorgridcolor": "white",
             "startlinecolor": "#2a3f5f"
            },
            "baxis": {
             "endlinecolor": "#2a3f5f",
             "gridcolor": "white",
             "linecolor": "white",
             "minorgridcolor": "white",
             "startlinecolor": "#2a3f5f"
            },
            "type": "carpet"
           }
          ],
          "choropleth": [
           {
            "colorbar": {
             "outlinewidth": 0,
             "ticks": ""
            },
            "type": "choropleth"
           }
          ],
          "contour": [
           {
            "colorbar": {
             "outlinewidth": 0,
             "ticks": ""
            },
            "colorscale": [
             [
              0,
              "#0d0887"
             ],
             [
              0.1111111111111111,
              "#46039f"
             ],
             [
              0.2222222222222222,
              "#7201a8"
             ],
             [
              0.3333333333333333,
              "#9c179e"
             ],
             [
              0.4444444444444444,
              "#bd3786"
             ],
             [
              0.5555555555555556,
              "#d8576b"
             ],
             [
              0.6666666666666666,
              "#ed7953"
             ],
             [
              0.7777777777777778,
              "#fb9f3a"
             ],
             [
              0.8888888888888888,
              "#fdca26"
             ],
             [
              1,
              "#f0f921"
             ]
            ],
            "type": "contour"
           }
          ],
          "contourcarpet": [
           {
            "colorbar": {
             "outlinewidth": 0,
             "ticks": ""
            },
            "type": "contourcarpet"
           }
          ],
          "heatmap": [
           {
            "colorbar": {
             "outlinewidth": 0,
             "ticks": ""
            },
            "colorscale": [
             [
              0,
              "#0d0887"
             ],
             [
              0.1111111111111111,
              "#46039f"
             ],
             [
              0.2222222222222222,
              "#7201a8"
             ],
             [
              0.3333333333333333,
              "#9c179e"
             ],
             [
              0.4444444444444444,
              "#bd3786"
             ],
             [
              0.5555555555555556,
              "#d8576b"
             ],
             [
              0.6666666666666666,
              "#ed7953"
             ],
             [
              0.7777777777777778,
              "#fb9f3a"
             ],
             [
              0.8888888888888888,
              "#fdca26"
             ],
             [
              1,
              "#f0f921"
             ]
            ],
            "type": "heatmap"
           }
          ],
          "heatmapgl": [
           {
            "colorbar": {
             "outlinewidth": 0,
             "ticks": ""
            },
            "colorscale": [
             [
              0,
              "#0d0887"
             ],
             [
              0.1111111111111111,
              "#46039f"
             ],
             [
              0.2222222222222222,
              "#7201a8"
             ],
             [
              0.3333333333333333,
              "#9c179e"
             ],
             [
              0.4444444444444444,
              "#bd3786"
             ],
             [
              0.5555555555555556,
              "#d8576b"
             ],
             [
              0.6666666666666666,
              "#ed7953"
             ],
             [
              0.7777777777777778,
              "#fb9f3a"
             ],
             [
              0.8888888888888888,
              "#fdca26"
             ],
             [
              1,
              "#f0f921"
             ]
            ],
            "type": "heatmapgl"
           }
          ],
          "histogram": [
           {
            "marker": {
             "pattern": {
              "fillmode": "overlay",
              "size": 10,
              "solidity": 0.2
             }
            },
            "type": "histogram"
           }
          ],
          "histogram2d": [
           {
            "colorbar": {
             "outlinewidth": 0,
             "ticks": ""
            },
            "colorscale": [
             [
              0,
              "#0d0887"
             ],
             [
              0.1111111111111111,
              "#46039f"
             ],
             [
              0.2222222222222222,
              "#7201a8"
             ],
             [
              0.3333333333333333,
              "#9c179e"
             ],
             [
              0.4444444444444444,
              "#bd3786"
             ],
             [
              0.5555555555555556,
              "#d8576b"
             ],
             [
              0.6666666666666666,
              "#ed7953"
             ],
             [
              0.7777777777777778,
              "#fb9f3a"
             ],
             [
              0.8888888888888888,
              "#fdca26"
             ],
             [
              1,
              "#f0f921"
             ]
            ],
            "type": "histogram2d"
           }
          ],
          "histogram2dcontour": [
           {
            "colorbar": {
             "outlinewidth": 0,
             "ticks": ""
            },
            "colorscale": [
             [
              0,
              "#0d0887"
             ],
             [
              0.1111111111111111,
              "#46039f"
             ],
             [
              0.2222222222222222,
              "#7201a8"
             ],
             [
              0.3333333333333333,
              "#9c179e"
             ],
             [
              0.4444444444444444,
              "#bd3786"
             ],
             [
              0.5555555555555556,
              "#d8576b"
             ],
             [
              0.6666666666666666,
              "#ed7953"
             ],
             [
              0.7777777777777778,
              "#fb9f3a"
             ],
             [
              0.8888888888888888,
              "#fdca26"
             ],
             [
              1,
              "#f0f921"
             ]
            ],
            "type": "histogram2dcontour"
           }
          ],
          "mesh3d": [
           {
            "colorbar": {
             "outlinewidth": 0,
             "ticks": ""
            },
            "type": "mesh3d"
           }
          ],
          "parcoords": [
           {
            "line": {
             "colorbar": {
              "outlinewidth": 0,
              "ticks": ""
             }
            },
            "type": "parcoords"
           }
          ],
          "pie": [
           {
            "automargin": true,
            "type": "pie"
           }
          ],
          "scatter": [
           {
            "marker": {
             "colorbar": {
              "outlinewidth": 0,
              "ticks": ""
             }
            },
            "type": "scatter"
           }
          ],
          "scatter3d": [
           {
            "line": {
             "colorbar": {
              "outlinewidth": 0,
              "ticks": ""
             }
            },
            "marker": {
             "colorbar": {
              "outlinewidth": 0,
              "ticks": ""
             }
            },
            "type": "scatter3d"
           }
          ],
          "scattercarpet": [
           {
            "marker": {
             "colorbar": {
              "outlinewidth": 0,
              "ticks": ""
             }
            },
            "type": "scattercarpet"
           }
          ],
          "scattergeo": [
           {
            "marker": {
             "colorbar": {
              "outlinewidth": 0,
              "ticks": ""
             }
            },
            "type": "scattergeo"
           }
          ],
          "scattergl": [
           {
            "marker": {
             "colorbar": {
              "outlinewidth": 0,
              "ticks": ""
             }
            },
            "type": "scattergl"
           }
          ],
          "scattermapbox": [
           {
            "marker": {
             "colorbar": {
              "outlinewidth": 0,
              "ticks": ""
             }
            },
            "type": "scattermapbox"
           }
          ],
          "scatterpolar": [
           {
            "marker": {
             "colorbar": {
              "outlinewidth": 0,
              "ticks": ""
             }
            },
            "type": "scatterpolar"
           }
          ],
          "scatterpolargl": [
           {
            "marker": {
             "colorbar": {
              "outlinewidth": 0,
              "ticks": ""
             }
            },
            "type": "scatterpolargl"
           }
          ],
          "scatterternary": [
           {
            "marker": {
             "colorbar": {
              "outlinewidth": 0,
              "ticks": ""
             }
            },
            "type": "scatterternary"
           }
          ],
          "surface": [
           {
            "colorbar": {
             "outlinewidth": 0,
             "ticks": ""
            },
            "colorscale": [
             [
              0,
              "#0d0887"
             ],
             [
              0.1111111111111111,
              "#46039f"
             ],
             [
              0.2222222222222222,
              "#7201a8"
             ],
             [
              0.3333333333333333,
              "#9c179e"
             ],
             [
              0.4444444444444444,
              "#bd3786"
             ],
             [
              0.5555555555555556,
              "#d8576b"
             ],
             [
              0.6666666666666666,
              "#ed7953"
             ],
             [
              0.7777777777777778,
              "#fb9f3a"
             ],
             [
              0.8888888888888888,
              "#fdca26"
             ],
             [
              1,
              "#f0f921"
             ]
            ],
            "type": "surface"
           }
          ],
          "table": [
           {
            "cells": {
             "fill": {
              "color": "#EBF0F8"
             },
             "line": {
              "color": "white"
             }
            },
            "header": {
             "fill": {
              "color": "#C8D4E3"
             },
             "line": {
              "color": "white"
             }
            },
            "type": "table"
           }
          ]
         },
         "layout": {
          "annotationdefaults": {
           "arrowcolor": "#2a3f5f",
           "arrowhead": 0,
           "arrowwidth": 1
          },
          "autotypenumbers": "strict",
          "coloraxis": {
           "colorbar": {
            "outlinewidth": 0,
            "ticks": ""
           }
          },
          "colorscale": {
           "diverging": [
            [
             0,
             "#8e0152"
            ],
            [
             0.1,
             "#c51b7d"
            ],
            [
             0.2,
             "#de77ae"
            ],
            [
             0.3,
             "#f1b6da"
            ],
            [
             0.4,
             "#fde0ef"
            ],
            [
             0.5,
             "#f7f7f7"
            ],
            [
             0.6,
             "#e6f5d0"
            ],
            [
             0.7,
             "#b8e186"
            ],
            [
             0.8,
             "#7fbc41"
            ],
            [
             0.9,
             "#4d9221"
            ],
            [
             1,
             "#276419"
            ]
           ],
           "sequential": [
            [
             0,
             "#0d0887"
            ],
            [
             0.1111111111111111,
             "#46039f"
            ],
            [
             0.2222222222222222,
             "#7201a8"
            ],
            [
             0.3333333333333333,
             "#9c179e"
            ],
            [
             0.4444444444444444,
             "#bd3786"
            ],
            [
             0.5555555555555556,
             "#d8576b"
            ],
            [
             0.6666666666666666,
             "#ed7953"
            ],
            [
             0.7777777777777778,
             "#fb9f3a"
            ],
            [
             0.8888888888888888,
             "#fdca26"
            ],
            [
             1,
             "#f0f921"
            ]
           ],
           "sequentialminus": [
            [
             0,
             "#0d0887"
            ],
            [
             0.1111111111111111,
             "#46039f"
            ],
            [
             0.2222222222222222,
             "#7201a8"
            ],
            [
             0.3333333333333333,
             "#9c179e"
            ],
            [
             0.4444444444444444,
             "#bd3786"
            ],
            [
             0.5555555555555556,
             "#d8576b"
            ],
            [
             0.6666666666666666,
             "#ed7953"
            ],
            [
             0.7777777777777778,
             "#fb9f3a"
            ],
            [
             0.8888888888888888,
             "#fdca26"
            ],
            [
             1,
             "#f0f921"
            ]
           ]
          },
          "colorway": [
           "#636efa",
           "#EF553B",
           "#00cc96",
           "#ab63fa",
           "#FFA15A",
           "#19d3f3",
           "#FF6692",
           "#B6E880",
           "#FF97FF",
           "#FECB52"
          ],
          "font": {
           "color": "#2a3f5f"
          },
          "geo": {
           "bgcolor": "white",
           "lakecolor": "white",
           "landcolor": "#E5ECF6",
           "showlakes": true,
           "showland": true,
           "subunitcolor": "white"
          },
          "hoverlabel": {
           "align": "left"
          },
          "hovermode": "closest",
          "mapbox": {
           "style": "light"
          },
          "paper_bgcolor": "white",
          "plot_bgcolor": "#E5ECF6",
          "polar": {
           "angularaxis": {
            "gridcolor": "white",
            "linecolor": "white",
            "ticks": ""
           },
           "bgcolor": "#E5ECF6",
           "radialaxis": {
            "gridcolor": "white",
            "linecolor": "white",
            "ticks": ""
           }
          },
          "scene": {
           "xaxis": {
            "backgroundcolor": "#E5ECF6",
            "gridcolor": "white",
            "gridwidth": 2,
            "linecolor": "white",
            "showbackground": true,
            "ticks": "",
            "zerolinecolor": "white"
           },
           "yaxis": {
            "backgroundcolor": "#E5ECF6",
            "gridcolor": "white",
            "gridwidth": 2,
            "linecolor": "white",
            "showbackground": true,
            "ticks": "",
            "zerolinecolor": "white"
           },
           "zaxis": {
            "backgroundcolor": "#E5ECF6",
            "gridcolor": "white",
            "gridwidth": 2,
            "linecolor": "white",
            "showbackground": true,
            "ticks": "",
            "zerolinecolor": "white"
           }
          },
          "shapedefaults": {
           "line": {
            "color": "#2a3f5f"
           }
          },
          "ternary": {
           "aaxis": {
            "gridcolor": "white",
            "linecolor": "white",
            "ticks": ""
           },
           "baxis": {
            "gridcolor": "white",
            "linecolor": "white",
            "ticks": ""
           },
           "bgcolor": "#E5ECF6",
           "caxis": {
            "gridcolor": "white",
            "linecolor": "white",
            "ticks": ""
           }
          },
          "title": {
           "x": 0.05
          },
          "xaxis": {
           "automargin": true,
           "gridcolor": "white",
           "linecolor": "white",
           "ticks": "",
           "title": {
            "standoff": 15
           },
           "zerolinecolor": "white",
           "zerolinewidth": 2
          },
          "yaxis": {
           "automargin": true,
           "gridcolor": "white",
           "linecolor": "white",
           "ticks": "",
           "title": {
            "standoff": 15
           },
           "zerolinecolor": "white",
           "zerolinewidth": 2
          }
         }
        },
        "width": 1350,
        "xaxis": {
         "anchor": "y",
         "domain": [
          0,
          1
         ],
         "nticks": 40,
         "title": {
          "text": "OAA"
         }
        },
        "yaxis": {
         "anchor": "x",
         "domain": [
          0,
          1
         ],
         "nticks": 20,
         "title": {
          "text": "wRC+"
         }
        }
       }
      }
     },
     "metadata": {},
     "output_type": "display_data"
    }
   ],
   "source": [
    "fig1 = px.scatter(\n",
    "    merged_df, x=\"OAA\", y=\"wRC+\",\n",
    "    color=\"WAR\",\n",
    "    hover_name=\"Name\",\n",
    "    hover_data=[\"PA\"],\n",
    "    color_continuous_scale=px.colors.diverging.Tropic,\n",
    "    width=1350, height=750,\n",
    "\n",
    ")\n",
    "\n",
    "fig1.update_traces(marker_line_width=2, marker_size=10)\n",
    "fig1.update_yaxes(nticks=20)\n",
    "fig1.update_xaxes(nticks=40)\n",
    "\n",
    "# Good hitting and defense\n",
    "fig1.add_shape(\n",
    "    x0=merged_df[\"OAA\"].quantile(q=0.8), \n",
    "    y0=merged_df[\"wRC+\"].quantile(q=0.8),\n",
    "    x1=merged_df[\"OAA\"].quantile(q=1),\n",
    "    y1=merged_df[\"wRC+\"].quantile(q=1),\n",
    "    line=dict(color=\"LightSeaGreen\", width=2, dash=\"dot\"),\n",
    ")\n",
    "fig1.add_annotation(\n",
    "    x=merged_df[\"OAA\"].quantile(q=0.99),\n",
    "    y=merged_df[\"wRC+\"].quantile(q=.99),\n",
    "    text=\"Great Hitting and Defense\",\n",
    "    showarrow=False,\n",
    "    font=dict(\n",
    "        family=\"arial\",\n",
    "        size=18,\n",
    "        color=\"black\"\n",
    "    )\n",
    "    )\n",
    "\n",
    "# Bad hitting and defense\n",
    "fig1.add_shape(\n",
    "    x0=merged_df[\"OAA\"].quantile(q=0), \n",
    "    y0=merged_df[\"wRC+\"].quantile(q=0),\n",
    "    x1=merged_df[\"OAA\"].quantile(q=0.2),\n",
    "    y1=merged_df[\"wRC+\"].quantile(q=0.2),\n",
    "    line=dict(color=\"#EF553B\", width=2, dash=\"dot\")\n",
    ")\n",
    "fig1.add_annotation(\n",
    "    x=merged_df[\"OAA\"].quantile(q=0.01), \n",
    "    y=merged_df[\"wRC+\"].quantile(q=0.01),\n",
    "    text=\"Terrible Hitting and Defense\",\n",
    "    showarrow=False,\n",
    "    font=dict(\n",
    "        family=\"arial\",\n",
    "        size=18,\n",
    "        color=\"black\"\n",
    "    )\n",
    "    )\n",
    "\n",
    "\n",
    "# Medians\n",
    "fig1.add_hline(y=np.mean(merged_df[\"wRC+\"]), line_dash=\"dot\", row=\"all\", col=\"all\",\n",
    "              annotation_text=\"Median wRC+\", \n",
    "              annotation_position=\"bottom right\")\n",
    "\n",
    "fig1.add_vline(x=np.mean(merged_df[\"OAA\"]), line_dash=\"dot\", row=\"all\", col=\"all\",\n",
    "              annotation_text=\"Median OAA\", \n",
    "              annotation_position=\"bottom right\")\n",
    "\n",
    "\n",
    "\n",
    "\n",
    "\n",
    "\n",
    "fig1\n"
   ]
  },
  {
   "cell_type": "code",
   "execution_count": 253,
   "metadata": {},
   "outputs": [
    {
     "data": {
      "text/plain": [
       "count    307.000000\n",
       "mean       0.078176\n",
       "std        5.878432\n",
       "min      -18.000000\n",
       "25%       -4.000000\n",
       "50%        0.000000\n",
       "75%        3.000000\n",
       "max       25.000000\n",
       "Name: OAA, dtype: float64"
      ]
     },
     "execution_count": 253,
     "metadata": {},
     "output_type": "execute_result"
    }
   ],
   "source": [
    "merged_df[\"OAA\"].describe()"
   ]
  },
  {
   "cell_type": "markdown",
   "metadata": {},
   "source": [
    "#### Really interesting to see the difference in this graph and the one that uses defensive WAR\n",
    "#### Main difference being that the def War graph will give bad defenders a high score if they play a difficult position so SS and Catchers will be highly rated. \n",
    "#### OAA will compare within the position so bad defenders at hard positions will still have a low OAA - this is why Bogaerts' position on the graphs is so different"
   ]
  },
  {
   "cell_type": "markdown",
   "metadata": {},
   "source": [
    "## Hitting vs Defence for each position"
   ]
  },
  {
   "cell_type": "code",
   "execution_count": 254,
   "metadata": {},
   "outputs": [],
   "source": [
    "'''Lowering the qualified PA from 200 to 100'''\n",
    "hitting_df = pb.batting_stats(2021, qual=100)"
   ]
  },
  {
   "cell_type": "code",
   "execution_count": 255,
   "metadata": {},
   "outputs": [],
   "source": [
    "hitting_df = (\n",
    "    hitting_df\n",
    "     .pipe(lambda df: df[[\"IDfg\", \"Name\", \"Team\", 'G', 'PA', 'OPS', 'Dol', 'Spd','Off', 'WAR', 'wRC+', 'Def', 'BsR']]) # just getting the columns we need\n",
    ")"
   ]
  },
  {
   "cell_type": "code",
   "execution_count": 256,
   "metadata": {},
   "outputs": [],
   "source": [
    "'''Forming the plotting table again'''\n",
    "merged_df = pd.merge(hitting_df, oaa[['Name', 'primary_pos_formatted', 'outs_above_average']], on='Name', how='left')\n",
    "merged_df.sort_values(by=['outs_above_average'], ascending=False, ignore_index=True, inplace=True)\n",
    "merged_df.rename(columns={\"primary_pos_formatted\": \"POS\", \"outs_above_average\": 'OAA'},inplace=True)"
   ]
  },
  {
   "cell_type": "markdown",
   "metadata": {},
   "source": [
    "### Going to loop through each position to create a df for each"
   ]
  },
  {
   "cell_type": "code",
   "execution_count": 257,
   "metadata": {},
   "outputs": [
    {
     "data": {
      "text/plain": [
       "['SS_df', '3B_df', 'CF_df', '2B_df', 'RF_df', 'LF_df', '1B_df']"
      ]
     },
     "execution_count": 257,
     "metadata": {},
     "output_type": "execute_result"
    }
   ],
   "source": [
    "positions = list(merged_df['POS'].unique())\n",
    "position_df = []\n",
    "for position in positions:\n",
    "    position_df.append(str(position)+\"_df\") \n",
    "position_df.pop()\n",
    "position_df"
   ]
  },
  {
   "cell_type": "code",
   "execution_count": 258,
   "metadata": {},
   "outputs": [],
   "source": [
    "for i in range(0, len(position_df)):\n",
    "    position_df[i] = merged_df[merged_df[\"POS\"] == f'{str(positions[i])}']\n",
    "    # print(position_df[i])\n",
    "    # print(f'{str(positions[i])}')\n",
    "\n"
   ]
  },
  {
   "cell_type": "markdown",
   "metadata": {},
   "source": [
    "### Would save loads of time to just make this graph a function"
   ]
  },
  {
   "cell_type": "code",
   "execution_count": 259,
   "metadata": {},
   "outputs": [],
   "source": [
    "def make_scatter(dataframe, x_val:str, y_val:str, colour_val:str, hover_name= \"Name\", hover_data_1=\"Team\", hover_data_2=\"PA\"):\n",
    "\n",
    "    fig1 = px.scatter(\n",
    "        dataframe, x=f\"{x_val}\", y=f\"{y_val}\",\n",
    "        color=colour_val,\n",
    "        hover_name=hover_name,\n",
    "        hover_data=[hover_data_1, hover_data_2],\n",
    "        color_continuous_scale=px.colors.diverging.Tropic,\n",
    "        width=1350, height=700,\n",
    "        title=f'{x_val} vs {y_val} for {str(dataframe[\"POS\"].mode())[5:7]}'\n",
    "\n",
    "    )\n",
    "\n",
    "    fig1.update_traces(marker_line_width=2, marker_size=10)\n",
    "    fig1.update_yaxes(nticks=20)\n",
    "    fig1.update_xaxes(nticks=40)\n",
    "\n",
    "    # Good hitting and defense\n",
    "    fig1.add_shape(\n",
    "        x0=dataframe[x_val].quantile(q=0.75), \n",
    "        y0=dataframe[y_val].quantile(q=0.75),\n",
    "        x1=dataframe[x_val].quantile(q=1),\n",
    "        y1=dataframe[y_val].quantile(q=1),\n",
    "        line=dict(color=\"LightSeaGreen\", width=2, dash=\"dot\"),\n",
    "    )\n",
    "    # fig1.add_annotation(\n",
    "    #     x=dataframe[x_val].quantile(q=0.99),\n",
    "    #     y=dataframe[y_val].quantile(q=.99),\n",
    "    #     text=\"Great Hitting and Defense\",\n",
    "    #     showarrow=False,\n",
    "    #     font=dict(\n",
    "    #         family=\"arial\",\n",
    "    #         size=18,\n",
    "    #         color=\"black\"\n",
    "    #     )\n",
    "    #     )\n",
    "\n",
    "    # Bad hitting and defense\n",
    "    fig1.add_shape(\n",
    "        x0=dataframe[x_val].quantile(q=0), \n",
    "        y0=dataframe[y_val].quantile(q=0),\n",
    "        x1=dataframe[x_val].quantile(q=0.25),\n",
    "        y1=dataframe[y_val].quantile(q=0.25),\n",
    "        line=dict(color=\"#EF553B\", width=2, dash=\"dot\")\n",
    "    )\n",
    "    # fig1.add_annotation(\n",
    "    #     x=dataframe[x_val].quantile(q=0.01), \n",
    "    #     y=dataframe[y_val].quantile(q=0.01),\n",
    "    #     text=\"Terrible Hitting and Defense\",\n",
    "    #     showarrow=False,\n",
    "    #     font=dict(\n",
    "    #         family=\"arial\",\n",
    "    #         size=18,\n",
    "    #         color=\"black\"\n",
    "    #     )\n",
    "    #     )\n",
    "\n",
    "\n",
    "    # Means\n",
    "    fig1.add_hline(y=np.mean(dataframe[y_val]), line_dash=\"dot\", row=\"all\", col=\"all\",\n",
    "                annotation_text=f\"Mean {y_val}\", \n",
    "                annotation_position=\"bottom right\")\n",
    "\n",
    "    fig1.add_vline(x=np.mean(dataframe[x_val]), line_dash=\"dot\", row=\"all\", col=\"all\",\n",
    "                annotation_text=f\"Mean {x_val}\", \n",
    "                annotation_position=\"bottom right\")\n",
    "    return fig1\n"
   ]
  },
  {
   "cell_type": "code",
   "execution_count": 260,
   "metadata": {},
   "outputs": [],
   "source": [
    "ss_plot = make_scatter(position_df[0], \"OAA\", \"wRC+\", \"WAR\")\n",
    "thirdbase_plot = make_scatter(position_df[1], \"OAA\", \"wRC+\", \"WAR\")\n",
    "cf_plot = make_scatter(position_df[2], \"OAA\", \"wRC+\", \"WAR\")\n",
    "secondbase_plot = make_scatter(position_df[3], \"OAA\", \"wRC+\", \"WAR\")\n",
    "rf_plot = make_scatter(position_df[4], \"OAA\", \"wRC+\", \"WAR\")\n",
    "lf_plot = make_scatter(position_df[5], \"OAA\", \"wRC+\", \"WAR\")\n",
    "firstbase_plot = make_scatter(position_df[6], \"OAA\", \"wRC+\", \"WAR\")\n"
   ]
  },
  {
   "cell_type": "markdown",
   "metadata": {},
   "source": [
    "## Outfield "
   ]
  },
  {
   "cell_type": "code",
   "execution_count": 261,
   "metadata": {},
   "outputs": [
    {
     "data": {
      "application/vnd.plotly.v1+json": {
       "config": {
        "plotlyServerURL": "https://plot.ly"
       },
       "data": [
        {
         "customdata": [
          [
           "TBR",
           464
          ],
          [
           "KCR",
           528
          ],
          [
           "STL",
           401
          ],
          [
           "- - -",
           638
          ],
          [
           "HOU",
           320
          ],
          [
           "TEX",
           622
          ],
          [
           "TBR",
           390
          ],
          [
           "TBR",
           292
          ],
          [
           "PIT",
           646
          ],
          [
           "CLE",
           348
          ],
          [
           "MIN",
           254
          ],
          [
           "PHI",
           492
          ],
          [
           "SDP",
           527
          ],
          [
           "HOU",
           163
          ],
          [
           "ATL",
           347
          ],
          [
           "TEX",
           185
          ],
          [
           "MIL",
           286
          ],
          [
           "ARI",
           315
          ],
          [
           "- - -",
           198
          ],
          [
           "NYM",
           386
          ],
          [
           "MIL",
           428
          ],
          [
           "CHW",
           296
          ],
          [
           "- - -",
           149
          ],
          [
           "- - -",
           526
          ],
          [
           "- - -",
           240
          ],
          [
           "CHW",
           140
          ],
          [
           "COL",
           331
          ],
          [
           "PHI",
           157
          ],
          [
           "CHW",
           135
          ],
          [
           "DET",
           150
          ],
          [
           "CLE",
           238
          ],
          [
           "LAD",
           350
          ],
          [
           "- - -",
           103
          ],
          [
           "LAA",
           327
          ],
          [
           "MIA",
           225
          ],
          [
           "SEA",
           178
          ],
          [
           "OAK",
           625
          ],
          [
           "CIN",
           183
          ],
          [
           "COL",
           238
          ],
          [
           "WSN",
           369
          ],
          [
           "SFG",
           297
          ],
          [
           "LAA",
           260
          ],
          [
           "DET",
           105
          ],
          [
           "NYY",
           126
          ],
          [
           "MIA",
           290
          ],
          [
           "CIN",
           124
          ],
          [
           "TOR",
           342
          ],
          [
           "LAA",
           146
          ],
          [
           "- - -",
           156
          ],
          [
           "SEA",
           147
          ],
          [
           "BOS",
           127
          ],
          [
           "ATL",
           360
          ],
          [
           "MIN",
           178
          ],
          [
           "TOR",
           545
          ],
          [
           "CHC",
           330
          ],
          [
           "DET",
           461
          ],
          [
           "MIA",
           219
          ],
          [
           "NYM",
           347
          ],
          [
           "OAK",
           378
          ],
          [
           "SEA",
           377
          ],
          [
           "DET",
           220
          ],
          [
           "CHW",
           474
          ],
          [
           "PHI",
           574
          ],
          [
           "- - -",
           264
          ],
          [
           "MIN",
           216
          ],
          [
           "CHW",
           271
          ],
          [
           "CIN",
           454
          ],
          [
           "- - -",
           481
          ],
          [
           "CHC",
           535
          ],
          [
           "COL",
           582
          ]
         ],
         "hovertemplate": "<b>%{hovertext}</b><br><br>OAA=%{x}<br>wRC+=%{y}<br>Team=%{customdata[0]}<br>PA=%{customdata[1]}<br>WAR=%{marker.color}<extra></extra>",
         "hovertext": [
          "Manuel Margot",
          "Michael A. Taylor",
          "Harrison Bader",
          "Myles Straw",
          "Chas McCormick",
          "Adolis Garcia",
          "Kevin Kiermaier",
          "Brett Phillips",
          "Bryan Reynolds",
          "Bradley Zimmer",
          "Byron Buxton",
          "Odubel Herrera",
          "Trent Grisham",
          "Jake Meyers",
          "Guillermo Heredia",
          "Leody Taveras",
          "Lorenzo Cain",
          "Daulton Varsho",
          "Jake Marisnick",
          "Brandon Nimmo",
          "Jackie Bradley Jr.",
          "Luis Robert",
          "Jarrod Dyson",
          "Starling Marte",
          "DJ Peters",
          "Adam Engel",
          "Yonathan Daza",
          "Travis Jankowski",
          "Billy Hamilton",
          "Derek Hill",
          "Oscar Mercado",
          "Cody Bellinger",
          "Jonathan Davis",
          "Juan Lagares",
          "Magneuris Sierra",
          "Taylor Trammell",
          "Mark Canha",
          "Shogo Akiyama",
          "Sam Hilliard",
          "Victor Robles",
          "Steven Duggar",
          "Brandon Marsh",
          "JaCoby Jones",
          "Aaron Hicks",
          "Lewis Brinson",
          "Nick Senzel",
          "George Springer",
          "Mike Trout",
          "Tim Locastro",
          "Kyle Lewis",
          "Danny Santana",
          "Ronald Acuna Jr.",
          "Jake Cave",
          "Randal Grichuk",
          "Rafael Ortega",
          "Akil Baddoo",
          "Bryan De La Cruz",
          "Kevin Pillar",
          "Ramon Laureano",
          "Jarred Kelenic",
          "Victor Reyes",
          "Leury Garcia",
          "Andrew McCutchen",
          "Lane Thomas",
          "Nick Gordon",
          "Brian Goodwin",
          "Tyler Naquin",
          "Joc Pederson",
          "Ian Happ",
          "Charlie Blackmon"
         ],
         "legendgroup": "",
         "marker": {
          "color": [
           1.4,
           1.9,
           3.4,
           3.7,
           1.9,
           2.9,
           2.5,
           1.8,
           5.5,
           1.1,
           4.2,
           1.1,
           2.1,
           1.1,
           0.5,
           0.1,
           1.8,
           2,
           -0.2,
           3.5,
           -0.8,
           3.2,
           -0.2,
           5.5,
           0.3,
           1.2,
           0.5,
           0.4,
           0.3,
           0.3,
           0.6,
           -0.8,
           -0.4,
           -0.3,
           -0.2,
           -0.1,
           2.6,
           -0.5,
           0.5,
           -0.5,
           2.1,
           1,
           -1,
           0.1,
           -0.2,
           -0.1,
           2.4,
           2.3,
           -0.7,
           0.3,
           -0.2,
           4.2,
           -0.3,
           0.4,
           1.6,
           1.9,
           0.8,
           0.7,
           2.1,
           -0.7,
           0.3,
           2,
           1.2,
           0.5,
           0.1,
           0.2,
           1.4,
           0.6,
           1.3,
           1.5
          ],
          "coloraxis": "coloraxis",
          "line": {
           "width": 2
          },
          "size": 10,
          "symbol": "circle"
         },
         "mode": "markers",
         "name": "",
         "orientation": "v",
         "showlegend": false,
         "type": "scatter",
         "x": [
          16,
          14,
          13,
          11,
          11,
          11,
          11,
          10,
          10,
          8,
          7,
          6,
          6,
          5,
          5,
          5,
          5,
          4,
          4,
          4,
          4,
          4,
          4,
          3,
          3,
          3,
          3,
          2,
          2,
          2,
          2,
          2,
          2,
          2,
          2,
          2,
          2,
          1,
          1,
          1,
          1,
          1,
          1,
          1,
          1,
          1,
          1,
          1,
          0,
          0,
          0,
          0,
          -1,
          -1,
          -1,
          -1,
          -1,
          -1,
          -2,
          -2,
          -2,
          -2,
          -3,
          -3,
          -3,
          -5,
          -6,
          -6,
          -6,
          -8
         ],
         "xaxis": "x",
         "y": [
          95,
          77,
          110,
          98,
          109,
          100,
          101,
          103,
          142,
          89,
          169,
          93,
          103,
          111,
          79,
          29,
          97,
          98,
          78,
          137,
          35,
          157,
          48,
          134,
          71,
          127,
          75,
          93,
          64,
          92,
          85,
          48,
          25,
          71,
          51,
          73,
          115,
          44,
          85,
          67,
          107,
          86,
          24,
          76,
          74,
          72,
          140,
          190,
          44,
          107,
          58,
          157,
          49,
          85,
          120,
          108,
          115,
          90,
          111,
          73,
          88,
          98,
          107,
          103,
          77,
          94,
          110,
          94,
          103,
          94
         ],
         "yaxis": "y"
        }
       ],
       "layout": {
        "annotations": [
         {
          "showarrow": false,
          "text": "Mean wRC+",
          "x": 1,
          "xanchor": "right",
          "xref": "x domain",
          "y": 91.88571428571429,
          "yanchor": "top",
          "yref": "y"
         },
         {
          "showarrow": false,
          "text": "Mean OAA",
          "x": 2.3857142857142857,
          "xanchor": "left",
          "xref": "x",
          "y": 0,
          "yanchor": "bottom",
          "yref": "y domain"
         }
        ],
        "coloraxis": {
         "colorbar": {
          "title": {
           "text": "WAR"
          }
         },
         "colorscale": [
          [
           0,
           "rgb(0, 155, 158)"
          ],
          [
           0.16666666666666666,
           "rgb(66, 183, 185)"
          ],
          [
           0.3333333333333333,
           "rgb(167, 211, 212)"
          ],
          [
           0.5,
           "rgb(241, 241, 241)"
          ],
          [
           0.6666666666666666,
           "rgb(228, 193, 217)"
          ],
          [
           0.8333333333333334,
           "rgb(214, 145, 193)"
          ],
          [
           1,
           "rgb(199, 93, 171)"
          ]
         ]
        },
        "height": 700,
        "legend": {
         "tracegroupgap": 0
        },
        "shapes": [
         {
          "line": {
           "color": "LightSeaGreen",
           "dash": "dot",
           "width": 2
          },
          "x0": 4,
          "x1": 16,
          "y0": 107.75,
          "y1": 190
         },
         {
          "line": {
           "color": "#EF553B",
           "dash": "dot",
           "width": 2
          },
          "x0": -8,
          "x1": -0.75,
          "y0": 24,
          "y1": 73.25
         },
         {
          "line": {
           "dash": "dot"
          },
          "type": "line",
          "x0": 0,
          "x1": 1,
          "xref": "x domain",
          "y0": 91.88571428571429,
          "y1": 91.88571428571429,
          "yref": "y"
         },
         {
          "line": {
           "dash": "dot"
          },
          "type": "line",
          "x0": 2.3857142857142857,
          "x1": 2.3857142857142857,
          "xref": "x",
          "y0": 0,
          "y1": 1,
          "yref": "y domain"
         }
        ],
        "template": {
         "data": {
          "bar": [
           {
            "error_x": {
             "color": "#2a3f5f"
            },
            "error_y": {
             "color": "#2a3f5f"
            },
            "marker": {
             "line": {
              "color": "#E5ECF6",
              "width": 0.5
             },
             "pattern": {
              "fillmode": "overlay",
              "size": 10,
              "solidity": 0.2
             }
            },
            "type": "bar"
           }
          ],
          "barpolar": [
           {
            "marker": {
             "line": {
              "color": "#E5ECF6",
              "width": 0.5
             },
             "pattern": {
              "fillmode": "overlay",
              "size": 10,
              "solidity": 0.2
             }
            },
            "type": "barpolar"
           }
          ],
          "carpet": [
           {
            "aaxis": {
             "endlinecolor": "#2a3f5f",
             "gridcolor": "white",
             "linecolor": "white",
             "minorgridcolor": "white",
             "startlinecolor": "#2a3f5f"
            },
            "baxis": {
             "endlinecolor": "#2a3f5f",
             "gridcolor": "white",
             "linecolor": "white",
             "minorgridcolor": "white",
             "startlinecolor": "#2a3f5f"
            },
            "type": "carpet"
           }
          ],
          "choropleth": [
           {
            "colorbar": {
             "outlinewidth": 0,
             "ticks": ""
            },
            "type": "choropleth"
           }
          ],
          "contour": [
           {
            "colorbar": {
             "outlinewidth": 0,
             "ticks": ""
            },
            "colorscale": [
             [
              0,
              "#0d0887"
             ],
             [
              0.1111111111111111,
              "#46039f"
             ],
             [
              0.2222222222222222,
              "#7201a8"
             ],
             [
              0.3333333333333333,
              "#9c179e"
             ],
             [
              0.4444444444444444,
              "#bd3786"
             ],
             [
              0.5555555555555556,
              "#d8576b"
             ],
             [
              0.6666666666666666,
              "#ed7953"
             ],
             [
              0.7777777777777778,
              "#fb9f3a"
             ],
             [
              0.8888888888888888,
              "#fdca26"
             ],
             [
              1,
              "#f0f921"
             ]
            ],
            "type": "contour"
           }
          ],
          "contourcarpet": [
           {
            "colorbar": {
             "outlinewidth": 0,
             "ticks": ""
            },
            "type": "contourcarpet"
           }
          ],
          "heatmap": [
           {
            "colorbar": {
             "outlinewidth": 0,
             "ticks": ""
            },
            "colorscale": [
             [
              0,
              "#0d0887"
             ],
             [
              0.1111111111111111,
              "#46039f"
             ],
             [
              0.2222222222222222,
              "#7201a8"
             ],
             [
              0.3333333333333333,
              "#9c179e"
             ],
             [
              0.4444444444444444,
              "#bd3786"
             ],
             [
              0.5555555555555556,
              "#d8576b"
             ],
             [
              0.6666666666666666,
              "#ed7953"
             ],
             [
              0.7777777777777778,
              "#fb9f3a"
             ],
             [
              0.8888888888888888,
              "#fdca26"
             ],
             [
              1,
              "#f0f921"
             ]
            ],
            "type": "heatmap"
           }
          ],
          "heatmapgl": [
           {
            "colorbar": {
             "outlinewidth": 0,
             "ticks": ""
            },
            "colorscale": [
             [
              0,
              "#0d0887"
             ],
             [
              0.1111111111111111,
              "#46039f"
             ],
             [
              0.2222222222222222,
              "#7201a8"
             ],
             [
              0.3333333333333333,
              "#9c179e"
             ],
             [
              0.4444444444444444,
              "#bd3786"
             ],
             [
              0.5555555555555556,
              "#d8576b"
             ],
             [
              0.6666666666666666,
              "#ed7953"
             ],
             [
              0.7777777777777778,
              "#fb9f3a"
             ],
             [
              0.8888888888888888,
              "#fdca26"
             ],
             [
              1,
              "#f0f921"
             ]
            ],
            "type": "heatmapgl"
           }
          ],
          "histogram": [
           {
            "marker": {
             "pattern": {
              "fillmode": "overlay",
              "size": 10,
              "solidity": 0.2
             }
            },
            "type": "histogram"
           }
          ],
          "histogram2d": [
           {
            "colorbar": {
             "outlinewidth": 0,
             "ticks": ""
            },
            "colorscale": [
             [
              0,
              "#0d0887"
             ],
             [
              0.1111111111111111,
              "#46039f"
             ],
             [
              0.2222222222222222,
              "#7201a8"
             ],
             [
              0.3333333333333333,
              "#9c179e"
             ],
             [
              0.4444444444444444,
              "#bd3786"
             ],
             [
              0.5555555555555556,
              "#d8576b"
             ],
             [
              0.6666666666666666,
              "#ed7953"
             ],
             [
              0.7777777777777778,
              "#fb9f3a"
             ],
             [
              0.8888888888888888,
              "#fdca26"
             ],
             [
              1,
              "#f0f921"
             ]
            ],
            "type": "histogram2d"
           }
          ],
          "histogram2dcontour": [
           {
            "colorbar": {
             "outlinewidth": 0,
             "ticks": ""
            },
            "colorscale": [
             [
              0,
              "#0d0887"
             ],
             [
              0.1111111111111111,
              "#46039f"
             ],
             [
              0.2222222222222222,
              "#7201a8"
             ],
             [
              0.3333333333333333,
              "#9c179e"
             ],
             [
              0.4444444444444444,
              "#bd3786"
             ],
             [
              0.5555555555555556,
              "#d8576b"
             ],
             [
              0.6666666666666666,
              "#ed7953"
             ],
             [
              0.7777777777777778,
              "#fb9f3a"
             ],
             [
              0.8888888888888888,
              "#fdca26"
             ],
             [
              1,
              "#f0f921"
             ]
            ],
            "type": "histogram2dcontour"
           }
          ],
          "mesh3d": [
           {
            "colorbar": {
             "outlinewidth": 0,
             "ticks": ""
            },
            "type": "mesh3d"
           }
          ],
          "parcoords": [
           {
            "line": {
             "colorbar": {
              "outlinewidth": 0,
              "ticks": ""
             }
            },
            "type": "parcoords"
           }
          ],
          "pie": [
           {
            "automargin": true,
            "type": "pie"
           }
          ],
          "scatter": [
           {
            "marker": {
             "colorbar": {
              "outlinewidth": 0,
              "ticks": ""
             }
            },
            "type": "scatter"
           }
          ],
          "scatter3d": [
           {
            "line": {
             "colorbar": {
              "outlinewidth": 0,
              "ticks": ""
             }
            },
            "marker": {
             "colorbar": {
              "outlinewidth": 0,
              "ticks": ""
             }
            },
            "type": "scatter3d"
           }
          ],
          "scattercarpet": [
           {
            "marker": {
             "colorbar": {
              "outlinewidth": 0,
              "ticks": ""
             }
            },
            "type": "scattercarpet"
           }
          ],
          "scattergeo": [
           {
            "marker": {
             "colorbar": {
              "outlinewidth": 0,
              "ticks": ""
             }
            },
            "type": "scattergeo"
           }
          ],
          "scattergl": [
           {
            "marker": {
             "colorbar": {
              "outlinewidth": 0,
              "ticks": ""
             }
            },
            "type": "scattergl"
           }
          ],
          "scattermapbox": [
           {
            "marker": {
             "colorbar": {
              "outlinewidth": 0,
              "ticks": ""
             }
            },
            "type": "scattermapbox"
           }
          ],
          "scatterpolar": [
           {
            "marker": {
             "colorbar": {
              "outlinewidth": 0,
              "ticks": ""
             }
            },
            "type": "scatterpolar"
           }
          ],
          "scatterpolargl": [
           {
            "marker": {
             "colorbar": {
              "outlinewidth": 0,
              "ticks": ""
             }
            },
            "type": "scatterpolargl"
           }
          ],
          "scatterternary": [
           {
            "marker": {
             "colorbar": {
              "outlinewidth": 0,
              "ticks": ""
             }
            },
            "type": "scatterternary"
           }
          ],
          "surface": [
           {
            "colorbar": {
             "outlinewidth": 0,
             "ticks": ""
            },
            "colorscale": [
             [
              0,
              "#0d0887"
             ],
             [
              0.1111111111111111,
              "#46039f"
             ],
             [
              0.2222222222222222,
              "#7201a8"
             ],
             [
              0.3333333333333333,
              "#9c179e"
             ],
             [
              0.4444444444444444,
              "#bd3786"
             ],
             [
              0.5555555555555556,
              "#d8576b"
             ],
             [
              0.6666666666666666,
              "#ed7953"
             ],
             [
              0.7777777777777778,
              "#fb9f3a"
             ],
             [
              0.8888888888888888,
              "#fdca26"
             ],
             [
              1,
              "#f0f921"
             ]
            ],
            "type": "surface"
           }
          ],
          "table": [
           {
            "cells": {
             "fill": {
              "color": "#EBF0F8"
             },
             "line": {
              "color": "white"
             }
            },
            "header": {
             "fill": {
              "color": "#C8D4E3"
             },
             "line": {
              "color": "white"
             }
            },
            "type": "table"
           }
          ]
         },
         "layout": {
          "annotationdefaults": {
           "arrowcolor": "#2a3f5f",
           "arrowhead": 0,
           "arrowwidth": 1
          },
          "autotypenumbers": "strict",
          "coloraxis": {
           "colorbar": {
            "outlinewidth": 0,
            "ticks": ""
           }
          },
          "colorscale": {
           "diverging": [
            [
             0,
             "#8e0152"
            ],
            [
             0.1,
             "#c51b7d"
            ],
            [
             0.2,
             "#de77ae"
            ],
            [
             0.3,
             "#f1b6da"
            ],
            [
             0.4,
             "#fde0ef"
            ],
            [
             0.5,
             "#f7f7f7"
            ],
            [
             0.6,
             "#e6f5d0"
            ],
            [
             0.7,
             "#b8e186"
            ],
            [
             0.8,
             "#7fbc41"
            ],
            [
             0.9,
             "#4d9221"
            ],
            [
             1,
             "#276419"
            ]
           ],
           "sequential": [
            [
             0,
             "#0d0887"
            ],
            [
             0.1111111111111111,
             "#46039f"
            ],
            [
             0.2222222222222222,
             "#7201a8"
            ],
            [
             0.3333333333333333,
             "#9c179e"
            ],
            [
             0.4444444444444444,
             "#bd3786"
            ],
            [
             0.5555555555555556,
             "#d8576b"
            ],
            [
             0.6666666666666666,
             "#ed7953"
            ],
            [
             0.7777777777777778,
             "#fb9f3a"
            ],
            [
             0.8888888888888888,
             "#fdca26"
            ],
            [
             1,
             "#f0f921"
            ]
           ],
           "sequentialminus": [
            [
             0,
             "#0d0887"
            ],
            [
             0.1111111111111111,
             "#46039f"
            ],
            [
             0.2222222222222222,
             "#7201a8"
            ],
            [
             0.3333333333333333,
             "#9c179e"
            ],
            [
             0.4444444444444444,
             "#bd3786"
            ],
            [
             0.5555555555555556,
             "#d8576b"
            ],
            [
             0.6666666666666666,
             "#ed7953"
            ],
            [
             0.7777777777777778,
             "#fb9f3a"
            ],
            [
             0.8888888888888888,
             "#fdca26"
            ],
            [
             1,
             "#f0f921"
            ]
           ]
          },
          "colorway": [
           "#636efa",
           "#EF553B",
           "#00cc96",
           "#ab63fa",
           "#FFA15A",
           "#19d3f3",
           "#FF6692",
           "#B6E880",
           "#FF97FF",
           "#FECB52"
          ],
          "font": {
           "color": "#2a3f5f"
          },
          "geo": {
           "bgcolor": "white",
           "lakecolor": "white",
           "landcolor": "#E5ECF6",
           "showlakes": true,
           "showland": true,
           "subunitcolor": "white"
          },
          "hoverlabel": {
           "align": "left"
          },
          "hovermode": "closest",
          "mapbox": {
           "style": "light"
          },
          "paper_bgcolor": "white",
          "plot_bgcolor": "#E5ECF6",
          "polar": {
           "angularaxis": {
            "gridcolor": "white",
            "linecolor": "white",
            "ticks": ""
           },
           "bgcolor": "#E5ECF6",
           "radialaxis": {
            "gridcolor": "white",
            "linecolor": "white",
            "ticks": ""
           }
          },
          "scene": {
           "xaxis": {
            "backgroundcolor": "#E5ECF6",
            "gridcolor": "white",
            "gridwidth": 2,
            "linecolor": "white",
            "showbackground": true,
            "ticks": "",
            "zerolinecolor": "white"
           },
           "yaxis": {
            "backgroundcolor": "#E5ECF6",
            "gridcolor": "white",
            "gridwidth": 2,
            "linecolor": "white",
            "showbackground": true,
            "ticks": "",
            "zerolinecolor": "white"
           },
           "zaxis": {
            "backgroundcolor": "#E5ECF6",
            "gridcolor": "white",
            "gridwidth": 2,
            "linecolor": "white",
            "showbackground": true,
            "ticks": "",
            "zerolinecolor": "white"
           }
          },
          "shapedefaults": {
           "line": {
            "color": "#2a3f5f"
           }
          },
          "ternary": {
           "aaxis": {
            "gridcolor": "white",
            "linecolor": "white",
            "ticks": ""
           },
           "baxis": {
            "gridcolor": "white",
            "linecolor": "white",
            "ticks": ""
           },
           "bgcolor": "#E5ECF6",
           "caxis": {
            "gridcolor": "white",
            "linecolor": "white",
            "ticks": ""
           }
          },
          "title": {
           "x": 0.05
          },
          "xaxis": {
           "automargin": true,
           "gridcolor": "white",
           "linecolor": "white",
           "ticks": "",
           "title": {
            "standoff": 15
           },
           "zerolinecolor": "white",
           "zerolinewidth": 2
          },
          "yaxis": {
           "automargin": true,
           "gridcolor": "white",
           "linecolor": "white",
           "ticks": "",
           "title": {
            "standoff": 15
           },
           "zerolinecolor": "white",
           "zerolinewidth": 2
          }
         }
        },
        "title": {
         "text": "OAA vs wRC+ for CF"
        },
        "width": 1350,
        "xaxis": {
         "anchor": "y",
         "domain": [
          0,
          1
         ],
         "nticks": 40,
         "title": {
          "text": "OAA"
         }
        },
        "yaxis": {
         "anchor": "x",
         "domain": [
          0,
          1
         ],
         "nticks": 20,
         "title": {
          "text": "wRC+"
         }
        }
       }
      }
     },
     "metadata": {},
     "output_type": "display_data"
    }
   ],
   "source": [
    "cf_plot"
   ]
  },
  {
   "cell_type": "code",
   "execution_count": 262,
   "metadata": {},
   "outputs": [
    {
     "data": {
      "application/vnd.plotly.v1+json": {
       "config": {
        "plotlyServerURL": "https://plot.ly"
       },
       "data": [
        {
         "customdata": [
          [
           "TEX",
           220
          ],
          [
           "PIT",
           148
          ],
          [
           "SFG",
           312
          ],
          [
           "WSN",
           654
          ],
          [
           "BAL",
           197
          ],
          [
           "- - -",
           555
          ],
          [
           "- - -",
           191
          ],
          [
           "STL",
           537
          ],
          [
           "MIL",
           271
          ],
          [
           "COL",
           533
          ],
          [
           "ARI",
           538
          ],
          [
           "MIL",
           475
          ],
          [
           "- - -",
           365
          ],
          [
           "CHW",
           231
          ],
          [
           "MIN",
           157
          ],
          [
           "SEA",
           265
          ],
          [
           "MIN",
           301
          ],
          [
           "TBR",
           604
          ],
          [
           "BAL",
           616
          ],
          [
           "ATL",
           208
          ],
          [
           "TEX",
           154
          ],
          [
           "KCR",
           538
          ],
          [
           "NYY",
           461
          ],
          [
           "BAL",
           529
          ],
          [
           "- - -",
           412
          ],
          [
           "WSN",
           213
          ],
          [
           "HOU",
           598
          ],
          [
           "BOS",
           136
          ],
          [
           "COL",
           211
          ],
          [
           "- - -",
           133
          ],
          [
           "TEX",
           220
          ],
          [
           "DET",
           671
          ],
          [
           "TEX",
           284
          ],
          [
           "SEA",
           122
          ],
          [
           "ATL",
           175
          ],
          [
           "HOU",
           508
          ],
          [
           "TBR",
           591
          ],
          [
           "CLE",
           361
          ],
          [
           "SFG",
           312
          ],
          [
           "MIN",
           213
          ],
          [
           "SDP",
           561
          ],
          [
           "TOR",
           541
          ],
          [
           "BOS",
           604
          ],
          [
           "WSN",
           289
          ],
          [
           "CHW",
           469
          ],
          [
           "LAA",
           362
          ],
          [
           "CIN",
           485
          ],
          [
           "- - -",
           471
          ],
          [
           "NYM",
           493
          ],
          [
           "- - -",
           400
          ]
         ],
         "hovertemplate": "<b>%{hovertext}</b><br><br>OAA=%{x}<br>wRC+=%{y}<br>Team=%{customdata[0]}<br>PA=%{customdata[1]}<br>WAR=%{marker.color}<extra></extra>",
         "hovertext": [
          "Eli White",
          "Anthony Alford",
          "Darin Ruf",
          "Juan Soto",
          "Ryan McKenna",
          "Adam Duvall",
          "Mike Tauchman",
          "Tyler O'Neill",
          "Tyrone Taylor",
          "Raimel Tapia",
          "David Peralta",
          "Christian Yelich",
          "Corey Dickerson",
          "Eloy Jimenez",
          "Rob Refsnyder",
          "Jake Fraley",
          "Trevor Larnach",
          "Randy Arozarena",
          "Trey Mancini",
          "Marcell Ozuna",
          "Jason Martin",
          "Andrew Benintendi",
          "Brett Gardner",
          "Austin Hays",
          "Eddie Rosario",
          "Andrew Stevenson",
          "Yordan Alvarez",
          "Franchy Cordero",
          "Connor Joe",
          "Ka'ai Tom",
          "David Dahl",
          "Robbie Grossman",
          "Willie Calhoun",
          "Jose Marmolejos",
          "Abraham Almonte",
          "Michael Brantley",
          "Austin Meadows",
          "Harold Ramirez",
          "Alex Dickerson",
          "Brent Rooker",
          "Tommy Pham",
          "Lourdes Gurriel Jr.",
          "Alex Verdugo",
          "Yadiel Hernandez",
          "Andrew Vaughn",
          "Justin Upton",
          "Jesse Winker",
          "Kyle Schwarber",
          "Dominic Smith",
          "Ben Gamel"
         ],
         "legendgroup": "",
         "marker": {
          "color": [
           -0.1,
           0.1,
           2.5,
           6.6,
           -0.3,
           2.4,
           -0.2,
           5.4,
           1.5,
           0.4,
           1.1,
           1.5,
           0.8,
           0.2,
           0,
           0.5,
           0.2,
           3.3,
           0.6,
           -0.3,
           0,
           2.1,
           1.4,
           2.4,
           0.9,
           -0.1,
           3.7,
           -0.8,
           1.4,
           -0.6,
           -0.8,
           2.7,
           -0.6,
           -0.3,
           -0.1,
           2.1,
           2,
           0,
           0.2,
           -0.2,
           1.5,
           1.5,
           2,
           0.2,
           0.3,
           0.3,
           3.2,
           3.1,
           -0.5,
           1.2
          ],
          "coloraxis": "coloraxis",
          "line": {
           "width": 2
          },
          "size": 10,
          "symbol": "circle"
         },
         "mode": "markers",
         "name": "",
         "orientation": "v",
         "showlegend": false,
         "type": "scatter",
         "x": [
          6,
          4,
          4,
          4,
          4,
          3,
          3,
          3,
          3,
          3,
          2,
          2,
          2,
          2,
          2,
          1,
          1,
          1,
          0,
          0,
          0,
          0,
          0,
          0,
          -1,
          -1,
          -1,
          -1,
          -1,
          -2,
          -2,
          -2,
          -2,
          -2,
          -3,
          -3,
          -4,
          -4,
          -4,
          -5,
          -5,
          -6,
          -6,
          -6,
          -6,
          -6,
          -6,
          -10,
          -10,
          -10
         ],
         "xaxis": "x",
         "y": [
          58,
          93,
          144,
          163,
          59,
          103,
          63,
          145,
          106,
          76,
          93,
          101,
          100,
          101,
          86,
          109,
          89,
          128,
          105,
          73,
          63,
          106,
          93,
          106,
          98,
          69,
          138,
          32,
          116,
          47,
          54,
          114,
          91,
          64,
          97,
          123,
          113,
          90,
          97,
          89,
          102,
          107,
          107,
          98,
          94,
          92,
          148,
          145,
          86,
          101
         ],
         "yaxis": "y"
        }
       ],
       "layout": {
        "annotations": [
         {
          "showarrow": false,
          "text": "Mean wRC+",
          "x": 1,
          "xanchor": "right",
          "xref": "x domain",
          "y": 97.5,
          "yanchor": "top",
          "yref": "y"
         },
         {
          "showarrow": false,
          "text": "Mean OAA",
          "x": -1.18,
          "xanchor": "left",
          "xref": "x",
          "y": 0,
          "yanchor": "bottom",
          "yref": "y domain"
         }
        ],
        "coloraxis": {
         "colorbar": {
          "title": {
           "text": "WAR"
          }
         },
         "colorscale": [
          [
           0,
           "rgb(0, 155, 158)"
          ],
          [
           0.16666666666666666,
           "rgb(66, 183, 185)"
          ],
          [
           0.3333333333333333,
           "rgb(167, 211, 212)"
          ],
          [
           0.5,
           "rgb(241, 241, 241)"
          ],
          [
           0.6666666666666666,
           "rgb(228, 193, 217)"
          ],
          [
           0.8333333333333334,
           "rgb(214, 145, 193)"
          ],
          [
           1,
           "rgb(199, 93, 171)"
          ]
         ]
        },
        "height": 700,
        "legend": {
         "tracegroupgap": 0
        },
        "shapes": [
         {
          "line": {
           "color": "LightSeaGreen",
           "dash": "dot",
           "width": 2
          },
          "x0": 2,
          "x1": 6,
          "y0": 107,
          "y1": 163
         },
         {
          "line": {
           "color": "#EF553B",
           "dash": "dot",
           "width": 2
          },
          "x0": -10,
          "x1": -4,
          "y0": 32,
          "y1": 86.75
         },
         {
          "line": {
           "dash": "dot"
          },
          "type": "line",
          "x0": 0,
          "x1": 1,
          "xref": "x domain",
          "y0": 97.5,
          "y1": 97.5,
          "yref": "y"
         },
         {
          "line": {
           "dash": "dot"
          },
          "type": "line",
          "x0": -1.18,
          "x1": -1.18,
          "xref": "x",
          "y0": 0,
          "y1": 1,
          "yref": "y domain"
         }
        ],
        "template": {
         "data": {
          "bar": [
           {
            "error_x": {
             "color": "#2a3f5f"
            },
            "error_y": {
             "color": "#2a3f5f"
            },
            "marker": {
             "line": {
              "color": "#E5ECF6",
              "width": 0.5
             },
             "pattern": {
              "fillmode": "overlay",
              "size": 10,
              "solidity": 0.2
             }
            },
            "type": "bar"
           }
          ],
          "barpolar": [
           {
            "marker": {
             "line": {
              "color": "#E5ECF6",
              "width": 0.5
             },
             "pattern": {
              "fillmode": "overlay",
              "size": 10,
              "solidity": 0.2
             }
            },
            "type": "barpolar"
           }
          ],
          "carpet": [
           {
            "aaxis": {
             "endlinecolor": "#2a3f5f",
             "gridcolor": "white",
             "linecolor": "white",
             "minorgridcolor": "white",
             "startlinecolor": "#2a3f5f"
            },
            "baxis": {
             "endlinecolor": "#2a3f5f",
             "gridcolor": "white",
             "linecolor": "white",
             "minorgridcolor": "white",
             "startlinecolor": "#2a3f5f"
            },
            "type": "carpet"
           }
          ],
          "choropleth": [
           {
            "colorbar": {
             "outlinewidth": 0,
             "ticks": ""
            },
            "type": "choropleth"
           }
          ],
          "contour": [
           {
            "colorbar": {
             "outlinewidth": 0,
             "ticks": ""
            },
            "colorscale": [
             [
              0,
              "#0d0887"
             ],
             [
              0.1111111111111111,
              "#46039f"
             ],
             [
              0.2222222222222222,
              "#7201a8"
             ],
             [
              0.3333333333333333,
              "#9c179e"
             ],
             [
              0.4444444444444444,
              "#bd3786"
             ],
             [
              0.5555555555555556,
              "#d8576b"
             ],
             [
              0.6666666666666666,
              "#ed7953"
             ],
             [
              0.7777777777777778,
              "#fb9f3a"
             ],
             [
              0.8888888888888888,
              "#fdca26"
             ],
             [
              1,
              "#f0f921"
             ]
            ],
            "type": "contour"
           }
          ],
          "contourcarpet": [
           {
            "colorbar": {
             "outlinewidth": 0,
             "ticks": ""
            },
            "type": "contourcarpet"
           }
          ],
          "heatmap": [
           {
            "colorbar": {
             "outlinewidth": 0,
             "ticks": ""
            },
            "colorscale": [
             [
              0,
              "#0d0887"
             ],
             [
              0.1111111111111111,
              "#46039f"
             ],
             [
              0.2222222222222222,
              "#7201a8"
             ],
             [
              0.3333333333333333,
              "#9c179e"
             ],
             [
              0.4444444444444444,
              "#bd3786"
             ],
             [
              0.5555555555555556,
              "#d8576b"
             ],
             [
              0.6666666666666666,
              "#ed7953"
             ],
             [
              0.7777777777777778,
              "#fb9f3a"
             ],
             [
              0.8888888888888888,
              "#fdca26"
             ],
             [
              1,
              "#f0f921"
             ]
            ],
            "type": "heatmap"
           }
          ],
          "heatmapgl": [
           {
            "colorbar": {
             "outlinewidth": 0,
             "ticks": ""
            },
            "colorscale": [
             [
              0,
              "#0d0887"
             ],
             [
              0.1111111111111111,
              "#46039f"
             ],
             [
              0.2222222222222222,
              "#7201a8"
             ],
             [
              0.3333333333333333,
              "#9c179e"
             ],
             [
              0.4444444444444444,
              "#bd3786"
             ],
             [
              0.5555555555555556,
              "#d8576b"
             ],
             [
              0.6666666666666666,
              "#ed7953"
             ],
             [
              0.7777777777777778,
              "#fb9f3a"
             ],
             [
              0.8888888888888888,
              "#fdca26"
             ],
             [
              1,
              "#f0f921"
             ]
            ],
            "type": "heatmapgl"
           }
          ],
          "histogram": [
           {
            "marker": {
             "pattern": {
              "fillmode": "overlay",
              "size": 10,
              "solidity": 0.2
             }
            },
            "type": "histogram"
           }
          ],
          "histogram2d": [
           {
            "colorbar": {
             "outlinewidth": 0,
             "ticks": ""
            },
            "colorscale": [
             [
              0,
              "#0d0887"
             ],
             [
              0.1111111111111111,
              "#46039f"
             ],
             [
              0.2222222222222222,
              "#7201a8"
             ],
             [
              0.3333333333333333,
              "#9c179e"
             ],
             [
              0.4444444444444444,
              "#bd3786"
             ],
             [
              0.5555555555555556,
              "#d8576b"
             ],
             [
              0.6666666666666666,
              "#ed7953"
             ],
             [
              0.7777777777777778,
              "#fb9f3a"
             ],
             [
              0.8888888888888888,
              "#fdca26"
             ],
             [
              1,
              "#f0f921"
             ]
            ],
            "type": "histogram2d"
           }
          ],
          "histogram2dcontour": [
           {
            "colorbar": {
             "outlinewidth": 0,
             "ticks": ""
            },
            "colorscale": [
             [
              0,
              "#0d0887"
             ],
             [
              0.1111111111111111,
              "#46039f"
             ],
             [
              0.2222222222222222,
              "#7201a8"
             ],
             [
              0.3333333333333333,
              "#9c179e"
             ],
             [
              0.4444444444444444,
              "#bd3786"
             ],
             [
              0.5555555555555556,
              "#d8576b"
             ],
             [
              0.6666666666666666,
              "#ed7953"
             ],
             [
              0.7777777777777778,
              "#fb9f3a"
             ],
             [
              0.8888888888888888,
              "#fdca26"
             ],
             [
              1,
              "#f0f921"
             ]
            ],
            "type": "histogram2dcontour"
           }
          ],
          "mesh3d": [
           {
            "colorbar": {
             "outlinewidth": 0,
             "ticks": ""
            },
            "type": "mesh3d"
           }
          ],
          "parcoords": [
           {
            "line": {
             "colorbar": {
              "outlinewidth": 0,
              "ticks": ""
             }
            },
            "type": "parcoords"
           }
          ],
          "pie": [
           {
            "automargin": true,
            "type": "pie"
           }
          ],
          "scatter": [
           {
            "marker": {
             "colorbar": {
              "outlinewidth": 0,
              "ticks": ""
             }
            },
            "type": "scatter"
           }
          ],
          "scatter3d": [
           {
            "line": {
             "colorbar": {
              "outlinewidth": 0,
              "ticks": ""
             }
            },
            "marker": {
             "colorbar": {
              "outlinewidth": 0,
              "ticks": ""
             }
            },
            "type": "scatter3d"
           }
          ],
          "scattercarpet": [
           {
            "marker": {
             "colorbar": {
              "outlinewidth": 0,
              "ticks": ""
             }
            },
            "type": "scattercarpet"
           }
          ],
          "scattergeo": [
           {
            "marker": {
             "colorbar": {
              "outlinewidth": 0,
              "ticks": ""
             }
            },
            "type": "scattergeo"
           }
          ],
          "scattergl": [
           {
            "marker": {
             "colorbar": {
              "outlinewidth": 0,
              "ticks": ""
             }
            },
            "type": "scattergl"
           }
          ],
          "scattermapbox": [
           {
            "marker": {
             "colorbar": {
              "outlinewidth": 0,
              "ticks": ""
             }
            },
            "type": "scattermapbox"
           }
          ],
          "scatterpolar": [
           {
            "marker": {
             "colorbar": {
              "outlinewidth": 0,
              "ticks": ""
             }
            },
            "type": "scatterpolar"
           }
          ],
          "scatterpolargl": [
           {
            "marker": {
             "colorbar": {
              "outlinewidth": 0,
              "ticks": ""
             }
            },
            "type": "scatterpolargl"
           }
          ],
          "scatterternary": [
           {
            "marker": {
             "colorbar": {
              "outlinewidth": 0,
              "ticks": ""
             }
            },
            "type": "scatterternary"
           }
          ],
          "surface": [
           {
            "colorbar": {
             "outlinewidth": 0,
             "ticks": ""
            },
            "colorscale": [
             [
              0,
              "#0d0887"
             ],
             [
              0.1111111111111111,
              "#46039f"
             ],
             [
              0.2222222222222222,
              "#7201a8"
             ],
             [
              0.3333333333333333,
              "#9c179e"
             ],
             [
              0.4444444444444444,
              "#bd3786"
             ],
             [
              0.5555555555555556,
              "#d8576b"
             ],
             [
              0.6666666666666666,
              "#ed7953"
             ],
             [
              0.7777777777777778,
              "#fb9f3a"
             ],
             [
              0.8888888888888888,
              "#fdca26"
             ],
             [
              1,
              "#f0f921"
             ]
            ],
            "type": "surface"
           }
          ],
          "table": [
           {
            "cells": {
             "fill": {
              "color": "#EBF0F8"
             },
             "line": {
              "color": "white"
             }
            },
            "header": {
             "fill": {
              "color": "#C8D4E3"
             },
             "line": {
              "color": "white"
             }
            },
            "type": "table"
           }
          ]
         },
         "layout": {
          "annotationdefaults": {
           "arrowcolor": "#2a3f5f",
           "arrowhead": 0,
           "arrowwidth": 1
          },
          "autotypenumbers": "strict",
          "coloraxis": {
           "colorbar": {
            "outlinewidth": 0,
            "ticks": ""
           }
          },
          "colorscale": {
           "diverging": [
            [
             0,
             "#8e0152"
            ],
            [
             0.1,
             "#c51b7d"
            ],
            [
             0.2,
             "#de77ae"
            ],
            [
             0.3,
             "#f1b6da"
            ],
            [
             0.4,
             "#fde0ef"
            ],
            [
             0.5,
             "#f7f7f7"
            ],
            [
             0.6,
             "#e6f5d0"
            ],
            [
             0.7,
             "#b8e186"
            ],
            [
             0.8,
             "#7fbc41"
            ],
            [
             0.9,
             "#4d9221"
            ],
            [
             1,
             "#276419"
            ]
           ],
           "sequential": [
            [
             0,
             "#0d0887"
            ],
            [
             0.1111111111111111,
             "#46039f"
            ],
            [
             0.2222222222222222,
             "#7201a8"
            ],
            [
             0.3333333333333333,
             "#9c179e"
            ],
            [
             0.4444444444444444,
             "#bd3786"
            ],
            [
             0.5555555555555556,
             "#d8576b"
            ],
            [
             0.6666666666666666,
             "#ed7953"
            ],
            [
             0.7777777777777778,
             "#fb9f3a"
            ],
            [
             0.8888888888888888,
             "#fdca26"
            ],
            [
             1,
             "#f0f921"
            ]
           ],
           "sequentialminus": [
            [
             0,
             "#0d0887"
            ],
            [
             0.1111111111111111,
             "#46039f"
            ],
            [
             0.2222222222222222,
             "#7201a8"
            ],
            [
             0.3333333333333333,
             "#9c179e"
            ],
            [
             0.4444444444444444,
             "#bd3786"
            ],
            [
             0.5555555555555556,
             "#d8576b"
            ],
            [
             0.6666666666666666,
             "#ed7953"
            ],
            [
             0.7777777777777778,
             "#fb9f3a"
            ],
            [
             0.8888888888888888,
             "#fdca26"
            ],
            [
             1,
             "#f0f921"
            ]
           ]
          },
          "colorway": [
           "#636efa",
           "#EF553B",
           "#00cc96",
           "#ab63fa",
           "#FFA15A",
           "#19d3f3",
           "#FF6692",
           "#B6E880",
           "#FF97FF",
           "#FECB52"
          ],
          "font": {
           "color": "#2a3f5f"
          },
          "geo": {
           "bgcolor": "white",
           "lakecolor": "white",
           "landcolor": "#E5ECF6",
           "showlakes": true,
           "showland": true,
           "subunitcolor": "white"
          },
          "hoverlabel": {
           "align": "left"
          },
          "hovermode": "closest",
          "mapbox": {
           "style": "light"
          },
          "paper_bgcolor": "white",
          "plot_bgcolor": "#E5ECF6",
          "polar": {
           "angularaxis": {
            "gridcolor": "white",
            "linecolor": "white",
            "ticks": ""
           },
           "bgcolor": "#E5ECF6",
           "radialaxis": {
            "gridcolor": "white",
            "linecolor": "white",
            "ticks": ""
           }
          },
          "scene": {
           "xaxis": {
            "backgroundcolor": "#E5ECF6",
            "gridcolor": "white",
            "gridwidth": 2,
            "linecolor": "white",
            "showbackground": true,
            "ticks": "",
            "zerolinecolor": "white"
           },
           "yaxis": {
            "backgroundcolor": "#E5ECF6",
            "gridcolor": "white",
            "gridwidth": 2,
            "linecolor": "white",
            "showbackground": true,
            "ticks": "",
            "zerolinecolor": "white"
           },
           "zaxis": {
            "backgroundcolor": "#E5ECF6",
            "gridcolor": "white",
            "gridwidth": 2,
            "linecolor": "white",
            "showbackground": true,
            "ticks": "",
            "zerolinecolor": "white"
           }
          },
          "shapedefaults": {
           "line": {
            "color": "#2a3f5f"
           }
          },
          "ternary": {
           "aaxis": {
            "gridcolor": "white",
            "linecolor": "white",
            "ticks": ""
           },
           "baxis": {
            "gridcolor": "white",
            "linecolor": "white",
            "ticks": ""
           },
           "bgcolor": "#E5ECF6",
           "caxis": {
            "gridcolor": "white",
            "linecolor": "white",
            "ticks": ""
           }
          },
          "title": {
           "x": 0.05
          },
          "xaxis": {
           "automargin": true,
           "gridcolor": "white",
           "linecolor": "white",
           "ticks": "",
           "title": {
            "standoff": 15
           },
           "zerolinecolor": "white",
           "zerolinewidth": 2
          },
          "yaxis": {
           "automargin": true,
           "gridcolor": "white",
           "linecolor": "white",
           "ticks": "",
           "title": {
            "standoff": 15
           },
           "zerolinecolor": "white",
           "zerolinewidth": 2
          }
         }
        },
        "title": {
         "text": "OAA vs wRC+ for LF"
        },
        "width": 1350,
        "xaxis": {
         "anchor": "y",
         "domain": [
          0,
          1
         ],
         "nticks": 40,
         "title": {
          "text": "OAA"
         }
        },
        "yaxis": {
         "anchor": "x",
         "domain": [
          0,
          1
         ],
         "nticks": 20,
         "title": {
          "text": "wRC+"
         }
        }
       }
      }
     },
     "metadata": {},
     "output_type": "display_data"
    }
   ],
   "source": [
    "lf_plot"
   ]
  },
  {
   "cell_type": "code",
   "execution_count": 263,
   "metadata": {},
   "outputs": [
    {
     "data": {
      "application/vnd.plotly.v1+json": {
       "config": {
        "plotlyServerURL": "https://plot.ly"
       },
       "data": [
        {
         "customdata": [
          [
           "MIN",
           490
          ],
          [
           "- - -",
           616
          ],
          [
           "SFG",
           532
          ],
          [
           "HOU",
           567
          ],
          [
           "OAK",
           307
          ],
          [
           "MIA",
           251
          ],
          [
           "STL",
           124
          ],
          [
           "CHC",
           353
          ],
          [
           "SFG",
           306
          ],
          [
           "MIN",
           231
          ],
          [
           "NYM",
           479
          ],
          [
           "- - -",
           300
          ],
          [
           "CLE",
           250
          ],
          [
           "DET",
           181
          ],
          [
           "SFG",
           381
          ],
          [
           "TOR",
           595
          ],
          [
           "ARI",
           158
          ],
          [
           "- - -",
           288
          ],
          [
           "MIN",
           107
          ],
          [
           "LAA",
           140
          ],
          [
           "NYY",
           579
          ],
          [
           "STL",
           137
          ],
          [
           "NYY",
           633
          ],
          [
           "- - -",
           193
          ],
          [
           "ARI",
           182
          ],
          [
           "KCR",
           111
          ],
          [
           "CIN",
           204
          ],
          [
           "DET",
           115
          ],
          [
           "PIT",
           382
          ],
          [
           "MIL",
           515
          ],
          [
           "LAA",
           237
          ],
          [
           "BOS",
           634
          ],
          [
           "LAD",
           550
          ],
          [
           "OAK",
           188
          ],
          [
           "BOS",
           572
          ],
          [
           "ARI",
           545
          ],
          [
           "STL",
           619
          ],
          [
           "PHI",
           599
          ],
          [
           "CIN",
           585
          ],
          [
           "BAL",
           438
          ],
          [
           "- - -",
           602
          ],
          [
           "SEA",
           691
          ],
          [
           "NYY",
           218
          ]
         ],
         "hovertemplate": "<b>%{hovertext}</b><br><br>OAA=%{x}<br>wRC+=%{y}<br>Team=%{customdata[0]}<br>PA=%{customdata[1]}<br>WAR=%{marker.color}<extra></extra>",
         "hovertext": [
          "Max Kepler",
          "Joey Gallo",
          "Mike Yastrzemski",
          "Kyle Tucker",
          "Seth Brown",
          "Jesus Sanchez",
          "Lars Nootbaar",
          "Jason Heyward",
          "Austin Slater",
          "Alex Kirilloff",
          "Michael Conforto",
          "Billy McKinney",
          "Josh Naylor",
          "Nomar Mazara",
          "LaMonte Wade Jr.",
          "Teoscar Hernandez",
          "Josh Reddick",
          "Adam Eaton",
          "Kyle Garlick",
          "Jo Adell",
          "Giancarlo Stanton",
          "Justin Williams",
          "Aaron Judge",
          "Jordan Luplow",
          "Kole Calhoun",
          "Edward Olivares",
          "Aristides Aquino",
          "Daz Cameron",
          "Gregory Polanco",
          "Avisail Garcia",
          "Taylor Ward",
          "J.D. Martinez",
          "Mookie Betts",
          "Stephen Piscotty",
          "Hunter Renfroe",
          "Pavin Smith",
          "Dylan Carlson",
          "Bryce Harper",
          "Nick Castellanos",
          "Anthony Santander",
          "Jorge Soler",
          "Mitch Haniger",
          "Clint Frazier"
         ],
         "legendgroup": "",
         "marker": {
          "color": [
           1.9,
           3.5,
           2.2,
           4.8,
           1.1,
           0.6,
           0.6,
           0.3,
           1.8,
           0.3,
           0.8,
           0.3,
           -0.6,
           -0.5,
           1.6,
           3.9,
           -0.2,
           -0.3,
           0.2,
           0.1,
           2.6,
           -0.8,
           5.5,
           0.5,
           0,
           0.1,
           0.1,
           -0.1,
           -1.2,
           2.9,
           0.5,
           2.9,
           3.9,
           -0.6,
           1.8,
           0.3,
           2.8,
           6.6,
           4.2,
           0.6,
           -0.2,
           2.8,
           -0.9
          ],
          "coloraxis": "coloraxis",
          "line": {
           "width": 2
          },
          "size": 10,
          "symbol": "circle"
         },
         "mode": "markers",
         "name": "",
         "orientation": "v",
         "showlegend": false,
         "type": "scatter",
         "x": [
          8,
          6,
          6,
          5,
          5,
          2,
          2,
          2,
          2,
          1,
          1,
          0,
          0,
          0,
          0,
          0,
          -1,
          -1,
          -1,
          -1,
          -1,
          -1,
          -1,
          -1,
          -1,
          -2,
          -2,
          -2,
          -2,
          -2,
          -2,
          -2,
          -2,
          -3,
          -3,
          -4,
          -5,
          -5,
          -6,
          -6,
          -6,
          -7,
          -9
         ],
         "xaxis": "x",
         "y": [
          95,
          123,
          106,
          147,
          103,
          116,
          101,
          68,
          103,
          93,
          106,
          73,
          90,
          64,
          117,
          132,
          73,
          70,
          99,
          90,
          137,
          44,
          148,
          116,
          79,
          88,
          83,
          76,
          71,
          115,
          111,
          128,
          131,
          78,
          114,
          96,
          113,
          170,
          140,
          92,
          101,
          120,
          83
         ],
         "yaxis": "y"
        }
       ],
       "layout": {
        "annotations": [
         {
          "showarrow": false,
          "text": "Mean wRC+",
          "x": 1,
          "xanchor": "right",
          "xref": "x domain",
          "y": 102.3953488372093,
          "yanchor": "top",
          "yref": "y"
         },
         {
          "showarrow": false,
          "text": "Mean OAA",
          "x": -0.9069767441860465,
          "xanchor": "left",
          "xref": "x",
          "y": 0,
          "yanchor": "bottom",
          "yref": "y domain"
         }
        ],
        "coloraxis": {
         "colorbar": {
          "title": {
           "text": "WAR"
          }
         },
         "colorscale": [
          [
           0,
           "rgb(0, 155, 158)"
          ],
          [
           0.16666666666666666,
           "rgb(66, 183, 185)"
          ],
          [
           0.3333333333333333,
           "rgb(167, 211, 212)"
          ],
          [
           0.5,
           "rgb(241, 241, 241)"
          ],
          [
           0.6666666666666666,
           "rgb(228, 193, 217)"
          ],
          [
           0.8333333333333334,
           "rgb(214, 145, 193)"
          ],
          [
           1,
           "rgb(199, 93, 171)"
          ]
         ]
        },
        "height": 700,
        "legend": {
         "tracegroupgap": 0
        },
        "shapes": [
         {
          "line": {
           "color": "LightSeaGreen",
           "dash": "dot",
           "width": 2
          },
          "x0": 0.5,
          "x1": 8,
          "y0": 116.5,
          "y1": 170
         },
         {
          "line": {
           "color": "#EF553B",
           "dash": "dot",
           "width": 2
          },
          "x0": -9,
          "x1": -2,
          "y0": 44,
          "y1": 83
         },
         {
          "line": {
           "dash": "dot"
          },
          "type": "line",
          "x0": 0,
          "x1": 1,
          "xref": "x domain",
          "y0": 102.3953488372093,
          "y1": 102.3953488372093,
          "yref": "y"
         },
         {
          "line": {
           "dash": "dot"
          },
          "type": "line",
          "x0": -0.9069767441860465,
          "x1": -0.9069767441860465,
          "xref": "x",
          "y0": 0,
          "y1": 1,
          "yref": "y domain"
         }
        ],
        "template": {
         "data": {
          "bar": [
           {
            "error_x": {
             "color": "#2a3f5f"
            },
            "error_y": {
             "color": "#2a3f5f"
            },
            "marker": {
             "line": {
              "color": "#E5ECF6",
              "width": 0.5
             },
             "pattern": {
              "fillmode": "overlay",
              "size": 10,
              "solidity": 0.2
             }
            },
            "type": "bar"
           }
          ],
          "barpolar": [
           {
            "marker": {
             "line": {
              "color": "#E5ECF6",
              "width": 0.5
             },
             "pattern": {
              "fillmode": "overlay",
              "size": 10,
              "solidity": 0.2
             }
            },
            "type": "barpolar"
           }
          ],
          "carpet": [
           {
            "aaxis": {
             "endlinecolor": "#2a3f5f",
             "gridcolor": "white",
             "linecolor": "white",
             "minorgridcolor": "white",
             "startlinecolor": "#2a3f5f"
            },
            "baxis": {
             "endlinecolor": "#2a3f5f",
             "gridcolor": "white",
             "linecolor": "white",
             "minorgridcolor": "white",
             "startlinecolor": "#2a3f5f"
            },
            "type": "carpet"
           }
          ],
          "choropleth": [
           {
            "colorbar": {
             "outlinewidth": 0,
             "ticks": ""
            },
            "type": "choropleth"
           }
          ],
          "contour": [
           {
            "colorbar": {
             "outlinewidth": 0,
             "ticks": ""
            },
            "colorscale": [
             [
              0,
              "#0d0887"
             ],
             [
              0.1111111111111111,
              "#46039f"
             ],
             [
              0.2222222222222222,
              "#7201a8"
             ],
             [
              0.3333333333333333,
              "#9c179e"
             ],
             [
              0.4444444444444444,
              "#bd3786"
             ],
             [
              0.5555555555555556,
              "#d8576b"
             ],
             [
              0.6666666666666666,
              "#ed7953"
             ],
             [
              0.7777777777777778,
              "#fb9f3a"
             ],
             [
              0.8888888888888888,
              "#fdca26"
             ],
             [
              1,
              "#f0f921"
             ]
            ],
            "type": "contour"
           }
          ],
          "contourcarpet": [
           {
            "colorbar": {
             "outlinewidth": 0,
             "ticks": ""
            },
            "type": "contourcarpet"
           }
          ],
          "heatmap": [
           {
            "colorbar": {
             "outlinewidth": 0,
             "ticks": ""
            },
            "colorscale": [
             [
              0,
              "#0d0887"
             ],
             [
              0.1111111111111111,
              "#46039f"
             ],
             [
              0.2222222222222222,
              "#7201a8"
             ],
             [
              0.3333333333333333,
              "#9c179e"
             ],
             [
              0.4444444444444444,
              "#bd3786"
             ],
             [
              0.5555555555555556,
              "#d8576b"
             ],
             [
              0.6666666666666666,
              "#ed7953"
             ],
             [
              0.7777777777777778,
              "#fb9f3a"
             ],
             [
              0.8888888888888888,
              "#fdca26"
             ],
             [
              1,
              "#f0f921"
             ]
            ],
            "type": "heatmap"
           }
          ],
          "heatmapgl": [
           {
            "colorbar": {
             "outlinewidth": 0,
             "ticks": ""
            },
            "colorscale": [
             [
              0,
              "#0d0887"
             ],
             [
              0.1111111111111111,
              "#46039f"
             ],
             [
              0.2222222222222222,
              "#7201a8"
             ],
             [
              0.3333333333333333,
              "#9c179e"
             ],
             [
              0.4444444444444444,
              "#bd3786"
             ],
             [
              0.5555555555555556,
              "#d8576b"
             ],
             [
              0.6666666666666666,
              "#ed7953"
             ],
             [
              0.7777777777777778,
              "#fb9f3a"
             ],
             [
              0.8888888888888888,
              "#fdca26"
             ],
             [
              1,
              "#f0f921"
             ]
            ],
            "type": "heatmapgl"
           }
          ],
          "histogram": [
           {
            "marker": {
             "pattern": {
              "fillmode": "overlay",
              "size": 10,
              "solidity": 0.2
             }
            },
            "type": "histogram"
           }
          ],
          "histogram2d": [
           {
            "colorbar": {
             "outlinewidth": 0,
             "ticks": ""
            },
            "colorscale": [
             [
              0,
              "#0d0887"
             ],
             [
              0.1111111111111111,
              "#46039f"
             ],
             [
              0.2222222222222222,
              "#7201a8"
             ],
             [
              0.3333333333333333,
              "#9c179e"
             ],
             [
              0.4444444444444444,
              "#bd3786"
             ],
             [
              0.5555555555555556,
              "#d8576b"
             ],
             [
              0.6666666666666666,
              "#ed7953"
             ],
             [
              0.7777777777777778,
              "#fb9f3a"
             ],
             [
              0.8888888888888888,
              "#fdca26"
             ],
             [
              1,
              "#f0f921"
             ]
            ],
            "type": "histogram2d"
           }
          ],
          "histogram2dcontour": [
           {
            "colorbar": {
             "outlinewidth": 0,
             "ticks": ""
            },
            "colorscale": [
             [
              0,
              "#0d0887"
             ],
             [
              0.1111111111111111,
              "#46039f"
             ],
             [
              0.2222222222222222,
              "#7201a8"
             ],
             [
              0.3333333333333333,
              "#9c179e"
             ],
             [
              0.4444444444444444,
              "#bd3786"
             ],
             [
              0.5555555555555556,
              "#d8576b"
             ],
             [
              0.6666666666666666,
              "#ed7953"
             ],
             [
              0.7777777777777778,
              "#fb9f3a"
             ],
             [
              0.8888888888888888,
              "#fdca26"
             ],
             [
              1,
              "#f0f921"
             ]
            ],
            "type": "histogram2dcontour"
           }
          ],
          "mesh3d": [
           {
            "colorbar": {
             "outlinewidth": 0,
             "ticks": ""
            },
            "type": "mesh3d"
           }
          ],
          "parcoords": [
           {
            "line": {
             "colorbar": {
              "outlinewidth": 0,
              "ticks": ""
             }
            },
            "type": "parcoords"
           }
          ],
          "pie": [
           {
            "automargin": true,
            "type": "pie"
           }
          ],
          "scatter": [
           {
            "marker": {
             "colorbar": {
              "outlinewidth": 0,
              "ticks": ""
             }
            },
            "type": "scatter"
           }
          ],
          "scatter3d": [
           {
            "line": {
             "colorbar": {
              "outlinewidth": 0,
              "ticks": ""
             }
            },
            "marker": {
             "colorbar": {
              "outlinewidth": 0,
              "ticks": ""
             }
            },
            "type": "scatter3d"
           }
          ],
          "scattercarpet": [
           {
            "marker": {
             "colorbar": {
              "outlinewidth": 0,
              "ticks": ""
             }
            },
            "type": "scattercarpet"
           }
          ],
          "scattergeo": [
           {
            "marker": {
             "colorbar": {
              "outlinewidth": 0,
              "ticks": ""
             }
            },
            "type": "scattergeo"
           }
          ],
          "scattergl": [
           {
            "marker": {
             "colorbar": {
              "outlinewidth": 0,
              "ticks": ""
             }
            },
            "type": "scattergl"
           }
          ],
          "scattermapbox": [
           {
            "marker": {
             "colorbar": {
              "outlinewidth": 0,
              "ticks": ""
             }
            },
            "type": "scattermapbox"
           }
          ],
          "scatterpolar": [
           {
            "marker": {
             "colorbar": {
              "outlinewidth": 0,
              "ticks": ""
             }
            },
            "type": "scatterpolar"
           }
          ],
          "scatterpolargl": [
           {
            "marker": {
             "colorbar": {
              "outlinewidth": 0,
              "ticks": ""
             }
            },
            "type": "scatterpolargl"
           }
          ],
          "scatterternary": [
           {
            "marker": {
             "colorbar": {
              "outlinewidth": 0,
              "ticks": ""
             }
            },
            "type": "scatterternary"
           }
          ],
          "surface": [
           {
            "colorbar": {
             "outlinewidth": 0,
             "ticks": ""
            },
            "colorscale": [
             [
              0,
              "#0d0887"
             ],
             [
              0.1111111111111111,
              "#46039f"
             ],
             [
              0.2222222222222222,
              "#7201a8"
             ],
             [
              0.3333333333333333,
              "#9c179e"
             ],
             [
              0.4444444444444444,
              "#bd3786"
             ],
             [
              0.5555555555555556,
              "#d8576b"
             ],
             [
              0.6666666666666666,
              "#ed7953"
             ],
             [
              0.7777777777777778,
              "#fb9f3a"
             ],
             [
              0.8888888888888888,
              "#fdca26"
             ],
             [
              1,
              "#f0f921"
             ]
            ],
            "type": "surface"
           }
          ],
          "table": [
           {
            "cells": {
             "fill": {
              "color": "#EBF0F8"
             },
             "line": {
              "color": "white"
             }
            },
            "header": {
             "fill": {
              "color": "#C8D4E3"
             },
             "line": {
              "color": "white"
             }
            },
            "type": "table"
           }
          ]
         },
         "layout": {
          "annotationdefaults": {
           "arrowcolor": "#2a3f5f",
           "arrowhead": 0,
           "arrowwidth": 1
          },
          "autotypenumbers": "strict",
          "coloraxis": {
           "colorbar": {
            "outlinewidth": 0,
            "ticks": ""
           }
          },
          "colorscale": {
           "diverging": [
            [
             0,
             "#8e0152"
            ],
            [
             0.1,
             "#c51b7d"
            ],
            [
             0.2,
             "#de77ae"
            ],
            [
             0.3,
             "#f1b6da"
            ],
            [
             0.4,
             "#fde0ef"
            ],
            [
             0.5,
             "#f7f7f7"
            ],
            [
             0.6,
             "#e6f5d0"
            ],
            [
             0.7,
             "#b8e186"
            ],
            [
             0.8,
             "#7fbc41"
            ],
            [
             0.9,
             "#4d9221"
            ],
            [
             1,
             "#276419"
            ]
           ],
           "sequential": [
            [
             0,
             "#0d0887"
            ],
            [
             0.1111111111111111,
             "#46039f"
            ],
            [
             0.2222222222222222,
             "#7201a8"
            ],
            [
             0.3333333333333333,
             "#9c179e"
            ],
            [
             0.4444444444444444,
             "#bd3786"
            ],
            [
             0.5555555555555556,
             "#d8576b"
            ],
            [
             0.6666666666666666,
             "#ed7953"
            ],
            [
             0.7777777777777778,
             "#fb9f3a"
            ],
            [
             0.8888888888888888,
             "#fdca26"
            ],
            [
             1,
             "#f0f921"
            ]
           ],
           "sequentialminus": [
            [
             0,
             "#0d0887"
            ],
            [
             0.1111111111111111,
             "#46039f"
            ],
            [
             0.2222222222222222,
             "#7201a8"
            ],
            [
             0.3333333333333333,
             "#9c179e"
            ],
            [
             0.4444444444444444,
             "#bd3786"
            ],
            [
             0.5555555555555556,
             "#d8576b"
            ],
            [
             0.6666666666666666,
             "#ed7953"
            ],
            [
             0.7777777777777778,
             "#fb9f3a"
            ],
            [
             0.8888888888888888,
             "#fdca26"
            ],
            [
             1,
             "#f0f921"
            ]
           ]
          },
          "colorway": [
           "#636efa",
           "#EF553B",
           "#00cc96",
           "#ab63fa",
           "#FFA15A",
           "#19d3f3",
           "#FF6692",
           "#B6E880",
           "#FF97FF",
           "#FECB52"
          ],
          "font": {
           "color": "#2a3f5f"
          },
          "geo": {
           "bgcolor": "white",
           "lakecolor": "white",
           "landcolor": "#E5ECF6",
           "showlakes": true,
           "showland": true,
           "subunitcolor": "white"
          },
          "hoverlabel": {
           "align": "left"
          },
          "hovermode": "closest",
          "mapbox": {
           "style": "light"
          },
          "paper_bgcolor": "white",
          "plot_bgcolor": "#E5ECF6",
          "polar": {
           "angularaxis": {
            "gridcolor": "white",
            "linecolor": "white",
            "ticks": ""
           },
           "bgcolor": "#E5ECF6",
           "radialaxis": {
            "gridcolor": "white",
            "linecolor": "white",
            "ticks": ""
           }
          },
          "scene": {
           "xaxis": {
            "backgroundcolor": "#E5ECF6",
            "gridcolor": "white",
            "gridwidth": 2,
            "linecolor": "white",
            "showbackground": true,
            "ticks": "",
            "zerolinecolor": "white"
           },
           "yaxis": {
            "backgroundcolor": "#E5ECF6",
            "gridcolor": "white",
            "gridwidth": 2,
            "linecolor": "white",
            "showbackground": true,
            "ticks": "",
            "zerolinecolor": "white"
           },
           "zaxis": {
            "backgroundcolor": "#E5ECF6",
            "gridcolor": "white",
            "gridwidth": 2,
            "linecolor": "white",
            "showbackground": true,
            "ticks": "",
            "zerolinecolor": "white"
           }
          },
          "shapedefaults": {
           "line": {
            "color": "#2a3f5f"
           }
          },
          "ternary": {
           "aaxis": {
            "gridcolor": "white",
            "linecolor": "white",
            "ticks": ""
           },
           "baxis": {
            "gridcolor": "white",
            "linecolor": "white",
            "ticks": ""
           },
           "bgcolor": "#E5ECF6",
           "caxis": {
            "gridcolor": "white",
            "linecolor": "white",
            "ticks": ""
           }
          },
          "title": {
           "x": 0.05
          },
          "xaxis": {
           "automargin": true,
           "gridcolor": "white",
           "linecolor": "white",
           "ticks": "",
           "title": {
            "standoff": 15
           },
           "zerolinecolor": "white",
           "zerolinewidth": 2
          },
          "yaxis": {
           "automargin": true,
           "gridcolor": "white",
           "linecolor": "white",
           "ticks": "",
           "title": {
            "standoff": 15
           },
           "zerolinecolor": "white",
           "zerolinewidth": 2
          }
         }
        },
        "title": {
         "text": "OAA vs wRC+ for RF"
        },
        "width": 1350,
        "xaxis": {
         "anchor": "y",
         "domain": [
          0,
          1
         ],
         "nticks": 40,
         "title": {
          "text": "OAA"
         }
        },
        "yaxis": {
         "anchor": "x",
         "domain": [
          0,
          1
         ],
         "nticks": 20,
         "title": {
          "text": "wRC+"
         }
        }
       }
      }
     },
     "metadata": {},
     "output_type": "display_data"
    }
   ],
   "source": [
    "rf_plot"
   ]
  },
  {
   "cell_type": "markdown",
   "metadata": {},
   "source": [
    "## Infield"
   ]
  },
  {
   "cell_type": "code",
   "execution_count": 264,
   "metadata": {},
   "outputs": [
    {
     "data": {
      "application/vnd.plotly.v1+json": {
       "config": {
        "plotlyServerURL": "https://plot.ly"
       },
       "data": [
        {
         "customdata": [
          [
           "STL",
           679
          ],
          [
           "- - -",
           576
          ],
          [
           "LAD",
           592
          ],
          [
           "ARI",
           445
          ],
          [
           "MIA",
           128
          ],
          [
           "ATL",
           695
          ],
          [
           "- - -",
           315
          ],
          [
           "- - -",
           307
          ],
          [
           "WSN",
           568
          ],
          [
           "SFG",
           381
          ],
          [
           "MIA",
           510
          ],
          [
           "SDP",
           500
          ],
          [
           "SEA",
           104
          ],
          [
           "OAK",
           673
          ],
          [
           "NYM",
           637
          ],
          [
           "KCR",
           659
          ],
          [
           "CLE",
           279
          ],
          [
           "- - -",
           296
          ],
          [
           "SDP",
           565
          ],
          [
           "CIN",
           533
          ],
          [
           "CHW",
           659
          ],
          [
           "HOU",
           605
          ],
          [
           "WSN",
           273
          ],
          [
           "COL",
           547
          ],
          [
           "TBR",
           305
          ],
          [
           "KCR",
           254
          ],
          [
           "DET",
           526
          ],
          [
           "NYY",
           241
          ],
          [
           "MIL",
           258
          ],
          [
           "- - -",
           143
          ],
          [
           "PHI",
           443
          ],
          [
           "SEA",
           650
          ],
          [
           "TOR",
           698
          ],
          [
           "TEX",
           642
          ],
          [
           "- - -",
           259
          ],
          [
           "MIA",
           250
          ],
          [
           "- - -",
           262
          ],
          [
           "LAA",
           585
          ],
          [
           "- - -",
           325
          ],
          [
           "LAD",
           234
          ],
          [
           "BOS",
           453
          ],
          [
           "BAL",
           586
          ]
         ],
         "hovertemplate": "<b>%{hovertext}</b><br><br>OAA=%{x}<br>wRC+=%{y}<br>Team=%{customdata[0]}<br>PA=%{customdata[1]}<br>WAR=%{marker.color}<extra></extra>",
         "hovertext": [
          "Paul Goldschmidt",
          "Anthony Rizzo",
          "Max Muncy",
          "Christian Walker",
          "Lewin Diaz",
          "Freddie Freeman",
          "Jake Bauers",
          "Marwin Gonzalez",
          "Josh Bell",
          "Brandon Belt",
          "Jesus Aguilar",
          "Wil Myers",
          "Evan White",
          "Matt Olson",
          "Pete Alonso",
          "Carlos Santana",
          "Bobby Bradley",
          "Albert Pujols",
          "Eric Hosmer",
          "Joey Votto",
          "Jose Abreu",
          "Yuli Gurriel",
          "Ryan Zimmerman",
          "C.J. Cron",
          "Ji-Man Choi",
          "Ryan O'Hearn",
          "Miguel Cabrera",
          "Luke Voit",
          "Daniel Vogelbach",
          "John Nogowski",
          "Rhys Hoskins",
          "Ty France",
          "Vladimir Guerrero Jr.",
          "Nathaniel Lowe",
          "Frank Schwindel",
          "Garrett Cooper",
          "Yoshi Tsutsugo",
          "Jared Walsh",
          "Rowdy Tellez",
          "Matt Beaty",
          "Bobby Dalbec",
          "Ryan Mountcastle"
         ],
         "legendgroup": "",
         "marker": {
          "color": [
           4.9,
           1.6,
           4.9,
           0.3,
           0,
           4.5,
           -0.7,
           -0.7,
           1.4,
           3.3,
           1.2,
           1.4,
           -0.7,
           5,
           3,
           -0.3,
           0.3,
           -0.2,
           0,
           3.6,
           2.9,
           3.4,
           0.4,
           2.3,
           0.9,
           -0.7,
           -0.7,
           0.4,
           0.1,
           -0.4,
           2.3,
           3.5,
           6.7,
           1.6,
           2.1,
           1.1,
           0.2,
           2.8,
           -0.2,
           0.8,
           0.7,
           1.4
          ],
          "coloraxis": "coloraxis",
          "line": {
           "width": 2
          },
          "size": 10,
          "symbol": "circle"
         },
         "mode": "markers",
         "name": "",
         "orientation": "v",
         "showlegend": false,
         "type": "scatter",
         "x": [
          6,
          5,
          5,
          4,
          4,
          3,
          3,
          3,
          2,
          2,
          1,
          1,
          1,
          1,
          1,
          1,
          0,
          0,
          0,
          0,
          0,
          0,
          -1,
          -1,
          -1,
          -1,
          -1,
          -2,
          -2,
          -2,
          -2,
          -3,
          -3,
          -3,
          -3,
          -3,
          -4,
          -5,
          -5,
          -6,
          -8,
          -10
         ],
         "xaxis": "x",
         "y": [
          138,
          112,
          140,
          87,
          82,
          135,
          63,
          58,
          118,
          158,
          112,
          109,
          24,
          146,
          133,
          83,
          99,
          90,
          102,
          140,
          126,
          134,
          97,
          127,
          117,
          70,
          92,
          111,
          101,
          70,
          127,
          129,
          166,
          115,
          152,
          134,
          90,
          127,
          89,
          114,
          107,
          111
         ],
         "yaxis": "y"
        }
       ],
       "layout": {
        "annotations": [
         {
          "showarrow": false,
          "text": "Mean wRC+",
          "x": 1,
          "xanchor": "right",
          "xref": "x domain",
          "y": 110.35714285714286,
          "yanchor": "top",
          "yref": "y"
         },
         {
          "showarrow": false,
          "text": "Mean OAA",
          "x": -0.5476190476190477,
          "xanchor": "left",
          "xref": "x",
          "y": 0,
          "yanchor": "bottom",
          "yref": "y domain"
         }
        ],
        "coloraxis": {
         "colorbar": {
          "title": {
           "text": "WAR"
          }
         },
         "colorscale": [
          [
           0,
           "rgb(0, 155, 158)"
          ],
          [
           0.16666666666666666,
           "rgb(66, 183, 185)"
          ],
          [
           0.3333333333333333,
           "rgb(167, 211, 212)"
          ],
          [
           0.5,
           "rgb(241, 241, 241)"
          ],
          [
           0.6666666666666666,
           "rgb(228, 193, 217)"
          ],
          [
           0.8333333333333334,
           "rgb(214, 145, 193)"
          ],
          [
           1,
           "rgb(199, 93, 171)"
          ]
         ]
        },
        "height": 700,
        "legend": {
         "tracegroupgap": 0
        },
        "shapes": [
         {
          "line": {
           "color": "LightSeaGreen",
           "dash": "dot",
           "width": 2
          },
          "x0": 1,
          "x1": 6,
          "y0": 132,
          "y1": 166
         },
         {
          "line": {
           "color": "#EF553B",
           "dash": "dot",
           "width": 2
          },
          "x0": -10,
          "x1": -2.75,
          "y0": 24,
          "y1": 90.5
         },
         {
          "line": {
           "dash": "dot"
          },
          "type": "line",
          "x0": 0,
          "x1": 1,
          "xref": "x domain",
          "y0": 110.35714285714286,
          "y1": 110.35714285714286,
          "yref": "y"
         },
         {
          "line": {
           "dash": "dot"
          },
          "type": "line",
          "x0": -0.5476190476190477,
          "x1": -0.5476190476190477,
          "xref": "x",
          "y0": 0,
          "y1": 1,
          "yref": "y domain"
         }
        ],
        "template": {
         "data": {
          "bar": [
           {
            "error_x": {
             "color": "#2a3f5f"
            },
            "error_y": {
             "color": "#2a3f5f"
            },
            "marker": {
             "line": {
              "color": "#E5ECF6",
              "width": 0.5
             },
             "pattern": {
              "fillmode": "overlay",
              "size": 10,
              "solidity": 0.2
             }
            },
            "type": "bar"
           }
          ],
          "barpolar": [
           {
            "marker": {
             "line": {
              "color": "#E5ECF6",
              "width": 0.5
             },
             "pattern": {
              "fillmode": "overlay",
              "size": 10,
              "solidity": 0.2
             }
            },
            "type": "barpolar"
           }
          ],
          "carpet": [
           {
            "aaxis": {
             "endlinecolor": "#2a3f5f",
             "gridcolor": "white",
             "linecolor": "white",
             "minorgridcolor": "white",
             "startlinecolor": "#2a3f5f"
            },
            "baxis": {
             "endlinecolor": "#2a3f5f",
             "gridcolor": "white",
             "linecolor": "white",
             "minorgridcolor": "white",
             "startlinecolor": "#2a3f5f"
            },
            "type": "carpet"
           }
          ],
          "choropleth": [
           {
            "colorbar": {
             "outlinewidth": 0,
             "ticks": ""
            },
            "type": "choropleth"
           }
          ],
          "contour": [
           {
            "colorbar": {
             "outlinewidth": 0,
             "ticks": ""
            },
            "colorscale": [
             [
              0,
              "#0d0887"
             ],
             [
              0.1111111111111111,
              "#46039f"
             ],
             [
              0.2222222222222222,
              "#7201a8"
             ],
             [
              0.3333333333333333,
              "#9c179e"
             ],
             [
              0.4444444444444444,
              "#bd3786"
             ],
             [
              0.5555555555555556,
              "#d8576b"
             ],
             [
              0.6666666666666666,
              "#ed7953"
             ],
             [
              0.7777777777777778,
              "#fb9f3a"
             ],
             [
              0.8888888888888888,
              "#fdca26"
             ],
             [
              1,
              "#f0f921"
             ]
            ],
            "type": "contour"
           }
          ],
          "contourcarpet": [
           {
            "colorbar": {
             "outlinewidth": 0,
             "ticks": ""
            },
            "type": "contourcarpet"
           }
          ],
          "heatmap": [
           {
            "colorbar": {
             "outlinewidth": 0,
             "ticks": ""
            },
            "colorscale": [
             [
              0,
              "#0d0887"
             ],
             [
              0.1111111111111111,
              "#46039f"
             ],
             [
              0.2222222222222222,
              "#7201a8"
             ],
             [
              0.3333333333333333,
              "#9c179e"
             ],
             [
              0.4444444444444444,
              "#bd3786"
             ],
             [
              0.5555555555555556,
              "#d8576b"
             ],
             [
              0.6666666666666666,
              "#ed7953"
             ],
             [
              0.7777777777777778,
              "#fb9f3a"
             ],
             [
              0.8888888888888888,
              "#fdca26"
             ],
             [
              1,
              "#f0f921"
             ]
            ],
            "type": "heatmap"
           }
          ],
          "heatmapgl": [
           {
            "colorbar": {
             "outlinewidth": 0,
             "ticks": ""
            },
            "colorscale": [
             [
              0,
              "#0d0887"
             ],
             [
              0.1111111111111111,
              "#46039f"
             ],
             [
              0.2222222222222222,
              "#7201a8"
             ],
             [
              0.3333333333333333,
              "#9c179e"
             ],
             [
              0.4444444444444444,
              "#bd3786"
             ],
             [
              0.5555555555555556,
              "#d8576b"
             ],
             [
              0.6666666666666666,
              "#ed7953"
             ],
             [
              0.7777777777777778,
              "#fb9f3a"
             ],
             [
              0.8888888888888888,
              "#fdca26"
             ],
             [
              1,
              "#f0f921"
             ]
            ],
            "type": "heatmapgl"
           }
          ],
          "histogram": [
           {
            "marker": {
             "pattern": {
              "fillmode": "overlay",
              "size": 10,
              "solidity": 0.2
             }
            },
            "type": "histogram"
           }
          ],
          "histogram2d": [
           {
            "colorbar": {
             "outlinewidth": 0,
             "ticks": ""
            },
            "colorscale": [
             [
              0,
              "#0d0887"
             ],
             [
              0.1111111111111111,
              "#46039f"
             ],
             [
              0.2222222222222222,
              "#7201a8"
             ],
             [
              0.3333333333333333,
              "#9c179e"
             ],
             [
              0.4444444444444444,
              "#bd3786"
             ],
             [
              0.5555555555555556,
              "#d8576b"
             ],
             [
              0.6666666666666666,
              "#ed7953"
             ],
             [
              0.7777777777777778,
              "#fb9f3a"
             ],
             [
              0.8888888888888888,
              "#fdca26"
             ],
             [
              1,
              "#f0f921"
             ]
            ],
            "type": "histogram2d"
           }
          ],
          "histogram2dcontour": [
           {
            "colorbar": {
             "outlinewidth": 0,
             "ticks": ""
            },
            "colorscale": [
             [
              0,
              "#0d0887"
             ],
             [
              0.1111111111111111,
              "#46039f"
             ],
             [
              0.2222222222222222,
              "#7201a8"
             ],
             [
              0.3333333333333333,
              "#9c179e"
             ],
             [
              0.4444444444444444,
              "#bd3786"
             ],
             [
              0.5555555555555556,
              "#d8576b"
             ],
             [
              0.6666666666666666,
              "#ed7953"
             ],
             [
              0.7777777777777778,
              "#fb9f3a"
             ],
             [
              0.8888888888888888,
              "#fdca26"
             ],
             [
              1,
              "#f0f921"
             ]
            ],
            "type": "histogram2dcontour"
           }
          ],
          "mesh3d": [
           {
            "colorbar": {
             "outlinewidth": 0,
             "ticks": ""
            },
            "type": "mesh3d"
           }
          ],
          "parcoords": [
           {
            "line": {
             "colorbar": {
              "outlinewidth": 0,
              "ticks": ""
             }
            },
            "type": "parcoords"
           }
          ],
          "pie": [
           {
            "automargin": true,
            "type": "pie"
           }
          ],
          "scatter": [
           {
            "marker": {
             "colorbar": {
              "outlinewidth": 0,
              "ticks": ""
             }
            },
            "type": "scatter"
           }
          ],
          "scatter3d": [
           {
            "line": {
             "colorbar": {
              "outlinewidth": 0,
              "ticks": ""
             }
            },
            "marker": {
             "colorbar": {
              "outlinewidth": 0,
              "ticks": ""
             }
            },
            "type": "scatter3d"
           }
          ],
          "scattercarpet": [
           {
            "marker": {
             "colorbar": {
              "outlinewidth": 0,
              "ticks": ""
             }
            },
            "type": "scattercarpet"
           }
          ],
          "scattergeo": [
           {
            "marker": {
             "colorbar": {
              "outlinewidth": 0,
              "ticks": ""
             }
            },
            "type": "scattergeo"
           }
          ],
          "scattergl": [
           {
            "marker": {
             "colorbar": {
              "outlinewidth": 0,
              "ticks": ""
             }
            },
            "type": "scattergl"
           }
          ],
          "scattermapbox": [
           {
            "marker": {
             "colorbar": {
              "outlinewidth": 0,
              "ticks": ""
             }
            },
            "type": "scattermapbox"
           }
          ],
          "scatterpolar": [
           {
            "marker": {
             "colorbar": {
              "outlinewidth": 0,
              "ticks": ""
             }
            },
            "type": "scatterpolar"
           }
          ],
          "scatterpolargl": [
           {
            "marker": {
             "colorbar": {
              "outlinewidth": 0,
              "ticks": ""
             }
            },
            "type": "scatterpolargl"
           }
          ],
          "scatterternary": [
           {
            "marker": {
             "colorbar": {
              "outlinewidth": 0,
              "ticks": ""
             }
            },
            "type": "scatterternary"
           }
          ],
          "surface": [
           {
            "colorbar": {
             "outlinewidth": 0,
             "ticks": ""
            },
            "colorscale": [
             [
              0,
              "#0d0887"
             ],
             [
              0.1111111111111111,
              "#46039f"
             ],
             [
              0.2222222222222222,
              "#7201a8"
             ],
             [
              0.3333333333333333,
              "#9c179e"
             ],
             [
              0.4444444444444444,
              "#bd3786"
             ],
             [
              0.5555555555555556,
              "#d8576b"
             ],
             [
              0.6666666666666666,
              "#ed7953"
             ],
             [
              0.7777777777777778,
              "#fb9f3a"
             ],
             [
              0.8888888888888888,
              "#fdca26"
             ],
             [
              1,
              "#f0f921"
             ]
            ],
            "type": "surface"
           }
          ],
          "table": [
           {
            "cells": {
             "fill": {
              "color": "#EBF0F8"
             },
             "line": {
              "color": "white"
             }
            },
            "header": {
             "fill": {
              "color": "#C8D4E3"
             },
             "line": {
              "color": "white"
             }
            },
            "type": "table"
           }
          ]
         },
         "layout": {
          "annotationdefaults": {
           "arrowcolor": "#2a3f5f",
           "arrowhead": 0,
           "arrowwidth": 1
          },
          "autotypenumbers": "strict",
          "coloraxis": {
           "colorbar": {
            "outlinewidth": 0,
            "ticks": ""
           }
          },
          "colorscale": {
           "diverging": [
            [
             0,
             "#8e0152"
            ],
            [
             0.1,
             "#c51b7d"
            ],
            [
             0.2,
             "#de77ae"
            ],
            [
             0.3,
             "#f1b6da"
            ],
            [
             0.4,
             "#fde0ef"
            ],
            [
             0.5,
             "#f7f7f7"
            ],
            [
             0.6,
             "#e6f5d0"
            ],
            [
             0.7,
             "#b8e186"
            ],
            [
             0.8,
             "#7fbc41"
            ],
            [
             0.9,
             "#4d9221"
            ],
            [
             1,
             "#276419"
            ]
           ],
           "sequential": [
            [
             0,
             "#0d0887"
            ],
            [
             0.1111111111111111,
             "#46039f"
            ],
            [
             0.2222222222222222,
             "#7201a8"
            ],
            [
             0.3333333333333333,
             "#9c179e"
            ],
            [
             0.4444444444444444,
             "#bd3786"
            ],
            [
             0.5555555555555556,
             "#d8576b"
            ],
            [
             0.6666666666666666,
             "#ed7953"
            ],
            [
             0.7777777777777778,
             "#fb9f3a"
            ],
            [
             0.8888888888888888,
             "#fdca26"
            ],
            [
             1,
             "#f0f921"
            ]
           ],
           "sequentialminus": [
            [
             0,
             "#0d0887"
            ],
            [
             0.1111111111111111,
             "#46039f"
            ],
            [
             0.2222222222222222,
             "#7201a8"
            ],
            [
             0.3333333333333333,
             "#9c179e"
            ],
            [
             0.4444444444444444,
             "#bd3786"
            ],
            [
             0.5555555555555556,
             "#d8576b"
            ],
            [
             0.6666666666666666,
             "#ed7953"
            ],
            [
             0.7777777777777778,
             "#fb9f3a"
            ],
            [
             0.8888888888888888,
             "#fdca26"
            ],
            [
             1,
             "#f0f921"
            ]
           ]
          },
          "colorway": [
           "#636efa",
           "#EF553B",
           "#00cc96",
           "#ab63fa",
           "#FFA15A",
           "#19d3f3",
           "#FF6692",
           "#B6E880",
           "#FF97FF",
           "#FECB52"
          ],
          "font": {
           "color": "#2a3f5f"
          },
          "geo": {
           "bgcolor": "white",
           "lakecolor": "white",
           "landcolor": "#E5ECF6",
           "showlakes": true,
           "showland": true,
           "subunitcolor": "white"
          },
          "hoverlabel": {
           "align": "left"
          },
          "hovermode": "closest",
          "mapbox": {
           "style": "light"
          },
          "paper_bgcolor": "white",
          "plot_bgcolor": "#E5ECF6",
          "polar": {
           "angularaxis": {
            "gridcolor": "white",
            "linecolor": "white",
            "ticks": ""
           },
           "bgcolor": "#E5ECF6",
           "radialaxis": {
            "gridcolor": "white",
            "linecolor": "white",
            "ticks": ""
           }
          },
          "scene": {
           "xaxis": {
            "backgroundcolor": "#E5ECF6",
            "gridcolor": "white",
            "gridwidth": 2,
            "linecolor": "white",
            "showbackground": true,
            "ticks": "",
            "zerolinecolor": "white"
           },
           "yaxis": {
            "backgroundcolor": "#E5ECF6",
            "gridcolor": "white",
            "gridwidth": 2,
            "linecolor": "white",
            "showbackground": true,
            "ticks": "",
            "zerolinecolor": "white"
           },
           "zaxis": {
            "backgroundcolor": "#E5ECF6",
            "gridcolor": "white",
            "gridwidth": 2,
            "linecolor": "white",
            "showbackground": true,
            "ticks": "",
            "zerolinecolor": "white"
           }
          },
          "shapedefaults": {
           "line": {
            "color": "#2a3f5f"
           }
          },
          "ternary": {
           "aaxis": {
            "gridcolor": "white",
            "linecolor": "white",
            "ticks": ""
           },
           "baxis": {
            "gridcolor": "white",
            "linecolor": "white",
            "ticks": ""
           },
           "bgcolor": "#E5ECF6",
           "caxis": {
            "gridcolor": "white",
            "linecolor": "white",
            "ticks": ""
           }
          },
          "title": {
           "x": 0.05
          },
          "xaxis": {
           "automargin": true,
           "gridcolor": "white",
           "linecolor": "white",
           "ticks": "",
           "title": {
            "standoff": 15
           },
           "zerolinecolor": "white",
           "zerolinewidth": 2
          },
          "yaxis": {
           "automargin": true,
           "gridcolor": "white",
           "linecolor": "white",
           "ticks": "",
           "title": {
            "standoff": 15
           },
           "zerolinecolor": "white",
           "zerolinewidth": 2
          }
         }
        },
        "title": {
         "text": "OAA vs wRC+ for 1B"
        },
        "width": 1350,
        "xaxis": {
         "anchor": "y",
         "domain": [
          0,
          1
         ],
         "nticks": 40,
         "title": {
          "text": "OAA"
         }
        },
        "yaxis": {
         "anchor": "x",
         "domain": [
          0,
          1
         ],
         "nticks": 20,
         "title": {
          "text": "wRC+"
         }
        }
       }
      }
     },
     "metadata": {},
     "output_type": "display_data"
    }
   ],
   "source": [
    "firstbase_plot"
   ]
  },
  {
   "cell_type": "code",
   "execution_count": 265,
   "metadata": {},
   "outputs": [
    {
     "data": {
      "application/vnd.plotly.v1+json": {
       "config": {
        "plotlyServerURL": "https://plot.ly"
       },
       "data": [
        {
         "customdata": [
          [
           "STL",
           691
          ],
          [
           "SEA",
           377
          ],
          [
           "COL",
           596
          ],
          [
           "CHC",
           170
          ],
          [
           "NYY",
           361
          ],
          [
           "TBR",
           501
          ],
          [
           "LAA",
           665
          ],
          [
           "COL",
           494
          ],
          [
           "BOS",
           585
          ],
          [
           "KCR",
           720
          ],
          [
           "NYM",
           426
          ],
          [
           "DET",
           674
          ],
          [
           "- - -",
           558
          ],
          [
           "HOU",
           678
          ],
          [
           "CLE",
           133
          ],
          [
           "TEX",
           272
          ],
          [
           "TEX",
           511
          ],
          [
           "SFG",
           132
          ],
          [
           "SFG",
           187
          ],
          [
           "BAL",
           281
          ],
          [
           "- - -",
           124
          ],
          [
           "OAK",
           397
          ],
          [
           "- - -",
           150
          ],
          [
           "CHW",
           215
          ],
          [
           "BOS",
           181
          ],
          [
           "SDP",
           643
          ],
          [
           "NYY",
           679
          ],
          [
           "SFG",
           242
          ],
          [
           "NYM",
           156
          ],
          [
           "MIL",
           492
          ],
          [
           "WSN",
           346
          ],
          [
           "TBR",
           169
          ],
          [
           "- - -",
           639
          ],
          [
           "DET",
           450
          ],
          [
           "TEX",
           260
          ],
          [
           "NYY",
           145
          ],
          [
           "SFG",
           344
          ],
          [
           "ATL",
           686
          ],
          [
           "MIL",
           197
          ],
          [
           "CLE",
           202
          ],
          [
           "MIL",
           302
          ],
          [
           "- - -",
           637
          ],
          [
           "KCR",
           255
          ],
          [
           "CHW",
           186
          ],
          [
           "NYM",
           505
          ],
          [
           "- - -",
           209
          ],
          [
           "OAK",
           512
          ],
          [
           "SEA",
           121
          ],
          [
           "CIN",
           134
          ],
          [
           "CHC",
           180
          ],
          [
           "LAD",
           172
          ],
          [
           "ARI",
           310
          ],
          [
           "HOU",
           117
          ],
          [
           "- - -",
           257
          ],
          [
           "PHI",
           377
          ],
          [
           "MIA",
           507
          ],
          [
           "COL",
           415
          ],
          [
           "LAA",
           373
          ],
          [
           "PIT",
           240
          ],
          [
           "MIN",
           479
          ],
          [
           "ARI",
           550
          ],
          [
           "TBR",
           615
          ],
          [
           "MIA",
           277
          ],
          [
           "SDP",
           412
          ],
          [
           "TOR",
           294
          ],
          [
           "CIN",
           631
          ],
          [
           "LAA",
           190
          ],
          [
           "OAK",
           233
          ],
          [
           "DET",
           339
          ],
          [
           "WSN",
           247
          ]
         ],
         "hovertemplate": "<b>%{hovertext}</b><br><br>OAA=%{x}<br>wRC+=%{y}<br>Team=%{customdata[0]}<br>PA=%{customdata[1]}<br>WAR=%{marker.color}<extra></extra>",
         "hovertext": [
          "Tommy Edman",
          "Dylan Moore",
          "Ryan McMahon",
          "Nico Hoerner",
          "Rougned Odor",
          "Joey Wendle",
          "David Fletcher",
          "Garrett Hampson",
          "Enrique Hernandez",
          "Whit Merrifield",
          "Jeff McNeil",
          "Jonathan Schoop",
          "Josh Harrison",
          "Jose Altuve",
          "Ernie Clement",
          "Andy Ibanez",
          "Nick Solak",
          "Thairo Estrada",
          "Mauricio Dubon",
          "Pat Valaika",
          "Michael Chavis",
          "Tony Kemp",
          "Hoy Park",
          "Nick Madrigal",
          "Christian Arroyo",
          "Jake Cronenworth",
          "DJ LeMahieu",
          "Tommy La Stella",
          "Luis Guillorme",
          "Kolten Wong",
          "Starlin Castro",
          "Mike Brosseau",
          "Adam Frazier",
          "Willi Castro",
          "Brock Holt",
          "Tyler Wade",
          "Donovan Solano",
          "Ozzie Albies",
          "Keston Hiura",
          "Owen Miller",
          "Jace Peterson",
          "Cesar Hernandez",
          "Hanser Alberto",
          "Danny Mendick",
          "Jonathan Villar",
          "Jorge Mateo",
          "Jed Lowrie",
          "Shed Long Jr.",
          "Max Schrock",
          "Eric Sogard",
          "Zach McKinstry",
          "Josh VanMeter",
          "Robel Garcia",
          "Joe Panik",
          "Brad Miller",
          "Jazz Chisholm Jr.",
          "Brendan Rodgers",
          "Phil Gosselin",
          "Wilmer Difo",
          "Luis Arraez",
          "Josh Rojas",
          "Brandon Lowe",
          "Isan Diaz",
          "Jurickson Profar",
          "Cavan Biggio",
          "Jonathan India",
          "Luis Rengifo",
          "Chad Pinder",
          "Harold Castro",
          "Luis Garcia"
         ],
         "legendgroup": "",
         "marker": {
          "color": [
           2.3,
           0.2,
           2.5,
           0.8,
           0.6,
           2.6,
           0.3,
           0.5,
           3.9,
           3.2,
           0.5,
           1.5,
           1.5,
           5.2,
           0.3,
           1,
           1.1,
           0.9,
           -0.1,
           -1,
           -0.1,
           2.7,
           0.1,
           1.3,
           1.2,
           4.4,
           2.4,
           0.5,
           0.4,
           2.9,
           0.4,
           -0.2,
           3.4,
           -0.4,
           -0.3,
           0.9,
           1.1,
           4.2,
           -0.7,
           -1.1,
           0.9,
           2.2,
           0.6,
           0.2,
           2.1,
           0.5,
           0.9,
           -0.5,
           0.2,
           -0.4,
           -0.5,
           -0.5,
           -0.6,
           -1.2,
           1,
           1.6,
           1.6,
           0.1,
           0.5,
           1.8,
           2,
           5.2,
           -0.7,
           -0.7,
           -0.1,
           3.9,
           -0.4,
           0.4,
           0.5,
           -0.2
          ],
          "coloraxis": "coloraxis",
          "line": {
           "width": 2
          },
          "size": 10,
          "symbol": "circle"
         },
         "mode": "markers",
         "name": "",
         "orientation": "v",
         "showlegend": false,
         "type": "scatter",
         "x": [
          13,
          11,
          11,
          10,
          9,
          8,
          8,
          8,
          7,
          6,
          5,
          5,
          5,
          5,
          4,
          4,
          4,
          2,
          2,
          2,
          2,
          2,
          2,
          1,
          1,
          1,
          1,
          1,
          1,
          1,
          1,
          1,
          1,
          0,
          0,
          0,
          0,
          0,
          -1,
          -1,
          -1,
          -1,
          -1,
          -2,
          -2,
          -2,
          -2,
          -2,
          -2,
          -3,
          -3,
          -3,
          -3,
          -3,
          -4,
          -4,
          -4,
          -5,
          -5,
          -5,
          -6,
          -6,
          -7,
          -7,
          -7,
          -7,
          -7,
          -7,
          -12,
          -12
         ],
         "xaxis": "x",
         "y": [
          91,
          74,
          95,
          104,
          83,
          106,
          70,
          65,
          110,
          91,
          93,
          105,
          103,
          130,
          72,
          107,
          89,
          119,
          75,
          46,
          69,
          127,
          73,
          113,
          106,
          116,
          100,
          94,
          99,
          109,
          90,
          73,
          114,
          69,
          62,
          92,
          105,
          107,
          52,
          49,
          97,
          90,
          84,
          68,
          105,
          83,
          100,
          72,
          100,
          59,
          77,
          75,
          20,
          51,
          105,
          98,
          100,
          87,
          95,
          103,
          102,
          137,
          60,
          85,
          84,
          122,
          50,
          97,
          83,
          79
         ],
         "yaxis": "y"
        }
       ],
       "layout": {
        "annotations": [
         {
          "showarrow": false,
          "text": "Mean wRC+",
          "x": 1,
          "xanchor": "right",
          "xref": "x domain",
          "y": 88.78571428571429,
          "yanchor": "top",
          "yref": "y"
         },
         {
          "showarrow": false,
          "text": "Mean OAA",
          "x": 0.11428571428571428,
          "xanchor": "left",
          "xref": "x",
          "y": 0,
          "yanchor": "bottom",
          "yref": "y domain"
         }
        ],
        "coloraxis": {
         "colorbar": {
          "title": {
           "text": "WAR"
          }
         },
         "colorscale": [
          [
           0,
           "rgb(0, 155, 158)"
          ],
          [
           0.16666666666666666,
           "rgb(66, 183, 185)"
          ],
          [
           0.3333333333333333,
           "rgb(167, 211, 212)"
          ],
          [
           0.5,
           "rgb(241, 241, 241)"
          ],
          [
           0.6666666666666666,
           "rgb(228, 193, 217)"
          ],
          [
           0.8333333333333334,
           "rgb(214, 145, 193)"
          ],
          [
           1,
           "rgb(199, 93, 171)"
          ]
         ]
        },
        "height": 700,
        "legend": {
         "tracegroupgap": 0
        },
        "shapes": [
         {
          "line": {
           "color": "LightSeaGreen",
           "dash": "dot",
           "width": 2
          },
          "x0": 2,
          "x1": 13,
          "y0": 104.75,
          "y1": 137
         },
         {
          "line": {
           "color": "#EF553B",
           "dash": "dot",
           "width": 2
          },
          "x0": -12,
          "x1": -3,
          "y0": 20,
          "y1": 73.25
         },
         {
          "line": {
           "dash": "dot"
          },
          "type": "line",
          "x0": 0,
          "x1": 1,
          "xref": "x domain",
          "y0": 88.78571428571429,
          "y1": 88.78571428571429,
          "yref": "y"
         },
         {
          "line": {
           "dash": "dot"
          },
          "type": "line",
          "x0": 0.11428571428571428,
          "x1": 0.11428571428571428,
          "xref": "x",
          "y0": 0,
          "y1": 1,
          "yref": "y domain"
         }
        ],
        "template": {
         "data": {
          "bar": [
           {
            "error_x": {
             "color": "#2a3f5f"
            },
            "error_y": {
             "color": "#2a3f5f"
            },
            "marker": {
             "line": {
              "color": "#E5ECF6",
              "width": 0.5
             },
             "pattern": {
              "fillmode": "overlay",
              "size": 10,
              "solidity": 0.2
             }
            },
            "type": "bar"
           }
          ],
          "barpolar": [
           {
            "marker": {
             "line": {
              "color": "#E5ECF6",
              "width": 0.5
             },
             "pattern": {
              "fillmode": "overlay",
              "size": 10,
              "solidity": 0.2
             }
            },
            "type": "barpolar"
           }
          ],
          "carpet": [
           {
            "aaxis": {
             "endlinecolor": "#2a3f5f",
             "gridcolor": "white",
             "linecolor": "white",
             "minorgridcolor": "white",
             "startlinecolor": "#2a3f5f"
            },
            "baxis": {
             "endlinecolor": "#2a3f5f",
             "gridcolor": "white",
             "linecolor": "white",
             "minorgridcolor": "white",
             "startlinecolor": "#2a3f5f"
            },
            "type": "carpet"
           }
          ],
          "choropleth": [
           {
            "colorbar": {
             "outlinewidth": 0,
             "ticks": ""
            },
            "type": "choropleth"
           }
          ],
          "contour": [
           {
            "colorbar": {
             "outlinewidth": 0,
             "ticks": ""
            },
            "colorscale": [
             [
              0,
              "#0d0887"
             ],
             [
              0.1111111111111111,
              "#46039f"
             ],
             [
              0.2222222222222222,
              "#7201a8"
             ],
             [
              0.3333333333333333,
              "#9c179e"
             ],
             [
              0.4444444444444444,
              "#bd3786"
             ],
             [
              0.5555555555555556,
              "#d8576b"
             ],
             [
              0.6666666666666666,
              "#ed7953"
             ],
             [
              0.7777777777777778,
              "#fb9f3a"
             ],
             [
              0.8888888888888888,
              "#fdca26"
             ],
             [
              1,
              "#f0f921"
             ]
            ],
            "type": "contour"
           }
          ],
          "contourcarpet": [
           {
            "colorbar": {
             "outlinewidth": 0,
             "ticks": ""
            },
            "type": "contourcarpet"
           }
          ],
          "heatmap": [
           {
            "colorbar": {
             "outlinewidth": 0,
             "ticks": ""
            },
            "colorscale": [
             [
              0,
              "#0d0887"
             ],
             [
              0.1111111111111111,
              "#46039f"
             ],
             [
              0.2222222222222222,
              "#7201a8"
             ],
             [
              0.3333333333333333,
              "#9c179e"
             ],
             [
              0.4444444444444444,
              "#bd3786"
             ],
             [
              0.5555555555555556,
              "#d8576b"
             ],
             [
              0.6666666666666666,
              "#ed7953"
             ],
             [
              0.7777777777777778,
              "#fb9f3a"
             ],
             [
              0.8888888888888888,
              "#fdca26"
             ],
             [
              1,
              "#f0f921"
             ]
            ],
            "type": "heatmap"
           }
          ],
          "heatmapgl": [
           {
            "colorbar": {
             "outlinewidth": 0,
             "ticks": ""
            },
            "colorscale": [
             [
              0,
              "#0d0887"
             ],
             [
              0.1111111111111111,
              "#46039f"
             ],
             [
              0.2222222222222222,
              "#7201a8"
             ],
             [
              0.3333333333333333,
              "#9c179e"
             ],
             [
              0.4444444444444444,
              "#bd3786"
             ],
             [
              0.5555555555555556,
              "#d8576b"
             ],
             [
              0.6666666666666666,
              "#ed7953"
             ],
             [
              0.7777777777777778,
              "#fb9f3a"
             ],
             [
              0.8888888888888888,
              "#fdca26"
             ],
             [
              1,
              "#f0f921"
             ]
            ],
            "type": "heatmapgl"
           }
          ],
          "histogram": [
           {
            "marker": {
             "pattern": {
              "fillmode": "overlay",
              "size": 10,
              "solidity": 0.2
             }
            },
            "type": "histogram"
           }
          ],
          "histogram2d": [
           {
            "colorbar": {
             "outlinewidth": 0,
             "ticks": ""
            },
            "colorscale": [
             [
              0,
              "#0d0887"
             ],
             [
              0.1111111111111111,
              "#46039f"
             ],
             [
              0.2222222222222222,
              "#7201a8"
             ],
             [
              0.3333333333333333,
              "#9c179e"
             ],
             [
              0.4444444444444444,
              "#bd3786"
             ],
             [
              0.5555555555555556,
              "#d8576b"
             ],
             [
              0.6666666666666666,
              "#ed7953"
             ],
             [
              0.7777777777777778,
              "#fb9f3a"
             ],
             [
              0.8888888888888888,
              "#fdca26"
             ],
             [
              1,
              "#f0f921"
             ]
            ],
            "type": "histogram2d"
           }
          ],
          "histogram2dcontour": [
           {
            "colorbar": {
             "outlinewidth": 0,
             "ticks": ""
            },
            "colorscale": [
             [
              0,
              "#0d0887"
             ],
             [
              0.1111111111111111,
              "#46039f"
             ],
             [
              0.2222222222222222,
              "#7201a8"
             ],
             [
              0.3333333333333333,
              "#9c179e"
             ],
             [
              0.4444444444444444,
              "#bd3786"
             ],
             [
              0.5555555555555556,
              "#d8576b"
             ],
             [
              0.6666666666666666,
              "#ed7953"
             ],
             [
              0.7777777777777778,
              "#fb9f3a"
             ],
             [
              0.8888888888888888,
              "#fdca26"
             ],
             [
              1,
              "#f0f921"
             ]
            ],
            "type": "histogram2dcontour"
           }
          ],
          "mesh3d": [
           {
            "colorbar": {
             "outlinewidth": 0,
             "ticks": ""
            },
            "type": "mesh3d"
           }
          ],
          "parcoords": [
           {
            "line": {
             "colorbar": {
              "outlinewidth": 0,
              "ticks": ""
             }
            },
            "type": "parcoords"
           }
          ],
          "pie": [
           {
            "automargin": true,
            "type": "pie"
           }
          ],
          "scatter": [
           {
            "marker": {
             "colorbar": {
              "outlinewidth": 0,
              "ticks": ""
             }
            },
            "type": "scatter"
           }
          ],
          "scatter3d": [
           {
            "line": {
             "colorbar": {
              "outlinewidth": 0,
              "ticks": ""
             }
            },
            "marker": {
             "colorbar": {
              "outlinewidth": 0,
              "ticks": ""
             }
            },
            "type": "scatter3d"
           }
          ],
          "scattercarpet": [
           {
            "marker": {
             "colorbar": {
              "outlinewidth": 0,
              "ticks": ""
             }
            },
            "type": "scattercarpet"
           }
          ],
          "scattergeo": [
           {
            "marker": {
             "colorbar": {
              "outlinewidth": 0,
              "ticks": ""
             }
            },
            "type": "scattergeo"
           }
          ],
          "scattergl": [
           {
            "marker": {
             "colorbar": {
              "outlinewidth": 0,
              "ticks": ""
             }
            },
            "type": "scattergl"
           }
          ],
          "scattermapbox": [
           {
            "marker": {
             "colorbar": {
              "outlinewidth": 0,
              "ticks": ""
             }
            },
            "type": "scattermapbox"
           }
          ],
          "scatterpolar": [
           {
            "marker": {
             "colorbar": {
              "outlinewidth": 0,
              "ticks": ""
             }
            },
            "type": "scatterpolar"
           }
          ],
          "scatterpolargl": [
           {
            "marker": {
             "colorbar": {
              "outlinewidth": 0,
              "ticks": ""
             }
            },
            "type": "scatterpolargl"
           }
          ],
          "scatterternary": [
           {
            "marker": {
             "colorbar": {
              "outlinewidth": 0,
              "ticks": ""
             }
            },
            "type": "scatterternary"
           }
          ],
          "surface": [
           {
            "colorbar": {
             "outlinewidth": 0,
             "ticks": ""
            },
            "colorscale": [
             [
              0,
              "#0d0887"
             ],
             [
              0.1111111111111111,
              "#46039f"
             ],
             [
              0.2222222222222222,
              "#7201a8"
             ],
             [
              0.3333333333333333,
              "#9c179e"
             ],
             [
              0.4444444444444444,
              "#bd3786"
             ],
             [
              0.5555555555555556,
              "#d8576b"
             ],
             [
              0.6666666666666666,
              "#ed7953"
             ],
             [
              0.7777777777777778,
              "#fb9f3a"
             ],
             [
              0.8888888888888888,
              "#fdca26"
             ],
             [
              1,
              "#f0f921"
             ]
            ],
            "type": "surface"
           }
          ],
          "table": [
           {
            "cells": {
             "fill": {
              "color": "#EBF0F8"
             },
             "line": {
              "color": "white"
             }
            },
            "header": {
             "fill": {
              "color": "#C8D4E3"
             },
             "line": {
              "color": "white"
             }
            },
            "type": "table"
           }
          ]
         },
         "layout": {
          "annotationdefaults": {
           "arrowcolor": "#2a3f5f",
           "arrowhead": 0,
           "arrowwidth": 1
          },
          "autotypenumbers": "strict",
          "coloraxis": {
           "colorbar": {
            "outlinewidth": 0,
            "ticks": ""
           }
          },
          "colorscale": {
           "diverging": [
            [
             0,
             "#8e0152"
            ],
            [
             0.1,
             "#c51b7d"
            ],
            [
             0.2,
             "#de77ae"
            ],
            [
             0.3,
             "#f1b6da"
            ],
            [
             0.4,
             "#fde0ef"
            ],
            [
             0.5,
             "#f7f7f7"
            ],
            [
             0.6,
             "#e6f5d0"
            ],
            [
             0.7,
             "#b8e186"
            ],
            [
             0.8,
             "#7fbc41"
            ],
            [
             0.9,
             "#4d9221"
            ],
            [
             1,
             "#276419"
            ]
           ],
           "sequential": [
            [
             0,
             "#0d0887"
            ],
            [
             0.1111111111111111,
             "#46039f"
            ],
            [
             0.2222222222222222,
             "#7201a8"
            ],
            [
             0.3333333333333333,
             "#9c179e"
            ],
            [
             0.4444444444444444,
             "#bd3786"
            ],
            [
             0.5555555555555556,
             "#d8576b"
            ],
            [
             0.6666666666666666,
             "#ed7953"
            ],
            [
             0.7777777777777778,
             "#fb9f3a"
            ],
            [
             0.8888888888888888,
             "#fdca26"
            ],
            [
             1,
             "#f0f921"
            ]
           ],
           "sequentialminus": [
            [
             0,
             "#0d0887"
            ],
            [
             0.1111111111111111,
             "#46039f"
            ],
            [
             0.2222222222222222,
             "#7201a8"
            ],
            [
             0.3333333333333333,
             "#9c179e"
            ],
            [
             0.4444444444444444,
             "#bd3786"
            ],
            [
             0.5555555555555556,
             "#d8576b"
            ],
            [
             0.6666666666666666,
             "#ed7953"
            ],
            [
             0.7777777777777778,
             "#fb9f3a"
            ],
            [
             0.8888888888888888,
             "#fdca26"
            ],
            [
             1,
             "#f0f921"
            ]
           ]
          },
          "colorway": [
           "#636efa",
           "#EF553B",
           "#00cc96",
           "#ab63fa",
           "#FFA15A",
           "#19d3f3",
           "#FF6692",
           "#B6E880",
           "#FF97FF",
           "#FECB52"
          ],
          "font": {
           "color": "#2a3f5f"
          },
          "geo": {
           "bgcolor": "white",
           "lakecolor": "white",
           "landcolor": "#E5ECF6",
           "showlakes": true,
           "showland": true,
           "subunitcolor": "white"
          },
          "hoverlabel": {
           "align": "left"
          },
          "hovermode": "closest",
          "mapbox": {
           "style": "light"
          },
          "paper_bgcolor": "white",
          "plot_bgcolor": "#E5ECF6",
          "polar": {
           "angularaxis": {
            "gridcolor": "white",
            "linecolor": "white",
            "ticks": ""
           },
           "bgcolor": "#E5ECF6",
           "radialaxis": {
            "gridcolor": "white",
            "linecolor": "white",
            "ticks": ""
           }
          },
          "scene": {
           "xaxis": {
            "backgroundcolor": "#E5ECF6",
            "gridcolor": "white",
            "gridwidth": 2,
            "linecolor": "white",
            "showbackground": true,
            "ticks": "",
            "zerolinecolor": "white"
           },
           "yaxis": {
            "backgroundcolor": "#E5ECF6",
            "gridcolor": "white",
            "gridwidth": 2,
            "linecolor": "white",
            "showbackground": true,
            "ticks": "",
            "zerolinecolor": "white"
           },
           "zaxis": {
            "backgroundcolor": "#E5ECF6",
            "gridcolor": "white",
            "gridwidth": 2,
            "linecolor": "white",
            "showbackground": true,
            "ticks": "",
            "zerolinecolor": "white"
           }
          },
          "shapedefaults": {
           "line": {
            "color": "#2a3f5f"
           }
          },
          "ternary": {
           "aaxis": {
            "gridcolor": "white",
            "linecolor": "white",
            "ticks": ""
           },
           "baxis": {
            "gridcolor": "white",
            "linecolor": "white",
            "ticks": ""
           },
           "bgcolor": "#E5ECF6",
           "caxis": {
            "gridcolor": "white",
            "linecolor": "white",
            "ticks": ""
           }
          },
          "title": {
           "x": 0.05
          },
          "xaxis": {
           "automargin": true,
           "gridcolor": "white",
           "linecolor": "white",
           "ticks": "",
           "title": {
            "standoff": 15
           },
           "zerolinecolor": "white",
           "zerolinewidth": 2
          },
          "yaxis": {
           "automargin": true,
           "gridcolor": "white",
           "linecolor": "white",
           "ticks": "",
           "title": {
            "standoff": 15
           },
           "zerolinecolor": "white",
           "zerolinewidth": 2
          }
         }
        },
        "title": {
         "text": "OAA vs wRC+ for 2B"
        },
        "width": 1350,
        "xaxis": {
         "anchor": "y",
         "domain": [
          0,
          1
         ],
         "nticks": 40,
         "title": {
          "text": "OAA"
         }
        },
        "yaxis": {
         "anchor": "x",
         "domain": [
          0,
          1
         ],
         "nticks": 20,
         "title": {
          "text": "wRC+"
         }
        }
       }
      }
     },
     "metadata": {},
     "output_type": "display_data"
    }
   ],
   "source": [
    "secondbase_plot"
   ]
  },
  {
   "cell_type": "code",
   "execution_count": 266,
   "metadata": {},
   "outputs": [
    {
     "data": {
      "application/vnd.plotly.v1+json": {
       "config": {
        "plotlyServerURL": "https://plot.ly"
       },
       "data": [
        {
         "customdata": [
          [
           "OAK",
           622
          ],
          [
           "PIT",
           396
          ],
          [
           "STL",
           653
          ],
          [
           "CLE",
           636
          ],
          [
           "TOR",
           246
          ],
          [
           "CLE",
           251
          ],
          [
           "SEA",
           670
          ],
          [
           "PHI",
           344
          ],
          [
           "CHC",
           375
          ],
          [
           "TEX",
           271
          ],
          [
           "- - -",
           290
          ],
          [
           "SDP",
           640
          ],
          [
           "- - -",
           141
          ],
          [
           "MIA",
           264
          ],
          [
           "MIN",
           543
          ],
          [
           "TEX",
           166
          ],
          [
           "MIA",
           271
          ],
          [
           "CHC",
           327
          ],
          [
           "- - -",
           295
          ],
          [
           "COL",
           284
          ],
          [
           "SFG",
           291
          ],
          [
           "LAD",
           612
          ],
          [
           "SFG",
           436
          ],
          [
           "STL",
           249
          ],
          [
           "DET",
           626
          ],
          [
           "- - -",
           599
          ],
          [
           "NYY",
           162
          ],
          [
           "HOU",
           400
          ],
          [
           "TBR",
           541
          ],
          [
           "BAL",
           403
          ],
          [
           "CHW",
           616
          ],
          [
           "MIN",
           216
          ],
          [
           "PHI",
           417
          ],
          [
           "PIT",
           359
          ],
          [
           "NYM",
           211
          ],
          [
           "- - -",
           170
          ],
          [
           "NYY",
           442
          ],
          [
           "PIT",
           247
          ],
          [
           "CIN",
           206
          ],
          [
           "LAA",
           184
          ],
          [
           "CHC",
           322
          ],
          [
           "- - -",
           250
          ],
          [
           "LAA",
           249
          ],
          [
           "ATL",
           662
          ],
          [
           "- - -",
           375
          ],
          [
           "MIN",
           532
          ],
          [
           "- - -",
           586
          ],
          [
           "CIN",
           574
          ],
          [
           "BOS",
           664
          ],
          [
           "KCR",
           543
          ],
          [
           "WSN",
           249
          ]
         ],
         "hovertemplate": "<b>%{hovertext}</b><br><br>OAA=%{x}<br>wRC+=%{y}<br>Team=%{customdata[0]}<br>PA=%{customdata[1]}<br>WAR=%{marker.color}<extra></extra>",
         "hovertext": [
          "Matt Chapman",
          "Ke'Bryan Hayes",
          "Nolan Arenado",
          "Jose Ramirez",
          "Santiago Espinal",
          "Yu Chang",
          "Kyle Seager",
          "Ronald Torreyes",
          "Patrick Wisdom",
          "Charlie Culberson",
          "Jack Mayfield",
          "Manny Machado",
          "Rio Ruiz",
          "Brian Anderson",
          "Josh Donaldson",
          "Yonny Hernandez",
          "Jon Berti",
          "David Bote",
          "Kelvin Gutierrez",
          "Joshua Fuentes",
          "Evan Longoria",
          "Justin Turner",
          "Wilmer Flores",
          "Matt Carpenter",
          "Jeimer Candelario",
          "Eduardo Escobar",
          "Miguel Andujar",
          "Alex Bregman",
          "Yandy Diaz",
          "Maikel Franco",
          "Yoan Moncada",
          "Willians Astudillo",
          "Alec Bohm",
          "Colin Moran",
          "J.D. Davis",
          "Jake Lamb",
          "Gio Urshela",
          "Phillip Evans",
          "Mike Moustakas",
          "Jose Rojas",
          "Matt Duffy",
          "Travis Shaw",
          "Anthony Rendon",
          "Austin Riley",
          "Abraham Toro",
          "Miguel Sano",
          "Kris Bryant",
          "Eugenio Suarez",
          "Rafael Devers",
          "Hunter Dozier",
          "Carter Kieboom"
         ],
         "legendgroup": "",
         "marker": {
          "color": [
           3.4,
           1.5,
           4,
           6.3,
           2.2,
           0.4,
           2.5,
           0.6,
           2.3,
           0.6,
           0.6,
           4.4,
           -0.4,
           1.3,
           2.2,
           0.5,
           0.2,
           -0.6,
           -0.6,
           -0.3,
           1.7,
           4,
           1.2,
           -0.3,
           3.2,
           3,
           -0.2,
           2,
           1.8,
           -0.3,
           4.5,
           -0.8,
           -0.2,
           -0.2,
           1.6,
           0.1,
           1,
           -0.5,
           -0.4,
           -0.1,
           1.5,
           -0.2,
           0.7,
           4.2,
           1.2,
           0.4,
           3.6,
           0.6,
           4.7,
           -0.2,
           -0.7
          ],
          "coloraxis": "coloraxis",
          "line": {
           "width": 2
          },
          "size": 10,
          "symbol": "circle"
         },
         "mode": "markers",
         "name": "",
         "orientation": "v",
         "showlegend": false,
         "type": "scatter",
         "x": [
          17,
          13,
          10,
          7,
          5,
          4,
          4,
          4,
          3,
          2,
          2,
          2,
          2,
          1,
          1,
          1,
          0,
          0,
          0,
          0,
          0,
          0,
          0,
          -1,
          -1,
          -1,
          -1,
          -1,
          -2,
          -2,
          -2,
          -3,
          -3,
          -3,
          -3,
          -3,
          -4,
          -4,
          -4,
          -4,
          -5,
          -5,
          -5,
          -5,
          -6,
          -7,
          -10,
          -10,
          -13,
          -13,
          -13
         ],
         "xaxis": "x",
         "y": [
          101,
          88,
          113,
          137,
          115,
          85,
          99,
          68,
          115,
          85,
          79,
          122,
          37,
          99,
          124,
          66,
          79,
          64,
          67,
          48,
          123,
          127,
          113,
          70,
          119,
          107,
          81,
          115,
          111,
          62,
          122,
          70,
          75,
          98,
          130,
          87,
          96,
          73,
          70,
          83,
          102,
          78,
          95,
          135,
          95,
          110,
          123,
          85,
          134,
          82,
          68
         ],
         "yaxis": "y"
        }
       ],
       "layout": {
        "annotations": [
         {
          "showarrow": false,
          "text": "Mean wRC+",
          "x": 1,
          "xanchor": "right",
          "xref": "x domain",
          "y": 94.70588235294117,
          "yanchor": "top",
          "yref": "y"
         },
         {
          "showarrow": false,
          "text": "Mean OAA",
          "x": -1.0980392156862746,
          "xanchor": "left",
          "xref": "x",
          "y": 0,
          "yanchor": "bottom",
          "yref": "y domain"
         }
        ],
        "coloraxis": {
         "colorbar": {
          "title": {
           "text": "WAR"
          }
         },
         "colorscale": [
          [
           0,
           "rgb(0, 155, 158)"
          ],
          [
           0.16666666666666666,
           "rgb(66, 183, 185)"
          ],
          [
           0.3333333333333333,
           "rgb(167, 211, 212)"
          ],
          [
           0.5,
           "rgb(241, 241, 241)"
          ],
          [
           0.6666666666666666,
           "rgb(228, 193, 217)"
          ],
          [
           0.8333333333333334,
           "rgb(214, 145, 193)"
          ],
          [
           1,
           "rgb(199, 93, 171)"
          ]
         ]
        },
        "height": 700,
        "legend": {
         "tracegroupgap": 0
        },
        "shapes": [
         {
          "line": {
           "color": "LightSeaGreen",
           "dash": "dot",
           "width": 2
          },
          "x0": 1.5,
          "x1": 17,
          "y0": 115,
          "y1": 137
         },
         {
          "line": {
           "color": "#EF553B",
           "dash": "dot",
           "width": 2
          },
          "x0": -13,
          "x1": -4,
          "y0": 37,
          "y1": 76.5
         },
         {
          "line": {
           "dash": "dot"
          },
          "type": "line",
          "x0": 0,
          "x1": 1,
          "xref": "x domain",
          "y0": 94.70588235294117,
          "y1": 94.70588235294117,
          "yref": "y"
         },
         {
          "line": {
           "dash": "dot"
          },
          "type": "line",
          "x0": -1.0980392156862746,
          "x1": -1.0980392156862746,
          "xref": "x",
          "y0": 0,
          "y1": 1,
          "yref": "y domain"
         }
        ],
        "template": {
         "data": {
          "bar": [
           {
            "error_x": {
             "color": "#2a3f5f"
            },
            "error_y": {
             "color": "#2a3f5f"
            },
            "marker": {
             "line": {
              "color": "#E5ECF6",
              "width": 0.5
             },
             "pattern": {
              "fillmode": "overlay",
              "size": 10,
              "solidity": 0.2
             }
            },
            "type": "bar"
           }
          ],
          "barpolar": [
           {
            "marker": {
             "line": {
              "color": "#E5ECF6",
              "width": 0.5
             },
             "pattern": {
              "fillmode": "overlay",
              "size": 10,
              "solidity": 0.2
             }
            },
            "type": "barpolar"
           }
          ],
          "carpet": [
           {
            "aaxis": {
             "endlinecolor": "#2a3f5f",
             "gridcolor": "white",
             "linecolor": "white",
             "minorgridcolor": "white",
             "startlinecolor": "#2a3f5f"
            },
            "baxis": {
             "endlinecolor": "#2a3f5f",
             "gridcolor": "white",
             "linecolor": "white",
             "minorgridcolor": "white",
             "startlinecolor": "#2a3f5f"
            },
            "type": "carpet"
           }
          ],
          "choropleth": [
           {
            "colorbar": {
             "outlinewidth": 0,
             "ticks": ""
            },
            "type": "choropleth"
           }
          ],
          "contour": [
           {
            "colorbar": {
             "outlinewidth": 0,
             "ticks": ""
            },
            "colorscale": [
             [
              0,
              "#0d0887"
             ],
             [
              0.1111111111111111,
              "#46039f"
             ],
             [
              0.2222222222222222,
              "#7201a8"
             ],
             [
              0.3333333333333333,
              "#9c179e"
             ],
             [
              0.4444444444444444,
              "#bd3786"
             ],
             [
              0.5555555555555556,
              "#d8576b"
             ],
             [
              0.6666666666666666,
              "#ed7953"
             ],
             [
              0.7777777777777778,
              "#fb9f3a"
             ],
             [
              0.8888888888888888,
              "#fdca26"
             ],
             [
              1,
              "#f0f921"
             ]
            ],
            "type": "contour"
           }
          ],
          "contourcarpet": [
           {
            "colorbar": {
             "outlinewidth": 0,
             "ticks": ""
            },
            "type": "contourcarpet"
           }
          ],
          "heatmap": [
           {
            "colorbar": {
             "outlinewidth": 0,
             "ticks": ""
            },
            "colorscale": [
             [
              0,
              "#0d0887"
             ],
             [
              0.1111111111111111,
              "#46039f"
             ],
             [
              0.2222222222222222,
              "#7201a8"
             ],
             [
              0.3333333333333333,
              "#9c179e"
             ],
             [
              0.4444444444444444,
              "#bd3786"
             ],
             [
              0.5555555555555556,
              "#d8576b"
             ],
             [
              0.6666666666666666,
              "#ed7953"
             ],
             [
              0.7777777777777778,
              "#fb9f3a"
             ],
             [
              0.8888888888888888,
              "#fdca26"
             ],
             [
              1,
              "#f0f921"
             ]
            ],
            "type": "heatmap"
           }
          ],
          "heatmapgl": [
           {
            "colorbar": {
             "outlinewidth": 0,
             "ticks": ""
            },
            "colorscale": [
             [
              0,
              "#0d0887"
             ],
             [
              0.1111111111111111,
              "#46039f"
             ],
             [
              0.2222222222222222,
              "#7201a8"
             ],
             [
              0.3333333333333333,
              "#9c179e"
             ],
             [
              0.4444444444444444,
              "#bd3786"
             ],
             [
              0.5555555555555556,
              "#d8576b"
             ],
             [
              0.6666666666666666,
              "#ed7953"
             ],
             [
              0.7777777777777778,
              "#fb9f3a"
             ],
             [
              0.8888888888888888,
              "#fdca26"
             ],
             [
              1,
              "#f0f921"
             ]
            ],
            "type": "heatmapgl"
           }
          ],
          "histogram": [
           {
            "marker": {
             "pattern": {
              "fillmode": "overlay",
              "size": 10,
              "solidity": 0.2
             }
            },
            "type": "histogram"
           }
          ],
          "histogram2d": [
           {
            "colorbar": {
             "outlinewidth": 0,
             "ticks": ""
            },
            "colorscale": [
             [
              0,
              "#0d0887"
             ],
             [
              0.1111111111111111,
              "#46039f"
             ],
             [
              0.2222222222222222,
              "#7201a8"
             ],
             [
              0.3333333333333333,
              "#9c179e"
             ],
             [
              0.4444444444444444,
              "#bd3786"
             ],
             [
              0.5555555555555556,
              "#d8576b"
             ],
             [
              0.6666666666666666,
              "#ed7953"
             ],
             [
              0.7777777777777778,
              "#fb9f3a"
             ],
             [
              0.8888888888888888,
              "#fdca26"
             ],
             [
              1,
              "#f0f921"
             ]
            ],
            "type": "histogram2d"
           }
          ],
          "histogram2dcontour": [
           {
            "colorbar": {
             "outlinewidth": 0,
             "ticks": ""
            },
            "colorscale": [
             [
              0,
              "#0d0887"
             ],
             [
              0.1111111111111111,
              "#46039f"
             ],
             [
              0.2222222222222222,
              "#7201a8"
             ],
             [
              0.3333333333333333,
              "#9c179e"
             ],
             [
              0.4444444444444444,
              "#bd3786"
             ],
             [
              0.5555555555555556,
              "#d8576b"
             ],
             [
              0.6666666666666666,
              "#ed7953"
             ],
             [
              0.7777777777777778,
              "#fb9f3a"
             ],
             [
              0.8888888888888888,
              "#fdca26"
             ],
             [
              1,
              "#f0f921"
             ]
            ],
            "type": "histogram2dcontour"
           }
          ],
          "mesh3d": [
           {
            "colorbar": {
             "outlinewidth": 0,
             "ticks": ""
            },
            "type": "mesh3d"
           }
          ],
          "parcoords": [
           {
            "line": {
             "colorbar": {
              "outlinewidth": 0,
              "ticks": ""
             }
            },
            "type": "parcoords"
           }
          ],
          "pie": [
           {
            "automargin": true,
            "type": "pie"
           }
          ],
          "scatter": [
           {
            "marker": {
             "colorbar": {
              "outlinewidth": 0,
              "ticks": ""
             }
            },
            "type": "scatter"
           }
          ],
          "scatter3d": [
           {
            "line": {
             "colorbar": {
              "outlinewidth": 0,
              "ticks": ""
             }
            },
            "marker": {
             "colorbar": {
              "outlinewidth": 0,
              "ticks": ""
             }
            },
            "type": "scatter3d"
           }
          ],
          "scattercarpet": [
           {
            "marker": {
             "colorbar": {
              "outlinewidth": 0,
              "ticks": ""
             }
            },
            "type": "scattercarpet"
           }
          ],
          "scattergeo": [
           {
            "marker": {
             "colorbar": {
              "outlinewidth": 0,
              "ticks": ""
             }
            },
            "type": "scattergeo"
           }
          ],
          "scattergl": [
           {
            "marker": {
             "colorbar": {
              "outlinewidth": 0,
              "ticks": ""
             }
            },
            "type": "scattergl"
           }
          ],
          "scattermapbox": [
           {
            "marker": {
             "colorbar": {
              "outlinewidth": 0,
              "ticks": ""
             }
            },
            "type": "scattermapbox"
           }
          ],
          "scatterpolar": [
           {
            "marker": {
             "colorbar": {
              "outlinewidth": 0,
              "ticks": ""
             }
            },
            "type": "scatterpolar"
           }
          ],
          "scatterpolargl": [
           {
            "marker": {
             "colorbar": {
              "outlinewidth": 0,
              "ticks": ""
             }
            },
            "type": "scatterpolargl"
           }
          ],
          "scatterternary": [
           {
            "marker": {
             "colorbar": {
              "outlinewidth": 0,
              "ticks": ""
             }
            },
            "type": "scatterternary"
           }
          ],
          "surface": [
           {
            "colorbar": {
             "outlinewidth": 0,
             "ticks": ""
            },
            "colorscale": [
             [
              0,
              "#0d0887"
             ],
             [
              0.1111111111111111,
              "#46039f"
             ],
             [
              0.2222222222222222,
              "#7201a8"
             ],
             [
              0.3333333333333333,
              "#9c179e"
             ],
             [
              0.4444444444444444,
              "#bd3786"
             ],
             [
              0.5555555555555556,
              "#d8576b"
             ],
             [
              0.6666666666666666,
              "#ed7953"
             ],
             [
              0.7777777777777778,
              "#fb9f3a"
             ],
             [
              0.8888888888888888,
              "#fdca26"
             ],
             [
              1,
              "#f0f921"
             ]
            ],
            "type": "surface"
           }
          ],
          "table": [
           {
            "cells": {
             "fill": {
              "color": "#EBF0F8"
             },
             "line": {
              "color": "white"
             }
            },
            "header": {
             "fill": {
              "color": "#C8D4E3"
             },
             "line": {
              "color": "white"
             }
            },
            "type": "table"
           }
          ]
         },
         "layout": {
          "annotationdefaults": {
           "arrowcolor": "#2a3f5f",
           "arrowhead": 0,
           "arrowwidth": 1
          },
          "autotypenumbers": "strict",
          "coloraxis": {
           "colorbar": {
            "outlinewidth": 0,
            "ticks": ""
           }
          },
          "colorscale": {
           "diverging": [
            [
             0,
             "#8e0152"
            ],
            [
             0.1,
             "#c51b7d"
            ],
            [
             0.2,
             "#de77ae"
            ],
            [
             0.3,
             "#f1b6da"
            ],
            [
             0.4,
             "#fde0ef"
            ],
            [
             0.5,
             "#f7f7f7"
            ],
            [
             0.6,
             "#e6f5d0"
            ],
            [
             0.7,
             "#b8e186"
            ],
            [
             0.8,
             "#7fbc41"
            ],
            [
             0.9,
             "#4d9221"
            ],
            [
             1,
             "#276419"
            ]
           ],
           "sequential": [
            [
             0,
             "#0d0887"
            ],
            [
             0.1111111111111111,
             "#46039f"
            ],
            [
             0.2222222222222222,
             "#7201a8"
            ],
            [
             0.3333333333333333,
             "#9c179e"
            ],
            [
             0.4444444444444444,
             "#bd3786"
            ],
            [
             0.5555555555555556,
             "#d8576b"
            ],
            [
             0.6666666666666666,
             "#ed7953"
            ],
            [
             0.7777777777777778,
             "#fb9f3a"
            ],
            [
             0.8888888888888888,
             "#fdca26"
            ],
            [
             1,
             "#f0f921"
            ]
           ],
           "sequentialminus": [
            [
             0,
             "#0d0887"
            ],
            [
             0.1111111111111111,
             "#46039f"
            ],
            [
             0.2222222222222222,
             "#7201a8"
            ],
            [
             0.3333333333333333,
             "#9c179e"
            ],
            [
             0.4444444444444444,
             "#bd3786"
            ],
            [
             0.5555555555555556,
             "#d8576b"
            ],
            [
             0.6666666666666666,
             "#ed7953"
            ],
            [
             0.7777777777777778,
             "#fb9f3a"
            ],
            [
             0.8888888888888888,
             "#fdca26"
            ],
            [
             1,
             "#f0f921"
            ]
           ]
          },
          "colorway": [
           "#636efa",
           "#EF553B",
           "#00cc96",
           "#ab63fa",
           "#FFA15A",
           "#19d3f3",
           "#FF6692",
           "#B6E880",
           "#FF97FF",
           "#FECB52"
          ],
          "font": {
           "color": "#2a3f5f"
          },
          "geo": {
           "bgcolor": "white",
           "lakecolor": "white",
           "landcolor": "#E5ECF6",
           "showlakes": true,
           "showland": true,
           "subunitcolor": "white"
          },
          "hoverlabel": {
           "align": "left"
          },
          "hovermode": "closest",
          "mapbox": {
           "style": "light"
          },
          "paper_bgcolor": "white",
          "plot_bgcolor": "#E5ECF6",
          "polar": {
           "angularaxis": {
            "gridcolor": "white",
            "linecolor": "white",
            "ticks": ""
           },
           "bgcolor": "#E5ECF6",
           "radialaxis": {
            "gridcolor": "white",
            "linecolor": "white",
            "ticks": ""
           }
          },
          "scene": {
           "xaxis": {
            "backgroundcolor": "#E5ECF6",
            "gridcolor": "white",
            "gridwidth": 2,
            "linecolor": "white",
            "showbackground": true,
            "ticks": "",
            "zerolinecolor": "white"
           },
           "yaxis": {
            "backgroundcolor": "#E5ECF6",
            "gridcolor": "white",
            "gridwidth": 2,
            "linecolor": "white",
            "showbackground": true,
            "ticks": "",
            "zerolinecolor": "white"
           },
           "zaxis": {
            "backgroundcolor": "#E5ECF6",
            "gridcolor": "white",
            "gridwidth": 2,
            "linecolor": "white",
            "showbackground": true,
            "ticks": "",
            "zerolinecolor": "white"
           }
          },
          "shapedefaults": {
           "line": {
            "color": "#2a3f5f"
           }
          },
          "ternary": {
           "aaxis": {
            "gridcolor": "white",
            "linecolor": "white",
            "ticks": ""
           },
           "baxis": {
            "gridcolor": "white",
            "linecolor": "white",
            "ticks": ""
           },
           "bgcolor": "#E5ECF6",
           "caxis": {
            "gridcolor": "white",
            "linecolor": "white",
            "ticks": ""
           }
          },
          "title": {
           "x": 0.05
          },
          "xaxis": {
           "automargin": true,
           "gridcolor": "white",
           "linecolor": "white",
           "ticks": "",
           "title": {
            "standoff": 15
           },
           "zerolinecolor": "white",
           "zerolinewidth": 2
          },
          "yaxis": {
           "automargin": true,
           "gridcolor": "white",
           "linecolor": "white",
           "ticks": "",
           "title": {
            "standoff": 15
           },
           "zerolinecolor": "white",
           "zerolinewidth": 2
          }
         }
        },
        "title": {
         "text": "OAA vs wRC+ for 3B"
        },
        "width": 1350,
        "xaxis": {
         "anchor": "y",
         "domain": [
          0,
          1
         ],
         "nticks": 40,
         "title": {
          "text": "OAA"
         }
        },
        "yaxis": {
         "anchor": "x",
         "domain": [
          0,
          1
         ],
         "nticks": 20,
         "title": {
          "text": "wRC+"
         }
        }
       }
      }
     },
     "metadata": {},
     "output_type": "display_data"
    }
   ],
   "source": [
    "thirdbase_plot"
   ]
  },
  {
   "cell_type": "code",
   "execution_count": 267,
   "metadata": {},
   "outputs": [
    {
     "data": {
      "application/vnd.plotly.v1+json": {
       "config": {
        "plotlyServerURL": "https://plot.ly"
       },
       "data": [
        {
         "customdata": [
          [
           "KCR",
           565
          ],
          [
           "NYM",
           524
          ],
          [
           "ARI",
           473
          ],
          [
           "MIN",
           451
          ],
          [
           "SFG",
           549
          ],
          [
           "HOU",
           640
          ],
          [
           "CHC",
           255
          ],
          [
           "PHI",
           567
          ],
          [
           "HOU",
           319
          ],
          [
           "OAK",
           541
          ],
          [
           "NYM",
           154
          ],
          [
           "TOR",
           724
          ],
          [
           "CIN",
           529
          ],
          [
           "STL",
           326
          ],
          [
           "STL",
           402
          ],
          [
           "DET",
           325
          ],
          [
           "KCR",
           136
          ],
          [
           "- - -",
           646
          ],
          [
           "PIT",
           229
          ],
          [
           "ATL",
           653
          ],
          [
           "CHW",
           551
          ],
          [
           "PIT",
           554
          ],
          [
           "CLE",
           210
          ],
          [
           "- - -",
           547
          ],
          [
           "ATL",
           209
          ],
          [
           "PHI",
           108
          ],
          [
           "- - -",
           511
          ],
          [
           "SDP",
           546
          ],
          [
           "TBR",
           176
          ],
          [
           "SEA",
           687
          ],
          [
           "WSN",
           127
          ],
          [
           "- - -",
           352
          ],
          [
           "LAD",
           582
          ],
          [
           "PHI",
           131
          ],
          [
           "MIN",
           644
          ],
          [
           "- - -",
           394
          ],
          [
           "LAD",
           381
          ],
          [
           "WSN",
           349
          ],
          [
           "MIA",
           539
          ],
          [
           "CLE",
           588
          ],
          [
           "TBR",
           308
          ],
          [
           "DET",
           184
          ],
          [
           "PIT",
           131
          ],
          [
           "BAL",
           105
          ],
          [
           "ARI",
           374
          ],
          [
           "TOR",
           690
          ],
          [
           "LAD",
           409
          ],
          [
           "COL",
           595
          ],
          [
           "TEX",
           677
          ],
          [
           "BAL",
           296
          ],
          [
           "- - -",
           555
          ],
          [
           "NYY",
           516
          ],
          [
           "BOS",
           603
          ],
          [
           "MIL",
           570
          ],
          [
           "PHI",
           408
          ]
         ],
         "hovertemplate": "<b>%{hovertext}</b><br><br>OAA=%{x}<br>wRC+=%{y}<br>Team=%{customdata[0]}<br>PA=%{customdata[1]}<br>WAR=%{marker.color}<extra></extra>",
         "hovertext": [
          "Nicky Lopez",
          "Francisco Lindor",
          "Nick Ahmed",
          "Andrelton Simmons",
          "Brandon Crawford",
          "Carlos Correa",
          "Sergio Alcantara",
          "Jean Segura",
          "Aledmys Diaz",
          "Elvis Andrus",
          "Jose Peraza",
          "Marcus Semien",
          "Kyle Farmer",
          "Edmundo Sosa",
          "Paul DeJong",
          "Niko Goodrum",
          "Adalberto Mondesi",
          "Trea Turner",
          "Erik Gonzalez",
          "Dansby Swanson",
          "Tim Anderson",
          "Kevin Newman",
          "Andres Gimenez",
          "Javier Baez",
          "Ehire Adrianza",
          "Luke Williams",
          "Jose Iglesias",
          "Fernando Tatis Jr.",
          "Taylor Walls",
          "J.P. Crawford",
          "Jordy Mercer",
          "Asdrubal Cabrera",
          "Chris Taylor",
          "Nick Maton",
          "Jorge Polanco",
          "Freddy Galvis",
          "Gavin Lux",
          "Alcides Escobar",
          "Miguel Rojas",
          "Amed Rosario",
          "Wander Franco",
          "Zack Short",
          "Cole Tucker",
          "Richie Martin",
          "Ketel Marte",
          "Bo Bichette",
          "Corey Seager",
          "Trevor Story",
          "Isiah Kiner-Falefa",
          "Ramon Urias",
          "Willy Adames",
          "Gleyber Torres",
          "Xander Bogaerts",
          "Luis Urias",
          "Didi Gregorius"
         ],
         "legendgroup": "",
         "marker": {
          "color": [
           4.4,
           2.7,
           0,
           -0.5,
           5.5,
           5.8,
           0.3,
           2.5,
           0.9,
           1.1,
           0.2,
           6.6,
           1.6,
           1.6,
           1.6,
           0,
           0.6,
           6.9,
           -0.7,
           3.2,
           4.3,
           0.3,
           0.8,
           3.6,
           0.2,
           -0.1,
           1,
           6.1,
           0.5,
           3.1,
           0,
           0,
           3.1,
           0.5,
           3.9,
           1.6,
           1,
           1.7,
           2.8,
           2.7,
           2.5,
           -0.7,
           -0.1,
           -0.5,
           2.9,
           4.9,
           3.7,
           3.5,
           2.3,
           1.6,
           4.1,
           1.7,
           5.2,
           2.7,
           0
          ],
          "coloraxis": "coloraxis",
          "line": {
           "width": 2
          },
          "size": 10,
          "symbol": "circle"
         },
         "mode": "markers",
         "name": "",
         "orientation": "v",
         "showlegend": false,
         "type": "scatter",
         "x": [
          25,
          20,
          18,
          16,
          15,
          12,
          9,
          8,
          7,
          6,
          6,
          5,
          5,
          5,
          5,
          5,
          4,
          3,
          3,
          3,
          3,
          3,
          3,
          3,
          2,
          2,
          1,
          1,
          0,
          0,
          -1,
          -2,
          -3,
          -4,
          -4,
          -4,
          -4,
          -4,
          -4,
          -4,
          -4,
          -5,
          -5,
          -6,
          -6,
          -6,
          -6,
          -6,
          -7,
          -8,
          -9,
          -10,
          -10,
          -12,
          -18
         ],
         "xaxis": "x",
         "y": [
          106,
          103,
          64,
          56,
          139,
          134,
          71,
          109,
          99,
          72,
          80,
          131,
          91,
          104,
          86,
          79,
          91,
          142,
          50,
          98,
          120,
          54,
          73,
          116,
          94,
          74,
          91,
          156,
          80,
          103,
          81,
          82,
          113,
          91,
          122,
          90,
          91,
          100,
          97,
          99,
          127,
          41,
          75,
          51,
          139,
          122,
          147,
          100,
          85,
          115,
          119,
          94,
          130,
          111,
          68
         ],
         "yaxis": "y"
        }
       ],
       "layout": {
        "annotations": [
         {
          "showarrow": false,
          "text": "Mean wRC+",
          "x": 1,
          "xanchor": "right",
          "xref": "x domain",
          "y": 97.38181818181818,
          "yanchor": "top",
          "yref": "y"
         },
         {
          "showarrow": false,
          "text": "Mean OAA",
          "x": 0.8363636363636363,
          "xanchor": "left",
          "xref": "x",
          "y": 0,
          "yanchor": "bottom",
          "yref": "y domain"
         }
        ],
        "coloraxis": {
         "colorbar": {
          "title": {
           "text": "WAR"
          }
         },
         "colorscale": [
          [
           0,
           "rgb(0, 155, 158)"
          ],
          [
           0.16666666666666666,
           "rgb(66, 183, 185)"
          ],
          [
           0.3333333333333333,
           "rgb(167, 211, 212)"
          ],
          [
           0.5,
           "rgb(241, 241, 241)"
          ],
          [
           0.6666666666666666,
           "rgb(228, 193, 217)"
          ],
          [
           0.8333333333333334,
           "rgb(214, 145, 193)"
          ],
          [
           1,
           "rgb(199, 93, 171)"
          ]
         ]
        },
        "height": 700,
        "legend": {
         "tracegroupgap": 0
        },
        "shapes": [
         {
          "line": {
           "color": "LightSeaGreen",
           "dash": "dot",
           "width": 2
          },
          "x0": 5,
          "x1": 25,
          "y0": 115.5,
          "y1": 156
         },
         {
          "line": {
           "color": "#EF553B",
           "dash": "dot",
           "width": 2
          },
          "x0": -18,
          "x1": -4.5,
          "y0": 41,
          "y1": 80
         },
         {
          "line": {
           "dash": "dot"
          },
          "type": "line",
          "x0": 0,
          "x1": 1,
          "xref": "x domain",
          "y0": 97.38181818181818,
          "y1": 97.38181818181818,
          "yref": "y"
         },
         {
          "line": {
           "dash": "dot"
          },
          "type": "line",
          "x0": 0.8363636363636363,
          "x1": 0.8363636363636363,
          "xref": "x",
          "y0": 0,
          "y1": 1,
          "yref": "y domain"
         }
        ],
        "template": {
         "data": {
          "bar": [
           {
            "error_x": {
             "color": "#2a3f5f"
            },
            "error_y": {
             "color": "#2a3f5f"
            },
            "marker": {
             "line": {
              "color": "#E5ECF6",
              "width": 0.5
             },
             "pattern": {
              "fillmode": "overlay",
              "size": 10,
              "solidity": 0.2
             }
            },
            "type": "bar"
           }
          ],
          "barpolar": [
           {
            "marker": {
             "line": {
              "color": "#E5ECF6",
              "width": 0.5
             },
             "pattern": {
              "fillmode": "overlay",
              "size": 10,
              "solidity": 0.2
             }
            },
            "type": "barpolar"
           }
          ],
          "carpet": [
           {
            "aaxis": {
             "endlinecolor": "#2a3f5f",
             "gridcolor": "white",
             "linecolor": "white",
             "minorgridcolor": "white",
             "startlinecolor": "#2a3f5f"
            },
            "baxis": {
             "endlinecolor": "#2a3f5f",
             "gridcolor": "white",
             "linecolor": "white",
             "minorgridcolor": "white",
             "startlinecolor": "#2a3f5f"
            },
            "type": "carpet"
           }
          ],
          "choropleth": [
           {
            "colorbar": {
             "outlinewidth": 0,
             "ticks": ""
            },
            "type": "choropleth"
           }
          ],
          "contour": [
           {
            "colorbar": {
             "outlinewidth": 0,
             "ticks": ""
            },
            "colorscale": [
             [
              0,
              "#0d0887"
             ],
             [
              0.1111111111111111,
              "#46039f"
             ],
             [
              0.2222222222222222,
              "#7201a8"
             ],
             [
              0.3333333333333333,
              "#9c179e"
             ],
             [
              0.4444444444444444,
              "#bd3786"
             ],
             [
              0.5555555555555556,
              "#d8576b"
             ],
             [
              0.6666666666666666,
              "#ed7953"
             ],
             [
              0.7777777777777778,
              "#fb9f3a"
             ],
             [
              0.8888888888888888,
              "#fdca26"
             ],
             [
              1,
              "#f0f921"
             ]
            ],
            "type": "contour"
           }
          ],
          "contourcarpet": [
           {
            "colorbar": {
             "outlinewidth": 0,
             "ticks": ""
            },
            "type": "contourcarpet"
           }
          ],
          "heatmap": [
           {
            "colorbar": {
             "outlinewidth": 0,
             "ticks": ""
            },
            "colorscale": [
             [
              0,
              "#0d0887"
             ],
             [
              0.1111111111111111,
              "#46039f"
             ],
             [
              0.2222222222222222,
              "#7201a8"
             ],
             [
              0.3333333333333333,
              "#9c179e"
             ],
             [
              0.4444444444444444,
              "#bd3786"
             ],
             [
              0.5555555555555556,
              "#d8576b"
             ],
             [
              0.6666666666666666,
              "#ed7953"
             ],
             [
              0.7777777777777778,
              "#fb9f3a"
             ],
             [
              0.8888888888888888,
              "#fdca26"
             ],
             [
              1,
              "#f0f921"
             ]
            ],
            "type": "heatmap"
           }
          ],
          "heatmapgl": [
           {
            "colorbar": {
             "outlinewidth": 0,
             "ticks": ""
            },
            "colorscale": [
             [
              0,
              "#0d0887"
             ],
             [
              0.1111111111111111,
              "#46039f"
             ],
             [
              0.2222222222222222,
              "#7201a8"
             ],
             [
              0.3333333333333333,
              "#9c179e"
             ],
             [
              0.4444444444444444,
              "#bd3786"
             ],
             [
              0.5555555555555556,
              "#d8576b"
             ],
             [
              0.6666666666666666,
              "#ed7953"
             ],
             [
              0.7777777777777778,
              "#fb9f3a"
             ],
             [
              0.8888888888888888,
              "#fdca26"
             ],
             [
              1,
              "#f0f921"
             ]
            ],
            "type": "heatmapgl"
           }
          ],
          "histogram": [
           {
            "marker": {
             "pattern": {
              "fillmode": "overlay",
              "size": 10,
              "solidity": 0.2
             }
            },
            "type": "histogram"
           }
          ],
          "histogram2d": [
           {
            "colorbar": {
             "outlinewidth": 0,
             "ticks": ""
            },
            "colorscale": [
             [
              0,
              "#0d0887"
             ],
             [
              0.1111111111111111,
              "#46039f"
             ],
             [
              0.2222222222222222,
              "#7201a8"
             ],
             [
              0.3333333333333333,
              "#9c179e"
             ],
             [
              0.4444444444444444,
              "#bd3786"
             ],
             [
              0.5555555555555556,
              "#d8576b"
             ],
             [
              0.6666666666666666,
              "#ed7953"
             ],
             [
              0.7777777777777778,
              "#fb9f3a"
             ],
             [
              0.8888888888888888,
              "#fdca26"
             ],
             [
              1,
              "#f0f921"
             ]
            ],
            "type": "histogram2d"
           }
          ],
          "histogram2dcontour": [
           {
            "colorbar": {
             "outlinewidth": 0,
             "ticks": ""
            },
            "colorscale": [
             [
              0,
              "#0d0887"
             ],
             [
              0.1111111111111111,
              "#46039f"
             ],
             [
              0.2222222222222222,
              "#7201a8"
             ],
             [
              0.3333333333333333,
              "#9c179e"
             ],
             [
              0.4444444444444444,
              "#bd3786"
             ],
             [
              0.5555555555555556,
              "#d8576b"
             ],
             [
              0.6666666666666666,
              "#ed7953"
             ],
             [
              0.7777777777777778,
              "#fb9f3a"
             ],
             [
              0.8888888888888888,
              "#fdca26"
             ],
             [
              1,
              "#f0f921"
             ]
            ],
            "type": "histogram2dcontour"
           }
          ],
          "mesh3d": [
           {
            "colorbar": {
             "outlinewidth": 0,
             "ticks": ""
            },
            "type": "mesh3d"
           }
          ],
          "parcoords": [
           {
            "line": {
             "colorbar": {
              "outlinewidth": 0,
              "ticks": ""
             }
            },
            "type": "parcoords"
           }
          ],
          "pie": [
           {
            "automargin": true,
            "type": "pie"
           }
          ],
          "scatter": [
           {
            "marker": {
             "colorbar": {
              "outlinewidth": 0,
              "ticks": ""
             }
            },
            "type": "scatter"
           }
          ],
          "scatter3d": [
           {
            "line": {
             "colorbar": {
              "outlinewidth": 0,
              "ticks": ""
             }
            },
            "marker": {
             "colorbar": {
              "outlinewidth": 0,
              "ticks": ""
             }
            },
            "type": "scatter3d"
           }
          ],
          "scattercarpet": [
           {
            "marker": {
             "colorbar": {
              "outlinewidth": 0,
              "ticks": ""
             }
            },
            "type": "scattercarpet"
           }
          ],
          "scattergeo": [
           {
            "marker": {
             "colorbar": {
              "outlinewidth": 0,
              "ticks": ""
             }
            },
            "type": "scattergeo"
           }
          ],
          "scattergl": [
           {
            "marker": {
             "colorbar": {
              "outlinewidth": 0,
              "ticks": ""
             }
            },
            "type": "scattergl"
           }
          ],
          "scattermapbox": [
           {
            "marker": {
             "colorbar": {
              "outlinewidth": 0,
              "ticks": ""
             }
            },
            "type": "scattermapbox"
           }
          ],
          "scatterpolar": [
           {
            "marker": {
             "colorbar": {
              "outlinewidth": 0,
              "ticks": ""
             }
            },
            "type": "scatterpolar"
           }
          ],
          "scatterpolargl": [
           {
            "marker": {
             "colorbar": {
              "outlinewidth": 0,
              "ticks": ""
             }
            },
            "type": "scatterpolargl"
           }
          ],
          "scatterternary": [
           {
            "marker": {
             "colorbar": {
              "outlinewidth": 0,
              "ticks": ""
             }
            },
            "type": "scatterternary"
           }
          ],
          "surface": [
           {
            "colorbar": {
             "outlinewidth": 0,
             "ticks": ""
            },
            "colorscale": [
             [
              0,
              "#0d0887"
             ],
             [
              0.1111111111111111,
              "#46039f"
             ],
             [
              0.2222222222222222,
              "#7201a8"
             ],
             [
              0.3333333333333333,
              "#9c179e"
             ],
             [
              0.4444444444444444,
              "#bd3786"
             ],
             [
              0.5555555555555556,
              "#d8576b"
             ],
             [
              0.6666666666666666,
              "#ed7953"
             ],
             [
              0.7777777777777778,
              "#fb9f3a"
             ],
             [
              0.8888888888888888,
              "#fdca26"
             ],
             [
              1,
              "#f0f921"
             ]
            ],
            "type": "surface"
           }
          ],
          "table": [
           {
            "cells": {
             "fill": {
              "color": "#EBF0F8"
             },
             "line": {
              "color": "white"
             }
            },
            "header": {
             "fill": {
              "color": "#C8D4E3"
             },
             "line": {
              "color": "white"
             }
            },
            "type": "table"
           }
          ]
         },
         "layout": {
          "annotationdefaults": {
           "arrowcolor": "#2a3f5f",
           "arrowhead": 0,
           "arrowwidth": 1
          },
          "autotypenumbers": "strict",
          "coloraxis": {
           "colorbar": {
            "outlinewidth": 0,
            "ticks": ""
           }
          },
          "colorscale": {
           "diverging": [
            [
             0,
             "#8e0152"
            ],
            [
             0.1,
             "#c51b7d"
            ],
            [
             0.2,
             "#de77ae"
            ],
            [
             0.3,
             "#f1b6da"
            ],
            [
             0.4,
             "#fde0ef"
            ],
            [
             0.5,
             "#f7f7f7"
            ],
            [
             0.6,
             "#e6f5d0"
            ],
            [
             0.7,
             "#b8e186"
            ],
            [
             0.8,
             "#7fbc41"
            ],
            [
             0.9,
             "#4d9221"
            ],
            [
             1,
             "#276419"
            ]
           ],
           "sequential": [
            [
             0,
             "#0d0887"
            ],
            [
             0.1111111111111111,
             "#46039f"
            ],
            [
             0.2222222222222222,
             "#7201a8"
            ],
            [
             0.3333333333333333,
             "#9c179e"
            ],
            [
             0.4444444444444444,
             "#bd3786"
            ],
            [
             0.5555555555555556,
             "#d8576b"
            ],
            [
             0.6666666666666666,
             "#ed7953"
            ],
            [
             0.7777777777777778,
             "#fb9f3a"
            ],
            [
             0.8888888888888888,
             "#fdca26"
            ],
            [
             1,
             "#f0f921"
            ]
           ],
           "sequentialminus": [
            [
             0,
             "#0d0887"
            ],
            [
             0.1111111111111111,
             "#46039f"
            ],
            [
             0.2222222222222222,
             "#7201a8"
            ],
            [
             0.3333333333333333,
             "#9c179e"
            ],
            [
             0.4444444444444444,
             "#bd3786"
            ],
            [
             0.5555555555555556,
             "#d8576b"
            ],
            [
             0.6666666666666666,
             "#ed7953"
            ],
            [
             0.7777777777777778,
             "#fb9f3a"
            ],
            [
             0.8888888888888888,
             "#fdca26"
            ],
            [
             1,
             "#f0f921"
            ]
           ]
          },
          "colorway": [
           "#636efa",
           "#EF553B",
           "#00cc96",
           "#ab63fa",
           "#FFA15A",
           "#19d3f3",
           "#FF6692",
           "#B6E880",
           "#FF97FF",
           "#FECB52"
          ],
          "font": {
           "color": "#2a3f5f"
          },
          "geo": {
           "bgcolor": "white",
           "lakecolor": "white",
           "landcolor": "#E5ECF6",
           "showlakes": true,
           "showland": true,
           "subunitcolor": "white"
          },
          "hoverlabel": {
           "align": "left"
          },
          "hovermode": "closest",
          "mapbox": {
           "style": "light"
          },
          "paper_bgcolor": "white",
          "plot_bgcolor": "#E5ECF6",
          "polar": {
           "angularaxis": {
            "gridcolor": "white",
            "linecolor": "white",
            "ticks": ""
           },
           "bgcolor": "#E5ECF6",
           "radialaxis": {
            "gridcolor": "white",
            "linecolor": "white",
            "ticks": ""
           }
          },
          "scene": {
           "xaxis": {
            "backgroundcolor": "#E5ECF6",
            "gridcolor": "white",
            "gridwidth": 2,
            "linecolor": "white",
            "showbackground": true,
            "ticks": "",
            "zerolinecolor": "white"
           },
           "yaxis": {
            "backgroundcolor": "#E5ECF6",
            "gridcolor": "white",
            "gridwidth": 2,
            "linecolor": "white",
            "showbackground": true,
            "ticks": "",
            "zerolinecolor": "white"
           },
           "zaxis": {
            "backgroundcolor": "#E5ECF6",
            "gridcolor": "white",
            "gridwidth": 2,
            "linecolor": "white",
            "showbackground": true,
            "ticks": "",
            "zerolinecolor": "white"
           }
          },
          "shapedefaults": {
           "line": {
            "color": "#2a3f5f"
           }
          },
          "ternary": {
           "aaxis": {
            "gridcolor": "white",
            "linecolor": "white",
            "ticks": ""
           },
           "baxis": {
            "gridcolor": "white",
            "linecolor": "white",
            "ticks": ""
           },
           "bgcolor": "#E5ECF6",
           "caxis": {
            "gridcolor": "white",
            "linecolor": "white",
            "ticks": ""
           }
          },
          "title": {
           "x": 0.05
          },
          "xaxis": {
           "automargin": true,
           "gridcolor": "white",
           "linecolor": "white",
           "ticks": "",
           "title": {
            "standoff": 15
           },
           "zerolinecolor": "white",
           "zerolinewidth": 2
          },
          "yaxis": {
           "automargin": true,
           "gridcolor": "white",
           "linecolor": "white",
           "ticks": "",
           "title": {
            "standoff": 15
           },
           "zerolinecolor": "white",
           "zerolinewidth": 2
          }
         }
        },
        "title": {
         "text": "OAA vs wRC+ for SS"
        },
        "width": 1350,
        "xaxis": {
         "anchor": "y",
         "domain": [
          0,
          1
         ],
         "nticks": 40,
         "title": {
          "text": "OAA"
         }
        },
        "yaxis": {
         "anchor": "x",
         "domain": [
          0,
          1
         ],
         "nticks": 20,
         "title": {
          "text": "wRC+"
         }
        }
       }
      }
     },
     "metadata": {},
     "output_type": "display_data"
    }
   ],
   "source": [
    "ss_plot"
   ]
  }
 ],
 "metadata": {
  "interpreter": {
   "hash": "e6b428eeda3673c7e49e56af820d0902d8cb06ad67f7949d7ea2ec9ed66f2e23"
  },
  "kernelspec": {
   "display_name": "Python 3.9.7 64-bit ('baseball_analytics_env': conda)",
   "language": "python",
   "name": "python3"
  },
  "language_info": {
   "codemirror_mode": {
    "name": "ipython",
    "version": 3
   },
   "file_extension": ".py",
   "mimetype": "text/x-python",
   "name": "python",
   "nbconvert_exporter": "python",
   "pygments_lexer": "ipython3",
   "version": "3.9.7"
  },
  "orig_nbformat": 4
 },
 "nbformat": 4,
 "nbformat_minor": 2
}
