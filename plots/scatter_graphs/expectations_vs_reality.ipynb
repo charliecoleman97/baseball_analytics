{
 "cells": [
  {
   "cell_type": "markdown",
   "metadata": {},
   "source": [
    "## This notebook is looking at which batters overachieved and which underachieved in 2021\n",
    "#### We'll use the baseball savant expected stats compared to the actual stats so will use the baseball_savant.csv created in the savant_stats_table_maker.ipynb in utilities"
   ]
  },
  {
   "cell_type": "markdown",
   "metadata": {},
   "source": [
    "### Table preparation"
   ]
  },
  {
   "cell_type": "code",
   "execution_count": 2,
   "metadata": {},
   "outputs": [],
   "source": [
    "import pybaseball as pb\n",
    "import pandas as pd\n",
    "import plotly.express as px\n",
    "import plotly.graph_objects as go \n",
    "import plotly.io as pio\n",
    "import numpy as np\n",
    "from PIL import Image\n",
    "import math"
   ]
  },
  {
   "cell_type": "code",
   "execution_count": 3,
   "metadata": {},
   "outputs": [],
   "source": [
    "# Show all columns\n",
    "pd.set_option('display.max_columns', None)"
   ]
  },
  {
   "cell_type": "code",
   "execution_count": 4,
   "metadata": {},
   "outputs": [],
   "source": [
    "# importing baseball savant csv\n",
    "savant_df = pd.read_csv('/Users/charliecoleman/Desktop/Git/Repositories/baseball_analytics/csv_files/baseball_savant.csv')"
   ]
  },
  {
   "cell_type": "markdown",
   "metadata": {},
   "source": [
    "### Graph Prep \n",
    "#### making scatter and regression function "
   ]
  },
  {
   "cell_type": "code",
   "execution_count": 5,
   "metadata": {},
   "outputs": [],
   "source": [
    "def hex_to_rgba(h, alpha):\n",
    "    '''\n",
    "    converts color value in hex format to rgba format with alpha transparency\n",
    "    '''\n",
    "    return tuple([int(h.lstrip('#')[i:i+2], 16) for i in (0, 2, 4)] + [alpha])"
   ]
  },
  {
   "cell_type": "code",
   "execution_count": 6,
   "metadata": {},
   "outputs": [],
   "source": [
    "def scatter_with_regression(dataframe, x_val:str, y_val:str, colour_val:str, hover_name= \"Name\", hover_data_1=\"Team\", hover_data_2=\"PA\"):\n",
    "    # plot scatter points\n",
    "    fig = px.scatter(\n",
    "        dataframe, x=f\"{x_val}\", y=f\"{y_val}\",\n",
    "        color=colour_val,\n",
    "        hover_name=hover_name,\n",
    "        hover_data=[hover_data_1, hover_data_2],\n",
    "        color_continuous_scale=px.colors.diverging.Tropic,\n",
    "        width=1350, height=700,\n",
    "        title=f'{x_val} vs {y_val}'\n",
    "    )\n",
    "    # change marker style\n",
    "    fig.update_traces(marker_line_width=2, marker_size=10)\n",
    "    fig.update_yaxes(nticks=20)\n",
    "    fig.update_xaxes(nticks=40)\n",
    "    \n",
    "    # add regression and standard deviation lines\n",
    "    #obtain m (slope) and b(intercept) of linear regression line\n",
    "    x=dataframe[f\"{x_val}\"]\n",
    "    y=dataframe[f\"{y_val}\"]\n",
    "    m, b = np.polyfit(x, y, 1)\n",
    "\n",
    "    #add linear regression lines to scatterplot and\n",
    "    x_linspace = np.linspace(x.min(), x.max(), 100)\n",
    "    y_sigma = y.std()\n",
    "\n",
    "\n",
    "\n",
    "    COLORS = px.colors.qualitative.D3\n",
    "    hex_color =COLORS[0]\n",
    "\n",
    "    fig.add_traces(go.Scatter(\n",
    "        x=x_linspace, \n",
    "        y=m*x_linspace+b, \n",
    "        showlegend=False,\n",
    "        name='regression',\n",
    "        line=dict(\n",
    "            color='rgba' + str(hex_to_rgba(h=hex_color, alpha=0.4)\n",
    "        ),\n",
    "        width=2,\n",
    "        dash='dash')\n",
    "    ))\n",
    "\n",
    "    fig.add_traces(go.Scatter(\n",
    "        x=x_linspace, \n",
    "        y=m*x_linspace+(b+y_sigma), \n",
    "        showlegend=False,\n",
    "        name='+1 st_dev',\n",
    "        line=dict(\n",
    "            color='rgba' + str(hex_to_rgba(h=hex_color, alpha=0.4)\n",
    "        ),\n",
    "        width=2,\n",
    "        dash='dash')\n",
    "    ))\n",
    "\n",
    "    fig.add_traces(go.Scatter(\n",
    "        x=x_linspace, \n",
    "        y=m*x_linspace+(b-y_sigma), \n",
    "        showlegend=False,\n",
    "        name='-1 st_dev',\n",
    "        line=dict(\n",
    "            color='rgba' + str(hex_to_rgba(h=hex_color, alpha=0.4)\n",
    "        ),\n",
    "        width=2,\n",
    "        dash='dash')\n",
    "    ))\n",
    "\n",
    "    return fig\n",
    "\n",
    "\n"
   ]
  },
  {
   "cell_type": "code",
   "execution_count": 7,
   "metadata": {},
   "outputs": [],
   "source": [
    "def scatter(dataframe, x_val:str, y_val:str, colour_val:str, hover_name= \"Name\", hover_data_1=\"Team\", hover_data_2=\"PA\"):\n",
    "\n",
    "    fig1 = px.scatter(\n",
    "        dataframe, x=f\"{x_val}\", y=f\"{y_val}\",\n",
    "        color=colour_val,\n",
    "        hover_name=hover_name,\n",
    "        hover_data=[hover_data_1, hover_data_2],\n",
    "        color_continuous_scale=px.colors.diverging.Tropic,\n",
    "        width=1350, height=700,\n",
    "        title=f'{x_val} vs {y_val}'\n",
    "\n",
    "    )\n",
    "\n",
    "    fig1.update_traces(marker_line_width=2, marker_size=10)\n",
    "    fig1.update_yaxes(nticks=20)\n",
    "    fig1.update_xaxes(nticks=40)\n",
    "\n",
    "    # Means\n",
    "    fig1.add_hline(y=np.mean(dataframe[y_val]), line_dash=\"dot\", row=\"all\", col=\"all\",\n",
    "                annotation_text=f\"Mean {y_val}\", \n",
    "                annotation_position=\"bottom right\")\n",
    "\n",
    "    fig1.add_vline(x=np.mean(dataframe[x_val]), line_dash=\"dot\", row=\"all\", col=\"all\",\n",
    "                annotation_text=f\"Mean {x_val}\", \n",
    "                annotation_position=\"bottom right\")\n",
    "    return fig1\n"
   ]
  },
  {
   "cell_type": "code",
   "execution_count": 8,
   "metadata": {},
   "outputs": [],
   "source": [
    "def add_percentiles(dataframe:str, x_val:str, y_val:str, fig:str, upper_percentile:int, lower_percentile:int):\n",
    "    # Upper Percentile\n",
    "    fig.add_shape(\n",
    "        x0=dataframe[x_val].quantile(q=upper_percentile), \n",
    "        y0=dataframe[y_val].quantile(q=upper_percentile),\n",
    "        x1=dataframe[x_val].quantile(q=1),\n",
    "        y1=dataframe[y_val].quantile(q=1),\n",
    "        line=dict(color=\"LightSeaGreen\", width=2, dash=\"dot\"),\n",
    "        )\n",
    "    fig.add_annotation(\n",
    "        x=dataframe[x_val].quantile(q=upper_percentile),\n",
    "        y=dataframe[y_val].quantile(q=1),\n",
    "        text = f\"{math.trunc(upper_percentile*100)}th percentile\",\n",
    "        font=dict(\n",
    "            family=\"arial\",\n",
    "            size=15,\n",
    "            color=\"LightSeaGreen\"\n",
    "        )\n",
    "    )\n",
    "\n",
    "    # Lower Percentile\n",
    "    fig.add_shape(\n",
    "        x0=dataframe[x_val].quantile(q=0), \n",
    "        y0=dataframe[y_val].quantile(q=0),\n",
    "        x1=dataframe[x_val].quantile(q=lower_percentile),\n",
    "        y1=dataframe[y_val].quantile(q=lower_percentile),\n",
    "        line=dict(\n",
    "            color=\"#EF553B\", \n",
    "            width=2, \n",
    "            dash=\"dot\")\n",
    "        )\n",
    "\n",
    "    fig.add_annotation(\n",
    "    x=dataframe[x_val].quantile(q=0),\n",
    "    y=dataframe[y_val].quantile(q=lower_percentile),\n",
    "    text = f\"{math.trunc(lower_percentile*100)}th percentile\",\n",
    "    font=dict(\n",
    "        family=\"arial\",\n",
    "        size=15,\n",
    "        color=\"#EF553B\"\n",
    "    )\n",
    ")\n",
    "    return fig"
   ]
  },
  {
   "cell_type": "code",
   "execution_count": 9,
   "metadata": {},
   "outputs": [],
   "source": [
    "def add_annotation(fig, message, x_pos, y_pos, color='black',arrow=False):\n",
    "    print(arrow)\n",
    "    fig.add_annotation(\n",
    "    x=x_pos, \n",
    "    y=y_pos,\n",
    "    text=message,\n",
    "    showarrow=arrow,\n",
    "    font=dict(\n",
    "        family=\"arial\",\n",
    "        size=18,\n",
    "        color=color\n",
    "    )\n",
    "    )\n",
    "    return fig"
   ]
  },
  {
   "cell_type": "code",
   "execution_count": 10,
   "metadata": {},
   "outputs": [],
   "source": [
    "def add_shape(fig:str, x0, x1, y0, y1, shape_type=\"circle\", outline_color=\"purple\"):\n",
    "    fig.add_shape(\n",
    "        type=shape_type,\n",
    "        xref=\"x\", yref=\"y\",\n",
    "        x0=x0, y0=y0, x1=x1, y1=y1,\n",
    "        line=dict(color=outline_color, width=2, dash=\"dash\")\n",
    "    )\n",
    "    return fig"
   ]
  },
  {
   "cell_type": "markdown",
   "metadata": {},
   "source": [
    "### wOBA vs xwOBA"
   ]
  },
  {
   "cell_type": "code",
   "execution_count": 11,
   "metadata": {},
   "outputs": [],
   "source": [
    "wOBA_fig = scatter_with_regression(savant_df, 'wOBA', 'xwOBA', 'wRC+')"
   ]
  },
  {
   "cell_type": "markdown",
   "metadata": {},
   "source": [
    "### SLG vs xSLG"
   ]
  },
  {
   "cell_type": "code",
   "execution_count": 12,
   "metadata": {},
   "outputs": [
    {
     "data": {
      "application/vnd.plotly.v1+json": {
       "config": {
        "plotlyServerURL": "https://plot.ly"
       },
       "data": [
        {
         "customdata": [
          [
           "- - -",
           646
          ],
          [
           "TOR",
           698
          ],
          [
           "TOR",
           724
          ],
          [
           "WSN",
           654
          ],
          [
           "PHI",
           599
          ],
          [
           "CLE",
           636
          ],
          [
           "SDP",
           546
          ],
          [
           "HOU",
           640
          ],
          [
           "NYY",
           633
          ],
          [
           "- - -",
           526
          ],
          [
           "PIT",
           646
          ],
          [
           "SFG",
           549
          ],
          [
           "STL",
           537
          ],
          [
           "BAL",
           675
          ],
          [
           "HOU",
           678
          ],
          [
           "TBR",
           615
          ],
          [
           "BOS",
           603
          ],
          [
           "LAA",
           639
          ],
          [
           "OAK",
           673
          ],
          [
           "STL",
           679
          ],
          [
           "LAD",
           592
          ],
          [
           "TOR",
           690
          ],
          [
           "SFG",
           454
          ],
          [
           "HOU",
           567
          ],
          [
           "BOS",
           664
          ],
          [
           "LAD",
           501
          ],
          [
           "ATL",
           695
          ],
          [
           "CHW",
           616
          ],
          [
           "TBR",
           375
          ],
          [
           "KCR",
           565
          ],
          [
           "SDP",
           640
          ],
          [
           "PHI",
           537
          ],
          [
           "SDP",
           643
          ],
          [
           "CHW",
           551
          ],
          [
           "CIN",
           585
          ],
          [
           "ATL",
           686
          ],
          [
           "ATL",
           662
          ],
          [
           "ATL",
           360
          ],
          [
           "- - -",
           555
          ],
          [
           "STL",
           653
          ],
          [
           "LAD",
           612
          ],
          [
           "CIN",
           631
          ],
          [
           "BOS",
           585
          ],
          [
           "LAD",
           550
          ],
          [
           "TOR",
           595
          ],
          [
           "MIN",
           644
          ],
          [
           "HOU",
           598
          ],
          [
           "LAD",
           409
          ],
          [
           "- - -",
           638
          ],
          [
           "CHW",
           375
          ],
          [
           "- - -",
           547
          ],
          [
           "CIN",
           533
          ],
          [
           "- - -",
           586
          ],
          [
           "SEA",
           650
          ],
          [
           "NYM",
           386
          ],
          [
           "COL",
           595
          ],
          [
           "- - -",
           616
          ],
          [
           "HOU",
           605
          ],
          [
           "OAK",
           622
          ],
          [
           "- - -",
           639
          ],
          [
           "STL",
           401
          ],
          [
           "KCR",
           665
          ],
          [
           "OAK",
           448
          ],
          [
           "TBR",
           604
          ],
          [
           "SFG",
           381
          ],
          [
           "CIN",
           485
          ],
          [
           "ATL",
           653
          ],
          [
           "DET",
           626
          ],
          [
           "KCR",
           720
          ],
          [
           "- - -",
           471
          ],
          [
           "SEA",
           687
          ],
          [
           "LAD",
           582
          ],
          [
           "LAD",
           422
          ],
          [
           "NYM",
           637
          ],
          [
           "- - -",
           599
          ],
          [
           "ARI",
           374
          ],
          [
           "MIL",
           492
          ],
          [
           "BOS",
           634
          ],
          [
           "MIL",
           515
          ],
          [
           "TEX",
           622
          ],
          [
           "CHW",
           659
          ],
          [
           "MIL",
           445
          ],
          [
           "LAA",
           585
          ],
          [
           "MIA",
           539
          ],
          [
           "STL",
           619
          ],
          [
           "SEA",
           691
          ],
          [
           "OAK",
           397
          ],
          [
           "CLE",
           588
          ],
          [
           "DET",
           671
          ],
          [
           "NYM",
           524
          ],
          [
           "MIL",
           570
          ],
          [
           "NYY",
           579
          ],
          [
           "OAK",
           625
          ],
          [
           "PIT",
           427
          ],
          [
           "TBR",
           501
          ],
          [
           "COL",
           596
          ],
          [
           "SEA",
           670
          ],
          [
           "TBR",
           390
          ],
          [
           "PHI",
           567
          ],
          [
           "NYY",
           679
          ],
          [
           "BAL",
           529
          ],
          [
           "- - -",
           555
          ],
          [
           "TOR",
           342
          ],
          [
           "PHI",
           443
          ],
          [
           "TEX",
           677
          ],
          [
           "STL",
           691
          ],
          [
           "CHC",
           375
          ],
          [
           "COL",
           547
          ],
          [
           "- - -",
           637
          ],
          [
           "SFG",
           532
          ],
          [
           "MIN",
           543
          ],
          [
           "HOU",
           508
          ],
          [
           "NYM",
           505
          ],
          [
           "OAK",
           378
          ],
          [
           "CHC",
           483
          ],
          [
           "KCR",
           538
          ],
          [
           "SDP",
           527
          ],
          [
           "HOU",
           400
          ],
          [
           "BOS",
           604
          ],
          [
           "CIN",
           402
          ],
          [
           "TBR",
           591
          ],
          [
           "CHW",
           474
          ],
          [
           "- - -",
           584
          ],
          [
           "ARI",
           550
          ],
          [
           "KCR",
           528
          ],
          [
           "DET",
           461
          ],
          [
           "MIN",
           490
          ],
          [
           "BOS",
           572
          ],
          [
           "MIN",
           479
          ],
          [
           "TBR",
           541
          ],
          [
           "NYY",
           516
          ],
          [
           "WSN",
           349
          ],
          [
           "ARI",
           359
          ],
          [
           "SFG",
           381
          ],
          [
           "- - -",
           394
          ],
          [
           "COL",
           371
          ],
          [
           "COL",
           415
          ],
          [
           "STL",
           402
          ],
          [
           "- - -",
           576
          ],
          [
           "TEX",
           642
          ],
          [
           "CIN",
           529
          ],
          [
           "MIA",
           507
          ],
          [
           "- - -",
           375
          ],
          [
           "DET",
           674
          ],
          [
           "MIL",
           475
          ],
          [
           "COL",
           582
          ],
          [
           "- - -",
           558
          ],
          [
           "PIT",
           396
          ],
          [
           "NYY",
           440
          ],
          [
           "SDP",
           561
          ],
          [
           "TOR",
           541
          ],
          [
           "CIN",
           454
          ],
          [
           "NYY",
           461
          ],
          [
           "TBR",
           464
          ],
          [
           "BAL",
           586
          ],
          [
           "SDP",
           500
          ],
          [
           "WSN",
           568
          ],
          [
           "CHC",
           535
          ],
          [
           "CLE",
           466
          ],
          [
           "MIA",
           510
          ],
          [
           "PHI",
           574
          ],
          [
           "SFG",
           436
          ],
          [
           "CIN",
           388
          ],
          [
           "- - -",
           375
          ],
          [
           "- - -",
           400
          ],
          [
           "TEX",
           511
          ],
          [
           "CLE",
           348
          ],
          [
           "ARI",
           538
          ],
          [
           "PHI",
           492
          ],
          [
           "SFG",
           344
          ],
          [
           "OAK",
           541
          ],
          [
           "- - -",
           511
          ],
          [
           "DET",
           381
          ],
          [
           "STL",
           473
          ],
          [
           "PHI",
           377
          ],
          [
           "NYY",
           442
          ],
          [
           "LAD",
           381
          ],
          [
           "- - -",
           412
          ],
          [
           "OAK",
           512
          ],
          [
           "NYM",
           479
          ],
          [
           "- - -",
           365
          ],
          [
           "NYM",
           347
          ],
          [
           "BOS",
           453
          ],
          [
           "CIN",
           574
          ],
          [
           "NYY",
           361
          ],
          [
           "BAL",
           438
          ],
          [
           "BAL",
           616
          ],
          [
           "- - -",
           481
          ],
          [
           "PHI",
           344
          ],
          [
           "BOS",
           498
          ],
          [
           "NYM",
           426
          ],
          [
           "ATL",
           347
          ],
          [
           "COL",
           494
          ],
          [
           "NYM",
           412
          ],
          [
           "TOR",
           545
          ],
          [
           "MIN",
           532
          ],
          [
           "WSN",
           346
          ],
          [
           "COL",
           533
          ],
          [
           "CHW",
           469
          ],
          [
           "SEA",
           378
          ],
          [
           "ARI",
           445
          ],
          [
           "LAA",
           665
          ],
          [
           "PIT",
           554
          ],
          [
           "LAA",
           362
          ],
          [
           "ARI",
           545
          ],
          [
           "CHC",
           353
          ],
          [
           "HOU",
           426
          ],
          [
           "SEA",
           377
          ],
          [
           "LAA",
           373
          ],
          [
           "ARI",
           473
          ],
          [
           "SDP",
           565
          ],
          [
           "- - -",
           352
          ],
          [
           "PHI",
           408
          ],
          [
           "CLE",
           361
          ],
          [
           "BAL",
           419
          ],
          [
           "KCR",
           543
          ],
          [
           "- - -",
           602
          ],
          [
           "PIT",
           359
          ],
          [
           "PHI",
           417
          ],
          [
           "KCR",
           659
          ],
          [
           "BAL",
           403
          ],
          [
           "DET",
           450
          ],
          [
           "MIN",
           451
          ],
          [
           "WSN",
           369
          ],
          [
           "NYM",
           493
          ],
          [
           "DET",
           526
          ],
          [
           "SDP",
           356
          ],
          [
           "SDP",
           412
          ],
          [
           "SEA",
           377
          ],
          [
           "MIL",
           428
          ],
          [
           "LAD",
           350
          ],
          [
           "PIT",
           382
          ]
         ],
         "hovertemplate": "<b>%{hovertext}</b><br><br>SLG=%{x}<br>xSLG=%{y}<br>Team=%{customdata[0]}<br>PA=%{customdata[1]}<br>wRC+=%{marker.color}<extra></extra>",
         "hovertext": [
          "Trea Turner",
          "Vladimir Guerrero Jr.",
          "Marcus Semien",
          "Juan Soto",
          "Bryce Harper",
          "Jose Ramirez",
          "Fernando Tatis Jr.",
          "Carlos Correa",
          "Aaron Judge",
          "Starling Marte",
          "Bryan Reynolds",
          "Brandon Crawford",
          "Tyler O'Neill",
          "Cedric Mullins",
          "Jose Altuve",
          "Brandon Lowe",
          "Xander Bogaerts",
          "Shohei Ohtani",
          "Matt Olson",
          "Paul Goldschmidt",
          "Max Muncy",
          "Bo Bichette",
          "Buster Posey",
          "Kyle Tucker",
          "Rafael Devers",
          "Will Smith",
          "Freddie Freeman",
          "Yoan Moncada",
          "Mike Zunino",
          "Nicky Lopez",
          "Manny Machado",
          "J.T. Realmuto",
          "Jake Cronenworth",
          "Tim Anderson",
          "Nick Castellanos",
          "Ozzie Albies",
          "Austin Riley",
          "Ronald Acuna Jr.",
          "Willy Adames",
          "Nolan Arenado",
          "Justin Turner",
          "Jonathan India",
          "Enrique Hernandez",
          "Mookie Betts",
          "Teoscar Hernandez",
          "Jorge Polanco",
          "Yordan Alvarez",
          "Corey Seager",
          "Myles Straw",
          "Yasmani Grandal",
          "Javier Baez",
          "Joey Votto",
          "Kris Bryant",
          "Ty France",
          "Brandon Nimmo",
          "Trevor Story",
          "Joey Gallo",
          "Yuli Gurriel",
          "Matt Chapman",
          "Adam Frazier",
          "Harrison Bader",
          "Salvador Perez",
          "Sean Murphy",
          "Randy Arozarena",
          "Brandon Belt",
          "Jesse Winker",
          "Dansby Swanson",
          "Jeimer Candelario",
          "Whit Merrifield",
          "Kyle Schwarber",
          "J.P. Crawford",
          "Chris Taylor",
          "AJ Pollock",
          "Pete Alonso",
          "Eduardo Escobar",
          "Ketel Marte",
          "Kolten Wong",
          "J.D. Martinez",
          "Avisail Garcia",
          "Adolis Garcia",
          "Jose Abreu",
          "Omar Narvaez",
          "Jared Walsh",
          "Miguel Rojas",
          "Dylan Carlson",
          "Mitch Haniger",
          "Tony Kemp",
          "Amed Rosario",
          "Robbie Grossman",
          "Francisco Lindor",
          "Luis Urias",
          "Giancarlo Stanton",
          "Mark Canha",
          "Jacob Stallings",
          "Joey Wendle",
          "Ryan McMahon",
          "Kyle Seager",
          "Kevin Kiermaier",
          "Jean Segura",
          "DJ LeMahieu",
          "Austin Hays",
          "Adam Duvall",
          "George Springer",
          "Rhys Hoskins",
          "Isiah Kiner-Falefa",
          "Tommy Edman",
          "Patrick Wisdom",
          "C.J. Cron",
          "Cesar Hernandez",
          "Mike Yastrzemski",
          "Josh Donaldson",
          "Michael Brantley",
          "Jonathan Villar",
          "Ramon Laureano",
          "Willson Contreras",
          "Andrew Benintendi",
          "Trent Grisham",
          "Alex Bregman",
          "Alex Verdugo",
          "Tyler Stephenson",
          "Austin Meadows",
          "Leury Garcia",
          "Nelson Cruz",
          "Josh Rojas",
          "Michael A. Taylor",
          "Akil Baddoo",
          "Max Kepler",
          "Hunter Renfroe",
          "Luis Arraez",
          "Yandy Diaz",
          "Gleyber Torres",
          "Alcides Escobar",
          "Carson Kelly",
          "LaMonte Wade Jr.",
          "Freddy Galvis",
          "Elias Diaz",
          "Brendan Rodgers",
          "Paul DeJong",
          "Anthony Rizzo",
          "Nathaniel Lowe",
          "Kyle Farmer",
          "Jazz Chisholm Jr.",
          "Yan Gomes",
          "Jonathan Schoop",
          "Christian Yelich",
          "Charlie Blackmon",
          "Josh Harrison",
          "Ke'Bryan Hayes",
          "Gary Sanchez",
          "Tommy Pham",
          "Lourdes Gurriel Jr.",
          "Tyler Naquin",
          "Brett Gardner",
          "Manuel Margot",
          "Ryan Mountcastle",
          "Wil Myers",
          "Josh Bell",
          "Ian Happ",
          "Franmil Reyes",
          "Jesus Aguilar",
          "Andrew McCutchen",
          "Wilmer Flores",
          "Tucker Barnhart",
          "Abraham Toro",
          "Ben Gamel",
          "Nick Solak",
          "Bradley Zimmer",
          "David Peralta",
          "Odubel Herrera",
          "Donovan Solano",
          "Elvis Andrus",
          "Jose Iglesias",
          "Eric Haase",
          "Yadier Molina",
          "Brad Miller",
          "Gio Urshela",
          "Gavin Lux",
          "Eddie Rosario",
          "Jed Lowrie",
          "Michael Conforto",
          "Corey Dickerson",
          "Kevin Pillar",
          "Bobby Dalbec",
          "Eugenio Suarez",
          "Rougned Odor",
          "Anthony Santander",
          "Trey Mancini",
          "Joc Pederson",
          "Ronald Torreyes",
          "Christian Vazquez",
          "Jeff McNeil",
          "Guillermo Heredia",
          "Garrett Hampson",
          "James McCann",
          "Randal Grichuk",
          "Miguel Sano",
          "Starlin Castro",
          "Raimel Tapia",
          "Andrew Vaughn",
          "Luis Torrens",
          "Christian Walker",
          "David Fletcher",
          "Kevin Newman",
          "Justin Upton",
          "Pavin Smith",
          "Jason Heyward",
          "Martin Maldonado",
          "Dylan Moore",
          "Phil Gosselin",
          "Nick Ahmed",
          "Eric Hosmer",
          "Asdrubal Cabrera",
          "Didi Gregorius",
          "Harold Ramirez",
          "Pedro Severino",
          "Hunter Dozier",
          "Jorge Soler",
          "Colin Moran",
          "Alec Bohm",
          "Carlos Santana",
          "Maikel Franco",
          "Willi Castro",
          "Andrelton Simmons",
          "Victor Robles",
          "Dominic Smith",
          "Miguel Cabrera",
          "Victor Caratini",
          "Jurickson Profar",
          "Jarred Kelenic",
          "Jackie Bradley Jr.",
          "Cody Bellinger",
          "Gregory Polanco"
         ],
         "legendgroup": "",
         "marker": {
          "color": [
           142,
           166,
           131,
           163,
           170,
           137,
           156,
           134,
           148,
           134,
           142,
           139,
           145,
           136,
           130,
           137,
           130,
           152,
           146,
           138,
           140,
           122,
           140,
           147,
           134,
           130,
           135,
           122,
           134,
           106,
           122,
           108,
           116,
           120,
           140,
           107,
           135,
           157,
           119,
           113,
           127,
           122,
           110,
           131,
           132,
           122,
           138,
           147,
           98,
           159,
           116,
           140,
           123,
           129,
           137,
           100,
           123,
           134,
           101,
           114,
           110,
           127,
           99,
           128,
           158,
           148,
           98,
           119,
           91,
           145,
           103,
           113,
           137,
           133,
           107,
           139,
           109,
           128,
           115,
           100,
           126,
           99,
           127,
           97,
           113,
           120,
           127,
           99,
           114,
           103,
           111,
           137,
           115,
           95,
           106,
           95,
           99,
           101,
           109,
           100,
           106,
           103,
           140,
           127,
           85,
           91,
           115,
           127,
           90,
           106,
           124,
           123,
           105,
           111,
           109,
           106,
           103,
           115,
           107,
           111,
           113,
           98,
           122,
           102,
           77,
           108,
           95,
           114,
           103,
           111,
           94,
           100,
           103,
           117,
           90,
           92,
           100,
           86,
           112,
           115,
           91,
           98,
           93,
           105,
           101,
           94,
           103,
           88,
           99,
           102,
           107,
           110,
           93,
           95,
           111,
           109,
           118,
           103,
           125,
           112,
           107,
           113,
           81,
           95,
           101,
           89,
           89,
           93,
           93,
           105,
           72,
           91,
           100,
           83,
           105,
           96,
           91,
           98,
           100,
           106,
           100,
           90,
           107,
           85,
           83,
           92,
           105,
           94,
           68,
           77,
           93,
           79,
           65,
           80,
           85,
           110,
           90,
           76,
           94,
           101,
           87,
           70,
           54,
           92,
           96,
           68,
           63,
           74,
           87,
           64,
           102,
           82,
           68,
           90,
           87,
           82,
           101,
           98,
           75,
           83,
           62,
           69,
           56,
           67,
           86,
           92,
           72,
           85,
           73,
           35,
           48,
           71
          ],
          "coloraxis": "coloraxis",
          "line": {
           "width": 2
          },
          "size": 10,
          "symbol": "circle"
         },
         "mode": "markers",
         "name": "",
         "orientation": "v",
         "showlegend": false,
         "type": "scatter",
         "x": [
          0.536,
          0.601,
          0.538,
          0.534,
          0.615,
          0.538,
          0.611,
          0.485,
          0.544,
          0.458,
          0.522,
          0.522,
          0.56,
          0.518,
          0.489,
          0.523,
          0.493,
          0.592,
          0.54,
          0.514,
          0.527,
          0.484,
          0.499,
          0.557,
          0.538,
          0.495,
          0.503,
          0.412,
          0.559,
          0.378,
          0.489,
          0.439,
          0.46,
          0.469,
          0.576,
          0.488,
          0.531,
          0.596,
          0.481,
          0.494,
          0.471,
          0.459,
          0.449,
          0.487,
          0.524,
          0.503,
          0.531,
          0.521,
          0.348,
          0.52,
          0.494,
          0.563,
          0.481,
          0.445,
          0.437,
          0.471,
          0.458,
          0.462,
          0.403,
          0.411,
          0.46,
          0.544,
          0.405,
          0.459,
          0.597,
          0.556,
          0.449,
          0.443,
          0.395,
          0.554,
          0.376,
          0.438,
          0.536,
          0.519,
          0.472,
          0.532,
          0.447,
          0.518,
          0.49,
          0.454,
          0.481,
          0.402,
          0.509,
          0.392,
          0.437,
          0.485,
          0.418,
          0.409,
          0.415,
          0.412,
          0.445,
          0.516,
          0.387,
          0.369,
          0.422,
          0.449,
          0.438,
          0.388,
          0.436,
          0.362,
          0.461,
          0.491,
          0.555,
          0.53,
          0.357,
          0.387,
          0.518,
          0.53,
          0.386,
          0.457,
          0.475,
          0.437,
          0.416,
          0.443,
          0.438,
          0.442,
          0.413,
          0.422,
          0.426,
          0.431,
          0.458,
          0.376,
          0.497,
          0.411,
          0.356,
          0.436,
          0.413,
          0.501,
          0.376,
          0.387,
          0.366,
          0.404,
          0.411,
          0.482,
          0.407,
          0.464,
          0.47,
          0.39,
          0.44,
          0.415,
          0.416,
          0.425,
          0.421,
          0.435,
          0.373,
          0.411,
          0.4,
          0.373,
          0.423,
          0.383,
          0.466,
          0.477,
          0.362,
          0.382,
          0.487,
          0.434,
          0.476,
          0.434,
          0.522,
          0.459,
          0.444,
          0.447,
          0.368,
          0.373,
          0.388,
          0.362,
          0.344,
          0.402,
          0.416,
          0.404,
          0.32,
          0.391,
          0.459,
          0.37,
          0.453,
          0.419,
          0.364,
          0.435,
          0.398,
          0.384,
          0.408,
          0.415,
          0.494,
          0.428,
          0.379,
          0.433,
          0.432,
          0.422,
          0.346,
          0.352,
          0.36,
          0.354,
          0.38,
          0.349,
          0.423,
          0.466,
          0.375,
          0.372,
          0.396,
          0.431,
          0.382,
          0.324,
          0.309,
          0.409,
          0.404,
          0.347,
          0.3,
          0.334,
          0.362,
          0.339,
          0.395,
          0.366,
          0.37,
          0.398,
          0.383,
          0.394,
          0.432,
          0.39,
          0.342,
          0.342,
          0.355,
          0.351,
          0.274,
          0.295,
          0.363,
          0.386,
          0.323,
          0.32,
          0.35,
          0.261,
          0.302,
          0.354
         ],
         "xaxis": "x",
         "y": [
          0.484,
          0.591,
          0.453,
          0.544,
          0.61,
          0.505,
          0.618,
          0.482,
          0.591,
          0.438,
          0.522,
          0.492,
          0.583,
          0.447,
          0.42,
          0.499,
          0.467,
          0.612,
          0.506,
          0.574,
          0.581,
          0.489,
          0.469,
          0.58,
          0.568,
          0.472,
          0.582,
          0.422,
          0.535,
          0.304,
          0.53,
          0.416,
          0.446,
          0.442,
          0.535,
          0.464,
          0.509,
          0.605,
          0.438,
          0.42,
          0.469,
          0.442,
          0.455,
          0.443,
          0.533,
          0.487,
          0.57,
          0.53,
          0.337,
          0.506,
          0.455,
          0.592,
          0.449,
          0.435,
          0.389,
          0.451,
          0.464,
          0.386,
          0.422,
          0.374,
          0.394,
          0.566,
          0.439,
          0.366,
          0.526,
          0.524,
          0.456,
          0.465,
          0.383,
          0.564,
          0.338,
          0.422,
          0.501,
          0.541,
          0.454,
          0.495,
          0.382,
          0.534,
          0.514,
          0.426,
          0.455,
          0.369,
          0.433,
          0.344,
          0.404,
          0.498,
          0.347,
          0.365,
          0.399,
          0.452,
          0.427,
          0.494,
          0.378,
          0.369,
          0.354,
          0.424,
          0.454,
          0.319,
          0.394,
          0.395,
          0.432,
          0.499,
          0.507,
          0.564,
          0.349,
          0.399,
          0.46,
          0.48,
          0.384,
          0.43,
          0.541,
          0.466,
          0.388,
          0.456,
          0.447,
          0.456,
          0.368,
          0.421,
          0.446,
          0.39,
          0.423,
          0.335,
          0.514,
          0.356,
          0.39,
          0.403,
          0.452,
          0.504,
          0.41,
          0.399,
          0.422,
          0.362,
          0.425,
          0.475,
          0.35,
          0.426,
          0.412,
          0.416,
          0.433,
          0.402,
          0.382,
          0.409,
          0.469,
          0.404,
          0.392,
          0.457,
          0.42,
          0.367,
          0.452,
          0.442,
          0.459,
          0.457,
          0.318,
          0.396,
          0.458,
          0.37,
          0.487,
          0.393,
          0.509,
          0.453,
          0.43,
          0.398,
          0.313,
          0.413,
          0.373,
          0.36,
          0.371,
          0.344,
          0.377,
          0.432,
          0.373,
          0.364,
          0.463,
          0.406,
          0.46,
          0.415,
          0.387,
          0.425,
          0.463,
          0.435,
          0.377,
          0.372,
          0.522,
          0.455,
          0.37,
          0.445,
          0.451,
          0.44,
          0.299,
          0.335,
          0.385,
          0.336,
          0.372,
          0.343,
          0.4,
          0.439,
          0.41,
          0.317,
          0.432,
          0.427,
          0.386,
          0.319,
          0.33,
          0.426,
          0.403,
          0.364,
          0.312,
          0.348,
          0.353,
          0.29,
          0.405,
          0.331,
          0.327,
          0.402,
          0.401,
          0.388,
          0.493,
          0.39,
          0.396,
          0.42,
          0.344,
          0.364,
          0.281,
          0.314,
          0.419,
          0.415,
          0.354,
          0.323,
          0.408,
          0.294,
          0.357,
          0.409
         ],
         "yaxis": "y"
        },
        {
         "line": {
          "color": "rgba(31, 119, 180, 0.4)",
          "dash": "dash",
          "width": 2
         },
         "name": "regression",
         "showlegend": false,
         "type": "scatter",
         "x": [
          0.261,
          0.2645757575757576,
          0.26815151515151514,
          0.27172727272727276,
          0.2753030303030303,
          0.2788787878787879,
          0.28245454545454546,
          0.286030303030303,
          0.2896060606060606,
          0.2931818181818182,
          0.2967575757575758,
          0.30033333333333334,
          0.3039090909090909,
          0.30748484848484847,
          0.31106060606060604,
          0.31463636363636366,
          0.3182121212121212,
          0.3217878787878788,
          0.32536363636363635,
          0.328939393939394,
          0.33251515151515154,
          0.3360909090909091,
          0.3396666666666667,
          0.34324242424242424,
          0.3468181818181818,
          0.35039393939393937,
          0.353969696969697,
          0.35754545454545456,
          0.3611212121212121,
          0.3646969696969697,
          0.3682727272727273,
          0.3718484848484849,
          0.37542424242424244,
          0.379,
          0.38257575757575757,
          0.38615151515151513,
          0.3897272727272727,
          0.39330303030303027,
          0.3968787878787879,
          0.40045454545454545,
          0.404030303030303,
          0.40760606060606064,
          0.4111818181818182,
          0.41475757575757577,
          0.41833333333333333,
          0.4219090909090909,
          0.42548484848484847,
          0.42906060606060603,
          0.4326363636363636,
          0.4362121212121212,
          0.4397878787878788,
          0.44336363636363635,
          0.44693939393939397,
          0.45051515151515154,
          0.4540909090909091,
          0.45766666666666667,
          0.46124242424242423,
          0.4648181818181818,
          0.46839393939393936,
          0.47196969696969693,
          0.47554545454545455,
          0.4791212121212121,
          0.4826969696969697,
          0.4862727272727273,
          0.48984848484848487,
          0.49342424242424243,
          0.497,
          0.5005757575757576,
          0.5041515151515151,
          0.5077272727272727,
          0.5113030303030304,
          0.5148787878787879,
          0.5184545454545455,
          0.5220303030303031,
          0.5256060606060606,
          0.5291818181818182,
          0.5327575757575758,
          0.5363333333333333,
          0.5399090909090909,
          0.5434848484848485,
          0.547060606060606,
          0.5506363636363636,
          0.5542121212121212,
          0.5577878787878787,
          0.5613636363636363,
          0.5649393939393939,
          0.5685151515151514,
          0.5720909090909091,
          0.5756666666666667,
          0.5792424242424242,
          0.5828181818181818,
          0.5863939393939394,
          0.589969696969697,
          0.5935454545454546,
          0.5971212121212122,
          0.6006969696969697,
          0.6042727272727273,
          0.6078484848484849,
          0.6114242424242424,
          0.615
         ],
         "y": [
          0.27238905791696355,
          0.275610230439981,
          0.2788314029629985,
          0.28205257548601603,
          0.28527374800903355,
          0.288494920532051,
          0.2917160930550685,
          0.29493726557808597,
          0.2981584381011035,
          0.301379610624121,
          0.3046007831471385,
          0.30782195567015597,
          0.3110431281931735,
          0.314264300716191,
          0.31748547323920845,
          0.320706645762226,
          0.3239278182852435,
          0.327148990808261,
          0.33037016333127844,
          0.333591335854296,
          0.33681250837731347,
          0.340033680900331,
          0.34325485342334844,
          0.34647602594636595,
          0.3496971984693834,
          0.3529183709924009,
          0.35613954351541843,
          0.35936071603843595,
          0.36258188856145346,
          0.3658030610844709,
          0.3690242336074885,
          0.37224540613050594,
          0.37546657865352345,
          0.3786877511765409,
          0.3819089236995584,
          0.3851300962225759,
          0.3883512687455934,
          0.39157244126861085,
          0.3947936137916284,
          0.3980147863146459,
          0.4012359588376634,
          0.4044571313606809,
          0.4076783038836984,
          0.4108994764067159,
          0.4141206489297334,
          0.4173418214527509,
          0.42056299397576835,
          0.42378416649878586,
          0.4270053390218033,
          0.4302265115448209,
          0.43344768406783835,
          0.43666885659085586,
          0.43989002911387337,
          0.4431112016368909,
          0.44633237415990834,
          0.44955354668292585,
          0.45277471920594337,
          0.4559958917289608,
          0.45921706425197834,
          0.4624382367749958,
          0.46565940929801336,
          0.4688805818210308,
          0.47210175434404833,
          0.47532292686706584,
          0.47854409939008336,
          0.4817652719131008,
          0.4849864444361183,
          0.4882076169591358,
          0.4914287894821533,
          0.4946499620051708,
          0.4978711345281884,
          0.5010923070512059,
          0.5043134795742233,
          0.5075346520972409,
          0.5107558246202584,
          0.5139769971432758,
          0.5171981696662933,
          0.5204193421893109,
          0.5236405147123283,
          0.5268616872353458,
          0.5300828597583632,
          0.5333040322813808,
          0.5365252048043982,
          0.5397463773274157,
          0.5429675498504332,
          0.5461887223734507,
          0.5494098948964682,
          0.5526310674194858,
          0.5558522399425032,
          0.5590734124655208,
          0.5622945849885382,
          0.5655157575115557,
          0.5687369300345733,
          0.5719581025575908,
          0.5751792750806083,
          0.5784004476036257,
          0.5816216201266432,
          0.5848427926496608,
          0.5880639651726782,
          0.5912851376956957
         ]
        },
        {
         "line": {
          "color": "rgba(31, 119, 180, 0.4)",
          "dash": "dash",
          "width": 2
         },
         "name": "+1 st_dev",
         "showlegend": false,
         "type": "scatter",
         "x": [
          0.261,
          0.2645757575757576,
          0.26815151515151514,
          0.27172727272727276,
          0.2753030303030303,
          0.2788787878787879,
          0.28245454545454546,
          0.286030303030303,
          0.2896060606060606,
          0.2931818181818182,
          0.2967575757575758,
          0.30033333333333334,
          0.3039090909090909,
          0.30748484848484847,
          0.31106060606060604,
          0.31463636363636366,
          0.3182121212121212,
          0.3217878787878788,
          0.32536363636363635,
          0.328939393939394,
          0.33251515151515154,
          0.3360909090909091,
          0.3396666666666667,
          0.34324242424242424,
          0.3468181818181818,
          0.35039393939393937,
          0.353969696969697,
          0.35754545454545456,
          0.3611212121212121,
          0.3646969696969697,
          0.3682727272727273,
          0.3718484848484849,
          0.37542424242424244,
          0.379,
          0.38257575757575757,
          0.38615151515151513,
          0.3897272727272727,
          0.39330303030303027,
          0.3968787878787879,
          0.40045454545454545,
          0.404030303030303,
          0.40760606060606064,
          0.4111818181818182,
          0.41475757575757577,
          0.41833333333333333,
          0.4219090909090909,
          0.42548484848484847,
          0.42906060606060603,
          0.4326363636363636,
          0.4362121212121212,
          0.4397878787878788,
          0.44336363636363635,
          0.44693939393939397,
          0.45051515151515154,
          0.4540909090909091,
          0.45766666666666667,
          0.46124242424242423,
          0.4648181818181818,
          0.46839393939393936,
          0.47196969696969693,
          0.47554545454545455,
          0.4791212121212121,
          0.4826969696969697,
          0.4862727272727273,
          0.48984848484848487,
          0.49342424242424243,
          0.497,
          0.5005757575757576,
          0.5041515151515151,
          0.5077272727272727,
          0.5113030303030304,
          0.5148787878787879,
          0.5184545454545455,
          0.5220303030303031,
          0.5256060606060606,
          0.5291818181818182,
          0.5327575757575758,
          0.5363333333333333,
          0.5399090909090909,
          0.5434848484848485,
          0.547060606060606,
          0.5506363636363636,
          0.5542121212121212,
          0.5577878787878787,
          0.5613636363636363,
          0.5649393939393939,
          0.5685151515151514,
          0.5720909090909091,
          0.5756666666666667,
          0.5792424242424242,
          0.5828181818181818,
          0.5863939393939394,
          0.589969696969697,
          0.5935454545454546,
          0.5971212121212122,
          0.6006969696969697,
          0.6042727272727273,
          0.6078484848484849,
          0.6114242424242424,
          0.615
         ],
         "y": [
          0.3438745413085008,
          0.34709571383151827,
          0.3503168863545358,
          0.3535380588775533,
          0.3567592314005708,
          0.3599804039235883,
          0.3632015764466058,
          0.36642274896962324,
          0.3696439214926408,
          0.37286509401565826,
          0.37608626653867583,
          0.3793074390616933,
          0.38252861158471074,
          0.3857497841077283,
          0.38897095663074577,
          0.39219212915376334,
          0.3954133016767808,
          0.39863447419979825,
          0.4018556467228157,
          0.4050768192458333,
          0.40829799176885073,
          0.4115191642918683,
          0.41474033681488576,
          0.4179615093379032,
          0.42118268186092067,
          0.42440385438393824,
          0.4276250269069557,
          0.43084619942997326,
          0.4340673719529907,
          0.4372885444760082,
          0.44050971699902575,
          0.4437308895220432,
          0.44695206204506077,
          0.45017323456807823,
          0.4533944070910957,
          0.45661557961411314,
          0.4598367521371307,
          0.46305792466014817,
          0.46627909718316574,
          0.4695002697061832,
          0.47272144222920065,
          0.4759426147522182,
          0.4791637872752357,
          0.48238495979825324,
          0.4856061323212707,
          0.48882730484428816,
          0.4920484773673056,
          0.4952696498903232,
          0.49849082241334064,
          0.5017119949363582,
          0.5049331674593757,
          0.5081543399823931,
          0.5113755125054107,
          0.5145966850284281,
          0.5178178575514456,
          0.5210390300744632,
          0.5242602025974806,
          0.5274813751204981,
          0.5307025476435157,
          0.5339237201665331,
          0.5371448926895507,
          0.5403660652125681,
          0.5435872377355856,
          0.5468084102586032,
          0.5500295827816206,
          0.5532507553046381,
          0.5564719278276556,
          0.5596931003506731,
          0.5629142728736906,
          0.5661354453967081,
          0.5693566179197257,
          0.5725777904427432,
          0.5757989629657606,
          0.5790201354887782,
          0.5822413080117956,
          0.5854624805348131,
          0.5886836530578305,
          0.5919048255808481,
          0.5951259981038656,
          0.598347170626883,
          0.6015683431499005,
          0.604789515672918,
          0.6080106881959355,
          0.611231860718953,
          0.6144530332419704,
          0.617674205764988,
          0.6208953782880055,
          0.624116550811023,
          0.6273377233340405,
          0.630558895857058,
          0.6337800683800755,
          0.637001240903093,
          0.6402224134261105,
          0.6434435859491281,
          0.6466647584721456,
          0.649885930995163,
          0.6531071035181805,
          0.656328276041198,
          0.6595494485642155,
          0.662770621087233
         ]
        },
        {
         "line": {
          "color": "rgba(31, 119, 180, 0.4)",
          "dash": "dash",
          "width": 2
         },
         "name": "-1 st_dev",
         "showlegend": false,
         "type": "scatter",
         "x": [
          0.261,
          0.2645757575757576,
          0.26815151515151514,
          0.27172727272727276,
          0.2753030303030303,
          0.2788787878787879,
          0.28245454545454546,
          0.286030303030303,
          0.2896060606060606,
          0.2931818181818182,
          0.2967575757575758,
          0.30033333333333334,
          0.3039090909090909,
          0.30748484848484847,
          0.31106060606060604,
          0.31463636363636366,
          0.3182121212121212,
          0.3217878787878788,
          0.32536363636363635,
          0.328939393939394,
          0.33251515151515154,
          0.3360909090909091,
          0.3396666666666667,
          0.34324242424242424,
          0.3468181818181818,
          0.35039393939393937,
          0.353969696969697,
          0.35754545454545456,
          0.3611212121212121,
          0.3646969696969697,
          0.3682727272727273,
          0.3718484848484849,
          0.37542424242424244,
          0.379,
          0.38257575757575757,
          0.38615151515151513,
          0.3897272727272727,
          0.39330303030303027,
          0.3968787878787879,
          0.40045454545454545,
          0.404030303030303,
          0.40760606060606064,
          0.4111818181818182,
          0.41475757575757577,
          0.41833333333333333,
          0.4219090909090909,
          0.42548484848484847,
          0.42906060606060603,
          0.4326363636363636,
          0.4362121212121212,
          0.4397878787878788,
          0.44336363636363635,
          0.44693939393939397,
          0.45051515151515154,
          0.4540909090909091,
          0.45766666666666667,
          0.46124242424242423,
          0.4648181818181818,
          0.46839393939393936,
          0.47196969696969693,
          0.47554545454545455,
          0.4791212121212121,
          0.4826969696969697,
          0.4862727272727273,
          0.48984848484848487,
          0.49342424242424243,
          0.497,
          0.5005757575757576,
          0.5041515151515151,
          0.5077272727272727,
          0.5113030303030304,
          0.5148787878787879,
          0.5184545454545455,
          0.5220303030303031,
          0.5256060606060606,
          0.5291818181818182,
          0.5327575757575758,
          0.5363333333333333,
          0.5399090909090909,
          0.5434848484848485,
          0.547060606060606,
          0.5506363636363636,
          0.5542121212121212,
          0.5577878787878787,
          0.5613636363636363,
          0.5649393939393939,
          0.5685151515151514,
          0.5720909090909091,
          0.5756666666666667,
          0.5792424242424242,
          0.5828181818181818,
          0.5863939393939394,
          0.589969696969697,
          0.5935454545454546,
          0.5971212121212122,
          0.6006969696969697,
          0.6042727272727273,
          0.6078484848484849,
          0.6114242424242424,
          0.615
         ],
         "y": [
          0.2009035745254263,
          0.20412474704844377,
          0.20734591957146126,
          0.2105670920944788,
          0.21378826461749628,
          0.21700943714051377,
          0.22023060966353128,
          0.22345178218654874,
          0.22667295470956625,
          0.22989412723258376,
          0.23311529975560127,
          0.23633647227861873,
          0.23955764480163624,
          0.24277881732465376,
          0.2459999898476712,
          0.24922116237068878,
          0.2524423348937062,
          0.2556635074167237,
          0.2588846799397412,
          0.26210585246275875,
          0.2653270249857762,
          0.2685481975087937,
          0.2717693700318112,
          0.2749905425548287,
          0.27821171507784614,
          0.28143288760086366,
          0.28465406012388117,
          0.2878752326468987,
          0.2910964051699162,
          0.29431757769293365,
          0.2975387502159512,
          0.3007599227389687,
          0.3039810952619862,
          0.30720226778500365,
          0.31042344030802116,
          0.3136446128310386,
          0.31686578535405613,
          0.3200869578770736,
          0.32330813040009115,
          0.3265293029231086,
          0.3297504754461261,
          0.33297164796914364,
          0.33619282049216115,
          0.33941399301517866,
          0.3426351655381961,
          0.34585633806121363,
          0.3490775105842311,
          0.3522986831072486,
          0.35551985563026606,
          0.3587410281532836,
          0.3619622006763011,
          0.3651833731993186,
          0.3684045457223361,
          0.3716257182453536,
          0.3748468907683711,
          0.3780680632913886,
          0.3812892358144061,
          0.38451040833742356,
          0.38773158086044107,
          0.39095275338345853,
          0.3941739259064761,
          0.39739509842949355,
          0.40061627095251107,
          0.4038374434755286,
          0.4070586159985461,
          0.41027978852156355,
          0.41350096104458106,
          0.4167221335675985,
          0.41994330609061603,
          0.42316447861363354,
          0.4263856511366511,
          0.42960682365966857,
          0.4328279961826861,
          0.4360491687057036,
          0.43927034122872105,
          0.44249151375173856,
          0.445712686274756,
          0.44893385879777353,
          0.452155031320791,
          0.4553762038438085,
          0.45859737636682596,
          0.46181854888984347,
          0.465039721412861,
          0.46826089393587844,
          0.4714820664588959,
          0.47470323898191347,
          0.4779244115049309,
          0.4811455840279485,
          0.48436675655096595,
          0.4875879290739835,
          0.490809101597001,
          0.49403027412001843,
          0.497251446643036,
          0.5004726191660536,
          0.503693791689071,
          0.5069149642120885,
          0.5101361367351059,
          0.5133573092581235,
          0.516578481781141,
          0.5197996543041584
         ]
        }
       ],
       "layout": {
        "coloraxis": {
         "colorbar": {
          "title": {
           "text": "wRC+"
          }
         },
         "colorscale": [
          [
           0,
           "rgb(0, 155, 158)"
          ],
          [
           0.16666666666666666,
           "rgb(66, 183, 185)"
          ],
          [
           0.3333333333333333,
           "rgb(167, 211, 212)"
          ],
          [
           0.5,
           "rgb(241, 241, 241)"
          ],
          [
           0.6666666666666666,
           "rgb(228, 193, 217)"
          ],
          [
           0.8333333333333334,
           "rgb(214, 145, 193)"
          ],
          [
           1,
           "rgb(199, 93, 171)"
          ]
         ]
        },
        "height": 700,
        "legend": {
         "tracegroupgap": 0
        },
        "template": {
         "data": {
          "bar": [
           {
            "error_x": {
             "color": "#2a3f5f"
            },
            "error_y": {
             "color": "#2a3f5f"
            },
            "marker": {
             "line": {
              "color": "#E5ECF6",
              "width": 0.5
             },
             "pattern": {
              "fillmode": "overlay",
              "size": 10,
              "solidity": 0.2
             }
            },
            "type": "bar"
           }
          ],
          "barpolar": [
           {
            "marker": {
             "line": {
              "color": "#E5ECF6",
              "width": 0.5
             },
             "pattern": {
              "fillmode": "overlay",
              "size": 10,
              "solidity": 0.2
             }
            },
            "type": "barpolar"
           }
          ],
          "carpet": [
           {
            "aaxis": {
             "endlinecolor": "#2a3f5f",
             "gridcolor": "white",
             "linecolor": "white",
             "minorgridcolor": "white",
             "startlinecolor": "#2a3f5f"
            },
            "baxis": {
             "endlinecolor": "#2a3f5f",
             "gridcolor": "white",
             "linecolor": "white",
             "minorgridcolor": "white",
             "startlinecolor": "#2a3f5f"
            },
            "type": "carpet"
           }
          ],
          "choropleth": [
           {
            "colorbar": {
             "outlinewidth": 0,
             "ticks": ""
            },
            "type": "choropleth"
           }
          ],
          "contour": [
           {
            "colorbar": {
             "outlinewidth": 0,
             "ticks": ""
            },
            "colorscale": [
             [
              0,
              "#0d0887"
             ],
             [
              0.1111111111111111,
              "#46039f"
             ],
             [
              0.2222222222222222,
              "#7201a8"
             ],
             [
              0.3333333333333333,
              "#9c179e"
             ],
             [
              0.4444444444444444,
              "#bd3786"
             ],
             [
              0.5555555555555556,
              "#d8576b"
             ],
             [
              0.6666666666666666,
              "#ed7953"
             ],
             [
              0.7777777777777778,
              "#fb9f3a"
             ],
             [
              0.8888888888888888,
              "#fdca26"
             ],
             [
              1,
              "#f0f921"
             ]
            ],
            "type": "contour"
           }
          ],
          "contourcarpet": [
           {
            "colorbar": {
             "outlinewidth": 0,
             "ticks": ""
            },
            "type": "contourcarpet"
           }
          ],
          "heatmap": [
           {
            "colorbar": {
             "outlinewidth": 0,
             "ticks": ""
            },
            "colorscale": [
             [
              0,
              "#0d0887"
             ],
             [
              0.1111111111111111,
              "#46039f"
             ],
             [
              0.2222222222222222,
              "#7201a8"
             ],
             [
              0.3333333333333333,
              "#9c179e"
             ],
             [
              0.4444444444444444,
              "#bd3786"
             ],
             [
              0.5555555555555556,
              "#d8576b"
             ],
             [
              0.6666666666666666,
              "#ed7953"
             ],
             [
              0.7777777777777778,
              "#fb9f3a"
             ],
             [
              0.8888888888888888,
              "#fdca26"
             ],
             [
              1,
              "#f0f921"
             ]
            ],
            "type": "heatmap"
           }
          ],
          "heatmapgl": [
           {
            "colorbar": {
             "outlinewidth": 0,
             "ticks": ""
            },
            "colorscale": [
             [
              0,
              "#0d0887"
             ],
             [
              0.1111111111111111,
              "#46039f"
             ],
             [
              0.2222222222222222,
              "#7201a8"
             ],
             [
              0.3333333333333333,
              "#9c179e"
             ],
             [
              0.4444444444444444,
              "#bd3786"
             ],
             [
              0.5555555555555556,
              "#d8576b"
             ],
             [
              0.6666666666666666,
              "#ed7953"
             ],
             [
              0.7777777777777778,
              "#fb9f3a"
             ],
             [
              0.8888888888888888,
              "#fdca26"
             ],
             [
              1,
              "#f0f921"
             ]
            ],
            "type": "heatmapgl"
           }
          ],
          "histogram": [
           {
            "marker": {
             "pattern": {
              "fillmode": "overlay",
              "size": 10,
              "solidity": 0.2
             }
            },
            "type": "histogram"
           }
          ],
          "histogram2d": [
           {
            "colorbar": {
             "outlinewidth": 0,
             "ticks": ""
            },
            "colorscale": [
             [
              0,
              "#0d0887"
             ],
             [
              0.1111111111111111,
              "#46039f"
             ],
             [
              0.2222222222222222,
              "#7201a8"
             ],
             [
              0.3333333333333333,
              "#9c179e"
             ],
             [
              0.4444444444444444,
              "#bd3786"
             ],
             [
              0.5555555555555556,
              "#d8576b"
             ],
             [
              0.6666666666666666,
              "#ed7953"
             ],
             [
              0.7777777777777778,
              "#fb9f3a"
             ],
             [
              0.8888888888888888,
              "#fdca26"
             ],
             [
              1,
              "#f0f921"
             ]
            ],
            "type": "histogram2d"
           }
          ],
          "histogram2dcontour": [
           {
            "colorbar": {
             "outlinewidth": 0,
             "ticks": ""
            },
            "colorscale": [
             [
              0,
              "#0d0887"
             ],
             [
              0.1111111111111111,
              "#46039f"
             ],
             [
              0.2222222222222222,
              "#7201a8"
             ],
             [
              0.3333333333333333,
              "#9c179e"
             ],
             [
              0.4444444444444444,
              "#bd3786"
             ],
             [
              0.5555555555555556,
              "#d8576b"
             ],
             [
              0.6666666666666666,
              "#ed7953"
             ],
             [
              0.7777777777777778,
              "#fb9f3a"
             ],
             [
              0.8888888888888888,
              "#fdca26"
             ],
             [
              1,
              "#f0f921"
             ]
            ],
            "type": "histogram2dcontour"
           }
          ],
          "mesh3d": [
           {
            "colorbar": {
             "outlinewidth": 0,
             "ticks": ""
            },
            "type": "mesh3d"
           }
          ],
          "parcoords": [
           {
            "line": {
             "colorbar": {
              "outlinewidth": 0,
              "ticks": ""
             }
            },
            "type": "parcoords"
           }
          ],
          "pie": [
           {
            "automargin": true,
            "type": "pie"
           }
          ],
          "scatter": [
           {
            "marker": {
             "colorbar": {
              "outlinewidth": 0,
              "ticks": ""
             }
            },
            "type": "scatter"
           }
          ],
          "scatter3d": [
           {
            "line": {
             "colorbar": {
              "outlinewidth": 0,
              "ticks": ""
             }
            },
            "marker": {
             "colorbar": {
              "outlinewidth": 0,
              "ticks": ""
             }
            },
            "type": "scatter3d"
           }
          ],
          "scattercarpet": [
           {
            "marker": {
             "colorbar": {
              "outlinewidth": 0,
              "ticks": ""
             }
            },
            "type": "scattercarpet"
           }
          ],
          "scattergeo": [
           {
            "marker": {
             "colorbar": {
              "outlinewidth": 0,
              "ticks": ""
             }
            },
            "type": "scattergeo"
           }
          ],
          "scattergl": [
           {
            "marker": {
             "colorbar": {
              "outlinewidth": 0,
              "ticks": ""
             }
            },
            "type": "scattergl"
           }
          ],
          "scattermapbox": [
           {
            "marker": {
             "colorbar": {
              "outlinewidth": 0,
              "ticks": ""
             }
            },
            "type": "scattermapbox"
           }
          ],
          "scatterpolar": [
           {
            "marker": {
             "colorbar": {
              "outlinewidth": 0,
              "ticks": ""
             }
            },
            "type": "scatterpolar"
           }
          ],
          "scatterpolargl": [
           {
            "marker": {
             "colorbar": {
              "outlinewidth": 0,
              "ticks": ""
             }
            },
            "type": "scatterpolargl"
           }
          ],
          "scatterternary": [
           {
            "marker": {
             "colorbar": {
              "outlinewidth": 0,
              "ticks": ""
             }
            },
            "type": "scatterternary"
           }
          ],
          "surface": [
           {
            "colorbar": {
             "outlinewidth": 0,
             "ticks": ""
            },
            "colorscale": [
             [
              0,
              "#0d0887"
             ],
             [
              0.1111111111111111,
              "#46039f"
             ],
             [
              0.2222222222222222,
              "#7201a8"
             ],
             [
              0.3333333333333333,
              "#9c179e"
             ],
             [
              0.4444444444444444,
              "#bd3786"
             ],
             [
              0.5555555555555556,
              "#d8576b"
             ],
             [
              0.6666666666666666,
              "#ed7953"
             ],
             [
              0.7777777777777778,
              "#fb9f3a"
             ],
             [
              0.8888888888888888,
              "#fdca26"
             ],
             [
              1,
              "#f0f921"
             ]
            ],
            "type": "surface"
           }
          ],
          "table": [
           {
            "cells": {
             "fill": {
              "color": "#EBF0F8"
             },
             "line": {
              "color": "white"
             }
            },
            "header": {
             "fill": {
              "color": "#C8D4E3"
             },
             "line": {
              "color": "white"
             }
            },
            "type": "table"
           }
          ]
         },
         "layout": {
          "annotationdefaults": {
           "arrowcolor": "#2a3f5f",
           "arrowhead": 0,
           "arrowwidth": 1
          },
          "autotypenumbers": "strict",
          "coloraxis": {
           "colorbar": {
            "outlinewidth": 0,
            "ticks": ""
           }
          },
          "colorscale": {
           "diverging": [
            [
             0,
             "#8e0152"
            ],
            [
             0.1,
             "#c51b7d"
            ],
            [
             0.2,
             "#de77ae"
            ],
            [
             0.3,
             "#f1b6da"
            ],
            [
             0.4,
             "#fde0ef"
            ],
            [
             0.5,
             "#f7f7f7"
            ],
            [
             0.6,
             "#e6f5d0"
            ],
            [
             0.7,
             "#b8e186"
            ],
            [
             0.8,
             "#7fbc41"
            ],
            [
             0.9,
             "#4d9221"
            ],
            [
             1,
             "#276419"
            ]
           ],
           "sequential": [
            [
             0,
             "#0d0887"
            ],
            [
             0.1111111111111111,
             "#46039f"
            ],
            [
             0.2222222222222222,
             "#7201a8"
            ],
            [
             0.3333333333333333,
             "#9c179e"
            ],
            [
             0.4444444444444444,
             "#bd3786"
            ],
            [
             0.5555555555555556,
             "#d8576b"
            ],
            [
             0.6666666666666666,
             "#ed7953"
            ],
            [
             0.7777777777777778,
             "#fb9f3a"
            ],
            [
             0.8888888888888888,
             "#fdca26"
            ],
            [
             1,
             "#f0f921"
            ]
           ],
           "sequentialminus": [
            [
             0,
             "#0d0887"
            ],
            [
             0.1111111111111111,
             "#46039f"
            ],
            [
             0.2222222222222222,
             "#7201a8"
            ],
            [
             0.3333333333333333,
             "#9c179e"
            ],
            [
             0.4444444444444444,
             "#bd3786"
            ],
            [
             0.5555555555555556,
             "#d8576b"
            ],
            [
             0.6666666666666666,
             "#ed7953"
            ],
            [
             0.7777777777777778,
             "#fb9f3a"
            ],
            [
             0.8888888888888888,
             "#fdca26"
            ],
            [
             1,
             "#f0f921"
            ]
           ]
          },
          "colorway": [
           "#636efa",
           "#EF553B",
           "#00cc96",
           "#ab63fa",
           "#FFA15A",
           "#19d3f3",
           "#FF6692",
           "#B6E880",
           "#FF97FF",
           "#FECB52"
          ],
          "font": {
           "color": "#2a3f5f"
          },
          "geo": {
           "bgcolor": "white",
           "lakecolor": "white",
           "landcolor": "#E5ECF6",
           "showlakes": true,
           "showland": true,
           "subunitcolor": "white"
          },
          "hoverlabel": {
           "align": "left"
          },
          "hovermode": "closest",
          "mapbox": {
           "style": "light"
          },
          "paper_bgcolor": "white",
          "plot_bgcolor": "#E5ECF6",
          "polar": {
           "angularaxis": {
            "gridcolor": "white",
            "linecolor": "white",
            "ticks": ""
           },
           "bgcolor": "#E5ECF6",
           "radialaxis": {
            "gridcolor": "white",
            "linecolor": "white",
            "ticks": ""
           }
          },
          "scene": {
           "xaxis": {
            "backgroundcolor": "#E5ECF6",
            "gridcolor": "white",
            "gridwidth": 2,
            "linecolor": "white",
            "showbackground": true,
            "ticks": "",
            "zerolinecolor": "white"
           },
           "yaxis": {
            "backgroundcolor": "#E5ECF6",
            "gridcolor": "white",
            "gridwidth": 2,
            "linecolor": "white",
            "showbackground": true,
            "ticks": "",
            "zerolinecolor": "white"
           },
           "zaxis": {
            "backgroundcolor": "#E5ECF6",
            "gridcolor": "white",
            "gridwidth": 2,
            "linecolor": "white",
            "showbackground": true,
            "ticks": "",
            "zerolinecolor": "white"
           }
          },
          "shapedefaults": {
           "line": {
            "color": "#2a3f5f"
           }
          },
          "ternary": {
           "aaxis": {
            "gridcolor": "white",
            "linecolor": "white",
            "ticks": ""
           },
           "baxis": {
            "gridcolor": "white",
            "linecolor": "white",
            "ticks": ""
           },
           "bgcolor": "#E5ECF6",
           "caxis": {
            "gridcolor": "white",
            "linecolor": "white",
            "ticks": ""
           }
          },
          "title": {
           "x": 0.05
          },
          "xaxis": {
           "automargin": true,
           "gridcolor": "white",
           "linecolor": "white",
           "ticks": "",
           "title": {
            "standoff": 15
           },
           "zerolinecolor": "white",
           "zerolinewidth": 2
          },
          "yaxis": {
           "automargin": true,
           "gridcolor": "white",
           "linecolor": "white",
           "ticks": "",
           "title": {
            "standoff": 15
           },
           "zerolinecolor": "white",
           "zerolinewidth": 2
          }
         }
        },
        "title": {
         "text": "SLG vs xSLG"
        },
        "width": 1350,
        "xaxis": {
         "anchor": "y",
         "domain": [
          0,
          1
         ],
         "nticks": 40,
         "title": {
          "text": "SLG"
         }
        },
        "yaxis": {
         "anchor": "x",
         "domain": [
          0,
          1
         ],
         "nticks": 20,
         "title": {
          "text": "xSLG"
         }
        }
       }
      }
     },
     "metadata": {},
     "output_type": "display_data"
    }
   ],
   "source": [
    "slg_fig = scatter_with_regression(savant_df, 'SLG', 'xSLG', 'wRC+')\n",
    "slg_fig"
   ]
  },
  {
   "cell_type": "markdown",
   "metadata": {},
   "source": [
    "### BA vs xBA"
   ]
  },
  {
   "cell_type": "code",
   "execution_count": 13,
   "metadata": {},
   "outputs": [],
   "source": [
    "ba_fig = scatter_with_regression(savant_df, 'BA', 'xBA', 'wRC+')"
   ]
  },
  {
   "cell_type": "markdown",
   "metadata": {},
   "source": [
    "#### These graphs don't show much deviation really so aren't that useful or show any surprising results\n",
    "#### The BA vs xBA is the best out of the three as it shows the most deviation from the regression line with players like Nicky Lopez showing to have over performed "
   ]
  }
 ],
 "metadata": {
  "interpreter": {
   "hash": "e6b428eeda3673c7e49e56af820d0902d8cb06ad67f7949d7ea2ec9ed66f2e23"
  },
  "kernelspec": {
   "display_name": "Python 3.9.7 64-bit ('baseball_analytics_env': conda)",
   "language": "python",
   "name": "python3"
  },
  "language_info": {
   "codemirror_mode": {
    "name": "ipython",
    "version": 3
   },
   "file_extension": ".py",
   "mimetype": "text/x-python",
   "name": "python",
   "nbconvert_exporter": "python",
   "pygments_lexer": "ipython3",
   "version": "3.9.7"
  },
  "orig_nbformat": 4
 },
 "nbformat": 4,
 "nbformat_minor": 2
}
