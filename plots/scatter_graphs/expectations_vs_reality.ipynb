{
 "cells": [
  {
   "cell_type": "markdown",
   "metadata": {},
   "source": [
    "## This notebook is looking at which batters overachieved and which underachieved in 2021\n",
    "#### We'll use the baseball savant expected stats compared to the actual stats so will use the baseball_savant.csv created in the savant_stats_table_maker.ipynb in utilities"
   ]
  },
  {
   "cell_type": "markdown",
   "metadata": {},
   "source": [
    "### Table and Graph prep"
   ]
  },
  {
   "cell_type": "code",
   "execution_count": 1,
   "metadata": {},
   "outputs": [],
   "source": [
    "import pybaseball as pb\n",
    "import pandas as pd\n",
    "import plotly.express as px\n",
    "import plotly.io as pio\n",
    "import numpy as np\n",
    "from PIL import Image"
   ]
  },
  {
   "cell_type": "code",
   "execution_count": 3,
   "metadata": {},
   "outputs": [],
   "source": [
    "# Show all columns\n",
    "pd.set_option('display.max_columns', None)"
   ]
  },
  {
   "cell_type": "code",
   "execution_count": 4,
   "metadata": {},
   "outputs": [],
   "source": [
    "# importing baseball savant csv\n",
    "savant_df = pd.read_csv('/Users/charliecoleman/Desktop/Git/Repositories/baseball_analytics/csv_files/baseball_savant.csv')"
   ]
  },
  {
   "cell_type": "code",
   "execution_count": 7,
   "metadata": {},
   "outputs": [
    {
     "data": {
      "text/html": [
       "<div>\n",
       "<style scoped>\n",
       "    .dataframe tbody tr th:only-of-type {\n",
       "        vertical-align: middle;\n",
       "    }\n",
       "\n",
       "    .dataframe tbody tr th {\n",
       "        vertical-align: top;\n",
       "    }\n",
       "\n",
       "    .dataframe thead th {\n",
       "        text-align: right;\n",
       "    }\n",
       "</style>\n",
       "<table border=\"1\" class=\"dataframe\">\n",
       "  <thead>\n",
       "    <tr style=\"text-align: right;\">\n",
       "      <th></th>\n",
       "      <th>Unnamed: 0</th>\n",
       "      <th>Name</th>\n",
       "      <th>ID</th>\n",
       "      <th>Year</th>\n",
       "      <th>Team</th>\n",
       "      <th>PA</th>\n",
       "      <th>POS</th>\n",
       "      <th>xwOBA_percentile</th>\n",
       "      <th>xBA_percentile</th>\n",
       "      <th>xSLG_percentile</th>\n",
       "      <th>xISO_percentile</th>\n",
       "      <th>xOBP_percentile</th>\n",
       "      <th>Barrel_percentile</th>\n",
       "      <th>Barrel%_percentile</th>\n",
       "      <th>ExitVelocity_percentile</th>\n",
       "      <th>HardHit%_percentile</th>\n",
       "      <th>K%_percentile</th>\n",
       "      <th>BB%_percentile</th>\n",
       "      <th>Whiff%_percentile</th>\n",
       "      <th>SprintSpeed_percentile</th>\n",
       "      <th>OAA_percentile</th>\n",
       "      <th>wOBA</th>\n",
       "      <th>xwOBA</th>\n",
       "      <th>xwOBA_minus_wOBA</th>\n",
       "      <th>BA</th>\n",
       "      <th>xBA</th>\n",
       "      <th>xBA_minus_BA</th>\n",
       "      <th>SLG</th>\n",
       "      <th>xSLG</th>\n",
       "      <th>xSLG_minus_SLG</th>\n",
       "      <th>K%</th>\n",
       "      <th>BB%</th>\n",
       "      <th>SwStr%</th>\n",
       "      <th>HardHit%</th>\n",
       "      <th>Barrel%</th>\n",
       "      <th>AvgExitVelo</th>\n",
       "      <th>MaxExitVelo</th>\n",
       "      <th>OAA</th>\n",
       "      <th>Spd</th>\n",
       "      <th>wRC+</th>\n",
       "      <th>WAR</th>\n",
       "    </tr>\n",
       "  </thead>\n",
       "  <tbody>\n",
       "    <tr>\n",
       "      <th>0</th>\n",
       "      <td>0</td>\n",
       "      <td>Trea Turner</td>\n",
       "      <td>607208</td>\n",
       "      <td>2021</td>\n",
       "      <td>- - -</td>\n",
       "      <td>646.0</td>\n",
       "      <td>SS</td>\n",
       "      <td>85.0</td>\n",
       "      <td>98.0</td>\n",
       "      <td>80.0</td>\n",
       "      <td>55.0</td>\n",
       "      <td>81.0</td>\n",
       "      <td>69.0</td>\n",
       "      <td>40.0</td>\n",
       "      <td>54.0</td>\n",
       "      <td>77.0</td>\n",
       "      <td>74.0</td>\n",
       "      <td>15.0</td>\n",
       "      <td>64.0</td>\n",
       "      <td>100.0</td>\n",
       "      <td>82.0</td>\n",
       "      <td>0.386</td>\n",
       "      <td>0.362</td>\n",
       "      <td>0.024</td>\n",
       "      <td>0.328</td>\n",
       "      <td>0.303</td>\n",
       "      <td>0.025</td>\n",
       "      <td>0.536</td>\n",
       "      <td>0.484</td>\n",
       "      <td>0.052</td>\n",
       "      <td>0.170</td>\n",
       "      <td>0.063</td>\n",
       "      <td>0.102</td>\n",
       "      <td>0.460</td>\n",
       "      <td>7.4</td>\n",
       "      <td>89.6</td>\n",
       "      <td>112.2</td>\n",
       "      <td>3.0</td>\n",
       "      <td>6.4</td>\n",
       "      <td>142</td>\n",
       "      <td>6.9</td>\n",
       "    </tr>\n",
       "    <tr>\n",
       "      <th>1</th>\n",
       "      <td>1</td>\n",
       "      <td>Vladimir Guerrero Jr.</td>\n",
       "      <td>665489</td>\n",
       "      <td>2021</td>\n",
       "      <td>TOR</td>\n",
       "      <td>698.0</td>\n",
       "      <td>1B</td>\n",
       "      <td>99.0</td>\n",
       "      <td>98.0</td>\n",
       "      <td>98.0</td>\n",
       "      <td>95.0</td>\n",
       "      <td>98.0</td>\n",
       "      <td>100.0</td>\n",
       "      <td>90.0</td>\n",
       "      <td>99.0</td>\n",
       "      <td>98.0</td>\n",
       "      <td>82.0</td>\n",
       "      <td>87.0</td>\n",
       "      <td>28.0</td>\n",
       "      <td>45.0</td>\n",
       "      <td>17.0</td>\n",
       "      <td>0.419</td>\n",
       "      <td>0.416</td>\n",
       "      <td>0.003</td>\n",
       "      <td>0.311</td>\n",
       "      <td>0.306</td>\n",
       "      <td>0.005</td>\n",
       "      <td>0.601</td>\n",
       "      <td>0.591</td>\n",
       "      <td>0.010</td>\n",
       "      <td>0.158</td>\n",
       "      <td>0.123</td>\n",
       "      <td>0.124</td>\n",
       "      <td>0.552</td>\n",
       "      <td>15.1</td>\n",
       "      <td>95.1</td>\n",
       "      <td>117.4</td>\n",
       "      <td>-3.0</td>\n",
       "      <td>3.1</td>\n",
       "      <td>166</td>\n",
       "      <td>6.7</td>\n",
       "    </tr>\n",
       "    <tr>\n",
       "      <th>2</th>\n",
       "      <td>2</td>\n",
       "      <td>Marcus Semien</td>\n",
       "      <td>543760</td>\n",
       "      <td>2021</td>\n",
       "      <td>TOR</td>\n",
       "      <td>724.0</td>\n",
       "      <td>SS</td>\n",
       "      <td>55.0</td>\n",
       "      <td>35.0</td>\n",
       "      <td>66.0</td>\n",
       "      <td>72.0</td>\n",
       "      <td>38.0</td>\n",
       "      <td>86.0</td>\n",
       "      <td>65.0</td>\n",
       "      <td>60.0</td>\n",
       "      <td>52.0</td>\n",
       "      <td>58.0</td>\n",
       "      <td>54.0</td>\n",
       "      <td>72.0</td>\n",
       "      <td>87.0</td>\n",
       "      <td>89.0</td>\n",
       "      <td>0.368</td>\n",
       "      <td>0.331</td>\n",
       "      <td>0.037</td>\n",
       "      <td>0.265</td>\n",
       "      <td>0.244</td>\n",
       "      <td>0.021</td>\n",
       "      <td>0.538</td>\n",
       "      <td>0.453</td>\n",
       "      <td>0.085</td>\n",
       "      <td>0.202</td>\n",
       "      <td>0.091</td>\n",
       "      <td>0.087</td>\n",
       "      <td>0.413</td>\n",
       "      <td>9.8</td>\n",
       "      <td>89.7</td>\n",
       "      <td>109.5</td>\n",
       "      <td>5.0</td>\n",
       "      <td>5.3</td>\n",
       "      <td>131</td>\n",
       "      <td>6.6</td>\n",
       "    </tr>\n",
       "    <tr>\n",
       "      <th>3</th>\n",
       "      <td>3</td>\n",
       "      <td>Juan Soto</td>\n",
       "      <td>665742</td>\n",
       "      <td>2021</td>\n",
       "      <td>WSN</td>\n",
       "      <td>654.0</td>\n",
       "      <td>LF</td>\n",
       "      <td>100.0</td>\n",
       "      <td>97.0</td>\n",
       "      <td>92.0</td>\n",
       "      <td>85.0</td>\n",
       "      <td>100.0</td>\n",
       "      <td>90.0</td>\n",
       "      <td>84.0</td>\n",
       "      <td>94.0</td>\n",
       "      <td>94.0</td>\n",
       "      <td>90.0</td>\n",
       "      <td>100.0</td>\n",
       "      <td>80.0</td>\n",
       "      <td>52.0</td>\n",
       "      <td>86.0</td>\n",
       "      <td>0.420</td>\n",
       "      <td>0.430</td>\n",
       "      <td>-0.010</td>\n",
       "      <td>0.313</td>\n",
       "      <td>0.304</td>\n",
       "      <td>0.009</td>\n",
       "      <td>0.534</td>\n",
       "      <td>0.544</td>\n",
       "      <td>-0.010</td>\n",
       "      <td>0.142</td>\n",
       "      <td>0.222</td>\n",
       "      <td>0.063</td>\n",
       "      <td>0.524</td>\n",
       "      <td>13.3</td>\n",
       "      <td>93.0</td>\n",
       "      <td>116.6</td>\n",
       "      <td>4.0</td>\n",
       "      <td>3.5</td>\n",
       "      <td>163</td>\n",
       "      <td>6.6</td>\n",
       "    </tr>\n",
       "    <tr>\n",
       "      <th>4</th>\n",
       "      <td>4</td>\n",
       "      <td>Bryce Harper</td>\n",
       "      <td>547180</td>\n",
       "      <td>2021</td>\n",
       "      <td>PHI</td>\n",
       "      <td>599.0</td>\n",
       "      <td>RF</td>\n",
       "      <td>99.0</td>\n",
       "      <td>97.0</td>\n",
       "      <td>99.0</td>\n",
       "      <td>97.0</td>\n",
       "      <td>99.0</td>\n",
       "      <td>97.0</td>\n",
       "      <td>97.0</td>\n",
       "      <td>90.0</td>\n",
       "      <td>91.0</td>\n",
       "      <td>43.0</td>\n",
       "      <td>99.0</td>\n",
       "      <td>11.0</td>\n",
       "      <td>69.0</td>\n",
       "      <td>9.0</td>\n",
       "      <td>0.431</td>\n",
       "      <td>0.430</td>\n",
       "      <td>0.001</td>\n",
       "      <td>0.309</td>\n",
       "      <td>0.301</td>\n",
       "      <td>0.008</td>\n",
       "      <td>0.615</td>\n",
       "      <td>0.610</td>\n",
       "      <td>0.005</td>\n",
       "      <td>0.224</td>\n",
       "      <td>0.167</td>\n",
       "      <td>0.144</td>\n",
       "      <td>0.492</td>\n",
       "      <td>18.1</td>\n",
       "      <td>92.5</td>\n",
       "      <td>116.3</td>\n",
       "      <td>-5.0</td>\n",
       "      <td>4.3</td>\n",
       "      <td>170</td>\n",
       "      <td>6.6</td>\n",
       "    </tr>\n",
       "    <tr>\n",
       "      <th>...</th>\n",
       "      <td>...</td>\n",
       "      <td>...</td>\n",
       "      <td>...</td>\n",
       "      <td>...</td>\n",
       "      <td>...</td>\n",
       "      <td>...</td>\n",
       "      <td>...</td>\n",
       "      <td>...</td>\n",
       "      <td>...</td>\n",
       "      <td>...</td>\n",
       "      <td>...</td>\n",
       "      <td>...</td>\n",
       "      <td>...</td>\n",
       "      <td>...</td>\n",
       "      <td>...</td>\n",
       "      <td>...</td>\n",
       "      <td>...</td>\n",
       "      <td>...</td>\n",
       "      <td>...</td>\n",
       "      <td>...</td>\n",
       "      <td>...</td>\n",
       "      <td>...</td>\n",
       "      <td>...</td>\n",
       "      <td>...</td>\n",
       "      <td>...</td>\n",
       "      <td>...</td>\n",
       "      <td>...</td>\n",
       "      <td>...</td>\n",
       "      <td>...</td>\n",
       "      <td>...</td>\n",
       "      <td>...</td>\n",
       "      <td>...</td>\n",
       "      <td>...</td>\n",
       "      <td>...</td>\n",
       "      <td>...</td>\n",
       "      <td>...</td>\n",
       "      <td>...</td>\n",
       "      <td>...</td>\n",
       "      <td>...</td>\n",
       "      <td>...</td>\n",
       "      <td>...</td>\n",
       "    </tr>\n",
       "    <tr>\n",
       "      <th>227</th>\n",
       "      <td>227</td>\n",
       "      <td>Jurickson Profar</td>\n",
       "      <td>595777</td>\n",
       "      <td>2021</td>\n",
       "      <td>SDP</td>\n",
       "      <td>412.0</td>\n",
       "      <td>2B</td>\n",
       "      <td>22.0</td>\n",
       "      <td>25.0</td>\n",
       "      <td>5.0</td>\n",
       "      <td>4.0</td>\n",
       "      <td>65.0</td>\n",
       "      <td>4.0</td>\n",
       "      <td>7.0</td>\n",
       "      <td>4.0</td>\n",
       "      <td>9.0</td>\n",
       "      <td>82.0</td>\n",
       "      <td>86.0</td>\n",
       "      <td>87.0</td>\n",
       "      <td>35.0</td>\n",
       "      <td>4.0</td>\n",
       "      <td>0.292</td>\n",
       "      <td>0.302</td>\n",
       "      <td>-0.010</td>\n",
       "      <td>0.227</td>\n",
       "      <td>0.238</td>\n",
       "      <td>-0.011</td>\n",
       "      <td>0.320</td>\n",
       "      <td>0.323</td>\n",
       "      <td>-0.003</td>\n",
       "      <td>0.158</td>\n",
       "      <td>0.119</td>\n",
       "      <td>0.074</td>\n",
       "      <td>0.295</td>\n",
       "      <td>2.7</td>\n",
       "      <td>85.3</td>\n",
       "      <td>107.6</td>\n",
       "      <td>-7.0</td>\n",
       "      <td>4.9</td>\n",
       "      <td>85</td>\n",
       "      <td>-0.7</td>\n",
       "    </tr>\n",
       "    <tr>\n",
       "      <th>228</th>\n",
       "      <td>228</td>\n",
       "      <td>Jarred Kelenic</td>\n",
       "      <td>672284</td>\n",
       "      <td>2021</td>\n",
       "      <td>SEA</td>\n",
       "      <td>377.0</td>\n",
       "      <td>CF</td>\n",
       "      <td>31.0</td>\n",
       "      <td>8.0</td>\n",
       "      <td>41.0</td>\n",
       "      <td>62.0</td>\n",
       "      <td>18.0</td>\n",
       "      <td>36.0</td>\n",
       "      <td>65.0</td>\n",
       "      <td>19.0</td>\n",
       "      <td>38.0</td>\n",
       "      <td>11.0</td>\n",
       "      <td>61.0</td>\n",
       "      <td>35.0</td>\n",
       "      <td>54.0</td>\n",
       "      <td>22.0</td>\n",
       "      <td>0.270</td>\n",
       "      <td>0.310</td>\n",
       "      <td>-0.040</td>\n",
       "      <td>0.181</td>\n",
       "      <td>0.218</td>\n",
       "      <td>-0.037</td>\n",
       "      <td>0.350</td>\n",
       "      <td>0.408</td>\n",
       "      <td>-0.058</td>\n",
       "      <td>0.281</td>\n",
       "      <td>0.095</td>\n",
       "      <td>0.118</td>\n",
       "      <td>0.392</td>\n",
       "      <td>9.9</td>\n",
       "      <td>87.5</td>\n",
       "      <td>110.9</td>\n",
       "      <td>-2.0</td>\n",
       "      <td>4.3</td>\n",
       "      <td>73</td>\n",
       "      <td>-0.7</td>\n",
       "    </tr>\n",
       "    <tr>\n",
       "      <th>229</th>\n",
       "      <td>229</td>\n",
       "      <td>Jackie Bradley Jr.</td>\n",
       "      <td>598265</td>\n",
       "      <td>2021</td>\n",
       "      <td>MIL</td>\n",
       "      <td>428.0</td>\n",
       "      <td>CF</td>\n",
       "      <td>0.0</td>\n",
       "      <td>1.0</td>\n",
       "      <td>1.0</td>\n",
       "      <td>6.0</td>\n",
       "      <td>1.0</td>\n",
       "      <td>13.0</td>\n",
       "      <td>20.0</td>\n",
       "      <td>60.0</td>\n",
       "      <td>49.0</td>\n",
       "      <td>6.0</td>\n",
       "      <td>18.0</td>\n",
       "      <td>5.0</td>\n",
       "      <td>55.0</td>\n",
       "      <td>86.0</td>\n",
       "      <td>0.224</td>\n",
       "      <td>0.257</td>\n",
       "      <td>-0.033</td>\n",
       "      <td>0.163</td>\n",
       "      <td>0.198</td>\n",
       "      <td>-0.035</td>\n",
       "      <td>0.261</td>\n",
       "      <td>0.294</td>\n",
       "      <td>-0.033</td>\n",
       "      <td>0.308</td>\n",
       "      <td>0.065</td>\n",
       "      <td>0.155</td>\n",
       "      <td>0.403</td>\n",
       "      <td>5.0</td>\n",
       "      <td>89.7</td>\n",
       "      <td>108.4</td>\n",
       "      <td>4.0</td>\n",
       "      <td>6.0</td>\n",
       "      <td>35</td>\n",
       "      <td>-0.8</td>\n",
       "    </tr>\n",
       "    <tr>\n",
       "      <th>230</th>\n",
       "      <td>230</td>\n",
       "      <td>Cody Bellinger</td>\n",
       "      <td>641355</td>\n",
       "      <td>2021</td>\n",
       "      <td>LAD</td>\n",
       "      <td>350.0</td>\n",
       "      <td>CF</td>\n",
       "      <td>5.0</td>\n",
       "      <td>3.0</td>\n",
       "      <td>14.0</td>\n",
       "      <td>35.0</td>\n",
       "      <td>4.0</td>\n",
       "      <td>18.0</td>\n",
       "      <td>38.0</td>\n",
       "      <td>50.0</td>\n",
       "      <td>20.0</td>\n",
       "      <td>17.0</td>\n",
       "      <td>50.0</td>\n",
       "      <td>17.0</td>\n",
       "      <td>74.0</td>\n",
       "      <td>74.0</td>\n",
       "      <td>0.237</td>\n",
       "      <td>0.281</td>\n",
       "      <td>-0.044</td>\n",
       "      <td>0.165</td>\n",
       "      <td>0.208</td>\n",
       "      <td>-0.043</td>\n",
       "      <td>0.302</td>\n",
       "      <td>0.357</td>\n",
       "      <td>-0.055</td>\n",
       "      <td>0.269</td>\n",
       "      <td>0.089</td>\n",
       "      <td>0.142</td>\n",
       "      <td>0.344</td>\n",
       "      <td>7.1</td>\n",
       "      <td>89.3</td>\n",
       "      <td>107.4</td>\n",
       "      <td>2.0</td>\n",
       "      <td>5.0</td>\n",
       "      <td>48</td>\n",
       "      <td>-0.8</td>\n",
       "    </tr>\n",
       "    <tr>\n",
       "      <th>231</th>\n",
       "      <td>231</td>\n",
       "      <td>Gregory Polanco</td>\n",
       "      <td>570256</td>\n",
       "      <td>2021</td>\n",
       "      <td>PIT</td>\n",
       "      <td>382.0</td>\n",
       "      <td>RF</td>\n",
       "      <td>34.0</td>\n",
       "      <td>19.0</td>\n",
       "      <td>42.0</td>\n",
       "      <td>53.0</td>\n",
       "      <td>29.0</td>\n",
       "      <td>36.0</td>\n",
       "      <td>62.0</td>\n",
       "      <td>64.0</td>\n",
       "      <td>84.0</td>\n",
       "      <td>15.0</td>\n",
       "      <td>59.0</td>\n",
       "      <td>15.0</td>\n",
       "      <td>56.0</td>\n",
       "      <td>22.0</td>\n",
       "      <td>0.275</td>\n",
       "      <td>0.315</td>\n",
       "      <td>-0.040</td>\n",
       "      <td>0.208</td>\n",
       "      <td>0.231</td>\n",
       "      <td>-0.023</td>\n",
       "      <td>0.354</td>\n",
       "      <td>0.409</td>\n",
       "      <td>-0.055</td>\n",
       "      <td>0.272</td>\n",
       "      <td>0.094</td>\n",
       "      <td>0.132</td>\n",
       "      <td>0.479</td>\n",
       "      <td>9.6</td>\n",
       "      <td>89.9</td>\n",
       "      <td>116.2</td>\n",
       "      <td>-2.0</td>\n",
       "      <td>6.0</td>\n",
       "      <td>71</td>\n",
       "      <td>-1.2</td>\n",
       "    </tr>\n",
       "  </tbody>\n",
       "</table>\n",
       "<p>232 rows × 41 columns</p>\n",
       "</div>"
      ],
      "text/plain": [
       "     Unnamed: 0                   Name      ID  Year   Team     PA POS  \\\n",
       "0             0            Trea Turner  607208  2021  - - -  646.0  SS   \n",
       "1             1  Vladimir Guerrero Jr.  665489  2021    TOR  698.0  1B   \n",
       "2             2          Marcus Semien  543760  2021    TOR  724.0  SS   \n",
       "3             3              Juan Soto  665742  2021    WSN  654.0  LF   \n",
       "4             4           Bryce Harper  547180  2021    PHI  599.0  RF   \n",
       "..          ...                    ...     ...   ...    ...    ...  ..   \n",
       "227         227       Jurickson Profar  595777  2021    SDP  412.0  2B   \n",
       "228         228         Jarred Kelenic  672284  2021    SEA  377.0  CF   \n",
       "229         229     Jackie Bradley Jr.  598265  2021    MIL  428.0  CF   \n",
       "230         230         Cody Bellinger  641355  2021    LAD  350.0  CF   \n",
       "231         231        Gregory Polanco  570256  2021    PIT  382.0  RF   \n",
       "\n",
       "     xwOBA_percentile  xBA_percentile  xSLG_percentile  xISO_percentile  \\\n",
       "0                85.0            98.0             80.0             55.0   \n",
       "1                99.0            98.0             98.0             95.0   \n",
       "2                55.0            35.0             66.0             72.0   \n",
       "3               100.0            97.0             92.0             85.0   \n",
       "4                99.0            97.0             99.0             97.0   \n",
       "..                ...             ...              ...              ...   \n",
       "227              22.0            25.0              5.0              4.0   \n",
       "228              31.0             8.0             41.0             62.0   \n",
       "229               0.0             1.0              1.0              6.0   \n",
       "230               5.0             3.0             14.0             35.0   \n",
       "231              34.0            19.0             42.0             53.0   \n",
       "\n",
       "     xOBP_percentile  Barrel_percentile  Barrel%_percentile  \\\n",
       "0               81.0               69.0                40.0   \n",
       "1               98.0              100.0                90.0   \n",
       "2               38.0               86.0                65.0   \n",
       "3              100.0               90.0                84.0   \n",
       "4               99.0               97.0                97.0   \n",
       "..               ...                ...                 ...   \n",
       "227             65.0                4.0                 7.0   \n",
       "228             18.0               36.0                65.0   \n",
       "229              1.0               13.0                20.0   \n",
       "230              4.0               18.0                38.0   \n",
       "231             29.0               36.0                62.0   \n",
       "\n",
       "     ExitVelocity_percentile  HardHit%_percentile  K%_percentile  \\\n",
       "0                       54.0                 77.0           74.0   \n",
       "1                       99.0                 98.0           82.0   \n",
       "2                       60.0                 52.0           58.0   \n",
       "3                       94.0                 94.0           90.0   \n",
       "4                       90.0                 91.0           43.0   \n",
       "..                       ...                  ...            ...   \n",
       "227                      4.0                  9.0           82.0   \n",
       "228                     19.0                 38.0           11.0   \n",
       "229                     60.0                 49.0            6.0   \n",
       "230                     50.0                 20.0           17.0   \n",
       "231                     64.0                 84.0           15.0   \n",
       "\n",
       "     BB%_percentile  Whiff%_percentile  SprintSpeed_percentile  \\\n",
       "0              15.0               64.0                   100.0   \n",
       "1              87.0               28.0                    45.0   \n",
       "2              54.0               72.0                    87.0   \n",
       "3             100.0               80.0                    52.0   \n",
       "4              99.0               11.0                    69.0   \n",
       "..              ...                ...                     ...   \n",
       "227            86.0               87.0                    35.0   \n",
       "228            61.0               35.0                    54.0   \n",
       "229            18.0                5.0                    55.0   \n",
       "230            50.0               17.0                    74.0   \n",
       "231            59.0               15.0                    56.0   \n",
       "\n",
       "     OAA_percentile   wOBA  xwOBA  xwOBA_minus_wOBA     BA    xBA  \\\n",
       "0              82.0  0.386  0.362             0.024  0.328  0.303   \n",
       "1              17.0  0.419  0.416             0.003  0.311  0.306   \n",
       "2              89.0  0.368  0.331             0.037  0.265  0.244   \n",
       "3              86.0  0.420  0.430            -0.010  0.313  0.304   \n",
       "4               9.0  0.431  0.430             0.001  0.309  0.301   \n",
       "..              ...    ...    ...               ...    ...    ...   \n",
       "227             4.0  0.292  0.302            -0.010  0.227  0.238   \n",
       "228            22.0  0.270  0.310            -0.040  0.181  0.218   \n",
       "229            86.0  0.224  0.257            -0.033  0.163  0.198   \n",
       "230            74.0  0.237  0.281            -0.044  0.165  0.208   \n",
       "231            22.0  0.275  0.315            -0.040  0.208  0.231   \n",
       "\n",
       "     xBA_minus_BA    SLG   xSLG  xSLG_minus_SLG     K%    BB%  SwStr%  \\\n",
       "0           0.025  0.536  0.484           0.052  0.170  0.063   0.102   \n",
       "1           0.005  0.601  0.591           0.010  0.158  0.123   0.124   \n",
       "2           0.021  0.538  0.453           0.085  0.202  0.091   0.087   \n",
       "3           0.009  0.534  0.544          -0.010  0.142  0.222   0.063   \n",
       "4           0.008  0.615  0.610           0.005  0.224  0.167   0.144   \n",
       "..            ...    ...    ...             ...    ...    ...     ...   \n",
       "227        -0.011  0.320  0.323          -0.003  0.158  0.119   0.074   \n",
       "228        -0.037  0.350  0.408          -0.058  0.281  0.095   0.118   \n",
       "229        -0.035  0.261  0.294          -0.033  0.308  0.065   0.155   \n",
       "230        -0.043  0.302  0.357          -0.055  0.269  0.089   0.142   \n",
       "231        -0.023  0.354  0.409          -0.055  0.272  0.094   0.132   \n",
       "\n",
       "     HardHit%  Barrel%  AvgExitVelo  MaxExitVelo  OAA  Spd  wRC+  WAR  \n",
       "0       0.460      7.4         89.6        112.2  3.0  6.4   142  6.9  \n",
       "1       0.552     15.1         95.1        117.4 -3.0  3.1   166  6.7  \n",
       "2       0.413      9.8         89.7        109.5  5.0  5.3   131  6.6  \n",
       "3       0.524     13.3         93.0        116.6  4.0  3.5   163  6.6  \n",
       "4       0.492     18.1         92.5        116.3 -5.0  4.3   170  6.6  \n",
       "..        ...      ...          ...          ...  ...  ...   ...  ...  \n",
       "227     0.295      2.7         85.3        107.6 -7.0  4.9    85 -0.7  \n",
       "228     0.392      9.9         87.5        110.9 -2.0  4.3    73 -0.7  \n",
       "229     0.403      5.0         89.7        108.4  4.0  6.0    35 -0.8  \n",
       "230     0.344      7.1         89.3        107.4  2.0  5.0    48 -0.8  \n",
       "231     0.479      9.6         89.9        116.2 -2.0  6.0    71 -1.2  \n",
       "\n",
       "[232 rows x 41 columns]"
      ]
     },
     "execution_count": 7,
     "metadata": {},
     "output_type": "execute_result"
    }
   ],
   "source": [
    "savant_df"
   ]
  },
  {
   "cell_type": "code",
   "execution_count": 39,
   "metadata": {},
   "outputs": [],
   "source": [
    "\n",
    "def make_scatter(dataframe, x_val:str, y_val:str, colour_val:str, hover_name= \"Name\", hover_data_1=\"Team\", hover_data_2=\"PA\"):\n",
    "\n",
    "    fig = px.scatter(\n",
    "        dataframe, x=f\"{x_val}\", y=f\"{y_val}\",\n",
    "        color=colour_val,\n",
    "        hover_name=hover_name,\n",
    "        hover_data=[hover_data_1, hover_data_2],\n",
    "        # trendline='ols',\n",
    "        # trendline_color_override='purple',\n",
    "        color_continuous_scale=px.colors.diverging.Tropic,\n",
    "        width=1350, height=700,\n",
    "        title=f'{x_val} vs {y_val}'\n",
    "\n",
    "    )\n",
    "\n",
    "    # add regression and standard deviation lines\n",
    "    #obtain m (slope) and b(intercept) of linear regression line\n",
    "    x=dataframe[f\"{x_val}\"]\n",
    "    y=dataframe[f\"{y_val}\"]\n",
    "    m, b = np.polyfit(x, y, 1)\n",
    "\n",
    "    #add linear regression lines to scatterplot and\n",
    "    x_linspace = np.linspace(100, x.max(), 100)\n",
    "    y_sigma = y.std()\n",
    "    fig.add_traces(x=x_linspace, y=m*x_linspace+b, mode='lines')\n",
    "    # fig.line(x_linspace, m*x_linspace+b, label=\"linear regression\")\n",
    "    # fig.line(x_linspace, m*x_linspace+(b + y_sigma), c=\"k\", ls=\"--\", alpha=0.3, label=\"1 std dev\") # one standard deviation up\n",
    "    # # fig.plot(x_linspace, m*x_linspace+(b + ( 2 * y_sigma)), c=\"k\", ls=\"--\", alpha=0.3) # two standard deviation up\n",
    "    # fig.line(x_linspace, m*x_linspace+(b + ( 3 * y_sigma)), c=\"k\", ls=\":\", alpha=0.4, label=\"3 std dev\") # three standard deviation up\n",
    "    # fig.line(x_linspace, m*x_linspace+(b - y.std()), c=\"k\", ls=\"--\", alpha=0.3) # one standard deviation up\n",
    "    \n",
    "\n",
    "\n",
    "    fig.update_traces(marker_line_width=2, marker_size=10)\n",
    "    fig.update_yaxes(nticks=20)\n",
    "    fig.update_xaxes(nticks=40)\n",
    "\n",
    "    # Means\n",
    "    fig.add_hline(y=np.median(dataframe[y_val]), line_dash=\"dot\", row=\"all\", col=\"all\",\n",
    "                annotation_text=f\"Mean {y_val}\", \n",
    "                annotation_position=\"bottom right\")\n",
    "\n",
    "    fig.add_vline(x=np.median(dataframe[x_val]), line_dash=\"dot\", row=\"all\", col=\"all\",\n",
    "                annotation_text=f\"Mean {x_val}\", \n",
    "                annotation_position=\"bottom right\")\n",
    "    return fig\n"
   ]
  },
  {
   "cell_type": "markdown",
   "metadata": {},
   "source": [
    "### First Graph: wOBA vs xwOBA"
   ]
  },
  {
   "cell_type": "code",
   "execution_count": 40,
   "metadata": {},
   "outputs": [
    {
     "ename": "TypeError",
     "evalue": "add_traces() got an unexpected keyword argument 'x'",
     "output_type": "error",
     "traceback": [
      "\u001b[0;31m---------------------------------------------------------------------------\u001b[0m",
      "\u001b[0;31mTypeError\u001b[0m                                 Traceback (most recent call last)",
      "\u001b[0;32m/var/folders/6y/ylm_09j57zscgtclh5kxdx1h0000gn/T/ipykernel_76427/2598962872.py\u001b[0m in \u001b[0;36m<module>\u001b[0;34m\u001b[0m\n\u001b[0;32m----> 1\u001b[0;31m \u001b[0mmake_scatter\u001b[0m\u001b[0;34m(\u001b[0m\u001b[0msavant_df\u001b[0m\u001b[0;34m,\u001b[0m \u001b[0;34m'wOBA'\u001b[0m\u001b[0;34m,\u001b[0m \u001b[0;34m'xwOBA'\u001b[0m\u001b[0;34m,\u001b[0m \u001b[0;34m'wRC+'\u001b[0m\u001b[0;34m)\u001b[0m\u001b[0;34m\u001b[0m\u001b[0;34m\u001b[0m\u001b[0m\n\u001b[0m",
      "\u001b[0;32m/var/folders/6y/ylm_09j57zscgtclh5kxdx1h0000gn/T/ipykernel_76427/1622597779.py\u001b[0m in \u001b[0;36mmake_scatter\u001b[0;34m(dataframe, x_val, y_val, colour_val, hover_name, hover_data_1, hover_data_2)\u001b[0m\n\u001b[1;32m     23\u001b[0m     \u001b[0mx_linspace\u001b[0m \u001b[0;34m=\u001b[0m \u001b[0mnp\u001b[0m\u001b[0;34m.\u001b[0m\u001b[0mlinspace\u001b[0m\u001b[0;34m(\u001b[0m\u001b[0;36m100\u001b[0m\u001b[0;34m,\u001b[0m \u001b[0mx\u001b[0m\u001b[0;34m.\u001b[0m\u001b[0mmax\u001b[0m\u001b[0;34m(\u001b[0m\u001b[0;34m)\u001b[0m\u001b[0;34m,\u001b[0m \u001b[0;36m100\u001b[0m\u001b[0;34m)\u001b[0m\u001b[0;34m\u001b[0m\u001b[0;34m\u001b[0m\u001b[0m\n\u001b[1;32m     24\u001b[0m     \u001b[0my_sigma\u001b[0m \u001b[0;34m=\u001b[0m \u001b[0my\u001b[0m\u001b[0;34m.\u001b[0m\u001b[0mstd\u001b[0m\u001b[0;34m(\u001b[0m\u001b[0;34m)\u001b[0m\u001b[0;34m\u001b[0m\u001b[0;34m\u001b[0m\u001b[0m\n\u001b[0;32m---> 25\u001b[0;31m     \u001b[0mfig\u001b[0m\u001b[0;34m.\u001b[0m\u001b[0madd_traces\u001b[0m\u001b[0;34m(\u001b[0m\u001b[0mx\u001b[0m\u001b[0;34m=\u001b[0m\u001b[0mx_linspace\u001b[0m\u001b[0;34m,\u001b[0m \u001b[0my\u001b[0m\u001b[0;34m=\u001b[0m\u001b[0mm\u001b[0m\u001b[0;34m*\u001b[0m\u001b[0mx_linspace\u001b[0m\u001b[0;34m+\u001b[0m\u001b[0mb\u001b[0m\u001b[0;34m,\u001b[0m \u001b[0mmode\u001b[0m\u001b[0;34m=\u001b[0m\u001b[0;34m'lines'\u001b[0m\u001b[0;34m)\u001b[0m\u001b[0;34m\u001b[0m\u001b[0;34m\u001b[0m\u001b[0m\n\u001b[0m\u001b[1;32m     26\u001b[0m     \u001b[0;31m# fig.line(x_linspace, m*x_linspace+b, label=\"linear regression\")\u001b[0m\u001b[0;34m\u001b[0m\u001b[0;34m\u001b[0m\u001b[0m\n\u001b[1;32m     27\u001b[0m     \u001b[0;31m# fig.line(x_linspace, m*x_linspace+(b + y_sigma), c=\"k\", ls=\"--\", alpha=0.3, label=\"1 std dev\") # one standard deviation up\u001b[0m\u001b[0;34m\u001b[0m\u001b[0;34m\u001b[0m\u001b[0m\n",
      "\u001b[0;31mTypeError\u001b[0m: add_traces() got an unexpected keyword argument 'x'"
     ]
    }
   ],
   "source": [
    "make_scatter(savant_df, 'wOBA', 'xwOBA', 'wRC+')"
   ]
  },
  {
   "cell_type": "code",
   "execution_count": 78,
   "metadata": {},
   "outputs": [
    {
     "data": {
      "application/vnd.plotly.v1+json": {
       "config": {
        "plotlyServerURL": "https://plot.ly"
       },
       "data": [
        {
         "customdata": [
          [
           "- - -",
           646
          ],
          [
           "TOR",
           698
          ],
          [
           "TOR",
           724
          ],
          [
           "WSN",
           654
          ],
          [
           "PHI",
           599
          ],
          [
           "CLE",
           636
          ],
          [
           "SDP",
           546
          ],
          [
           "HOU",
           640
          ],
          [
           "NYY",
           633
          ],
          [
           "- - -",
           526
          ],
          [
           "PIT",
           646
          ],
          [
           "SFG",
           549
          ],
          [
           "STL",
           537
          ],
          [
           "BAL",
           675
          ],
          [
           "HOU",
           678
          ],
          [
           "TBR",
           615
          ],
          [
           "BOS",
           603
          ],
          [
           "LAA",
           639
          ],
          [
           "OAK",
           673
          ],
          [
           "STL",
           679
          ],
          [
           "LAD",
           592
          ],
          [
           "TOR",
           690
          ],
          [
           "SFG",
           454
          ],
          [
           "HOU",
           567
          ],
          [
           "BOS",
           664
          ],
          [
           "LAD",
           501
          ],
          [
           "ATL",
           695
          ],
          [
           "CHW",
           616
          ],
          [
           "TBR",
           375
          ],
          [
           "KCR",
           565
          ],
          [
           "SDP",
           640
          ],
          [
           "PHI",
           537
          ],
          [
           "SDP",
           643
          ],
          [
           "CHW",
           551
          ],
          [
           "CIN",
           585
          ],
          [
           "ATL",
           686
          ],
          [
           "ATL",
           662
          ],
          [
           "ATL",
           360
          ],
          [
           "- - -",
           555
          ],
          [
           "STL",
           653
          ],
          [
           "LAD",
           612
          ],
          [
           "CIN",
           631
          ],
          [
           "BOS",
           585
          ],
          [
           "LAD",
           550
          ],
          [
           "TOR",
           595
          ],
          [
           "MIN",
           644
          ],
          [
           "HOU",
           598
          ],
          [
           "LAD",
           409
          ],
          [
           "- - -",
           638
          ],
          [
           "CHW",
           375
          ],
          [
           "- - -",
           547
          ],
          [
           "CIN",
           533
          ],
          [
           "- - -",
           586
          ],
          [
           "SEA",
           650
          ],
          [
           "NYM",
           386
          ],
          [
           "COL",
           595
          ],
          [
           "- - -",
           616
          ],
          [
           "HOU",
           605
          ],
          [
           "OAK",
           622
          ],
          [
           "- - -",
           639
          ],
          [
           "STL",
           401
          ],
          [
           "KCR",
           665
          ],
          [
           "OAK",
           448
          ],
          [
           "TBR",
           604
          ],
          [
           "SFG",
           381
          ],
          [
           "CIN",
           485
          ],
          [
           "ATL",
           653
          ],
          [
           "DET",
           626
          ],
          [
           "KCR",
           720
          ],
          [
           "- - -",
           471
          ],
          [
           "SEA",
           687
          ],
          [
           "LAD",
           582
          ],
          [
           "LAD",
           422
          ],
          [
           "NYM",
           637
          ],
          [
           "- - -",
           599
          ],
          [
           "ARI",
           374
          ],
          [
           "MIL",
           492
          ],
          [
           "BOS",
           634
          ],
          [
           "MIL",
           515
          ],
          [
           "TEX",
           622
          ],
          [
           "CHW",
           659
          ],
          [
           "MIL",
           445
          ],
          [
           "LAA",
           585
          ],
          [
           "MIA",
           539
          ],
          [
           "STL",
           619
          ],
          [
           "SEA",
           691
          ],
          [
           "OAK",
           397
          ],
          [
           "CLE",
           588
          ],
          [
           "DET",
           671
          ],
          [
           "NYM",
           524
          ],
          [
           "MIL",
           570
          ],
          [
           "NYY",
           579
          ],
          [
           "OAK",
           625
          ],
          [
           "PIT",
           427
          ],
          [
           "TBR",
           501
          ],
          [
           "COL",
           596
          ],
          [
           "SEA",
           670
          ],
          [
           "TBR",
           390
          ],
          [
           "PHI",
           567
          ],
          [
           "NYY",
           679
          ],
          [
           "BAL",
           529
          ],
          [
           "- - -",
           555
          ],
          [
           "TOR",
           342
          ],
          [
           "PHI",
           443
          ],
          [
           "TEX",
           677
          ],
          [
           "STL",
           691
          ],
          [
           "CHC",
           375
          ],
          [
           "COL",
           547
          ],
          [
           "- - -",
           637
          ],
          [
           "SFG",
           532
          ],
          [
           "MIN",
           543
          ],
          [
           "HOU",
           508
          ],
          [
           "NYM",
           505
          ],
          [
           "OAK",
           378
          ],
          [
           "CHC",
           483
          ],
          [
           "KCR",
           538
          ],
          [
           "SDP",
           527
          ],
          [
           "HOU",
           400
          ],
          [
           "BOS",
           604
          ],
          [
           "CIN",
           402
          ],
          [
           "TBR",
           591
          ],
          [
           "CHW",
           474
          ],
          [
           "- - -",
           584
          ],
          [
           "ARI",
           550
          ],
          [
           "KCR",
           528
          ],
          [
           "DET",
           461
          ],
          [
           "MIN",
           490
          ],
          [
           "BOS",
           572
          ],
          [
           "MIN",
           479
          ],
          [
           "TBR",
           541
          ],
          [
           "NYY",
           516
          ],
          [
           "WSN",
           349
          ],
          [
           "ARI",
           359
          ],
          [
           "SFG",
           381
          ],
          [
           "- - -",
           394
          ],
          [
           "COL",
           371
          ],
          [
           "COL",
           415
          ],
          [
           "STL",
           402
          ],
          [
           "- - -",
           576
          ],
          [
           "TEX",
           642
          ],
          [
           "CIN",
           529
          ],
          [
           "MIA",
           507
          ],
          [
           "- - -",
           375
          ],
          [
           "DET",
           674
          ],
          [
           "MIL",
           475
          ],
          [
           "COL",
           582
          ],
          [
           "- - -",
           558
          ],
          [
           "PIT",
           396
          ],
          [
           "NYY",
           440
          ],
          [
           "SDP",
           561
          ],
          [
           "TOR",
           541
          ],
          [
           "CIN",
           454
          ],
          [
           "NYY",
           461
          ],
          [
           "TBR",
           464
          ],
          [
           "BAL",
           586
          ],
          [
           "SDP",
           500
          ],
          [
           "WSN",
           568
          ],
          [
           "CHC",
           535
          ],
          [
           "CLE",
           466
          ],
          [
           "MIA",
           510
          ],
          [
           "PHI",
           574
          ],
          [
           "SFG",
           436
          ],
          [
           "CIN",
           388
          ],
          [
           "- - -",
           375
          ],
          [
           "- - -",
           400
          ],
          [
           "TEX",
           511
          ],
          [
           "CLE",
           348
          ],
          [
           "ARI",
           538
          ],
          [
           "PHI",
           492
          ],
          [
           "SFG",
           344
          ],
          [
           "OAK",
           541
          ],
          [
           "- - -",
           511
          ],
          [
           "DET",
           381
          ],
          [
           "STL",
           473
          ],
          [
           "PHI",
           377
          ],
          [
           "NYY",
           442
          ],
          [
           "LAD",
           381
          ],
          [
           "- - -",
           412
          ],
          [
           "OAK",
           512
          ],
          [
           "NYM",
           479
          ],
          [
           "- - -",
           365
          ],
          [
           "NYM",
           347
          ],
          [
           "BOS",
           453
          ],
          [
           "CIN",
           574
          ],
          [
           "NYY",
           361
          ],
          [
           "BAL",
           438
          ],
          [
           "BAL",
           616
          ],
          [
           "- - -",
           481
          ],
          [
           "PHI",
           344
          ],
          [
           "BOS",
           498
          ],
          [
           "NYM",
           426
          ],
          [
           "ATL",
           347
          ],
          [
           "COL",
           494
          ],
          [
           "NYM",
           412
          ],
          [
           "TOR",
           545
          ],
          [
           "MIN",
           532
          ],
          [
           "WSN",
           346
          ],
          [
           "COL",
           533
          ],
          [
           "CHW",
           469
          ],
          [
           "SEA",
           378
          ],
          [
           "ARI",
           445
          ],
          [
           "LAA",
           665
          ],
          [
           "PIT",
           554
          ],
          [
           "LAA",
           362
          ],
          [
           "ARI",
           545
          ],
          [
           "CHC",
           353
          ],
          [
           "HOU",
           426
          ],
          [
           "SEA",
           377
          ],
          [
           "LAA",
           373
          ],
          [
           "ARI",
           473
          ],
          [
           "SDP",
           565
          ],
          [
           "- - -",
           352
          ],
          [
           "PHI",
           408
          ],
          [
           "CLE",
           361
          ],
          [
           "BAL",
           419
          ],
          [
           "KCR",
           543
          ],
          [
           "- - -",
           602
          ],
          [
           "PIT",
           359
          ],
          [
           "PHI",
           417
          ],
          [
           "KCR",
           659
          ],
          [
           "BAL",
           403
          ],
          [
           "DET",
           450
          ],
          [
           "MIN",
           451
          ],
          [
           "WSN",
           369
          ],
          [
           "NYM",
           493
          ],
          [
           "DET",
           526
          ],
          [
           "SDP",
           356
          ],
          [
           "SDP",
           412
          ],
          [
           "SEA",
           377
          ],
          [
           "MIL",
           428
          ],
          [
           "LAD",
           350
          ],
          [
           "PIT",
           382
          ]
         ],
         "hovertemplate": "<b>%{hovertext}</b><br><br>wOBA=%{x}<br>xwOBA=%{y}<br>Team=%{customdata[0]}<br>PA=%{customdata[1]}<br>wRC+=%{marker.color}<extra></extra>",
         "hovertext": [
          "Trea Turner",
          "Vladimir Guerrero Jr.",
          "Marcus Semien",
          "Juan Soto",
          "Bryce Harper",
          "Jose Ramirez",
          "Fernando Tatis Jr.",
          "Carlos Correa",
          "Aaron Judge",
          "Starling Marte",
          "Bryan Reynolds",
          "Brandon Crawford",
          "Tyler O'Neill",
          "Cedric Mullins",
          "Jose Altuve",
          "Brandon Lowe",
          "Xander Bogaerts",
          "Shohei Ohtani",
          "Matt Olson",
          "Paul Goldschmidt",
          "Max Muncy",
          "Bo Bichette",
          "Buster Posey",
          "Kyle Tucker",
          "Rafael Devers",
          "Will Smith",
          "Freddie Freeman",
          "Yoan Moncada",
          "Mike Zunino",
          "Nicky Lopez",
          "Manny Machado",
          "J.T. Realmuto",
          "Jake Cronenworth",
          "Tim Anderson",
          "Nick Castellanos",
          "Ozzie Albies",
          "Austin Riley",
          "Ronald Acuna Jr.",
          "Willy Adames",
          "Nolan Arenado",
          "Justin Turner",
          "Jonathan India",
          "Enrique Hernandez",
          "Mookie Betts",
          "Teoscar Hernandez",
          "Jorge Polanco",
          "Yordan Alvarez",
          "Corey Seager",
          "Myles Straw",
          "Yasmani Grandal",
          "Javier Baez",
          "Joey Votto",
          "Kris Bryant",
          "Ty France",
          "Brandon Nimmo",
          "Trevor Story",
          "Joey Gallo",
          "Yuli Gurriel",
          "Matt Chapman",
          "Adam Frazier",
          "Harrison Bader",
          "Salvador Perez",
          "Sean Murphy",
          "Randy Arozarena",
          "Brandon Belt",
          "Jesse Winker",
          "Dansby Swanson",
          "Jeimer Candelario",
          "Whit Merrifield",
          "Kyle Schwarber",
          "J.P. Crawford",
          "Chris Taylor",
          "AJ Pollock",
          "Pete Alonso",
          "Eduardo Escobar",
          "Ketel Marte",
          "Kolten Wong",
          "J.D. Martinez",
          "Avisail Garcia",
          "Adolis Garcia",
          "Jose Abreu",
          "Omar Narvaez",
          "Jared Walsh",
          "Miguel Rojas",
          "Dylan Carlson",
          "Mitch Haniger",
          "Tony Kemp",
          "Amed Rosario",
          "Robbie Grossman",
          "Francisco Lindor",
          "Luis Urias",
          "Giancarlo Stanton",
          "Mark Canha",
          "Jacob Stallings",
          "Joey Wendle",
          "Ryan McMahon",
          "Kyle Seager",
          "Kevin Kiermaier",
          "Jean Segura",
          "DJ LeMahieu",
          "Austin Hays",
          "Adam Duvall",
          "George Springer",
          "Rhys Hoskins",
          "Isiah Kiner-Falefa",
          "Tommy Edman",
          "Patrick Wisdom",
          "C.J. Cron",
          "Cesar Hernandez",
          "Mike Yastrzemski",
          "Josh Donaldson",
          "Michael Brantley",
          "Jonathan Villar",
          "Ramon Laureano",
          "Willson Contreras",
          "Andrew Benintendi",
          "Trent Grisham",
          "Alex Bregman",
          "Alex Verdugo",
          "Tyler Stephenson",
          "Austin Meadows",
          "Leury Garcia",
          "Nelson Cruz",
          "Josh Rojas",
          "Michael A. Taylor",
          "Akil Baddoo",
          "Max Kepler",
          "Hunter Renfroe",
          "Luis Arraez",
          "Yandy Diaz",
          "Gleyber Torres",
          "Alcides Escobar",
          "Carson Kelly",
          "LaMonte Wade Jr.",
          "Freddy Galvis",
          "Elias Diaz",
          "Brendan Rodgers",
          "Paul DeJong",
          "Anthony Rizzo",
          "Nathaniel Lowe",
          "Kyle Farmer",
          "Jazz Chisholm Jr.",
          "Yan Gomes",
          "Jonathan Schoop",
          "Christian Yelich",
          "Charlie Blackmon",
          "Josh Harrison",
          "Ke'Bryan Hayes",
          "Gary Sanchez",
          "Tommy Pham",
          "Lourdes Gurriel Jr.",
          "Tyler Naquin",
          "Brett Gardner",
          "Manuel Margot",
          "Ryan Mountcastle",
          "Wil Myers",
          "Josh Bell",
          "Ian Happ",
          "Franmil Reyes",
          "Jesus Aguilar",
          "Andrew McCutchen",
          "Wilmer Flores",
          "Tucker Barnhart",
          "Abraham Toro",
          "Ben Gamel",
          "Nick Solak",
          "Bradley Zimmer",
          "David Peralta",
          "Odubel Herrera",
          "Donovan Solano",
          "Elvis Andrus",
          "Jose Iglesias",
          "Eric Haase",
          "Yadier Molina",
          "Brad Miller",
          "Gio Urshela",
          "Gavin Lux",
          "Eddie Rosario",
          "Jed Lowrie",
          "Michael Conforto",
          "Corey Dickerson",
          "Kevin Pillar",
          "Bobby Dalbec",
          "Eugenio Suarez",
          "Rougned Odor",
          "Anthony Santander",
          "Trey Mancini",
          "Joc Pederson",
          "Ronald Torreyes",
          "Christian Vazquez",
          "Jeff McNeil",
          "Guillermo Heredia",
          "Garrett Hampson",
          "James McCann",
          "Randal Grichuk",
          "Miguel Sano",
          "Starlin Castro",
          "Raimel Tapia",
          "Andrew Vaughn",
          "Luis Torrens",
          "Christian Walker",
          "David Fletcher",
          "Kevin Newman",
          "Justin Upton",
          "Pavin Smith",
          "Jason Heyward",
          "Martin Maldonado",
          "Dylan Moore",
          "Phil Gosselin",
          "Nick Ahmed",
          "Eric Hosmer",
          "Asdrubal Cabrera",
          "Didi Gregorius",
          "Harold Ramirez",
          "Pedro Severino",
          "Hunter Dozier",
          "Jorge Soler",
          "Colin Moran",
          "Alec Bohm",
          "Carlos Santana",
          "Maikel Franco",
          "Willi Castro",
          "Andrelton Simmons",
          "Victor Robles",
          "Dominic Smith",
          "Miguel Cabrera",
          "Victor Caratini",
          "Jurickson Profar",
          "Jarred Kelenic",
          "Jackie Bradley Jr.",
          "Cody Bellinger",
          "Gregory Polanco"
         ],
         "legendgroup": "",
         "marker": {
          "color": [
           142,
           166,
           131,
           163,
           170,
           137,
           156,
           134,
           148,
           134,
           142,
           139,
           145,
           136,
           130,
           137,
           130,
           152,
           146,
           138,
           140,
           122,
           140,
           147,
           134,
           130,
           135,
           122,
           134,
           106,
           122,
           108,
           116,
           120,
           140,
           107,
           135,
           157,
           119,
           113,
           127,
           122,
           110,
           131,
           132,
           122,
           138,
           147,
           98,
           159,
           116,
           140,
           123,
           129,
           137,
           100,
           123,
           134,
           101,
           114,
           110,
           127,
           99,
           128,
           158,
           148,
           98,
           119,
           91,
           145,
           103,
           113,
           137,
           133,
           107,
           139,
           109,
           128,
           115,
           100,
           126,
           99,
           127,
           97,
           113,
           120,
           127,
           99,
           114,
           103,
           111,
           137,
           115,
           95,
           106,
           95,
           99,
           101,
           109,
           100,
           106,
           103,
           140,
           127,
           85,
           91,
           115,
           127,
           90,
           106,
           124,
           123,
           105,
           111,
           109,
           106,
           103,
           115,
           107,
           111,
           113,
           98,
           122,
           102,
           77,
           108,
           95,
           114,
           103,
           111,
           94,
           100,
           103,
           117,
           90,
           92,
           100,
           86,
           112,
           115,
           91,
           98,
           93,
           105,
           101,
           94,
           103,
           88,
           99,
           102,
           107,
           110,
           93,
           95,
           111,
           109,
           118,
           103,
           125,
           112,
           107,
           113,
           81,
           95,
           101,
           89,
           89,
           93,
           93,
           105,
           72,
           91,
           100,
           83,
           105,
           96,
           91,
           98,
           100,
           106,
           100,
           90,
           107,
           85,
           83,
           92,
           105,
           94,
           68,
           77,
           93,
           79,
           65,
           80,
           85,
           110,
           90,
           76,
           94,
           101,
           87,
           70,
           54,
           92,
           96,
           68,
           63,
           74,
           87,
           64,
           102,
           82,
           68,
           90,
           87,
           82,
           101,
           98,
           75,
           83,
           62,
           69,
           56,
           67,
           86,
           92,
           72,
           85,
           73,
           35,
           48,
           71
          ],
          "coloraxis": "coloraxis",
          "line": {
           "width": 2
          },
          "size": 10,
          "symbol": "circle"
         },
         "mode": "markers",
         "name": "",
         "orientation": "v",
         "showlegend": false,
         "type": "scatter",
         "x": [
          0.386,
          0.419,
          0.368,
          0.42,
          0.431,
          0.372,
          0.403,
          0.364,
          0.387,
          0.364,
          0.385,
          0.377,
          0.384,
          0.371,
          0.357,
          0.363,
          0.368,
          0.393,
          0.379,
          0.373,
          0.379,
          0.354,
          0.379,
          0.381,
          0.373,
          0.364,
          0.379,
          0.347,
          0.358,
          0.329,
          0.35,
          0.336,
          0.338,
          0.345,
          0.391,
          0.336,
          0.379,
          0.412,
          0.349,
          0.336,
          0.358,
          0.363,
          0.338,
          0.365,
          0.369,
          0.349,
          0.369,
          0.389,
          0.311,
          0.402,
          0.343,
          0.391,
          0.356,
          0.353,
          0.369,
          0.341,
          0.348,
          0.363,
          0.311,
          0.341,
          0.331,
          0.359,
          0.309,
          0.35,
          0.406,
          0.403,
          0.322,
          0.344,
          0.306,
          0.392,
          0.314,
          0.338,
          0.375,
          0.363,
          0.334,
          0.385,
          0.337,
          0.363,
          0.346,
          0.314,
          0.354,
          0.322,
          0.357,
          0.311,
          0.336,
          0.34,
          0.351,
          0.315,
          0.337,
          0.317,
          0.339,
          0.37,
          0.333,
          0.312,
          0.317,
          0.334,
          0.308,
          0.31,
          0.338,
          0.315,
          0.328,
          0.324,
          0.38,
          0.364,
          0.293,
          0.301,
          0.345,
          0.383,
          0.302,
          0.326,
          0.353,
          0.347,
          0.32,
          0.327,
          0.337,
          0.328,
          0.32,
          0.336,
          0.334,
          0.346,
          0.327,
          0.312,
          0.344,
          0.325,
          0.286,
          0.329,
          0.309,
          0.344,
          0.321,
          0.325,
          0.307,
          0.325,
          0.328,
          0.343,
          0.305,
          0.33,
          0.341,
          0.293,
          0.339,
          0.337,
          0.316,
          0.312,
          0.308,
          0.324,
          0.325,
          0.333,
          0.324,
          0.301,
          0.314,
          0.318,
          0.333,
          0.345,
          0.305,
          0.301,
          0.335,
          0.33,
          0.352,
          0.328,
          0.354,
          0.33,
          0.335,
          0.337,
          0.3,
          0.303,
          0.322,
          0.299,
          0.3,
          0.314,
          0.312,
          0.324,
          0.27,
          0.304,
          0.316,
          0.289,
          0.331,
          0.309,
          0.303,
          0.316,
          0.311,
          0.322,
          0.317,
          0.297,
          0.334,
          0.306,
          0.289,
          0.307,
          0.326,
          0.315,
          0.274,
          0.289,
          0.301,
          0.292,
          0.288,
          0.281,
          0.3,
          0.332,
          0.308,
          0.305,
          0.306,
          0.311,
          0.304,
          0.273,
          0.249,
          0.304,
          0.318,
          0.275,
          0.258,
          0.271,
          0.297,
          0.269,
          0.319,
          0.297,
          0.275,
          0.302,
          0.299,
          0.293,
          0.319,
          0.318,
          0.285,
          0.294,
          0.263,
          0.271,
          0.252,
          0.274,
          0.291,
          0.305,
          0.273,
          0.292,
          0.27,
          0.224,
          0.237,
          0.275
         ],
         "xaxis": "x",
         "y": [
          0.362,
          0.416,
          0.331,
          0.43,
          0.43,
          0.374,
          0.406,
          0.373,
          0.416,
          0.347,
          0.385,
          0.356,
          0.391,
          0.344,
          0.332,
          0.36,
          0.358,
          0.408,
          0.379,
          0.396,
          0.406,
          0.354,
          0.361,
          0.399,
          0.392,
          0.363,
          0.416,
          0.351,
          0.354,
          0.283,
          0.38,
          0.329,
          0.344,
          0.325,
          0.374,
          0.332,
          0.364,
          0.427,
          0.326,
          0.312,
          0.359,
          0.355,
          0.347,
          0.356,
          0.367,
          0.347,
          0.389,
          0.393,
          0.306,
          0.414,
          0.324,
          0.406,
          0.346,
          0.345,
          0.349,
          0.333,
          0.354,
          0.326,
          0.321,
          0.323,
          0.294,
          0.372,
          0.335,
          0.302,
          0.374,
          0.389,
          0.331,
          0.357,
          0.301,
          0.399,
          0.297,
          0.329,
          0.362,
          0.376,
          0.326,
          0.371,
          0.308,
          0.374,
          0.366,
          0.302,
          0.348,
          0.304,
          0.325,
          0.291,
          0.321,
          0.353,
          0.32,
          0.298,
          0.335,
          0.344,
          0.332,
          0.358,
          0.332,
          0.315,
          0.284,
          0.324,
          0.32,
          0.283,
          0.318,
          0.339,
          0.316,
          0.329,
          0.358,
          0.377,
          0.291,
          0.315,
          0.32,
          0.362,
          0.31,
          0.316,
          0.387,
          0.362,
          0.307,
          0.333,
          0.346,
          0.332,
          0.31,
          0.335,
          0.342,
          0.324,
          0.326,
          0.291,
          0.358,
          0.298,
          0.299,
          0.309,
          0.347,
          0.353,
          0.336,
          0.332,
          0.331,
          0.308,
          0.343,
          0.347,
          0.28,
          0.317,
          0.309,
          0.312,
          0.346,
          0.324,
          0.301,
          0.307,
          0.341,
          0.311,
          0.338,
          0.357,
          0.332,
          0.299,
          0.336,
          0.354,
          0.336,
          0.339,
          0.294,
          0.318,
          0.326,
          0.296,
          0.366,
          0.315,
          0.35,
          0.33,
          0.344,
          0.312,
          0.264,
          0.321,
          0.316,
          0.298,
          0.316,
          0.293,
          0.3,
          0.335,
          0.307,
          0.296,
          0.322,
          0.305,
          0.345,
          0.304,
          0.323,
          0.318,
          0.342,
          0.35,
          0.3,
          0.281,
          0.344,
          0.326,
          0.288,
          0.328,
          0.34,
          0.333,
          0.257,
          0.275,
          0.313,
          0.289,
          0.29,
          0.284,
          0.294,
          0.322,
          0.323,
          0.279,
          0.33,
          0.317,
          0.311,
          0.28,
          0.275,
          0.319,
          0.316,
          0.292,
          0.268,
          0.289,
          0.287,
          0.25,
          0.325,
          0.287,
          0.273,
          0.308,
          0.31,
          0.299,
          0.354,
          0.314,
          0.316,
          0.334,
          0.269,
          0.29,
          0.261,
          0.288,
          0.324,
          0.313,
          0.29,
          0.302,
          0.31,
          0.257,
          0.281,
          0.315
         ],
         "yaxis": "y"
        },
        {
         "line": {
          "color": "rgba(31, 119, 180, 0.4)",
          "dash": "dash",
          "width": 2
         },
         "name": "regression",
         "showlegend": false,
         "type": "scatter",
         "x": [
          0.22,
          0.22213131313131312,
          0.22426262626262627,
          0.2263939393939394,
          0.22852525252525252,
          0.23065656565656567,
          0.2327878787878788,
          0.23491919191919192,
          0.23705050505050504,
          0.2391818181818182,
          0.2413131313131313,
          0.24344444444444444,
          0.24557575757575756,
          0.2477070707070707,
          0.24983838383838383,
          0.25196969696969695,
          0.2541010101010101,
          0.25623232323232326,
          0.25836363636363635,
          0.2604949494949495,
          0.26262626262626265,
          0.26475757575757575,
          0.2668888888888889,
          0.269020202020202,
          0.27115151515151514,
          0.2732828282828283,
          0.2754141414141414,
          0.27754545454545454,
          0.2796767676767677,
          0.2818080808080808,
          0.28393939393939394,
          0.28607070707070703,
          0.2882020202020202,
          0.29033333333333333,
          0.2924646464646464,
          0.2945959595959596,
          0.29672727272727273,
          0.2988585858585858,
          0.300989898989899,
          0.3031212121212121,
          0.3052525252525252,
          0.30738383838383837,
          0.3095151515151515,
          0.3116464646464646,
          0.31377777777777777,
          0.3159090909090909,
          0.318040404040404,
          0.32017171717171716,
          0.3223030303030303,
          0.3244343434343434,
          0.32656565656565656,
          0.3286969696969697,
          0.3308282828282828,
          0.33295959595959596,
          0.3350909090909091,
          0.3372222222222222,
          0.33935353535353535,
          0.3414848484848485,
          0.3436161616161616,
          0.34574747474747475,
          0.3478787878787879,
          0.350010101010101,
          0.3521414141414141,
          0.3542727272727273,
          0.3564040404040404,
          0.3585353535353535,
          0.3606666666666667,
          0.3627979797979798,
          0.3649292929292929,
          0.36706060606060603,
          0.3691919191919192,
          0.3713232323232323,
          0.37345454545454543,
          0.3755858585858586,
          0.3777171717171717,
          0.3798484848484848,
          0.381979797979798,
          0.38411111111111107,
          0.3862424242424242,
          0.38837373737373737,
          0.39050505050505047,
          0.3926363636363636,
          0.39476767676767677,
          0.39689898989898986,
          0.399030303030303,
          0.40116161616161616,
          0.40329292929292926,
          0.4054242424242424,
          0.40755555555555556,
          0.40968686868686865,
          0.4118181818181818,
          0.41394949494949496,
          0.41608080808080805,
          0.4182121212121212,
          0.42034343434343435,
          0.42247474747474745,
          0.42460606060606054,
          0.42673737373737375,
          0.42886868686868684,
          0.431
         ],
         "y": [
          0.23516043045852542,
          0.23701205710049036,
          0.23886368374245537,
          0.24071531038442032,
          0.2425669370263853,
          0.24441856366835027,
          0.24627019031031522,
          0.2481218169522802,
          0.24997344359424514,
          0.25182507023621015,
          0.25367669687817507,
          0.2555283235201401,
          0.257379950162105,
          0.25923157680407,
          0.261083203446035,
          0.2629348300879999,
          0.2647864567299649,
          0.2666380833719299,
          0.2684897100138949,
          0.2703413366558598,
          0.27219296329782483,
          0.27404458993978975,
          0.2758962165817547,
          0.2777478432237197,
          0.2795994698656846,
          0.28145109650764966,
          0.2833027231496146,
          0.28515434979157955,
          0.28700597643354453,
          0.28885760307550945,
          0.2907092297174745,
          0.2925608563594394,
          0.2944124830014044,
          0.29626410964336936,
          0.29811573628533433,
          0.2999673629272993,
          0.3018189895692643,
          0.3036706162112292,
          0.3055222428531942,
          0.3073738694951592,
          0.30922549613712413,
          0.3110771227790891,
          0.3129287494210541,
          0.31478037606301906,
          0.31663200270498404,
          0.318483629346949,
          0.32033525598891394,
          0.3221868826308789,
          0.3240385092728439,
          0.32589013591480887,
          0.32774176255677384,
          0.3295933891987388,
          0.33144501584070374,
          0.33329664248266877,
          0.33514826912463375,
          0.33699989576659867,
          0.33885152240856364,
          0.3407031490505286,
          0.3425547756924936,
          0.3444064023344586,
          0.34625802897642355,
          0.34810965561838847,
          0.34996128226035345,
          0.3518129089023185,
          0.3536645355442834,
          0.3555161621862483,
          0.35736778882821335,
          0.35921941547017827,
          0.36107104211214325,
          0.3629226687541082,
          0.3647742953960732,
          0.3666259220380381,
          0.36847754868000315,
          0.37032917532196813,
          0.37218080196393305,
          0.374032428605898,
          0.375884055247863,
          0.377735681889828,
          0.37958730853179296,
          0.38143893517375793,
          0.38329056181572285,
          0.38514218845768783,
          0.38699381509965286,
          0.3888454417416178,
          0.39069706838358276,
          0.39254869502554773,
          0.3944003216675127,
          0.3962519483094777,
          0.39810357495144266,
          0.3999552015934076,
          0.40180682823537256,
          0.40365845487733754,
          0.4055100815193025,
          0.4073617081612675,
          0.40921333480323246,
          0.4110649614451974,
          0.41291658808716236,
          0.4147682147291274,
          0.4166198413710923,
          0.4184714680130573
         ]
        },
        {
         "line": {
          "color": "rgba(31, 119, 180, 0.4)",
          "dash": "dash",
          "width": 2
         },
         "name": "+1 st_dev",
         "showlegend": false,
         "type": "scatter",
         "x": [
          0.22,
          0.22213131313131312,
          0.22426262626262627,
          0.2263939393939394,
          0.22852525252525252,
          0.23065656565656567,
          0.2327878787878788,
          0.23491919191919192,
          0.23705050505050504,
          0.2391818181818182,
          0.2413131313131313,
          0.24344444444444444,
          0.24557575757575756,
          0.2477070707070707,
          0.24983838383838383,
          0.25196969696969695,
          0.2541010101010101,
          0.25623232323232326,
          0.25836363636363635,
          0.2604949494949495,
          0.26262626262626265,
          0.26475757575757575,
          0.2668888888888889,
          0.269020202020202,
          0.27115151515151514,
          0.2732828282828283,
          0.2754141414141414,
          0.27754545454545454,
          0.2796767676767677,
          0.2818080808080808,
          0.28393939393939394,
          0.28607070707070703,
          0.2882020202020202,
          0.29033333333333333,
          0.2924646464646464,
          0.2945959595959596,
          0.29672727272727273,
          0.2988585858585858,
          0.300989898989899,
          0.3031212121212121,
          0.3052525252525252,
          0.30738383838383837,
          0.3095151515151515,
          0.3116464646464646,
          0.31377777777777777,
          0.3159090909090909,
          0.318040404040404,
          0.32017171717171716,
          0.3223030303030303,
          0.3244343434343434,
          0.32656565656565656,
          0.3286969696969697,
          0.3308282828282828,
          0.33295959595959596,
          0.3350909090909091,
          0.3372222222222222,
          0.33935353535353535,
          0.3414848484848485,
          0.3436161616161616,
          0.34574747474747475,
          0.3478787878787879,
          0.350010101010101,
          0.3521414141414141,
          0.3542727272727273,
          0.3564040404040404,
          0.3585353535353535,
          0.3606666666666667,
          0.3627979797979798,
          0.3649292929292929,
          0.36706060606060603,
          0.3691919191919192,
          0.3713232323232323,
          0.37345454545454543,
          0.3755858585858586,
          0.3777171717171717,
          0.3798484848484848,
          0.381979797979798,
          0.38411111111111107,
          0.3862424242424242,
          0.38837373737373737,
          0.39050505050505047,
          0.3926363636363636,
          0.39476767676767677,
          0.39689898989898986,
          0.399030303030303,
          0.40116161616161616,
          0.40329292929292926,
          0.4054242424242424,
          0.40755555555555556,
          0.40968686868686865,
          0.4118181818181818,
          0.41394949494949496,
          0.41608080808080805,
          0.4182121212121212,
          0.42034343434343435,
          0.42247474747474745,
          0.42460606060606054,
          0.42673737373737375,
          0.42886868686868684,
          0.431
         ],
         "y": [
          0.2708195861465914,
          0.2726712127885563,
          0.27452283943052136,
          0.2763744660724863,
          0.2782260927144513,
          0.28007771935641623,
          0.2819293459983812,
          0.2837809726403462,
          0.2856325992823111,
          0.28748422592427614,
          0.28933585256624106,
          0.2911874792082061,
          0.293039105850171,
          0.294890732492136,
          0.29674235913410096,
          0.2985939857760659,
          0.3004456124180309,
          0.3022972390599959,
          0.30414886570196087,
          0.3060004923439258,
          0.3078521189858908,
          0.30970374562785574,
          0.3115553722698207,
          0.3134069989117857,
          0.3152586255537506,
          0.31711025219571565,
          0.31896187883768057,
          0.32081350547964554,
          0.3226651321216105,
          0.32451675876357544,
          0.3263683854055405,
          0.3282200120475054,
          0.33007163868947037,
          0.33192326533143535,
          0.3337748919734003,
          0.3356265186153653,
          0.3374781452573303,
          0.3393297718992952,
          0.3411813985412602,
          0.3430330251832252,
          0.3448846518251901,
          0.3467362784671551,
          0.3485879051091201,
          0.35043953175108505,
          0.35229115839305003,
          0.354142785035015,
          0.3559944116769799,
          0.3578460383189449,
          0.3596976649609099,
          0.36154929160287486,
          0.36340091824483983,
          0.3652525448868048,
          0.36710417152876973,
          0.36895579817073476,
          0.37080742481269974,
          0.37265905145466466,
          0.37451067809662963,
          0.3763623047385946,
          0.3782139313805596,
          0.38006555802252456,
          0.38191718466448954,
          0.38376881130645446,
          0.38562043794841944,
          0.38747206459038447,
          0.3893236912323494,
          0.3911753178743143,
          0.39302694451627934,
          0.39487857115824426,
          0.39673019780020924,
          0.3985818244421742,
          0.4004334510841392,
          0.4022850777261041,
          0.40413670436806914,
          0.4059883310100341,
          0.40783995765199904,
          0.409691584293964,
          0.411543210935929,
          0.41339483757789397,
          0.41524646421985895,
          0.4170980908618239,
          0.41894971750378884,
          0.4208013441457538,
          0.42265297078771885,
          0.42450459742968377,
          0.42635622407164875,
          0.4282078507136137,
          0.4300594773555787,
          0.4319111039975437,
          0.43376273063950865,
          0.4356143572814736,
          0.43746598392343855,
          0.4393176105654035,
          0.4411692372073685,
          0.4430208638493335,
          0.44487249049129846,
          0.4467241171332634,
          0.44857574377522835,
          0.4504273704171934,
          0.4522789970591583,
          0.4541306237011233
         ]
        },
        {
         "line": {
          "color": "rgba(31, 119, 180, 0.4)",
          "dash": "dash",
          "width": 2
         },
         "name": "-1 st_dev",
         "showlegend": false,
         "type": "scatter",
         "x": [
          0.22,
          0.22213131313131312,
          0.22426262626262627,
          0.2263939393939394,
          0.22852525252525252,
          0.23065656565656567,
          0.2327878787878788,
          0.23491919191919192,
          0.23705050505050504,
          0.2391818181818182,
          0.2413131313131313,
          0.24344444444444444,
          0.24557575757575756,
          0.2477070707070707,
          0.24983838383838383,
          0.25196969696969695,
          0.2541010101010101,
          0.25623232323232326,
          0.25836363636363635,
          0.2604949494949495,
          0.26262626262626265,
          0.26475757575757575,
          0.2668888888888889,
          0.269020202020202,
          0.27115151515151514,
          0.2732828282828283,
          0.2754141414141414,
          0.27754545454545454,
          0.2796767676767677,
          0.2818080808080808,
          0.28393939393939394,
          0.28607070707070703,
          0.2882020202020202,
          0.29033333333333333,
          0.2924646464646464,
          0.2945959595959596,
          0.29672727272727273,
          0.2988585858585858,
          0.300989898989899,
          0.3031212121212121,
          0.3052525252525252,
          0.30738383838383837,
          0.3095151515151515,
          0.3116464646464646,
          0.31377777777777777,
          0.3159090909090909,
          0.318040404040404,
          0.32017171717171716,
          0.3223030303030303,
          0.3244343434343434,
          0.32656565656565656,
          0.3286969696969697,
          0.3308282828282828,
          0.33295959595959596,
          0.3350909090909091,
          0.3372222222222222,
          0.33935353535353535,
          0.3414848484848485,
          0.3436161616161616,
          0.34574747474747475,
          0.3478787878787879,
          0.350010101010101,
          0.3521414141414141,
          0.3542727272727273,
          0.3564040404040404,
          0.3585353535353535,
          0.3606666666666667,
          0.3627979797979798,
          0.3649292929292929,
          0.36706060606060603,
          0.3691919191919192,
          0.3713232323232323,
          0.37345454545454543,
          0.3755858585858586,
          0.3777171717171717,
          0.3798484848484848,
          0.381979797979798,
          0.38411111111111107,
          0.3862424242424242,
          0.38837373737373737,
          0.39050505050505047,
          0.3926363636363636,
          0.39476767676767677,
          0.39689898989898986,
          0.399030303030303,
          0.40116161616161616,
          0.40329292929292926,
          0.4054242424242424,
          0.40755555555555556,
          0.40968686868686865,
          0.4118181818181818,
          0.41394949494949496,
          0.41608080808080805,
          0.4182121212121212,
          0.42034343434343435,
          0.42247474747474745,
          0.42460606060606054,
          0.42673737373737375,
          0.42886868686868684,
          0.431
         ],
         "y": [
          0.19950127477045942,
          0.20135290141242437,
          0.20320452805438938,
          0.20505615469635433,
          0.2069077813383193,
          0.20875940798028428,
          0.21061103462224923,
          0.2124626612642142,
          0.21431428790617915,
          0.21616591454814416,
          0.2180175411901091,
          0.21986916783207408,
          0.22172079447403903,
          0.223572421116004,
          0.22542404775796898,
          0.22727567439993393,
          0.22912730104189893,
          0.2309789276838639,
          0.23283055432582886,
          0.23468218096779384,
          0.2365338076097588,
          0.23838543425172376,
          0.24023706089368874,
          0.24208868753565368,
          0.24394031417761866,
          0.24579194081958364,
          0.24764356746154859,
          0.24949519410351356,
          0.2513468207454786,
          0.2531984473874435,
          0.2550500740294085,
          0.2569017006713734,
          0.2587533273133384,
          0.26060495395530336,
          0.26245658059726834,
          0.2643082072392333,
          0.2661598338811983,
          0.2680114605231632,
          0.2698630871651282,
          0.2717147138070932,
          0.27356634044905814,
          0.2754179670910231,
          0.2772695937329881,
          0.27912122037495307,
          0.28097284701691805,
          0.282824473658883,
          0.28467610030084795,
          0.2865277269428129,
          0.2883793535847779,
          0.2902309802267429,
          0.29208260686870785,
          0.2939342335106728,
          0.29578586015263775,
          0.2976374867946028,
          0.29948911343656776,
          0.3013407400785327,
          0.30319236672049765,
          0.30504399336246263,
          0.3068956200044276,
          0.3087472466463926,
          0.31059887328835756,
          0.3124504999303225,
          0.31430212657228745,
          0.3161537532142525,
          0.3180053798562174,
          0.31985700649818233,
          0.32170863314014736,
          0.3235602597821123,
          0.32541188642407726,
          0.32726351306604223,
          0.3291151397080072,
          0.33096676634997213,
          0.33281839299193716,
          0.33467001963390214,
          0.33652164627586706,
          0.33837327291783204,
          0.340224899559797,
          0.342076526201762,
          0.34392815284372696,
          0.34577977948569194,
          0.34763140612765686,
          0.34948303276962184,
          0.35133465941158687,
          0.3531862860535518,
          0.35503791269551677,
          0.35688953933748174,
          0.3587411659794467,
          0.3605927926214117,
          0.36244441926337667,
          0.3642960459053416,
          0.36614767254730657,
          0.36799929918927154,
          0.3698509258312365,
          0.3717025524732015,
          0.3735541791151665,
          0.3754058057571314,
          0.37725743239909637,
          0.3791090590410614,
          0.3809606856830263,
          0.3828123123249913
         ]
        }
       ],
       "layout": {
        "coloraxis": {
         "colorbar": {
          "title": {
           "text": "wRC+"
          }
         },
         "colorscale": [
          [
           0,
           "rgb(0, 155, 158)"
          ],
          [
           0.16666666666666666,
           "rgb(66, 183, 185)"
          ],
          [
           0.3333333333333333,
           "rgb(167, 211, 212)"
          ],
          [
           0.5,
           "rgb(241, 241, 241)"
          ],
          [
           0.6666666666666666,
           "rgb(228, 193, 217)"
          ],
          [
           0.8333333333333334,
           "rgb(214, 145, 193)"
          ],
          [
           1,
           "rgb(199, 93, 171)"
          ]
         ]
        },
        "height": 700,
        "legend": {
         "tracegroupgap": 0
        },
        "template": {
         "data": {
          "bar": [
           {
            "error_x": {
             "color": "#2a3f5f"
            },
            "error_y": {
             "color": "#2a3f5f"
            },
            "marker": {
             "line": {
              "color": "#E5ECF6",
              "width": 0.5
             },
             "pattern": {
              "fillmode": "overlay",
              "size": 10,
              "solidity": 0.2
             }
            },
            "type": "bar"
           }
          ],
          "barpolar": [
           {
            "marker": {
             "line": {
              "color": "#E5ECF6",
              "width": 0.5
             },
             "pattern": {
              "fillmode": "overlay",
              "size": 10,
              "solidity": 0.2
             }
            },
            "type": "barpolar"
           }
          ],
          "carpet": [
           {
            "aaxis": {
             "endlinecolor": "#2a3f5f",
             "gridcolor": "white",
             "linecolor": "white",
             "minorgridcolor": "white",
             "startlinecolor": "#2a3f5f"
            },
            "baxis": {
             "endlinecolor": "#2a3f5f",
             "gridcolor": "white",
             "linecolor": "white",
             "minorgridcolor": "white",
             "startlinecolor": "#2a3f5f"
            },
            "type": "carpet"
           }
          ],
          "choropleth": [
           {
            "colorbar": {
             "outlinewidth": 0,
             "ticks": ""
            },
            "type": "choropleth"
           }
          ],
          "contour": [
           {
            "colorbar": {
             "outlinewidth": 0,
             "ticks": ""
            },
            "colorscale": [
             [
              0,
              "#0d0887"
             ],
             [
              0.1111111111111111,
              "#46039f"
             ],
             [
              0.2222222222222222,
              "#7201a8"
             ],
             [
              0.3333333333333333,
              "#9c179e"
             ],
             [
              0.4444444444444444,
              "#bd3786"
             ],
             [
              0.5555555555555556,
              "#d8576b"
             ],
             [
              0.6666666666666666,
              "#ed7953"
             ],
             [
              0.7777777777777778,
              "#fb9f3a"
             ],
             [
              0.8888888888888888,
              "#fdca26"
             ],
             [
              1,
              "#f0f921"
             ]
            ],
            "type": "contour"
           }
          ],
          "contourcarpet": [
           {
            "colorbar": {
             "outlinewidth": 0,
             "ticks": ""
            },
            "type": "contourcarpet"
           }
          ],
          "heatmap": [
           {
            "colorbar": {
             "outlinewidth": 0,
             "ticks": ""
            },
            "colorscale": [
             [
              0,
              "#0d0887"
             ],
             [
              0.1111111111111111,
              "#46039f"
             ],
             [
              0.2222222222222222,
              "#7201a8"
             ],
             [
              0.3333333333333333,
              "#9c179e"
             ],
             [
              0.4444444444444444,
              "#bd3786"
             ],
             [
              0.5555555555555556,
              "#d8576b"
             ],
             [
              0.6666666666666666,
              "#ed7953"
             ],
             [
              0.7777777777777778,
              "#fb9f3a"
             ],
             [
              0.8888888888888888,
              "#fdca26"
             ],
             [
              1,
              "#f0f921"
             ]
            ],
            "type": "heatmap"
           }
          ],
          "heatmapgl": [
           {
            "colorbar": {
             "outlinewidth": 0,
             "ticks": ""
            },
            "colorscale": [
             [
              0,
              "#0d0887"
             ],
             [
              0.1111111111111111,
              "#46039f"
             ],
             [
              0.2222222222222222,
              "#7201a8"
             ],
             [
              0.3333333333333333,
              "#9c179e"
             ],
             [
              0.4444444444444444,
              "#bd3786"
             ],
             [
              0.5555555555555556,
              "#d8576b"
             ],
             [
              0.6666666666666666,
              "#ed7953"
             ],
             [
              0.7777777777777778,
              "#fb9f3a"
             ],
             [
              0.8888888888888888,
              "#fdca26"
             ],
             [
              1,
              "#f0f921"
             ]
            ],
            "type": "heatmapgl"
           }
          ],
          "histogram": [
           {
            "marker": {
             "pattern": {
              "fillmode": "overlay",
              "size": 10,
              "solidity": 0.2
             }
            },
            "type": "histogram"
           }
          ],
          "histogram2d": [
           {
            "colorbar": {
             "outlinewidth": 0,
             "ticks": ""
            },
            "colorscale": [
             [
              0,
              "#0d0887"
             ],
             [
              0.1111111111111111,
              "#46039f"
             ],
             [
              0.2222222222222222,
              "#7201a8"
             ],
             [
              0.3333333333333333,
              "#9c179e"
             ],
             [
              0.4444444444444444,
              "#bd3786"
             ],
             [
              0.5555555555555556,
              "#d8576b"
             ],
             [
              0.6666666666666666,
              "#ed7953"
             ],
             [
              0.7777777777777778,
              "#fb9f3a"
             ],
             [
              0.8888888888888888,
              "#fdca26"
             ],
             [
              1,
              "#f0f921"
             ]
            ],
            "type": "histogram2d"
           }
          ],
          "histogram2dcontour": [
           {
            "colorbar": {
             "outlinewidth": 0,
             "ticks": ""
            },
            "colorscale": [
             [
              0,
              "#0d0887"
             ],
             [
              0.1111111111111111,
              "#46039f"
             ],
             [
              0.2222222222222222,
              "#7201a8"
             ],
             [
              0.3333333333333333,
              "#9c179e"
             ],
             [
              0.4444444444444444,
              "#bd3786"
             ],
             [
              0.5555555555555556,
              "#d8576b"
             ],
             [
              0.6666666666666666,
              "#ed7953"
             ],
             [
              0.7777777777777778,
              "#fb9f3a"
             ],
             [
              0.8888888888888888,
              "#fdca26"
             ],
             [
              1,
              "#f0f921"
             ]
            ],
            "type": "histogram2dcontour"
           }
          ],
          "mesh3d": [
           {
            "colorbar": {
             "outlinewidth": 0,
             "ticks": ""
            },
            "type": "mesh3d"
           }
          ],
          "parcoords": [
           {
            "line": {
             "colorbar": {
              "outlinewidth": 0,
              "ticks": ""
             }
            },
            "type": "parcoords"
           }
          ],
          "pie": [
           {
            "automargin": true,
            "type": "pie"
           }
          ],
          "scatter": [
           {
            "marker": {
             "colorbar": {
              "outlinewidth": 0,
              "ticks": ""
             }
            },
            "type": "scatter"
           }
          ],
          "scatter3d": [
           {
            "line": {
             "colorbar": {
              "outlinewidth": 0,
              "ticks": ""
             }
            },
            "marker": {
             "colorbar": {
              "outlinewidth": 0,
              "ticks": ""
             }
            },
            "type": "scatter3d"
           }
          ],
          "scattercarpet": [
           {
            "marker": {
             "colorbar": {
              "outlinewidth": 0,
              "ticks": ""
             }
            },
            "type": "scattercarpet"
           }
          ],
          "scattergeo": [
           {
            "marker": {
             "colorbar": {
              "outlinewidth": 0,
              "ticks": ""
             }
            },
            "type": "scattergeo"
           }
          ],
          "scattergl": [
           {
            "marker": {
             "colorbar": {
              "outlinewidth": 0,
              "ticks": ""
             }
            },
            "type": "scattergl"
           }
          ],
          "scattermapbox": [
           {
            "marker": {
             "colorbar": {
              "outlinewidth": 0,
              "ticks": ""
             }
            },
            "type": "scattermapbox"
           }
          ],
          "scatterpolar": [
           {
            "marker": {
             "colorbar": {
              "outlinewidth": 0,
              "ticks": ""
             }
            },
            "type": "scatterpolar"
           }
          ],
          "scatterpolargl": [
           {
            "marker": {
             "colorbar": {
              "outlinewidth": 0,
              "ticks": ""
             }
            },
            "type": "scatterpolargl"
           }
          ],
          "scatterternary": [
           {
            "marker": {
             "colorbar": {
              "outlinewidth": 0,
              "ticks": ""
             }
            },
            "type": "scatterternary"
           }
          ],
          "surface": [
           {
            "colorbar": {
             "outlinewidth": 0,
             "ticks": ""
            },
            "colorscale": [
             [
              0,
              "#0d0887"
             ],
             [
              0.1111111111111111,
              "#46039f"
             ],
             [
              0.2222222222222222,
              "#7201a8"
             ],
             [
              0.3333333333333333,
              "#9c179e"
             ],
             [
              0.4444444444444444,
              "#bd3786"
             ],
             [
              0.5555555555555556,
              "#d8576b"
             ],
             [
              0.6666666666666666,
              "#ed7953"
             ],
             [
              0.7777777777777778,
              "#fb9f3a"
             ],
             [
              0.8888888888888888,
              "#fdca26"
             ],
             [
              1,
              "#f0f921"
             ]
            ],
            "type": "surface"
           }
          ],
          "table": [
           {
            "cells": {
             "fill": {
              "color": "#EBF0F8"
             },
             "line": {
              "color": "white"
             }
            },
            "header": {
             "fill": {
              "color": "#C8D4E3"
             },
             "line": {
              "color": "white"
             }
            },
            "type": "table"
           }
          ]
         },
         "layout": {
          "annotationdefaults": {
           "arrowcolor": "#2a3f5f",
           "arrowhead": 0,
           "arrowwidth": 1
          },
          "autotypenumbers": "strict",
          "coloraxis": {
           "colorbar": {
            "outlinewidth": 0,
            "ticks": ""
           }
          },
          "colorscale": {
           "diverging": [
            [
             0,
             "#8e0152"
            ],
            [
             0.1,
             "#c51b7d"
            ],
            [
             0.2,
             "#de77ae"
            ],
            [
             0.3,
             "#f1b6da"
            ],
            [
             0.4,
             "#fde0ef"
            ],
            [
             0.5,
             "#f7f7f7"
            ],
            [
             0.6,
             "#e6f5d0"
            ],
            [
             0.7,
             "#b8e186"
            ],
            [
             0.8,
             "#7fbc41"
            ],
            [
             0.9,
             "#4d9221"
            ],
            [
             1,
             "#276419"
            ]
           ],
           "sequential": [
            [
             0,
             "#0d0887"
            ],
            [
             0.1111111111111111,
             "#46039f"
            ],
            [
             0.2222222222222222,
             "#7201a8"
            ],
            [
             0.3333333333333333,
             "#9c179e"
            ],
            [
             0.4444444444444444,
             "#bd3786"
            ],
            [
             0.5555555555555556,
             "#d8576b"
            ],
            [
             0.6666666666666666,
             "#ed7953"
            ],
            [
             0.7777777777777778,
             "#fb9f3a"
            ],
            [
             0.8888888888888888,
             "#fdca26"
            ],
            [
             1,
             "#f0f921"
            ]
           ],
           "sequentialminus": [
            [
             0,
             "#0d0887"
            ],
            [
             0.1111111111111111,
             "#46039f"
            ],
            [
             0.2222222222222222,
             "#7201a8"
            ],
            [
             0.3333333333333333,
             "#9c179e"
            ],
            [
             0.4444444444444444,
             "#bd3786"
            ],
            [
             0.5555555555555556,
             "#d8576b"
            ],
            [
             0.6666666666666666,
             "#ed7953"
            ],
            [
             0.7777777777777778,
             "#fb9f3a"
            ],
            [
             0.8888888888888888,
             "#fdca26"
            ],
            [
             1,
             "#f0f921"
            ]
           ]
          },
          "colorway": [
           "#636efa",
           "#EF553B",
           "#00cc96",
           "#ab63fa",
           "#FFA15A",
           "#19d3f3",
           "#FF6692",
           "#B6E880",
           "#FF97FF",
           "#FECB52"
          ],
          "font": {
           "color": "#2a3f5f"
          },
          "geo": {
           "bgcolor": "white",
           "lakecolor": "white",
           "landcolor": "#E5ECF6",
           "showlakes": true,
           "showland": true,
           "subunitcolor": "white"
          },
          "hoverlabel": {
           "align": "left"
          },
          "hovermode": "closest",
          "mapbox": {
           "style": "light"
          },
          "paper_bgcolor": "white",
          "plot_bgcolor": "#E5ECF6",
          "polar": {
           "angularaxis": {
            "gridcolor": "white",
            "linecolor": "white",
            "ticks": ""
           },
           "bgcolor": "#E5ECF6",
           "radialaxis": {
            "gridcolor": "white",
            "linecolor": "white",
            "ticks": ""
           }
          },
          "scene": {
           "xaxis": {
            "backgroundcolor": "#E5ECF6",
            "gridcolor": "white",
            "gridwidth": 2,
            "linecolor": "white",
            "showbackground": true,
            "ticks": "",
            "zerolinecolor": "white"
           },
           "yaxis": {
            "backgroundcolor": "#E5ECF6",
            "gridcolor": "white",
            "gridwidth": 2,
            "linecolor": "white",
            "showbackground": true,
            "ticks": "",
            "zerolinecolor": "white"
           },
           "zaxis": {
            "backgroundcolor": "#E5ECF6",
            "gridcolor": "white",
            "gridwidth": 2,
            "linecolor": "white",
            "showbackground": true,
            "ticks": "",
            "zerolinecolor": "white"
           }
          },
          "shapedefaults": {
           "line": {
            "color": "#2a3f5f"
           }
          },
          "ternary": {
           "aaxis": {
            "gridcolor": "white",
            "linecolor": "white",
            "ticks": ""
           },
           "baxis": {
            "gridcolor": "white",
            "linecolor": "white",
            "ticks": ""
           },
           "bgcolor": "#E5ECF6",
           "caxis": {
            "gridcolor": "white",
            "linecolor": "white",
            "ticks": ""
           }
          },
          "title": {
           "x": 0.05
          },
          "xaxis": {
           "automargin": true,
           "gridcolor": "white",
           "linecolor": "white",
           "ticks": "",
           "title": {
            "standoff": 15
           },
           "zerolinecolor": "white",
           "zerolinewidth": 2
          },
          "yaxis": {
           "automargin": true,
           "gridcolor": "white",
           "linecolor": "white",
           "ticks": "",
           "title": {
            "standoff": 15
           },
           "zerolinecolor": "white",
           "zerolinewidth": 2
          }
         }
        },
        "title": {
         "text": "wOBA vs xwOBA"
        },
        "width": 1350,
        "xaxis": {
         "anchor": "y",
         "domain": [
          0,
          1
         ],
         "nticks": 40,
         "title": {
          "text": "wOBA"
         }
        },
        "yaxis": {
         "anchor": "x",
         "domain": [
          0,
          1
         ],
         "nticks": 20,
         "title": {
          "text": "xwOBA"
         }
        }
       }
      }
     },
     "metadata": {},
     "output_type": "display_data"
    }
   ],
   "source": [
    "import plotly.graph_objects as go \n",
    "x = savant_df['wOBA']\n",
    "y = savant_df['xwOBA']\n",
    "\n",
    "\n",
    "fig = px.scatter(\n",
    "    savant_df, x=\"wOBA\", y=\"xwOBA\",\n",
    "    color='wRC+',\n",
    "    hover_name='Name',\n",
    "    hover_data=['Team', 'PA'],\n",
    "    # trendline='ols',\n",
    "    # trendline_color_override='purple',\n",
    "    color_continuous_scale=px.colors.diverging.Tropic,\n",
    "    width=1350, height=700,\n",
    "    title=f'wOBA vs xwOBA'\n",
    "    )\n",
    "fig.update_traces(marker_line_width=2, marker_size=10)\n",
    "fig.update_yaxes(nticks=20)\n",
    "fig.update_xaxes(nticks=40)\n",
    "\n",
    "# add regression and standard deviation lines\n",
    "#obtain m (slope) and b(intercept) of linear regression line\n",
    "# x=savant_df[\"wOBA\"]\n",
    "# y=savant_df[\"xwOBA\"]\n",
    "m, b = np.polyfit(x, y, 1)\n",
    "\n",
    "#add linear regression lines to scatterplot and\n",
    "x_linspace = np.linspace(0.22, x.max(), 100)\n",
    "y_sigma = y.std()\n",
    "\n",
    "\n",
    "# Adding regression line and std line\n",
    "# Note: I know I can add regression line with trendline='ols but want to add std lines too so easier to add regression line this way too\n",
    "def hex_to_rgba(h, alpha):\n",
    "    '''\n",
    "    converts color value in hex format to rgba format with alpha transparency\n",
    "    '''\n",
    "    return tuple([int(h.lstrip('#')[i:i+2], 16) for i in (0, 2, 4)] + [alpha])\n",
    "\n",
    "COLORS = px.colors.qualitative.D3\n",
    "hex_color =COLORS[0]\n",
    "\n",
    "fig.add_traces(go.Scatter(\n",
    "    x=x_linspace, \n",
    "    y=m*x_linspace+b, \n",
    "    showlegend=False,\n",
    "    name='regression',\n",
    "    line=dict(\n",
    "        color='rgba' + str(hex_to_rgba(h=hex_color, alpha=0.4)\n",
    "    ),\n",
    "    width=2,\n",
    "    dash='dash')\n",
    "))\n",
    "\n",
    "fig.add_traces(go.Scatter(\n",
    "    x=x_linspace, \n",
    "    y=m*x_linspace+(b+y_sigma), \n",
    "    showlegend=False,\n",
    "    name='+1 st_dev',\n",
    "    line=dict(\n",
    "        color='rgba' + str(hex_to_rgba(h=hex_color, alpha=0.4)\n",
    "    ),\n",
    "    width=2,\n",
    "    dash='dash')\n",
    "))\n",
    "\n",
    "fig.add_traces(go.Scatter(\n",
    "    x=x_linspace, \n",
    "    y=m*x_linspace+(b-y_sigma), \n",
    "    showlegend=False,\n",
    "    name='-1 st_dev',\n",
    "    line=dict(\n",
    "        color='rgba' + str(hex_to_rgba(h=hex_color, alpha=0.4)\n",
    "    ),\n",
    "    width=2,\n",
    "    dash='dash')\n",
    "))\n",
    "\n",
    "\n",
    "\n",
    "\n",
    "fig.show()\n",
    "\n"
   ]
  }
 ],
 "metadata": {
  "interpreter": {
   "hash": "e6b428eeda3673c7e49e56af820d0902d8cb06ad67f7949d7ea2ec9ed66f2e23"
  },
  "kernelspec": {
   "display_name": "Python 3.9.7 64-bit ('baseball_analytics_env': conda)",
   "language": "python",
   "name": "python3"
  },
  "language_info": {
   "codemirror_mode": {
    "name": "ipython",
    "version": 3
   },
   "file_extension": ".py",
   "mimetype": "text/x-python",
   "name": "python",
   "nbconvert_exporter": "python",
   "pygments_lexer": "ipython3",
   "version": "3.9.7"
  },
  "orig_nbformat": 4
 },
 "nbformat": 4,
 "nbformat_minor": 2
}
