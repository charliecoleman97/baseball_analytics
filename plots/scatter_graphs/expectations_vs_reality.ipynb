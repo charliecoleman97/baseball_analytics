{
 "cells": [
  {
   "cell_type": "markdown",
   "metadata": {},
   "source": [
    "## This notebook is looking at which batters overachieved and which underachieved in 2021\n",
    "#### We'll use the baseball savant expected stats compared to the actual stats so will use the baseball_savant.csv created in the savant_stats_table_maker.ipynb in utilities"
   ]
  },
  {
   "cell_type": "markdown",
   "metadata": {},
   "source": [
    "### Table preparation"
   ]
  },
  {
   "cell_type": "code",
   "execution_count": 37,
   "metadata": {},
   "outputs": [],
   "source": [
    "import pybaseball as pb\n",
    "import pandas as pd\n",
    "import plotly.express as px\n",
    "import plotly.graph_objects as go \n",
    "import plotly.io as pio\n",
    "import numpy as np\n",
    "from PIL import Image\n",
    "import math"
   ]
  },
  {
   "cell_type": "code",
   "execution_count": 38,
   "metadata": {},
   "outputs": [],
   "source": [
    "# Show all columns\n",
    "pd.set_option('display.max_columns', None)"
   ]
  },
  {
   "cell_type": "code",
   "execution_count": 39,
   "metadata": {},
   "outputs": [],
   "source": [
    "# importing baseball savant csv\n",
    "savant_df = pd.read_csv('/Users/charliecoleman/Desktop/Git/Repositories/baseball_analytics/csv_files/baseball_savant.csv')"
   ]
  },
  {
   "cell_type": "markdown",
   "metadata": {},
   "source": [
    "### Graph Prep \n",
    "#### making scatter and regression function "
   ]
  },
  {
   "cell_type": "code",
   "execution_count": 40,
   "metadata": {},
   "outputs": [],
   "source": [
    "def hex_to_rgba(h, alpha):\n",
    "    '''\n",
    "    converts color value in hex format to rgba format with alpha transparency\n",
    "    '''\n",
    "    return tuple([int(h.lstrip('#')[i:i+2], 16) for i in (0, 2, 4)] + [alpha])"
   ]
  },
  {
   "cell_type": "code",
   "execution_count": 41,
   "metadata": {},
   "outputs": [],
   "source": [
    "def scatter_with_regression(dataframe, x_val:str, y_val:str, colour_val:str, hover_name= \"Name\", hover_data_1=\"Team\", hover_data_2=\"PA\"):\n",
    "    # plot scatter points\n",
    "    fig = px.scatter(\n",
    "        dataframe, x=f\"{x_val}\", y=f\"{y_val}\",\n",
    "        color=colour_val,\n",
    "        hover_name=hover_name,\n",
    "        hover_data=[hover_data_1, hover_data_2],\n",
    "        color_continuous_scale=px.colors.diverging.Tropic,\n",
    "        width=1350, height=700,\n",
    "        title=f'{x_val} vs {y_val}'\n",
    "    )\n",
    "    # change marker style\n",
    "    fig.update_traces(marker_line_width=2, marker_size=10)\n",
    "    fig.update_yaxes(nticks=20)\n",
    "    fig.update_xaxes(nticks=40)\n",
    "    \n",
    "    # add regression and standard deviation lines\n",
    "    #obtain m (slope) and b(intercept) of linear regression line\n",
    "    x=dataframe[f\"{x_val}\"]\n",
    "    y=dataframe[f\"{y_val}\"]\n",
    "    m, b = np.polyfit(x, y, 1)\n",
    "\n",
    "    #add linear regression lines to scatterplot and\n",
    "    x_linspace = np.linspace(x.min(), x.max(), 100)\n",
    "    y_sigma = y.std()\n",
    "\n",
    "\n",
    "\n",
    "    COLORS = px.colors.qualitative.D3\n",
    "    hex_color =COLORS[0]\n",
    "\n",
    "    fig.add_traces(go.Scatter(\n",
    "        x=x_linspace, \n",
    "        y=m*x_linspace+b, \n",
    "        showlegend=False,\n",
    "        name='regression',\n",
    "        line=dict(\n",
    "            color='rgba' + str(hex_to_rgba(h=hex_color, alpha=0.4)\n",
    "        ),\n",
    "        width=2,\n",
    "        dash='dash')\n",
    "    ))\n",
    "\n",
    "    fig.add_traces(go.Scatter(\n",
    "        x=x_linspace, \n",
    "        y=m*x_linspace+(b+y_sigma), \n",
    "        showlegend=False,\n",
    "        name='+1 st_dev',\n",
    "        line=dict(\n",
    "            color='rgba' + str(hex_to_rgba(h=hex_color, alpha=0.4)\n",
    "        ),\n",
    "        width=2,\n",
    "        dash='dash')\n",
    "    ))\n",
    "\n",
    "    fig.add_traces(go.Scatter(\n",
    "        x=x_linspace, \n",
    "        y=m*x_linspace+(b-y_sigma), \n",
    "        showlegend=False,\n",
    "        name='-1 st_dev',\n",
    "        line=dict(\n",
    "            color='rgba' + str(hex_to_rgba(h=hex_color, alpha=0.4)\n",
    "        ),\n",
    "        width=2,\n",
    "        dash='dash')\n",
    "    ))\n",
    "\n",
    "    return fig\n",
    "\n",
    "\n"
   ]
  },
  {
   "cell_type": "code",
   "execution_count": 42,
   "metadata": {},
   "outputs": [],
   "source": [
    "def scatter(dataframe, x_val:str, y_val:str, colour_val:str, hover_name= \"Name\", hover_data_1=\"Team\", hover_data_2=\"PA\"):\n",
    "\n",
    "    fig1 = px.scatter(\n",
    "        dataframe, x=f\"{x_val}\", y=f\"{y_val}\",\n",
    "        color=colour_val,\n",
    "        hover_name=hover_name,\n",
    "        hover_data=[hover_data_1, hover_data_2],\n",
    "        color_continuous_scale=px.colors.diverging.Tropic,\n",
    "        width=1350, height=700,\n",
    "        title=f'{x_val} vs {y_val}'\n",
    "\n",
    "    )\n",
    "\n",
    "    fig1.update_traces(marker_line_width=2, marker_size=10)\n",
    "    fig1.update_yaxes(nticks=20)\n",
    "    fig1.update_xaxes(nticks=40)\n",
    "\n",
    "    # Means\n",
    "    fig1.add_hline(y=np.mean(dataframe[y_val]), line_dash=\"dot\", row=\"all\", col=\"all\",\n",
    "                annotation_text=f\"Mean {y_val}\", \n",
    "                annotation_position=\"bottom right\")\n",
    "\n",
    "    fig1.add_vline(x=np.mean(dataframe[x_val]), line_dash=\"dot\", row=\"all\", col=\"all\",\n",
    "                annotation_text=f\"Mean {x_val}\", \n",
    "                annotation_position=\"bottom right\")\n",
    "    return fig1\n"
   ]
  },
  {
   "cell_type": "code",
   "execution_count": 43,
   "metadata": {},
   "outputs": [],
   "source": [
    "def add_percentiles(dataframe:str, x_val:str, y_val:str, fig:str, upper_percentile:int, lower_percentile:int):\n",
    "    # Upper Percentile\n",
    "    fig.add_shape(\n",
    "        x0=dataframe[x_val].quantile(q=upper_percentile), \n",
    "        y0=dataframe[y_val].quantile(q=upper_percentile),\n",
    "        x1=dataframe[x_val].quantile(q=1),\n",
    "        y1=dataframe[y_val].quantile(q=1),\n",
    "        line=dict(color=\"LightSeaGreen\", width=2, dash=\"dot\"),\n",
    "        )\n",
    "    fig.add_annotation(\n",
    "        x=dataframe[x_val].quantile(q=upper_percentile),\n",
    "        y=dataframe[y_val].quantile(q=1),\n",
    "        text = f\"{math.trunc(upper_percentile*100)}th percentile\",\n",
    "        font=dict(\n",
    "            family=\"arial\",\n",
    "            size=15,\n",
    "            color=\"LightSeaGreen\"\n",
    "        )\n",
    "    )\n",
    "\n",
    "    # Lower Percentile\n",
    "    fig.add_shape(\n",
    "        x0=dataframe[x_val].quantile(q=0), \n",
    "        y0=dataframe[y_val].quantile(q=0),\n",
    "        x1=dataframe[x_val].quantile(q=lower_percentile),\n",
    "        y1=dataframe[y_val].quantile(q=lower_percentile),\n",
    "        line=dict(\n",
    "            color=\"#EF553B\", \n",
    "            width=2, \n",
    "            dash=\"dot\")\n",
    "        )\n",
    "\n",
    "    fig.add_annotation(\n",
    "    x=dataframe[x_val].quantile(q=0),\n",
    "    y=dataframe[y_val].quantile(q=lower_percentile),\n",
    "    text = f\"{math.trunc(lower_percentile*100)}th percentile\",\n",
    "    font=dict(\n",
    "        family=\"arial\",\n",
    "        size=15,\n",
    "        color=\"#EF553B\"\n",
    "    )\n",
    ")\n",
    "    return fig"
   ]
  },
  {
   "cell_type": "code",
   "execution_count": 66,
   "metadata": {},
   "outputs": [],
   "source": [
    "def add_annotation(fig, message, x_pos, y_pos, color='black',arrow=False):\n",
    "    print(arrow)\n",
    "    fig.add_annotation(\n",
    "    x=x_pos, \n",
    "    y=y_pos,\n",
    "    text=message,\n",
    "    showarrow=arrow,\n",
    "    font=dict(\n",
    "        family=\"arial\",\n",
    "        size=18,\n",
    "        color=color\n",
    "    )\n",
    "    )\n",
    "    return fig"
   ]
  },
  {
   "cell_type": "code",
   "execution_count": 45,
   "metadata": {},
   "outputs": [],
   "source": [
    "def add_shape(fig:str, x0, x1, y0, y1, shape_type=\"circle\", outline_color=\"purple\"):\n",
    "    fig.add_shape(\n",
    "        type=shape_type,\n",
    "        xref=\"x\", yref=\"y\",\n",
    "        x0=x0, y0=y0, x1=x1, y1=y1,\n",
    "        line=dict(color=outline_color, width=2, dash=\"dash\")\n",
    "    )\n",
    "    return fig"
   ]
  },
  {
   "cell_type": "markdown",
   "metadata": {},
   "source": [
    "### wOBA vs xwOBA"
   ]
  },
  {
   "cell_type": "code",
   "execution_count": 46,
   "metadata": {},
   "outputs": [],
   "source": [
    "wOBA_fig = scatter_with_regression(savant_df, 'wOBA', 'xwOBA', 'wRC+')"
   ]
  },
  {
   "cell_type": "markdown",
   "metadata": {},
   "source": [
    "### SLG vs xSLG"
   ]
  },
  {
   "cell_type": "code",
   "execution_count": 47,
   "metadata": {},
   "outputs": [],
   "source": [
    "slg_fig = scatter_with_regression(savant_df, 'SLG', 'xSLG', 'wRC+')"
   ]
  },
  {
   "cell_type": "markdown",
   "metadata": {},
   "source": [
    "### BA vs xBA"
   ]
  },
  {
   "cell_type": "code",
   "execution_count": 48,
   "metadata": {},
   "outputs": [],
   "source": [
    "ba_fig = scatter_with_regression(savant_df, 'BA', 'xBA', 'wRC+')"
   ]
  },
  {
   "cell_type": "markdown",
   "metadata": {},
   "source": [
    "#### These graphs don't show much deviation really so aren't that useful or show any surprising results\n",
    "#### The BA vs xBA is the best out of the three as it shows the most deviation from the regression line with players like Nicky Lopez showing to have over performed "
   ]
  }
 ],
 "metadata": {
  "interpreter": {
   "hash": "e6b428eeda3673c7e49e56af820d0902d8cb06ad67f7949d7ea2ec9ed66f2e23"
  },
  "kernelspec": {
   "display_name": "Python 3.9.7 64-bit ('baseball_analytics_env': conda)",
   "language": "python",
   "name": "python3"
  },
  "language_info": {
   "codemirror_mode": {
    "name": "ipython",
    "version": 3
   },
   "file_extension": ".py",
   "mimetype": "text/x-python",
   "name": "python",
   "nbconvert_exporter": "python",
   "pygments_lexer": "ipython3",
   "version": "3.9.7"
  },
  "orig_nbformat": 4
 },
 "nbformat": 4,
 "nbformat_minor": 2
}
