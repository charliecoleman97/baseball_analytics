{
 "cells": [
  {
   "cell_type": "markdown",
   "metadata": {},
   "source": [
    "## Plotting Percentile stats"
   ]
  },
  {
   "cell_type": "markdown",
   "metadata": {},
   "source": [
    "### Comparing xSLG_percentile to SprintSpeed_percentile to find the most fun players"
   ]
  },
  {
   "cell_type": "code",
   "execution_count": null,
   "metadata": {},
   "outputs": [],
   "source": [
    "slg_vs_sprint = scatter(savant_df,'xSLG_percentile', 'SprintSpeed_percentile', 'WAR')"
   ]
  },
  {
   "cell_type": "markdown",
   "metadata": {},
   "source": [
    "### Comparing Barrel% to Whiff% \n"
   ]
  },
  {
   "cell_type": "code",
   "execution_count": 5,
   "metadata": {},
   "outputs": [
    {
     "ename": "ModuleNotFoundError",
     "evalue": "No module named 'useful_code'",
     "output_type": "error",
     "traceback": [
      "\u001b[0;31m---------------------------------------------------------------------------\u001b[0m",
      "\u001b[0;31mModuleNotFoundError\u001b[0m                       Traceback (most recent call last)",
      "\u001b[0;32m/var/folders/6y/ylm_09j57zscgtclh5kxdx1h0000gn/T/ipykernel_10380/4141084888.py\u001b[0m in \u001b[0;36m<module>\u001b[0;34m\u001b[0m\n\u001b[0;32m----> 1\u001b[0;31m \u001b[0;32mfrom\u001b[0m \u001b[0museful_code\u001b[0m\u001b[0;34m.\u001b[0m\u001b[0mgraph_utilities\u001b[0m \u001b[0;32mimport\u001b[0m \u001b[0mGraphingUtilities\u001b[0m\u001b[0;34m\u001b[0m\u001b[0;34m\u001b[0m\u001b[0m\n\u001b[0m",
      "\u001b[0;31mModuleNotFoundError\u001b[0m: No module named 'useful_code'"
     ]
    }
   ],
   "source": [
    "from useful_code.graph_utilities import GraphingUtilities"
   ]
  },
  {
   "cell_type": "code",
   "execution_count": null,
   "metadata": {},
   "outputs": [],
   "source": [
    "fig = scatter(savant_df,'Barrel%_percentile', 'Whiff%_percentile', 'wRC+')\n",
    "\n",
    "# Adding the 75th and 25th percentile annotations \n",
    "fig = add_percentiles(savant_df,'Barrel%_percentile', 'Whiff%_percentile', fig, 0.75, 0.25)\n",
    "\n",
    "# Highlighting Kevin Keirmaier and Jackie Bradley Jr \n",
    "message='KK and JBJ are bad hitters'\n",
    "fig = add_annotation(fig, message, 15, -5, 'purple')\n",
    "\n",
    "# Circling the players that hit it hard bu miss a lot\n",
    "fig = add_shape(fig, 95, 101, -3, 7)\n",
    "message='Swinging hard and missing a lot'\n",
    "fig = add_annotation(fig, message, 95, -5, 'purple')\n",
    "\n",
    "# Circling the players that don't miss much but don't hit it hard either\n",
    "fig = add_shape(fig, -2, 5, 88, 102)\n",
    "message='Swinging hard and missing a lot'\n",
    "fig = add_annotation(fig, message, 10, 105, 'purple')\n",
    "\n",
    "# Adding Juan Soto Annotation\n",
    "message='Juan Soto is great'\n",
    "fig = add_annotation(fig, message, 84, 80, 'purple', True)"
   ]
  },
  {
   "cell_type": "code",
   "execution_count": null,
   "metadata": {},
   "outputs": [],
   "source": [
    "fig"
   ]
  },
  {
   "cell_type": "markdown",
   "metadata": {},
   "source": [
    "#### Pretty cool to see the correlation between swinging hard for more extra base hits at the expense of missing and striking out more is a better strategy than not swinging as hard and not striking out as much\n",
    "#### Also nice way of showing just how good Juan Soto is with 80th percentile Barrel% and Whiff%"
   ]
  },
  {
   "cell_type": "markdown",
   "metadata": {},
   "source": []
  }
 ],
 "metadata": {
  "interpreter": {
   "hash": "e6b428eeda3673c7e49e56af820d0902d8cb06ad67f7949d7ea2ec9ed66f2e23"
  },
  "kernelspec": {
   "display_name": "Python 3.9.7 64-bit ('baseball_analytics_env': conda)",
   "language": "python",
   "name": "python3"
  },
  "language_info": {
   "codemirror_mode": {
    "name": "ipython",
    "version": 3
   },
   "file_extension": ".py",
   "mimetype": "text/x-python",
   "name": "python",
   "nbconvert_exporter": "python",
   "pygments_lexer": "ipython3",
   "version": "3.9.7"
  },
  "orig_nbformat": 4
 },
 "nbformat": 4,
 "nbformat_minor": 2
}
