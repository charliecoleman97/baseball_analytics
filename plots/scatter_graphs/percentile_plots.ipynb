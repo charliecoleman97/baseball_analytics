{
 "cells": [
  {
   "cell_type": "markdown",
   "metadata": {},
   "source": [
    "## Plotting Percentile stats"
   ]
  },
  {
   "cell_type": "markdown",
   "metadata": {},
   "source": [
    "### Comparing xSLG_percentile to SprintSpeed_percentile to find the most fun players"
   ]
  },
  {
   "cell_type": "code",
   "execution_count": 22,
   "metadata": {},
   "outputs": [],
   "source": [
    "import pybaseball as pb\n",
    "import pandas as pd\n",
    "import plotly.express as px\n",
    "import plotly.graph_objects as go \n",
    "import plotly.io as pio\n",
    "import numpy as np\n",
    "from PIL import Image\n",
    "import math\n",
    "from graph_utilities import *"
   ]
  },
  {
   "cell_type": "code",
   "execution_count": 23,
   "metadata": {},
   "outputs": [],
   "source": [
    "savant_df = pd.read_csv('/Users/charliecoleman/Desktop/Git/Repositories/baseball_analytics/csv_files/baseball_savant.csv')"
   ]
  },
  {
   "cell_type": "code",
   "execution_count": 24,
   "metadata": {},
   "outputs": [],
   "source": [
    "slg_vs_sprint = scatter(savant_df,'xSLG_percentile', 'SprintSpeed_percentile', 'WAR')"
   ]
  },
  {
   "cell_type": "markdown",
   "metadata": {},
   "source": [
    "### Comparing Barrel% to Whiff% \n"
   ]
  },
  {
   "cell_type": "code",
   "execution_count": 25,
   "metadata": {},
   "outputs": [
    {
     "name": "stdout",
     "output_type": "stream",
     "text": [
      "False\n",
      "False\n",
      "False\n",
      "True\n"
     ]
    }
   ],
   "source": [
    "fig = scatter(savant_df,'Barrel%_percentile', 'Whiff%_percentile', 'wRC+')\n",
    "\n",
    "# Adding the 75th and 25th percentile annotations \n",
    "fig = add_percentiles(savant_df,'Barrel%_percentile', 'Whiff%_percentile', fig, 0.75, 0.25)\n",
    "\n",
    "# Highlighting Kevin Keirmaier and Jackie Bradley Jr \n",
    "message='KK and JBJ are bad hitters'\n",
    "fig = add_annotation(fig, message, 15, -5, 'purple')\n",
    "\n",
    "# Circling the players that hit it hard bu miss a lot\n",
    "fig = add_shape(fig, 95, 101, -3, 7)\n",
    "message='Swinging hard and missing a lot'\n",
    "fig = add_annotation(fig, message, 95, -5, 'purple')\n",
    "\n",
    "# Circling the players that don't miss much but don't hit it hard either\n",
    "fig = add_shape(fig, -2, 5, 88, 102)\n",
    "message='Not missing much but not hitting it hard'\n",
    "fig = add_annotation(fig, message, 10, 105, 'purple')\n",
    "\n",
    "# Adding Juan Soto Annotation\n",
    "message='Juan Soto is great'\n",
    "fig = add_annotation(fig, message, 84, 80, 'purple', True)"
   ]
  },
  {
   "cell_type": "code",
   "execution_count": 26,
   "metadata": {},
   "outputs": [
    {
     "data": {
      "application/vnd.plotly.v1+json": {
       "config": {
        "plotlyServerURL": "https://plot.ly"
       },
       "data": [
        {
         "customdata": [
          [
           "- - -",
           646
          ],
          [
           "TOR",
           698
          ],
          [
           "TOR",
           724
          ],
          [
           "WSN",
           654
          ],
          [
           "PHI",
           599
          ],
          [
           "CLE",
           636
          ],
          [
           "SDP",
           546
          ],
          [
           "HOU",
           640
          ],
          [
           "NYY",
           633
          ],
          [
           "- - -",
           526
          ],
          [
           "PIT",
           646
          ],
          [
           "SFG",
           549
          ],
          [
           "STL",
           537
          ],
          [
           "BAL",
           675
          ],
          [
           "HOU",
           678
          ],
          [
           "TBR",
           615
          ],
          [
           "BOS",
           603
          ],
          [
           "LAA",
           639
          ],
          [
           "OAK",
           673
          ],
          [
           "STL",
           679
          ],
          [
           "LAD",
           592
          ],
          [
           "TOR",
           690
          ],
          [
           "SFG",
           454
          ],
          [
           "HOU",
           567
          ],
          [
           "BOS",
           664
          ],
          [
           "LAD",
           501
          ],
          [
           "ATL",
           695
          ],
          [
           "CHW",
           616
          ],
          [
           "TBR",
           375
          ],
          [
           "KCR",
           565
          ],
          [
           "SDP",
           640
          ],
          [
           "PHI",
           537
          ],
          [
           "SDP",
           643
          ],
          [
           "CHW",
           551
          ],
          [
           "CIN",
           585
          ],
          [
           "ATL",
           686
          ],
          [
           "ATL",
           662
          ],
          [
           "ATL",
           360
          ],
          [
           "- - -",
           555
          ],
          [
           "STL",
           653
          ],
          [
           "LAD",
           612
          ],
          [
           "CIN",
           631
          ],
          [
           "BOS",
           585
          ],
          [
           "LAD",
           550
          ],
          [
           "TOR",
           595
          ],
          [
           "MIN",
           644
          ],
          [
           "HOU",
           598
          ],
          [
           "LAD",
           409
          ],
          [
           "- - -",
           638
          ],
          [
           "CHW",
           375
          ],
          [
           "- - -",
           547
          ],
          [
           "CIN",
           533
          ],
          [
           "- - -",
           586
          ],
          [
           "SEA",
           650
          ],
          [
           "NYM",
           386
          ],
          [
           "COL",
           595
          ],
          [
           "- - -",
           616
          ],
          [
           "HOU",
           605
          ],
          [
           "OAK",
           622
          ],
          [
           "- - -",
           639
          ],
          [
           "STL",
           401
          ],
          [
           "KCR",
           665
          ],
          [
           "OAK",
           448
          ],
          [
           "TBR",
           604
          ],
          [
           "SFG",
           381
          ],
          [
           "CIN",
           485
          ],
          [
           "ATL",
           653
          ],
          [
           "DET",
           626
          ],
          [
           "KCR",
           720
          ],
          [
           "- - -",
           471
          ],
          [
           "SEA",
           687
          ],
          [
           "LAD",
           582
          ],
          [
           "LAD",
           422
          ],
          [
           "NYM",
           637
          ],
          [
           "- - -",
           599
          ],
          [
           "ARI",
           374
          ],
          [
           "MIL",
           492
          ],
          [
           "BOS",
           634
          ],
          [
           "MIL",
           515
          ],
          [
           "TEX",
           622
          ],
          [
           "CHW",
           659
          ],
          [
           "MIL",
           445
          ],
          [
           "LAA",
           585
          ],
          [
           "MIA",
           539
          ],
          [
           "STL",
           619
          ],
          [
           "SEA",
           691
          ],
          [
           "OAK",
           397
          ],
          [
           "CLE",
           588
          ],
          [
           "DET",
           671
          ],
          [
           "NYM",
           524
          ],
          [
           "MIL",
           570
          ],
          [
           "NYY",
           579
          ],
          [
           "OAK",
           625
          ],
          [
           "PIT",
           427
          ],
          [
           "TBR",
           501
          ],
          [
           "COL",
           596
          ],
          [
           "SEA",
           670
          ],
          [
           "TBR",
           390
          ],
          [
           "PHI",
           567
          ],
          [
           "NYY",
           679
          ],
          [
           "BAL",
           529
          ],
          [
           "- - -",
           555
          ],
          [
           "TOR",
           342
          ],
          [
           "PHI",
           443
          ],
          [
           "TEX",
           677
          ],
          [
           "STL",
           691
          ],
          [
           "CHC",
           375
          ],
          [
           "COL",
           547
          ],
          [
           "- - -",
           637
          ],
          [
           "SFG",
           532
          ],
          [
           "MIN",
           543
          ],
          [
           "HOU",
           508
          ],
          [
           "NYM",
           505
          ],
          [
           "OAK",
           378
          ],
          [
           "CHC",
           483
          ],
          [
           "KCR",
           538
          ],
          [
           "SDP",
           527
          ],
          [
           "HOU",
           400
          ],
          [
           "BOS",
           604
          ],
          [
           "CIN",
           402
          ],
          [
           "TBR",
           591
          ],
          [
           "CHW",
           474
          ],
          [
           "- - -",
           584
          ],
          [
           "ARI",
           550
          ],
          [
           "KCR",
           528
          ],
          [
           "DET",
           461
          ],
          [
           "MIN",
           490
          ],
          [
           "BOS",
           572
          ],
          [
           "MIN",
           479
          ],
          [
           "TBR",
           541
          ],
          [
           "NYY",
           516
          ],
          [
           "WSN",
           349
          ],
          [
           "ARI",
           359
          ],
          [
           "SFG",
           381
          ],
          [
           "- - -",
           394
          ],
          [
           "COL",
           371
          ],
          [
           "COL",
           415
          ],
          [
           "STL",
           402
          ],
          [
           "- - -",
           576
          ],
          [
           "TEX",
           642
          ],
          [
           "CIN",
           529
          ],
          [
           "MIA",
           507
          ],
          [
           "- - -",
           375
          ],
          [
           "DET",
           674
          ],
          [
           "MIL",
           475
          ],
          [
           "COL",
           582
          ],
          [
           "- - -",
           558
          ],
          [
           "PIT",
           396
          ],
          [
           "NYY",
           440
          ],
          [
           "SDP",
           561
          ],
          [
           "TOR",
           541
          ],
          [
           "CIN",
           454
          ],
          [
           "NYY",
           461
          ],
          [
           "TBR",
           464
          ],
          [
           "BAL",
           586
          ],
          [
           "SDP",
           500
          ],
          [
           "WSN",
           568
          ],
          [
           "CHC",
           535
          ],
          [
           "CLE",
           466
          ],
          [
           "MIA",
           510
          ],
          [
           "PHI",
           574
          ],
          [
           "SFG",
           436
          ],
          [
           "CIN",
           388
          ],
          [
           "- - -",
           375
          ],
          [
           "- - -",
           400
          ],
          [
           "TEX",
           511
          ],
          [
           "CLE",
           348
          ],
          [
           "ARI",
           538
          ],
          [
           "PHI",
           492
          ],
          [
           "SFG",
           344
          ],
          [
           "OAK",
           541
          ],
          [
           "- - -",
           511
          ],
          [
           "DET",
           381
          ],
          [
           "STL",
           473
          ],
          [
           "PHI",
           377
          ],
          [
           "NYY",
           442
          ],
          [
           "LAD",
           381
          ],
          [
           "- - -",
           412
          ],
          [
           "OAK",
           512
          ],
          [
           "NYM",
           479
          ],
          [
           "- - -",
           365
          ],
          [
           "NYM",
           347
          ],
          [
           "BOS",
           453
          ],
          [
           "CIN",
           574
          ],
          [
           "NYY",
           361
          ],
          [
           "BAL",
           438
          ],
          [
           "BAL",
           616
          ],
          [
           "- - -",
           481
          ],
          [
           "PHI",
           344
          ],
          [
           "BOS",
           498
          ],
          [
           "NYM",
           426
          ],
          [
           "ATL",
           347
          ],
          [
           "COL",
           494
          ],
          [
           "NYM",
           412
          ],
          [
           "TOR",
           545
          ],
          [
           "MIN",
           532
          ],
          [
           "WSN",
           346
          ],
          [
           "COL",
           533
          ],
          [
           "CHW",
           469
          ],
          [
           "SEA",
           378
          ],
          [
           "ARI",
           445
          ],
          [
           "LAA",
           665
          ],
          [
           "PIT",
           554
          ],
          [
           "LAA",
           362
          ],
          [
           "ARI",
           545
          ],
          [
           "CHC",
           353
          ],
          [
           "HOU",
           426
          ],
          [
           "SEA",
           377
          ],
          [
           "LAA",
           373
          ],
          [
           "ARI",
           473
          ],
          [
           "SDP",
           565
          ],
          [
           "- - -",
           352
          ],
          [
           "PHI",
           408
          ],
          [
           "CLE",
           361
          ],
          [
           "BAL",
           419
          ],
          [
           "KCR",
           543
          ],
          [
           "- - -",
           602
          ],
          [
           "PIT",
           359
          ],
          [
           "PHI",
           417
          ],
          [
           "KCR",
           659
          ],
          [
           "BAL",
           403
          ],
          [
           "DET",
           450
          ],
          [
           "MIN",
           451
          ],
          [
           "WSN",
           369
          ],
          [
           "NYM",
           493
          ],
          [
           "DET",
           526
          ],
          [
           "SDP",
           356
          ],
          [
           "SDP",
           412
          ],
          [
           "SEA",
           377
          ],
          [
           "MIL",
           428
          ],
          [
           "LAD",
           350
          ],
          [
           "PIT",
           382
          ]
         ],
         "hovertemplate": "<b>%{hovertext}</b><br><br>Barrel%_percentile=%{x}<br>Whiff%_percentile=%{y}<br>Team=%{customdata[0]}<br>PA=%{customdata[1]}<br>wRC+=%{marker.color}<extra></extra>",
         "hovertext": [
          "Trea Turner",
          "Vladimir Guerrero Jr.",
          "Marcus Semien",
          "Juan Soto",
          "Bryce Harper",
          "Jose Ramirez",
          "Fernando Tatis Jr.",
          "Carlos Correa",
          "Aaron Judge",
          "Starling Marte",
          "Bryan Reynolds",
          "Brandon Crawford",
          "Tyler O'Neill",
          "Cedric Mullins",
          "Jose Altuve",
          "Brandon Lowe",
          "Xander Bogaerts",
          "Shohei Ohtani",
          "Matt Olson",
          "Paul Goldschmidt",
          "Max Muncy",
          "Bo Bichette",
          "Buster Posey",
          "Kyle Tucker",
          "Rafael Devers",
          "Will Smith",
          "Freddie Freeman",
          "Yoan Moncada",
          "Mike Zunino",
          "Nicky Lopez",
          "Manny Machado",
          "J.T. Realmuto",
          "Jake Cronenworth",
          "Tim Anderson",
          "Nick Castellanos",
          "Ozzie Albies",
          "Austin Riley",
          "Ronald Acuna Jr.",
          "Willy Adames",
          "Nolan Arenado",
          "Justin Turner",
          "Jonathan India",
          "Enrique Hernandez",
          "Mookie Betts",
          "Teoscar Hernandez",
          "Jorge Polanco",
          "Yordan Alvarez",
          "Corey Seager",
          "Myles Straw",
          "Yasmani Grandal",
          "Javier Baez",
          "Joey Votto",
          "Kris Bryant",
          "Ty France",
          "Brandon Nimmo",
          "Trevor Story",
          "Joey Gallo",
          "Yuli Gurriel",
          "Matt Chapman",
          "Adam Frazier",
          "Harrison Bader",
          "Salvador Perez",
          "Sean Murphy",
          "Randy Arozarena",
          "Brandon Belt",
          "Jesse Winker",
          "Dansby Swanson",
          "Jeimer Candelario",
          "Whit Merrifield",
          "Kyle Schwarber",
          "J.P. Crawford",
          "Chris Taylor",
          "AJ Pollock",
          "Pete Alonso",
          "Eduardo Escobar",
          "Ketel Marte",
          "Kolten Wong",
          "J.D. Martinez",
          "Avisail Garcia",
          "Adolis Garcia",
          "Jose Abreu",
          "Omar Narvaez",
          "Jared Walsh",
          "Miguel Rojas",
          "Dylan Carlson",
          "Mitch Haniger",
          "Tony Kemp",
          "Amed Rosario",
          "Robbie Grossman",
          "Francisco Lindor",
          "Luis Urias",
          "Giancarlo Stanton",
          "Mark Canha",
          "Jacob Stallings",
          "Joey Wendle",
          "Ryan McMahon",
          "Kyle Seager",
          "Kevin Kiermaier",
          "Jean Segura",
          "DJ LeMahieu",
          "Austin Hays",
          "Adam Duvall",
          "George Springer",
          "Rhys Hoskins",
          "Isiah Kiner-Falefa",
          "Tommy Edman",
          "Patrick Wisdom",
          "C.J. Cron",
          "Cesar Hernandez",
          "Mike Yastrzemski",
          "Josh Donaldson",
          "Michael Brantley",
          "Jonathan Villar",
          "Ramon Laureano",
          "Willson Contreras",
          "Andrew Benintendi",
          "Trent Grisham",
          "Alex Bregman",
          "Alex Verdugo",
          "Tyler Stephenson",
          "Austin Meadows",
          "Leury Garcia",
          "Nelson Cruz",
          "Josh Rojas",
          "Michael A. Taylor",
          "Akil Baddoo",
          "Max Kepler",
          "Hunter Renfroe",
          "Luis Arraez",
          "Yandy Diaz",
          "Gleyber Torres",
          "Alcides Escobar",
          "Carson Kelly",
          "LaMonte Wade Jr.",
          "Freddy Galvis",
          "Elias Diaz",
          "Brendan Rodgers",
          "Paul DeJong",
          "Anthony Rizzo",
          "Nathaniel Lowe",
          "Kyle Farmer",
          "Jazz Chisholm Jr.",
          "Yan Gomes",
          "Jonathan Schoop",
          "Christian Yelich",
          "Charlie Blackmon",
          "Josh Harrison",
          "Ke'Bryan Hayes",
          "Gary Sanchez",
          "Tommy Pham",
          "Lourdes Gurriel Jr.",
          "Tyler Naquin",
          "Brett Gardner",
          "Manuel Margot",
          "Ryan Mountcastle",
          "Wil Myers",
          "Josh Bell",
          "Ian Happ",
          "Franmil Reyes",
          "Jesus Aguilar",
          "Andrew McCutchen",
          "Wilmer Flores",
          "Tucker Barnhart",
          "Abraham Toro",
          "Ben Gamel",
          "Nick Solak",
          "Bradley Zimmer",
          "David Peralta",
          "Odubel Herrera",
          "Donovan Solano",
          "Elvis Andrus",
          "Jose Iglesias",
          "Eric Haase",
          "Yadier Molina",
          "Brad Miller",
          "Gio Urshela",
          "Gavin Lux",
          "Eddie Rosario",
          "Jed Lowrie",
          "Michael Conforto",
          "Corey Dickerson",
          "Kevin Pillar",
          "Bobby Dalbec",
          "Eugenio Suarez",
          "Rougned Odor",
          "Anthony Santander",
          "Trey Mancini",
          "Joc Pederson",
          "Ronald Torreyes",
          "Christian Vazquez",
          "Jeff McNeil",
          "Guillermo Heredia",
          "Garrett Hampson",
          "James McCann",
          "Randal Grichuk",
          "Miguel Sano",
          "Starlin Castro",
          "Raimel Tapia",
          "Andrew Vaughn",
          "Luis Torrens",
          "Christian Walker",
          "David Fletcher",
          "Kevin Newman",
          "Justin Upton",
          "Pavin Smith",
          "Jason Heyward",
          "Martin Maldonado",
          "Dylan Moore",
          "Phil Gosselin",
          "Nick Ahmed",
          "Eric Hosmer",
          "Asdrubal Cabrera",
          "Didi Gregorius",
          "Harold Ramirez",
          "Pedro Severino",
          "Hunter Dozier",
          "Jorge Soler",
          "Colin Moran",
          "Alec Bohm",
          "Carlos Santana",
          "Maikel Franco",
          "Willi Castro",
          "Andrelton Simmons",
          "Victor Robles",
          "Dominic Smith",
          "Miguel Cabrera",
          "Victor Caratini",
          "Jurickson Profar",
          "Jarred Kelenic",
          "Jackie Bradley Jr.",
          "Cody Bellinger",
          "Gregory Polanco"
         ],
         "legendgroup": "",
         "marker": {
          "color": [
           142,
           166,
           131,
           163,
           170,
           137,
           156,
           134,
           148,
           134,
           142,
           139,
           145,
           136,
           130,
           137,
           130,
           152,
           146,
           138,
           140,
           122,
           140,
           147,
           134,
           130,
           135,
           122,
           134,
           106,
           122,
           108,
           116,
           120,
           140,
           107,
           135,
           157,
           119,
           113,
           127,
           122,
           110,
           131,
           132,
           122,
           138,
           147,
           98,
           159,
           116,
           140,
           123,
           129,
           137,
           100,
           123,
           134,
           101,
           114,
           110,
           127,
           99,
           128,
           158,
           148,
           98,
           119,
           91,
           145,
           103,
           113,
           137,
           133,
           107,
           139,
           109,
           128,
           115,
           100,
           126,
           99,
           127,
           97,
           113,
           120,
           127,
           99,
           114,
           103,
           111,
           137,
           115,
           95,
           106,
           95,
           99,
           101,
           109,
           100,
           106,
           103,
           140,
           127,
           85,
           91,
           115,
           127,
           90,
           106,
           124,
           123,
           105,
           111,
           109,
           106,
           103,
           115,
           107,
           111,
           113,
           98,
           122,
           102,
           77,
           108,
           95,
           114,
           103,
           111,
           94,
           100,
           103,
           117,
           90,
           92,
           100,
           86,
           112,
           115,
           91,
           98,
           93,
           105,
           101,
           94,
           103,
           88,
           99,
           102,
           107,
           110,
           93,
           95,
           111,
           109,
           118,
           103,
           125,
           112,
           107,
           113,
           81,
           95,
           101,
           89,
           89,
           93,
           93,
           105,
           72,
           91,
           100,
           83,
           105,
           96,
           91,
           98,
           100,
           106,
           100,
           90,
           107,
           85,
           83,
           92,
           105,
           94,
           68,
           77,
           93,
           79,
           65,
           80,
           85,
           110,
           90,
           76,
           94,
           101,
           87,
           70,
           54,
           92,
           96,
           68,
           63,
           74,
           87,
           64,
           102,
           82,
           68,
           90,
           87,
           82,
           101,
           98,
           75,
           83,
           62,
           69,
           56,
           67,
           86,
           92,
           72,
           85,
           73,
           35,
           48,
           71
          ],
          "coloraxis": "coloraxis",
          "line": {
           "width": 2
          },
          "size": 10,
          "symbol": "circle"
         },
         "mode": "markers",
         "name": "",
         "orientation": "v",
         "showlegend": false,
         "type": "scatter",
         "x": [
          40,
          90,
          65,
          84,
          97,
          72,
          99,
          60,
          96,
          49,
          67,
          77,
          97,
          47,
          30,
          87,
          60,
          100,
          83,
          86,
          91,
          64,
          47,
          76,
          89,
          72,
          77,
          48,
          100,
          1,
          84,
          52,
          36,
          44,
          70,
          59,
          83,
          99,
          76,
          33,
          45,
          62,
          49,
          44,
          86,
          65,
          93,
          82,
          3,
          84,
          85,
          94,
          68,
          33,
          13,
          64,
          97,
          10,
          87,
          2,
          36,
          93,
          75,
          48,
          95,
          74,
          76,
          55,
          12,
          94,
          6,
          65,
          74,
          89,
          53,
          57,
          25,
          80,
          80,
          77,
          65,
          21,
          75,
          8,
          33,
          82,
          2,
          8,
          42,
          48,
          58,
          91,
          38,
          17,
          17,
          39,
          81,
          13,
          27,
          12,
          59,
          92,
          90,
          94,
          3,
          15,
          91,
          77,
          33,
          68,
          96,
          26,
          40,
          71,
          74,
          53,
          23,
          28,
          33,
          24,
          53,
          10,
          86,
          15,
          32,
          55,
          70,
          84,
          5,
          36,
          44,
          9,
          51,
          70,
          19,
          45,
          29,
          70,
          43,
          61,
          15,
          58,
          55,
          32,
          39,
          36,
          16,
          21,
          87,
          67,
          62,
          68,
          10,
          21,
          79,
          41,
          55,
          72,
          94,
          51,
          58,
          28,
          13,
          40,
          45,
          31,
          55,
          20,
          18,
          41,
          4,
          10,
          87,
          19,
          81,
          46,
          12,
          27,
          61,
          60,
          9,
          39,
          98,
          90,
          51,
          49,
          68,
          61,
          0,
          6,
          15,
          13,
          18,
          29,
          51,
          96,
          24,
          4,
          72,
          68,
          30,
          0,
          3,
          79,
          19,
          18,
          26,
          52,
          10,
          6,
          26,
          25,
          5,
          29,
          42,
          55,
          80,
          43,
          32,
          33,
          21,
          23,
          1,
          7,
          31,
          46,
          33,
          7,
          65,
          20,
          38,
          62
         ],
         "xaxis": "x",
         "y": [
          64,
          28,
          72,
          80,
          11,
          94,
          3,
          74,
          23,
          51,
          56,
          21,
          4,
          77,
          92,
          7,
          70,
          3,
          64,
          45,
          61,
          69,
          56,
          77,
          29,
          74,
          74,
          26,
          1,
          93,
          64,
          33,
          97,
          39,
          15,
          45,
          25,
          30,
          9,
          86,
          88,
          43,
          60,
          91,
          11,
          81,
          68,
          26,
          97,
          47,
          0,
          20,
          27,
          84,
          68,
          31,
          1,
          97,
          8,
          98,
          48,
          6,
          28,
          10,
          26,
          79,
          16,
          61,
          87,
          25,
          93,
          8,
          53,
          45,
          56,
          90,
          85,
          22,
          6,
          6,
          29,
          59,
          39,
          82,
          27,
          17,
          93,
          47,
          71,
          63,
          67,
          9,
          72,
          62,
          44,
          22,
          18,
          13,
          90,
          96,
          49,
          21,
          33,
          37,
          95,
          94,
          0,
          31,
          70,
          53,
          30,
          99,
          16,
          33,
          5,
          68,
          71,
          97,
          88,
          83,
          51,
          52,
          14,
          60,
          13,
          16,
          64,
          39,
          100,
          82,
          38,
          71,
          44,
          80,
          76,
          55,
          64,
          27,
          75,
          60,
          80,
          17,
          76,
          48,
          45,
          79,
          85,
          77,
          20,
          59,
          53,
          58,
          86,
          77,
          12,
          12,
          55,
          10,
          6,
          39,
          39,
          92,
          39,
          89,
          33,
          47,
          3,
          73,
          81,
          77,
          82,
          84,
          4,
          56,
          13,
          44,
          66,
          83,
          53,
          62,
          52,
          49,
          2,
          19,
          24,
          43,
          18,
          38,
          96,
          89,
          87,
          33,
          61,
          33,
          63,
          2,
          70,
          95,
          49,
          31,
          32,
          100,
          99,
          13,
          90,
          58,
          24,
          39,
          74,
          36,
          66,
          42,
          49,
          56,
          19,
          10,
          22,
          35,
          36,
          69,
          55,
          21,
          91,
          43,
          31,
          42,
          42,
          87,
          35,
          5,
          17,
          15
         ],
         "yaxis": "y"
        }
       ],
       "layout": {
        "annotations": [
         {
          "showarrow": false,
          "text": "Mean Whiff%_percentile",
          "x": 1,
          "xanchor": "right",
          "xref": "x domain",
          "y": 49.71120689655172,
          "yanchor": "top",
          "yref": "y"
         },
         {
          "showarrow": false,
          "text": "Mean Barrel%_percentile",
          "x": 49.71551724137931,
          "xanchor": "left",
          "xref": "x",
          "y": 0,
          "yanchor": "bottom",
          "yref": "y domain"
         },
         {
          "font": {
           "color": "LightSeaGreen",
           "family": "arial",
           "size": 15
          },
          "text": "75th percentile",
          "x": 75,
          "y": 100
         },
         {
          "font": {
           "color": "#EF553B",
           "family": "arial",
           "size": 15
          },
          "text": "25th percentile",
          "x": 0,
          "y": 25
         },
         {
          "font": {
           "color": "purple",
           "family": "arial",
           "size": 18
          },
          "showarrow": false,
          "text": "KK and JBJ are bad hitters",
          "x": 15,
          "y": -5
         },
         {
          "font": {
           "color": "purple",
           "family": "arial",
           "size": 18
          },
          "showarrow": false,
          "text": "Swinging hard and missing a lot",
          "x": 95,
          "y": -5
         },
         {
          "font": {
           "color": "purple",
           "family": "arial",
           "size": 18
          },
          "showarrow": false,
          "text": "Not missing much but not hitting it hard",
          "x": 10,
          "y": 105
         },
         {
          "font": {
           "color": "purple",
           "family": "arial",
           "size": 18
          },
          "showarrow": true,
          "text": "Juan Soto is great",
          "x": 84,
          "y": 80
         }
        ],
        "coloraxis": {
         "colorbar": {
          "title": {
           "text": "wRC+"
          }
         },
         "colorscale": [
          [
           0,
           "rgb(0, 155, 158)"
          ],
          [
           0.16666666666666666,
           "rgb(66, 183, 185)"
          ],
          [
           0.3333333333333333,
           "rgb(167, 211, 212)"
          ],
          [
           0.5,
           "rgb(241, 241, 241)"
          ],
          [
           0.6666666666666666,
           "rgb(228, 193, 217)"
          ],
          [
           0.8333333333333334,
           "rgb(214, 145, 193)"
          ],
          [
           1,
           "rgb(199, 93, 171)"
          ]
         ]
        },
        "height": 700,
        "legend": {
         "tracegroupgap": 0
        },
        "shapes": [
         {
          "line": {
           "dash": "dot"
          },
          "type": "line",
          "x0": 0,
          "x1": 1,
          "xref": "x domain",
          "y0": 49.71120689655172,
          "y1": 49.71120689655172,
          "yref": "y"
         },
         {
          "line": {
           "dash": "dot"
          },
          "type": "line",
          "x0": 49.71551724137931,
          "x1": 49.71551724137931,
          "xref": "x",
          "y0": 0,
          "y1": 1,
          "yref": "y domain"
         },
         {
          "line": {
           "color": "LightSeaGreen",
           "dash": "dot",
           "width": 2
          },
          "x0": 75,
          "x1": 100,
          "y0": 74.25,
          "y1": 100
         },
         {
          "line": {
           "color": "#EF553B",
           "dash": "dot",
           "width": 2
          },
          "x0": 0,
          "x1": 25,
          "y0": 0,
          "y1": 25
         },
         {
          "line": {
           "color": "purple",
           "dash": "dash",
           "width": 2
          },
          "type": "circle",
          "x0": 95,
          "x1": 101,
          "xref": "x",
          "y0": -3,
          "y1": 7,
          "yref": "y"
         },
         {
          "line": {
           "color": "purple",
           "dash": "dash",
           "width": 2
          },
          "type": "circle",
          "x0": -2,
          "x1": 5,
          "xref": "x",
          "y0": 88,
          "y1": 102,
          "yref": "y"
         }
        ],
        "template": {
         "data": {
          "bar": [
           {
            "error_x": {
             "color": "#2a3f5f"
            },
            "error_y": {
             "color": "#2a3f5f"
            },
            "marker": {
             "line": {
              "color": "#E5ECF6",
              "width": 0.5
             },
             "pattern": {
              "fillmode": "overlay",
              "size": 10,
              "solidity": 0.2
             }
            },
            "type": "bar"
           }
          ],
          "barpolar": [
           {
            "marker": {
             "line": {
              "color": "#E5ECF6",
              "width": 0.5
             },
             "pattern": {
              "fillmode": "overlay",
              "size": 10,
              "solidity": 0.2
             }
            },
            "type": "barpolar"
           }
          ],
          "carpet": [
           {
            "aaxis": {
             "endlinecolor": "#2a3f5f",
             "gridcolor": "white",
             "linecolor": "white",
             "minorgridcolor": "white",
             "startlinecolor": "#2a3f5f"
            },
            "baxis": {
             "endlinecolor": "#2a3f5f",
             "gridcolor": "white",
             "linecolor": "white",
             "minorgridcolor": "white",
             "startlinecolor": "#2a3f5f"
            },
            "type": "carpet"
           }
          ],
          "choropleth": [
           {
            "colorbar": {
             "outlinewidth": 0,
             "ticks": ""
            },
            "type": "choropleth"
           }
          ],
          "contour": [
           {
            "colorbar": {
             "outlinewidth": 0,
             "ticks": ""
            },
            "colorscale": [
             [
              0,
              "#0d0887"
             ],
             [
              0.1111111111111111,
              "#46039f"
             ],
             [
              0.2222222222222222,
              "#7201a8"
             ],
             [
              0.3333333333333333,
              "#9c179e"
             ],
             [
              0.4444444444444444,
              "#bd3786"
             ],
             [
              0.5555555555555556,
              "#d8576b"
             ],
             [
              0.6666666666666666,
              "#ed7953"
             ],
             [
              0.7777777777777778,
              "#fb9f3a"
             ],
             [
              0.8888888888888888,
              "#fdca26"
             ],
             [
              1,
              "#f0f921"
             ]
            ],
            "type": "contour"
           }
          ],
          "contourcarpet": [
           {
            "colorbar": {
             "outlinewidth": 0,
             "ticks": ""
            },
            "type": "contourcarpet"
           }
          ],
          "heatmap": [
           {
            "colorbar": {
             "outlinewidth": 0,
             "ticks": ""
            },
            "colorscale": [
             [
              0,
              "#0d0887"
             ],
             [
              0.1111111111111111,
              "#46039f"
             ],
             [
              0.2222222222222222,
              "#7201a8"
             ],
             [
              0.3333333333333333,
              "#9c179e"
             ],
             [
              0.4444444444444444,
              "#bd3786"
             ],
             [
              0.5555555555555556,
              "#d8576b"
             ],
             [
              0.6666666666666666,
              "#ed7953"
             ],
             [
              0.7777777777777778,
              "#fb9f3a"
             ],
             [
              0.8888888888888888,
              "#fdca26"
             ],
             [
              1,
              "#f0f921"
             ]
            ],
            "type": "heatmap"
           }
          ],
          "heatmapgl": [
           {
            "colorbar": {
             "outlinewidth": 0,
             "ticks": ""
            },
            "colorscale": [
             [
              0,
              "#0d0887"
             ],
             [
              0.1111111111111111,
              "#46039f"
             ],
             [
              0.2222222222222222,
              "#7201a8"
             ],
             [
              0.3333333333333333,
              "#9c179e"
             ],
             [
              0.4444444444444444,
              "#bd3786"
             ],
             [
              0.5555555555555556,
              "#d8576b"
             ],
             [
              0.6666666666666666,
              "#ed7953"
             ],
             [
              0.7777777777777778,
              "#fb9f3a"
             ],
             [
              0.8888888888888888,
              "#fdca26"
             ],
             [
              1,
              "#f0f921"
             ]
            ],
            "type": "heatmapgl"
           }
          ],
          "histogram": [
           {
            "marker": {
             "pattern": {
              "fillmode": "overlay",
              "size": 10,
              "solidity": 0.2
             }
            },
            "type": "histogram"
           }
          ],
          "histogram2d": [
           {
            "colorbar": {
             "outlinewidth": 0,
             "ticks": ""
            },
            "colorscale": [
             [
              0,
              "#0d0887"
             ],
             [
              0.1111111111111111,
              "#46039f"
             ],
             [
              0.2222222222222222,
              "#7201a8"
             ],
             [
              0.3333333333333333,
              "#9c179e"
             ],
             [
              0.4444444444444444,
              "#bd3786"
             ],
             [
              0.5555555555555556,
              "#d8576b"
             ],
             [
              0.6666666666666666,
              "#ed7953"
             ],
             [
              0.7777777777777778,
              "#fb9f3a"
             ],
             [
              0.8888888888888888,
              "#fdca26"
             ],
             [
              1,
              "#f0f921"
             ]
            ],
            "type": "histogram2d"
           }
          ],
          "histogram2dcontour": [
           {
            "colorbar": {
             "outlinewidth": 0,
             "ticks": ""
            },
            "colorscale": [
             [
              0,
              "#0d0887"
             ],
             [
              0.1111111111111111,
              "#46039f"
             ],
             [
              0.2222222222222222,
              "#7201a8"
             ],
             [
              0.3333333333333333,
              "#9c179e"
             ],
             [
              0.4444444444444444,
              "#bd3786"
             ],
             [
              0.5555555555555556,
              "#d8576b"
             ],
             [
              0.6666666666666666,
              "#ed7953"
             ],
             [
              0.7777777777777778,
              "#fb9f3a"
             ],
             [
              0.8888888888888888,
              "#fdca26"
             ],
             [
              1,
              "#f0f921"
             ]
            ],
            "type": "histogram2dcontour"
           }
          ],
          "mesh3d": [
           {
            "colorbar": {
             "outlinewidth": 0,
             "ticks": ""
            },
            "type": "mesh3d"
           }
          ],
          "parcoords": [
           {
            "line": {
             "colorbar": {
              "outlinewidth": 0,
              "ticks": ""
             }
            },
            "type": "parcoords"
           }
          ],
          "pie": [
           {
            "automargin": true,
            "type": "pie"
           }
          ],
          "scatter": [
           {
            "marker": {
             "colorbar": {
              "outlinewidth": 0,
              "ticks": ""
             }
            },
            "type": "scatter"
           }
          ],
          "scatter3d": [
           {
            "line": {
             "colorbar": {
              "outlinewidth": 0,
              "ticks": ""
             }
            },
            "marker": {
             "colorbar": {
              "outlinewidth": 0,
              "ticks": ""
             }
            },
            "type": "scatter3d"
           }
          ],
          "scattercarpet": [
           {
            "marker": {
             "colorbar": {
              "outlinewidth": 0,
              "ticks": ""
             }
            },
            "type": "scattercarpet"
           }
          ],
          "scattergeo": [
           {
            "marker": {
             "colorbar": {
              "outlinewidth": 0,
              "ticks": ""
             }
            },
            "type": "scattergeo"
           }
          ],
          "scattergl": [
           {
            "marker": {
             "colorbar": {
              "outlinewidth": 0,
              "ticks": ""
             }
            },
            "type": "scattergl"
           }
          ],
          "scattermapbox": [
           {
            "marker": {
             "colorbar": {
              "outlinewidth": 0,
              "ticks": ""
             }
            },
            "type": "scattermapbox"
           }
          ],
          "scatterpolar": [
           {
            "marker": {
             "colorbar": {
              "outlinewidth": 0,
              "ticks": ""
             }
            },
            "type": "scatterpolar"
           }
          ],
          "scatterpolargl": [
           {
            "marker": {
             "colorbar": {
              "outlinewidth": 0,
              "ticks": ""
             }
            },
            "type": "scatterpolargl"
           }
          ],
          "scatterternary": [
           {
            "marker": {
             "colorbar": {
              "outlinewidth": 0,
              "ticks": ""
             }
            },
            "type": "scatterternary"
           }
          ],
          "surface": [
           {
            "colorbar": {
             "outlinewidth": 0,
             "ticks": ""
            },
            "colorscale": [
             [
              0,
              "#0d0887"
             ],
             [
              0.1111111111111111,
              "#46039f"
             ],
             [
              0.2222222222222222,
              "#7201a8"
             ],
             [
              0.3333333333333333,
              "#9c179e"
             ],
             [
              0.4444444444444444,
              "#bd3786"
             ],
             [
              0.5555555555555556,
              "#d8576b"
             ],
             [
              0.6666666666666666,
              "#ed7953"
             ],
             [
              0.7777777777777778,
              "#fb9f3a"
             ],
             [
              0.8888888888888888,
              "#fdca26"
             ],
             [
              1,
              "#f0f921"
             ]
            ],
            "type": "surface"
           }
          ],
          "table": [
           {
            "cells": {
             "fill": {
              "color": "#EBF0F8"
             },
             "line": {
              "color": "white"
             }
            },
            "header": {
             "fill": {
              "color": "#C8D4E3"
             },
             "line": {
              "color": "white"
             }
            },
            "type": "table"
           }
          ]
         },
         "layout": {
          "annotationdefaults": {
           "arrowcolor": "#2a3f5f",
           "arrowhead": 0,
           "arrowwidth": 1
          },
          "autotypenumbers": "strict",
          "coloraxis": {
           "colorbar": {
            "outlinewidth": 0,
            "ticks": ""
           }
          },
          "colorscale": {
           "diverging": [
            [
             0,
             "#8e0152"
            ],
            [
             0.1,
             "#c51b7d"
            ],
            [
             0.2,
             "#de77ae"
            ],
            [
             0.3,
             "#f1b6da"
            ],
            [
             0.4,
             "#fde0ef"
            ],
            [
             0.5,
             "#f7f7f7"
            ],
            [
             0.6,
             "#e6f5d0"
            ],
            [
             0.7,
             "#b8e186"
            ],
            [
             0.8,
             "#7fbc41"
            ],
            [
             0.9,
             "#4d9221"
            ],
            [
             1,
             "#276419"
            ]
           ],
           "sequential": [
            [
             0,
             "#0d0887"
            ],
            [
             0.1111111111111111,
             "#46039f"
            ],
            [
             0.2222222222222222,
             "#7201a8"
            ],
            [
             0.3333333333333333,
             "#9c179e"
            ],
            [
             0.4444444444444444,
             "#bd3786"
            ],
            [
             0.5555555555555556,
             "#d8576b"
            ],
            [
             0.6666666666666666,
             "#ed7953"
            ],
            [
             0.7777777777777778,
             "#fb9f3a"
            ],
            [
             0.8888888888888888,
             "#fdca26"
            ],
            [
             1,
             "#f0f921"
            ]
           ],
           "sequentialminus": [
            [
             0,
             "#0d0887"
            ],
            [
             0.1111111111111111,
             "#46039f"
            ],
            [
             0.2222222222222222,
             "#7201a8"
            ],
            [
             0.3333333333333333,
             "#9c179e"
            ],
            [
             0.4444444444444444,
             "#bd3786"
            ],
            [
             0.5555555555555556,
             "#d8576b"
            ],
            [
             0.6666666666666666,
             "#ed7953"
            ],
            [
             0.7777777777777778,
             "#fb9f3a"
            ],
            [
             0.8888888888888888,
             "#fdca26"
            ],
            [
             1,
             "#f0f921"
            ]
           ]
          },
          "colorway": [
           "#636efa",
           "#EF553B",
           "#00cc96",
           "#ab63fa",
           "#FFA15A",
           "#19d3f3",
           "#FF6692",
           "#B6E880",
           "#FF97FF",
           "#FECB52"
          ],
          "font": {
           "color": "#2a3f5f"
          },
          "geo": {
           "bgcolor": "white",
           "lakecolor": "white",
           "landcolor": "#E5ECF6",
           "showlakes": true,
           "showland": true,
           "subunitcolor": "white"
          },
          "hoverlabel": {
           "align": "left"
          },
          "hovermode": "closest",
          "mapbox": {
           "style": "light"
          },
          "paper_bgcolor": "white",
          "plot_bgcolor": "#E5ECF6",
          "polar": {
           "angularaxis": {
            "gridcolor": "white",
            "linecolor": "white",
            "ticks": ""
           },
           "bgcolor": "#E5ECF6",
           "radialaxis": {
            "gridcolor": "white",
            "linecolor": "white",
            "ticks": ""
           }
          },
          "scene": {
           "xaxis": {
            "backgroundcolor": "#E5ECF6",
            "gridcolor": "white",
            "gridwidth": 2,
            "linecolor": "white",
            "showbackground": true,
            "ticks": "",
            "zerolinecolor": "white"
           },
           "yaxis": {
            "backgroundcolor": "#E5ECF6",
            "gridcolor": "white",
            "gridwidth": 2,
            "linecolor": "white",
            "showbackground": true,
            "ticks": "",
            "zerolinecolor": "white"
           },
           "zaxis": {
            "backgroundcolor": "#E5ECF6",
            "gridcolor": "white",
            "gridwidth": 2,
            "linecolor": "white",
            "showbackground": true,
            "ticks": "",
            "zerolinecolor": "white"
           }
          },
          "shapedefaults": {
           "line": {
            "color": "#2a3f5f"
           }
          },
          "ternary": {
           "aaxis": {
            "gridcolor": "white",
            "linecolor": "white",
            "ticks": ""
           },
           "baxis": {
            "gridcolor": "white",
            "linecolor": "white",
            "ticks": ""
           },
           "bgcolor": "#E5ECF6",
           "caxis": {
            "gridcolor": "white",
            "linecolor": "white",
            "ticks": ""
           }
          },
          "title": {
           "x": 0.05
          },
          "xaxis": {
           "automargin": true,
           "gridcolor": "white",
           "linecolor": "white",
           "ticks": "",
           "title": {
            "standoff": 15
           },
           "zerolinecolor": "white",
           "zerolinewidth": 2
          },
          "yaxis": {
           "automargin": true,
           "gridcolor": "white",
           "linecolor": "white",
           "ticks": "",
           "title": {
            "standoff": 15
           },
           "zerolinecolor": "white",
           "zerolinewidth": 2
          }
         }
        },
        "title": {
         "text": "Barrel%_percentile vs Whiff%_percentile"
        },
        "width": 1350,
        "xaxis": {
         "anchor": "y",
         "domain": [
          0,
          1
         ],
         "nticks": 40,
         "title": {
          "text": "Barrel%_percentile"
         }
        },
        "yaxis": {
         "anchor": "x",
         "domain": [
          0,
          1
         ],
         "nticks": 20,
         "title": {
          "text": "Whiff%_percentile"
         }
        }
       }
      }
     },
     "metadata": {},
     "output_type": "display_data"
    }
   ],
   "source": [
    "fig"
   ]
  },
  {
   "cell_type": "markdown",
   "metadata": {},
   "source": [
    "#### Pretty cool to see the correlation between swinging hard for more extra base hits at the expense of missing and striking out more is a better strategy than not swinging as hard and not striking out as much\n",
    "#### Also nice way of showing just how good Juan Soto is with 80th percentile Barrel% and Whiff%"
   ]
  },
  {
   "cell_type": "markdown",
   "metadata": {},
   "source": []
  },
  {
   "cell_type": "markdown",
   "metadata": {},
   "source": []
  },
  {
   "cell_type": "markdown",
   "metadata": {},
   "source": []
  },
  {
   "cell_type": "markdown",
   "metadata": {},
   "source": []
  },
  {
   "cell_type": "markdown",
   "metadata": {},
   "source": []
  },
  {
   "cell_type": "markdown",
   "metadata": {},
   "source": [
    "|"
   ]
  }
 ],
 "metadata": {
  "interpreter": {
   "hash": "e6b428eeda3673c7e49e56af820d0902d8cb06ad67f7949d7ea2ec9ed66f2e23"
  },
  "kernelspec": {
   "display_name": "Python 3.9.7 64-bit ('baseball_analytics_env': conda)",
   "language": "python",
   "name": "python3"
  },
  "language_info": {
   "codemirror_mode": {
    "name": "ipython",
    "version": 3
   },
   "file_extension": ".py",
   "mimetype": "text/x-python",
   "name": "python",
   "nbconvert_exporter": "python",
   "pygments_lexer": "ipython3",
   "version": "3.9.7"
  },
  "orig_nbformat": 4
 },
 "nbformat": 4,
 "nbformat_minor": 2
}
