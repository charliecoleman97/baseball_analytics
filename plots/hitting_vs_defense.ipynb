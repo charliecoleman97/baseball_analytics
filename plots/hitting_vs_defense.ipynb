{
 "cells": [
  {
   "cell_type": "markdown",
   "metadata": {},
   "source": [
    "## Hitting vs Defense Plot\n"
   ]
  },
  {
   "cell_type": "code",
   "execution_count": 2,
   "metadata": {},
   "outputs": [],
   "source": [
    "import pybaseball as pb\n",
    "import pandas as pd\n",
    "import plotly.express as px\n",
    "import plotly.io as pio\n",
    "import numpy as np\n",
    "import plotly.graph_objects as go\n",
    "import os\n",
    "from PIL import Image"
   ]
  },
  {
   "cell_type": "code",
   "execution_count": 3,
   "metadata": {},
   "outputs": [
    {
     "data": {
      "text/html": [
       "<div>\n",
       "<style scoped>\n",
       "    .dataframe tbody tr th:only-of-type {\n",
       "        vertical-align: middle;\n",
       "    }\n",
       "\n",
       "    .dataframe tbody tr th {\n",
       "        vertical-align: top;\n",
       "    }\n",
       "\n",
       "    .dataframe thead th {\n",
       "        text-align: right;\n",
       "    }\n",
       "</style>\n",
       "<table border=\"1\" class=\"dataframe\">\n",
       "  <thead>\n",
       "    <tr style=\"text-align: right;\">\n",
       "      <th></th>\n",
       "      <th>IDfg</th>\n",
       "      <th>Season</th>\n",
       "      <th>Name</th>\n",
       "      <th>Team</th>\n",
       "      <th>Age</th>\n",
       "      <th>G</th>\n",
       "      <th>AB</th>\n",
       "      <th>PA</th>\n",
       "      <th>H</th>\n",
       "      <th>1B</th>\n",
       "      <th>...</th>\n",
       "      <th>Barrel%</th>\n",
       "      <th>maxEV</th>\n",
       "      <th>HardHit</th>\n",
       "      <th>HardHit%</th>\n",
       "      <th>Events</th>\n",
       "      <th>CStr%</th>\n",
       "      <th>CSW%</th>\n",
       "      <th>xBA</th>\n",
       "      <th>xSLG</th>\n",
       "      <th>xwOBA</th>\n",
       "    </tr>\n",
       "  </thead>\n",
       "  <tbody>\n",
       "    <tr>\n",
       "      <th>17</th>\n",
       "      <td>16252</td>\n",
       "      <td>2021</td>\n",
       "      <td>Trea Turner</td>\n",
       "      <td>- - -</td>\n",
       "      <td>28</td>\n",
       "      <td>148</td>\n",
       "      <td>595</td>\n",
       "      <td>646</td>\n",
       "      <td>195</td>\n",
       "      <td>130</td>\n",
       "      <td>...</td>\n",
       "      <td>0.074</td>\n",
       "      <td>112.2</td>\n",
       "      <td>225</td>\n",
       "      <td>0.460</td>\n",
       "      <td>489</td>\n",
       "      <td>0.160</td>\n",
       "      <td>0.262</td>\n",
       "      <td>0.303</td>\n",
       "      <td>0.484</td>\n",
       "      <td>0.362</td>\n",
       "    </tr>\n",
       "    <tr>\n",
       "      <th>2</th>\n",
       "      <td>19611</td>\n",
       "      <td>2021</td>\n",
       "      <td>Vladimir Guerrero Jr.</td>\n",
       "      <td>TOR</td>\n",
       "      <td>22</td>\n",
       "      <td>161</td>\n",
       "      <td>604</td>\n",
       "      <td>698</td>\n",
       "      <td>188</td>\n",
       "      <td>110</td>\n",
       "      <td>...</td>\n",
       "      <td>0.151</td>\n",
       "      <td>117.4</td>\n",
       "      <td>274</td>\n",
       "      <td>0.552</td>\n",
       "      <td>496</td>\n",
       "      <td>0.127</td>\n",
       "      <td>0.250</td>\n",
       "      <td>0.306</td>\n",
       "      <td>0.591</td>\n",
       "      <td>0.416</td>\n",
       "    </tr>\n",
       "    <tr>\n",
       "      <th>0</th>\n",
       "      <td>11579</td>\n",
       "      <td>2021</td>\n",
       "      <td>Bryce Harper</td>\n",
       "      <td>PHI</td>\n",
       "      <td>28</td>\n",
       "      <td>141</td>\n",
       "      <td>488</td>\n",
       "      <td>599</td>\n",
       "      <td>151</td>\n",
       "      <td>73</td>\n",
       "      <td>...</td>\n",
       "      <td>0.181</td>\n",
       "      <td>116.3</td>\n",
       "      <td>177</td>\n",
       "      <td>0.492</td>\n",
       "      <td>360</td>\n",
       "      <td>0.119</td>\n",
       "      <td>0.263</td>\n",
       "      <td>0.301</td>\n",
       "      <td>0.610</td>\n",
       "      <td>0.430</td>\n",
       "    </tr>\n",
       "    <tr>\n",
       "      <th>1</th>\n",
       "      <td>20123</td>\n",
       "      <td>2021</td>\n",
       "      <td>Juan Soto</td>\n",
       "      <td>WSN</td>\n",
       "      <td>22</td>\n",
       "      <td>151</td>\n",
       "      <td>502</td>\n",
       "      <td>654</td>\n",
       "      <td>157</td>\n",
       "      <td>106</td>\n",
       "      <td>...</td>\n",
       "      <td>0.133</td>\n",
       "      <td>116.6</td>\n",
       "      <td>217</td>\n",
       "      <td>0.524</td>\n",
       "      <td>414</td>\n",
       "      <td>0.200</td>\n",
       "      <td>0.263</td>\n",
       "      <td>0.304</td>\n",
       "      <td>0.544</td>\n",
       "      <td>0.430</td>\n",
       "    </tr>\n",
       "    <tr>\n",
       "      <th>42</th>\n",
       "      <td>12533</td>\n",
       "      <td>2021</td>\n",
       "      <td>Marcus Semien</td>\n",
       "      <td>TOR</td>\n",
       "      <td>30</td>\n",
       "      <td>162</td>\n",
       "      <td>652</td>\n",
       "      <td>724</td>\n",
       "      <td>173</td>\n",
       "      <td>87</td>\n",
       "      <td>...</td>\n",
       "      <td>0.098</td>\n",
       "      <td>109.5</td>\n",
       "      <td>210</td>\n",
       "      <td>0.413</td>\n",
       "      <td>509</td>\n",
       "      <td>0.158</td>\n",
       "      <td>0.245</td>\n",
       "      <td>0.244</td>\n",
       "      <td>0.453</td>\n",
       "      <td>0.331</td>\n",
       "    </tr>\n",
       "    <tr>\n",
       "      <th>...</th>\n",
       "      <td>...</td>\n",
       "      <td>...</td>\n",
       "      <td>...</td>\n",
       "      <td>...</td>\n",
       "      <td>...</td>\n",
       "      <td>...</td>\n",
       "      <td>...</td>\n",
       "      <td>...</td>\n",
       "      <td>...</td>\n",
       "      <td>...</td>\n",
       "      <td>...</td>\n",
       "      <td>...</td>\n",
       "      <td>...</td>\n",
       "      <td>...</td>\n",
       "      <td>...</td>\n",
       "      <td>...</td>\n",
       "      <td>...</td>\n",
       "      <td>...</td>\n",
       "      <td>...</td>\n",
       "      <td>...</td>\n",
       "      <td>...</td>\n",
       "    </tr>\n",
       "    <tr>\n",
       "      <th>360</th>\n",
       "      <td>12977</td>\n",
       "      <td>2021</td>\n",
       "      <td>Michael Perez</td>\n",
       "      <td>PIT</td>\n",
       "      <td>28</td>\n",
       "      <td>70</td>\n",
       "      <td>210</td>\n",
       "      <td>231</td>\n",
       "      <td>30</td>\n",
       "      <td>14</td>\n",
       "      <td>...</td>\n",
       "      <td>0.063</td>\n",
       "      <td>106.2</td>\n",
       "      <td>46</td>\n",
       "      <td>0.324</td>\n",
       "      <td>142</td>\n",
       "      <td>0.166</td>\n",
       "      <td>0.276</td>\n",
       "      <td>0.171</td>\n",
       "      <td>0.302</td>\n",
       "      <td>0.244</td>\n",
       "    </tr>\n",
       "    <tr>\n",
       "      <th>356</th>\n",
       "      <td>14885</td>\n",
       "      <td>2021</td>\n",
       "      <td>Pat Valaika</td>\n",
       "      <td>BAL</td>\n",
       "      <td>28</td>\n",
       "      <td>91</td>\n",
       "      <td>259</td>\n",
       "      <td>281</td>\n",
       "      <td>52</td>\n",
       "      <td>39</td>\n",
       "      <td>...</td>\n",
       "      <td>0.048</td>\n",
       "      <td>109.7</td>\n",
       "      <td>61</td>\n",
       "      <td>0.326</td>\n",
       "      <td>187</td>\n",
       "      <td>0.150</td>\n",
       "      <td>0.276</td>\n",
       "      <td>0.213</td>\n",
       "      <td>0.337</td>\n",
       "      <td>0.266</td>\n",
       "    </tr>\n",
       "    <tr>\n",
       "      <th>354</th>\n",
       "      <td>24655</td>\n",
       "      <td>2021</td>\n",
       "      <td>Owen Miller</td>\n",
       "      <td>CLE</td>\n",
       "      <td>24</td>\n",
       "      <td>60</td>\n",
       "      <td>191</td>\n",
       "      <td>202</td>\n",
       "      <td>39</td>\n",
       "      <td>27</td>\n",
       "      <td>...</td>\n",
       "      <td>0.058</td>\n",
       "      <td>108.2</td>\n",
       "      <td>45</td>\n",
       "      <td>0.326</td>\n",
       "      <td>138</td>\n",
       "      <td>0.180</td>\n",
       "      <td>0.296</td>\n",
       "      <td>0.222</td>\n",
       "      <td>0.342</td>\n",
       "      <td>0.264</td>\n",
       "    </tr>\n",
       "    <tr>\n",
       "      <th>314</th>\n",
       "      <td>12907</td>\n",
       "      <td>2021</td>\n",
       "      <td>Gregory Polanco</td>\n",
       "      <td>PIT</td>\n",
       "      <td>29</td>\n",
       "      <td>107</td>\n",
       "      <td>336</td>\n",
       "      <td>382</td>\n",
       "      <td>70</td>\n",
       "      <td>45</td>\n",
       "      <td>...</td>\n",
       "      <td>0.096</td>\n",
       "      <td>116.2</td>\n",
       "      <td>115</td>\n",
       "      <td>0.479</td>\n",
       "      <td>240</td>\n",
       "      <td>0.153</td>\n",
       "      <td>0.284</td>\n",
       "      <td>0.231</td>\n",
       "      <td>0.409</td>\n",
       "      <td>0.315</td>\n",
       "    </tr>\n",
       "    <tr>\n",
       "      <th>352</th>\n",
       "      <td>11936</td>\n",
       "      <td>2021</td>\n",
       "      <td>Joe Panik</td>\n",
       "      <td>- - -</td>\n",
       "      <td>30</td>\n",
       "      <td>95</td>\n",
       "      <td>236</td>\n",
       "      <td>257</td>\n",
       "      <td>49</td>\n",
       "      <td>37</td>\n",
       "      <td>...</td>\n",
       "      <td>0.015</td>\n",
       "      <td>107.4</td>\n",
       "      <td>52</td>\n",
       "      <td>0.255</td>\n",
       "      <td>204</td>\n",
       "      <td>0.191</td>\n",
       "      <td>0.245</td>\n",
       "      <td>0.238</td>\n",
       "      <td>0.324</td>\n",
       "      <td>0.274</td>\n",
       "    </tr>\n",
       "  </tbody>\n",
       "</table>\n",
       "<p>362 rows × 319 columns</p>\n",
       "</div>"
      ],
      "text/plain": [
       "      IDfg  Season                   Name   Team  Age    G   AB   PA    H  \\\n",
       "17   16252    2021            Trea Turner  - - -   28  148  595  646  195   \n",
       "2    19611    2021  Vladimir Guerrero Jr.    TOR   22  161  604  698  188   \n",
       "0    11579    2021           Bryce Harper    PHI   28  141  488  599  151   \n",
       "1    20123    2021              Juan Soto    WSN   22  151  502  654  157   \n",
       "42   12533    2021          Marcus Semien    TOR   30  162  652  724  173   \n",
       "..     ...     ...                    ...    ...  ...  ...  ...  ...  ...   \n",
       "360  12977    2021          Michael Perez    PIT   28   70  210  231   30   \n",
       "356  14885    2021            Pat Valaika    BAL   28   91  259  281   52   \n",
       "354  24655    2021            Owen Miller    CLE   24   60  191  202   39   \n",
       "314  12907    2021        Gregory Polanco    PIT   29  107  336  382   70   \n",
       "352  11936    2021              Joe Panik  - - -   30   95  236  257   49   \n",
       "\n",
       "      1B  ...  Barrel%  maxEV  HardHit  HardHit%  Events  CStr%   CSW%    xBA  \\\n",
       "17   130  ...    0.074  112.2      225     0.460     489  0.160  0.262  0.303   \n",
       "2    110  ...    0.151  117.4      274     0.552     496  0.127  0.250  0.306   \n",
       "0     73  ...    0.181  116.3      177     0.492     360  0.119  0.263  0.301   \n",
       "1    106  ...    0.133  116.6      217     0.524     414  0.200  0.263  0.304   \n",
       "42    87  ...    0.098  109.5      210     0.413     509  0.158  0.245  0.244   \n",
       "..   ...  ...      ...    ...      ...       ...     ...    ...    ...    ...   \n",
       "360   14  ...    0.063  106.2       46     0.324     142  0.166  0.276  0.171   \n",
       "356   39  ...    0.048  109.7       61     0.326     187  0.150  0.276  0.213   \n",
       "354   27  ...    0.058  108.2       45     0.326     138  0.180  0.296  0.222   \n",
       "314   45  ...    0.096  116.2      115     0.479     240  0.153  0.284  0.231   \n",
       "352   37  ...    0.015  107.4       52     0.255     204  0.191  0.245  0.238   \n",
       "\n",
       "      xSLG  xwOBA  \n",
       "17   0.484  0.362  \n",
       "2    0.591  0.416  \n",
       "0    0.610  0.430  \n",
       "1    0.544  0.430  \n",
       "42   0.453  0.331  \n",
       "..     ...    ...  \n",
       "360  0.302  0.244  \n",
       "356  0.337  0.266  \n",
       "354  0.342  0.264  \n",
       "314  0.409  0.315  \n",
       "352  0.324  0.274  \n",
       "\n",
       "[362 rows x 319 columns]"
      ]
     },
     "execution_count": 3,
     "metadata": {},
     "output_type": "execute_result"
    }
   ],
   "source": [
    "''' Going to use 2021 batting stats with a minimum of 200 PA'''\n",
    "df = pb.batting_stats(2021, qual=200)\n",
    "df"
   ]
  },
  {
   "cell_type": "markdown",
   "metadata": {},
   "source": [
    "### High Level EDA"
   ]
  },
  {
   "cell_type": "code",
   "execution_count": 4,
   "metadata": {},
   "outputs": [
    {
     "data": {
      "text/plain": [
       "IDfg        int64\n",
       "Season      int64\n",
       "Name       object\n",
       "Team       object\n",
       "Age         int64\n",
       "           ...   \n",
       "CStr%     float64\n",
       "CSW%      float64\n",
       "xBA       float64\n",
       "xSLG      float64\n",
       "xwOBA     float64\n",
       "Length: 319, dtype: object"
      ]
     },
     "execution_count": 4,
     "metadata": {},
     "output_type": "execute_result"
    }
   ],
   "source": [
    "df.dtypes"
   ]
  },
  {
   "cell_type": "code",
   "execution_count": 5,
   "metadata": {},
   "outputs": [
    {
     "data": {
      "text/html": [
       "<div>\n",
       "<style scoped>\n",
       "    .dataframe tbody tr th:only-of-type {\n",
       "        vertical-align: middle;\n",
       "    }\n",
       "\n",
       "    .dataframe tbody tr th {\n",
       "        vertical-align: top;\n",
       "    }\n",
       "\n",
       "    .dataframe thead th {\n",
       "        text-align: right;\n",
       "    }\n",
       "</style>\n",
       "<table border=\"1\" class=\"dataframe\">\n",
       "  <thead>\n",
       "    <tr style=\"text-align: right;\">\n",
       "      <th></th>\n",
       "      <th>IDfg</th>\n",
       "      <th>Season</th>\n",
       "      <th>Age</th>\n",
       "      <th>G</th>\n",
       "      <th>AB</th>\n",
       "      <th>PA</th>\n",
       "      <th>H</th>\n",
       "      <th>1B</th>\n",
       "      <th>2B</th>\n",
       "      <th>3B</th>\n",
       "      <th>...</th>\n",
       "      <th>Barrel%</th>\n",
       "      <th>maxEV</th>\n",
       "      <th>HardHit</th>\n",
       "      <th>HardHit%</th>\n",
       "      <th>Events</th>\n",
       "      <th>CStr%</th>\n",
       "      <th>CSW%</th>\n",
       "      <th>xBA</th>\n",
       "      <th>xSLG</th>\n",
       "      <th>xwOBA</th>\n",
       "    </tr>\n",
       "  </thead>\n",
       "  <tbody>\n",
       "    <tr>\n",
       "      <th>count</th>\n",
       "      <td>362.000000</td>\n",
       "      <td>362.0</td>\n",
       "      <td>362.000000</td>\n",
       "      <td>362.000000</td>\n",
       "      <td>362.000000</td>\n",
       "      <td>362.000000</td>\n",
       "      <td>362.000000</td>\n",
       "      <td>362.000000</td>\n",
       "      <td>362.000000</td>\n",
       "      <td>362.000000</td>\n",
       "      <td>...</td>\n",
       "      <td>362.000000</td>\n",
       "      <td>362.000000</td>\n",
       "      <td>362.000000</td>\n",
       "      <td>362.000000</td>\n",
       "      <td>362.000000</td>\n",
       "      <td>362.000000</td>\n",
       "      <td>362.000000</td>\n",
       "      <td>362.000000</td>\n",
       "      <td>362.000000</td>\n",
       "      <td>362.000000</td>\n",
       "    </tr>\n",
       "    <tr>\n",
       "      <th>mean</th>\n",
       "      <td>13981.218232</td>\n",
       "      <td>2021.0</td>\n",
       "      <td>28.439227</td>\n",
       "      <td>114.723757</td>\n",
       "      <td>380.127072</td>\n",
       "      <td>426.872928</td>\n",
       "      <td>96.251381</td>\n",
       "      <td>60.494475</td>\n",
       "      <td>19.196133</td>\n",
       "      <td>1.627072</td>\n",
       "      <td>...</td>\n",
       "      <td>0.083362</td>\n",
       "      <td>111.119061</td>\n",
       "      <td>115.198895</td>\n",
       "      <td>0.394254</td>\n",
       "      <td>290.212707</td>\n",
       "      <td>0.160948</td>\n",
       "      <td>0.272384</td>\n",
       "      <td>0.246638</td>\n",
       "      <td>0.415790</td>\n",
       "      <td>0.321605</td>\n",
       "    </tr>\n",
       "    <tr>\n",
       "      <th>std</th>\n",
       "      <td>4896.057822</td>\n",
       "      <td>0.0</td>\n",
       "      <td>3.469361</td>\n",
       "      <td>29.897534</td>\n",
       "      <td>132.132815</td>\n",
       "      <td>149.539183</td>\n",
       "      <td>40.187584</td>\n",
       "      <td>26.795134</td>\n",
       "      <td>8.950321</td>\n",
       "      <td>1.644814</td>\n",
       "      <td>...</td>\n",
       "      <td>0.043356</td>\n",
       "      <td>3.120382</td>\n",
       "      <td>51.316024</td>\n",
       "      <td>0.076797</td>\n",
       "      <td>110.941733</td>\n",
       "      <td>0.029687</td>\n",
       "      <td>0.027949</td>\n",
       "      <td>0.026922</td>\n",
       "      <td>0.071599</td>\n",
       "      <td>0.036815</td>\n",
       "    </tr>\n",
       "    <tr>\n",
       "      <th>min</th>\n",
       "      <td>1177.000000</td>\n",
       "      <td>2021.0</td>\n",
       "      <td>20.000000</td>\n",
       "      <td>48.000000</td>\n",
       "      <td>174.000000</td>\n",
       "      <td>202.000000</td>\n",
       "      <td>30.000000</td>\n",
       "      <td>14.000000</td>\n",
       "      <td>3.000000</td>\n",
       "      <td>0.000000</td>\n",
       "      <td>...</td>\n",
       "      <td>0.000000</td>\n",
       "      <td>100.600000</td>\n",
       "      <td>30.000000</td>\n",
       "      <td>0.138000</td>\n",
       "      <td>101.000000</td>\n",
       "      <td>0.080000</td>\n",
       "      <td>0.140000</td>\n",
       "      <td>0.170000</td>\n",
       "      <td>0.258000</td>\n",
       "      <td>0.216000</td>\n",
       "    </tr>\n",
       "    <tr>\n",
       "      <th>25%</th>\n",
       "      <td>11348.500000</td>\n",
       "      <td>2021.0</td>\n",
       "      <td>26.000000</td>\n",
       "      <td>89.000000</td>\n",
       "      <td>260.500000</td>\n",
       "      <td>291.250000</td>\n",
       "      <td>60.000000</td>\n",
       "      <td>38.000000</td>\n",
       "      <td>12.000000</td>\n",
       "      <td>0.000000</td>\n",
       "      <td>...</td>\n",
       "      <td>0.051000</td>\n",
       "      <td>109.200000</td>\n",
       "      <td>72.000000</td>\n",
       "      <td>0.340000</td>\n",
       "      <td>190.750000</td>\n",
       "      <td>0.142000</td>\n",
       "      <td>0.255000</td>\n",
       "      <td>0.230000</td>\n",
       "      <td>0.367250</td>\n",
       "      <td>0.296250</td>\n",
       "    </tr>\n",
       "    <tr>\n",
       "      <th>50%</th>\n",
       "      <td>14558.500000</td>\n",
       "      <td>2021.0</td>\n",
       "      <td>28.000000</td>\n",
       "      <td>116.500000</td>\n",
       "      <td>367.500000</td>\n",
       "      <td>408.500000</td>\n",
       "      <td>91.500000</td>\n",
       "      <td>58.500000</td>\n",
       "      <td>18.000000</td>\n",
       "      <td>1.000000</td>\n",
       "      <td>...</td>\n",
       "      <td>0.079000</td>\n",
       "      <td>110.800000</td>\n",
       "      <td>106.000000</td>\n",
       "      <td>0.400000</td>\n",
       "      <td>280.500000</td>\n",
       "      <td>0.162500</td>\n",
       "      <td>0.270000</td>\n",
       "      <td>0.248000</td>\n",
       "      <td>0.409500</td>\n",
       "      <td>0.319500</td>\n",
       "    </tr>\n",
       "    <tr>\n",
       "      <th>75%</th>\n",
       "      <td>17754.250000</td>\n",
       "      <td>2021.0</td>\n",
       "      <td>31.000000</td>\n",
       "      <td>142.000000</td>\n",
       "      <td>497.000000</td>\n",
       "      <td>554.750000</td>\n",
       "      <td>128.750000</td>\n",
       "      <td>79.000000</td>\n",
       "      <td>26.000000</td>\n",
       "      <td>2.000000</td>\n",
       "      <td>...</td>\n",
       "      <td>0.108000</td>\n",
       "      <td>113.200000</td>\n",
       "      <td>152.000000</td>\n",
       "      <td>0.445500</td>\n",
       "      <td>381.000000</td>\n",
       "      <td>0.181000</td>\n",
       "      <td>0.293000</td>\n",
       "      <td>0.264750</td>\n",
       "      <td>0.456750</td>\n",
       "      <td>0.344000</td>\n",
       "    </tr>\n",
       "    <tr>\n",
       "      <th>max</th>\n",
       "      <td>27506.000000</td>\n",
       "      <td>2021.0</td>\n",
       "      <td>41.000000</td>\n",
       "      <td>162.000000</td>\n",
       "      <td>664.000000</td>\n",
       "      <td>724.000000</td>\n",
       "      <td>195.000000</td>\n",
       "      <td>136.000000</td>\n",
       "      <td>42.000000</td>\n",
       "      <td>8.000000</td>\n",
       "      <td>...</td>\n",
       "      <td>0.243000</td>\n",
       "      <td>122.200000</td>\n",
       "      <td>274.000000</td>\n",
       "      <td>0.579000</td>\n",
       "      <td>573.000000</td>\n",
       "      <td>0.250000</td>\n",
       "      <td>0.345000</td>\n",
       "      <td>0.319000</td>\n",
       "      <td>0.618000</td>\n",
       "      <td>0.430000</td>\n",
       "    </tr>\n",
       "  </tbody>\n",
       "</table>\n",
       "<p>8 rows × 315 columns</p>\n",
       "</div>"
      ],
      "text/plain": [
       "               IDfg  Season         Age           G          AB          PA  \\\n",
       "count    362.000000   362.0  362.000000  362.000000  362.000000  362.000000   \n",
       "mean   13981.218232  2021.0   28.439227  114.723757  380.127072  426.872928   \n",
       "std     4896.057822     0.0    3.469361   29.897534  132.132815  149.539183   \n",
       "min     1177.000000  2021.0   20.000000   48.000000  174.000000  202.000000   \n",
       "25%    11348.500000  2021.0   26.000000   89.000000  260.500000  291.250000   \n",
       "50%    14558.500000  2021.0   28.000000  116.500000  367.500000  408.500000   \n",
       "75%    17754.250000  2021.0   31.000000  142.000000  497.000000  554.750000   \n",
       "max    27506.000000  2021.0   41.000000  162.000000  664.000000  724.000000   \n",
       "\n",
       "                H          1B          2B          3B  ...     Barrel%  \\\n",
       "count  362.000000  362.000000  362.000000  362.000000  ...  362.000000   \n",
       "mean    96.251381   60.494475   19.196133    1.627072  ...    0.083362   \n",
       "std     40.187584   26.795134    8.950321    1.644814  ...    0.043356   \n",
       "min     30.000000   14.000000    3.000000    0.000000  ...    0.000000   \n",
       "25%     60.000000   38.000000   12.000000    0.000000  ...    0.051000   \n",
       "50%     91.500000   58.500000   18.000000    1.000000  ...    0.079000   \n",
       "75%    128.750000   79.000000   26.000000    2.000000  ...    0.108000   \n",
       "max    195.000000  136.000000   42.000000    8.000000  ...    0.243000   \n",
       "\n",
       "            maxEV     HardHit    HardHit%      Events       CStr%        CSW%  \\\n",
       "count  362.000000  362.000000  362.000000  362.000000  362.000000  362.000000   \n",
       "mean   111.119061  115.198895    0.394254  290.212707    0.160948    0.272384   \n",
       "std      3.120382   51.316024    0.076797  110.941733    0.029687    0.027949   \n",
       "min    100.600000   30.000000    0.138000  101.000000    0.080000    0.140000   \n",
       "25%    109.200000   72.000000    0.340000  190.750000    0.142000    0.255000   \n",
       "50%    110.800000  106.000000    0.400000  280.500000    0.162500    0.270000   \n",
       "75%    113.200000  152.000000    0.445500  381.000000    0.181000    0.293000   \n",
       "max    122.200000  274.000000    0.579000  573.000000    0.250000    0.345000   \n",
       "\n",
       "              xBA        xSLG       xwOBA  \n",
       "count  362.000000  362.000000  362.000000  \n",
       "mean     0.246638    0.415790    0.321605  \n",
       "std      0.026922    0.071599    0.036815  \n",
       "min      0.170000    0.258000    0.216000  \n",
       "25%      0.230000    0.367250    0.296250  \n",
       "50%      0.248000    0.409500    0.319500  \n",
       "75%      0.264750    0.456750    0.344000  \n",
       "max      0.319000    0.618000    0.430000  \n",
       "\n",
       "[8 rows x 315 columns]"
      ]
     },
     "execution_count": 5,
     "metadata": {},
     "output_type": "execute_result"
    }
   ],
   "source": [
    "df.describe()\n",
    "# Looks like the mean values would be good to have as a comparison against"
   ]
  },
  {
   "cell_type": "markdown",
   "metadata": {},
   "source": [
    "## PLotting wRC+ against def to see isolate the well rounded players\n",
    "#### Can't find OAA so going with Def"
   ]
  },
  {
   "cell_type": "code",
   "execution_count": 6,
   "metadata": {},
   "outputs": [],
   "source": [
    "batting_df = pb.batting_stats(2021, qual=200)"
   ]
  },
  {
   "cell_type": "code",
   "execution_count": 7,
   "metadata": {},
   "outputs": [],
   "source": [
    "plot_df = (\n",
    "    batting_df\n",
    "     .pipe(lambda df: df[[\"IDfg\", \"Name\", \"Team\", 'G', 'PA', 'OPS', 'Dol', 'Spd','Off', 'WAR', 'wRC+', 'Def']]) # just getting the columns we need\n",
    ")"
   ]
  },
  {
   "cell_type": "code",
   "execution_count": 8,
   "metadata": {},
   "outputs": [
    {
     "data": {
      "text/plain": [
       "count    362.000000\n",
       "mean     100.701657\n",
       "std       25.289557\n",
       "min       35.000000\n",
       "25%       85.000000\n",
       "50%      100.000000\n",
       "75%      115.000000\n",
       "max      170.000000\n",
       "Name: wRC+, dtype: float64"
      ]
     },
     "execution_count": 8,
     "metadata": {},
     "output_type": "execute_result"
    }
   ],
   "source": [
    "plot_df[\"wRC+\"].describe()"
   ]
  },
  {
   "cell_type": "code",
   "execution_count": 9,
   "metadata": {},
   "outputs": [
    {
     "data": {
      "text/plain": [
       "count    362.000000\n",
       "mean      -0.629834\n",
       "std        6.839704\n",
       "min      -18.100000\n",
       "25%       -5.100000\n",
       "50%       -0.900000\n",
       "75%        3.975000\n",
       "max       19.100000\n",
       "Name: Def, dtype: float64"
      ]
     },
     "execution_count": 9,
     "metadata": {},
     "output_type": "execute_result"
    }
   ],
   "source": [
    "plot_df[\"Def\"].describe()"
   ]
  },
  {
   "cell_type": "code",
   "execution_count": 10,
   "metadata": {},
   "outputs": [],
   "source": [
    "# Find top 25th percentile in both hitting and defense\n",
    "good_players = plot_df.loc[(plot_df['wRC+'] >= 115) & (plot_df['Def'] >= 4)]"
   ]
  },
  {
   "cell_type": "code",
   "execution_count": 11,
   "metadata": {},
   "outputs": [],
   "source": [
    "# Find the bottom 25th percentile players in wRC+ and Def\n",
    "bad_players = plot_df.loc[(plot_df['wRC+'] <= 85) & (plot_df['Def'] <= -5)]"
   ]
  },
  {
   "cell_type": "code",
   "execution_count": 12,
   "metadata": {},
   "outputs": [
    {
     "data": {
      "application/vnd.plotly.v1+json": {
       "config": {
        "plotlyServerURL": "https://plot.ly"
       },
       "data": [
        {
         "customdata": [
          [
           646
          ],
          [
           698
          ],
          [
           599
          ],
          [
           654
          ],
          [
           724
          ],
          [
           636
          ],
          [
           546
          ],
          [
           640
          ],
          [
           633
          ],
          [
           646
          ],
          [
           549
          ],
          [
           526
          ],
          [
           537
          ],
          [
           675
          ],
          [
           603
          ],
          [
           615
          ],
          [
           678
          ],
          [
           639
          ],
          [
           673
          ],
          [
           592
          ],
          [
           454
          ],
          [
           679
          ],
          [
           690
          ],
          [
           567
          ],
          [
           664
          ],
          [
           501
          ],
          [
           695
          ],
          [
           375
          ],
          [
           616
          ],
          [
           640
          ],
          [
           643
          ],
          [
           537
          ],
          [
           565
          ],
          [
           551
          ],
          [
           254
          ],
          [
           360
          ],
          [
           585
          ],
          [
           662
          ],
          [
           686
          ],
          [
           555
          ],
          [
           612
          ],
          [
           653
          ],
          [
           595
          ],
          [
           550
          ],
          [
           631
          ],
          [
           644
          ],
          [
           585
          ],
          [
           375
          ],
          [
           409
          ],
          [
           598
          ],
          [
           638
          ],
          [
           533
          ],
          [
           586
          ],
          [
           547
          ],
          [
           386
          ],
          [
           650
          ],
          [
           616
          ],
          [
           595
          ],
          [
           665
          ],
          [
           605
          ],
          [
           401
          ],
          [
           639
          ],
          [
           622
          ],
          [
           381
          ],
          [
           604
          ],
          [
           448
          ],
          [
           485
          ],
          [
           296
          ],
          [
           626
          ],
          [
           653
          ],
          [
           720
          ],
          [
           471
          ],
          [
           582
          ],
          [
           687
          ],
          [
           422
          ],
          [
           637
          ],
          [
           599
          ],
          [
           374
          ],
          [
           634
          ],
          [
           659
          ],
          [
           515
          ],
          [
           492
          ],
          [
           319
          ],
          [
           622
          ],
          [
           585
          ],
          [
           691
          ],
          [
           619
          ],
          [
           445
          ],
          [
           539
          ],
          [
           397
          ],
          [
           570
          ],
          [
           671
          ],
          [
           524
          ],
          [
           588
          ],
          [
           579
          ],
          [
           625
          ],
          [
           501
          ],
          [
           427
          ],
          [
           312
          ],
          [
           308
          ],
          [
           567
          ],
          [
           596
          ],
          [
           670
          ],
          [
           390
          ],
          [
           342
          ],
          [
           555
          ],
          [
           529
          ],
          [
           679
          ],
          [
           547
          ],
          [
           443
          ],
          [
           375
          ],
          [
           691
          ],
          [
           677
          ],
          [
           543
          ],
          [
           246
          ],
          [
           532
          ],
          [
           637
          ],
          [
           259
          ],
          [
           243
          ],
          [
           508
          ],
          [
           483
          ],
          [
           297
          ],
          [
           538
          ],
          [
           378
          ],
          [
           527
          ],
          [
           505
          ],
          [
           584
          ],
          [
           402
          ],
          [
           400
          ],
          [
           604
          ],
          [
           591
          ],
          [
           315
          ],
          [
           550
          ],
          [
           474
          ],
          [
           461
          ],
          [
           320
          ],
          [
           490
          ],
          [
           528
          ],
          [
           572
          ],
          [
           306
          ],
          [
           541
          ],
          [
           479
          ],
          [
           286
          ],
          [
           292
          ],
          [
           291
          ],
          [
           359
          ],
          [
           349
          ],
          [
           516
          ],
          [
           330
          ],
          [
           211
          ],
          [
           381
          ],
          [
           415
          ],
          [
           576
          ],
          [
           296
          ],
          [
           371
          ],
          [
           642
          ],
          [
           326
          ],
          [
           529
          ],
          [
           507
          ],
          [
           375
          ],
          [
           394
          ],
          [
           402
          ],
          [
           541
          ],
          [
           271
          ],
          [
           582
          ],
          [
           674
          ],
          [
           558
          ],
          [
           322
          ],
          [
           475
          ],
          [
           208
          ],
          [
           440
          ],
          [
           561
          ],
          [
           396
          ],
          [
           211
          ],
          [
           568
          ],
          [
           454
          ],
          [
           586
          ],
          [
           205
          ],
          [
           500
          ],
          [
           277
          ],
          [
           464
          ],
          [
           461
          ],
          [
           466
          ],
          [
           215
          ],
          [
           535
          ],
          [
           264
          ],
          [
           217
          ],
          [
           510
          ],
          [
           436
          ],
          [
           574
          ],
          [
           400
          ],
          [
           375
          ],
          [
           388
          ],
          [
           250
          ],
          [
           307
          ],
          [
           344
          ],
          [
           538
          ],
          [
           492
          ],
          [
           511
          ],
          [
           348
          ],
          [
           541
          ],
          [
           285
          ],
          [
           377
          ],
          [
           272
          ],
          [
           381
          ],
          [
           442
          ],
          [
           511
          ],
          [
           381
          ],
          [
           260
          ],
          [
           473
          ],
          [
           325
          ],
          [
           305
          ],
          [
           412
          ],
          [
           319
          ],
          [
           512
          ],
          [
           302
          ],
          [
           219
          ],
          [
           234
          ],
          [
           365
          ],
          [
           479
          ],
          [
           225
          ],
          [
           210
          ],
          [
           453
          ],
          [
           249
          ],
          [
           347
          ],
          [
           251
          ],
          [
           616
          ],
          [
           481
          ],
          [
           438
          ],
          [
           574
          ],
          [
           255
          ],
          [
           271
          ],
          [
           229
          ],
          [
           293
          ],
          [
           238
          ],
          [
           361
          ],
          [
           290
          ],
          [
           211
          ],
          [
           344
          ],
          [
           311
          ],
          [
           298
          ],
          [
           302
          ],
          [
           237
          ],
          [
           238
          ],
          [
           264
          ],
          [
           265
          ],
          [
           240
          ],
          [
           242
          ],
          [
           263
          ],
          [
           331
          ],
          [
           426
          ],
          [
           209
          ],
          [
           339
          ],
          [
           494
          ],
          [
           347
          ],
          [
           231
          ],
          [
           498
          ],
          [
           412
          ],
          [
           532
          ],
          [
           241
          ],
          [
           273
          ],
          [
           233
          ],
          [
           346
          ],
          [
           545
          ],
          [
           533
          ],
          [
           318
          ],
          [
           251
          ],
          [
           279
          ],
          [
           545
          ],
          [
           378
          ],
          [
           231
          ],
          [
           469
          ],
          [
           362
          ],
          [
           220
          ],
          [
           445
          ],
          [
           240
          ],
          [
           300
          ],
          [
           255
          ],
          [
           353
          ],
          [
           665
          ],
          [
           554
          ],
          [
           289
          ],
          [
           231
          ],
          [
           209
          ],
          [
           312
          ],
          [
           271
          ],
          [
           262
          ],
          [
           301
          ],
          [
           271
          ],
          [
           377
          ],
          [
           426
          ],
          [
           262
          ],
          [
           258
          ],
          [
           204
          ],
          [
           373
          ],
          [
           216
          ],
          [
           238
          ],
          [
           312
          ],
          [
           565
          ],
          [
           361
          ],
          [
           352
          ],
          [
           325
          ],
          [
           408
          ],
          [
           473
          ],
          [
           419
          ],
          [
           294
          ],
          [
           213
          ],
          [
           220
          ],
          [
           602
          ],
          [
           359
          ],
          [
           325
          ],
          [
           296
          ],
          [
           252
          ],
          [
           213
          ],
          [
           247
          ],
          [
           543
          ],
          [
           250
          ],
          [
           417
          ],
          [
           290
          ],
          [
           225
          ],
          [
           659
          ],
          [
           208
          ],
          [
           327
          ],
          [
           403
          ],
          [
           288
          ],
          [
           284
          ],
          [
           249
          ],
          [
           260
          ],
          [
           206
          ],
          [
           247
          ],
          [
           450
          ],
          [
           493
          ],
          [
           310
          ],
          [
           247
          ],
          [
           369
          ],
          [
           451
          ],
          [
           250
          ],
          [
           284
          ],
          [
           295
          ],
          [
           327
          ],
          [
           220
          ],
          [
           526
          ],
          [
           231
          ],
          [
           412
          ],
          [
           254
          ],
          [
           356
          ],
          [
           249
          ],
          [
           377
          ],
          [
           307
          ],
          [
           277
          ],
          [
           315
          ],
          [
           229
          ],
          [
           216
          ],
          [
           220
          ],
          [
           350
          ],
          [
           428
          ],
          [
           218
          ],
          [
           231
          ],
          [
           281
          ],
          [
           202
          ],
          [
           382
          ],
          [
           257
          ]
         ],
         "hovertemplate": "<b>%{hovertext}</b><br><br>Def=%{x}<br>wRC+=%{y}<br>PA=%{customdata[0]}<br>WAR=%{marker.color}<extra></extra>",
         "hovertext": [
          "Trea Turner",
          "Vladimir Guerrero Jr.",
          "Bryce Harper",
          "Juan Soto",
          "Marcus Semien",
          "Jose Ramirez",
          "Fernando Tatis Jr.",
          "Carlos Correa",
          "Aaron Judge",
          "Bryan Reynolds",
          "Brandon Crawford",
          "Starling Marte",
          "Tyler O'Neill",
          "Cedric Mullins II",
          "Xander Bogaerts",
          "Brandon Lowe",
          "Jose Altuve",
          "Shohei Ohtani",
          "Matt Olson",
          "Max Muncy",
          "Buster Posey",
          "Paul Goldschmidt",
          "Bo Bichette",
          "Kyle Tucker",
          "Rafael Devers",
          "Will Smith",
          "Freddie Freeman",
          "Mike Zunino",
          "Yoan Moncada",
          "Manny Machado",
          "Jake Cronenworth",
          "J.T. Realmuto",
          "Nicky Lopez",
          "Tim Anderson",
          "Byron Buxton",
          "Ronald Acuna Jr.",
          "Nick Castellanos",
          "Austin Riley",
          "Ozzie Albies",
          "Willy Adames",
          "Justin Turner",
          "Nolan Arenado",
          "Teoscar Hernandez",
          "Mookie Betts",
          "Jonathan India",
          "Jorge Polanco",
          "Enrique Hernandez",
          "Yasmani Grandal",
          "Corey Seager",
          "Yordan Alvarez",
          "Myles Straw",
          "Joey Votto",
          "Kris Bryant",
          "Javier Baez",
          "Brandon Nimmo",
          "Ty France",
          "Joey Gallo",
          "Trevor Story",
          "Salvador Perez",
          "Yuli Gurriel",
          "Harrison Bader",
          "Adam Frazier",
          "Matt Chapman",
          "Brandon Belt",
          "Randy Arozarena",
          "Sean Murphy",
          "Jesse Winker",
          "Luis Robert",
          "Jeimer Candelario",
          "Dansby Swanson",
          "Whit Merrifield",
          "Kyle Schwarber",
          "Chris Taylor",
          "J.P. Crawford",
          "A.J. Pollock",
          "Pete Alonso",
          "Eduardo Escobar",
          "Ketel Marte",
          "J.D. Martinez",
          "Jose Abreu",
          "Avisail Garcia",
          "Kolten Wong",
          "Max Stassi",
          "Adolis Garcia",
          "Jared Walsh",
          "Mitch Haniger",
          "Dylan Carlson",
          "Omar Narvaez",
          "Miguel Rojas",
          "Tony Kemp",
          "Luis Urias",
          "Robbie Grossman",
          "Francisco Lindor",
          "Amed Rosario",
          "Giancarlo Stanton",
          "Mark Canha",
          "Joey Wendle",
          "Jacob Stallings",
          "Darin Ruf",
          "Wander Franco",
          "Jean Segura",
          "Ryan McMahon",
          "Kyle Seager",
          "Kevin Kiermaier",
          "George Springer",
          "Adam Duvall",
          "Austin Hays",
          "DJ LeMahieu",
          "C.J. Cron",
          "Rhys Hoskins",
          "Patrick Wisdom",
          "Tommy Edman",
          "Isiah Kiner-Falefa",
          "Josh Donaldson",
          "Santiago Espinal",
          "Mike Yastrzemski",
          "Cesar Hernandez",
          "Frank Schwindel",
          "Mitch Garver",
          "Michael Brantley",
          "Willson Contreras",
          "Steven Duggar",
          "Andrew Benintendi",
          "Ramon Laureano",
          "Trent Grisham",
          "Jonathan Villar",
          "Nelson Cruz",
          "Tyler Stephenson",
          "Alex Bregman",
          "Alex Verdugo",
          "Austin Meadows",
          "Daulton Varsho",
          "Josh Rojas",
          "Leury Garcia",
          "Akil Baddoo",
          "Chas McCormick",
          "Max Kepler",
          "Michael A. Taylor",
          "Hunter Renfroe",
          "Austin Slater",
          "Yandy Diaz",
          "Luis Arraez",
          "Lorenzo Cain",
          "Brett Phillips",
          "Evan Longoria",
          "Carson Kelly",
          "Alcides Escobar",
          "Gleyber Torres",
          "Rafael Ortega",
          "J.D. Davis",
          "LaMonte Wade Jr.",
          "Brendan Rodgers",
          "Anthony Rizzo",
          "Ramon Urias",
          "Elias Diaz",
          "Nathaniel Lowe",
          "Edmundo Sosa",
          "Kyle Farmer",
          "Jazz Chisholm Jr.",
          "Yan Gomes",
          "Freddy Galvis",
          "Paul DeJong",
          "Lourdes Gurriel Jr.",
          "Tyrone Taylor",
          "Charlie Blackmon",
          "Jonathan Schoop",
          "Josh Harrison",
          "Matt Duffy",
          "Christian Yelich",
          "Manny Pina",
          "Gary Sanchez",
          "Tommy Pham",
          "Ke'Bryan Hayes",
          "Connor Joe",
          "Josh Bell",
          "Tyler Naquin",
          "Ryan Mountcastle",
          "Danny Jansen",
          "Wil Myers",
          "Francisco Mejia",
          "Manuel Margot",
          "Brett Gardner",
          "Franmil Reyes",
          "Nick Madrigal",
          "Ian Happ",
          "Brian Anderson",
          "Reese McGuire",
          "Jesus Aguilar",
          "Wilmer Flores",
          "Andrew McCutchen",
          "Ben Gamel",
          "Abraham Toro",
          "Tucker Barnhart",
          "Garrett Cooper",
          "Seth Brown",
          "Donovan Solano",
          "David Peralta",
          "Odubel Herrera",
          "Nick Solak",
          "Bradley Zimmer",
          "Elvis Andrus",
          "Jonah Heim",
          "Brad Miller",
          "Andy Ibanez",
          "Eric Haase",
          "Gio Urshela",
          "Jose Iglesias",
          "Gavin Lux",
          "Brandon Marsh",
          "Yadier Molina",
          "Tom Murphy",
          "Ji-Man Choi",
          "Eddie Rosario",
          "Aledmys Diaz",
          "Jed Lowrie",
          "Jace Peterson",
          "Bryan De La Cruz",
          "Matt Beaty",
          "Corey Dickerson",
          "Michael Conforto",
          "Austin Barnes",
          "Andres Gimenez",
          "Bobby Dalbec",
          "Anthony Rendon",
          "Kevin Pillar",
          "Jesus Sanchez",
          "Trey Mancini",
          "Joc Pederson",
          "Anthony Santander",
          "Eugenio Suarez",
          "Hanser Alberto",
          "Charlie Culberson",
          "Travis d'Arnaud",
          "Ryan Jeffers",
          "Oscar Mercado",
          "Rougned Odor",
          "Jack Mayfield",
          "Kyle Higashioka",
          "Ronald Torreyes",
          "Jorge Alfaro",
          "Ha-seong Kim",
          "Jose Trevino",
          "Taylor Ward",
          "Sam Hilliard",
          "Lane Thomas",
          "Jake Fraley",
          "Wilmer Difo",
          "Tommy La Stella",
          "Dom Nunez",
          "Yonathan Daza",
          "Jeff McNeil",
          "Jorge Mateo",
          "Harold Castro",
          "Garrett Hampson",
          "Guillermo Heredia",
          "Curt Casali",
          "Christian Vazquez",
          "James McCann",
          "Miguel Sano",
          "Luke Voit",
          "Ryan Zimmerman",
          "Chad Pinder",
          "Starlin Castro",
          "Randal Grichuk",
          "Raimel Tapia",
          "D.J. Stewart",
          "Yu Chang",
          "Bobby Bradley",
          "Pavin Smith",
          "Luis Torrens",
          "Alex Kirilloff",
          "Andrew Vaughn",
          "Justin Upton",
          "Victor Reyes",
          "Christian Walker",
          "DJ Peters",
          "Billy McKinney",
          "Sergio Alcantara",
          "Jason Heyward",
          "David Fletcher",
          "Kevin Newman",
          "Yadiel Hernandez",
          "Eloy Jimenez",
          "Ehire Adrianza",
          "Alex Dickerson",
          "Brian Goodwin",
          "Yoshi Tsutsugo",
          "Trevor Larnach",
          "Jon Berti",
          "Dylan Moore",
          "Martin Maldonado",
          "Yermin Mercedes",
          "Daniel Vogelbach",
          "Aristides Aquino",
          "Phil Gosselin",
          "Nick Gordon",
          "Stephen Vogt",
          "Austin Hedges",
          "Eric Hosmer",
          "Harold Ramirez",
          "Asdrubal Cabrera",
          "Niko Goodrum",
          "Didi Gregorius",
          "Nick Ahmed",
          "Pedro Severino",
          "Cavan Biggio",
          "Andrew Stevenson",
          "Eli White",
          "Jorge Soler",
          "Colin Moran",
          "Rowdy Tellez",
          "Albert Pujols",
          "Mitch Moreland",
          "Brent Rooker",
          "Luis Garcia",
          "Hunter Dozier",
          "Travis Shaw",
          "Alec Bohm",
          "Lewis Brinson",
          "Magneuris Sierra",
          "Carlos Santana",
          "Marcell Ozuna",
          "Juan Lagares",
          "Maikel Franco",
          "Adam Eaton",
          "Joshua Fuentes",
          "Matt Carpenter",
          "Brock Holt",
          "Mike Moustakas",
          "Kurt Suzuki",
          "Willi Castro",
          "Dominic Smith",
          "Josh VanMeter",
          "Phillip Evans",
          "Victor Robles",
          "Andrelton Simmons",
          "Josh Naylor",
          "Willie Calhoun",
          "Kelvin Gutierrez",
          "David Bote",
          "Sandy Leon",
          "Miguel Cabrera",
          "Zack Collins",
          "Jurickson Profar",
          "Ryan O'Hearn",
          "Victor Caratini",
          "Carter Kieboom",
          "Jarred Kelenic",
          "Marwin Gonzalez",
          "Isan Diaz",
          "Jake Bauers",
          "Erik Gonzalez",
          "Willians Astudillo",
          "David Dahl",
          "Cody Bellinger",
          "Jackie Bradley Jr.",
          "Clint Frazier",
          "Michael Perez",
          "Pat Valaika",
          "Owen Miller",
          "Gregory Polanco",
          "Joe Panik"
         ],
         "legendgroup": "",
         "marker": {
          "color": [
           6.9,
           6.7,
           6.6,
           6.6,
           6.6,
           6.3,
           6.1,
           5.8,
           5.5,
           5.5,
           5.5,
           5.5,
           5.4,
           5.3,
           5.2,
           5.2,
           5.2,
           5.1,
           5,
           4.9,
           4.9,
           4.9,
           4.9,
           4.8,
           4.7,
           4.6,
           4.5,
           4.5,
           4.5,
           4.4,
           4.4,
           4.4,
           4.4,
           4.3,
           4.2,
           4.2,
           4.2,
           4.2,
           4.2,
           4.1,
           4,
           4,
           3.9,
           3.9,
           3.9,
           3.9,
           3.9,
           3.7,
           3.7,
           3.7,
           3.7,
           3.6,
           3.6,
           3.6,
           3.5,
           3.5,
           3.5,
           3.5,
           3.4,
           3.4,
           3.4,
           3.4,
           3.4,
           3.3,
           3.3,
           3.3,
           3.2,
           3.2,
           3.2,
           3.2,
           3.2,
           3.1,
           3.1,
           3.1,
           3,
           3,
           3,
           2.9,
           2.9,
           2.9,
           2.9,
           2.9,
           2.9,
           2.9,
           2.8,
           2.8,
           2.8,
           2.8,
           2.8,
           2.7,
           2.7,
           2.7,
           2.7,
           2.7,
           2.6,
           2.6,
           2.6,
           2.6,
           2.5,
           2.5,
           2.5,
           2.5,
           2.5,
           2.5,
           2.4,
           2.4,
           2.4,
           2.4,
           2.3,
           2.3,
           2.3,
           2.3,
           2.3,
           2.2,
           2.2,
           2.2,
           2.2,
           2.1,
           2.1,
           2.1,
           2.1,
           2.1,
           2.1,
           2.1,
           2.1,
           2.1,
           2,
           2,
           2,
           2,
           2,
           2,
           2,
           2,
           1.9,
           1.9,
           1.9,
           1.9,
           1.8,
           1.8,
           1.8,
           1.8,
           1.8,
           1.8,
           1.7,
           1.7,
           1.7,
           1.7,
           1.6,
           1.6,
           1.6,
           1.6,
           1.6,
           1.6,
           1.6,
           1.6,
           1.6,
           1.6,
           1.6,
           1.6,
           1.6,
           1.6,
           1.5,
           1.5,
           1.5,
           1.5,
           1.5,
           1.5,
           1.5,
           1.5,
           1.5,
           1.5,
           1.5,
           1.4,
           1.4,
           1.4,
           1.4,
           1.4,
           1.4,
           1.4,
           1.4,
           1.4,
           1.3,
           1.3,
           1.3,
           1.3,
           1.3,
           1.2,
           1.2,
           1.2,
           1.2,
           1.2,
           1.2,
           1.1,
           1.1,
           1.1,
           1.1,
           1.1,
           1.1,
           1.1,
           1.1,
           1.1,
           1,
           1,
           1,
           1,
           1,
           1,
           1,
           1,
           1,
           0.9,
           0.9,
           0.9,
           0.9,
           0.9,
           0.8,
           0.8,
           0.8,
           0.8,
           0.8,
           0.8,
           0.7,
           0.7,
           0.7,
           0.6,
           0.6,
           0.6,
           0.6,
           0.6,
           0.6,
           0.6,
           0.6,
           0.6,
           0.6,
           0.6,
           0.6,
           0.6,
           0.6,
           0.6,
           0.6,
           0.6,
           0.5,
           0.5,
           0.5,
           0.5,
           0.5,
           0.5,
           0.5,
           0.5,
           0.5,
           0.5,
           0.5,
           0.5,
           0.5,
           0.5,
           0.5,
           0.5,
           0.4,
           0.4,
           0.4,
           0.4,
           0.4,
           0.4,
           0.4,
           0.4,
           0.4,
           0.3,
           0.3,
           0.3,
           0.3,
           0.3,
           0.3,
           0.3,
           0.3,
           0.3,
           0.3,
           0.3,
           0.3,
           0.3,
           0.3,
           0.2,
           0.2,
           0.2,
           0.2,
           0.2,
           0.2,
           0.2,
           0.2,
           0.2,
           0.2,
           0.1,
           0.1,
           0.1,
           0.1,
           0.1,
           0.1,
           0.1,
           0,
           0,
           0,
           0,
           0,
           0,
           -0.1,
           -0.1,
           -0.1,
           -0.1,
           -0.2,
           -0.2,
           -0.2,
           -0.2,
           -0.2,
           -0.2,
           -0.2,
           -0.2,
           -0.2,
           -0.2,
           -0.2,
           -0.2,
           -0.3,
           -0.3,
           -0.3,
           -0.3,
           -0.3,
           -0.3,
           -0.3,
           -0.3,
           -0.4,
           -0.4,
           -0.4,
           -0.5,
           -0.5,
           -0.5,
           -0.5,
           -0.5,
           -0.6,
           -0.6,
           -0.6,
           -0.6,
           -0.6,
           -0.7,
           -0.7,
           -0.7,
           -0.7,
           -0.7,
           -0.7,
           -0.7,
           -0.7,
           -0.7,
           -0.7,
           -0.7,
           -0.8,
           -0.8,
           -0.8,
           -0.8,
           -0.9,
           -0.9,
           -1,
           -1.1,
           -1.2,
           -1.2
          ],
          "coloraxis": "coloraxis",
          "line": {
           "width": 2
          },
          "size": 10,
          "symbol": "circle"
         },
         "mode": "markers",
         "name": "",
         "orientation": "v",
         "showlegend": false,
         "type": "scatter",
         "x": [
          7.6,
          -11.1,
          -4.4,
          -4.3,
          10,
          5.8,
          -5.3,
          9.6,
          -4.2,
          -4.4,
          8.6,
          2.6,
          0.9,
          -3.9,
          7.7,
          -1.7,
          1.3,
          -13.6,
          -10.5,
          -3,
          13.8,
          -8.2,
          0.2,
          -6.8,
          -3.6,
          11.1,
          -12.6,
          16.3,
          7.4,
          6.9,
          7.4,
          15.4,
          11.7,
          4.5,
          6.9,
          0.4,
          -7.4,
          -6,
          4.4,
          8.3,
          -0.1,
          7.8,
          -6.9,
          -0.1,
          1.9,
          -3.3,
          9.3,
          2.1,
          0.8,
          -12.5,
          10.9,
          -9.1,
          -6.3,
          4.2,
          4.4,
          -8,
          -6.9,
          9.6,
          -10.3,
          -10.7,
          12.9,
          2,
          10.8,
          -5.4,
          -9.6,
          19.1,
          -7.4,
          -0.1,
          -4.7,
          8.1,
          8.3,
          -10,
          -5,
          8.1,
          -4.9,
          -12.7,
          4.6,
          -1.7,
          -11.4,
          -10.5,
          3.1,
          6.3,
          17.1,
          9.1,
          -10.8,
          -11.2,
          -3.5,
          16.3,
          10.3,
          -3.6,
          0.5,
          -9.5,
          5.2,
          6.3,
          -12.4,
          -9,
          5.7,
          16.4,
          -1.6,
          1.4,
          0.5,
          11,
          4.9,
          8.8,
          -3.1,
          5.4,
          1.7,
          3.1,
          -10.3,
          -4.9,
          3.5,
          0.8,
          8.1,
          -8.5,
          6.6,
          -3.1,
          7,
          -4.4,
          1.9,
          -9.1,
          3.2,
          5.1,
          -0.9,
          3,
          -0.7,
          -2.1,
          -14.3,
          2.8,
          1.1,
          -8,
          -7.6,
          4.9,
          -3.9,
          1.1,
          -5,
          4.7,
          -0.1,
          15.1,
          -8.6,
          4,
          -5.1,
          -0.6,
          5.1,
          3.6,
          0.6,
          5.2,
          3,
          2.5,
          -3.4,
          0.2,
          -4.3,
          3.2,
          -10.1,
          0.7,
          11.7,
          -15.8,
          4.8,
          6.2,
          -3,
          7.3,
          6.2,
          9.1,
          -5.9,
          3,
          -1.7,
          -10.3,
          -5.2,
          4.6,
          -2.8,
          9.8,
          3.5,
          -5.7,
          7.4,
          1.4,
          -12.2,
          -6.3,
          -12.2,
          6.4,
          -9,
          2.5,
          -0.9,
          -1.3,
          -11.2,
          1.3,
          -6.8,
          3.7,
          11.2,
          -8.9,
          -5.3,
          -13.6,
          -1.6,
          2,
          8.6,
          -4.1,
          -0.9,
          -2.3,
          -4.4,
          -1.5,
          0.1,
          1.5,
          6,
          15.6,
          -5.5,
          -0.4,
          -1.8,
          3,
          -0.9,
          -1.8,
          1.8,
          9.6,
          3.9,
          -6.9,
          -5.1,
          1.5,
          -7.5,
          -4.5,
          -2.4,
          -4.3,
          -3.2,
          -10.1,
          6.3,
          4.7,
          -12.3,
          0.6,
          -0.8,
          -4.2,
          -12.7,
          -5.5,
          -5,
          1.6,
          0.4,
          -0.4,
          5.8,
          5.3,
          -0.7,
          0.2,
          3.4,
          7.9,
          7.7,
          6.7,
          6,
          15,
          -5.5,
          -0.5,
          -3.8,
          -8,
          -3,
          -0.4,
          4.9,
          5.2,
          -3.6,
          0.6,
          1.7,
          6.1,
          0.3,
          2.5,
          7.2,
          4.9,
          -18.1,
          -4.2,
          -2.4,
          -2.6,
          -0.9,
          0.6,
          -0.9,
          -6.1,
          -0.9,
          -3.8,
          -9.7,
          -9.5,
          -3.2,
          -5.9,
          -6.2,
          -3.2,
          -5.2,
          2.4,
          3.1,
          3.2,
          3.4,
          1.6,
          12.4,
          -5.1,
          -4.2,
          -3.2,
          -7.1,
          -5.7,
          -3.4,
          -3,
          -1.9,
          -0.4,
          11.9,
          -7.4,
          -3.8,
          -1.6,
          -6.6,
          -0.7,
          3.8,
          13.2,
          -14.9,
          -8.7,
          -1.2,
          -2.6,
          1.8,
          5.5,
          -4.6,
          -4.2,
          -0.3,
          2.5,
          -15.8,
          -8.3,
          -8.2,
          -5.7,
          -6.6,
          -7,
          -3,
          -6.7,
          -2.6,
          -0.2,
          -0.9,
          0.9,
          -10.5,
          -1.3,
          -1.4,
          3,
          -3.4,
          4.2,
          -2.3,
          2,
          -2.9,
          -3.1,
          -3.8,
          -8.6,
          -4.4,
          -4.7,
          1.2,
          5.5,
          -9.6,
          -8,
          -1.7,
          1.2,
          4.4,
          -13,
          -10.8,
          -11.3,
          -4.4,
          -0.9,
          -3.2,
          -8.7,
          0.7,
          -2,
          -3.4,
          1.6,
          -4.4,
          -2,
          1.8,
          10.9,
          -9.3,
          2.5,
          0.8,
          -2.8,
          -11.9,
          -2.4
         ],
         "xaxis": "x",
         "y": [
          142,
          166,
          170,
          163,
          131,
          137,
          156,
          134,
          148,
          142,
          139,
          134,
          145,
          136,
          130,
          137,
          130,
          152,
          146,
          140,
          140,
          138,
          122,
          147,
          134,
          130,
          135,
          134,
          122,
          122,
          116,
          108,
          106,
          120,
          169,
          157,
          140,
          135,
          107,
          119,
          127,
          113,
          132,
          131,
          122,
          122,
          110,
          159,
          147,
          138,
          98,
          140,
          123,
          116,
          137,
          129,
          123,
          100,
          127,
          134,
          110,
          114,
          101,
          158,
          128,
          99,
          148,
          157,
          119,
          98,
          91,
          145,
          113,
          103,
          137,
          133,
          107,
          139,
          128,
          126,
          115,
          109,
          107,
          100,
          127,
          120,
          113,
          99,
          97,
          127,
          111,
          114,
          103,
          99,
          137,
          115,
          106,
          95,
          144,
          127,
          109,
          95,
          99,
          101,
          140,
          103,
          106,
          100,
          127,
          127,
          115,
          91,
          85,
          124,
          115,
          106,
          90,
          152,
          137,
          123,
          109,
          107,
          106,
          111,
          103,
          105,
          122,
          111,
          115,
          107,
          113,
          98,
          102,
          98,
          108,
          109,
          95,
          77,
          114,
          103,
          111,
          103,
          97,
          103,
          123,
          103,
          100,
          94,
          120,
          130,
          117,
          100,
          112,
          115,
          92,
          115,
          104,
          91,
          98,
          93,
          90,
          86,
          107,
          106,
          94,
          105,
          103,
          102,
          101,
          95,
          99,
          102,
          88,
          116,
          118,
          110,
          111,
          105,
          109,
          108,
          95,
          93,
          125,
          113,
          103,
          99,
          78,
          112,
          113,
          107,
          101,
          95,
          81,
          134,
          103,
          105,
          93,
          93,
          89,
          89,
          72,
          60,
          105,
          107,
          100,
          96,
          91,
          91,
          86,
          83,
          87,
          117,
          98,
          99,
          100,
          97,
          115,
          114,
          100,
          106,
          79,
          73,
          107,
          95,
          90,
          116,
          105,
          94,
          92,
          85,
          84,
          85,
          78,
          82,
          85,
          83,
          79,
          71,
          68,
          73,
          70,
          64,
          111,
          85,
          103,
          109,
          95,
          94,
          69,
          75,
          93,
          83,
          83,
          65,
          79,
          82,
          77,
          80,
          110,
          111,
          97,
          97,
          90,
          85,
          76,
          94,
          85,
          99,
          96,
          101,
          93,
          94,
          92,
          88,
          87,
          71,
          73,
          71,
          68,
          70,
          54,
          98,
          101,
          94,
          97,
          94,
          90,
          89,
          79,
          74,
          63,
          102,
          101,
          83,
          87,
          77,
          64,
          40,
          102,
          90,
          82,
          79,
          68,
          64,
          87,
          84,
          69,
          58,
          101,
          98,
          89,
          90,
          93,
          89,
          79,
          82,
          78,
          75,
          74,
          51,
          83,
          73,
          71,
          62,
          70,
          48,
          70,
          62,
          70,
          76,
          69,
          86,
          75,
          73,
          67,
          56,
          90,
          91,
          67,
          64,
          42,
          92,
          90,
          85,
          70,
          72,
          68,
          73,
          58,
          60,
          63,
          50,
          70,
          54,
          48,
          35,
          83,
          38,
          46,
          49,
          71,
          51
         ],
         "yaxis": "y"
        }
       ],
       "layout": {
        "annotations": [
         {
          "font": {
           "color": "black",
           "family": "arial",
           "size": 18
          },
          "showarrow": false,
          "text": "Great Hitting and Defense",
          "x": 16.3,
          "y": 160.55999999999995
         },
         {
          "font": {
           "color": "black",
           "family": "arial",
           "size": 18
          },
          "showarrow": false,
          "text": "Terrible Hitting and Defense",
          "x": -14.534,
          "y": 44.44
         },
         {
          "showarrow": false,
          "text": "Median wRC+",
          "x": 1,
          "xanchor": "right",
          "xref": "x domain",
          "y": 100,
          "yanchor": "top",
          "yref": "y"
         },
         {
          "showarrow": false,
          "text": "Median Def",
          "x": -0.9,
          "xanchor": "left",
          "xref": "x",
          "y": 0,
          "yanchor": "bottom",
          "yref": "y domain"
         }
        ],
        "coloraxis": {
         "colorbar": {
          "title": {
           "text": "WAR"
          }
         },
         "colorscale": [
          [
           0,
           "rgb(0, 155, 158)"
          ],
          [
           0.16666666666666666,
           "rgb(66, 183, 185)"
          ],
          [
           0.3333333333333333,
           "rgb(167, 211, 212)"
          ],
          [
           0.5,
           "rgb(241, 241, 241)"
          ],
          [
           0.6666666666666666,
           "rgb(228, 193, 217)"
          ],
          [
           0.8333333333333334,
           "rgb(214, 145, 193)"
          ],
          [
           1,
           "rgb(199, 93, 171)"
          ]
         ]
        },
        "height": 800,
        "images": [
         {
          "layer": "above",
          "sizex": 15,
          "sizey": 30,
          "source": "data:image/png;base64,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",
          "x": 8,
          "xref": "x",
          "y": 179,
          "yref": "y"
         },
         {
          "layer": "above",
          "sizex": 15,
          "sizey": 30,
          "source": "data:image/png;base64,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",
          "x": -15,
          "xref": "x",
          "y": 76,
          "yref": "y"
         },
         {
          "layer": "above",
          "sizex": 15,
          "sizey": 30,
          "source": "data:image/png;base64,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",
          "x": 17,
          "xref": "x",
          "y": 154,
          "yref": "y"
         },
         {
          "layer": "above",
          "sizex": 15,
          "sizey": 30,
          "source": "data:image/png;base64,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",
          "x": -10,
          "xref": "x",
          "y": 68,
          "yref": "y"
         },
         {
          "layer": "above",
          "sizex": 15,
          "sizey": 30,
          "source": "data:image/png;base64,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",
          "x": -19,
          "xref": "x",
          "y": 145,
          "yref": "y"
         },
         {
          "layer": "above",
          "sizex": 15,
          "sizey": 30,
          "source": "data:image/png;base64,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",
          "x": 18,
          "xref": "x",
          "y": 94,
          "yref": "y"
         },
         {
          "layer": "above",
          "sizex": 15,
          "sizey": 30,
          "source": "data:image/png;base64,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",
          "x": -7,
          "xref": "x",
          "y": 180,
          "yref": "y"
         },
         {
          "layer": "above",
          "sizex": 15,
          "sizey": 30,
          "source": "data:image/png;base64,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",
          "x": -16,
          "xref": "x",
          "y": 172,
          "yref": "y"
         }
        ],
        "legend": {
         "tracegroupgap": 0
        },
        "margin": {
         "t": 60
        },
        "shapes": [
         {
          "layer": "below",
          "line": {
           "color": "LightSeaGreen",
           "dash": "dot",
           "width": 2
          },
          "x0": 5.1800000000000015,
          "x1": 19.1,
          "y0": 122,
          "y1": 170
         },
         {
          "line": {
           "color": "#EF553B",
           "dash": "dot",
           "width": 2
          },
          "x0": -18.1,
          "x1": -6.3,
          "y0": 35,
          "y1": 79
         },
         {
          "line": {
           "dash": "dot"
          },
          "type": "line",
          "x0": 0,
          "x1": 1,
          "xref": "x domain",
          "y0": 100,
          "y1": 100,
          "yref": "y"
         },
         {
          "line": {
           "dash": "dot"
          },
          "type": "line",
          "x0": -0.9,
          "x1": -0.9,
          "xref": "x",
          "y0": 0,
          "y1": 1,
          "yref": "y domain"
         }
        ],
        "template": {
         "data": {
          "bar": [
           {
            "error_x": {
             "color": "#2a3f5f"
            },
            "error_y": {
             "color": "#2a3f5f"
            },
            "marker": {
             "line": {
              "color": "#E5ECF6",
              "width": 0.5
             },
             "pattern": {
              "fillmode": "overlay",
              "size": 10,
              "solidity": 0.2
             }
            },
            "type": "bar"
           }
          ],
          "barpolar": [
           {
            "marker": {
             "line": {
              "color": "#E5ECF6",
              "width": 0.5
             },
             "pattern": {
              "fillmode": "overlay",
              "size": 10,
              "solidity": 0.2
             }
            },
            "type": "barpolar"
           }
          ],
          "carpet": [
           {
            "aaxis": {
             "endlinecolor": "#2a3f5f",
             "gridcolor": "white",
             "linecolor": "white",
             "minorgridcolor": "white",
             "startlinecolor": "#2a3f5f"
            },
            "baxis": {
             "endlinecolor": "#2a3f5f",
             "gridcolor": "white",
             "linecolor": "white",
             "minorgridcolor": "white",
             "startlinecolor": "#2a3f5f"
            },
            "type": "carpet"
           }
          ],
          "choropleth": [
           {
            "colorbar": {
             "outlinewidth": 0,
             "ticks": ""
            },
            "type": "choropleth"
           }
          ],
          "contour": [
           {
            "colorbar": {
             "outlinewidth": 0,
             "ticks": ""
            },
            "colorscale": [
             [
              0,
              "#0d0887"
             ],
             [
              0.1111111111111111,
              "#46039f"
             ],
             [
              0.2222222222222222,
              "#7201a8"
             ],
             [
              0.3333333333333333,
              "#9c179e"
             ],
             [
              0.4444444444444444,
              "#bd3786"
             ],
             [
              0.5555555555555556,
              "#d8576b"
             ],
             [
              0.6666666666666666,
              "#ed7953"
             ],
             [
              0.7777777777777778,
              "#fb9f3a"
             ],
             [
              0.8888888888888888,
              "#fdca26"
             ],
             [
              1,
              "#f0f921"
             ]
            ],
            "type": "contour"
           }
          ],
          "contourcarpet": [
           {
            "colorbar": {
             "outlinewidth": 0,
             "ticks": ""
            },
            "type": "contourcarpet"
           }
          ],
          "heatmap": [
           {
            "colorbar": {
             "outlinewidth": 0,
             "ticks": ""
            },
            "colorscale": [
             [
              0,
              "#0d0887"
             ],
             [
              0.1111111111111111,
              "#46039f"
             ],
             [
              0.2222222222222222,
              "#7201a8"
             ],
             [
              0.3333333333333333,
              "#9c179e"
             ],
             [
              0.4444444444444444,
              "#bd3786"
             ],
             [
              0.5555555555555556,
              "#d8576b"
             ],
             [
              0.6666666666666666,
              "#ed7953"
             ],
             [
              0.7777777777777778,
              "#fb9f3a"
             ],
             [
              0.8888888888888888,
              "#fdca26"
             ],
             [
              1,
              "#f0f921"
             ]
            ],
            "type": "heatmap"
           }
          ],
          "heatmapgl": [
           {
            "colorbar": {
             "outlinewidth": 0,
             "ticks": ""
            },
            "colorscale": [
             [
              0,
              "#0d0887"
             ],
             [
              0.1111111111111111,
              "#46039f"
             ],
             [
              0.2222222222222222,
              "#7201a8"
             ],
             [
              0.3333333333333333,
              "#9c179e"
             ],
             [
              0.4444444444444444,
              "#bd3786"
             ],
             [
              0.5555555555555556,
              "#d8576b"
             ],
             [
              0.6666666666666666,
              "#ed7953"
             ],
             [
              0.7777777777777778,
              "#fb9f3a"
             ],
             [
              0.8888888888888888,
              "#fdca26"
             ],
             [
              1,
              "#f0f921"
             ]
            ],
            "type": "heatmapgl"
           }
          ],
          "histogram": [
           {
            "marker": {
             "pattern": {
              "fillmode": "overlay",
              "size": 10,
              "solidity": 0.2
             }
            },
            "type": "histogram"
           }
          ],
          "histogram2d": [
           {
            "colorbar": {
             "outlinewidth": 0,
             "ticks": ""
            },
            "colorscale": [
             [
              0,
              "#0d0887"
             ],
             [
              0.1111111111111111,
              "#46039f"
             ],
             [
              0.2222222222222222,
              "#7201a8"
             ],
             [
              0.3333333333333333,
              "#9c179e"
             ],
             [
              0.4444444444444444,
              "#bd3786"
             ],
             [
              0.5555555555555556,
              "#d8576b"
             ],
             [
              0.6666666666666666,
              "#ed7953"
             ],
             [
              0.7777777777777778,
              "#fb9f3a"
             ],
             [
              0.8888888888888888,
              "#fdca26"
             ],
             [
              1,
              "#f0f921"
             ]
            ],
            "type": "histogram2d"
           }
          ],
          "histogram2dcontour": [
           {
            "colorbar": {
             "outlinewidth": 0,
             "ticks": ""
            },
            "colorscale": [
             [
              0,
              "#0d0887"
             ],
             [
              0.1111111111111111,
              "#46039f"
             ],
             [
              0.2222222222222222,
              "#7201a8"
             ],
             [
              0.3333333333333333,
              "#9c179e"
             ],
             [
              0.4444444444444444,
              "#bd3786"
             ],
             [
              0.5555555555555556,
              "#d8576b"
             ],
             [
              0.6666666666666666,
              "#ed7953"
             ],
             [
              0.7777777777777778,
              "#fb9f3a"
             ],
             [
              0.8888888888888888,
              "#fdca26"
             ],
             [
              1,
              "#f0f921"
             ]
            ],
            "type": "histogram2dcontour"
           }
          ],
          "mesh3d": [
           {
            "colorbar": {
             "outlinewidth": 0,
             "ticks": ""
            },
            "type": "mesh3d"
           }
          ],
          "parcoords": [
           {
            "line": {
             "colorbar": {
              "outlinewidth": 0,
              "ticks": ""
             }
            },
            "type": "parcoords"
           }
          ],
          "pie": [
           {
            "automargin": true,
            "type": "pie"
           }
          ],
          "scatter": [
           {
            "marker": {
             "colorbar": {
              "outlinewidth": 0,
              "ticks": ""
             }
            },
            "type": "scatter"
           }
          ],
          "scatter3d": [
           {
            "line": {
             "colorbar": {
              "outlinewidth": 0,
              "ticks": ""
             }
            },
            "marker": {
             "colorbar": {
              "outlinewidth": 0,
              "ticks": ""
             }
            },
            "type": "scatter3d"
           }
          ],
          "scattercarpet": [
           {
            "marker": {
             "colorbar": {
              "outlinewidth": 0,
              "ticks": ""
             }
            },
            "type": "scattercarpet"
           }
          ],
          "scattergeo": [
           {
            "marker": {
             "colorbar": {
              "outlinewidth": 0,
              "ticks": ""
             }
            },
            "type": "scattergeo"
           }
          ],
          "scattergl": [
           {
            "marker": {
             "colorbar": {
              "outlinewidth": 0,
              "ticks": ""
             }
            },
            "type": "scattergl"
           }
          ],
          "scattermapbox": [
           {
            "marker": {
             "colorbar": {
              "outlinewidth": 0,
              "ticks": ""
             }
            },
            "type": "scattermapbox"
           }
          ],
          "scatterpolar": [
           {
            "marker": {
             "colorbar": {
              "outlinewidth": 0,
              "ticks": ""
             }
            },
            "type": "scatterpolar"
           }
          ],
          "scatterpolargl": [
           {
            "marker": {
             "colorbar": {
              "outlinewidth": 0,
              "ticks": ""
             }
            },
            "type": "scatterpolargl"
           }
          ],
          "scatterternary": [
           {
            "marker": {
             "colorbar": {
              "outlinewidth": 0,
              "ticks": ""
             }
            },
            "type": "scatterternary"
           }
          ],
          "surface": [
           {
            "colorbar": {
             "outlinewidth": 0,
             "ticks": ""
            },
            "colorscale": [
             [
              0,
              "#0d0887"
             ],
             [
              0.1111111111111111,
              "#46039f"
             ],
             [
              0.2222222222222222,
              "#7201a8"
             ],
             [
              0.3333333333333333,
              "#9c179e"
             ],
             [
              0.4444444444444444,
              "#bd3786"
             ],
             [
              0.5555555555555556,
              "#d8576b"
             ],
             [
              0.6666666666666666,
              "#ed7953"
             ],
             [
              0.7777777777777778,
              "#fb9f3a"
             ],
             [
              0.8888888888888888,
              "#fdca26"
             ],
             [
              1,
              "#f0f921"
             ]
            ],
            "type": "surface"
           }
          ],
          "table": [
           {
            "cells": {
             "fill": {
              "color": "#EBF0F8"
             },
             "line": {
              "color": "white"
             }
            },
            "header": {
             "fill": {
              "color": "#C8D4E3"
             },
             "line": {
              "color": "white"
             }
            },
            "type": "table"
           }
          ]
         },
         "layout": {
          "annotationdefaults": {
           "arrowcolor": "#2a3f5f",
           "arrowhead": 0,
           "arrowwidth": 1
          },
          "autotypenumbers": "strict",
          "coloraxis": {
           "colorbar": {
            "outlinewidth": 0,
            "ticks": ""
           }
          },
          "colorscale": {
           "diverging": [
            [
             0,
             "#8e0152"
            ],
            [
             0.1,
             "#c51b7d"
            ],
            [
             0.2,
             "#de77ae"
            ],
            [
             0.3,
             "#f1b6da"
            ],
            [
             0.4,
             "#fde0ef"
            ],
            [
             0.5,
             "#f7f7f7"
            ],
            [
             0.6,
             "#e6f5d0"
            ],
            [
             0.7,
             "#b8e186"
            ],
            [
             0.8,
             "#7fbc41"
            ],
            [
             0.9,
             "#4d9221"
            ],
            [
             1,
             "#276419"
            ]
           ],
           "sequential": [
            [
             0,
             "#0d0887"
            ],
            [
             0.1111111111111111,
             "#46039f"
            ],
            [
             0.2222222222222222,
             "#7201a8"
            ],
            [
             0.3333333333333333,
             "#9c179e"
            ],
            [
             0.4444444444444444,
             "#bd3786"
            ],
            [
             0.5555555555555556,
             "#d8576b"
            ],
            [
             0.6666666666666666,
             "#ed7953"
            ],
            [
             0.7777777777777778,
             "#fb9f3a"
            ],
            [
             0.8888888888888888,
             "#fdca26"
            ],
            [
             1,
             "#f0f921"
            ]
           ],
           "sequentialminus": [
            [
             0,
             "#0d0887"
            ],
            [
             0.1111111111111111,
             "#46039f"
            ],
            [
             0.2222222222222222,
             "#7201a8"
            ],
            [
             0.3333333333333333,
             "#9c179e"
            ],
            [
             0.4444444444444444,
             "#bd3786"
            ],
            [
             0.5555555555555556,
             "#d8576b"
            ],
            [
             0.6666666666666666,
             "#ed7953"
            ],
            [
             0.7777777777777778,
             "#fb9f3a"
            ],
            [
             0.8888888888888888,
             "#fdca26"
            ],
            [
             1,
             "#f0f921"
            ]
           ]
          },
          "colorway": [
           "#636efa",
           "#EF553B",
           "#00cc96",
           "#ab63fa",
           "#FFA15A",
           "#19d3f3",
           "#FF6692",
           "#B6E880",
           "#FF97FF",
           "#FECB52"
          ],
          "font": {
           "color": "#2a3f5f"
          },
          "geo": {
           "bgcolor": "white",
           "lakecolor": "white",
           "landcolor": "#E5ECF6",
           "showlakes": true,
           "showland": true,
           "subunitcolor": "white"
          },
          "hoverlabel": {
           "align": "left"
          },
          "hovermode": "closest",
          "mapbox": {
           "style": "light"
          },
          "paper_bgcolor": "white",
          "plot_bgcolor": "#E5ECF6",
          "polar": {
           "angularaxis": {
            "gridcolor": "white",
            "linecolor": "white",
            "ticks": ""
           },
           "bgcolor": "#E5ECF6",
           "radialaxis": {
            "gridcolor": "white",
            "linecolor": "white",
            "ticks": ""
           }
          },
          "scene": {
           "xaxis": {
            "backgroundcolor": "#E5ECF6",
            "gridcolor": "white",
            "gridwidth": 2,
            "linecolor": "white",
            "showbackground": true,
            "ticks": "",
            "zerolinecolor": "white"
           },
           "yaxis": {
            "backgroundcolor": "#E5ECF6",
            "gridcolor": "white",
            "gridwidth": 2,
            "linecolor": "white",
            "showbackground": true,
            "ticks": "",
            "zerolinecolor": "white"
           },
           "zaxis": {
            "backgroundcolor": "#E5ECF6",
            "gridcolor": "white",
            "gridwidth": 2,
            "linecolor": "white",
            "showbackground": true,
            "ticks": "",
            "zerolinecolor": "white"
           }
          },
          "shapedefaults": {
           "line": {
            "color": "#2a3f5f"
           }
          },
          "ternary": {
           "aaxis": {
            "gridcolor": "white",
            "linecolor": "white",
            "ticks": ""
           },
           "baxis": {
            "gridcolor": "white",
            "linecolor": "white",
            "ticks": ""
           },
           "bgcolor": "#E5ECF6",
           "caxis": {
            "gridcolor": "white",
            "linecolor": "white",
            "ticks": ""
           }
          },
          "title": {
           "x": 0.05
          },
          "xaxis": {
           "automargin": true,
           "gridcolor": "white",
           "linecolor": "white",
           "ticks": "",
           "title": {
            "standoff": 15
           },
           "zerolinecolor": "white",
           "zerolinewidth": 2
          },
          "yaxis": {
           "automargin": true,
           "gridcolor": "white",
           "linecolor": "white",
           "ticks": "",
           "title": {
            "standoff": 15
           },
           "zerolinecolor": "white",
           "zerolinewidth": 2
          }
         }
        },
        "width": 1800,
        "xaxis": {
         "anchor": "y",
         "domain": [
          0,
          1
         ],
         "nticks": 40,
         "title": {
          "text": "Def"
         }
        },
        "yaxis": {
         "anchor": "x",
         "domain": [
          0,
          1
         ],
         "nticks": 20,
         "title": {
          "text": "wRC+"
         }
        }
       }
      }
     },
     "metadata": {},
     "output_type": "display_data"
    }
   ],
   "source": [
    "fig1 = px.scatter(\n",
    "    plot_df, x=\"Def\", y=\"wRC+\",\n",
    "    color=\"WAR\",\n",
    "    hover_name=\"Name\",\n",
    "    hover_data=[\"PA\"],\n",
    "    color_continuous_scale=px.colors.diverging.Tropic,\n",
    "    width=1800, height=800,\n",
    "\n",
    ")\n",
    "\n",
    "fig1.update_traces(marker_line_width=2, marker_size=10)\n",
    "fig1.update_yaxes(nticks=20)\n",
    "fig1.update_xaxes(nticks=40)\n",
    "\n",
    "# Good hitting and defense\n",
    "fig1.add_shape(\n",
    "    x0=plot_df[\"Def\"].quantile(q=0.8), \n",
    "    y0=plot_df[\"wRC+\"].quantile(q=0.8),\n",
    "    x1=plot_df[\"Def\"].quantile(q=1),\n",
    "    y1=plot_df[\"wRC+\"].quantile(q=1),\n",
    "    line=dict(color=\"LightSeaGreen\", width=2, dash=\"dot\"),\n",
    "    layer='below'\n",
    ")\n",
    "fig1.add_annotation(\n",
    "    x=plot_df[\"Def\"].quantile(q=0.99),\n",
    "    y=plot_df[\"wRC+\"].quantile(q=.99),\n",
    "    text=\"Great Hitting and Defense\",\n",
    "    showarrow=False,\n",
    "    font=dict(\n",
    "        family=\"arial\",\n",
    "        size=18,\n",
    "        color=\"black\"\n",
    "    )\n",
    "    )\n",
    "\n",
    "# Bad hitting and defense\n",
    "fig1.add_shape(\n",
    "    x0=plot_df[\"Def\"].quantile(q=0), \n",
    "    y0=plot_df[\"wRC+\"].quantile(q=0),\n",
    "    x1=plot_df[\"Def\"].quantile(q=0.2),\n",
    "    y1=plot_df[\"wRC+\"].quantile(q=0.2),\n",
    "    line=dict(color=\"#EF553B\", width=2, dash=\"dot\")\n",
    ")\n",
    "fig1.add_annotation(\n",
    "    x=plot_df[\"Def\"].quantile(q=0.01), \n",
    "    y=plot_df[\"wRC+\"].quantile(q=0.01),\n",
    "    text=\"Terrible Hitting and Defense\",\n",
    "    showarrow=False,\n",
    "    font=dict(\n",
    "        family=\"arial\",\n",
    "        size=18,\n",
    "        color=\"black\"\n",
    "    )\n",
    "    )\n",
    "\n",
    "\n",
    "# Medians\n",
    "fig1.add_hline(y=np.median(df[\"wRC+\"]), line_dash=\"dot\", row=\"all\", col=\"all\",\n",
    "              annotation_text=\"Median wRC+\", \n",
    "              annotation_position=\"bottom right\")\n",
    "\n",
    "fig1.add_vline(x=np.median(df[\"Def\"]), line_dash=\"dot\", row=\"all\", col=\"all\",\n",
    "              annotation_text=\"Median Def\", \n",
    "              annotation_position=\"bottom right\")\n",
    "\n",
    "\n",
    "def add_player_image(player_name:str, x_adjustment:int, y_adjustment:int):\n",
    "    image = Image.open(f'notable_faces/{player_name}.jpg')\n",
    "    fig1.add_layout_image(dict(\n",
    "        source=image, \n",
    "        xref='x',\n",
    "        yref='y',\n",
    "        x=int(plot_df.loc[(plot_df['Name'] == f'{player_name}')][\"Def\"] + x_adjustment), \n",
    "        y=int(plot_df.loc[(plot_df['Name'] == f'{player_name}')][\"wRC+\"] + y_adjustment),\n",
    "        sizex=15,\n",
    "        sizey=30, \n",
    "        layer='above'\n",
    "    ))\n",
    "# Adding Notable PLayer faces\n",
    "# Buxton\n",
    "add_player_image('Byron Buxton', 2, 10)\n",
    "# Polanco\n",
    "add_player_image('Gregory Polanco', -4, 5)\n",
    "#Zunino\n",
    "add_player_image('Mike Zunino', 1, 20)\n",
    "# Kelenic\n",
    "add_player_image('Jarred Kelenic', -2, -5)\n",
    "# Sano\n",
    "add_player_image('Miguel Sano', -1, 35)\n",
    "# Murphy\n",
    "add_player_image('Sean Murphy', -1, -5)\n",
    "# Harper\n",
    "add_player_image('Bryce Harper', -3, 10)\n",
    "# Ohtani\n",
    "add_player_image('Shohei Ohtani', -3, 20)\n",
    "\n",
    "\n",
    "fig1\n"
   ]
  }
 ],
 "metadata": {
  "interpreter": {
   "hash": "e6b428eeda3673c7e49e56af820d0902d8cb06ad67f7949d7ea2ec9ed66f2e23"
  },
  "kernelspec": {
   "display_name": "Python 3.9.7 64-bit ('baseball_analytics_env': conda)",
   "language": "python",
   "name": "python3"
  },
  "language_info": {
   "codemirror_mode": {
    "name": "ipython",
    "version": 3
   },
   "file_extension": ".py",
   "mimetype": "text/x-python",
   "name": "python",
   "nbconvert_exporter": "python",
   "pygments_lexer": "ipython3",
   "version": "3.9.7"
  },
  "orig_nbformat": 4
 },
 "nbformat": 4,
 "nbformat_minor": 2
}
